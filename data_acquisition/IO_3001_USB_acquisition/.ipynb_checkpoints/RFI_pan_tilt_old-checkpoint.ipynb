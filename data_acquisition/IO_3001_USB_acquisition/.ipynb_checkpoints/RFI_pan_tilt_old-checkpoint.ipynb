{
 "cells": [
  {
   "cell_type": "code",
   "execution_count": 1,
   "metadata": {
    "collapsed": false
   },
   "outputs": [
    {
     "name": "stdout",
     "output_type": "stream",
     "text": [
      "Using matplotlib backend: Qt4Agg\n",
      "Populating the interactive namespace from numpy and matplotlib\n"
     ]
    }
   ],
   "source": [
    "import numpy as np\n",
    "import time\n",
    "import serial\n",
    "import sys\n",
    "import os\n",
    "sys.path.append('C:\\software_git_repos\\cofe-python-analysis-tools\\utils_meinhold')\n",
    "sys.path.append('C:\\software_git_repos\\cofe-python-analysis-tools\\utils_zonca')\n",
    "sys.path.append('C:\\software_git_repos\\cofe-python-analysis-tools\\utils_zonca\\demod')\n",
    "import cofe_util as cu\n",
    "sys.path.append('C:\\\\Anaconda3\\\\envs\\\\py27\\\\Scripts')\n",
    "import h5py\n",
    "%pylab"
   ]
  },
  {
   "cell_type": "code",
   "execution_count": 2,
   "metadata": {
    "collapsed": true
   },
   "outputs": [],
   "source": [
    "import serial\n",
    "import serial.tools.list_ports\n",
    "from serial.serialutil import SerialException\n",
    "reso=(46.2857/3600) #degrees per count"
   ]
  },
  {
   "cell_type": "code",
   "execution_count": 55,
   "metadata": {
    "collapsed": true
   },
   "outputs": [],
   "source": [
    "def pt_command(ser,cmd):\n",
    "    #function to send command to pan tilt unit on serial port ser and read back the result\n",
    "    #ser.flushOutput()\n",
    "    #ser.flushInput()\n",
    "    ser.write(cmd+'\\n')\n",
    "    a=ser.readline()\n",
    "    return a"
   ]
  },
  {
   "cell_type": "code",
   "execution_count": 4,
   "metadata": {
    "collapsed": true
   },
   "outputs": [],
   "source": [
    "def pt_get_az(ser):\n",
    "    reso=(46.2857/3600) #degrees per count\n",
    "    azoff=0.0\n",
    "    az=float(str.split(pt_command(ser,'pp'))[-1])\n",
    "    return az*reso + azoff"
   ]
  },
  {
   "cell_type": "code",
   "execution_count": 95,
   "metadata": {
    "collapsed": true
   },
   "outputs": [],
   "source": [
    "def pt_get_el(ser):\n",
    "    reso=(46.2857/3600) #degrees per count\n",
    "    eloff=30.0\n",
    "    el=-float(str.split(pt_command(ser,'tp'))[-1])\n",
    "    return el*reso + eloff"
   ]
  },
  {
   "cell_type": "code",
   "execution_count": 97,
   "metadata": {
    "collapsed": false
   },
   "outputs": [
    {
     "data": {
      "text/plain": [
       "20.010003083333334"
      ]
     },
     "execution_count": 97,
     "metadata": {},
     "output_type": "execute_result"
    }
   ],
   "source": [
    "pt_set_el(ser,20)"
   ]
  },
  {
   "cell_type": "code",
   "execution_count": 85,
   "metadata": {
    "collapsed": false
   },
   "outputs": [],
   "source": [
    "def pt_set_az(ser,az,wait=True):\n",
    "    \"\"\"\n",
    "    function moves to given az, if wait=True, reads back position and waits until it's constant and returns\n",
    "    measured position. If wait!=True, returns requested az\n",
    "    \"\"\"\n",
    "    reso=(46.2857/3600) #degrees per count\n",
    "    azoff=0.0\n",
    "    last_az=pt_get_az(ser)\n",
    "    azcounts=int((az-azoff)/reso)\n",
    "    ret=pt_command(ser,'pp'+str(azcounts))\n",
    "    if wait:\n",
    "        curr_az=pt_get_az(ser)\n",
    "        while(last_az != curr_az):\n",
    "            last_az=curr_az\n",
    "            curr_az=pt_get_az(ser)\n",
    "    elif not(wait):\n",
    "        curr_az=az\n",
    "    return curr_az"
   ]
  },
  {
   "cell_type": "code",
   "execution_count": 92,
   "metadata": {
    "collapsed": false
   },
   "outputs": [],
   "source": [
    "def pt_set_el(ser,el,wait=True):\n",
    "    \"\"\"\n",
    "    function moves to given el, if wait=True, reads back position and waits until it's constant and returns\n",
    "    measured position. If wait!=True, returns requested el\n",
    "    \"\"\"\n",
    "    reso=(46.2857/3600) #degrees per count\n",
    "    eloff=30.0\n",
    "    last_el=pt_get_el(ser)\n",
    "    elcounts=-int((el-eloff)/reso)\n",
    "    ret=pt_command(ser,'tp'+str(elcounts))\n",
    "    if wait:\n",
    "        curr_el=pt_get_el(ser)\n",
    "        while(last_el != curr_el):\n",
    "            last_el=curr_el\n",
    "            curr_el=pt_get_el(ser)\n",
    "    elif not(wait):\n",
    "        curr_el=el\n",
    "    return curr_el"
   ]
  },
  {
   "cell_type": "code",
   "execution_count": 60,
   "metadata": {
    "collapsed": true
   },
   "outputs": [],
   "source": [
    "#def pt_set_el(ser,el):\n",
    "    ser.flushInput()\n",
    "    ser.flushOutput()\n",
    "    reso=(46.2857/3600) #degrees per count\n",
    "    eloff=30.0\n",
    "    elcounts=-int((el-eloff)/reso)\n",
    "    cmd='tp'+str(elcounts)\n",
    "    print(cmd)\n",
    "    ret=pt_command(ser,cmd)\n",
    "    return ret"
   ]
  },
  {
   "cell_type": "code",
   "execution_count": 9,
   "metadata": {
    "collapsed": true
   },
   "outputs": [],
   "source": [
    "def check_serial_connection():\n",
    "    \"\"\"\n",
    "    :return: serial port number if connected, -1 if not\n",
    "    \"\"\"\n",
    "\n",
    "    # get a list of com ports:\n",
    "    comportList = list(serial.tools.list_ports.comports())\n",
    "\n",
    "\n",
    "    if len(comportList) != 0:  # the list of comports isn't empty\n",
    "        try:\n",
    "            ser = openport(com=comportList[0][0])  # assume 1 and only 1 port is functional\n",
    "            return ser\n",
    "        except SerialException:\n",
    "            return -1\n",
    "    else:  # the list of comports is empty\n",
    "        return -1"
   ]
  },
  {
   "cell_type": "code",
   "execution_count": 10,
   "metadata": {
    "collapsed": true
   },
   "outputs": [],
   "source": [
    "def openport(com=\"com19\"):\n",
    "    \"\"\"wrap the serial port open function\"\"\"\n",
    "    ser=serial.Serial(com,9600,timeout=2)\n",
    "    return ser"
   ]
  },
  {
   "cell_type": "code",
   "execution_count": 11,
   "metadata": {
    "collapsed": true
   },
   "outputs": [],
   "source": [
    "def closeport(ser):\n",
    "    \"\"\"wrap the serial port close function\"\"\"\n",
    "    serial.Serial.close(ser)\n",
    "    return"
   ]
  },
  {
   "cell_type": "code",
   "execution_count": 12,
   "metadata": {
    "collapsed": true
   },
   "outputs": [],
   "source": [
    "def get_date_filename(labelstring=''):\n",
    "    #version for testing adds an optional string to identify tests\n",
    "    now=time.localtime()[0:6]\n",
    "    #dirfmt = \"c:\\\\cofe\\\\ground_data\\\\testdata\\\\%4d_%02d_%02d\"\n",
    "    dirfmt = \"C:\\\\COFE\\\\RFI_pan_tilt\\\\data\\\\%4d_%02d_%02d\"\n",
    "    dirname = dirfmt % now[0:3]\n",
    "    filefmt = \"%02d_%02d_%02d.h5\"\n",
    "    filename= labelstring+filefmt % now[3:6]\n",
    "    ffilename=os.path.join(dirname,filename)\n",
    "    if not os.path.exists(dirname):\n",
    "        os.mkdir(dirname)\n",
    "    return(ffilename)"
   ]
  },
  {
   "cell_type": "code",
   "execution_count": 13,
   "metadata": {
    "collapsed": false
   },
   "outputs": [],
   "source": [
    "ser=check_serial_connection()"
   ]
  },
  {
   "cell_type": "code",
   "execution_count": 71,
   "metadata": {
    "collapsed": false
   },
   "outputs": [
    {
     "data": {
      "text/plain": [
       "'*\\r\\n'"
      ]
     },
     "execution_count": 71,
     "metadata": {},
     "output_type": "execute_result"
    }
   ],
   "source": [
    "pt_set_az(ser,0)"
   ]
  },
  {
   "cell_type": "code",
   "execution_count": 70,
   "metadata": {
    "collapsed": false
   },
   "outputs": [
    {
     "data": {
      "text/plain": [
       "329.9913267222222"
      ]
     },
     "execution_count": 70,
     "metadata": {},
     "output_type": "execute_result"
    }
   ],
   "source": [
    "pt_get_az(ser)"
   ]
  },
  {
   "cell_type": "code",
   "execution_count": 33,
   "metadata": {
    "collapsed": false
   },
   "outputs": [
    {
     "name": "stdout",
     "output_type": "stream",
     "text": [
      "(0, 0.0)\n",
      "(30, 0.0)\n",
      "(60, 0.0)\n",
      "(90, 0.0)\n",
      "(120, 0.0)\n",
      "(150, 0.0)\n",
      "(180, 0.0)\n",
      "(210, 0.0)\n",
      "(240, 0.0)\n",
      "(270, 0.0)\n",
      "(300, 0.0)\n",
      "(330, 0.0)\n",
      "(0, 30.0)\n",
      "(30, 30.0)\n",
      "(60, 30.0)\n",
      "(90, 30.0)\n",
      "(120, 30.0)\n",
      "(150, 30.0)\n",
      "(180, 30.0)\n",
      "(210, 30.0)\n",
      "(240, 30.0)\n",
      "(270, 30.0)\n",
      "(300, 30.0)\n",
      "(330, 30.0)\n",
      "(0, 60.0)\n",
      "(30, 60.0)\n",
      "(60, 60.0)\n",
      "(90, 60.0)\n",
      "(120, 60.0)\n",
      "(150, 60.0)\n",
      "(180, 60.0)\n",
      "(210, 60.0)\n",
      "(240, 60.0)\n",
      "(270, 60.0)\n",
      "(300, 60.0)\n",
      "(330, 60.0)\n",
      "(0, 90.0)\n",
      "(30, 90.0)\n",
      "(60, 90.0)\n",
      "(90, 90.0)\n",
      "(120, 90.0)\n",
      "(150, 90.0)\n",
      "(180, 90.0)\n",
      "(210, 90.0)\n",
      "(240, 90.0)\n",
      "(270, 90.0)\n",
      "(300, 90.0)\n",
      "(330, 90.0)\n"
     ]
    }
   ],
   "source": [
    "azstep=30 #degrees\n",
    "elstep=30 \n",
    "azlimx=360 \n",
    "azlimn=0\n",
    "ellimx=90\n",
    "ellimn=0 \n",
    "for el in linspace(0,90,num=4):\n",
    "    el=min(el,ellimx)\n",
    "    el=max(el,ellimn)\n",
    "    #print('el',el)\n",
    "    for az in arange(0,360,30):\n",
    "        az=min(az,azlimx)\n",
    "        az=max(az,azlimn) \n",
    "        print(az,el)"
   ]
  },
  {
   "cell_type": "code",
   "execution_count": 23,
   "metadata": {
    "collapsed": false
   },
   "outputs": [
    {
     "data": {
      "text/plain": [
       "23"
      ]
     },
     "execution_count": 23,
     "metadata": {},
     "output_type": "execute_result"
    }
   ],
   "source": [
    "min(23,45)"
   ]
  },
  {
   "cell_type": "code",
   "execution_count": null,
   "metadata": {
    "collapsed": true
   },
   "outputs": [],
   "source": []
  },
  {
   "cell_type": "code",
   "execution_count": null,
   "metadata": {
    "collapsed": true
   },
   "outputs": [],
   "source": []
  },
  {
   "cell_type": "code",
   "execution_count": 14,
   "metadata": {
    "collapsed": false
   },
   "outputs": [
    {
     "data": {
      "text/plain": [
       "'*\\r\\n'"
      ]
     },
     "execution_count": 14,
     "metadata": {},
     "output_type": "execute_result"
    }
   ],
   "source": [
    "pt_set_az(ser,50)"
   ]
  },
  {
   "cell_type": "code",
   "execution_count": 20,
   "metadata": {
    "collapsed": false
   },
   "outputs": [
    {
     "data": {
      "text/plain": [
       "'*\\r\\n'"
      ]
     },
     "execution_count": 20,
     "metadata": {},
     "output_type": "execute_result"
    }
   ],
   "source": [
    "pt_set_el(ser,25)"
   ]
  },
  {
   "cell_type": "code",
   "execution_count": 21,
   "metadata": {
    "collapsed": false
   },
   "outputs": [
    {
     "data": {
      "text/plain": [
       "24.994277999999998"
      ]
     },
     "execution_count": 21,
     "metadata": {},
     "output_type": "execute_result"
    }
   ],
   "source": [
    "pt_get_el(ser)"
   ]
  },
  {
   "cell_type": "code",
   "execution_count": 28,
   "metadata": {
    "collapsed": false
   },
   "outputs": [
    {
     "name": "stdout",
     "output_type": "stream",
     "text": [
      "*\r\n",
      "\n"
     ]
    },
    {
     "data": {
      "text/plain": [
       "<matplotlib.figure.Figure at 0x16817208>"
      ]
     },
     "execution_count": 28,
     "metadata": {},
     "output_type": "execute_result"
    }
   ],
   "source": [
    "#ser.write(\"\\n\")\n",
    "ser.write(\"pp6000\\n\")\n",
    "a=ser.readline()\n",
    "print(a)\n",
    "p=[]\n",
    "for i in range(200):\n",
    "    ser.write(\"pp\\n\")\n",
    "    p.append(int(str.split(ser.readline(),' ')[-1]))\n",
    "\n"
   ]
  },
  {
   "cell_type": "code",
   "execution_count": 29,
   "metadata": {
    "collapsed": false
   },
   "outputs": [
    {
     "data": {
      "text/plain": [
       "[<matplotlib.lines.Line2D at 0x169e0dd8>]"
      ]
     },
     "execution_count": 29,
     "metadata": {},
     "output_type": "execute_result"
    }
   ],
   "source": [
    "plot(p)"
   ]
  },
  {
   "cell_type": "code",
   "execution_count": 49,
   "metadata": {
    "collapsed": false
   },
   "outputs": [],
   "source": [
    "closeport(ser)"
   ]
  }
 ],
 "metadata": {
  "kernelspec": {
   "display_name": "Python 2",
   "language": "python",
   "name": "python2"
  },
  "language_info": {
   "codemirror_mode": {
    "name": "ipython",
    "version": 2
   },
   "file_extension": ".py",
   "mimetype": "text/x-python",
   "name": "python",
   "nbconvert_exporter": "python",
   "pygments_lexer": "ipython2",
   "version": "2.7.11"
  }
 },
 "nbformat": 4,
 "nbformat_minor": 0
}
