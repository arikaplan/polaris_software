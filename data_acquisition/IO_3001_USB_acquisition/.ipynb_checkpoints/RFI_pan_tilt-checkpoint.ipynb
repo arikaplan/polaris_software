{
 "cells": [
  {
   "cell_type": "code",
   "execution_count": 1,
   "metadata": {
    "collapsed": false
   },
   "outputs": [
    {
     "name": "stdout",
     "output_type": "stream",
     "text": [
      "Using matplotlib backend: Qt4Agg\n",
      "Populating the interactive namespace from numpy and matplotlib\n"
     ]
    }
   ],
   "source": [
    "import numpy as np\n",
    "import time\n",
    "import serial\n",
    "import sys\n",
    "import os\n",
    "sys.path.append('C:\\software_git_repos\\cofe-python-analysis-tools\\utils_meinhold')\n",
    "sys.path.append('C:\\software_git_repos\\cofe-python-analysis-tools\\utils_zonca')\n",
    "sys.path.append('C:\\software_git_repos\\cofe-python-analysis-tools\\utils_zonca\\demod')\n",
    "import cofe_util as cu\n",
    "sys.path.append('C:\\\\Anaconda3\\\\envs\\\\py27\\\\Scripts')\n",
    "import h5py\n",
    "#%pylab\n",
    "from time import sleep\n",
    "import serial\n",
    "import serial.tools.list_ports\n",
    "from serial.serialutil import SerialException\n",
    "reso=(46.2857/3600) #degrees per count"
   ]
  },
  {
   "cell_type": "code",
   "execution_count": 4,
   "metadata": {
    "collapsed": true
   },
   "outputs": [],
   "source": [
    "def pt_command(ser,cmd):\n",
    "    #function to send command to pan tilt unit on serial port ser and read back the result\n",
    "    #ser.flushOutput()\n",
    "    #ser.flushInput()\n",
    "    ser.write(cmd+'\\n')\n",
    "    a=ser.readline()\n",
    "    return a"
   ]
  },
  {
   "cell_type": "code",
   "execution_count": 5,
   "metadata": {
    "collapsed": true
   },
   "outputs": [],
   "source": [
    "def pt_get_az(ser):\n",
    "    reso=(46.2857/3600) #degrees per count\n",
    "    azoff=0.0\n",
    "    az=float(str.split(pt_command(ser,'pp'))[-1])\n",
    "    return az*reso + azoff"
   ]
  },
  {
   "cell_type": "code",
   "execution_count": 8,
   "metadata": {
    "collapsed": true
   },
   "outputs": [],
   "source": [
    "def pt_get_el(ser):\n",
    "    reso=(46.2857/3600) #degrees per count\n",
    "    eloff=32.7\n",
    "    el=-float(str.split(pt_command(ser,'tp'))[-1])\n",
    "    return el*reso + eloff"
   ]
  },
  {
   "cell_type": "code",
   "execution_count": 61,
   "metadata": {
    "collapsed": false
   },
   "outputs": [],
   "source": [
    "def pt_set_az(ser,az,wait=True):\n",
    "    \"\"\"\n",
    "    function moves to given az, if wait=True, reads back position and waits until it's constant and returns\n",
    "    measured position. If wait!=True, returns requested az\n",
    "    \"\"\"\n",
    "    reso=(46.2857/3600) #degrees per count\n",
    "    azoff=0.0\n",
    "    last_az=pt_get_az(ser)\n",
    "    azcounts=int((az-azoff)/reso)\n",
    "    ret=pt_command(ser,'pp'+str(azcounts))\n",
    "    #print('pt_command returns',ret)\n",
    "    if wait:\n",
    "        sleep(.1)\n",
    "        curr_az=pt_get_az(ser)\n",
    "        while(last_az != curr_az):\n",
    "            last_az=curr_az\n",
    "            curr_az=pt_get_az(ser)\n",
    "    elif not(wait):\n",
    "        curr_az=az\n",
    "    return curr_az"
   ]
  },
  {
   "cell_type": "code",
   "execution_count": 62,
   "metadata": {
    "collapsed": false
   },
   "outputs": [],
   "source": [
    "def pt_set_el(ser,el,wait=True):\n",
    "    \"\"\"\n",
    "    function moves to given el, if wait=True, reads back position and waits until it's constant and returns\n",
    "    measured position. If wait!=True, returns requested el\n",
    "    \"\"\"\n",
    "    reso=(46.2857/3600) #degrees per count\n",
    "    eloff=32.7\n",
    "    last_el=pt_get_el(ser)\n",
    "    elcounts=-int((el-eloff)/reso)\n",
    "    ret=pt_command(ser,'tp'+str(elcounts))\n",
    "    #print('pt_command returns',ret)\n",
    "    if wait:\n",
    "        sleep(.1)\n",
    "        curr_el=pt_get_el(ser)\n",
    "        while(last_el != curr_el):\n",
    "            last_el=curr_el\n",
    "            curr_el=pt_get_el(ser)\n",
    "    elif not(wait):\n",
    "        curr_el=el\n",
    "    return curr_el"
   ]
  },
  {
   "cell_type": "code",
   "execution_count": 12,
   "metadata": {
    "collapsed": true
   },
   "outputs": [],
   "source": [
    "def check_serial_connection():\n",
    "    \"\"\"\n",
    "    :return: serial port number if connected, -1 if not\n",
    "    \"\"\"\n",
    "\n",
    "    # get a list of com ports:\n",
    "    comportList = list(serial.tools.list_ports.comports())\n",
    "\n",
    "\n",
    "    if len(comportList) != 0:  # the list of comports isn't empty\n",
    "        try:\n",
    "            ser = openport(com=comportList[0][0])  # assume 1 and only 1 port is functional\n",
    "            return ser\n",
    "        except SerialException:\n",
    "            return -1\n",
    "    else:  # the list of comports is empty\n",
    "        return -1"
   ]
  },
  {
   "cell_type": "code",
   "execution_count": 15,
   "metadata": {
    "collapsed": true
   },
   "outputs": [],
   "source": [
    "def get_date_filename(labelstring=''):\n",
    "    #version for testing adds an optional string to identify tests\n",
    "    now=time.localtime()[0:6]\n",
    "    #dirfmt = \"c:\\\\cofe\\\\ground_data\\\\testdata\\\\%4d_%02d_%02d\"\n",
    "    dirfmt = \"C:\\\\COFE\\\\RFI_pan_tilt\\\\data\\\\%4d_%02d_%02d\"\n",
    "    dirname = dirfmt % now[0:3]\n",
    "    filefmt = \"%02d_%02d_%02d.h5\"\n",
    "    filename= labelstring+filefmt % now[3:6]\n",
    "    ffilename=os.path.join(dirname,filename)\n",
    "    if not os.path.exists(dirname):\n",
    "        os.mkdir(dirname)\n",
    "    return(ffilename)"
   ]
  },
  {
   "cell_type": "code",
   "execution_count": 17,
   "metadata": {
    "collapsed": false
   },
   "outputs": [],
   "source": [
    "ser=check_serial_connection()"
   ]
  },
  {
   "cell_type": "code",
   "execution_count": 63,
   "metadata": {
    "collapsed": false
   },
   "outputs": [
    {
     "name": "stdout",
     "output_type": "stream",
     "text": [
      "('actual el = ', 0.004295805555557308)\n",
      "('actual az = ', 0.0)\n",
      "('actual az = ', 89.99997222222223)\n",
      "('actual az = ', 179.99994444444445)\n",
      "('actual az = ', 269.99991666666665)\n",
      "('actual el = ', 59.99570586111111)\n",
      "('actual az = ', 0.0)\n",
      "('actual az = ', 89.99997222222223)\n",
      "('actual az = ', 179.99994444444445)\n",
      "('actual az = ', 269.99991666666665)\n"
     ]
    },
    {
     "data": {
      "text/plain": [
       "0.004295805555557308"
      ]
     },
     "execution_count": 63,
     "metadata": {},
     "output_type": "execute_result"
    }
   ],
   "source": [
    "azstep=30 #degrees\n",
    "elstep=30 \n",
    "azlimx=360 \n",
    "azlimn=0\n",
    "ellimx=60\n",
    "ellimn=0 \n",
    "for el in linspace(0,90,num=2):\n",
    "    el=min(el,ellimx)\n",
    "    el=max(el,ellimn)\n",
    "    actual_el=pt_set_el(ser,el)\n",
    "    print('actual el = ',actual_el)\n",
    "    for az in arange(0,360,90):\n",
    "        az=min(az,azlimx)\n",
    "        az=max(az,azlimn)\n",
    "        actual_az=pt_set_az(ser,az)\n",
    "        print('actual az = ',actual_az)\n",
    "        sleep(3)\n",
    "pt_set_az(ser,0)\n",
    "pt_set_el(ser,0)"
   ]
  }
 ],
 "metadata": {
  "kernelspec": {
   "display_name": "Python 2",
   "language": "python",
   "name": "python2"
  },
  "language_info": {
   "codemirror_mode": {
    "name": "ipython",
    "version": 2
   },
   "file_extension": ".py",
   "mimetype": "text/x-python",
   "name": "python",
   "nbconvert_exporter": "python",
   "pygments_lexer": "ipython2",
   "version": "2.7.11"
  }
 },
 "nbformat": 4,
 "nbformat_minor": 0
}
