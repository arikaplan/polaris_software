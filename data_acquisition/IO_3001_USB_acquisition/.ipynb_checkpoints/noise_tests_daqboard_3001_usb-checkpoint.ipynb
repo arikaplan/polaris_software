{
 "cells": [
  {
   "cell_type": "code",
   "execution_count": 1,
   "metadata": {
    "collapsed": false
   },
   "outputs": [
    {
     "name": "stdout",
     "output_type": "stream",
     "text": [
      "Using matplotlib backend: Qt4Agg\n",
      "Populating the interactive namespace from numpy and matplotlib\n"
     ]
    }
   ],
   "source": [
    "import util\n",
    "import get_iotech_data_many as getio\n",
    "\n",
    "%pylab\n",
    "def getdata(nchan=1, freq=1000, nseconds=10):\n",
    "    jnk=getio.get_data(nchan=nchan,freq=freq,nseconds=nseconds)\n",
    "    dat=getio.read_io_file(jnk)\n",
    "    return dat.flatten()"
   ]
  },
  {
   "cell_type": "code",
   "execution_count": 3,
   "metadata": {
    "collapsed": false
   },
   "outputs": [
    {
     "ename": "ImportError",
     "evalue": "No module named configparser",
     "output_type": "error",
     "traceback": [
      "\u001b[1;31m---------------------------------------------------------------------------\u001b[0m",
      "\u001b[1;31mImportError\u001b[0m                               Traceback (most recent call last)",
      "\u001b[1;32m<ipython-input-3-e1a85d19aa7c>\u001b[0m in \u001b[0;36m<module>\u001b[1;34m()\u001b[0m\n\u001b[0;32m      2\u001b[0m \u001b[0msys\u001b[0m\u001b[1;33m.\u001b[0m\u001b[0mpath\u001b[0m\u001b[1;33m.\u001b[0m\u001b[0mappend\u001b[0m\u001b[1;33m(\u001b[0m\u001b[1;34m'C:\\software_git_repos\\cofe-python-analysis-tools\\utils_zonca'\u001b[0m\u001b[1;33m)\u001b[0m\u001b[1;33m\u001b[0m\u001b[0m\n\u001b[0;32m      3\u001b[0m \u001b[0msys\u001b[0m\u001b[1;33m.\u001b[0m\u001b[0mpath\u001b[0m\u001b[1;33m.\u001b[0m\u001b[0mappend\u001b[0m\u001b[1;33m(\u001b[0m\u001b[1;34m'C:\\software_git_repos\\cofe-python-analysis-tools\\utils_zonca\\demod'\u001b[0m\u001b[1;33m)\u001b[0m\u001b[1;33m\u001b[0m\u001b[0m\n\u001b[1;32m----> 4\u001b[1;33m \u001b[1;32mimport\u001b[0m \u001b[0mcofe_util\u001b[0m \u001b[1;32mas\u001b[0m \u001b[0mcu\u001b[0m\u001b[1;33m\u001b[0m\u001b[0m\n\u001b[0m",
      "\u001b[1;32mC:\\software_git_repos\\cofe-python-analysis-tools\\utils_meinhold\\cofe_util.py\u001b[0m in \u001b[0;36m<module>\u001b[1;34m()\u001b[0m\n\u001b[0;32m      8\u001b[0m \u001b[1;32mfrom\u001b[0m \u001b[0mglob\u001b[0m \u001b[1;32mimport\u001b[0m \u001b[0mglob\u001b[0m\u001b[1;33m\u001b[0m\u001b[0m\n\u001b[0;32m      9\u001b[0m \u001b[1;32mfrom\u001b[0m \u001b[0mscipy\u001b[0m\u001b[1;33m.\u001b[0m\u001b[0msignal\u001b[0m \u001b[1;32mimport\u001b[0m \u001b[0mbutter\u001b[0m\u001b[1;33m,\u001b[0m\u001b[0mfiltfilt\u001b[0m\u001b[1;33m,\u001b[0m\u001b[0miirdesign\u001b[0m\u001b[1;33m,\u001b[0m\u001b[0mcorrelate\u001b[0m\u001b[1;33m\u001b[0m\u001b[0m\n\u001b[1;32m---> 10\u001b[1;33m \u001b[1;32mimport\u001b[0m \u001b[0mdatparsing\u001b[0m\u001b[1;33m\u001b[0m\u001b[0m\n\u001b[0m\u001b[0;32m     11\u001b[0m \u001b[1;32mfrom\u001b[0m \u001b[0mmatplotlib\u001b[0m \u001b[1;32mimport\u001b[0m \u001b[0mpyplot\u001b[0m \u001b[1;32mas\u001b[0m \u001b[0mplt\u001b[0m\u001b[1;33m\u001b[0m\u001b[0m\n\u001b[0;32m     12\u001b[0m \u001b[1;32mfrom\u001b[0m \u001b[0mmatplotlib\u001b[0m \u001b[1;32mimport\u001b[0m \u001b[0mmlab\u001b[0m\u001b[1;33m\u001b[0m\u001b[0m\n",
      "\u001b[1;32mC:\\software_git_repos\\cofe-python-analysis-tools\\utils_zonca\\demod\\datparsing.py\u001b[0m in \u001b[0;36m<module>\u001b[1;34m()\u001b[0m\n\u001b[0;32m      6\u001b[0m \u001b[1;33m\u001b[0m\u001b[0m\n\u001b[0;32m      7\u001b[0m \u001b[1;32mimport\u001b[0m \u001b[0mutils\u001b[0m\u001b[1;33m\u001b[0m\u001b[0m\n\u001b[1;32m----> 8\u001b[1;33m \u001b[1;32mfrom\u001b[0m \u001b[0mdtypes\u001b[0m \u001b[1;32mimport\u001b[0m \u001b[1;33m*\u001b[0m\u001b[1;33m\u001b[0m\u001b[0m\n\u001b[0m\u001b[0;32m      9\u001b[0m \u001b[1;33m\u001b[0m\u001b[0m\n\u001b[0;32m     10\u001b[0m \u001b[1;32mdef\u001b[0m \u001b[0mopen_raw\u001b[0m\u001b[1;33m(\u001b[0m\u001b[0mfilename\u001b[0m\u001b[1;33m)\u001b[0m\u001b[1;33m:\u001b[0m\u001b[1;33m\u001b[0m\u001b[0m\n",
      "\u001b[1;32mC:\\software_git_repos\\cofe-python-analysis-tools\\utils_zonca\\demod\\dtypes.py\u001b[0m in \u001b[0;36m<module>\u001b[1;34m()\u001b[0m\n\u001b[0;32m      1\u001b[0m \u001b[1;32mimport\u001b[0m \u001b[0mnumpy\u001b[0m \u001b[1;32mas\u001b[0m \u001b[0mnp\u001b[0m\u001b[1;33m\u001b[0m\u001b[0m\n\u001b[0;32m      2\u001b[0m \u001b[1;32mimport\u001b[0m \u001b[0mos\u001b[0m\u001b[1;33m\u001b[0m\u001b[0m\n\u001b[1;32m----> 3\u001b[1;33m \u001b[1;32mfrom\u001b[0m \u001b[0mconfigparser\u001b[0m \u001b[1;32mimport\u001b[0m \u001b[0mConfigParser\u001b[0m\u001b[1;33m\u001b[0m\u001b[0m\n\u001b[0m\u001b[0;32m      4\u001b[0m \u001b[1;33m\u001b[0m\u001b[0m\n\u001b[0;32m      5\u001b[0m config = dict(  NCHAN=16, \n",
      "\u001b[1;31mImportError\u001b[0m: No module named configparser"
     ]
    }
   ],
   "source": [
    "sys.path.append('C:\\software_git_repos\\cofe-python-analysis-tools\\utils_meinhold')\n",
    "sys.path.append('C:\\software_git_repos\\cofe-python-analysis-tools\\utils_zonca')\n",
    "sys.path.append('C:\\software_git_repos\\cofe-python-analysis-tools\\utils_zonca\\demod')\n",
    "import cofe_util as cu"
   ]
  },
  {
   "cell_type": "code",
   "execution_count": null,
   "metadata": {
    "collapsed": true
   },
   "outputs": [],
   "source": []
  },
  {
   "cell_type": "code",
   "execution_count": 10,
   "metadata": {
    "collapsed": false,
    "scrolled": true
   },
   "outputs": [
    {
     "name": "stdout",
     "output_type": "stream",
     "text": [
      "1000000\n",
      "None\n",
      "<daq.c_ushort_Array_20000 object at 0x0000000016C10548>\n",
      "None\n",
      "{'active': 1L, 'transfer': 4L, 'retCount': 0L, 'triggered': 0L}\n",
      "{'active': 1L, 'transfer': 4L, 'retCount': 9871L, 'triggered': 2L}\n",
      "{'active': 1L, 'transfer': 4L, 'retCount': 19871L, 'triggered': 2L}\n",
      "{'active': 1L, 'transfer': 4L, 'retCount': 29872L, 'triggered': 2L}\n",
      "{'active': 1L, 'transfer': 4L, 'retCount': 39872L, 'triggered': 2L}\n",
      "{'active': 1L, 'transfer': 4L, 'retCount': 49873L, 'triggered': 2L}\n",
      "{'active': 1L, 'transfer': 4L, 'retCount': 59873L, 'triggered': 2L}\n",
      "{'active': 1L, 'transfer': 4L, 'retCount': 69873L, 'triggered': 2L}\n",
      "{'active': 1L, 'transfer': 4L, 'retCount': 79874L, 'triggered': 2L}\n",
      "{'active': 1L, 'transfer': 4L, 'retCount': 89874L, 'triggered': 2L}\n",
      "{'active': 1L, 'transfer': 4L, 'retCount': 99875L, 'triggered': 2L}\n",
      "{'active': 1L, 'transfer': 4L, 'retCount': 109875L, 'triggered': 2L}\n",
      "{'active': 1L, 'transfer': 4L, 'retCount': 119875L, 'triggered': 2L}\n",
      "{'active': 1L, 'transfer': 4L, 'retCount': 129876L, 'triggered': 2L}\n",
      "{'active': 1L, 'transfer': 4L, 'retCount': 139876L, 'triggered': 2L}\n",
      "{'active': 1L, 'transfer': 4L, 'retCount': 149877L, 'triggered': 2L}\n",
      "{'active': 1L, 'transfer': 4L, 'retCount': 159877L, 'triggered': 2L}\n",
      "{'active': 1L, 'transfer': 4L, 'retCount': 169878L, 'triggered': 2L}\n",
      "{'active': 1L, 'transfer': 4L, 'retCount': 179878L, 'triggered': 2L}\n",
      "{'active': 1L, 'transfer': 4L, 'retCount': 189878L, 'triggered': 2L}\n",
      "{'active': 1L, 'transfer': 4L, 'retCount': 199879L, 'triggered': 2L}\n",
      "{'active': 1L, 'transfer': 4L, 'retCount': 209879L, 'triggered': 2L}\n",
      "{'active': 1L, 'transfer': 4L, 'retCount': 219880L, 'triggered': 2L}\n",
      "{'active': 1L, 'transfer': 4L, 'retCount': 229880L, 'triggered': 2L}\n",
      "{'active': 1L, 'transfer': 4L, 'retCount': 239880L, 'triggered': 2L}\n",
      "{'active': 1L, 'transfer': 4L, 'retCount': 249881L, 'triggered': 2L}\n",
      "{'active': 1L, 'transfer': 4L, 'retCount': 259881L, 'triggered': 2L}\n",
      "{'active': 1L, 'transfer': 4L, 'retCount': 269882L, 'triggered': 2L}\n",
      "{'active': 1L, 'transfer': 4L, 'retCount': 279882L, 'triggered': 2L}\n",
      "{'active': 1L, 'transfer': 4L, 'retCount': 289873L, 'triggered': 2L}\n",
      "{'active': 1L, 'transfer': 4L, 'retCount': 299873L, 'triggered': 2L}\n",
      "{'active': 1L, 'transfer': 4L, 'retCount': 309873L, 'triggered': 2L}\n",
      "{'active': 1L, 'transfer': 4L, 'retCount': 319874L, 'triggered': 2L}\n",
      "{'active': 1L, 'transfer': 4L, 'retCount': 329874L, 'triggered': 2L}\n",
      "{'active': 1L, 'transfer': 4L, 'retCount': 339875L, 'triggered': 2L}\n",
      "{'active': 1L, 'transfer': 4L, 'retCount': 349875L, 'triggered': 2L}\n",
      "{'active': 1L, 'transfer': 4L, 'retCount': 359875L, 'triggered': 2L}\n",
      "{'active': 1L, 'transfer': 4L, 'retCount': 369876L, 'triggered': 2L}\n",
      "{'active': 1L, 'transfer': 4L, 'retCount': 379876L, 'triggered': 2L}\n",
      "{'active': 1L, 'transfer': 4L, 'retCount': 389877L, 'triggered': 2L}\n",
      "{'active': 1L, 'transfer': 4L, 'retCount': 399877L, 'triggered': 2L}\n",
      "{'active': 1L, 'transfer': 4L, 'retCount': 409878L, 'triggered': 2L}\n",
      "{'active': 1L, 'transfer': 4L, 'retCount': 419878L, 'triggered': 2L}\n",
      "{'active': 1L, 'transfer': 4L, 'retCount': 429878L, 'triggered': 2L}\n",
      "{'active': 1L, 'transfer': 4L, 'retCount': 439879L, 'triggered': 2L}\n",
      "{'active': 1L, 'transfer': 4L, 'retCount': 449879L, 'triggered': 2L}\n",
      "{'active': 1L, 'transfer': 4L, 'retCount': 459880L, 'triggered': 2L}\n",
      "{'active': 1L, 'transfer': 4L, 'retCount': 469880L, 'triggered': 2L}\n",
      "{'active': 1L, 'transfer': 4L, 'retCount': 479880L, 'triggered': 2L}\n",
      "{'active': 1L, 'transfer': 4L, 'retCount': 489881L, 'triggered': 2L}\n",
      "{'active': 1L, 'transfer': 4L, 'retCount': 499981L, 'triggered': 2L}\n",
      "{'active': 1L, 'transfer': 4L, 'retCount': 509982L, 'triggered': 2L}\n",
      "{'active': 1L, 'transfer': 4L, 'retCount': 519982L, 'triggered': 2L}\n",
      "{'active': 1L, 'transfer': 4L, 'retCount': 529983L, 'triggered': 2L}\n",
      "{'active': 1L, 'transfer': 4L, 'retCount': 539983L, 'triggered': 2L}\n",
      "{'active': 1L, 'transfer': 4L, 'retCount': 549983L, 'triggered': 2L}\n",
      "{'active': 1L, 'transfer': 4L, 'retCount': 559984L, 'triggered': 2L}\n",
      "{'active': 1L, 'transfer': 4L, 'retCount': 569984L, 'triggered': 2L}\n",
      "{'active': 1L, 'transfer': 4L, 'retCount': 579975L, 'triggered': 2L}\n",
      "{'active': 1L, 'transfer': 4L, 'retCount': 589975L, 'triggered': 2L}\n",
      "{'active': 1L, 'transfer': 4L, 'retCount': 599975L, 'triggered': 2L}\n",
      "{'active': 1L, 'transfer': 4L, 'retCount': 609976L, 'triggered': 2L}\n",
      "{'active': 1L, 'transfer': 4L, 'retCount': 619976L, 'triggered': 2L}\n",
      "{'active': 1L, 'transfer': 4L, 'retCount': 629977L, 'triggered': 2L}\n",
      "{'active': 1L, 'transfer': 4L, 'retCount': 639977L, 'triggered': 2L}\n",
      "{'active': 1L, 'transfer': 4L, 'retCount': 649978L, 'triggered': 2L}\n",
      "{'active': 1L, 'transfer': 4L, 'retCount': 659978L, 'triggered': 2L}\n",
      "{'active': 1L, 'transfer': 4L, 'retCount': 669978L, 'triggered': 2L}\n",
      "{'active': 1L, 'transfer': 4L, 'retCount': 679979L, 'triggered': 2L}\n",
      "{'active': 1L, 'transfer': 4L, 'retCount': 689979L, 'triggered': 2L}\n",
      "{'active': 1L, 'transfer': 4L, 'retCount': 699980L, 'triggered': 2L}\n",
      "{'active': 1L, 'transfer': 4L, 'retCount': 709980L, 'triggered': 2L}\n",
      "{'active': 1L, 'transfer': 4L, 'retCount': 719980L, 'triggered': 2L}\n",
      "{'active': 1L, 'transfer': 4L, 'retCount': 729981L, 'triggered': 2L}\n",
      "{'active': 1L, 'transfer': 4L, 'retCount': 739981L, 'triggered': 2L}\n",
      "{'active': 1L, 'transfer': 4L, 'retCount': 749982L, 'triggered': 2L}\n",
      "{'active': 1L, 'transfer': 4L, 'retCount': 759982L, 'triggered': 2L}\n",
      "{'active': 1L, 'transfer': 4L, 'retCount': 769983L, 'triggered': 2L}\n",
      "{'active': 1L, 'transfer': 4L, 'retCount': 779983L, 'triggered': 2L}\n",
      "{'active': 1L, 'transfer': 4L, 'retCount': 789983L, 'triggered': 2L}\n",
      "{'active': 1L, 'transfer': 4L, 'retCount': 799984L, 'triggered': 2L}\n",
      "{'active': 1L, 'transfer': 4L, 'retCount': 809984L, 'triggered': 2L}\n",
      "{'active': 1L, 'transfer': 4L, 'retCount': 819985L, 'triggered': 2L}\n",
      "{'active': 1L, 'transfer': 4L, 'retCount': 829985L, 'triggered': 2L}\n",
      "{'active': 1L, 'transfer': 4L, 'retCount': 839985L, 'triggered': 2L}\n",
      "{'active': 1L, 'transfer': 4L, 'retCount': 849986L, 'triggered': 2L}\n",
      "{'active': 1L, 'transfer': 4L, 'retCount': 860076L, 'triggered': 2L}\n",
      "{'active': 1L, 'transfer': 4L, 'retCount': 870077L, 'triggered': 2L}\n",
      "{'active': 1L, 'transfer': 4L, 'retCount': 880077L, 'triggered': 2L}\n",
      "{'active': 1L, 'transfer': 4L, 'retCount': 890078L, 'triggered': 2L}\n",
      "{'active': 1L, 'transfer': 4L, 'retCount': 900078L, 'triggered': 2L}\n",
      "{'active': 1L, 'transfer': 4L, 'retCount': 910078L, 'triggered': 2L}\n",
      "{'active': 1L, 'transfer': 4L, 'retCount': 920079L, 'triggered': 2L}\n",
      "{'active': 1L, 'transfer': 4L, 'retCount': 930079L, 'triggered': 2L}\n",
      "{'active': 1L, 'transfer': 4L, 'retCount': 940080L, 'triggered': 2L}\n",
      "{'active': 1L, 'transfer': 4L, 'retCount': 950080L, 'triggered': 2L}\n",
      "{'active': 1L, 'transfer': 4L, 'retCount': 960081L, 'triggered': 2L}\n",
      "{'active': 1L, 'transfer': 4L, 'retCount': 970081L, 'triggered': 2L}\n",
      "{'active': 1L, 'transfer': 4L, 'retCount': 980081L, 'triggered': 2L}\n",
      "{'active': 1L, 'transfer': 4L, 'retCount': 990082L, 'triggered': 2L}\n"
     ]
    }
   ],
   "source": [
    "dterm=getdata(freq=10000,nseconds=100)\n"
   ]
  },
  {
   "cell_type": "code",
   "execution_count": 9,
   "metadata": {
    "collapsed": true
   },
   "outputs": [
    {
     "name": "stdout",
     "output_type": "stream",
     "text": [
      "1000000\n",
      "None\n",
      "<daq.c_ushort_Array_20000 object at 0x0000000016C106C8>\n",
      "None\n",
      "{'active': 1L, 'transfer': 4L, 'retCount': 0L, 'triggered': 0L}\n",
      "{'active': 1L, 'transfer': 4L, 'retCount': 9971L, 'triggered': 2L}\n",
      "{'active': 1L, 'transfer': 4L, 'retCount': 19971L, 'triggered': 2L}\n",
      "{'active': 1L, 'transfer': 4L, 'retCount': 29972L, 'triggered': 2L}\n",
      "{'active': 1L, 'transfer': 4L, 'retCount': 39972L, 'triggered': 2L}\n",
      "{'active': 1L, 'transfer': 4L, 'retCount': 49973L, 'triggered': 2L}\n",
      "{'active': 1L, 'transfer': 4L, 'retCount': 59973L, 'triggered': 2L}\n",
      "{'active': 1L, 'transfer': 4L, 'retCount': 69973L, 'triggered': 2L}\n",
      "{'active': 1L, 'transfer': 4L, 'retCount': 79964L, 'triggered': 2L}\n",
      "{'active': 1L, 'transfer': 4L, 'retCount': 89964L, 'triggered': 2L}\n",
      "{'active': 1L, 'transfer': 4L, 'retCount': 99965L, 'triggered': 2L}\n",
      "{'active': 1L, 'transfer': 4L, 'retCount': 109965L, 'triggered': 2L}\n",
      "{'active': 1L, 'transfer': 4L, 'retCount': 119966L, 'triggered': 2L}\n",
      "{'active': 1L, 'transfer': 4L, 'retCount': 129966L, 'triggered': 2L}\n",
      "{'active': 1L, 'transfer': 4L, 'retCount': 139966L, 'triggered': 2L}\n",
      "{'active': 1L, 'transfer': 4L, 'retCount': 149967L, 'triggered': 2L}\n",
      "{'active': 1L, 'transfer': 4L, 'retCount': 159967L, 'triggered': 2L}\n",
      "{'active': 1L, 'transfer': 4L, 'retCount': 169968L, 'triggered': 2L}\n",
      "{'active': 1L, 'transfer': 4L, 'retCount': 179968L, 'triggered': 2L}\n",
      "{'active': 1L, 'transfer': 4L, 'retCount': 189968L, 'triggered': 2L}\n",
      "{'active': 1L, 'transfer': 4L, 'retCount': 199969L, 'triggered': 2L}\n",
      "{'active': 1L, 'transfer': 4L, 'retCount': 209969L, 'triggered': 2L}\n",
      "{'active': 1L, 'transfer': 4L, 'retCount': 219970L, 'triggered': 2L}\n",
      "{'active': 1L, 'transfer': 4L, 'retCount': 229970L, 'triggered': 2L}\n",
      "{'active': 1L, 'transfer': 4L, 'retCount': 239971L, 'triggered': 2L}\n",
      "{'active': 1L, 'transfer': 4L, 'retCount': 249971L, 'triggered': 2L}\n",
      "{'active': 1L, 'transfer': 4L, 'retCount': 259971L, 'triggered': 2L}\n",
      "{'active': 1L, 'transfer': 4L, 'retCount': 269972L, 'triggered': 2L}\n",
      "{'active': 1L, 'transfer': 4L, 'retCount': 279972L, 'triggered': 2L}\n",
      "{'active': 1L, 'transfer': 4L, 'retCount': 290073L, 'triggered': 2L}\n",
      "{'active': 1L, 'transfer': 4L, 'retCount': 300073L, 'triggered': 2L}\n",
      "{'active': 1L, 'transfer': 4L, 'retCount': 310073L, 'triggered': 2L}\n",
      "{'active': 1L, 'transfer': 4L, 'retCount': 320074L, 'triggered': 2L}\n",
      "{'active': 1L, 'transfer': 4L, 'retCount': 330074L, 'triggered': 2L}\n",
      "{'active': 1L, 'transfer': 4L, 'retCount': 340075L, 'triggered': 2L}\n",
      "{'active': 1L, 'transfer': 4L, 'retCount': 350075L, 'triggered': 2L}\n",
      "{'active': 1L, 'transfer': 4L, 'retCount': 360066L, 'triggered': 2L}\n",
      "{'active': 1L, 'transfer': 4L, 'retCount': 370066L, 'triggered': 2L}\n",
      "{'active': 1L, 'transfer': 4L, 'retCount': 380066L, 'triggered': 2L}\n",
      "{'active': 1L, 'transfer': 4L, 'retCount': 390067L, 'triggered': 2L}\n",
      "{'active': 1L, 'transfer': 4L, 'retCount': 400067L, 'triggered': 2L}\n",
      "{'active': 1L, 'transfer': 4L, 'retCount': 410068L, 'triggered': 2L}\n",
      "{'active': 1L, 'transfer': 4L, 'retCount': 420068L, 'triggered': 2L}\n",
      "{'active': 1L, 'transfer': 4L, 'retCount': 430068L, 'triggered': 2L}\n",
      "{'active': 1L, 'transfer': 4L, 'retCount': 440069L, 'triggered': 2L}\n",
      "{'active': 1L, 'transfer': 4L, 'retCount': 450069L, 'triggered': 2L}\n",
      "{'active': 1L, 'transfer': 4L, 'retCount': 460070L, 'triggered': 2L}\n",
      "{'active': 1L, 'transfer': 4L, 'retCount': 470070L, 'triggered': 2L}\n",
      "{'active': 1L, 'transfer': 4L, 'retCount': 480071L, 'triggered': 2L}\n",
      "{'active': 1L, 'transfer': 4L, 'retCount': 490071L, 'triggered': 2L}\n",
      "{'active': 1L, 'transfer': 4L, 'retCount': 500071L, 'triggered': 2L}\n",
      "{'active': 1L, 'transfer': 4L, 'retCount': 510072L, 'triggered': 2L}\n",
      "{'active': 1L, 'transfer': 4L, 'retCount': 520072L, 'triggered': 2L}\n",
      "{'active': 1L, 'transfer': 4L, 'retCount': 530073L, 'triggered': 2L}\n",
      "{'active': 1L, 'transfer': 4L, 'retCount': 540073L, 'triggered': 2L}\n",
      "{'active': 1L, 'transfer': 4L, 'retCount': 550073L, 'triggered': 2L}\n",
      "{'active': 1L, 'transfer': 4L, 'retCount': 560074L, 'triggered': 2L}\n",
      "{'active': 1L, 'transfer': 4L, 'retCount': 570074L, 'triggered': 2L}\n",
      "{'active': 1L, 'transfer': 4L, 'retCount': 580075L, 'triggered': 2L}\n",
      "{'active': 1L, 'transfer': 4L, 'retCount': 590075L, 'triggered': 2L}\n",
      "{'active': 1L, 'transfer': 4L, 'retCount': 600076L, 'triggered': 2L}\n",
      "{'active': 1L, 'transfer': 4L, 'retCount': 610076L, 'triggered': 2L}\n",
      "{'active': 1L, 'transfer': 4L, 'retCount': 620076L, 'triggered': 2L}\n",
      "{'active': 1L, 'transfer': 4L, 'retCount': 630077L, 'triggered': 2L}\n",
      "{'active': 1L, 'transfer': 4L, 'retCount': 640067L, 'triggered': 2L}\n",
      "{'active': 1L, 'transfer': 4L, 'retCount': 650068L, 'triggered': 2L}\n",
      "{'active': 1L, 'transfer': 4L, 'retCount': 660068L, 'triggered': 2L}\n",
      "{'active': 1L, 'transfer': 4L, 'retCount': 670068L, 'triggered': 2L}\n",
      "{'active': 1L, 'transfer': 4L, 'retCount': 680069L, 'triggered': 2L}\n",
      "{'active': 1L, 'transfer': 4L, 'retCount': 690069L, 'triggered': 2L}\n",
      "{'active': 1L, 'transfer': 4L, 'retCount': 700070L, 'triggered': 2L}\n",
      "{'active': 1L, 'transfer': 4L, 'retCount': 710070L, 'triggered': 2L}\n",
      "{'active': 1L, 'transfer': 4L, 'retCount': 720071L, 'triggered': 2L}\n",
      "{'active': 1L, 'transfer': 4L, 'retCount': 730071L, 'triggered': 2L}\n",
      "{'active': 1L, 'transfer': 4L, 'retCount': 740071L, 'triggered': 2L}\n",
      "{'active': 1L, 'transfer': 4L, 'retCount': 750072L, 'triggered': 2L}\n",
      "{'active': 1L, 'transfer': 4L, 'retCount': 760072L, 'triggered': 2L}\n",
      "{'active': 1L, 'transfer': 4L, 'retCount': 770073L, 'triggered': 2L}\n",
      "{'active': 1L, 'transfer': 4L, 'retCount': 780073L, 'triggered': 2L}\n",
      "{'active': 1L, 'transfer': 4L, 'retCount': 790073L, 'triggered': 2L}\n",
      "{'active': 1L, 'transfer': 4L, 'retCount': 800074L, 'triggered': 2L}\n",
      "{'active': 1L, 'transfer': 4L, 'retCount': 810074L, 'triggered': 2L}\n",
      "{'active': 1L, 'transfer': 4L, 'retCount': 820075L, 'triggered': 2L}\n",
      "{'active': 1L, 'transfer': 4L, 'retCount': 830075L, 'triggered': 2L}\n",
      "{'active': 1L, 'transfer': 4L, 'retCount': 840076L, 'triggered': 2L}\n",
      "{'active': 1L, 'transfer': 4L, 'retCount': 850076L, 'triggered': 2L}\n",
      "{'active': 1L, 'transfer': 4L, 'retCount': 860076L, 'triggered': 2L}\n",
      "{'active': 1L, 'transfer': 4L, 'retCount': 870077L, 'triggered': 2L}\n",
      "{'active': 1L, 'transfer': 4L, 'retCount': 880077L, 'triggered': 2L}\n",
      "{'active': 1L, 'transfer': 4L, 'retCount': 890078L, 'triggered': 2L}\n",
      "{'active': 1L, 'transfer': 4L, 'retCount': 900078L, 'triggered': 2L}\n",
      "{'active': 1L, 'transfer': 4L, 'retCount': 910078L, 'triggered': 2L}\n",
      "{'active': 1L, 'transfer': 4L, 'retCount': 920069L, 'triggered': 2L}\n",
      "{'active': 1L, 'transfer': 4L, 'retCount': 930069L, 'triggered': 2L}\n",
      "{'active': 1L, 'transfer': 4L, 'retCount': 940070L, 'triggered': 2L}\n",
      "{'active': 1L, 'transfer': 4L, 'retCount': 950070L, 'triggered': 2L}\n",
      "{'active': 1L, 'transfer': 4L, 'retCount': 960071L, 'triggered': 2L}\n",
      "{'active': 1L, 'transfer': 4L, 'retCount': 970071L, 'triggered': 2L}\n",
      "{'active': 1L, 'transfer': 4L, 'retCount': 980071L, 'triggered': 2L}\n",
      "{'active': 1L, 'transfer': 4L, 'retCount': 990072L, 'triggered': 2L}\n"
     ]
    }
   ],
   "source": [
    "d1m=getdata(freq=10000,nseconds=100)\n"
   ]
  },
  {
   "cell_type": "code",
   "execution_count": 11,
   "metadata": {
    "collapsed": false
   },
   "outputs": [
    {
     "data": {
      "text/plain": [
       "<matplotlib.legend.Legend at 0x16e37390>"
      ]
     },
     "execution_count": 11,
     "metadata": {},
     "output_type": "execute_result"
    }
   ],
   "source": [
    "figure()\n",
    "plot(d1m[:100000]/1e3,label='1 Mohm')\n",
    "plot(dterm[:100000]/1e4,label='50 ohm term')\n",
    "legend()"
   ]
  },
  {
   "cell_type": "code",
   "execution_count": 21,
   "metadata": {
    "collapsed": false
   },
   "outputs": [],
   "source": [
    "zterm=util.nps(dterm/1.e4,10000,.01)\n",
    "z1m=util.nps(d1m/1.e3,10000,.01)"
   ]
  },
  {
   "cell_type": "code",
   "execution_count": 29,
   "metadata": {
    "collapsed": true
   },
   "outputs": [],
   "source": [
    "Rn=(0.13*np.sqrt(1e6)/np.sqrt(2))"
   ]
  },
  {
   "cell_type": "code",
   "execution_count": 31,
   "metadata": {
    "collapsed": false
   },
   "outputs": [
    {
     "data": {
      "text/plain": [
       "91.923881554251167"
      ]
     },
     "execution_count": 31,
     "metadata": {},
     "output_type": "execute_result"
    }
   ],
   "source": [
    "Rn"
   ]
  },
  {
   "cell_type": "code",
   "execution_count": 43,
   "metadata": {
    "collapsed": false
   },
   "outputs": [
    {
     "data": {
      "text/plain": [
       "<matplotlib.legend.Legend at 0x49857550>"
      ]
     },
     "execution_count": 43,
     "metadata": {},
     "output_type": "execute_result"
    }
   ],
   "source": [
    "figure()\n",
    "plot(zterm[0],1e9*sqrt(zterm[1]),label='50 Ohm term')\n",
    "plot(z1m[0],1e9*sqrt(z1m[1]),label='1 Mohm')\n",
    "hlines(Rn,min(z1m[0]),max(z1m[0]),color='r',lw=2,zorder=3)\n",
    "ylabel('ASD, [nV $\\sqrt{sec}$ ]')\n",
    "xlabel('Frequency, [Hz]')\n",
    "yscale('log')\n",
    "xscale('log')\n",
    "legend()"
   ]
  },
  {
   "cell_type": "code",
   "execution_count": null,
   "metadata": {
    "collapsed": true
   },
   "outputs": [],
   "source": []
  }
 ],
 "metadata": {
  "kernelspec": {
   "display_name": "Python 2",
   "language": "python",
   "name": "python2"
  },
  "language_info": {
   "codemirror_mode": {
    "name": "ipython",
    "version": 2
   },
   "file_extension": ".py",
   "mimetype": "text/x-python",
   "name": "python",
   "nbconvert_exporter": "python",
   "pygments_lexer": "ipython2",
   "version": "2.7.11"
  }
 },
 "nbformat": 4,
 "nbformat_minor": 0
}
