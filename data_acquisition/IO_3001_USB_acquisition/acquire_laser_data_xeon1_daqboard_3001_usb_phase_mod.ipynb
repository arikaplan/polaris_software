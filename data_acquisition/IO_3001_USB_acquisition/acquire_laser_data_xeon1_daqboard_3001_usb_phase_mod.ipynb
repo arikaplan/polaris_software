{
 "cells": [
  {
   "cell_type": "markdown",
   "metadata": {},
   "source": [
    "# # This version is modified to measure I,Q and sync from FG, then to demodulate. I modified the 3001 box to actually read ad0,ad1,ad2,ad3 on 2/8/2017"
   ]
  },
  {
   "cell_type": "code",
   "execution_count": 1,
   "metadata": {
    "collapsed": false
   },
   "outputs": [
    {
     "name": "stdout",
     "output_type": "stream",
     "text": [
      "Using matplotlib backend: Qt5Agg\n",
      "Populating the interactive namespace from numpy and matplotlib\n"
     ]
    }
   ],
   "source": [
    "import numpy as np\n",
    "import time\n",
    "import sys\n",
    "import os\n",
    "sys.path.append('C:\\\\git_repos\\\\cofe-python-analysis-tools\\\\utils_meinhold')\n",
    "sys.path.append('C:\\\\git_repos\\\\cofe-python-analysis-tools\\\\utils_zonca')\n",
    "sys.path.append('C:\\git_repos\\lab_utilities\\IO_3001_USB_acquisition')\n",
    "sys.path.append('C:\\\\Anaconda3\\\\envs\\\\py27\\\\Scripts')\n",
    "from daq import daqDevice\n",
    "import daqh\n",
    "from prm_util import nps\n",
    "import h5py\n",
    "%pylab\n",
    "\n",
    "import prm_util as cu\n",
    "\n",
    "from Tkinter import Tk\n",
    "from tkFileDialog import askopenfilename\n",
    "\n",
    "acqmode=daqh.DaamInfinitePost\n",
    "\n",
    "import gc\n",
    "    "
   ]
  },
  {
   "cell_type": "code",
   "execution_count": 2,
   "metadata": {
    "collapsed": true
   },
   "outputs": [],
   "source": [
    "rcParams['agg.path.chunksize'] = 100000"
   ]
  },
  {
   "cell_type": "code",
   "execution_count": 3,
   "metadata": {
    "collapsed": true
   },
   "outputs": [],
   "source": [
    "dev=daqDevice('DaqBoard3001USB')"
   ]
  },
  {
   "cell_type": "code",
   "execution_count": 4,
   "metadata": {
    "collapsed": false
   },
   "outputs": [],
   "source": [
    "def set_dac(chan=0,dataVal=3.0):\n",
    "    \"\"\"\n",
    "    function to simply set one da channel\n",
    "    \"\"\"\n",
    "    devicetype=0\n",
    "    dev=daqDevice('DaqBoard3001USB')\n",
    "    dev.DacWt(devicetype,0,dataVal)\n",
    "    dev.Close()    \n",
    "    return "
   ]
  },
  {
   "cell_type": "code",
   "execution_count": 5,
   "metadata": {
    "collapsed": false
   },
   "outputs": [],
   "source": [
    "def get_data(nchan=4,freq=10,nseconds=5,comment='None',alerts=[58,59,60,118,119,120,178,179,180,238,239,240,298,299,300]):\n",
    "    \"\"\"\n",
    "    function to simply aquire nchan a/d channels at rate freq\n",
    "    for nseconds seconds\n",
    "    \"\"\"\n",
    "    DafSettle1us=0x1800000\n",
    "    #outdata=np.zeros([nchan,nscans],dtype=float)\n",
    "    dev=daqDevice('DaqBoard3001USB')\n",
    "    gains=[]\n",
    "    flags=[]\n",
    "    chans=[]\n",
    "    if nchan > 8:\n",
    "        uchan=nchan-8\n",
    "        for i in range(8):\n",
    "            gains.append(daqh.DgainX1)\n",
    "            flags.append(daqh.DafBipolar|daqh.DafDifferential|DafSettle1us)\n",
    "            chans.append(i)\n",
    "        for i in range(uchan):\n",
    "            gains.append(daqh.DgainX1)\n",
    "            flags.append(daqh.DafBipolar|daqh.DafDifferential|DafSettle1us)\n",
    "            chans.append(256+i)   #HERE is the famous fix where DaqX refs upper level dif channels!\n",
    "    elif nchan<9:      \n",
    "        for i in range(nchan):\n",
    "            gains.append(daqh.DgainX1)\n",
    "            flags.append(daqh.DafBipolar|daqh.DafDifferential|DafSettle1us)\n",
    "            chans.append(i)\n",
    "    acqmode = daqh.DaamNShot\n",
    "    dev.AdcSetAcq(acqmode, postTrigCount = np.uint(nseconds*freq))\n",
    "    dev.AdcSetScan(chans,gains,flags)\n",
    "    dev.AdcSetFreq(freq)\n",
    "    #use the driver buffer here user buffer was very limited (the way I tried anyway) \n",
    "    transMask = daqh.DatmUpdateBlock|daqh.DatmCycleOn|daqh.DatmDriverBuf\n",
    "\n",
    "    buf=dev.AdcTransferSetBuffer(transMask, np.uint(nseconds*freq*nchan))\n",
    "    #bufMask is for transferring the buffer\n",
    "    bufMask = daqh.DabtmOldest | daqh.DabtmRetAvail\n",
    "\n",
    "    timestart = (time.time())\n",
    "    timenotify = timestart + 5\n",
    "\n",
    "    dev.SetTriggerEvent(daqh.DatsImmediate,None, 0, np.array(gains[0],dtype=int), np.array(flags[0],dtype=int), daqh.DaqTypeAnalogLocal, 0, 0, daqh.DaqStartEvent)\n",
    "    dev.SetTriggerEvent(daqh.DatsScanCount,None, 0, np.array(gains[0],dtype=int), np.array(flags[0],dtype=int), daqh.DaqTypeAnalogLocal, 0, 0, daqh.DaqStopEvent)\n",
    "    dev.AdcTransferStart()\n",
    "    dev.AdcArm()\n",
    "    \n",
    "    while True:\n",
    "        alertscopy=alerts[:]\n",
    "        timenotify = checkAlerts(timenotify, timestart, alerts,alertscopy)        \n",
    "        \n",
    "        stat = dev.AdcTransferGetStat()\n",
    "        active = stat['active']\n",
    "        if not (active & daqh.DaafAcqActive):\n",
    "            break\n",
    "    dev.AdcDisarm()\n",
    "    outdata,ret=dev.AdcTransferBufData(np.uint(nseconds*freq), nchan,bufMask)\n",
    "    \n",
    "    outdata=np.array(outdata,dtype=np.uint16)\n",
    "    #outdata=(outdata-2**15)*20./2**16\n",
    "    outdata=np.transpose(np.reshape(outdata,[uint(nseconds*freq),nchan]))\n",
    "    #print \"Finished collecting data\\n-\"\n",
    "    dev.Close()    \n",
    "    return outdata"
   ]
  },
  {
   "cell_type": "code",
   "execution_count": 6,
   "metadata": {
    "collapsed": true
   },
   "outputs": [],
   "source": [
    "def checkAlerts(timeupdate,timestart, alerts, alertscopy, updateincrement=5):\n",
    "    timecheck = (time.time())\n",
    "    if timecheck > timeupdate:\n",
    "        print \"Time: \" + str(int(timecheck - timestart))\n",
    "        timeupdate += updateincrement\n",
    "    for alert in alerts:\n",
    "        if (timecheck - timestart)%60 > alert:\n",
    "            print \"---- \" + str(int(timecheck - timestart)) + \" SECONDS ----\"\n",
    "            alerts.remove(alert)\n",
    "    if 2<(timecheck -timestart%60)<3:\n",
    "        alerts = alertscopy[:]\n",
    "        \n",
    "        \n",
    "    return timeupdate"
   ]
  },
  {
   "cell_type": "code",
   "execution_count": 7,
   "metadata": {
    "collapsed": true
   },
   "outputs": [],
   "source": [
    "def get_date_filename(labelstring=''):\n",
    "    #version for testing adds an optional string to identify tests\n",
    "    now=time.localtime()[0:6]\n",
    "    dirfmt = \"C:\\\\Interferometer_tests\\\\data\\\\%4d_%02d_%02d\"\n",
    "    dirname = dirfmt % now[0:3]\n",
    "    filefmt = \"%02d_%02d_%02d.h5\"\n",
    "    filename= labelstring+filefmt % now[3:6]\n",
    "    ffilename=os.path.join(dirname,filename)\n",
    "    if not os.path.exists(dirname):\n",
    "        os.mkdir(dirname)\n",
    "    return(ffilename)"
   ]
  },
  {
   "cell_type": "code",
   "execution_count": 8,
   "metadata": {
    "collapsed": true
   },
   "outputs": [],
   "source": [
    "def zplot(d_dict_list,minfreq=1,chan=0):\n",
    "    \"\"\"\n",
    "    calculate asd's and overplot all from list of data dictionaries, assumed to have meaningful\n",
    "    keynames for legend\n",
    "    \"\"\"\n",
    "    figure()\n",
    "    for d_dict in d_dict_list:\n",
    "        if len(d_dict['data'])>2:\n",
    "            z=cu.nps(d_dict['data'],d_dict['samprate'],minfreq=minfreq)\n",
    "        else:\n",
    "            z=cu.nps(d_dict['data'][chan],d_dict['samprate'],minfreq=minfreq)\n",
    "        plot(z[0],np.sqrt(z[1]),label=d_dict['label'])\n",
    "    xlabel('Frequency, [Hz]')\n",
    "    ylabel('ASD, [$nV \\sqrt{sec}$]')\n",
    "    xscale('log')\n",
    "    yscale('log')\n",
    "    legend()\n",
    "    title('Comparison spectra')\n",
    "    legend()"
   ]
  },
  {
   "cell_type": "code",
   "execution_count": 70,
   "metadata": {
    "collapsed": false
   },
   "outputs": [],
   "source": [
    "#use this function- box is set up with terminations on alternate channels to increase isolation\n",
    "def get_test3(samprate=250000,nseconds=5,labelstring='test'):\n",
    "    s=[0,1,2]  #active channels\n",
    "    d=get_data(nchan=3,freq=samprate,nseconds=nseconds)\n",
    "    outdata=squeeze(d[s,:])\n",
    "    fname=get_date_filename(labelstring)\n",
    "    with h5py.File(fname, mode='w') as hdf_file:\n",
    "        hdf_file.create_dataset('data', data=outdata)\n",
    "        hdf_file.create_dataset('samprate', data=[samprate])\n",
    "        hdf_file.create_dataset('label', data=[labelstring])\n",
    "        hdf_file.close()\n",
    "    return {'data':outdata,'samprate':samprate,'label':labelstring}"
   ]
  },
  {
   "cell_type": "code",
   "execution_count": 10,
   "metadata": {
    "collapsed": true
   },
   "outputs": [],
   "source": [
    "def i2v(inarray):\n",
    "    \"\"\"convenient conversion to float from int16\n",
    "    \"\"\"\n",
    "    return (inarray.astype(float)-2**15)*20./2**16\n",
    "    "
   ]
  },
  {
   "cell_type": "code",
   "execution_count": 85,
   "metadata": {
    "collapsed": false
   },
   "outputs": [],
   "source": [
    "def demod(indata):\n",
    "    #function to extract I,Q from data, sync, assume sync is in A/D ch 2 \n",
    "    dd=i2v(indata['data'][2,4:]) - i2v(indata['data'][2,:-4])\n",
    "    sv=i2v(indata['data'][0,4:])\n",
    "    sh=i2v(indata['data'][1,4:])\n",
    "    x=arange(len(dd))\n",
    "    d_edges=x[where(dd > 2.)]\n",
    "    u_edges=x[where(dd < -2.)]\n",
    "    #trim these lists to avoid partials at the end, and force first edge to be rising \n",
    "    #last edge to be falling one\n",
    "    u_edges=u_edges[1:-1]\n",
    "    d_edges=d_edges[where(d_edges > u_edges[0])]\n",
    "    d_edges=d_edges[where(d_edges < u_edges[-1])]\n",
    "    i_v=[]\n",
    "    q_v=[]\n",
    "    i_h=[]\n",
    "    q_h=[]\n",
    "    print(len(d_edges),len(u_edges))\n",
    "    ntot=0.0\n",
    "    nchop=0.0\n",
    "    for u,d,u2 in zip(u_edges[:-1],d_edges,u_edges[1:]):\n",
    "        if(((d-u)>3) and ((d-u) <500) and ((u2-d>3)) and ((u2-d) <500)):\n",
    "            nchop=nchop+1\n",
    "            ntot=ntot+d-u\n",
    "            i_v.append(np.mean(sv[u:d]))\n",
    "            q_v.append(np.mean(sv[d:u2]))\n",
    "            i_h.append(np.mean(sh[u:d]))\n",
    "            q_h.append(np.mean(sh[d:u2]))\n",
    "    nperchop=2*ntot/nchop\n",
    "    print(ntot,nperchop)\n",
    "    demod_samprate=indata['samprate']/nperchop\n",
    "    i_v=np.array(i_v)\n",
    "    q_v=np.array(q_v)\n",
    "    i_h=np.array(i_h)\n",
    "    q_h=np.array(q_h)\n",
    "    z=i_v-mean(i_v) + 1j*(q_v-mean(q_v))\n",
    "    phi_v=np.unwrap(np.angle(z))\n",
    "    z=i_h-mean(i_h) + 1j*(q_h-mean(q_h))\n",
    "    phi_h=np.unwrap(np.angle(z))    \n",
    "    return {'i_v':i_v,'q_v':q_v,'i_h':i_h,'q_h':q_h,'phi_v':phi_v,'phi_h':phi_h,'samprate':demod_samprate}\n"
   ]
  },
  {
   "cell_type": "code",
   "execution_count": 68,
   "metadata": {
    "collapsed": false
   },
   "outputs": [],
   "source": [
    "def demod_allplot(d,closef=True,plotphase=True,plotxy=True,plottoi=False,plotfft=True,norm=True):\n",
    "    '''\n",
    "    This version of allplot demodulates first, assuming LiNbO3 modulator quadrature, two inputs, and synch a/d 2\n",
    "    set closef to False to overplot on previous figures This version starts with integer array inputs and casts on the fly\n",
    "    '''\n",
    "    gc.enable()\n",
    "    minfreq=.2\n",
    "    dd=demod(d)\n",
    "    sr=np.float(dd['samprate'])\n",
    "    x=arange(len(dd['i_v']))/sr\n",
    "    if closef:\n",
    "        close(1)\n",
    "        close(2)\n",
    "        close(3)\n",
    "        close(4)\n",
    "        gc.collect()\n",
    "    if plotphase:\n",
    "        figure(1)\n",
    "        plot(x,dd['phi_v']-dd['phi_v'][0],label=d['label']+' Vphase')\n",
    "        plot(x,dd['phi_h']-dd['phi_h'][0],label=d['label']+' Hphase')\n",
    "        xlabel('Time [seconds]')\n",
    "        ylabel('Phase [Radians]')\n",
    "        title(d['label'] + ' Phase')\n",
    "        legend()\n",
    "    if plotxy:\n",
    "        figure(2)\n",
    "        plot(dd['i_v'],dd['q_v'],'.',label='Vert')\n",
    "        plot(dd['i_h'],dd['q_h'],'.',label='Hor')\n",
    "        xlabel('I')\n",
    "        ylabel('Q')\n",
    "        title(d['label']+ ' Complex plane')\n",
    "        legend()\n",
    "    if plottoi:\n",
    "        figure(3)\n",
    "        plot(x,dd['i_v'],label='I_v '+d['label'])\n",
    "        plot(x,dd['q_v'],label='Q_v '+d['label'])\n",
    "        plot(x,dd['i_v'],label='I_v '+d['label'])\n",
    "        plot(x,dd['q_v'],label='Q_v '+d['label'])\n",
    "        legend()\n",
    "        xlabel('Time [Seconds]')\n",
    "        ylabel('Signal, [au]')\n",
    "        title(d['label'])\n",
    "        legend()\n",
    "    if plotfft:\n",
    "        figure(4)\n",
    "        zphi_v=cu.nps(dd['phi_v'],dd['samprate'])\n",
    "        plot(zphi_v[0],np.sqrt(zphi_v[1]),label='V_phase  '+d['label'])\n",
    "        zphi_h=cu.nps(dd['phi_h'],dd['samprate'])\n",
    "        plot(zphi_h[0],np.sqrt(zphi_h[1]),label='H_phase  '+d['label'])        \n",
    "        xlabel('Frequency, [Hz]')\n",
    "        ylabel('ASD, [$Rad/ \\sqrt{Hz}$]')\n",
    "        xscale('log')\n",
    "        yscale('log')\n",
    "        title('Phase spectrum')\n",
    "        legend()"
   ]
  },
  {
   "cell_type": "code",
   "execution_count": 12,
   "metadata": {
    "collapsed": false
   },
   "outputs": [],
   "source": [
    "def import_data(filename=None):\n",
    "    '''\n",
    "    function to read in previously stored data and put in format of freshly read data dictionary\n",
    "    '''\n",
    "    if filename==None:\n",
    "        Tk().withdraw() # we don't want a full GUI, so keep the root window from appearing\n",
    "        filename = askopenfilename(initialdir='C:\\\\Interferometer_tests\\\\data',parent=Tk())\n",
    "    hf=h5py.File(filename)\n",
    "    outdata=reshape(hf['data'][:],[2,-1])\n",
    "    samprate=hf['samprate'][0]\n",
    "    labelstring=hf['label'][0]\n",
    "    hf.close()\n",
    "    return {'data':outdata,'samprate':samprate,'label':labelstring}"
   ]
  },
  {
   "cell_type": "code",
   "execution_count": 66,
   "metadata": {
    "collapsed": false
   },
   "outputs": [
    {
     "name": "stdout",
     "output_type": "stream",
     "text": [
      "Time: 5\n",
      "Time: 10\n"
     ]
    }
   ],
   "source": [
    "t6=get_test3(nseconds=10,labelstring='LiNbO_55Omv_5khz_pz1v_10hz')"
   ]
  },
  {
   "cell_type": "code",
   "execution_count": 80,
   "metadata": {
    "collapsed": false
   },
   "outputs": [
    {
     "name": "stdout",
     "output_type": "stream",
     "text": [
      "(39970, 39964)\n",
      "(426077.0, 244.87183908045978)\n"
     ]
    }
   ],
   "source": [
    "dt5=demod(t5)"
   ]
  },
  {
   "cell_type": "code",
   "execution_count": 81,
   "metadata": {
    "collapsed": false
   },
   "outputs": [
    {
     "data": {
      "text/plain": [
       "[<matplotlib.lines.Line2D at 0x3a7ada58>]"
      ]
     },
     "execution_count": 81,
     "metadata": {},
     "output_type": "execute_result"
    }
   ],
   "source": [
    "figure()\n",
    "plot(t5['data'][0])"
   ]
  },
  {
   "cell_type": "code",
   "execution_count": 88,
   "metadata": {
    "collapsed": false
   },
   "outputs": [
    {
     "name": "stdout",
     "output_type": "stream",
     "text": [
      "(199871, 199874)\n",
      "(837683.0, 46.46308724832215)\n"
     ]
    }
   ],
   "source": [
    "demod_allplot(t6)"
   ]
  },
  {
   "cell_type": "code",
   "execution_count": 56,
   "metadata": {
    "collapsed": false
   },
   "outputs": [
    {
     "data": {
      "text/plain": [
       "1015.7099966524395"
      ]
     },
     "execution_count": 56,
     "metadata": {},
     "output_type": "execute_result"
    }
   ],
   "source": [
    "dt4['samprate']"
   ]
  },
  {
   "cell_type": "code",
   "execution_count": 45,
   "metadata": {
    "collapsed": false
   },
   "outputs": [
    {
     "data": {
      "text/plain": [
       "[<matplotlib.lines.Line2D at 0x2ffa8cf8>]"
      ]
     },
     "execution_count": 45,
     "metadata": {},
     "output_type": "execute_result"
    }
   ],
   "source": [
    "figure()\n",
    "plot(iv)\n",
    "plot(qv)\n",
    "plot(ih)\n",
    "plot(qh)\n",
    "figure()\n",
    "plot(phiv-phiv[0])\n",
    "plot(phih-phih[0])"
   ]
  },
  {
   "cell_type": "code",
   "execution_count": 46,
   "metadata": {
    "collapsed": false
   },
   "outputs": [
    {
     "data": {
      "text/plain": [
       "[<matplotlib.lines.Line2D at 0x2fa54780>]"
      ]
     },
     "execution_count": 46,
     "metadata": {},
     "output_type": "execute_result"
    }
   ],
   "source": []
  },
  {
   "cell_type": "code",
   "execution_count": 15,
   "metadata": {
    "collapsed": false,
    "scrolled": true
   },
   "outputs": [
    {
     "name": "stdout",
     "output_type": "stream",
     "text": [
      "Time: 5\n",
      "Time: 10\n",
      "Time: 15\n",
      "Time: 20\n",
      "Time: 25\n",
      "Time: 30\n",
      "Time: 35\n",
      "Time: 40\n",
      "Time: 45\n",
      "Time: 50\n",
      "Time: 55\n",
      "Time: 60\n",
      "Time: 65\n",
      "Time: 70\n",
      "Time: 75\n",
      "Time: 80\n",
      "Time: 85\n",
      "Time: 90\n",
      "Time: 95\n",
      "Time: 100\n",
      "Finished collecting data\n",
      "-\n"
     ]
    }
   ],
   "source": [
    "fiber_pol_25km_smf_7=get_test2(nseconds=100,samprate=250000,labelstring='fiber_pol_splitter_25km_smf_pz80v_1kHz')"
   ]
  },
  {
   "cell_type": "code",
   "execution_count": 31,
   "metadata": {
    "collapsed": false
   },
   "outputs": [],
   "source": [
    "allplot(DUT25km_smf28_pz20Hz_20V_100s)"
   ]
  },
  {
   "cell_type": "code",
   "execution_count": 28,
   "metadata": {
    "collapsed": false
   },
   "outputs": [
    {
     "data": {
      "text/plain": [
       "(2L, 25000000L)"
      ]
     },
     "execution_count": 28,
     "metadata": {},
     "output_type": "execute_result"
    }
   ],
   "source": [
    "shape(fiber_pol_25km_smf_6['data'])"
   ]
  },
  {
   "cell_type": "code",
   "execution_count": 29,
   "metadata": {
    "collapsed": false
   },
   "outputs": [
    {
     "data": {
      "text/plain": [
       "400"
      ]
     },
     "execution_count": 29,
     "metadata": {},
     "output_type": "execute_result"
    }
   ],
   "source": [
    "2*25*8"
   ]
  },
  {
   "cell_type": "code",
   "execution_count": 21,
   "metadata": {
    "collapsed": false
   },
   "outputs": [],
   "source": [
    "allplot(tst1,plotxy=False)"
   ]
  },
  {
   "cell_type": "code",
   "execution_count": 29,
   "metadata": {
    "collapsed": false
   },
   "outputs": [
    {
     "data": {
      "text/plain": [
       "26799"
      ]
     },
     "execution_count": 29,
     "metadata": {},
     "output_type": "execute_result"
    }
   ],
   "source": [
    "close('all')\n",
    "gc.collect()"
   ]
  },
  {
   "cell_type": "code",
   "execution_count": 27,
   "metadata": {
    "collapsed": false
   },
   "outputs": [
    {
     "data": {
      "text/plain": [
       "array([[32755, 32774, 32772, ..., 32770, 32774, 32771],\n",
       "       [32768, 32763, 32767, ..., 32765, 32763, 32766],\n",
       "       [32745, 32758, 32762, ..., 32759, 32755, 32758],\n",
       "       [32766, 32767, 32766, ..., 32766, 32766, 32763]], dtype=uint16)"
      ]
     },
     "execution_count": 27,
     "metadata": {},
     "output_type": "execute_result"
    }
   ],
   "source": [
    "jnk\n"
   ]
  },
  {
   "cell_type": "code",
   "execution_count": 29,
   "metadata": {
    "collapsed": false
   },
   "outputs": [
    {
     "data": {
      "text/plain": [
       "-2.47076571034947"
      ]
     },
     "execution_count": 29,
     "metadata": {},
     "output_type": "execute_result"
    }
   ],
   "source": [
    "phi=getphase(jnk)\n",
    "phi[0]"
   ]
  },
  {
   "cell_type": "code",
   "execution_count": 31,
   "metadata": {
    "collapsed": false
   },
   "outputs": [],
   "source": [
    "def getphase(d):\n",
    "    \"\"\"function to return array of phase in radians from standard get_data dataset, assumes real data in ch0,ch2\"\"\"\n",
    "    v0=i2v(d[0,:])\n",
    "    v1=i2v(d[2][:])\n",
    "    i=v0-np.mean(v0)\n",
    "    q=v1-np.mean(v1)\n",
    "    i=i/np.std(i)\n",
    "    q=q/np.std(q)\n",
    "    z=i-mean(i) + 1j*(q-mean(q))\n",
    "    return(np.mean(np.unwrap(np.angle(z))))"
   ]
  },
  {
   "cell_type": "code",
   "execution_count": 59,
   "metadata": {
    "collapsed": true
   },
   "outputs": [],
   "source": [
    "def getspitphase(vgain=0.1, nseconds=10,rate=1000):\n",
    "    \"\"\"\n",
    "    function to acquire data at 250 KHz for 1/rate at a time, calculate phase, and send out to D/A at 0.1V/rad\n",
    "    \"\"\"\n",
    "    phi=[]\n",
    "    for s in range(10):\n",
    "        d=get_data(freq=250000,nseconds=.001)\n",
    "        #phi.append(getphase(d))\n",
    "        #set_dac(dataVal=vgain*phi[-1])\n",
    "    return(phi)\n",
    "        \n",
    "    \n",
    "        \n",
    "        "
   ]
  },
  {
   "cell_type": "code",
   "execution_count": 60,
   "metadata": {
    "collapsed": false
   },
   "outputs": [
    {
     "data": {
      "text/plain": [
       "[]"
      ]
     },
     "execution_count": 60,
     "metadata": {},
     "output_type": "execute_result"
    }
   ],
   "source": [
    "getspitphase(nseconds=2)"
   ]
  },
  {
   "cell_type": "code",
   "execution_count": null,
   "metadata": {
    "collapsed": true
   },
   "outputs": [],
   "source": []
  }
 ],
 "metadata": {
  "anaconda-cloud": {},
  "kernelspec": {
   "display_name": "Python [conda env:py27]",
   "language": "python",
   "name": "conda-env-py27-py"
  },
  "language_info": {
   "codemirror_mode": {
    "name": "ipython",
    "version": 2
   },
   "file_extension": ".py",
   "mimetype": "text/x-python",
   "name": "python",
   "nbconvert_exporter": "python",
   "pygments_lexer": "ipython2",
   "version": "2.7.12"
  }
 },
 "nbformat": 4,
 "nbformat_minor": 0
}
