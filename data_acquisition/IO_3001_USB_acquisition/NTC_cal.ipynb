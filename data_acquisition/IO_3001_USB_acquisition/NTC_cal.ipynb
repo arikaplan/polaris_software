{
 "cells": [
  {
   "cell_type": "code",
   "execution_count": 1,
   "metadata": {
    "collapsed": false
   },
   "outputs": [
    {
     "name": "stdout",
     "output_type": "stream",
     "text": [
      "Using matplotlib backend: Qt4Agg\n",
      "Populating the interactive namespace from numpy and matplotlib\n"
     ]
    }
   ],
   "source": [
    "from daq import daqDevice\n",
    "import daqh\n",
    "import numpy as np\n",
    "import time\n",
    "import serial\n",
    "import sys\n",
    "import os\n",
    "sys.path.append('C:\\software_git_repos\\cofe-python-analysis-tools\\utils_meinhold')\n",
    "sys.path.append('C:\\software_git_repos\\cofe-python-analysis-tools\\utils_zonca')\n",
    "sys.path.append('C:\\software_git_repos\\cofe-python-analysis-tools\\utils_zonca\\demod')\n",
    "import cofe_util as cu\n",
    "sys.path.append('C:\\\\Anaconda3\\\\envs\\\\py27\\\\Scripts')\n",
    "import h5py\n",
    "%pylab"
   ]
  },
  {
   "cell_type": "code",
   "execution_count": 54,
   "metadata": {
    "collapsed": false
   },
   "outputs": [
    {
     "data": {
      "text/plain": [
       "<matplotlib.text.Text at 0x166f1a630>"
      ]
     },
     "execution_count": 54,
     "metadata": {},
     "output_type": "execute_result"
    }
   ],
   "source": [
    "rs=16.+arange(10)/5. \n",
    "z2=cu.nps(d[1],10000,.01)\n",
    "figure()\n",
    "plot(z2[0],np.sqrt(z2[1]),label='Sky')\n",
    "for r in rs:\n",
    "    diff=d[1]-d[0]*r\n",
    "    zdiff=cu.nps(diff,10000,.01)\n",
    "    plot(zdiff[0],np.sqrt(zdiff[1]),label='Zdiff r=%s' %str(r),lw=2)\n",
    "xscale('log')\n",
    "yscale('log')\n",
    "legend()\n",
    "xlabel('Frequency, [Hz]')\n",
    "ylabel('ASD, [$nV \\sqrt{sec}$]')\n",
    "title('Internal difference scaled radiometer ASD, 12/21/15, prm')"
   ]
  },
  {
   "cell_type": "code",
   "execution_count": 70,
   "metadata": {
    "collapsed": false
   },
   "outputs": [
    {
     "data": {
      "text/plain": [
       "<matplotlib.text.Text at 0x1aa6b2438>"
      ]
     },
     "execution_count": 70,
     "metadata": {},
     "output_type": "execute_result"
    }
   ],
   "source": [
    "r=16.35 \n",
    "z2=cu.nps(d[1],10000,.01)\n",
    "figure()\n",
    "plot(z2[0],np.sqrt(z2[1]),label='Sky')\n",
    "diff=d[1]-d[0]*r\n",
    "zdiff=cu.nps(diff,10000,.01)\n",
    "plot(zdiff[0],np.sqrt(zdiff[1]),label='Zdiff r=%s' %str(r),lw=2)\n",
    "xscale('log')\n",
    "yscale('log')\n",
    "legend()\n",
    "xlabel('Frequency, [Hz]')\n",
    "ylabel('ASD, [$nV \\sqrt{sec}$ ]')\n",
    "title('Internal difference scaled radiometer ASD, 12/17/15, prm')"
   ]
  },
  {
   "cell_type": "code",
   "execution_count": 90,
   "metadata": {
    "collapsed": false
   },
   "outputs": [
    {
     "data": {
      "text/plain": [
       "<matplotlib.text.Text at 0x19046cc88>"
      ]
     },
     "execution_count": 90,
     "metadata": {},
     "output_type": "execute_result"
    }
   ],
   "source": [
    "#plot calibrated 1000 sec data set\n",
    "r=16.35 \n",
    "z2=cu.nps(d1000sec[1],10000,.001)\n",
    "figure()\n",
    "plot(z2[0],1000*cal*np.sqrt(z2[1])/1e4,label='Sky')\n",
    "diff=d1000sec[1]-d1000sec[0]*r\n",
    "zdiff=cu.nps(diff,10000,.001)\n",
    "plot(zdiff[0],1000*cal*np.sqrt(zdiff[1])/1e4,label='Zdiff r=%s' %str(r),lw=2)\n",
    "xscale('log')\n",
    "yscale('log')\n",
    "legend()\n",
    "xlabel('Frequency, [Hz]')\n",
    "ylabel('ASD, [$mK \\sqrt{sec}$ ]')\n",
    "title('Internal difference scaled radiometer ASD, 1000 seconds, 12/17/15, prm')"
   ]
  },
  {
   "cell_type": "code",
   "execution_count": 91,
   "metadata": {
    "collapsed": true
   },
   "outputs": [],
   "source": [
    "yscale('linear')\n",
    "xscale('linear')"
   ]
  },
  {
   "cell_type": "code",
   "execution_count": 79,
   "metadata": {
    "collapsed": false
   },
   "outputs": [],
   "source": [
    "vsky300=15.8e-3\n",
    "vsky77=8.66e-3\n",
    "vref300=0.954e-3\n",
    "vref77=0.954e-3"
   ]
  },
  {
   "cell_type": "code",
   "execution_count": 80,
   "metadata": {
    "collapsed": false
   },
   "outputs": [
    {
     "name": "stdout",
     "output_type": "stream",
     "text": [
      "193.473389356\n"
     ]
    }
   ],
   "source": [
    "y=vsky300/vsky77\n",
    "tsys=(300-77*y)/(y-1)\n",
    "print(tsys)\n",
    "cal=(300-77)/(vsky300-vsky77)"
   ]
  },
  {
   "cell_type": "code",
   "execution_count": 96,
   "metadata": {
    "collapsed": false
   },
   "outputs": [
    {
     "name": "stdout",
     "output_type": "stream",
     "text": [
      "0.00912870929175\n"
     ]
    }
   ],
   "source": [
    "print(500/np.sqrt(3e9))"
   ]
  },
  {
   "cell_type": "code",
   "execution_count": 59,
   "metadata": {
    "collapsed": false
   },
   "outputs": [],
   "source": [
    "d1000sec=copy(d)"
   ]
  },
  {
   "cell_type": "code",
   "execution_count": 72,
   "metadata": {
    "collapsed": false
   },
   "outputs": [
    {
     "data": {
      "text/plain": [
       "(2L, 10000000L)"
      ]
     },
     "execution_count": 72,
     "metadata": {},
     "output_type": "execute_result"
    }
   ],
   "source": [
    "shape(d1000sec)"
   ]
  },
  {
   "cell_type": "code",
   "execution_count": 28,
   "metadata": {
    "collapsed": false
   },
   "outputs": [
    {
     "data": {
      "text/plain": [
       "<matplotlib.legend.Legend at 0x1c8f9da0>"
      ]
     },
     "execution_count": 28,
     "metadata": {},
     "output_type": "execute_result"
    }
   ],
   "source": [
    "\n",
    "figure()\n",
    "plot(d300k[1,:]/gain[0],label='ref')\n",
    "plot(d300k[2,:]/gain[1],label='sky')\n",
    "\n",
    "legend()"
   ]
  },
  {
   "cell_type": "code",
   "execution_count": 11,
   "metadata": {
    "collapsed": false
   },
   "outputs": [
    {
     "data": {
      "text/plain": [
       "<matplotlib.legend.Legend at 0x16e37390>"
      ]
     },
     "execution_count": 11,
     "metadata": {},
     "output_type": "execute_result"
    }
   ],
   "source": [
    "figure()\n",
    "plot(d1m[:100000]/1e3,label='1 Mohm')\n",
    "plot(dterm[:100000]/1e4,label='50 ohm term')\n",
    "legend()"
   ]
  },
  {
   "cell_type": "code",
   "execution_count": 21,
   "metadata": {
    "collapsed": false
   },
   "outputs": [],
   "source": [
    "zterm=util.nps(dterm/1.e4,10000,.01)\n",
    "z1m=util.nps(d1m/1.e3,10000,.01)"
   ]
  },
  {
   "cell_type": "code",
   "execution_count": 29,
   "metadata": {
    "collapsed": true
   },
   "outputs": [],
   "source": [
    "Rn=(0.13*np.sqrt(1e6)/np.sqrt(2))"
   ]
  },
  {
   "cell_type": "code",
   "execution_count": 31,
   "metadata": {
    "collapsed": false
   },
   "outputs": [
    {
     "data": {
      "text/plain": [
       "91.923881554251167"
      ]
     },
     "execution_count": 31,
     "metadata": {},
     "output_type": "execute_result"
    }
   ],
   "source": [
    "Rn"
   ]
  },
  {
   "cell_type": "code",
   "execution_count": 43,
   "metadata": {
    "collapsed": false
   },
   "outputs": [
    {
     "data": {
      "text/plain": [
       "<matplotlib.legend.Legend at 0x49857550>"
      ]
     },
     "execution_count": 43,
     "metadata": {},
     "output_type": "execute_result"
    }
   ],
   "source": [
    "figure()\n",
    "plot(zterm[0],1e9*sqrt(zterm[1]),label='50 Ohm term')\n",
    "plot(z1m[0],1e9*sqrt(z1m[1]),label='1 Mohm')\n",
    "hlines(Rn,min(z1m[0]),max(z1m[0]),color='r',lw=2,zorder=3)\n",
    "ylabel('ASD, [nV $\\sqrt{sec}$ ]')\n",
    "xlabel('Frequency, [Hz]')\n",
    "yscale('log')\n",
    "xscale('log')\n",
    "legend()"
   ]
  }
 ],
 "metadata": {
  "kernelspec": {
   "display_name": "Python 2",
   "language": "python",
   "name": "python2"
  },
  "language_info": {
   "codemirror_mode": {
    "name": "ipython",
    "version": 2
   },
   "file_extension": ".py",
   "mimetype": "text/x-python",
   "name": "python",
   "nbconvert_exporter": "python",
   "pygments_lexer": "ipython2",
   "version": "2.7.11"
  }
 },
 "nbformat": 4,
 "nbformat_minor": 0
}
