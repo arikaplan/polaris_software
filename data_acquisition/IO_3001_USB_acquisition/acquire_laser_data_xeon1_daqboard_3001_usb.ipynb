{
 "cells": [
  {
   "cell_type": "code",
   "execution_count": 1,
   "metadata": {
    "collapsed": false,
    "scrolled": true
   },
   "outputs": [
    {
     "name": "stdout",
     "output_type": "stream",
     "text": [
      "Using matplotlib backend: Qt5Agg\n",
      "Populating the interactive namespace from numpy and matplotlib\n"
     ]
    }
   ],
   "source": [
    "import numpy as np\n",
    "import time\n",
    "import sys\n",
    "import os\n",
    "sys.path.append('C:\\\\git_repos\\\\cofe-python-analysis-tools\\\\utils_meinhold')\n",
    "sys.path.append('C:\\\\git_repos\\\\cofe-python-analysis-tools\\\\utils_zonca')\n",
    "sys.path.append('C:\\git_repos\\lab_utilities\\IO_3001_USB_acquisition')\n",
    "sys.path.append('C:\\\\Anaconda3\\\\envs\\\\py27\\\\Scripts')\n",
    "from daq import daqDevice\n",
    "import daqh\n",
    "from prm_util import nps\n",
    "import h5py\n",
    "%pylab\n",
    "\n",
    "import prm_util as cu\n",
    "\n",
    "from Tkinter import Tk\n",
    "from tkFileDialog import askopenfilename\n",
    "\n",
    "acqmode=daqh.DaamInfinitePost"
   ]
  },
  {
   "cell_type": "code",
   "execution_count": 2,
   "metadata": {
    "collapsed": true
   },
   "outputs": [],
   "source": [
    "def get_data(nchan=4,freq=10,nseconds=5,comment='None',alerts=[58,59,60,118,119,120,178,179,180,238,239,240,298,299,300]):\n",
    "    \"\"\"\n",
    "    function to simply aquire nchan a/d channels at rate freq\n",
    "    for nseconds seconds\n",
    "    \"\"\"\n",
    "    \n",
    "    #outdata=np.zeros([nchan,nscans],dtype=float)\n",
    "    dev=daqDevice('DaqBoard3001USB')\n",
    "    gains=[]\n",
    "    flags=[]\n",
    "    chans=[]\n",
    "    if nchan > 8:\n",
    "        uchan=nchan-8\n",
    "        for i in range(8):\n",
    "            gains.append(daqh.DgainX1)\n",
    "            flags.append(daqh.DafBipolar|daqh.DafDifferential)\n",
    "            chans.append(i)\n",
    "        for i in range(uchan):\n",
    "            gains.append(daqh.DgainX1)\n",
    "            flags.append(daqh.DafBipolar|daqh.DafDifferential)\n",
    "            chans.append(256+i)   #HERE is the famous fix where DaqX refs upper level dif channels!\n",
    "    elif nchan<9:      \n",
    "        for i in range(nchan):\n",
    "            gains.append(daqh.DgainX1)\n",
    "            flags.append(daqh.DafBipolar|daqh.DafDifferential)\n",
    "            chans.append(i)\n",
    "    acqmode = daqh.DaamNShot\n",
    "    dev.AdcSetAcq(acqmode, postTrigCount = nseconds*freq)\n",
    "    dev.AdcSetScan(chans,gains,flags)\n",
    "    dev.AdcSetFreq(freq)\n",
    "    #use the driver buffer here user buffer was very limited (the way I tried anyway) \n",
    "    transMask = daqh.DatmUpdateBlock|daqh.DatmCycleOn|daqh.DatmDriverBuf\n",
    "\n",
    "    buf=dev.AdcTransferSetBuffer(transMask, np.uint(nseconds*freq*nchan))\n",
    "    #bufMask is for transferring the buffer\n",
    "    bufMask = daqh.DabtmOldest | daqh.DabtmRetAvail\n",
    "\n",
    "    timestart = (time.time())\n",
    "    timenotify = timestart + 5\n",
    "\n",
    "    dev.SetTriggerEvent(daqh.DatsImmediate,None, 0, np.array(gains[0],dtype=int), np.array(flags[0],dtype=int), daqh.DaqTypeAnalogLocal, 0, 0, daqh.DaqStartEvent)\n",
    "    dev.SetTriggerEvent(daqh.DatsScanCount,None, 0, np.array(gains[0],dtype=int), np.array(flags[0],dtype=int), daqh.DaqTypeAnalogLocal, 0, 0, daqh.DaqStopEvent)\n",
    "    dev.AdcTransferStart()\n",
    "    dev.AdcArm()\n",
    "    \n",
    "    while True:\n",
    "        alertscopy=alerts[:]\n",
    "        timenotify = checkAlerts(timenotify, timestart, alerts,alertscopy)        \n",
    "        \n",
    "        stat = dev.AdcTransferGetStat()\n",
    "        active = stat['active']\n",
    "        if not (active & daqh.DaafAcqActive):\n",
    "            break\n",
    "    dev.AdcDisarm()\n",
    "    outdata,ret=dev.AdcTransferBufData(nseconds*freq, nchan,bufMask)\n",
    "    \n",
    "    outdata=np.array(outdata,dtype=float)\n",
    "    outdata=(outdata-2**15)*20./2**16\n",
    "    outdata=np.transpose(np.reshape(outdata,[nseconds*freq,nchan]))\n",
    "    print \"Finished collecting data\\n-\"\n",
    "    dev.Close()    \n",
    "    return outdata"
   ]
  },
  {
   "cell_type": "code",
   "execution_count": 4,
   "metadata": {
    "collapsed": true
   },
   "outputs": [],
   "source": [
    "def checkAlerts(timeupdate,timestart, alerts, alertscopy, updateincrement=5):\n",
    "    timecheck = (time.time())\n",
    "    if timecheck > timeupdate:\n",
    "        print \"Time: \" + str(int(timecheck - timestart))\n",
    "        timeupdate += updateincrement\n",
    "    for alert in alerts:\n",
    "        if (timecheck - timestart)%60 > alert:\n",
    "            print \"---- \" + str(int(timecheck - timestart)) + \" SECONDS ----\"\n",
    "            alerts.remove(alert)\n",
    "    if 2<(timecheck -timestart%60)<3:\n",
    "        alerts = alertscopy[:]\n",
    "        \n",
    "        \n",
    "    return timeupdate"
   ]
  },
  {
   "cell_type": "code",
   "execution_count": 5,
   "metadata": {
    "collapsed": true
   },
   "outputs": [],
   "source": [
    "def get_date_filename(labelstring=''):\n",
    "    #version for testing adds an optional string to identify tests\n",
    "    now=time.localtime()[0:6]\n",
    "    dirfmt = \"C:\\\\Interferometer_tests\\\\data\\\\%4d_%02d_%02d\"\n",
    "    dirname = dirfmt % now[0:3]\n",
    "    filefmt = \"%02d_%02d_%02d.h5\"\n",
    "    filename= labelstring+filefmt % now[3:6]\n",
    "    ffilename=os.path.join(dirname,filename)\n",
    "    if not os.path.exists(dirname):\n",
    "        os.mkdir(dirname)\n",
    "    return(ffilename)"
   ]
  },
  {
   "cell_type": "code",
   "execution_count": 6,
   "metadata": {
    "collapsed": true
   },
   "outputs": [],
   "source": [
    "def zplot(d_dict_list,minfreq=1,chan=0):\n",
    "    \"\"\"\n",
    "    calculate asd's and overplot all from list of data dictionaries, assumed to have meaningful\n",
    "    keynames for legend\n",
    "    \"\"\"\n",
    "    figure()\n",
    "    for d_dict in d_dict_list:\n",
    "        if len(d_dict['data'])>2:\n",
    "            z=cu.nps(d_dict['data'],d_dict['samprate'],minfreq=minfreq)\n",
    "        else:\n",
    "            z=cu.nps(d_dict['data'][chan],d_dict['samprate'],minfreq=minfreq)\n",
    "        plot(z[0],np.sqrt(z[1]),label=d_dict['label'])\n",
    "    xlabel('Frequency, [Hz]')\n",
    "    ylabel('ASD, [$nV \\sqrt{sec}$]')\n",
    "    xscale('log')\n",
    "    yscale('log')\n",
    "    legend()\n",
    "    title('Comparison spectra')\n",
    "    legend()"
   ]
  },
  {
   "cell_type": "code",
   "execution_count": 7,
   "metadata": {
    "collapsed": false
   },
   "outputs": [],
   "source": [
    "#use this function- box is set up with terminations on alternate channels to increase isolation\n",
    "def get_test(samprate=10000,nseconds=10,labelstring='test',minfreq=1):\n",
    "    s=[0]  #active channels, intervening ones are terminated to increase isolation\n",
    "    d=get_data(nchan=1,freq=samprate,nseconds=nseconds)\n",
    "    outdata=squeeze(d[s,:])\n",
    "    fname=get_date_filename(labelstring)\n",
    "    with h5py.File(fname, mode='w') as hdf_file:\n",
    "        hdf_file.create_dataset('data', data=outdata)\n",
    "        hdf_file.create_dataset('samprate', data=[samprate])\n",
    "        hdf_file.create_dataset('label', data=[labelstring])\n",
    "        hdf_file.close()\n",
    "    return {'data':outdata,'samprate':samprate,'label':labelstring}"
   ]
  },
  {
   "cell_type": "code",
   "execution_count": 8,
   "metadata": {
    "collapsed": true
   },
   "outputs": [],
   "source": [
    "def allplot(d,closef=True,norm=True):\n",
    "    '''\n",
    "    set closef to False to overplot on previous figures\n",
    "    '''\n",
    "    minfreq=.2\n",
    "    sr=np.float(d['samprate'])\n",
    "    x=arange(len(d['data'][0]))/sr\n",
    "    i=d['data'][0]-np.mean(d['data'][0])\n",
    "    q=d['data'][1]-np.mean(d['data'][1])\n",
    "    if norm:\n",
    "        i=i/np.std(i)\n",
    "        q=q/np.std(q)\n",
    "    z=i-mean(i) + 1j*(q-mean(q))\n",
    "    phi=np.unwrap(np.angle(z))\n",
    "    if closef:\n",
    "        close(1)\n",
    "        close(2)\n",
    "        close(3)\n",
    "    figure(1)\n",
    "    plot(x,phi,label=d['label'])\n",
    "    xlabel('Time [seconds]')\n",
    "    ylabel('Phase [Radians]')\n",
    "    title(d['label'] + ' Phase')\n",
    "    legend()\n",
    "    figure(2)\n",
    "    plot(i,q,'.')\n",
    "    xlabel('I')\n",
    "    ylabel('Q')\n",
    "    title(d['label']+ ' Complex plane')\n",
    "    legend()\n",
    "    \n",
    "    figure(3)\n",
    "    plot(x,i,label='I '+d['label'])\n",
    "    plot(x,q,label='Q '+d['label'])\n",
    "    legend()\n",
    "    xlabel('Time [Seconds]')\n",
    "    ylabel('Signal, [au]')\n",
    "    title(d['label'])\n",
    "    legend()\n",
    "    \n",
    "    figure(4)\n",
    "    zphi=cu.nps(phi,d['samprate'])\n",
    "    plot(zphi[0],np.sqrt(zphi[1]),label='Phase  '+d['label'])\n",
    "    xlabel('Frequency, [Hz]')\n",
    "    ylabel('ASD, [$nV \\sqrt{sec}$]')\n",
    "    xscale('log')\n",
    "    yscale('log')\n",
    "    title('Phase spectrum')\n",
    "    legend()"
   ]
  },
  {
   "cell_type": "code",
   "execution_count": 9,
   "metadata": {
    "collapsed": false
   },
   "outputs": [],
   "source": [
    "#use this function- box is set up with terminations on alternate channels to increase isolation\n",
    "def get_test2(samprate=10000,nseconds=10,labelstring='test',minfreq=1):\n",
    "    s=[0,2]  #active channels, intervening ones are terminated to increase isolation\n",
    "    d=get_data(nchan=4,freq=samprate,nseconds=nseconds)\n",
    "    outdata=squeeze(d[s,:])\n",
    "    fname=get_date_filename(labelstring)\n",
    "    with h5py.File(fname, mode='w') as hdf_file:\n",
    "        hdf_file.create_dataset('data', data=outdata)\n",
    "        hdf_file.create_dataset('samprate', data=[samprate])\n",
    "        hdf_file.create_dataset('label', data=[labelstring])\n",
    "        hdf_file.close()\n",
    "    return {'data':outdata,'samprate':samprate,'label':labelstring}"
   ]
  },
  {
   "cell_type": "code",
   "execution_count": 69,
   "metadata": {
    "collapsed": false
   },
   "outputs": [],
   "source": [
    "def import_data(filename=None):\n",
    "    '''\n",
    "    function to read in previously stored data and put in format of freshly read data dictionary\n",
    "    '''\n",
    "    \n",
    "    if filename==None:\n",
    "        Tk().withdraw() # we don't want a full GUI, so keep the root window from appearing\n",
    "        filename = askopenfilename(initialdir='C:\\\\Interferometer_tests\\\\io_3001_usb_data')\n",
    "    hf=h5py.File(filename)\n",
    "    outdata=reshape(hf['data'][:],[2,-1])\n",
    "    samprate=hf['samprate'][0]\n",
    "    labelstring=hf['label'][0]\n",
    "    hf.close()\n",
    "    return {'data':outdata,'samprate':samprate,'label':labelstring}"
   ]
  },
  {
   "cell_type": "code",
   "execution_count": 10,
   "metadata": {
    "collapsed": false
   },
   "outputs": [],
   "source": [
    "def demod(indata):\n",
    "    #function to extract I,Q from data, sync\n",
    "    dd=indata['data'][1,4:] - indata['data'][1,:-4]\n",
    "    signal=indata['data'][0,4:]\n",
    "    x=arange(len(dd))\n",
    "    d_edges=x[where(dd > 2.)]\n",
    "    u_edges=x[where(dd < -2.)]\n",
    "    #trim these lists to avoid partials at the end, and force first edge to be rising \n",
    "    #last edge to be falling one\n",
    "    u_edges=u_edges[1:-1]\n",
    "    d_edges=d_edges[where(d_edges > u_edges[0])]\n",
    "    d_edges=d_edges[where(d_edges < u_edges[-1])]\n",
    "    phase1=[]\n",
    "    phase2=[]\n",
    "    print(len(d_edges),len(u_edges))\n",
    "    for u,d,u2 in zip(u_edges[:-1],d_edges,u_edges[1:]):\n",
    "        if(((d-u)>5) and ((d-u) <100) and ((u2-d>5)) and ((u2-d) <100)):\n",
    "            phase1.append(np.mean(signal[u:d]))\n",
    "            phase2.append(np.mean(signal[d:u2]))\n",
    "    i=np.array(phase1)\n",
    "    q=np.array(phase2)\n",
    "    z=i-mean(i) + 1j*(q-mean(q))\n",
    "    phi=np.unwrap(np.angle(z))\n",
    "    return i,q,phi\n",
    "    #return x,u_edges,d_edges,dd"
   ]
  },
  {
   "cell_type": "code",
   "execution_count": 58,
   "metadata": {
    "collapsed": false,
    "scrolled": true
   },
   "outputs": [
    {
     "name": "stdout",
     "output_type": "stream",
     "text": [
      "Time: 5\n",
      "Time: 10\n",
      "Time: 15\n",
      "Time: 20\n",
      "Finished collecting data\n",
      "-\n"
     ]
    }
   ],
   "source": [
    "d4=get_test2(nseconds=20,samprate=20000,labelstring='DUT_smf25km_tap')"
   ]
  },
  {
   "cell_type": "code",
   "execution_count": 69,
   "metadata": {
    "collapsed": false
   },
   "outputs": [],
   "source": [
    "allplot(d1)"
   ]
  },
  {
   "cell_type": "code",
   "execution_count": 65,
   "metadata": {
    "collapsed": false,
    "scrolled": false
   },
   "outputs": [],
   "source": [
    "zplot([d1],minfreq=.1,chan=0)"
   ]
  },
  {
   "cell_type": "code",
   "execution_count": 77,
   "metadata": {
    "collapsed": false
   },
   "outputs": [
    {
     "data": {
      "text/plain": [
       "[<matplotlib.lines.Line2D at 0x14ae27f0>]"
      ]
     },
     "execution_count": 77,
     "metadata": {},
     "output_type": "execute_result"
    }
   ],
   "source": [
    "figure()\n",
    "plot(d4['data'][0])\n",
    "plot(d4['data'][1])"
   ]
  },
  {
   "cell_type": "code",
   "execution_count": 70,
   "metadata": {
    "collapsed": false
   },
   "outputs": [],
   "source": [
    "d=import_data()"
   ]
  },
  {
   "cell_type": "code",
   "execution_count": 71,
   "metadata": {
    "collapsed": false
   },
   "outputs": [
    {
     "name": "stderr",
     "output_type": "stream",
     "text": [
      "Traceback (most recent call last):\n",
      "  File \"C:\\Program Files\\Anaconda3\\envs\\py27\\lib\\site-packages\\matplotlib\\backends\\backend_qt5agg.py\", line 180, in __draw_idle_agg\n",
      "    FigureCanvasAgg.draw(self)\n",
      "  File \"C:\\Program Files\\Anaconda3\\envs\\py27\\lib\\site-packages\\matplotlib\\backends\\backend_agg.py\", line 474, in draw\n",
      "    self.figure.draw(self.renderer)\n",
      "  File \"C:\\Program Files\\Anaconda3\\envs\\py27\\lib\\site-packages\\matplotlib\\artist.py\", line 62, in draw_wrapper\n",
      "    draw(artist, renderer, *args, **kwargs)\n",
      "  File \"C:\\Program Files\\Anaconda3\\envs\\py27\\lib\\site-packages\\matplotlib\\figure.py\", line 1159, in draw\n",
      "    func(*args)\n",
      "  File \"C:\\Program Files\\Anaconda3\\envs\\py27\\lib\\site-packages\\matplotlib\\artist.py\", line 62, in draw_wrapper\n",
      "    draw(artist, renderer, *args, **kwargs)\n",
      "  File \"C:\\Program Files\\Anaconda3\\envs\\py27\\lib\\site-packages\\matplotlib\\axes\\_base.py\", line 2319, in draw\n",
      "    a.draw(renderer)\n",
      "  File \"C:\\Program Files\\Anaconda3\\envs\\py27\\lib\\site-packages\\matplotlib\\artist.py\", line 62, in draw_wrapper\n",
      "    draw(artist, renderer, *args, **kwargs)\n",
      "  File \"C:\\Program Files\\Anaconda3\\envs\\py27\\lib\\site-packages\\matplotlib\\lines.py\", line 771, in draw\n",
      "    drawFunc(renderer, gc, tpath, affine.frozen())\n",
      "  File \"C:\\Program Files\\Anaconda3\\envs\\py27\\lib\\site-packages\\matplotlib\\lines.py\", line 1209, in _draw_lines\n",
      "    self._lineFunc(renderer, gc, path, trans)\n",
      "  File \"C:\\Program Files\\Anaconda3\\envs\\py27\\lib\\site-packages\\matplotlib\\lines.py\", line 1234, in _draw_solid\n",
      "    renderer.draw_path(gc, path, trans)\n",
      "  File \"C:\\Program Files\\Anaconda3\\envs\\py27\\lib\\site-packages\\matplotlib\\backends\\backend_agg.py\", line 166, in draw_path\n",
      "    self._renderer.draw_path(gc, path, transform, rgbFace)\n",
      "OverflowError: In draw_path: Exceeded cell block limit\n"
     ]
    }
   ],
   "source": [
    "allplot(d)\n",
    "    "
   ]
  },
  {
   "cell_type": "code",
   "execution_count": 68,
   "metadata": {
    "collapsed": false
   },
   "outputs": [
    {
     "data": {
      "text/plain": [
       "'test'"
      ]
     },
     "execution_count": 68,
     "metadata": {},
     "output_type": "execute_result"
    }
   ],
   "source": [
    "d['label']"
   ]
  },
  {
   "cell_type": "code",
   "execution_count": 66,
   "metadata": {
    "collapsed": false
   },
   "outputs": [
    {
     "data": {
      "text/plain": [
       "<HDF5 file \"test17_24_07.h5\" (mode r+)>"
      ]
     },
     "execution_count": 66,
     "metadata": {},
     "output_type": "execute_result"
    }
   ],
   "source": [
    "df"
   ]
  },
  {
   "cell_type": "code",
   "execution_count": null,
   "metadata": {
    "collapsed": true
   },
   "outputs": [],
   "source": []
  }
 ],
 "metadata": {
  "anaconda-cloud": {},
  "kernelspec": {
   "display_name": "Python [conda env:py27]",
   "language": "python",
   "name": "conda-env-py27-py"
  },
  "language_info": {
   "codemirror_mode": {
    "name": "ipython",
    "version": 2
   },
   "file_extension": ".py",
   "mimetype": "text/x-python",
   "name": "python",
   "nbconvert_exporter": "python",
   "pygments_lexer": "ipython2",
   "version": "2.7.12"
  }
 },
 "nbformat": 4,
 "nbformat_minor": 0
}
