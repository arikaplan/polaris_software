{
 "cells": [
  {
   "cell_type": "code",
   "execution_count": 1,
   "metadata": {
    "collapsed": false
   },
   "outputs": [
    {
     "name": "stdout",
     "output_type": "stream",
     "text": [
      "Using matplotlib backend: Qt4Agg\n",
      "Populating the interactive namespace from numpy and matplotlib\n"
     ]
    }
   ],
   "source": [
    "from daq import daqDevice\n",
    "import daqh\n",
    "import numpy as np\n",
    "import time\n",
    "import serial\n",
    "import sys\n",
    "import os\n",
    "sys.path.append('C:\\software_git_repos\\cofe-python-analysis-tools\\utils_meinhold')\n",
    "sys.path.append('C:\\software_git_repos\\cofe-python-analysis-tools\\utils_zonca')\n",
    "sys.path.append('C:\\software_git_repos\\cofe-python-analysis-tools\\utils_zonca\\demod')\n",
    "import cofe_util as cu\n",
    "sys.path.append('C:\\\\Anaconda3\\\\envs\\\\py27\\\\Scripts')\n",
    "import h5py\n",
    "%pylab"
   ]
  },
  {
   "cell_type": "code",
   "execution_count": 2,
   "metadata": {
    "collapsed": false
   },
   "outputs": [],
   "source": [
    "def import_data(filename=None):\n",
    "    '''\n",
    "    function to read in previously stored data and put in format of freshly read data dictionary\n",
    "    '''\n",
    "    \n",
    "    if filename==None:\n",
    "        Tk().withdraw() # we don't want a full GUI, so keep the root window from appearing\n",
    "        filename = askopenfilename()\n",
    "    hf=h5py.File(filename)\n",
    "    key=hf.keys()[0]\n",
    "    d={}\n",
    "    d[key]=squeeze(array(hf[key][0:]))\n",
    "    hf.close()\n",
    "    return d"
   ]
  },
  {
   "cell_type": "code",
   "execution_count": 3,
   "metadata": {
    "collapsed": true
   },
   "outputs": [],
   "source": [
    "import cofe_util as cu"
   ]
  },
  {
   "cell_type": "code",
   "execution_count": 4,
   "metadata": {
    "collapsed": true
   },
   "outputs": [],
   "source": [
    "from Tkinter import Tk\n",
    "from tkFileDialog import askopenfilename"
   ]
  },
  {
   "cell_type": "code",
   "execution_count": 37,
   "metadata": {
    "collapsed": false
   },
   "outputs": [],
   "source": [
    "acqmode=daqh.DaamInfinitePost"
   ]
  },
  {
   "cell_type": "code",
   "execution_count": 6,
   "metadata": {
    "collapsed": true
   },
   "outputs": [],
   "source": [
    "def get_data(nchan=4,freq=10,nseconds=5,comment='None',alerts=[58,59,60,118,119,120,178,179,180,238,239,240,298,299,300]):\n",
    "    \"\"\"\n",
    "    function to simply aquire nchan a/d channels at rate freq\n",
    "    for nseconds seconds\n",
    "    \"\"\"\n",
    "    \n",
    "    #outdata=np.zeros([nchan,nscans],dtype=float)\n",
    "    dev=daqDevice('DaqBoard3001USB')\n",
    "    gains=[]\n",
    "    flags=[]\n",
    "    chans=[]\n",
    "    if nchan > 8:\n",
    "        uchan=nchan-8\n",
    "        for i in range(8):\n",
    "            gains.append(daqh.DgainX1)\n",
    "            flags.append(daqh.DafBipolar|daqh.DafDifferential)\n",
    "            chans.append(i)\n",
    "        for i in range(uchan):\n",
    "            gains.append(daqh.DgainX1)\n",
    "            flags.append(daqh.DafBipolar|daqh.DafDifferential)\n",
    "            chans.append(256+i)   #HERE is the famous fix where DaqX refs upper level dif channels!\n",
    "    elif nchan<9:      \n",
    "        for i in range(nchan):\n",
    "            gains.append(daqh.DgainX1)\n",
    "            flags.append(daqh.DafBipolar|daqh.DafDifferential)\n",
    "            chans.append(i)\n",
    "    acqmode = daqh.DaamNShot\n",
    "    dev.AdcSetAcq(acqmode, postTrigCount = nseconds*freq)\n",
    "    dev.AdcSetScan(chans,gains,flags)\n",
    "    dev.AdcSetFreq(freq)\n",
    "    #use the driver buffer here user buffer was very limited (the way I tried anyway) \n",
    "    transMask = daqh.DatmUpdateBlock|daqh.DatmCycleOn|daqh.DatmDriverBuf\n",
    "\n",
    "    buf=dev.AdcTransferSetBuffer(transMask, np.uint(nseconds*freq*nchan))\n",
    "    #bufMask is for transferring the buffer\n",
    "    bufMask = daqh.DabtmOldest | daqh.DabtmRetAvail\n",
    "\n",
    "    timestart = (time.time())\n",
    "    timenotify = timestart + 5\n",
    "\n",
    "    dev.SetTriggerEvent(daqh.DatsImmediate,None, 0, np.array(gains[0],dtype=int), np.array(flags[0],dtype=int), daqh.DaqTypeAnalogLocal, 0, 0, daqh.DaqStartEvent)\n",
    "    dev.SetTriggerEvent(daqh.DatsScanCount,None, 0, np.array(gains[0],dtype=int), np.array(flags[0],dtype=int), daqh.DaqTypeAnalogLocal, 0, 0, daqh.DaqStopEvent)\n",
    "    dev.AdcTransferStart()\n",
    "    dev.AdcArm()\n",
    "    \n",
    "    while True:\n",
    "        alertscopy=alerts[:]\n",
    "        timenotify = checkAlerts(timenotify, timestart, alerts,alertscopy)        \n",
    "        \n",
    "        stat = dev.AdcTransferGetStat()\n",
    "        active = stat['active']\n",
    "        if not (active & daqh.DaafAcqActive):\n",
    "            break\n",
    "    dev.AdcDisarm()\n",
    "    outdata,ret=dev.AdcTransferBufData(nseconds*freq, nchan,bufMask)\n",
    "    \n",
    "    outdata=np.array(outdata,dtype=float)\n",
    "    outdata=(outdata-2**15)*20./2**16\n",
    "    outdata=np.transpose(np.reshape(outdata,[nseconds*freq,nchan]))\n",
    "    print \"Finished collecting data\\n----------------------\"\n",
    "    dev.Close()\n",
    "    \n",
    "\n",
    "    \n",
    "    return outdata"
   ]
  },
  {
   "cell_type": "code",
   "execution_count": 7,
   "metadata": {
    "collapsed": true
   },
   "outputs": [],
   "source": [
    "def checkAlerts(timeupdate,timestart, alerts, alertscopy, updateincrement=5):\n",
    "    timecheck = (time.time())\n",
    "    if timecheck > timeupdate:\n",
    "        print \"Time: \" + str(int(timecheck - timestart))\n",
    "        timeupdate += updateincrement\n",
    "    for alert in alerts:\n",
    "        if (timecheck - timestart)%60 > alert:\n",
    "            print \"---- \" + str(int(timecheck - timestart)) + \" SECONDS ----\"\n",
    "            alerts.remove(alert)\n",
    "    if 2<(timecheck -timestart%60)<3:\n",
    "        alerts = alertscopy[:]\n",
    "        \n",
    "        \n",
    "    return timeupdate"
   ]
  },
  {
   "cell_type": "code",
   "execution_count": 8,
   "metadata": {
    "collapsed": true
   },
   "outputs": [],
   "source": [
    "def get_date_filename(labelstring=''):\n",
    "    #version for testing adds an optional string to identify tests\n",
    "    now=time.localtime()[0:6]\n",
    "    #dirfmt = \"c:\\\\cofe\\\\ground_data\\\\testdata\\\\%4d_%02d_%02d\"\n",
    "    dirfmt = \"C:\\\\COFE\\\\IO_3001_USB_acquisition\\\\data\\\\%4d_%02d_%02d\"\n",
    "    dirname = dirfmt % now[0:3]\n",
    "    filefmt = \"%02d_%02d_%02d.h5\"\n",
    "    filename= labelstring+filefmt % now[3:6]\n",
    "    ffilename=os.path.join(dirname,filename)\n",
    "    if not os.path.exists(dirname):\n",
    "        os.mkdir(dirname)\n",
    "    return(ffilename)"
   ]
  },
  {
   "cell_type": "code",
   "execution_count": 9,
   "metadata": {
    "collapsed": false
   },
   "outputs": [],
   "source": [
    "#use this function- box is set up with terminations on alternate channels to increase isolation\n",
    "def get_test(nseconds=10,labelstring='',minfreq=1):\n",
    "    s=[0,2,4,6]  #active channels, intervening ones are terminated to increase isolation\n",
    "    R=1 #default GMF\n",
    "    \n",
    "    d=get_data(nchan=8,freq=10000,nseconds=nseconds)\n",
    "    z1=cu.nps(d[2,:],10000,minfreq)\n",
    "    z2=cu.nps(d[6,:],10000,minfreq)\n",
    "    #R=np.mean(np.sqrt(z2[1][(z2[0] > 10)& (z2[0] < 50)])/np.sqrt(z1[1][(z1[0] > 10)& (z1[0] < 50)]))\n",
    "    R=np.mean(np.sqrt(z2[1][(z2[0] > minfreq*10)& (z2[0] < minfreq*100)])/np.sqrt(z1[1][(z1[0] > minfreq*10)& (z1[0] < 100*minfreq)]))\n",
    "    zd=cu.nps(d[6,:]-R*d[2,:],10000,minfreq)\n",
    "    figure()\n",
    "    plot(z1[0],np.sqrt(z1[1]),label='z1-Ref')\n",
    "    plot(z2[0],np.sqrt(z2[1]),label='z2-Sky')\n",
    "    plot(z1[0],R*np.sqrt(z1[1]),label='z1-Ref*%s' %str(R))\n",
    "    plot(zd[0],np.sqrt(zd[1]),label='zdiff Sky-ref*%s' %str(R))\n",
    "    ylim([0,.05])\n",
    "    xlabel('Frequency, [Hz]')\n",
    "    ylabel('ASD, [$nV \\sqrt{sec}$]')\n",
    "    title('Test')\n",
    "    legend()\n",
    "    outdata=d[s,:]\n",
    "    hfile=h5py.File(get_date_filename(labelstring))\n",
    "    hfile.create_dataset(labelstring,data=[outdata])\n",
    "    return {labelstring:outdata}"
   ]
  },
  {
   "cell_type": "code",
   "execution_count": 10,
   "metadata": {
    "collapsed": true
   },
   "outputs": [],
   "source": [
    "def zplot(d_dict):\n",
    "    g=1.0e4\n",
    "    dlabel=d_dict.keys()[0]\n",
    "    d=d_dict[dlabel]\n",
    "    z1=cu.nps(d[1,:]/g,10000,.01)\n",
    "    z2=cu.nps(d[3,:]/g,10000,.01)\n",
    "    #estimate GMF from a section of spectra 10 hz to 100 hz maybe:\n",
    "    R=np.mean(np.sqrt(z2[1][(z2[0] > 10)& (z2[0] < 50)])/np.sqrt(z1[1][(z1[0] > 10)& (z1[0] < 50)]))\n",
    "    zd=cu.nps(d[3,:]/g-R*d[1,:]/g,10000,.01)\n",
    "    #zdr1=cu.nps(d[3,:]/g-d[1,:]/g,10000)\n",
    "    figure()\n",
    "    plot(z1[0],1e9*np.sqrt(z1[1]),label=' z1 Ref')\n",
    "    plot(z2[0],1e9*np.sqrt(z2[1]),label=' z2 Sky')\n",
    "    plot(z1[0],R*1e9*np.sqrt(z1[1]),label='ZRef*%s' %str(R))\n",
    "    #plot(zdr1[0],1e9*np.sqrt(zdr1[1]),label=dlabel+' zdiff Sky-ref')\n",
    "    plot(zd[0],1e9*np.sqrt(zd[1]),label=dlabel+' zdiff Sky-ref*%s' %str(R))\n",
    "    #ylim([0,.05])\n",
    "    xlabel('Frequency, [Hz]')\n",
    "    ylabel('ASD, [$nV \\sqrt{sec}$]')\n",
    "    title(dlabel)\n",
    "    legend()"
   ]
  },
  {
   "cell_type": "code",
   "execution_count": 11,
   "metadata": {
    "collapsed": false
   },
   "outputs": [],
   "source": [
    "def tryzplot(d_dict,nsteps=5,var=.05,lowpass=None,minfreq=1):\n",
    "    '''\n",
    "    this one estmates R then varies +- 5 % around it, first lowpasses the ref if lowpass!=None \n",
    "    '''\n",
    "    samprate=1e4\n",
    "    g=1.0e4\n",
    "    dlabel=d_dict.keys()[0]\n",
    "    d=d_dict[dlabel]\n",
    "    z1=cu.nps(d[1,:]/g,samprate,minfreq)\n",
    "    z2=cu.nps(d[3,:]/g,samprate,minfreq)\n",
    "    #estimate GMF from a section of spectra 10 hz to 100 hz maybe:\n",
    "    Rnom=np.mean(np.sqrt(z2[1][(z2[0] > minfreq*10)& (z2[0] < minfreq*100)])/np.sqrt(z1[1][(z1[0] > minfreq*10)& (z1[0] < 100*minfreq)]))\n",
    "    #Rnom=1.0\n",
    "    figure()\n",
    "    ref=d[1,:]\n",
    "    if lowpass!=None:\n",
    "        ref=cu.lowpass(ref,samprate,lowpass)\n",
    "        dlabel=dlabel+' Lowpass = %s Hz' %str(lowpass)\n",
    "    for R in np.linspace(Rnom*(1-var),Rnom*(1+var),nsteps):\n",
    "        zd=cu.nps(d[3,:]/g-R*ref/g,10000,minfreq)\n",
    "        plot(zd[0],1e9*np.sqrt(zd[1]),label=dlabel+' zdiff Sky-ref*%s' %str(R))\n",
    "    plot(z1[0],1e9*np.sqrt(z1[1]),label=dlabel+' zSky raw')        \n",
    "    #ylim([0,.05])\n",
    "    xlabel('Frequency, [Hz]')\n",
    "    ylabel('ASD, [$nV \\sqrt{sec}$]')\n",
    "    title(dlabel)\n",
    "    legend()"
   ]
  },
  {
   "cell_type": "code",
   "execution_count": 31,
   "metadata": {
    "collapsed": false
   },
   "outputs": [],
   "source": [
    "def cmpzplot(d_dict,d_dict2,minfreq=1,labels=None,titletxt='Comparison'):\n",
    "    '''\n",
    "    this one estmates R for each of two data dicts and plot raw and diff data \n",
    "    labels is a list of strings for the legend\n",
    "    '''\n",
    "    samprate=1e4\n",
    "    g=1.0e4\n",
    "    figure()\n",
    "    #first dataset\n",
    "    dlabel=labels[0]\n",
    "    if labels==None:\n",
    "        dlabel=d_dict.keys()[0]\n",
    "    d=d_dict[d_dict.keys()[0]]\n",
    "    z1=cu.nps(d[1,:]/g,samprate,minfreq)\n",
    "    z2=cu.nps(d[3,:]/g,samprate,minfreq)\n",
    "    #estimate GMF from a section of spectra 10 hz to 100 hz maybe:\n",
    "    R=np.mean(np.sqrt(z2[1][(z2[0] > minfreq*10)& (z2[0] < minfreq*100)])/np.sqrt(z1[1][(z1[0] > minfreq*10)& (z1[0] < 100*minfreq)]))\n",
    "    ref=d[1,:]\n",
    "    zd=cu.nps(d[3,:]/g-R*ref/g,10000,minfreq)\n",
    "    plot(zd[0],1e9*np.sqrt(zd[1]),label=dlabel+' zdiff Sky-ref*%s' %str(R))\n",
    "    plot(z2[0],1e9*np.sqrt(z2[1]),label=dlabel+' zSky raw')        \n",
    "    \n",
    "    #Second dataset\n",
    "    dlabel2=labels[1]\n",
    "    if labels==None:\n",
    "        dlabel2=d_dict2.keys()[0]\n",
    "    d=d_dict2[d_dict2.keys()[0]]\n",
    "    z1=cu.nps(d[1,:]/g,samprate,minfreq)\n",
    "    z2=cu.nps(d[3,:]/g,samprate,minfreq)\n",
    "    #estimate GMF from a section of spectra 10 hz to 100 hz maybe:\n",
    "    R=np.mean(np.sqrt(z2[1][(z2[0] > minfreq*10)& (z2[0] < minfreq*100)])/np.sqrt(z1[1][(z1[0] > minfreq*10)& (z1[0] < 100*minfreq)]))\n",
    "    ref=d[1,:]\n",
    "    zd=cu.nps(d[3,:]/g-R*ref/g,10000,minfreq)\n",
    "    plot(zd[0],1e9*np.sqrt(zd[1]),label=dlabel2+' zdiff Sky-ref*%s' %str(R))\n",
    "    plot(z2[0],1e9*np.sqrt(z2[1]),label=dlabel2+' zSky raw')        \n",
    "    \n",
    "    xlabel('Frequency, [Hz]')\n",
    "    ylabel('ASD, [$nV \\sqrt{sec}$]')\n",
    "    title(titletxt)\n",
    "    legend()"
   ]
  },
  {
   "cell_type": "code",
   "execution_count": 32,
   "metadata": {
    "collapsed": true
   },
   "outputs": [],
   "source": [
    "def tryzplotlps(d_dict,nsteps=5,var=.05,lowpasslist=[3000,2000,1000,800,500]):\n",
    "    '''\n",
    "    this one estmates R then varies the lowpass via the lowpassliste \n",
    "    '''\n",
    "    minfreq=2\n",
    "    samprate=1e4\n",
    "    g=1.0e4\n",
    "    dlabel=d_dict.keys()[0]\n",
    "    d=d_dict[dlabel]\n",
    "    z1=cu.nps(d[1,:]/g,samprate,minfreq)\n",
    "    z2=cu.nps(d[3,:]/g,samprate,minfreq)\n",
    "    #estimate GMF from a section of spectra 10 hz to 100 hz maybe:\n",
    "    Rnom=np.mean(np.sqrt(z2[1][(z2[0] > 10*minfreq)& (z2[0] < 100*minfreq)])/np.sqrt(z1[1][(z1[0] > 10*minfreq)& (z1[0] < 100*minfreq)]))\n",
    "    #Rnom=1.0\n",
    "    figure()\n",
    "    R=Rnom\n",
    "    for lowpass in lowpasslist:\n",
    "        ref=cu.lowpass(d[1,:],samprate,lowpass)\n",
    "        zd=cu.nps(d[3,:]/g-R*ref/g,10000,minfreq)\n",
    "        plot(zd[0],1e9*np.sqrt(zd[1]),label='lowpass %s Hz' %str(lowpass))\n",
    "    plot(z1[0],1e9*np.sqrt(z1[1]),label=dlabel+' zSky raw')        \n",
    "    #ylim([0,.05])\n",
    "    xlabel('Frequency, [Hz]')\n",
    "    ylabel('ASD, [$nV \\sqrt{sec}$]')\n",
    "    title(dlabel)\n",
    "    legend()"
   ]
  },
  {
   "cell_type": "code",
   "execution_count": 13,
   "metadata": {
    "collapsed": true
   },
   "outputs": [],
   "source": [
    "def tryzplotg(d_dict,nsteps=5,var=.05):\n",
    "    '''\n",
    "    this one estmates R then varies +- 5 % around it \n",
    "    '''\n",
    "    g=1.0e4\n",
    "    dlabel=d_dict.keys()[0]\n",
    "    d=d_dict[dlabel]\n",
    "    z1=cu.nps(d[1,:]/g,10000,.1)\n",
    "    z2=cu.nps(d[3,:]/g,10000,.1)\n",
    "    #estimate GMF from a section of spectra 10 hz to 100 hz maybe:\n",
    "    Rnom=np.mean(np.sqrt(z2[1][(z2[0] > .1)& (z2[0] < 10)])/np.sqrt(z1[1][(z1[0] > .1)& (z1[0] < 10)]))\n",
    "    figure()\n",
    "    for R in np.linspace(Rnom*(1-var),Rnom*(1+var),nsteps):\n",
    "        zd=cu.nps(d[3,:]/g-R*d[1,:]/g,10000,.1)\n",
    "        plot(zd[0],1e9*np.sqrt(zd[1]),label=dlabel+' zdiff Sky-ref*%s' %str(R))\n",
    "    #ylim([0,.05])\n",
    "    xlabel('Frequency, [Hz]')\n",
    "    ylabel('ASD, [$nV \\sqrt{sec}$]')\n",
    "    title(dlabel)\n",
    "    legend()"
   ]
  },
  {
   "cell_type": "code",
   "execution_count": 16,
   "metadata": {
    "collapsed": true
   },
   "outputs": [],
   "source": [
    "f='C:\\\\COFE\\\\IO_3001_USB_acquisition\\\\data\\\\2016_09_07\\\\ref,sky op2711_11_14.h5'"
   ]
  },
  {
   "cell_type": "code",
   "execution_count": 16,
   "metadata": {
    "collapsed": false
   },
   "outputs": [],
   "source": [
    "dlab=import_data()"
   ]
  },
  {
   "cell_type": "code",
   "execution_count": 53,
   "metadata": {
    "collapsed": false
   },
   "outputs": [],
   "source": [
    "cmpzplot(dlab_refl,dlab_refl26,labels=['reflectiveload17','reflectiveload26'],titletxt='Freq diff comparison, 10 GHz, ambient radiometer')"
   ]
  },
  {
   "cell_type": "code",
   "execution_count": 50,
   "metadata": {
    "collapsed": true
   },
   "outputs": [],
   "source": [
    "yscale('log')\n",
    "xscale('log')"
   ]
  },
  {
   "cell_type": "code",
   "execution_count": 51,
   "metadata": {
    "collapsed": false,
    "scrolled": true
   },
   "outputs": [
    {
     "name": "stdout",
     "output_type": "stream",
     "text": [
      "Time: 5\n",
      "Time: 10\n",
      "Time: 15\n",
      "Time: 20\n",
      "Time: 25\n",
      "Time: 30\n",
      "Time: 35\n",
      "Time: 40\n",
      "Time: 45\n",
      "Time: 50\n",
      "Time: 55\n",
      "Time: 60\n",
      "Time: 65\n",
      "Time: 70\n",
      "Time: 75\n",
      "Time: 80\n",
      "Time: 85\n",
      "Time: 90\n",
      "Time: 95\n",
      "Time: 100\n",
      "Time: 105\n",
      "Time: 110\n",
      "Time: 115\n",
      "Time: 120\n",
      "Time: 125\n",
      "Time: 130\n",
      "Time: 135\n",
      "Time: 140\n",
      "Time: 145\n",
      "Time: 150\n",
      "Time: 155\n",
      "Time: 160\n",
      "Time: 165\n",
      "Time: 170\n",
      "Time: 175\n",
      "Time: 180\n",
      "Time: 185\n",
      "Time: 190\n",
      "Time: 195\n",
      "Time: 200\n",
      "Time: 205\n",
      "Time: 210\n",
      "Time: 215\n",
      "Time: 220\n",
      "Time: 225\n",
      "Time: 230\n",
      "Time: 235\n",
      "Time: 240\n",
      "Time: 245\n",
      "Time: 250\n",
      "Time: 255\n",
      "Time: 260\n",
      "Time: 265\n",
      "Time: 270\n",
      "Time: 275\n",
      "Time: 280\n",
      "Time: 285\n",
      "Time: 290\n",
      "Time: 295\n",
      "Time: 300\n",
      "Time: 305\n",
      "Time: 310\n",
      "Time: 315\n",
      "Time: 320\n",
      "Time: 325\n",
      "Time: 330\n",
      "Time: 335\n",
      "Time: 340\n",
      "Time: 345\n",
      "Time: 350\n",
      "Time: 355\n",
      "Time: 360\n",
      "Time: 365\n",
      "Time: 370\n",
      "Time: 375\n",
      "Time: 380\n",
      "Time: 385\n",
      "Time: 390\n",
      "Time: 395\n",
      "Time: 400\n",
      "Time: 405\n",
      "Time: 410\n",
      "Time: 415\n",
      "Time: 420\n",
      "Time: 425\n",
      "Time: 430\n",
      "Time: 435\n",
      "Time: 440\n",
      "Time: 445\n",
      "Time: 450\n",
      "Time: 455\n",
      "Time: 460\n",
      "Time: 465\n",
      "Time: 470\n",
      "Time: 475\n",
      "Time: 480\n",
      "Time: 485\n",
      "Time: 490\n",
      "Time: 495\n",
      "Time: 500\n",
      "Time: 505\n",
      "Time: 510\n",
      "Time: 515\n",
      "Time: 520\n",
      "Time: 525\n",
      "Time: 530\n",
      "Time: 535\n",
      "Time: 540\n",
      "Time: 545\n",
      "Time: 550\n",
      "Time: 555\n",
      "Time: 560\n",
      "Time: 565\n",
      "Time: 570\n",
      "Time: 575\n",
      "Time: 580\n",
      "Time: 585\n",
      "Time: 590\n",
      "Time: 595\n",
      "Time: 600\n",
      "Finished collecting data\n",
      "----------------------\n"
     ]
    }
   ],
   "source": [
    "dlab_refl26=get_test(labelstring='ref, hrefl26',nseconds=600)"
   ]
  },
  {
   "cell_type": "code",
   "execution_count": 15,
   "metadata": {
    "collapsed": false
   },
   "outputs": [],
   "source": [
    "tryzplot(droof,minfreq=1)"
   ]
  },
  {
   "cell_type": "code",
   "execution_count": 41,
   "metadata": {
    "collapsed": false
   },
   "outputs": [
    {
     "data": {
      "text/plain": [
       "<matplotlib.legend.Legend at 0xb2bf6940>"
      ]
     },
     "execution_count": 41,
     "metadata": {},
     "output_type": "execute_result"
    }
   ],
   "source": [
    "r=roof24522['ref,sky 4522'][1,:]\n",
    "s=roof24522['ref,sky 4522'][3,:]\n",
    "figure()\n",
    "d=s-r*.22484\n",
    "zr=cu.nps(r,10000,.1)\n",
    "zs=cu.nps(s,10000,.1)\n",
    "zd=cu.nps(d,10000,.1)\n",
    "plot(zr[0],zr[1],label='ref')\n",
    "plot(zs[0],zs[1],label='sky')\n",
    "plot(zd[0],zd[1],label='diff')\n",
    "yscale('log')\n",
    "xscale('log')\n",
    "legend()"
   ]
  },
  {
   "cell_type": "code",
   "execution_count": 136,
   "metadata": {
    "collapsed": false
   },
   "outputs": [
    {
     "name": "stdout",
     "output_type": "stream",
     "text": [
      "0.6\n",
      "0.4\n",
      "0.2\n",
      "0.16\n",
      "0.1\n"
     ]
    }
   ],
   "source": [
    "tryzplotlps(nullterm4522)"
   ]
  },
  {
   "cell_type": "code",
   "execution_count": 178,
   "metadata": {
    "collapsed": false
   },
   "outputs": [
    {
     "data": {
      "text/plain": [
       "<matplotlib.legend.Legend at 0x2b63a160>"
      ]
     },
     "execution_count": 178,
     "metadata": {},
     "output_type": "execute_result"
    }
   ],
   "source": [
    "\n",
    "legend()"
   ]
  },
  {
   "cell_type": "code",
   "execution_count": 180,
   "metadata": {
    "collapsed": false
   },
   "outputs": [],
   "source": [
    "rdc=nom4522['ref,sky 4522'][0,:]\n",
    "sdc=nom4522['ref,sky 4522'][2,:]"
   ]
  },
  {
   "cell_type": "code",
   "execution_count": 182,
   "metadata": {
    "collapsed": false
   },
   "outputs": [
    {
     "data": {
      "text/plain": [
       "-0.042526756302096597"
      ]
     },
     "execution_count": 182,
     "metadata": {},
     "output_type": "execute_result"
    }
   ],
   "source": [
    "(np.mean(rdc)-np.mean(sdc))/np.mean(sdc)"
   ]
  },
  {
   "cell_type": "code",
   "execution_count": 160,
   "metadata": {
    "collapsed": false
   },
   "outputs": [
    {
     "data": {
      "text/plain": [
       "[<matplotlib.lines.Line2D at 0x4009e0b8>]"
      ]
     },
     "execution_count": 160,
     "metadata": {},
     "output_type": "execute_result"
    }
   ],
   "source": [
    "figure()\n",
    "x=cu.xps(s,s,10000,.1)\n",
    "plot(x[0],x[1])"
   ]
  },
  {
   "cell_type": "code",
   "execution_count": 171,
   "metadata": {
    "collapsed": false
   },
   "outputs": [
    {
     "name": "stdout",
     "output_type": "stream",
     "text": [
      "0.004\n",
      "0.004\n",
      "0.004\n",
      "0.004\n",
      "0.004\n"
     ]
    },
    {
     "data": {
      "text/plain": [
       "[<matplotlib.lines.Line2D at 0x2bcfbac8>]"
      ]
     },
     "execution_count": 171,
     "metadata": {},
     "output_type": "execute_result"
    }
   ],
   "source": [
    "figure()\n",
    "d=s-r*1.1\n",
    "d2=s-r*1.2\n",
    "d3=s-r*1.0\n",
    "lpd=cu.lowpass(d,10000,20)\n",
    "lpd2=cu.lowpass(d2,10000,20)\n",
    "lpd3=cu.lowpass(d3,10000,20)\n",
    "lpr=cu.lowpass(r,10000,20)\n",
    "lps=cu.lowpass(s,10000,20)\n",
    "#plot(r,label='r')\n",
    "#plot(s,label='s')\n",
    "#figure()\n",
    "plot(lpr,label='lpr')\n",
    "plot(lps,label='lps')\n",
    "plot(lpd,label='lpdiff')\n",
    "plot(lpd2,label='lpdiff2')\n",
    "plot(lpd3,label='lpdiff3')"
   ]
  },
  {
   "cell_type": "code",
   "execution_count": null,
   "metadata": {
    "collapsed": true
   },
   "outputs": [],
   "source": []
  },
  {
   "cell_type": "code",
   "execution_count": 23,
   "metadata": {
    "collapsed": false
   },
   "outputs": [],
   "source": [
    "r=teeop27['ref,sky op27'][1,:]\n",
    "s=teeop27['ref,sky op27'][3,:]"
   ]
  },
  {
   "cell_type": "code",
   "execution_count": 34,
   "metadata": {
    "collapsed": false
   },
   "outputs": [],
   "source": [
    "r=tee4522['ref,sky 4522'][1,:]\n",
    "s=tee4522['ref,sky 4522'][3,:]"
   ]
  },
  {
   "cell_type": "code",
   "execution_count": 46,
   "metadata": {
    "collapsed": true
   },
   "outputs": [],
   "source": [
    "zr=cu.nps(r,10000,.1)\n",
    "zs=cu.nps(s,10000,.1)\n",
    "zd=cu.nps(s-r*1.1,10000,.1)"
   ]
  },
  {
   "cell_type": "code",
   "execution_count": 47,
   "metadata": {
    "collapsed": true
   },
   "outputs": [],
   "source": [
    "figure()\n",
    "plot(zs[0],zs[1],label='sky')\n",
    "plot(zr[0],zr[1],label='ref')\n",
    "plot(zd[0],zd[1],label='diff')\n",
    "legend()\n",
    "yscale('log')\n",
    "xscale('log')\n"
   ]
  },
  {
   "cell_type": "code",
   "execution_count": 29,
   "metadata": {
    "collapsed": false
   },
   "outputs": [
    {
     "data": {
      "text/plain": [
       "[<matplotlib.lines.Line2D at 0x38ec0c18>]"
      ]
     },
     "execution_count": 29,
     "metadata": {},
     "output_type": "execute_result"
    }
   ],
   "source": [
    "figure()\n",
    "plot(cu.smooth(r,window_len=150))\n",
    "plot(cu.smooth(s,window_len=150))\n",
    "plot(cu.smooth(s-r,window_len=150))"
   ]
  },
  {
   "cell_type": "code",
   "execution_count": 15,
   "metadata": {
    "collapsed": false
   },
   "outputs": [],
   "source": [
    "r=jnk2['ref,sky 4522'][1,:]\n",
    "s=jnk2['ref,sky 4522'][3,:]"
   ]
  },
  {
   "cell_type": "code",
   "execution_count": 16,
   "metadata": {
    "collapsed": false
   },
   "outputs": [
    {
     "data": {
      "text/plain": [
       "[<matplotlib.lines.Line2D at 0x2dea8320>]"
      ]
     },
     "execution_count": 16,
     "metadata": {},
     "output_type": "execute_result"
    }
   ],
   "source": [
    "figure()\n",
    "plot(r,s,'.')"
   ]
  },
  {
   "cell_type": "code",
   "execution_count": 44,
   "metadata": {
    "collapsed": false
   },
   "outputs": [
    {
     "data": {
      "text/plain": [
       "[<matplotlib.lines.Line2D at 0x3e1c8048>]"
      ]
     },
     "execution_count": 44,
     "metadata": {},
     "output_type": "execute_result"
    }
   ],
   "source": [
    "figure()\n",
    "plot(r)\n",
    "plot(s)\n",
    "plot(r-s*1.1)"
   ]
  },
  {
   "cell_type": "code",
   "execution_count": 19,
   "metadata": {
    "collapsed": true
   },
   "outputs": [],
   "source": [
    "tee4522=tee.copy()"
   ]
  },
  {
   "cell_type": "code",
   "execution_count": 49,
   "metadata": {
    "collapsed": false
   },
   "outputs": [],
   "source": [
    "tryzplot(skyrefop27,var=.1,nsteps=6)"
   ]
  },
  {
   "cell_type": "code",
   "execution_count": 26,
   "metadata": {
    "collapsed": false
   },
   "outputs": [
    {
     "data": {
      "text/plain": [
       "[<matplotlib.lines.Line2D at 0x8e9fb278>]"
      ]
     },
     "execution_count": 26,
     "metadata": {},
     "output_type": "execute_result"
    }
   ],
   "source": [
    "figure()\n",
    "plot(jnk_100s['ref,sky 4522'][1,:])"
   ]
  },
  {
   "cell_type": "code",
   "execution_count": 50,
   "metadata": {
    "collapsed": true
   },
   "outputs": [],
   "source": [
    "yscale('log')\n",
    "xscale('log')"
   ]
  },
  {
   "cell_type": "code",
   "execution_count": 90,
   "metadata": {
    "collapsed": false
   },
   "outputs": [],
   "source": [
    "figure()\n",
    "zplot(par_1M)"
   ]
  },
  {
   "cell_type": "code",
   "execution_count": 26,
   "metadata": {
    "collapsed": true
   },
   "outputs": [
    {
     "name": "stdout",
     "output_type": "stream",
     "text": [
      "Time: 5\n",
      "Time: 10\n",
      "Time: 15\n",
      "Time: 20\n",
      "Time: 25\n",
      "Time: 30\n",
      "Time: 35\n",
      "Time: 40\n",
      "Time: 45\n",
      "Time: 50\n",
      "Time: 55\n",
      "Time: 60\n",
      "Time: 65\n",
      "Time: 70\n",
      "Time: 75\n",
      "Time: 80\n",
      "Time: 85\n",
      "Time: 90\n",
      "Time: 95\n",
      "Time: 100\n",
      "Time: 105\n",
      "Time: 110\n",
      "Time: 115\n",
      "Time: 120\n",
      "Time: 125\n",
      "Time: 130\n",
      "Time: 135\n",
      "Time: 140\n",
      "Time: 145\n",
      "Time: 150\n",
      "Time: 155\n",
      "Time: 160\n",
      "Time: 165\n",
      "Time: 170\n",
      "Time: 175\n",
      "Time: 180\n",
      "Time: 185\n",
      "Time: 190\n",
      "Time: 195\n",
      "Time: 200\n",
      "Time: 205\n",
      "Time: 210\n",
      "Time: 215\n",
      "Time: 220\n",
      "Time: 225\n",
      "Time: 230\n",
      "Time: 235\n",
      "Time: 240\n",
      "Time: 245\n",
      "Time: 250\n",
      "Time: 255\n",
      "Time: 260\n",
      "Time: 265\n",
      "Time: 270\n",
      "Time: 275\n",
      "Time: 280\n",
      "Time: 285\n",
      "Time: 290\n",
      "Time: 295\n",
      "Time: 300\n",
      "Time: 305\n",
      "Time: 310\n",
      "Time: 315\n",
      "Time: 320\n",
      "Time: 325\n",
      "Time: 330\n",
      "Time: 335\n",
      "Time: 340\n",
      "Time: 345\n",
      "Time: 350\n",
      "Time: 355\n",
      "Time: 360\n",
      "Time: 365\n",
      "Time: 370\n",
      "Time: 375\n",
      "Time: 380\n",
      "Time: 385\n",
      "Time: 390\n",
      "Time: 395\n",
      "Time: 400\n",
      "Time: 405\n",
      "Time: 410\n",
      "Time: 415\n",
      "Time: 420\n",
      "Time: 425\n",
      "Time: 430\n",
      "Time: 435\n",
      "Time: 440\n",
      "Time: 445\n",
      "Time: 450\n",
      "Time: 455\n",
      "Time: 460\n",
      "Time: 465\n",
      "Time: 470\n",
      "Time: 475\n",
      "Time: 480\n",
      "Time: 485\n",
      "Time: 490\n",
      "Time: 495\n",
      "Time: 500\n",
      "Time: 505\n",
      "Time: 510\n",
      "Time: 515\n",
      "Time: 520\n",
      "Time: 525\n",
      "Time: 530\n",
      "Time: 535\n",
      "Time: 540\n",
      "Time: 545\n",
      "Time: 550\n",
      "Time: 555\n",
      "Time: 560\n",
      "Time: 565\n",
      "Time: 570\n",
      "Time: 575\n",
      "Time: 580\n",
      "Time: 585\n",
      "Time: 590\n",
      "Time: 595\n",
      "Time: 600\n",
      "Time: 605\n",
      "Time: 610\n",
      "Time: 615\n",
      "Time: 620\n",
      "Time: 625\n",
      "Time: 630\n",
      "Time: 635\n",
      "Time: 640\n",
      "Time: 645\n",
      "Time: 650\n",
      "Time: 655\n",
      "Time: 660\n",
      "Time: 665\n",
      "Time: 670\n",
      "Time: 675\n",
      "Time: 680\n",
      "Time: 685\n",
      "Time: 690\n",
      "Time: 695\n",
      "Time: 700\n",
      "Time: 705\n",
      "Time: 710\n",
      "Time: 715\n",
      "Time: 720\n",
      "Time: 725\n",
      "Time: 730\n",
      "Time: 735\n",
      "Time: 740\n",
      "Time: 745\n",
      "Time: 750\n",
      "Time: 755\n",
      "Time: 760\n",
      "Time: 765\n",
      "Time: 770\n",
      "Time: 775\n",
      "Time: 780\n",
      "Time: 785\n",
      "Time: 790\n",
      "Time: 795\n",
      "Time: 800\n",
      "Time: 805\n",
      "Time: 810\n",
      "Time: 815\n",
      "Time: 820\n",
      "Time: 825\n",
      "Time: 830\n",
      "Time: 835\n",
      "Time: 840\n",
      "Time: 845\n",
      "Time: 850\n",
      "Time: 855\n",
      "Time: 860\n",
      "Time: 865\n",
      "Time: 870\n",
      "Time: 875\n",
      "Time: 880\n",
      "Time: 885\n",
      "Time: 890\n",
      "Time: 895\n",
      "Time: 900\n",
      "Time: 905\n",
      "Time: 910\n",
      "Time: 915\n",
      "Time: 920\n",
      "Time: 925\n",
      "Time: 930\n",
      "Time: 935\n",
      "Time: 940\n",
      "Time: 945\n",
      "Time: 950\n",
      "Time: 955\n",
      "Time: 960\n",
      "Time: 965\n",
      "Time: 970\n",
      "Time: 975\n",
      "Time: 980\n",
      "Time: 985\n",
      "Time: 990\n",
      "Time: 995\n",
      "Time: 1000\n",
      "Finished collecting data\n",
      "----------------------\n"
     ]
    }
   ],
   "source": [
    "ref_sky_4522_1ksec=get_test(labelstring='ref,sky 4522',nseconds=1000)"
   ]
  },
  {
   "cell_type": "code",
   "execution_count": 92,
   "metadata": {
    "collapsed": false
   },
   "outputs": [
    {
     "data": {
      "text/plain": [
       "<matplotlib.text.Text at 0x1ab96cc0>"
      ]
     },
     "execution_count": 92,
     "metadata": {},
     "output_type": "execute_result"
    }
   ],
   "source": [
    "yscale('log')\n",
    "xscale('log')\n",
    "title('1M ohm into parallel SRS @ 1e4, lowpass=1KHz, samplerate 10KHz')"
   ]
  },
  {
   "cell_type": "code",
   "execution_count": 62,
   "metadata": {
    "collapsed": false
   },
   "outputs": [
    {
     "ename": "AttributeError",
     "evalue": "'dict' object has no attribute 'data'",
     "output_type": "error",
     "traceback": [
      "\u001b[1;31m---------------------------------------------------------------------------\u001b[0m",
      "\u001b[1;31mAttributeError\u001b[0m                            Traceback (most recent call last)",
      "\u001b[1;32m<ipython-input-62-442cd2b51ea2>\u001b[0m in \u001b[0;36m<module>\u001b[1;34m()\u001b[0m\n\u001b[1;32m----> 1\u001b[1;33m \u001b[0mshape\u001b[0m\u001b[1;33m(\u001b[0m\u001b[0mjnk\u001b[0m\u001b[1;33m.\u001b[0m\u001b[0mdata\u001b[0m\u001b[1;33m(\u001b[0m\u001b[1;33m)\u001b[0m\u001b[1;33m)\u001b[0m\u001b[1;33m\u001b[0m\u001b[0m\n\u001b[0m",
      "\u001b[1;31mAttributeError\u001b[0m: 'dict' object has no attribute 'data'"
     ]
    }
   ],
   "source": [
    "shape(jnk.data())"
   ]
  },
  {
   "cell_type": "code",
   "execution_count": 11,
   "metadata": {
    "collapsed": true
   },
   "outputs": [],
   "source": [
    "hfile.close()"
   ]
  },
  {
   "cell_type": "code",
   "execution_count": 21,
   "metadata": {
    "collapsed": false
   },
   "outputs": [
    {
     "data": {
      "text/plain": [
       "[<matplotlib.lines.Line2D at 0x24d57390>]"
      ]
     },
     "execution_count": 21,
     "metadata": {},
     "output_type": "execute_result"
    }
   ],
   "source": [
    "figure(10)\n",
    "plot(srsf_1M[0])"
   ]
  },
  {
   "cell_type": "code",
   "execution_count": 58,
   "metadata": {
    "collapsed": false
   },
   "outputs": [
    {
     "data": {
      "text/plain": [
       "<matplotlib.legend.Legend at 0x1626e9358>"
      ]
     },
     "execution_count": 58,
     "metadata": {},
     "output_type": "execute_result"
    }
   ],
   "source": [
    "d=copy(rf_on)\n",
    "d2=copy(rf_on_2)\n",
    "r=16.5\n",
    "diff=d[1]-d[0]*r\n",
    "zdiff=cu.nps(diff,10000,.1)\n",
    "diff2=d2[1]-d2[0]*r\n",
    "zdiff2=cu.nps(diff2,10000,.1)\n",
    "z1=cu.nps(d[1],10000,.1)\n",
    "z2=cu.nps(d2[1],10000,.1)\n",
    "figure()\n",
    "#plot(z1[0],np.sqrt(z1[1]),label='Ref')\n",
    "plot(z2[0],np.sqrt(z2[1]),label='Sky')\n",
    "#plot(z1[0],np.sqrt(z1[1])*15,label='Ref x 15')\n",
    "plot(zdiff[0],np.sqrt(zdiff[1]),label='Zdiff',color='black')\n",
    "plot(zdiff2[0],np.sqrt(zdiff2[1]),label='Zdiff2',color='red')\n",
    "#xscale('log')\n",
    "#yscale('log')\n",
    "title('Al foil over window, cover on, wireless router powered')\n",
    "xlabel('Frequency, [Hz]')\n",
    "ylabel('ASD, [$nV \\sqrt{sec}$]')\n",
    "legend()"
   ]
  },
  {
   "cell_type": "code",
   "execution_count": 22,
   "metadata": {
    "collapsed": false
   },
   "outputs": [
    {
     "data": {
      "text/plain": [
       "<matplotlib.legend.Legend at 0x6cdd7358>"
      ]
     },
     "execution_count": 22,
     "metadata": {},
     "output_type": "execute_result"
    }
   ],
   "source": [
    "d=copy(par_diodes_1x)\n",
    "r=.915\n",
    "diff=d[1]-d[0]*r\n",
    "zdiff=cu.nps(diff,10000,.1)\n",
    "z1=cu.nps(d[0],10000,.1)\n",
    "z2=cu.nps(d[1],10000,.1)\n",
    "figure()\n",
    "plot(z1[0],np.sqrt(z1[1]),label='Ref')\n",
    "plot(z2[0],np.sqrt(z2[1]),label='Sky')\n",
    "plot(z1[0],np.sqrt(z1[1])*r,label='Ref x %s' %str(r))\n",
    "plot(zdiff[0],np.sqrt(zdiff[1]),label='Zdiff',color='black')\n",
    "#xscale('log')\n",
    "#yscale('log')\n",
    "xlabel('Frequency, [Hz]')\n",
    "ylabel('ASD, [$nV \\sqrt{sec}$]')\n",
    "title('Two diodes in parallel (same RF input on a tee)')\n",
    "legend()"
   ]
  },
  {
   "cell_type": "code",
   "execution_count": 33,
   "metadata": {
    "collapsed": true
   },
   "outputs": [],
   "source": [
    "flong=open('router_rf_off_1000sec.pkl','wb')"
   ]
  },
  {
   "cell_type": "code",
   "execution_count": 37,
   "metadata": {
    "collapsed": false
   },
   "outputs": [],
   "source": [
    "cPickle.dump(long_rf_off,flong)"
   ]
  },
  {
   "cell_type": "code",
   "execution_count": 38,
   "metadata": {
    "collapsed": true
   },
   "outputs": [],
   "source": [
    "flong.close()"
   ]
  },
  {
   "cell_type": "code",
   "execution_count": 35,
   "metadata": {
    "collapsed": false
   },
   "outputs": [],
   "source": [
    "import cPickle"
   ]
  },
  {
   "cell_type": "code",
   "execution_count": 54,
   "metadata": {
    "collapsed": false
   },
   "outputs": [
    {
     "data": {
      "text/plain": [
       "<matplotlib.text.Text at 0x166f1a630>"
      ]
     },
     "execution_count": 54,
     "metadata": {},
     "output_type": "execute_result"
    }
   ],
   "source": [
    "rs=16.+arange(10)/5. \n",
    "z2=cu.nps(d[1],10000,.01)\n",
    "figure()\n",
    "plot(z2[0],np.sqrt(z2[1]),label='Sky')\n",
    "for r in rs:\n",
    "    diff=d[1]-d[0]*r\n",
    "    zdiff=cu.nps(diff,10000,.01)\n",
    "    plot(zdiff[0],np.sqrt(zdiff[1]),label='Zdiff r=%s' %str(r),lw=2)\n",
    "xscale('log')\n",
    "yscale('log')\n",
    "legend()\n",
    "xlabel('Frequency, [Hz]')\n",
    "ylabel('ASD, [$nV \\sqrt{sec}$]')\n",
    "title('Internal difference scaled radiometer ASD, 12/21/15, prm')"
   ]
  },
  {
   "cell_type": "code",
   "execution_count": 70,
   "metadata": {
    "collapsed": false
   },
   "outputs": [
    {
     "data": {
      "text/plain": [
       "<matplotlib.text.Text at 0x1aa6b2438>"
      ]
     },
     "execution_count": 70,
     "metadata": {},
     "output_type": "execute_result"
    }
   ],
   "source": [
    "r=16.35 \n",
    "z2=cu.nps(d[1],10000,.01)\n",
    "figure()\n",
    "plot(z2[0],np.sqrt(z2[1]),label='Sky')\n",
    "diff=d[1]-d[0]*r\n",
    "zdiff=cu.nps(diff,10000,.01)\n",
    "plot(zdiff[0],np.sqrt(zdiff[1]),label='Zdiff r=%s' %str(r),lw=2)\n",
    "xscale('log')\n",
    "yscale('log')\n",
    "legend()\n",
    "xlabel('Frequency, [Hz]')\n",
    "ylabel('ASD, [$nV \\sqrt{sec}$ ]')\n",
    "title('Internal difference scaled radiometer ASD, 12/17/15, prm')"
   ]
  },
  {
   "cell_type": "code",
   "execution_count": 90,
   "metadata": {
    "collapsed": false
   },
   "outputs": [
    {
     "data": {
      "text/plain": [
       "<matplotlib.text.Text at 0x19046cc88>"
      ]
     },
     "execution_count": 90,
     "metadata": {},
     "output_type": "execute_result"
    }
   ],
   "source": [
    "#plot calibrated 1000 sec data set\n",
    "r=16.35 \n",
    "z2=cu.nps(d1000sec[1],10000,.001)\n",
    "figure()\n",
    "plot(z2[0],1000*cal*np.sqrt(z2[1])/1e4,label='Sky')\n",
    "diff=d1000sec[1]-d1000sec[0]*r\n",
    "zdiff=cu.nps(diff,10000,.001)\n",
    "plot(zdiff[0],1000*cal*np.sqrt(zdiff[1])/1e4,label='Zdiff r=%s' %str(r),lw=2)\n",
    "xscale('log')\n",
    "yscale('log')\n",
    "legend()\n",
    "xlabel('Frequency, [Hz]')\n",
    "ylabel('ASD, [$mK \\sqrt{sec}$ ]')\n",
    "title('Internal difference scaled radiometer ASD, 1000 seconds, 12/17/15, prm')"
   ]
  },
  {
   "cell_type": "code",
   "execution_count": 91,
   "metadata": {
    "collapsed": true
   },
   "outputs": [],
   "source": [
    "yscale('linear')\n",
    "xscale('linear')"
   ]
  },
  {
   "cell_type": "code",
   "execution_count": 79,
   "metadata": {
    "collapsed": false
   },
   "outputs": [],
   "source": [
    "vsky300=15.8e-3\n",
    "vsky77=8.66e-3\n",
    "vref300=0.954e-3\n",
    "vref77=0.954e-3"
   ]
  },
  {
   "cell_type": "code",
   "execution_count": 80,
   "metadata": {
    "collapsed": false
   },
   "outputs": [
    {
     "name": "stdout",
     "output_type": "stream",
     "text": [
      "193.473389356\n"
     ]
    }
   ],
   "source": [
    "y=vsky300/vsky77\n",
    "tsys=(300-77*y)/(y-1)\n",
    "print(tsys)\n",
    "cal=(300-77)/(vsky300-vsky77)"
   ]
  },
  {
   "cell_type": "code",
   "execution_count": 96,
   "metadata": {
    "collapsed": false
   },
   "outputs": [
    {
     "name": "stdout",
     "output_type": "stream",
     "text": [
      "0.00912870929175\n"
     ]
    }
   ],
   "source": [
    "print(500/np.sqrt(3e9))"
   ]
  },
  {
   "cell_type": "code",
   "execution_count": 59,
   "metadata": {
    "collapsed": false
   },
   "outputs": [],
   "source": [
    "d1000sec=copy(d)"
   ]
  },
  {
   "cell_type": "code",
   "execution_count": 72,
   "metadata": {
    "collapsed": false
   },
   "outputs": [
    {
     "data": {
      "text/plain": [
       "(2L, 10000000L)"
      ]
     },
     "execution_count": 72,
     "metadata": {},
     "output_type": "execute_result"
    }
   ],
   "source": [
    "shape(d1000sec)"
   ]
  },
  {
   "cell_type": "code",
   "execution_count": 28,
   "metadata": {
    "collapsed": false
   },
   "outputs": [
    {
     "data": {
      "text/plain": [
       "<matplotlib.legend.Legend at 0x1c8f9da0>"
      ]
     },
     "execution_count": 28,
     "metadata": {},
     "output_type": "execute_result"
    }
   ],
   "source": [
    "\n",
    "figure()\n",
    "plot(d300k[1,:]/gain[0],label='ref')\n",
    "plot(d300k[2,:]/gain[1],label='sky')\n",
    "\n",
    "legend()"
   ]
  },
  {
   "cell_type": "code",
   "execution_count": 11,
   "metadata": {
    "collapsed": false
   },
   "outputs": [
    {
     "data": {
      "text/plain": [
       "<matplotlib.legend.Legend at 0x16e37390>"
      ]
     },
     "execution_count": 11,
     "metadata": {},
     "output_type": "execute_result"
    }
   ],
   "source": [
    "figure()\n",
    "plot(d1m[:100000]/1e3,label='1 Mohm')\n",
    "plot(dterm[:100000]/1e4,label='50 ohm term')\n",
    "legend()"
   ]
  },
  {
   "cell_type": "code",
   "execution_count": 21,
   "metadata": {
    "collapsed": false
   },
   "outputs": [],
   "source": [
    "zterm=util.nps(dterm/1.e4,10000,.01)\n",
    "z1m=util.nps(d1m/1.e3,10000,.01)"
   ]
  },
  {
   "cell_type": "code",
   "execution_count": 29,
   "metadata": {
    "collapsed": true
   },
   "outputs": [],
   "source": [
    "Rn=(0.13*np.sqrt(1e6)/np.sqrt(2))"
   ]
  },
  {
   "cell_type": "code",
   "execution_count": 31,
   "metadata": {
    "collapsed": false
   },
   "outputs": [
    {
     "data": {
      "text/plain": [
       "91.923881554251167"
      ]
     },
     "execution_count": 31,
     "metadata": {},
     "output_type": "execute_result"
    }
   ],
   "source": [
    "Rn"
   ]
  },
  {
   "cell_type": "code",
   "execution_count": 43,
   "metadata": {
    "collapsed": false
   },
   "outputs": [
    {
     "data": {
      "text/plain": [
       "<matplotlib.legend.Legend at 0x49857550>"
      ]
     },
     "execution_count": 43,
     "metadata": {},
     "output_type": "execute_result"
    }
   ],
   "source": [
    "figure()\n",
    "plot(zterm[0],1e9*sqrt(zterm[1]),label='50 Ohm term')\n",
    "plot(z1m[0],1e9*sqrt(z1m[1]),label='1 Mohm')\n",
    "hlines(Rn,min(z1m[0]),max(z1m[0]),color='r',lw=2,zorder=3)\n",
    "ylabel('ASD, [nV $\\sqrt{sec}$ ]')\n",
    "xlabel('Frequency, [Hz]')\n",
    "yscale('log')\n",
    "xscale('log')\n",
    "legend()"
   ]
  }
 ],
 "metadata": {
  "kernelspec": {
   "display_name": "Python 2",
   "language": "python",
   "name": "python2"
  },
  "language_info": {
   "codemirror_mode": {
    "name": "ipython",
    "version": 2
   },
   "file_extension": ".py",
   "mimetype": "text/x-python",
   "name": "python",
   "nbconvert_exporter": "python",
   "pygments_lexer": "ipython2",
   "version": "2.7.11"
  }
 },
 "nbformat": 4,
 "nbformat_minor": 0
}
