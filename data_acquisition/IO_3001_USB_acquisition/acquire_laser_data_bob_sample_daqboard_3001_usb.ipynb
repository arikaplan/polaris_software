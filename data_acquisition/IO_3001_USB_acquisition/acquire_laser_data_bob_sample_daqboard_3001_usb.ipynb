{
 "cells": [
  {
   "cell_type": "code",
   "execution_count": 5,
   "metadata": {
    "collapsed": false,
    "scrolled": true
   },
   "outputs": [
    {
     "name": "stdout",
     "output_type": "stream",
     "text": [
      "Using matplotlib backend: Qt5Agg\n",
      "Populating the interactive namespace from numpy and matplotlib\n"
     ]
    }
   ],
   "source": [
    "from daq import daqDevice\n",
    "import daqh\n",
    "import numpy as np\n",
    "import time\n",
    "import sys\n",
    "import os\n",
    "sys.path.append('C:\\\\software_git_repos\\\\cofe-python-analysis-tools\\\\utils_meinhold')\n",
    "sys.path.append('C:\\\\software_git_repos\\\\cofe-python-analysis-tools\\\\utils_zonca')\n",
    "sys.path.append('C:\\\\software_git_repos\\\\cofe-python-analysis-tools\\\\utils_zonca\\\\demod')\n",
    "sys.path.append('C:\\\\Anaconda3\\\\envs\\\\py27\\\\Scripts')\n",
    "import h5py\n",
    "%pylab\n",
    "\n",
    "import prm_util as cu\n",
    "\n",
    "from Tkinter import Tk\n",
    "from tkFileDialog import askopenfilename\n",
    "\n",
    "acqmode=daqh.DaamInfinitePost"
   ]
  },
  {
   "cell_type": "code",
   "execution_count": 6,
   "metadata": {
    "collapsed": true
   },
   "outputs": [],
   "source": [
    "def get_data(nchan=4,freq=10,nseconds=5,comment='None',alerts=[58,59,60,118,119,120,178,179,180,238,239,240,298,299,300]):\n",
    "    \"\"\"\n",
    "    function to simply aquire nchan a/d channels at rate freq\n",
    "    for nseconds seconds\n",
    "    \"\"\"\n",
    "    \n",
    "    #outdata=np.zeros([nchan,nscans],dtype=float)\n",
    "    dev=daqDevice('DaqBoard3001USB')\n",
    "    gains=[]\n",
    "    flags=[]\n",
    "    chans=[]\n",
    "    if nchan > 8:\n",
    "        uchan=nchan-8\n",
    "        for i in range(8):\n",
    "            gains.append(daqh.DgainX1)\n",
    "            flags.append(daqh.DafBipolar|daqh.DafDifferential)\n",
    "            chans.append(i)\n",
    "        for i in range(uchan):\n",
    "            gains.append(daqh.DgainX1)\n",
    "            flags.append(daqh.DafBipolar|daqh.DafDifferential)\n",
    "            chans.append(256+i)   #HERE is the famous fix where DaqX refs upper level dif channels!\n",
    "    elif nchan<9:      \n",
    "        for i in range(nchan):\n",
    "            gains.append(daqh.DgainX1)\n",
    "            flags.append(daqh.DafBipolar|daqh.DafDifferential)\n",
    "            chans.append(i)\n",
    "    acqmode = daqh.DaamNShot\n",
    "    dev.AdcSetAcq(acqmode, postTrigCount = nseconds*freq)\n",
    "    dev.AdcSetScan(chans,gains,flags)\n",
    "    dev.AdcSetFreq(freq)\n",
    "    #use the driver buffer here user buffer was very limited (the way I tried anyway) \n",
    "    transMask = daqh.DatmUpdateBlock|daqh.DatmCycleOn|daqh.DatmDriverBuf\n",
    "\n",
    "    buf=dev.AdcTransferSetBuffer(transMask, np.uint(nseconds*freq*nchan))\n",
    "    #bufMask is for transferring the buffer\n",
    "    bufMask = daqh.DabtmOldest | daqh.DabtmRetAvail\n",
    "\n",
    "    timestart = (time.time())\n",
    "    timenotify = timestart + 5\n",
    "\n",
    "    dev.SetTriggerEvent(daqh.DatsImmediate,None, 0, np.array(gains[0],dtype=int), np.array(flags[0],dtype=int), daqh.DaqTypeAnalogLocal, 0, 0, daqh.DaqStartEvent)\n",
    "    dev.SetTriggerEvent(daqh.DatsScanCount,None, 0, np.array(gains[0],dtype=int), np.array(flags[0],dtype=int), daqh.DaqTypeAnalogLocal, 0, 0, daqh.DaqStopEvent)\n",
    "    dev.AdcTransferStart()\n",
    "    dev.AdcArm()\n",
    "    \n",
    "    while True:\n",
    "        alertscopy=alerts[:]\n",
    "        timenotify = checkAlerts(timenotify, timestart, alerts,alertscopy)        \n",
    "        \n",
    "        stat = dev.AdcTransferGetStat()\n",
    "        active = stat['active']\n",
    "        if not (active & daqh.DaafAcqActive):\n",
    "            break\n",
    "    dev.AdcDisarm()\n",
    "    outdata,ret=dev.AdcTransferBufData(nseconds*freq, nchan,bufMask)\n",
    "    \n",
    "    outdata=np.array(outdata,dtype=float)\n",
    "    outdata=(outdata-2**15)*20./2**16\n",
    "    outdata=np.transpose(np.reshape(outdata,[nseconds*freq,nchan]))\n",
    "    print \"Finished collecting data\\n-\"\n",
    "    dev.Close()    \n",
    "    return outdata"
   ]
  },
  {
   "cell_type": "code",
   "execution_count": 7,
   "metadata": {
    "collapsed": false
   },
   "outputs": [],
   "source": [
    "def import_data(filename=None):\n",
    "    '''\n",
    "    function to read in previously stored data and put in format of freshly read data dictionary\n",
    "    '''\n",
    "    \n",
    "    if filename==None:\n",
    "        Tk().withdraw() # we don't want a full GUI, so keep the root window from appearing\n",
    "        filename = askopenfilename(initialdir='C:\\\\Interferometer_tests\\\\io_3001_usb_data')\n",
    "    hf=h5py.File(filename)\n",
    "    d={}\n",
    "    print(hf.keys())\n",
    "    for key in hf.keys():\n",
    "        d[key]=squeeze(array(hf[key]))\n",
    "    hf.close()\n",
    "    return d"
   ]
  },
  {
   "cell_type": "code",
   "execution_count": 8,
   "metadata": {
    "collapsed": true
   },
   "outputs": [],
   "source": [
    "def checkAlerts(timeupdate,timestart, alerts, alertscopy, updateincrement=5):\n",
    "    timecheck = (time.time())\n",
    "    if timecheck > timeupdate:\n",
    "        print \"Time: \" + str(int(timecheck - timestart))\n",
    "        timeupdate += updateincrement\n",
    "    for alert in alerts:\n",
    "        if (timecheck - timestart)%60 > alert:\n",
    "            print \"---- \" + str(int(timecheck - timestart)) + \" SECONDS ----\"\n",
    "            alerts.remove(alert)\n",
    "    if 2<(timecheck -timestart%60)<3:\n",
    "        alerts = alertscopy[:]\n",
    "        \n",
    "        \n",
    "    return timeupdate"
   ]
  },
  {
   "cell_type": "code",
   "execution_count": 9,
   "metadata": {
    "collapsed": true
   },
   "outputs": [],
   "source": [
    "def get_date_filename(labelstring=''):\n",
    "    #version for testing adds an optional string to identify tests\n",
    "    now=time.localtime()[0:6]\n",
    "    #dirfmt = \"c:\\\\cofe\\\\ground_data\\\\testdata\\\\%4d_%02d_%02d\"\n",
    "    dirfmt = \"C:\\\\Interferometer_tests\\\\io_3001_usb_data\\\\%4d_%02d_%02d\"\n",
    "    dirname = dirfmt % now[0:3]\n",
    "    filefmt = \"%02d_%02d_%02d.h5\"\n",
    "    filename= labelstring+filefmt % now[3:6]\n",
    "    ffilename=os.path.join(dirname,filename)\n",
    "    if not os.path.exists(dirname):\n",
    "        os.mkdir(dirname)\n",
    "    return(ffilename)"
   ]
  },
  {
   "cell_type": "code",
   "execution_count": 10,
   "metadata": {
    "collapsed": true
   },
   "outputs": [],
   "source": [
    "def zplot(d_dict_list,minfreq=1):\n",
    "    \"\"\"\n",
    "    calculate asd's and overplot all from list of data dictionaries, assumed to have meaningful\n",
    "    keynames for legend\n",
    "    \"\"\"\n",
    "    figure()\n",
    "    for d_dict in d_dict_list:\n",
    "        z=cu.nps(d_dict['data'],d_dict['samprate'],minfreq=minfreq)\n",
    "        plot(z[0],np.sqrt(z[1]),label=d_dict['label'])\n",
    "    xlabel('Frequency, [Hz]')\n",
    "    ylabel('ASD, [$nV \\sqrt{sec}$]')\n",
    "    xscale('log')\n",
    "    yscale('log')\n",
    "    legend()\n",
    "    title('Comparison spectra')\n",
    "    legend()"
   ]
  },
  {
   "cell_type": "code",
   "execution_count": 11,
   "metadata": {
    "collapsed": false
   },
   "outputs": [],
   "source": [
    "#use this function- box is set up with terminations on alternate channels to increase isolation\n",
    "def get_test(samprate=10000,nseconds=10,labelstring='test',minfreq=1):\n",
    "    s=[0]  #active channels, intervening ones are terminated to increase isolation\n",
    "    d=get_data(nchan=1,freq=samprate,nseconds=nseconds)\n",
    "    #z1=cu.nps(d[0,:],samprate,minfreq)\n",
    "    \n",
    "    #figure()\n",
    "    #plot(z1[0],np.sqrt(z1[1]),label='z1')\n",
    "    #ylim([0,.05])\n",
    "    #xlabel('Frequency, [Hz]')\n",
    "    #label('ASD, [$V \\sqrt{sec}$]')\n",
    "    #title('Test')\n",
    "    #legend()\n",
    "    #yscale('log')\n",
    "    #xscale('log')\n",
    "    outdata=squeeze(d[s,:])\n",
    "    fname=get_date_filename(labelstring)\n",
    "    with h5py.File(fname, mode='w') as hdf_file:\n",
    "        hdf_file.create_dataset('data', data=outdata)\n",
    "        hdf_file.create_dataset('samprate', data=[samprate])\n",
    "        hdf_file.create_dataset('label', data=[labelstring])\n",
    "        hdf_file.close()\n",
    "    return {'data':outdata,'samprate':samprate,'label':labelstring}"
   ]
  },
  {
   "cell_type": "code",
   "execution_count": 12,
   "metadata": {
    "collapsed": false
   },
   "outputs": [],
   "source": [
    "#use this function- box is set up with terminations on alternate channels to increase isolation\n",
    "def get_test2(samprate=10000,nseconds=10,labelstring='test',minfreq=1):\n",
    "    s=[0,2]  #active channels, intervening ones are terminated to increase isolation\n",
    "    d=get_data(nchan=4,freq=samprate,nseconds=nseconds)\n",
    "    #z1=cu.nps(d[0,:],samprate,minfreq)\n",
    "    \n",
    "    #figure()\n",
    "    #plot(z1[0],np.sqrt(z1[1]),label='z1')\n",
    "    #ylim([0,.05])\n",
    "    #xlabel('Frequency, [Hz]')\n",
    "    #label('ASD, [$V \\sqrt{sec}$]')\n",
    "    #title('Test')\n",
    "    #legend()\n",
    "    #yscale('log')\n",
    "    #xscale('log')\n",
    "    outdata=squeeze(d[s,:])\n",
    "    fname=get_date_filename(labelstring)\n",
    "    with h5py.File(fname, mode='w') as hdf_file:\n",
    "        hdf_file.create_dataset('data', data=outdata)\n",
    "        hdf_file.create_dataset('samprate', data=[samprate])\n",
    "        hdf_file.create_dataset('label', data=[labelstring])\n",
    "        hdf_file.close()\n",
    "    return {'data':outdata,'samprate':samprate,'label':labelstring}"
   ]
  },
  {
   "cell_type": "code",
   "execution_count": 13,
   "metadata": {
    "collapsed": false
   },
   "outputs": [],
   "source": [
    "def demod(indata):\n",
    "    #function to extract I,Q from data, sync\n",
    "    dd=indata['data'][1,4:] - indata['data'][1,:-4]\n",
    "    signal=indata['data'][0,4:]\n",
    "    x=arange(len(dd))\n",
    "    d_edges=x[where(dd > 2.)]\n",
    "    u_edges=x[where(dd < -2.)]\n",
    "    #trim these lists to avoid partials at the end, and force first edge to be rising \n",
    "    #last edge to be falling one\n",
    "    u_edges=u_edges[1:-1]\n",
    "    d_edges=d_edges[where(d_edges > u_edges[0])]\n",
    "    d_edges=d_edges[where(d_edges < u_edges[-1])]\n",
    "    phase1=[]\n",
    "    phase2=[]\n",
    "    print(len(d_edges),len(u_edges))\n",
    "    for u,d,u2 in zip(u_edges[:-1],d_edges,u_edges[1:]):\n",
    "        if(((d-u)>5) and ((d-u) <100) and ((u2-d>5)) and ((u2-d) <100)):\n",
    "            phase1.append(np.mean(signal[u:d]))\n",
    "            phase2.append(np.mean(signal[d:u2]))\n",
    "    i=np.array(phase1)\n",
    "    q=np.array(phase2)\n",
    "    z=i-mean(i) + 1j*(q-mean(q))\n",
    "    phi=np.unwrap(np.angle(z))\n",
    "    return i,q,phi\n",
    "    #return x,u_edges,d_edges,dd"
   ]
  },
  {
   "cell_type": "code",
   "execution_count": 14,
   "metadata": {
    "collapsed": false,
    "scrolled": false
   },
   "outputs": [
    {
     "name": "stdout",
     "output_type": "stream",
     "text": [
      "Time: 5\n",
      "Time: 10\n",
      "Finished collecting data\n",
      "-\n"
     ]
    },
    {
     "ename": "WindowsError",
     "evalue": "[Error 3] The system cannot find the path specified: 'C:\\\\Interferometer_tests\\\\io_3001_usb_data\\\\2016_12_22'",
     "output_type": "error",
     "traceback": [
      "\u001b[0;31m---------------------------------------------------------------------------\u001b[0m",
      "\u001b[0;31mWindowsError\u001b[0m                              Traceback (most recent call last)",
      "\u001b[0;32m<ipython-input-14-433621221296>\u001b[0m in \u001b[0;36m<module>\u001b[0;34m()\u001b[0m\n\u001b[0;32m----> 1\u001b[0;31m \u001b[0md\u001b[0m\u001b[1;33m=\u001b[0m\u001b[0mget_test2\u001b[0m\u001b[1;33m(\u001b[0m\u001b[0mnseconds\u001b[0m\u001b[1;33m=\u001b[0m\u001b[1;36m10\u001b[0m\u001b[1;33m,\u001b[0m\u001b[0msamprate\u001b[0m\u001b[1;33m=\u001b[0m\u001b[1;36m20000\u001b[0m\u001b[1;33m,\u001b[0m\u001b[0mlabelstring\u001b[0m\u001b[1;33m=\u001b[0m\u001b[1;34m'tst'\u001b[0m\u001b[1;33m)\u001b[0m\u001b[1;33m\u001b[0m\u001b[0m\n\u001b[0m",
      "\u001b[0;32m<ipython-input-12-3e0f96e93f21>\u001b[0m in \u001b[0;36mget_test2\u001b[0;34m(samprate, nseconds, labelstring, minfreq)\u001b[0m\n\u001b[1;32m     15\u001b[0m     \u001b[1;31m#xscale('log')\u001b[0m\u001b[1;33m\u001b[0m\u001b[1;33m\u001b[0m\u001b[0m\n\u001b[1;32m     16\u001b[0m     \u001b[0moutdata\u001b[0m\u001b[1;33m=\u001b[0m\u001b[0msqueeze\u001b[0m\u001b[1;33m(\u001b[0m\u001b[0md\u001b[0m\u001b[1;33m[\u001b[0m\u001b[0ms\u001b[0m\u001b[1;33m,\u001b[0m\u001b[1;33m:\u001b[0m\u001b[1;33m]\u001b[0m\u001b[1;33m)\u001b[0m\u001b[1;33m\u001b[0m\u001b[0m\n\u001b[0;32m---> 17\u001b[0;31m     \u001b[0mfname\u001b[0m\u001b[1;33m=\u001b[0m\u001b[0mget_date_filename\u001b[0m\u001b[1;33m(\u001b[0m\u001b[0mlabelstring\u001b[0m\u001b[1;33m)\u001b[0m\u001b[1;33m\u001b[0m\u001b[0m\n\u001b[0m\u001b[1;32m     18\u001b[0m     \u001b[1;32mwith\u001b[0m \u001b[0mh5py\u001b[0m\u001b[1;33m.\u001b[0m\u001b[0mFile\u001b[0m\u001b[1;33m(\u001b[0m\u001b[0mfname\u001b[0m\u001b[1;33m,\u001b[0m \u001b[0mmode\u001b[0m\u001b[1;33m=\u001b[0m\u001b[1;34m'w'\u001b[0m\u001b[1;33m)\u001b[0m \u001b[1;32mas\u001b[0m \u001b[0mhdf_file\u001b[0m\u001b[1;33m:\u001b[0m\u001b[1;33m\u001b[0m\u001b[0m\n\u001b[1;32m     19\u001b[0m         \u001b[0mhdf_file\u001b[0m\u001b[1;33m.\u001b[0m\u001b[0mcreate_dataset\u001b[0m\u001b[1;33m(\u001b[0m\u001b[1;34m'data'\u001b[0m\u001b[1;33m,\u001b[0m \u001b[0mdata\u001b[0m\u001b[1;33m=\u001b[0m\u001b[0moutdata\u001b[0m\u001b[1;33m)\u001b[0m\u001b[1;33m\u001b[0m\u001b[0m\n",
      "\u001b[0;32m<ipython-input-9-3f45ed5a5f22>\u001b[0m in \u001b[0;36mget_date_filename\u001b[0;34m(labelstring)\u001b[0m\n\u001b[1;32m      9\u001b[0m     \u001b[0mffilename\u001b[0m\u001b[1;33m=\u001b[0m\u001b[0mos\u001b[0m\u001b[1;33m.\u001b[0m\u001b[0mpath\u001b[0m\u001b[1;33m.\u001b[0m\u001b[0mjoin\u001b[0m\u001b[1;33m(\u001b[0m\u001b[0mdirname\u001b[0m\u001b[1;33m,\u001b[0m\u001b[0mfilename\u001b[0m\u001b[1;33m)\u001b[0m\u001b[1;33m\u001b[0m\u001b[0m\n\u001b[1;32m     10\u001b[0m     \u001b[1;32mif\u001b[0m \u001b[1;32mnot\u001b[0m \u001b[0mos\u001b[0m\u001b[1;33m.\u001b[0m\u001b[0mpath\u001b[0m\u001b[1;33m.\u001b[0m\u001b[0mexists\u001b[0m\u001b[1;33m(\u001b[0m\u001b[0mdirname\u001b[0m\u001b[1;33m)\u001b[0m\u001b[1;33m:\u001b[0m\u001b[1;33m\u001b[0m\u001b[0m\n\u001b[0;32m---> 11\u001b[0;31m         \u001b[0mos\u001b[0m\u001b[1;33m.\u001b[0m\u001b[0mmkdir\u001b[0m\u001b[1;33m(\u001b[0m\u001b[0mdirname\u001b[0m\u001b[1;33m)\u001b[0m\u001b[1;33m\u001b[0m\u001b[0m\n\u001b[0m\u001b[1;32m     12\u001b[0m     \u001b[1;32mreturn\u001b[0m\u001b[1;33m(\u001b[0m\u001b[0mffilename\u001b[0m\u001b[1;33m)\u001b[0m\u001b[1;33m\u001b[0m\u001b[0m\n",
      "\u001b[0;31mWindowsError\u001b[0m: [Error 3] The system cannot find the path specified: 'C:\\\\Interferometer_tests\\\\io_3001_usb_data\\\\2016_12_22'"
     ]
    }
   ],
   "source": [
    "d=get_test2(nseconds=10,samprate=20000,labelstring='tst')"
   ]
  },
  {
   "cell_type": "code",
   "execution_count": 22,
   "metadata": {
    "collapsed": false
   },
   "outputs": [
    {
     "name": "stdout",
     "output_type": "stream",
     "text": [
      "(19996, 19998)\n"
     ]
    }
   ],
   "source": [
    "i6,q6,phi6=demod(d6)"
   ]
  },
  {
   "cell_type": "code",
   "execution_count": 23,
   "metadata": {
    "collapsed": false
   },
   "outputs": [
    {
     "data": {
      "text/plain": [
       "[<matplotlib.lines.Line2D at 0x16744908>]"
      ]
     },
     "execution_count": 23,
     "metadata": {},
     "output_type": "execute_result"
    }
   ],
   "source": [
    "figure(3)\n",
    "\n",
    "plot(phi6)"
   ]
  },
  {
   "cell_type": "code",
   "execution_count": 24,
   "metadata": {
    "collapsed": false
   },
   "outputs": [
    {
     "data": {
      "text/plain": [
       "[<matplotlib.lines.Line2D at 0x128cdf98>]"
      ]
     },
     "execution_count": 24,
     "metadata": {},
     "output_type": "execute_result"
    }
   ],
   "source": [
    "figure()\n",
    "plot(i6)\n",
    "plot(q6)"
   ]
  },
  {
   "cell_type": "code",
   "execution_count": 243,
   "metadata": {
    "collapsed": false
   },
   "outputs": [
    {
     "data": {
      "text/plain": [
       "[<matplotlib.lines.Line2D at 0x33d3a630>]"
      ]
     },
     "execution_count": 243,
     "metadata": {},
     "output_type": "execute_result"
    }
   ],
   "source": [
    "figure()\n",
    "plot(d7['data'][0,:])"
   ]
  },
  {
   "cell_type": "code",
   "execution_count": 191,
   "metadata": {
    "collapsed": false
   },
   "outputs": [
    {
     "data": {
      "text/plain": [
       "[<matplotlib.lines.Line2D at 0x30b10080>]"
      ]
     },
     "execution_count": 191,
     "metadata": {},
     "output_type": "execute_result"
    }
   ],
   "source": [
    "z=i+1j*q\n",
    "phi=np.angle(z)\n",
    "uphi=np.unwrap(phi,discont=-np.pi/4)\n",
    "figure()\n",
    "plot(uphi)"
   ]
  },
  {
   "cell_type": "code",
   "execution_count": null,
   "metadata": {
    "collapsed": true
   },
   "outputs": [],
   "source": []
  },
  {
   "cell_type": "code",
   "execution_count": 266,
   "metadata": {
    "collapsed": false
   },
   "outputs": [
    {
     "data": {
      "text/plain": [
       "[<matplotlib.lines.Line2D at 0x3636cc88>]"
      ]
     },
     "execution_count": 266,
     "metadata": {},
     "output_type": "execute_result"
    }
   ],
   "source": [
    "figure()\n",
    "plot(d1['data'][1,:1000])"
   ]
  },
  {
   "cell_type": "code",
   "execution_count": 169,
   "metadata": {
    "collapsed": false
   },
   "outputs": [
    {
     "data": {
      "text/plain": [
       "[<matplotlib.lines.Line2D at 0x2e61d4a8>]"
      ]
     },
     "execution_count": 169,
     "metadata": {},
     "output_type": "execute_result"
    }
   ],
   "source": [
    "figure()\n",
    "plot(phi)\n"
   ]
  },
  {
   "cell_type": "code",
   "execution_count": 155,
   "metadata": {
    "collapsed": false
   },
   "outputs": [
    {
     "name": "stdout",
     "output_type": "stream",
     "text": [
      "[]\n"
     ]
    }
   ],
   "source": [
    "print(i[:10])"
   ]
  },
  {
   "cell_type": "code",
   "execution_count": 47,
   "metadata": {
    "collapsed": false,
    "scrolled": false
   },
   "outputs": [],
   "source": [
    "zplot([int2d],minfreq=.01)"
   ]
  },
  {
   "cell_type": "code",
   "execution_count": 44,
   "metadata": {
    "collapsed": false
   },
   "outputs": [
    {
     "data": {
      "text/plain": [
       "array([[ 0.15289307,  0.15197754,  0.15197754, ...,  0.1574707 ,\n",
       "         0.15686035,  0.15716553],\n",
       "       [ 0.19012451,  0.18981934,  0.19104004, ...,  0.18463135,\n",
       "         0.18493652,  0.18432617]])"
      ]
     },
     "execution_count": 44,
     "metadata": {},
     "output_type": "execute_result"
    }
   ],
   "source": [
    "int2d2['data']"
   ]
  },
  {
   "cell_type": "code",
   "execution_count": 45,
   "metadata": {
    "collapsed": false
   },
   "outputs": [
    {
     "data": {
      "text/plain": [
       "[<matplotlib.lines.Line2D at 0x23765128>]"
      ]
     },
     "execution_count": 45,
     "metadata": {},
     "output_type": "execute_result"
    }
   ],
   "source": [
    "figure()\n",
    "plot(int2d2['data'][0])\n",
    "plot(int2d2['data'][1])"
   ]
  },
  {
   "cell_type": "code",
   "execution_count": 25,
   "metadata": {
    "collapsed": false
   },
   "outputs": [
    {
     "data": {
      "text/plain": [
       "array([ 0.12939453,  0.12939453,  0.13000488, ...,  0.13580322,\n",
       "        0.1361084 ,  0.13580322])"
      ]
     },
     "execution_count": 25,
     "metadata": {},
     "output_type": "execute_result"
    }
   ],
   "source": [
    "int2d2['data']"
   ]
  },
  {
   "cell_type": "code",
   "execution_count": 25,
   "metadata": {
    "collapsed": false
   },
   "outputs": [
    {
     "data": {
      "text/plain": [
       "[<matplotlib.lines.Line2D at 0x7d7c8198>]"
      ]
     },
     "execution_count": 25,
     "metadata": {},
     "output_type": "execute_result"
    }
   ],
   "source": [
    "figure()\n",
    "plot(ton1['data'])"
   ]
  },
  {
   "cell_type": "code",
   "execution_count": 105,
   "metadata": {
    "collapsed": false
   },
   "outputs": [],
   "source": [
    "zplot([tf,t])"
   ]
  },
  {
   "cell_type": "code",
   "execution_count": 170,
   "metadata": {
    "collapsed": false
   },
   "outputs": [],
   "source": [
    "x=arange(1e4)\n",
    "i=np.sin(x*np.pi/1000.)\n",
    "q=np.cos(x*np.pi/1000.)\n",
    "z=i+1j*q"
   ]
  },
  {
   "cell_type": "code",
   "execution_count": 29,
   "metadata": {
    "collapsed": false
   },
   "outputs": [
    {
     "data": {
      "text/plain": [
       "1j"
      ]
     },
     "execution_count": 29,
     "metadata": {},
     "output_type": "execute_result"
    }
   ],
   "source": [
    "z[0]"
   ]
  },
  {
   "cell_type": "code",
   "execution_count": 30,
   "metadata": {
    "collapsed": false
   },
   "outputs": [
    {
     "data": {
      "text/plain": [
       "[<matplotlib.lines.Line2D at 0x3a99b668>]"
      ]
     },
     "execution_count": 30,
     "metadata": {},
     "output_type": "execute_result"
    }
   ],
   "source": [
    "figure()\n",
    "plot(z)"
   ]
  },
  {
   "cell_type": "code",
   "execution_count": 33,
   "metadata": {
    "collapsed": false
   },
   "outputs": [
    {
     "data": {
      "text/plain": [
       "[<matplotlib.lines.Line2D at 0x1ee3d908>]"
      ]
     },
     "execution_count": 33,
     "metadata": {},
     "output_type": "execute_result"
    }
   ],
   "source": [
    "plot(np.angle(z))"
   ]
  },
  {
   "cell_type": "code",
   "execution_count": 171,
   "metadata": {
    "collapsed": false
   },
   "outputs": [
    {
     "data": {
      "text/plain": [
       "[<matplotlib.lines.Line2D at 0x2e8edb00>]"
      ]
     },
     "execution_count": 171,
     "metadata": {},
     "output_type": "execute_result"
    }
   ],
   "source": [
    "figure()\n",
    "plot(x,i)\n",
    "plot(x,q)\n",
    "plot(x,np.angle(z))\n",
    "plot(x,np.unwrap(np.angle(z)))"
   ]
  },
  {
   "cell_type": "code",
   "execution_count": 40,
   "metadata": {
    "collapsed": false
   },
   "outputs": [
    {
     "data": {
      "text/plain": [
       "[<matplotlib.lines.Line2D at 0x38872d68>]"
      ]
     },
     "execution_count": 40,
     "metadata": {},
     "output_type": "execute_result"
    }
   ],
   "source": [
    "figure()\n",
    "plot(x,i)\n",
    "plot(x,q)"
   ]
  },
  {
   "cell_type": "code",
   "execution_count": null,
   "metadata": {
    "collapsed": true
   },
   "outputs": [],
   "source": []
  }
 ],
 "metadata": {
  "anaconda-cloud": {},
  "kernelspec": {
   "display_name": "Python [conda env:py27]",
   "language": "python",
   "name": "conda-env-py27-py"
  },
  "language_info": {
   "codemirror_mode": {
    "name": "ipython",
    "version": 2
   },
   "file_extension": ".py",
   "mimetype": "text/x-python",
   "name": "python",
   "nbconvert_exporter": "python",
   "pygments_lexer": "ipython2",
   "version": "2.7.12"
  }
 },
 "nbformat": 4,
 "nbformat_minor": 0
}
