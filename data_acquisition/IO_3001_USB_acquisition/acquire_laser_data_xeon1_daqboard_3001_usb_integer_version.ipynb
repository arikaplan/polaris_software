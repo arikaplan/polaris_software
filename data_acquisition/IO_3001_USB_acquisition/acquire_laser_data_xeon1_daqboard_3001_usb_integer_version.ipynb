{
 "cells": [
  {
   "cell_type": "code",
   "execution_count": 1,
   "metadata": {
    "collapsed": false
   },
   "outputs": [
    {
     "name": "stdout",
     "output_type": "stream",
     "text": [
      "Using matplotlib backend: Qt5Agg\n",
      "Populating the interactive namespace from numpy and matplotlib\n"
     ]
    }
   ],
   "source": [
    "import numpy as np\n",
    "import time\n",
    "import sys\n",
    "import os\n",
    "sys.path.append('C:\\\\git_repos\\\\cofe-python-analysis-tools\\\\utils_meinhold')\n",
    "sys.path.append('C:\\\\git_repos\\\\cofe-python-analysis-tools\\\\utils_zonca')\n",
    "sys.path.append('C:\\git_repos\\lab_utilities\\IO_3001_USB_acquisition')\n",
    "sys.path.append('C:\\\\Anaconda3\\\\envs\\\\py27\\\\Scripts')\n",
    "from daq import daqDevice\n",
    "import daqh\n",
    "from prm_util import nps\n",
    "import h5py\n",
    "%pylab\n",
    "\n",
    "import prm_util as cu\n",
    "\n",
    "from Tkinter import Tk\n",
    "from tkFileDialog import askopenfilename\n",
    "\n",
    "acqmode=daqh.DaamInfinitePost"
   ]
  },
  {
   "cell_type": "code",
   "execution_count": 2,
   "metadata": {
    "collapsed": true
   },
   "outputs": [],
   "source": [
    "rcParams['agg.path.chunksize'] = 10000"
   ]
  },
  {
   "cell_type": "code",
   "execution_count": 3,
   "metadata": {
    "collapsed": true
   },
   "outputs": [],
   "source": [
    "dev=daqDevice('DaqBoard3001USB')"
   ]
  },
  {
   "cell_type": "code",
   "execution_count": 4,
   "metadata": {
    "collapsed": false
   },
   "outputs": [],
   "source": [
    "def get_data(nchan=4,freq=10,nseconds=5,comment='None',alerts=[58,59,60,118,119,120,178,179,180,238,239,240,298,299,300]):\n",
    "    \"\"\"\n",
    "    function to simply aquire nchan a/d channels at rate freq\n",
    "    for nseconds seconds\n",
    "    \"\"\"\n",
    "    DafSettle1us=0x1800000\n",
    "    #outdata=np.zeros([nchan,nscans],dtype=float)\n",
    "    dev=daqDevice('DaqBoard3001USB')\n",
    "    gains=[]\n",
    "    flags=[]\n",
    "    chans=[]\n",
    "    if nchan > 8:\n",
    "        uchan=nchan-8\n",
    "        for i in range(8):\n",
    "            gains.append(daqh.DgainX1)\n",
    "            flags.append(daqh.DafBipolar|daqh.DafDifferential|DafSettle1us)\n",
    "            chans.append(i)\n",
    "        for i in range(uchan):\n",
    "            gains.append(daqh.DgainX1)\n",
    "            flags.append(daqh.DafBipolar|daqh.DafDifferential|DafSettle1us)\n",
    "            chans.append(256+i)   #HERE is the famous fix where DaqX refs upper level dif channels!\n",
    "    elif nchan<9:      \n",
    "        for i in range(nchan):\n",
    "            gains.append(daqh.DgainX1)\n",
    "            flags.append(daqh.DafBipolar|daqh.DafDifferential|DafSettle1us)\n",
    "            chans.append(i)\n",
    "    acqmode = daqh.DaamNShot\n",
    "    dev.AdcSetAcq(acqmode, postTrigCount = nseconds*freq)\n",
    "    dev.AdcSetScan(chans,gains,flags)\n",
    "    dev.AdcSetFreq(freq)\n",
    "    #use the driver buffer here user buffer was very limited (the way I tried anyway) \n",
    "    transMask = daqh.DatmUpdateBlock|daqh.DatmCycleOn|daqh.DatmDriverBuf\n",
    "\n",
    "    buf=dev.AdcTransferSetBuffer(transMask, np.uint(nseconds*freq*nchan))\n",
    "    #bufMask is for transferring the buffer\n",
    "    bufMask = daqh.DabtmOldest | daqh.DabtmRetAvail\n",
    "\n",
    "    timestart = (time.time())\n",
    "    timenotify = timestart + 5\n",
    "\n",
    "    dev.SetTriggerEvent(daqh.DatsImmediate,None, 0, np.array(gains[0],dtype=int), np.array(flags[0],dtype=int), daqh.DaqTypeAnalogLocal, 0, 0, daqh.DaqStartEvent)\n",
    "    dev.SetTriggerEvent(daqh.DatsScanCount,None, 0, np.array(gains[0],dtype=int), np.array(flags[0],dtype=int), daqh.DaqTypeAnalogLocal, 0, 0, daqh.DaqStopEvent)\n",
    "    dev.AdcTransferStart()\n",
    "    dev.AdcArm()\n",
    "    \n",
    "    while True:\n",
    "        alertscopy=alerts[:]\n",
    "        timenotify = checkAlerts(timenotify, timestart, alerts,alertscopy)        \n",
    "        \n",
    "        stat = dev.AdcTransferGetStat()\n",
    "        active = stat['active']\n",
    "        if not (active & daqh.DaafAcqActive):\n",
    "            break\n",
    "    dev.AdcDisarm()\n",
    "    outdata,ret=dev.AdcTransferBufData(nseconds*freq, nchan,bufMask)\n",
    "    \n",
    "    outdata=np.array(outdata,dtype=np.uint16)\n",
    "    #outdata=(outdata-2**15)*20./2**16\n",
    "    outdata=np.transpose(np.reshape(outdata,[nseconds*freq,nchan]))\n",
    "    #print \"Finished collecting data\\n-\"\n",
    "    dev.Close()    \n",
    "    return outdata"
   ]
  },
  {
   "cell_type": "code",
   "execution_count": 5,
   "metadata": {
    "collapsed": true
   },
   "outputs": [],
   "source": [
    "def checkAlerts(timeupdate,timestart, alerts, alertscopy, updateincrement=5):\n",
    "    timecheck = (time.time())\n",
    "    if timecheck > timeupdate:\n",
    "        print \"Time: \" + str(int(timecheck - timestart))\n",
    "        timeupdate += updateincrement\n",
    "    for alert in alerts:\n",
    "        if (timecheck - timestart)%60 > alert:\n",
    "            print \"---- \" + str(int(timecheck - timestart)) + \" SECONDS ----\"\n",
    "            alerts.remove(alert)\n",
    "    if 2<(timecheck -timestart%60)<3:\n",
    "        alerts = alertscopy[:]\n",
    "        \n",
    "        \n",
    "    return timeupdate"
   ]
  },
  {
   "cell_type": "code",
   "execution_count": 6,
   "metadata": {
    "collapsed": true
   },
   "outputs": [],
   "source": [
    "def get_date_filename(labelstring=''):\n",
    "    #version for testing adds an optional string to identify tests\n",
    "    now=time.localtime()[0:6]\n",
    "    dirfmt = \"C:\\\\Interferometer_tests\\\\data\\\\%4d_%02d_%02d\"\n",
    "    dirname = dirfmt % now[0:3]\n",
    "    filefmt = \"%02d_%02d_%02d.h5\"\n",
    "    filename= labelstring+filefmt % now[3:6]\n",
    "    ffilename=os.path.join(dirname,filename)\n",
    "    if not os.path.exists(dirname):\n",
    "        os.mkdir(dirname)\n",
    "    return(ffilename)"
   ]
  },
  {
   "cell_type": "code",
   "execution_count": 7,
   "metadata": {
    "collapsed": true
   },
   "outputs": [],
   "source": [
    "def zplot(d_dict_list,minfreq=1,chan=0):\n",
    "    \"\"\"\n",
    "    calculate asd's and overplot all from list of data dictionaries, assumed to have meaningful\n",
    "    keynames for legend\n",
    "    \"\"\"\n",
    "    figure()\n",
    "    for d_dict in d_dict_list:\n",
    "        if len(d_dict['data'])>2:\n",
    "            z=cu.nps(d_dict['data'],d_dict['samprate'],minfreq=minfreq)\n",
    "        else:\n",
    "            z=cu.nps(d_dict['data'][chan],d_dict['samprate'],minfreq=minfreq)\n",
    "        plot(z[0],np.sqrt(z[1]),label=d_dict['label'])\n",
    "    xlabel('Frequency, [Hz]')\n",
    "    ylabel('ASD, [$nV \\sqrt{sec}$]')\n",
    "    xscale('log')\n",
    "    yscale('log')\n",
    "    legend()\n",
    "    title('Comparison spectra')\n",
    "    legend()"
   ]
  },
  {
   "cell_type": "code",
   "execution_count": 8,
   "metadata": {
    "collapsed": false
   },
   "outputs": [],
   "source": [
    "#use this function- box is set up with terminations on alternate channels to increase isolation\n",
    "def get_test(samprate=10000,nseconds=10,labelstring='test',minfreq=1):\n",
    "    s=[0]  #active channels, intervening ones are terminated to increase isolation\n",
    "    d=get_data(nchan=1,freq=samprate,nseconds=nseconds)\n",
    "    outdata=squeeze(d[s,:])\n",
    "    fname=get_date_filename(labelstring)\n",
    "    with h5py.File(fname, mode='w') as hdf_file:\n",
    "        hdf_file.create_dataset('data', data=outdata)\n",
    "        hdf_file.create_dataset('samprate', data=[samprate])\n",
    "        hdf_file.create_dataset('label', data=[labelstring])\n",
    "        hdf_file.close()\n",
    "    return {'data':outdata,'samprate':samprate,'label':labelstring}"
   ]
  },
  {
   "cell_type": "code",
   "execution_count": 9,
   "metadata": {
    "collapsed": true
   },
   "outputs": [],
   "source": [
    "def i2v(inarray):\n",
    "    \"\"\"convenient conversion to float from int16\n",
    "    \"\"\"\n",
    "    return (inarray.astype(float)-2**15)*20./2**16\n",
    "    "
   ]
  },
  {
   "cell_type": "code",
   "execution_count": 10,
   "metadata": {
    "collapsed": true
   },
   "outputs": [],
   "source": [
    "def allplot(d,closef=True,norm=True):\n",
    "    '''\n",
    "    set closef to False to overplot on previous figures This version starts with integer array inputs and casts on the fly\n",
    "    '''\n",
    "    minfreq=.2\n",
    "    sr=np.float(d['samprate'])\n",
    "    x=arange(len(d['data'][0]))/sr\n",
    "    if ((type(d['data'][0][0])==uint16) | (type(d['data'][0][0])==numpy.uint16)):\n",
    "        v0=i2v(d['data'][0])\n",
    "        v1=i2v(d['data'][1])\n",
    "    else:\n",
    "        v0=d['data'][0]\n",
    "        v1=d['data'][1]\n",
    "    i=v0-np.mean(v0)\n",
    "    q=v1-np.mean(v1)\n",
    "    if norm:\n",
    "        i=i/np.std(i)\n",
    "        q=q/np.std(q)\n",
    "    z=i-mean(i) + 1j*(q-mean(q))\n",
    "    phi=np.unwrap(np.angle(z))\n",
    "    if closef:\n",
    "        close(1)\n",
    "        close(2)\n",
    "        close(3)\n",
    "    figure(1)\n",
    "    plot(x,phi,label=d['label'])\n",
    "    xlabel('Time [seconds]')\n",
    "    ylabel('Phase [Radians]')\n",
    "    title(d['label'] + ' Phase')\n",
    "    legend()\n",
    "    figure(2)\n",
    "    plot(i,q,'.')\n",
    "    xlabel('I')\n",
    "    ylabel('Q')\n",
    "    title(d['label']+ ' Complex plane')\n",
    "    legend()\n",
    "    \n",
    "    figure(3)\n",
    "    plot(x,i,label='I '+d['label'])\n",
    "    plot(x,q,label='Q '+d['label'])\n",
    "    legend()\n",
    "    xlabel('Time [Seconds]')\n",
    "    ylabel('Signal, [au]')\n",
    "    title(d['label'])\n",
    "    legend()\n",
    "    \n",
    "    figure(4)\n",
    "    zphi=cu.nps(phi,d['samprate'])\n",
    "    plot(zphi[0],np.sqrt(zphi[1]),label='Phase  '+d['label'])\n",
    "    xlabel('Frequency, [Hz]')\n",
    "    ylabel('ASD, [$Rad/ \\sqrt{Hz}$]')\n",
    "    xscale('log')\n",
    "    yscale('log')\n",
    "    title('Phase spectrum')\n",
    "    legend()"
   ]
  },
  {
   "cell_type": "code",
   "execution_count": 11,
   "metadata": {
    "collapsed": false
   },
   "outputs": [],
   "source": [
    "#use this function- box is set up with terminations on alternate channels to increase isolation\n",
    "def get_test2(samprate=250000,nseconds=5,labelstring='test'):\n",
    "    s=[0,2]  #active channels, intervening ones are terminated to increase isolation\n",
    "    d=get_data(nchan=4,freq=samprate,nseconds=nseconds)\n",
    "    outdata=squeeze(d[s,:])\n",
    "    fname=get_date_filename(labelstring)\n",
    "    with h5py.File(fname, mode='w') as hdf_file:\n",
    "        hdf_file.create_dataset('data', data=outdata)\n",
    "        hdf_file.create_dataset('samprate', data=[samprate])\n",
    "        hdf_file.create_dataset('label', data=[labelstring])\n",
    "        hdf_file.close()\n",
    "    return {'data':outdata,'samprate':samprate,'label':labelstring}"
   ]
  },
  {
   "cell_type": "code",
   "execution_count": 12,
   "metadata": {
    "collapsed": false
   },
   "outputs": [],
   "source": [
    "def import_data(filename=None):\n",
    "    '''\n",
    "    function to read in previously stored data and put in format of freshly read data dictionary\n",
    "    '''\n",
    "    \n",
    "    if filename==None:\n",
    "        Tk().withdraw() # we don't want a full GUI, so keep the root window from appearing\n",
    "        filename = askopenfilename(initialdir='C:\\\\Interferometer_tests\\\\io_3001_usb_data')\n",
    "    hf=h5py.File(filename)\n",
    "    outdata=reshape(hf['data'][:],[2,-1])\n",
    "    samprate=hf['samprate'][0]\n",
    "    labelstring=hf['label'][0]\n",
    "    hf.close()\n",
    "    return {'data':outdata,'samprate':samprate,'label':labelstring}"
   ]
  },
  {
   "cell_type": "code",
   "execution_count": 13,
   "metadata": {
    "collapsed": false
   },
   "outputs": [],
   "source": [
    "def demod(indata):\n",
    "    #function to extract I,Q from data, sync\n",
    "    dd=indata['data'][1,4:] - indata['data'][1,:-4]\n",
    "    signal=indata['data'][0,4:]\n",
    "    x=arange(len(dd))\n",
    "    d_edges=x[where(dd > 2.)]\n",
    "    u_edges=x[where(dd < -2.)]\n",
    "    #trim these lists to avoid partials at the end, and force first edge to be rising \n",
    "    #last edge to be falling one\n",
    "    u_edges=u_edges[1:-1]\n",
    "    d_edges=d_edges[where(d_edges > u_edges[0])]\n",
    "    d_edges=d_edges[where(d_edges < u_edges[-1])]\n",
    "    phase1=[]\n",
    "    phase2=[]\n",
    "    print(len(d_edges),len(u_edges))\n",
    "    for u,d,u2 in zip(u_edges[:-1],d_edges,u_edges[1:]):\n",
    "        if(((d-u)>5) and ((d-u) <100) and ((u2-d>5)) and ((u2-d) <100)):\n",
    "            phase1.append(np.mean(signal[u:d]))\n",
    "            phase2.append(np.mean(signal[d:u2]))\n",
    "    i=np.array(phase1)\n",
    "    q=np.array(phase2)\n",
    "    z=i-mean(i) + 1j*(q-mean(q))\n",
    "    phi=np.unwrap(np.angle(z))\n",
    "    return i,q,phi\n",
    "    #return x,u_edges,d_edges,dd"
   ]
  },
  {
   "cell_type": "code",
   "execution_count": 17,
   "metadata": {
    "collapsed": false
   },
   "outputs": [
    {
     "name": "stdout",
     "output_type": "stream",
     "text": [
      "Time: 5\n",
      "Time: 10\n",
      "Time: 15\n",
      "Time: 20\n",
      "Time: 25\n",
      "Time: 30\n",
      "Time: 35\n",
      "Time: 40\n",
      "Time: 45\n",
      "Time: 50\n",
      "Time: 55\n",
      "---- 58 SECONDS ----\n",
      "---- 59 SECONDS ----\n",
      "Time: 60\n",
      "Time: 65\n",
      "Time: 70\n",
      "Time: 75\n",
      "Time: 80\n",
      "Time: 85\n",
      "Time: 90\n",
      "Time: 95\n",
      "Time: 100\n"
     ]
    }
   ],
   "source": [
    "DUT25km_smf28_pz20Hz_20V_100s=get_test2(nseconds=100,labelstring='DUT25km smf28 pz 20Hz 20V 100s')"
   ]
  },
  {
   "cell_type": "code",
   "execution_count": 27,
   "metadata": {
    "collapsed": false
   },
   "outputs": [],
   "source": [
    "import gc\n",
    "    "
   ]
  },
  {
   "cell_type": "code",
   "execution_count": 30,
   "metadata": {
    "collapsed": false
   },
   "outputs": [],
   "source": [
    "gc.enable()"
   ]
  },
  {
   "cell_type": "code",
   "execution_count": 15,
   "metadata": {
    "collapsed": false,
    "scrolled": true
   },
   "outputs": [
    {
     "name": "stdout",
     "output_type": "stream",
     "text": [
      "Time: 5\n",
      "Time: 10\n",
      "Time: 15\n",
      "Time: 20\n",
      "Time: 25\n",
      "Time: 30\n",
      "Time: 35\n",
      "Time: 40\n",
      "Time: 45\n",
      "Time: 50\n",
      "Time: 55\n",
      "Time: 60\n",
      "Time: 65\n",
      "Time: 70\n",
      "Time: 75\n",
      "Time: 80\n",
      "Time: 85\n",
      "Time: 90\n",
      "Time: 95\n",
      "Time: 100\n",
      "Finished collecting data\n",
      "-\n"
     ]
    }
   ],
   "source": [
    "fiber_pol_25km_smf_7=get_test2(nseconds=100,samprate=250000,labelstring='fiber_pol_splitter_25km_smf_pz80v_1kHz')"
   ]
  },
  {
   "cell_type": "code",
   "execution_count": 31,
   "metadata": {
    "collapsed": false
   },
   "outputs": [],
   "source": [
    "allplot(DUT25km_smf28_pz20Hz_20V_100s)"
   ]
  },
  {
   "cell_type": "code",
   "execution_count": 28,
   "metadata": {
    "collapsed": false
   },
   "outputs": [
    {
     "data": {
      "text/plain": [
       "(2L, 25000000L)"
      ]
     },
     "execution_count": 28,
     "metadata": {},
     "output_type": "execute_result"
    }
   ],
   "source": [
    "shape(fiber_pol_25km_smf_6['data'])"
   ]
  },
  {
   "cell_type": "code",
   "execution_count": 29,
   "metadata": {
    "collapsed": false
   },
   "outputs": [
    {
     "data": {
      "text/plain": [
       "400"
      ]
     },
     "execution_count": 29,
     "metadata": {},
     "output_type": "execute_result"
    }
   ],
   "source": [
    "2*25*8"
   ]
  },
  {
   "cell_type": "code",
   "execution_count": 36,
   "metadata": {
    "collapsed": false
   },
   "outputs": [
    {
     "data": {
      "text/plain": [
       "12531"
      ]
     },
     "execution_count": 36,
     "metadata": {},
     "output_type": "execute_result"
    }
   ],
   "source": [
    "gc.collect()"
   ]
  },
  {
   "cell_type": "code",
   "execution_count": 48,
   "metadata": {
    "collapsed": false
   },
   "outputs": [
    {
     "name": "stdout",
     "output_type": "stream",
     "text": [
      "Finished collecting data\n",
      "-\n"
     ]
    }
   ],
   "source": [
    "jnk=get_data()"
   ]
  },
  {
   "cell_type": "code",
   "execution_count": 49,
   "metadata": {
    "collapsed": false
   },
   "outputs": [
    {
     "data": {
      "text/plain": [
       "numpy.float64"
      ]
     },
     "execution_count": 49,
     "metadata": {},
     "output_type": "execute_result"
    }
   ],
   "source": [
    "type(jnk[0][0])"
   ]
  },
  {
   "cell_type": "code",
   "execution_count": null,
   "metadata": {
    "collapsed": true
   },
   "outputs": [],
   "source": []
  },
  {
   "cell_type": "code",
   "execution_count": null,
   "metadata": {
    "collapsed": true
   },
   "outputs": [],
   "source": []
  }
 ],
 "metadata": {
  "anaconda-cloud": {},
  "kernelspec": {
   "display_name": "Python [conda env:py27]",
   "language": "python",
   "name": "conda-env-py27-py"
  },
  "language_info": {
   "codemirror_mode": {
    "name": "ipython",
    "version": 2
   },
   "file_extension": ".py",
   "mimetype": "text/x-python",
   "name": "python",
   "nbconvert_exporter": "python",
   "pygments_lexer": "ipython2",
   "version": "2.7.12"
  }
 },
 "nbformat": 4,
 "nbformat_minor": 0
}
