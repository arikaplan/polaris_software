{
 "cells": [
  {
   "cell_type": "code",
   "execution_count": 9,
   "metadata": {
    "collapsed": false
   },
   "outputs": [
    {
     "name": "stdout",
     "output_type": "stream",
     "text": [
      "Using matplotlib backend: Qt4Agg\n",
      "Populating the interactive namespace from numpy and matplotlib\n"
     ]
    }
   ],
   "source": [
    "#!/usr/bin/env python\n",
    "\n",
    "from pyrf.devices.thinkrf import WSA\n",
    "from pyrf.sweep_device import SweepDevice\n",
    "\n",
    "import sys\n",
    "import time\n",
    "import math\n",
    "\n",
    "%pylab\n",
    "#from matplotlib.pyplot import plot, figure, axis, xlabel, ylabel, show\n",
    "import numpy as np\n",
    "\n",
    "# connect to wsa\n",
    "dut = WSA()\n",
    "dut.connect('192.168.1.225')\n",
    "dut.request_read_perm()\n",
    "sd = SweepDevice(dut)\n",
    "\n",
    "fstart, fstop, bins = sd.capture_power_spectrum(0e6, 20000e6, 1e4,\n",
    "    {'attenuator':0})"
   ]
  },
  {
   "cell_type": "code",
   "execution_count": 10,
   "metadata": {
    "collapsed": false
   },
   "outputs": [
    {
     "data": {
      "text/plain": [
       "[<matplotlib.lines.Line2D at 0xe6edd68>]"
      ]
     },
     "execution_count": 10,
     "metadata": {},
     "output_type": "execute_result"
    }
   ],
   "source": [
    "plot(bins)"
   ]
  },
  {
   "cell_type": "code",
   "execution_count": null,
   "metadata": {
    "collapsed": true
   },
   "outputs": [],
   "source": []
  },
  {
   "cell_type": "code",
   "execution_count": 3,
   "metadata": {
    "collapsed": true
   },
   "outputs": [],
   "source": [
    "# setup my graph\n",
    "fig = figure(1)\n",
    "xvalues = np.linspace(fstart, fstop, len(bins))\n",
    "\n",
    "xlabel(\"Frequency\")\n",
    "ylabel(\"Amplitude\")\n",
    "\n",
    "# plot something\n",
    "plot(xvalues, bins, color='blue')\n",
    "\n",
    "# show graph\n",
    "show()"
   ]
  },
  {
   "cell_type": "code",
   "execution_count": 6,
   "metadata": {
    "collapsed": true
   },
   "outputs": [],
   "source": [
    "sd.capture_power_spectrum??"
   ]
  },
  {
   "cell_type": "code",
   "execution_count": 11,
   "metadata": {
    "collapsed": true
   },
   "outputs": [],
   "source": [
    "import ConfigParser\n",
    "\n",
    "config = ConfigParser.RawConfigParser()\n",
    "\n",
    "# When adding sections or items, add them in the reverse order of\n",
    "# how you want them to be displayed in the actual file.\n",
    "# In addition, please note that using RawConfigParser's and the raw\n",
    "# mode of ConfigParser's respective set functions, you can assign\n",
    "# non-string values to keys internally, but will receive an error\n",
    "# when attempting to write to a file or when you get it in non-raw\n",
    "# mode. SafeConfigParser does not allow such assignments to take place.\n",
    "config.add_section('Section1')\n",
    "config.set('Section1', 'an_int', '15')\n",
    "config.set('Section1', 'a_bool', 'true')\n",
    "config.set('Section1', 'a_float', '3.1415')\n",
    "config.set('Section1', 'baz', 'fun')\n",
    "config.set('Section1', 'bar', 'Python')\n",
    "config.set('Section1', 'foo', '%(bar)s is %(baz)s!')\n",
    "\n",
    "# Writing our configuration file to 'example.cfg'\n",
    "with open('example.cfg', 'wb') as configfile:\n",
    "    config.write(configfile)"
   ]
  },
  {
   "cell_type": "code",
   "execution_count": 12,
   "metadata": {
    "collapsed": false
   },
   "outputs": [
    {
     "data": {
      "text/plain": [
       "u'C:\\\\COFE\\\\IO_3001_USB_acquisition'"
      ]
     },
     "execution_count": 12,
     "metadata": {},
     "output_type": "execute_result"
    }
   ],
   "source": [
    "pwd"
   ]
  },
  {
   "cell_type": "code",
   "execution_count": null,
   "metadata": {
    "collapsed": true
   },
   "outputs": [],
   "source": []
  }
 ],
 "metadata": {
  "kernelspec": {
   "display_name": "Python 2",
   "language": "python",
   "name": "python2"
  },
  "language_info": {
   "codemirror_mode": {
    "name": "ipython",
    "version": 2
   },
   "file_extension": ".py",
   "mimetype": "text/x-python",
   "name": "python",
   "nbconvert_exporter": "python",
   "pygments_lexer": "ipython2",
   "version": "2.7.11"
  }
 },
 "nbformat": 4,
 "nbformat_minor": 0
}
