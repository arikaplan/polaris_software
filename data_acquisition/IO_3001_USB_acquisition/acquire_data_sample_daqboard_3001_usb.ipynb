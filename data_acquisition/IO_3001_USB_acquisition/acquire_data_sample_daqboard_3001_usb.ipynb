{
 "cells": [
  {
   "cell_type": "code",
   "execution_count": 1,
   "metadata": {
    "collapsed": false,
    "scrolled": true
   },
   "outputs": [
    {
     "ename": "ImportError",
     "evalue": "No module named cofe_util",
     "output_type": "error",
     "traceback": [
      "\u001b[1;31m---------------------------------------------------------------------------\u001b[0m",
      "\u001b[1;31mImportError\u001b[0m                               Traceback (most recent call last)",
      "\u001b[1;32m<ipython-input-1-28d9a7c8c4b6>\u001b[0m in \u001b[0;36m<module>\u001b[1;34m()\u001b[0m\n\u001b[0;32m      8\u001b[0m \u001b[0msys\u001b[0m\u001b[1;33m.\u001b[0m\u001b[0mpath\u001b[0m\u001b[1;33m.\u001b[0m\u001b[0mappend\u001b[0m\u001b[1;33m(\u001b[0m\u001b[1;34m'C:\\cofe_analysis\\\\utils_zonca'\u001b[0m\u001b[1;33m)\u001b[0m\u001b[1;33m\u001b[0m\u001b[0m\n\u001b[0;32m      9\u001b[0m \u001b[0msys\u001b[0m\u001b[1;33m.\u001b[0m\u001b[0mpath\u001b[0m\u001b[1;33m.\u001b[0m\u001b[0mappend\u001b[0m\u001b[1;33m(\u001b[0m\u001b[1;34m'C:\\\\cofe_analysis\\\\utils_zonca\\\\demod'\u001b[0m\u001b[1;33m)\u001b[0m\u001b[1;33m\u001b[0m\u001b[0m\n\u001b[1;32m---> 10\u001b[1;33m \u001b[1;32mimport\u001b[0m \u001b[0mcofe_util\u001b[0m \u001b[1;32mas\u001b[0m \u001b[0mcu\u001b[0m\u001b[1;33m\u001b[0m\u001b[0m\n\u001b[0m\u001b[0;32m     11\u001b[0m \u001b[0msys\u001b[0m\u001b[1;33m.\u001b[0m\u001b[0mpath\u001b[0m\u001b[1;33m.\u001b[0m\u001b[0mappend\u001b[0m\u001b[1;33m(\u001b[0m\u001b[1;34m'C:\\\\Anaconda3\\\\envs\\\\py27\\\\Scripts'\u001b[0m\u001b[1;33m)\u001b[0m\u001b[1;33m\u001b[0m\u001b[0m\n\u001b[0;32m     12\u001b[0m \u001b[1;32mimport\u001b[0m \u001b[0mh5py\u001b[0m\u001b[1;33m\u001b[0m\u001b[0m\n",
      "\u001b[1;31mImportError\u001b[0m: No module named cofe_util"
     ]
    }
   ],
   "source": [
    "from daq import daqDevice\n",
    "import daqh\n",
    "import numpy as np\n",
    "import time\n",
    "import sys\n",
    "import os\n",
    "sys.path.append('C:\\\\cofe_analysis\\\\utils_meinhold')\n",
    "sys.path.append('C:\\cofe_analysis\\\\utils_zonca')\n",
    "sys.path.append('C:\\\\cofe_analysis\\\\utils_zonca\\\\demod')\n",
    "import cofe_util as cu\n",
    "sys.path.append('C:\\\\Anaconda3\\\\envs\\\\py27\\\\Scripts')\n",
    "import h5py\n",
    "%pylab\n",
    "\n",
    "import cofe_util as cu\n",
    "\n",
    "from Tkinter import Tk\n",
    "from tkFileDialog import askopenfilename\n",
    "\n",
    "acqmode=daqh.DaamInfinitePost"
   ]
  },
  {
   "cell_type": "code",
   "execution_count": 62,
   "metadata": {
    "collapsed": true
   },
   "outputs": [],
   "source": [
    "def get_data(nchan=4,freq=10,nseconds=5,comment='None',alerts=[58,59,60,118,119,120,178,179,180,238,239,240,298,299,300]):\n",
    "    \"\"\"\n",
    "    function to simply aquire nchan a/d channels at rate freq\n",
    "    for nseconds seconds\n",
    "    \"\"\"\n",
    "    \n",
    "    #outdata=np.zeros([nchan,nscans],dtype=float)\n",
    "    dev=daqDevice('DaqBoard3001USB')\n",
    "    gains=[]\n",
    "    flags=[]\n",
    "    chans=[]\n",
    "    if nchan > 8:\n",
    "        uchan=nchan-8\n",
    "        for i in range(8):\n",
    "            gains.append(daqh.DgainX1)\n",
    "            flags.append(daqh.DafBipolar|daqh.DafDifferential)\n",
    "            chans.append(i)\n",
    "        for i in range(uchan):\n",
    "            gains.append(daqh.DgainX1)\n",
    "            flags.append(daqh.DafBipolar|daqh.DafDifferential)\n",
    "            chans.append(256+i)   #HERE is the famous fix where DaqX refs upper level dif channels!\n",
    "    elif nchan<9:      \n",
    "        for i in range(nchan):\n",
    "            gains.append(daqh.DgainX1)\n",
    "            flags.append(daqh.DafBipolar|daqh.DafDifferential)\n",
    "            chans.append(i)\n",
    "    acqmode = daqh.DaamNShot\n",
    "    dev.AdcSetAcq(acqmode, postTrigCount = nseconds*freq)\n",
    "    dev.AdcSetScan(chans,gains,flags)\n",
    "    dev.AdcSetFreq(freq)\n",
    "    #use the driver buffer here user buffer was very limited (the way I tried anyway) \n",
    "    transMask = daqh.DatmUpdateBlock|daqh.DatmCycleOn|daqh.DatmDriverBuf\n",
    "\n",
    "    buf=dev.AdcTransferSetBuffer(transMask, np.uint(nseconds*freq*nchan))\n",
    "    #bufMask is for transferring the buffer\n",
    "    bufMask = daqh.DabtmOldest | daqh.DabtmRetAvail\n",
    "\n",
    "    timestart = (time.time())\n",
    "    timenotify = timestart + 5\n",
    "\n",
    "    dev.SetTriggerEvent(daqh.DatsImmediate,None, 0, np.array(gains[0],dtype=int), np.array(flags[0],dtype=int), daqh.DaqTypeAnalogLocal, 0, 0, daqh.DaqStartEvent)\n",
    "    dev.SetTriggerEvent(daqh.DatsScanCount,None, 0, np.array(gains[0],dtype=int), np.array(flags[0],dtype=int), daqh.DaqTypeAnalogLocal, 0, 0, daqh.DaqStopEvent)\n",
    "    dev.AdcTransferStart()\n",
    "    dev.AdcArm()\n",
    "    \n",
    "    while True:\n",
    "        alertscopy=alerts[:]\n",
    "        timenotify = checkAlerts(timenotify, timestart, alerts,alertscopy)        \n",
    "        \n",
    "        stat = dev.AdcTransferGetStat()\n",
    "        active = stat['active']\n",
    "        if not (active & daqh.DaafAcqActive):\n",
    "            break\n",
    "    dev.AdcDisarm()\n",
    "    outdata,ret=dev.AdcTransferBufData(nseconds*freq, nchan,bufMask)\n",
    "    \n",
    "    outdata=np.array(outdata,dtype=float)\n",
    "    outdata=(outdata-2**15)*20./2**16\n",
    "    outdata=np.transpose(np.reshape(outdata,[nseconds*freq,nchan]))\n",
    "    print \"Finished collecting data\\n-\"\n",
    "    dev.Close()    \n",
    "    return outdata"
   ]
  },
  {
   "cell_type": "code",
   "execution_count": 63,
   "metadata": {
    "collapsed": false
   },
   "outputs": [],
   "source": [
    "def import_data(filename=None):\n",
    "    '''\n",
    "    function to read in previously stored data and put in format of freshly read data dictionary\n",
    "    '''\n",
    "    \n",
    "    if filename==None:\n",
    "        Tk().withdraw() # we don't want a full GUI, so keep the root window from appearing\n",
    "        filename = askopenfilename(initialdir='C:\\\\Interferometer_tests\\\\io_3001_usb_data')\n",
    "    hf=h5py.File(filename)\n",
    "    d={}\n",
    "    print(hf.keys())\n",
    "    for key in hf.keys():\n",
    "        d[key]=squeeze(array(hf[key]))\n",
    "    hf.close()\n",
    "    return d"
   ]
  },
  {
   "cell_type": "code",
   "execution_count": 4,
   "metadata": {
    "collapsed": true
   },
   "outputs": [],
   "source": [
    "def checkAlerts(timeupdate,timestart, alerts, alertscopy, updateincrement=5):\n",
    "    timecheck = (time.time())\n",
    "    if timecheck > timeupdate:\n",
    "        print \"Time: \" + str(int(timecheck - timestart))\n",
    "        timeupdate += updateincrement\n",
    "    for alert in alerts:\n",
    "        if (timecheck - timestart)%60 > alert:\n",
    "            print \"---- \" + str(int(timecheck - timestart)) + \" SECONDS ----\"\n",
    "            alerts.remove(alert)\n",
    "    if 2<(timecheck -timestart%60)<3:\n",
    "        alerts = alertscopy[:]\n",
    "        \n",
    "        \n",
    "    return timeupdate"
   ]
  },
  {
   "cell_type": "code",
   "execution_count": 5,
   "metadata": {
    "collapsed": true
   },
   "outputs": [],
   "source": [
    "def get_date_filename(labelstring=''):\n",
    "    #version for testing adds an optional string to identify tests\n",
    "    now=time.localtime()[0:6]\n",
    "    #dirfmt = \"c:\\\\cofe\\\\ground_data\\\\testdata\\\\%4d_%02d_%02d\"\n",
    "    dirfmt = \"C:\\\\Interferometer_tests\\\\io_3001_usb_data\\\\%4d_%02d_%02d\"\n",
    "    dirname = dirfmt % now[0:3]\n",
    "    filefmt = \"%02d_%02d_%02d.h5\"\n",
    "    filename= labelstring+filefmt % now[3:6]\n",
    "    ffilename=os.path.join(dirname,filename)\n",
    "    if not os.path.exists(dirname):\n",
    "        os.mkdir(dirname)\n",
    "    return(ffilename)"
   ]
  },
  {
   "cell_type": "code",
   "execution_count": 92,
   "metadata": {
    "collapsed": true
   },
   "outputs": [],
   "source": [
    "def zplot(d_dict_list,minfreq=1):\n",
    "    \"\"\"\n",
    "    calculate asd's and overplot all from list of data dictionaries, assumed to have meaningful\n",
    "    keynames for legend\n",
    "    \"\"\"\n",
    "    figure()\n",
    "    for d_dict in d_dict_list:\n",
    "        z=cu.nps(d_dict['data'],d_dict['samprate'],minfreq=minfreq)\n",
    "        plot(z[0],np.sqrt(z[1]),label=d_dict['label'])\n",
    "    xlabel('Frequency, [Hz]')\n",
    "    ylabel('ASD, [$nV \\sqrt{sec}$]')\n",
    "    xscale('log')\n",
    "    yscale('log')\n",
    "    legend()\n",
    "    title('Comparison spectra')\n",
    "    legend()"
   ]
  },
  {
   "cell_type": "code",
   "execution_count": 96,
   "metadata": {
    "collapsed": false
   },
   "outputs": [],
   "source": [
    "#use this function- box is set up with terminations on alternate channels to increase isolation\n",
    "def get_test(samprate=10000,nseconds=10,labelstring='test',minfreq=1):\n",
    "    s=[0]  #active channels, intervening ones are terminated to increase isolation\n",
    "    d=get_data(nchan=1,freq=samprate,nseconds=nseconds)\n",
    "    #z1=cu.nps(d[0,:],samprate,minfreq)\n",
    "    \n",
    "    #figure()\n",
    "    #plot(z1[0],np.sqrt(z1[1]),label='z1')\n",
    "    #ylim([0,.05])\n",
    "    #xlabel('Frequency, [Hz]')\n",
    "    #label('ASD, [$V \\sqrt{sec}$]')\n",
    "    #title('Test')\n",
    "    #legend()\n",
    "    #yscale('log')\n",
    "    #xscale('log')\n",
    "    outdata=squeeze(d[s,:])\n",
    "    fname=get_date_filename(labelstring)\n",
    "    with h5py.File(fname, mode='w') as hdf_file:\n",
    "        hdf_file.create_dataset('data', data=outdata)\n",
    "        hdf_file.create_dataset('samprate', data=[samprate])\n",
    "        hdf_file.create_dataset('label', data=[labelstring])\n",
    "        hdf_file.close()\n",
    "    return {'data':outdata,'samprate':samprate,'label':labelstring}"
   ]
  },
  {
   "cell_type": "code",
   "execution_count": 97,
   "metadata": {
    "collapsed": false,
    "scrolled": true
   },
   "outputs": [
    {
     "name": "stdout",
     "output_type": "stream",
     "text": [
      "Time: 5\n",
      "Finished collecting data\n",
      "-\n"
     ]
    }
   ],
   "source": [
    "t=get_test(nseconds=5,samprate=100000,labelstring='testing')"
   ]
  },
  {
   "cell_type": "code",
   "execution_count": 75,
   "metadata": {
    "collapsed": true
   },
   "outputs": [],
   "source": [
    "jnk.close()"
   ]
  },
  {
   "cell_type": "code",
   "execution_count": 76,
   "metadata": {
    "collapsed": false
   },
   "outputs": [
    {
     "data": {
      "text/plain": [
       "<HDF5 dataset \"data\": shape (10,), type \"<i4\">"
      ]
     },
     "execution_count": 76,
     "metadata": {},
     "output_type": "execute_result"
    }
   ],
   "source": [
    "jnk=h5py.File('jnk.hdf',mode='w')\n",
    "jnk.create_dataset('data',data=a)"
   ]
  },
  {
   "cell_type": "code",
   "execution_count": 83,
   "metadata": {
    "collapsed": false
   },
   "outputs": [
    {
     "data": {
      "text/plain": [
       "<HDF5 dataset \"label\": shape (), type \"|O\">"
      ]
     },
     "execution_count": 83,
     "metadata": {},
     "output_type": "execute_result"
    }
   ],
   "source": [
    "jnk.create_dataset('label',data='testlabel')"
   ]
  },
  {
   "cell_type": "code",
   "execution_count": 84,
   "metadata": {
    "collapsed": true
   },
   "outputs": [],
   "source": [
    "jnk.close()"
   ]
  },
  {
   "cell_type": "code",
   "execution_count": null,
   "metadata": {
    "collapsed": true
   },
   "outputs": [],
   "source": []
  },
  {
   "cell_type": "code",
   "execution_count": 46,
   "metadata": {
    "collapsed": true
   },
   "outputs": [],
   "source": [
    "for key in hf.keys():\n",
    "    d[key]=squeeze(array(hf[key]))\n",
    "hf.close()"
   ]
  },
  {
   "cell_type": "code",
   "execution_count": 98,
   "metadata": {
    "collapsed": false
   },
   "outputs": [
    {
     "name": "stdout",
     "output_type": "stream",
     "text": [
      "[u'data', u'label', u'samprate']\n"
     ]
    }
   ],
   "source": [
    "tf=import_data()"
   ]
  },
  {
   "cell_type": "code",
   "execution_count": 99,
   "metadata": {
    "collapsed": false
   },
   "outputs": [
    {
     "data": {
      "text/plain": [
       "{u'data': array([ 0.01220703,  0.01068115,  0.01159668, ...,  0.01159668,\n",
       "         0.01220703,  0.01251221]), u'label': array('testing', \n",
       "       dtype='|S7'), u'samprate': array(100000)}"
      ]
     },
     "execution_count": 99,
     "metadata": {},
     "output_type": "execute_result"
    }
   ],
   "source": [
    "tf"
   ]
  },
  {
   "cell_type": "code",
   "execution_count": 100,
   "metadata": {
    "collapsed": false
   },
   "outputs": [
    {
     "data": {
      "text/plain": [
       "{'data': array([ 0.01220703,  0.01068115,  0.01159668, ...,  0.01159668,\n",
       "         0.01220703,  0.01251221]), 'label': 'testing', 'samprate': 100000}"
      ]
     },
     "execution_count": 100,
     "metadata": {},
     "output_type": "execute_result"
    }
   ],
   "source": [
    "t"
   ]
  },
  {
   "cell_type": "code",
   "execution_count": 19,
   "metadata": {
    "collapsed": false,
    "scrolled": false
   },
   "outputs": [],
   "source": [
    "zplot([t1,t2,t3,t4,t5],minfreq=1)"
   ]
  },
  {
   "cell_type": "code",
   "execution_count": 48,
   "metadata": {
    "collapsed": true
   },
   "outputs": [],
   "source": [
    "t5=0\n",
    "t6=0\n",
    "t4=0\n",
    "t3=0\n",
    "t2=0\n",
    "t1=0"
   ]
  },
  {
   "cell_type": "code",
   "execution_count": 23,
   "metadata": {
    "collapsed": false
   },
   "outputs": [
    {
     "name": "stdout",
     "output_type": "stream",
     "text": [
      "[u'laser on,drop Tset']\n"
     ]
    }
   ],
   "source": [
    "td1=import_data()"
   ]
  },
  {
   "cell_type": "code",
   "execution_count": 105,
   "metadata": {
    "collapsed": false
   },
   "outputs": [],
   "source": [
    "zplot([tf,t])"
   ]
  },
  {
   "cell_type": "code",
   "execution_count": 21,
   "metadata": {
    "collapsed": false
   },
   "outputs": [
    {
     "data": {
      "text/plain": [
       "[u'laser on,drop Tset']"
      ]
     },
     "execution_count": 21,
     "metadata": {},
     "output_type": "execute_result"
    }
   ],
   "source": [
    "td1.keys()"
   ]
  },
  {
   "cell_type": "code",
   "execution_count": 53,
   "metadata": {
    "collapsed": true
   },
   "outputs": [],
   "source": [
    "hf=h5py.File('tst.h5')"
   ]
  },
  {
   "cell_type": "code",
   "execution_count": 54,
   "metadata": {
    "collapsed": false
   },
   "outputs": [
    {
     "data": {
      "text/plain": [
       "<HDF5 dataset \"a\": shape (0, 1, 2, 3, 4, 5, 6, 7, 8, 9), type \"<f4\">"
      ]
     },
     "execution_count": 54,
     "metadata": {},
     "output_type": "execute_result"
    }
   ],
   "source": [
    "hf.create_dataset('a',a)"
   ]
  },
  {
   "cell_type": "code",
   "execution_count": null,
   "metadata": {
    "collapsed": true
   },
   "outputs": [],
   "source": []
  },
  {
   "cell_type": "code",
   "execution_count": 57,
   "metadata": {
    "collapsed": false
   },
   "outputs": [
    {
     "ename": "TypeError",
     "evalue": "Can't convert element 0 (tstlabel) to hsize_t",
     "output_type": "error",
     "traceback": [
      "\u001b[0;31m---------------------------------------------------------------------------\u001b[0m",
      "\u001b[0;31mTypeError\u001b[0m                                 Traceback (most recent call last)",
      "\u001b[0;32m<ipython-input-57-ec933583b135>\u001b[0m in \u001b[0;36m<module>\u001b[0;34m()\u001b[0m\n\u001b[0;32m----> 1\u001b[0;31m \u001b[0mhf\u001b[0m\u001b[1;33m.\u001b[0m\u001b[0mcreate_dataset\u001b[0m\u001b[1;33m(\u001b[0m\u001b[1;34m'label'\u001b[0m\u001b[1;33m,\u001b[0m\u001b[1;33m[\u001b[0m\u001b[1;34m'tstlabel'\u001b[0m\u001b[1;33m]\u001b[0m\u001b[1;33m)\u001b[0m\u001b[1;33m\u001b[0m\u001b[0m\n\u001b[0m",
      "\u001b[0;32mC:\\Program Files\\Anaconda2\\lib\\site-packages\\h5py\\_hl\\group.pyc\u001b[0m in \u001b[0;36mcreate_dataset\u001b[0;34m(self, name, shape, dtype, data, **kwds)\u001b[0m\n\u001b[1;32m    103\u001b[0m         \"\"\"\n\u001b[1;32m    104\u001b[0m         \u001b[1;32mwith\u001b[0m \u001b[0mphil\u001b[0m\u001b[1;33m:\u001b[0m\u001b[1;33m\u001b[0m\u001b[0m\n\u001b[0;32m--> 105\u001b[0;31m             \u001b[0mdsid\u001b[0m \u001b[1;33m=\u001b[0m \u001b[0mdataset\u001b[0m\u001b[1;33m.\u001b[0m\u001b[0mmake_new_dset\u001b[0m\u001b[1;33m(\u001b[0m\u001b[0mself\u001b[0m\u001b[1;33m,\u001b[0m \u001b[0mshape\u001b[0m\u001b[1;33m,\u001b[0m \u001b[0mdtype\u001b[0m\u001b[1;33m,\u001b[0m \u001b[0mdata\u001b[0m\u001b[1;33m,\u001b[0m \u001b[1;33m**\u001b[0m\u001b[0mkwds\u001b[0m\u001b[1;33m)\u001b[0m\u001b[1;33m\u001b[0m\u001b[0m\n\u001b[0m\u001b[1;32m    106\u001b[0m             \u001b[0mdset\u001b[0m \u001b[1;33m=\u001b[0m \u001b[0mdataset\u001b[0m\u001b[1;33m.\u001b[0m\u001b[0mDataset\u001b[0m\u001b[1;33m(\u001b[0m\u001b[0mdsid\u001b[0m\u001b[1;33m)\u001b[0m\u001b[1;33m\u001b[0m\u001b[0m\n\u001b[1;32m    107\u001b[0m             \u001b[1;32mif\u001b[0m \u001b[0mname\u001b[0m \u001b[1;32mis\u001b[0m \u001b[1;32mnot\u001b[0m \u001b[0mNone\u001b[0m\u001b[1;33m:\u001b[0m\u001b[1;33m\u001b[0m\u001b[0m\n",
      "\u001b[0;32mC:\\Program Files\\Anaconda2\\lib\\site-packages\\h5py\\_hl\\dataset.pyc\u001b[0m in \u001b[0;36mmake_new_dset\u001b[0;34m(parent, shape, dtype, data, chunks, compression, shuffle, fletcher32, maxshape, compression_opts, fillvalue, scaleoffset, track_times)\u001b[0m\n\u001b[1;32m    124\u001b[0m     \u001b[1;32mif\u001b[0m \u001b[0mmaxshape\u001b[0m \u001b[1;32mis\u001b[0m \u001b[1;32mnot\u001b[0m \u001b[0mNone\u001b[0m\u001b[1;33m:\u001b[0m\u001b[1;33m\u001b[0m\u001b[0m\n\u001b[1;32m    125\u001b[0m         \u001b[0mmaxshape\u001b[0m \u001b[1;33m=\u001b[0m \u001b[0mtuple\u001b[0m\u001b[1;33m(\u001b[0m\u001b[0mm\u001b[0m \u001b[1;32mif\u001b[0m \u001b[0mm\u001b[0m \u001b[1;32mis\u001b[0m \u001b[1;32mnot\u001b[0m \u001b[0mNone\u001b[0m \u001b[1;32melse\u001b[0m \u001b[0mh5s\u001b[0m\u001b[1;33m.\u001b[0m\u001b[0mUNLIMITED\u001b[0m \u001b[1;32mfor\u001b[0m \u001b[0mm\u001b[0m \u001b[1;32min\u001b[0m \u001b[0mmaxshape\u001b[0m\u001b[1;33m)\u001b[0m\u001b[1;33m\u001b[0m\u001b[0m\n\u001b[0;32m--> 126\u001b[0;31m     \u001b[0msid\u001b[0m \u001b[1;33m=\u001b[0m \u001b[0mh5s\u001b[0m\u001b[1;33m.\u001b[0m\u001b[0mcreate_simple\u001b[0m\u001b[1;33m(\u001b[0m\u001b[0mshape\u001b[0m\u001b[1;33m,\u001b[0m \u001b[0mmaxshape\u001b[0m\u001b[1;33m)\u001b[0m\u001b[1;33m\u001b[0m\u001b[0m\n\u001b[0m\u001b[1;32m    127\u001b[0m \u001b[1;33m\u001b[0m\u001b[0m\n\u001b[1;32m    128\u001b[0m \u001b[1;33m\u001b[0m\u001b[0m\n",
      "\u001b[0;32mh5py\\_objects.pyx\u001b[0m in \u001b[0;36mh5py._objects.with_phil.wrapper (C:\\Minonda\\conda-bld\\h5py_1474483017911\\work\\h5py\\_objects.c:2705)\u001b[0;34m()\u001b[0m\n",
      "\u001b[0;32mh5py\\_objects.pyx\u001b[0m in \u001b[0;36mh5py._objects.with_phil.wrapper (C:\\Minonda\\conda-bld\\h5py_1474483017911\\work\\h5py\\_objects.c:2663)\u001b[0;34m()\u001b[0m\n",
      "\u001b[0;32mh5py\\h5s.pyx\u001b[0m in \u001b[0;36mh5py.h5s.create_simple (C:\\Minonda\\conda-bld\\h5py_1474483017911\\work\\h5py\\h5s.c:1507)\u001b[0;34m()\u001b[0m\n",
      "\u001b[0;32mh5py\\utils.pyx\u001b[0m in \u001b[0;36mh5py.utils.convert_tuple (C:\\Minonda\\conda-bld\\h5py_1474483017911\\work\\h5py\\utils.c:1863)\u001b[0;34m()\u001b[0m\n",
      "\u001b[0;31mTypeError\u001b[0m: Can't convert element 0 (tstlabel) to hsize_t"
     ]
    }
   ],
   "source": [
    "hf.create_dataset('label',['tstlabel'])"
   ]
  },
  {
   "cell_type": "code",
   "execution_count": null,
   "metadata": {
    "collapsed": true
   },
   "outputs": [],
   "source": []
  }
 ],
 "metadata": {
  "anaconda-cloud": {},
  "kernelspec": {
   "display_name": "Python 2",
   "language": "python",
   "name": "python2"
  },
  "language_info": {
   "codemirror_mode": {
    "name": "ipython",
    "version": 2
   },
   "file_extension": ".py",
   "mimetype": "text/x-python",
   "name": "python",
   "nbconvert_exporter": "python",
   "pygments_lexer": "ipython2",
   "version": "2.7.11"
  }
 },
 "nbformat": 4,
 "nbformat_minor": 0
}
