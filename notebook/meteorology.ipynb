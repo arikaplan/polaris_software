{
 "cells": [
  {
   "cell_type": "code",
   "execution_count": 1,
   "metadata": {
    "collapsed": true
   },
   "outputs": [],
   "source": [
    "import numpy as np\n",
    "from matplotlib import pyplot as plt\n",
    "%matplotlib inline\n",
    "import numpy.ma as ma\n",
    "import matplotlib.mlab as mlab\n",
    "from scipy.stats import norm\n",
    "from scipy.optimize import curve_fit\n",
    "from collections import defaultdict"
   ]
  },
  {
   "cell_type": "code",
   "execution_count": 2,
   "metadata": {
    "collapsed": false
   },
   "outputs": [
    {
     "name": "stdout",
     "output_type": "stream",
     "text": [
      "Using matplotlib backend: Qt4Agg\n",
      "Populating the interactive namespace from numpy and matplotlib\n"
     ]
    },
    {
     "name": "stderr",
     "output_type": "stream",
     "text": [
      "WARNING: pylab import has clobbered these variables: ['norm']\n",
      "`%matplotlib` prevents importing * from pylab and numpy\n"
     ]
    }
   ],
   "source": [
    "%pylab\n",
    "%matplotlib qt"
   ]
  },
  {
   "cell_type": "code",
   "execution_count": 3,
   "metadata": {
    "collapsed": true
   },
   "outputs": [],
   "source": [
    "knots = True\n",
    "\n",
    "if knots == True:\n",
    "    scale = 1.94384\n",
    "    units = 'knots'\n",
    "    sunits = 'knots'\n",
    "if knots == False:\n",
    "    scale = 1.\n",
    "    units = 'm/s'\n",
    "    sunits = 'mps'"
   ]
  },
  {
   "cell_type": "code",
   "execution_count": 16,
   "metadata": {
    "collapsed": true
   },
   "outputs": [],
   "source": [
    "wind_speed = dict()\n",
    "temperature = dict()\n",
    "wind_speedSP = dict()\n",
    "wind_speedH = dict()\n",
    "wind_dir = dict()\n",
    "months = dict()\n",
    "monthsSP = dict()\n",
    "monthsH = dict()\n",
    "day = dict()\n",
    "daySP = dict()\n",
    "dayH = dict()\n",
    "hour = dict()\n",
    "hourSP = dict()\n",
    "hourH = dict()\n",
    "precipitation = dict()\n",
    "\n",
    "\n",
    "#YEAR = [2008, 2009, 2010, 2011, 2012, 2013, 2014, 2015, 2016, 2017, 2018]\n",
    "YEAR = [2012, 2013, 2014, 2015, 2016, 2017, 2018]\n",
    "#2008 starts on a different month, need to make sure plot reflects that\n",
    "\n",
    "month = ['January', 'Feburary', 'March', 'April', 'May', 'June', 'July', 'August', 'September', 'October', 'November', 'December']\n",
    "numDays = [31, 28, 31, 30, 31, 30, 31, 31, 30, 31, 30, 31]\n",
    "#method 1\n",
    "#time = dict()\n",
    "for y in YEAR:\n",
    "    \n",
    "    file1 = '../telescope_control/data_aquisition/weather_data/meteorological/%s/met_sum_insitu_1_obop_hour_%d.txt' % (y, y)\n",
    "    #fileSP = '../meteorology/data/SP/%d/hourly/met_spo_insitu_1_obop_hour_%d.txt' % (y, y)\n",
    "    #fileH = '../meteorology/data/Hawaii/%d/hourly/met_mlo_insitu_1_obop_hour_%d.txt' % (y, y)\n",
    "    \n",
    "    results = []\n",
    "    with open(file1) as inputfile:\n",
    "        for line in inputfile:\n",
    "            results.append(line.strip().split())\n",
    "    '''\n",
    "    resultsSP = []\n",
    "    with open(fileSP) as inputfile:\n",
    "        for line in inputfile:\n",
    "            resultsSP.append(line.strip().split())\n",
    "    resultsH = []\n",
    "    with open(fileH) as inputfile:\n",
    "        for line in inputfile:\n",
    "            resultsH.append(line.strip().split())\n",
    "    '''\n",
    "    direction = []\n",
    "    speed = []\n",
    "    temp = []\n",
    "    speedSP = []\n",
    "    speedH = []\n",
    "    m = []\n",
    "    mSP = []\n",
    "    mH = []\n",
    "    d = []\n",
    "    dSP = []\n",
    "    dH = []\n",
    "    h = []\n",
    "    hSP = []\n",
    "    hH = []\n",
    "    prec = []\n",
    "    #times = []\n",
    "\n",
    "    for i in range(len(results)):\n",
    "        direction.append(float(results[i][5]))\n",
    "        speed.append(float(results[i][6]))\n",
    "        m.append(float(results[i][2]))\n",
    "        d.append(float(results[i][3]))\n",
    "        h.append(float(results[i][4]))\n",
    "        temp.append(float(results[i][9]))\n",
    "        prec.append(float(results[i][13]))\n",
    "    '''    \n",
    "    for i in range(len(resultsSP)):\n",
    "        speedSP.append(float(resultsSP[i][6]))\n",
    "        mSP.append(float(resultsSP[i][2]))\n",
    "        dSP.append(float(resultsSP[i][3]))\n",
    "        hSP.append(float(resultsSP[i][4]))\n",
    "    for i in range(len(resultsH)):\n",
    "        speedH.append(float(resultsH[i][6]))\n",
    "        mH.append(float(resultsH[i][2]))\n",
    "        dH.append(float(resultsH[i][3]))\n",
    "        hH.append(float(resultsH[i][4]))\n",
    "        \n",
    "    '''\n",
    "    #months['hourly_%d' % y] = np.asarray(m).copy()\n",
    "    #only take summer months\n",
    "    #iseason = np.where(abs(np.asarray(m) - 7.) <= 1.)[0]\n",
    "    #iseason1 = np.where(np.asarray(m) == 12.)[0]\n",
    "    iseason = np.where(np.asarray(m) <= 2.)[0]\n",
    "    #iseason = np.asarray((iseason1).tolist() + (iseason2).tolist())\n",
    "    \n",
    "    wind_dir['hourly_%d' % y] = np.asarray(direction)[iseason]\n",
    "    wind_speed['hourly_%d' % y] = np.asarray(speed)[iseason]\n",
    "    #wind_speedSP['hourly_%d' % y] = np.asarray(speedSP)\n",
    "    #wind_speedH['hourly_%d' % y] = np.asarray(speedH)\n",
    "    temperature['hourly_%d' % y] = np.asarray(temp)[iseason]\n",
    "    precipitation['hourly_%d' % y] = np.asarray(prec)[iseason]\n",
    "    months['hourly_%d' % y] = np.asarray(m)[:]\n",
    "    #monthsSP['hourly_%d' % y] = np.asarray(mSP)\n",
    "    #monthsH['hourly_%d' % y] = np.asarray(mH)\n",
    "    day['hourly_%d' % y] = np.asarray(d)[iseason]\n",
    "    #daySP['hourly_%d' % y] = np.asarray(dSP)\n",
    "    #dayH['hourly_%d' % y] = np.asarray(dH)\n",
    "    hour['hourly_%d' % y] = np.asarray(h)[iseason]\n",
    "    #hourSP['hourly_%d' % y] = np.asarray(hSP)\n",
    "    #hourH['hourly_%d' % y] = np.asarray(hH)\n",
    "\n",
    "    #time['hourly_%d' % y] = np.arange(1., 13., 12./len(wind_speed['hourly_%d' % y]))\n",
    "    \n",
    "\n",
    "    "
   ]
  },
  {
   "cell_type": "code",
   "execution_count": 5,
   "metadata": {
    "collapsed": true
   },
   "outputs": [],
   "source": [
    "wind_speedUM = dict()\n",
    "#wind_speedSPUM = dict()\n",
    "#wind_speedHUM = dict()\n",
    "for y in YEAR:\n",
    "    wind_speedUM['hourly_%d' % y] = wind_speed['hourly_%d' % y]\n",
    "    #wind_speedSPUM['hourly_%d' % y] = wind_speedSP['hourly_%d' % y]\n",
    "    #wind_speedHUM['hourly_%d' % y] = wind_speedH['hourly_%d' % y]"
   ]
  },
  {
   "cell_type": "code",
   "execution_count": 17,
   "metadata": {
    "collapsed": true
   },
   "outputs": [],
   "source": [
    "for y in YEAR:\n",
    "    wind_speed['hourly_%d' % y] = ma.masked_equal(wind_speed['hourly_%d' % y], -99.9)\n",
    "    months['hourly_%d' % 2018] = ma.masked_equal(wind_speed['hourly_%d' % y], -99.9)\n",
    "    #wind_speedSP['hourly_%d' % y] = ma.masked_equal(wind_speedSP['hourly_%d' % y], -999.9)\n",
    "    #wind_speedSP['hourly_%d' % y] = ma.masked_equal(wind_speedSP['hourly_%d' % y], -99.9)\n",
    "    #wind_speedH['hourly_%d' % y] = ma.masked_equal(wind_speedH['hourly_%d' % y], -999.9)\n",
    "    #wind_speedH['hourly_%d' % y] = ma.masked_equal(wind_speedH['hourly_%d' % y], -99.9)\n",
    "    wind_dir['hourly_%d' % y] = ma.masked_equal(wind_dir['hourly_%d' % y], -999.)\n",
    "    temperature['hourly_%d' % y] = ma.masked_equal(temperature['hourly_%d' % y], -999.9)\n",
    "    precipitation['hourly_%d' % y] = ma.masked_equal(precipitation['hourly_%d' % y], -999.9)"
   ]
  },
  {
   "cell_type": "code",
   "execution_count": 18,
   "metadata": {
    "collapsed": true
   },
   "outputs": [],
   "source": [
    "for y in YEAR:\n",
    "    for i in range(len(temperature['hourly_%d' % y])):\n",
    "        temperature['hourly_%d' % y][i] = temperature['hourly_%d' % y][i]*9./5. + 32."
   ]
  },
  {
   "cell_type": "code",
   "execution_count": null,
   "metadata": {
    "collapsed": true
   },
   "outputs": [],
   "source": []
  },
  {
   "cell_type": "code",
   "execution_count": 19,
   "metadata": {
    "collapsed": true
   },
   "outputs": [],
   "source": [
    "ws_good = dict()\n",
    "prec_good = dict()\n",
    "#ws_goodSP = dict()\n",
    "#ws_goodH = dict()\n",
    "\n",
    "#create arrays with missing elements deleted\n",
    "for y in YEAR:\n",
    "    \n",
    "    w = wind_speed['hourly_%d' % y]\n",
    "    p = precipitation['hourly_%d' % y]\n",
    "    #wSP = wind_speedSP['hourly_%d' % y]\n",
    "    #wH = wind_speedH['hourly_%d' % y]\n",
    "\n",
    "    igood = np.where(w >= 0.)[0]\n",
    "    igoodp = np.where(p >= 0.)[0]\n",
    "    #igoodSP = np.where(wSP >= 0.)[0]\n",
    "    #igoodH = np.where(wH >= 0.)[0]\n",
    "\n",
    "    ws_good['hourly_%d' % y] = w[igood]\n",
    "    prec_good['hourly_%d' % y] = p[igoodp]\n",
    "    #ws_goodSP['hourly_%d' % y] = wSP[igoodSP]\n",
    "    #ws_goodH['hourly_%d' % y] = wH[igoodH]\n",
    "    "
   ]
  },
  {
   "cell_type": "code",
   "execution_count": 21,
   "metadata": {
    "collapsed": false
   },
   "outputs": [
    {
     "name": "stderr",
     "output_type": "stream",
     "text": [
      "/home/arikaplan/anaconda3/lib/python3.5/site-packages/matplotlib/font_manager.py:1288: UserWarning: findfont: Font family ['normal'] not found. Falling back to Bitstream Vera Sans\n",
      "  (prop.get_family(), self.defaultFamily[fontext]))\n"
     ]
    }
   ],
   "source": [
    "#create cumulative distribution:\n",
    "\n",
    "base = defaultdict(dict)\n",
    "cumu = defaultdict(dict)\n",
    "cumu_I = defaultdict(dict)\n",
    "\n",
    "bins = 50\n",
    "scale = 1#2.23694\n",
    "figure()\n",
    "for y in YEAR:\n",
    "    \n",
    "    ws = ws_good['hourly_%d' % y]\n",
    "    values, base[y] = np.histogram(ws, bins = bins, density=True)\n",
    "    cumulative = np.cumsum(values)\n",
    "    cumu[y] = cumulative/cumulative.max()\n",
    "    cumu_I[y] = (1. - cumu[y])\n",
    "    \n",
    "    if y == 2018:\n",
    "        plot(base[y][:-1]*scale, (cumu_I[y])*100., 'k-', linewidth = 3, label ='%d' % y)\n",
    "    else:    \n",
    "        plot(base[y][:-1]*scale, (cumu_I[y])*100., '--', linewidth = 2, label ='%d' % y)\n",
    "    \n",
    "\n",
    "plt.title('January-February: Prob(Hourly Average Wind Speed $>$ x)')\n",
    "plt.xlabel('Wind Speed (m/s)')\n",
    "plt.ylabel('Cumulative Distribution (%)')\n",
    "font = {'family' : 'normal',\n",
    "        'weight' : 'normal',\n",
    "        'size'   : 16}\n",
    "\n",
    "matplotlib.rc('font', **font)\n",
    "#plt.legend([c_15, c_14, c_13, c_12, c_11, c_10, c_09], ['2015', '2014', '2013', '2012', '2011', '2010', '2009'], loc = 'lower right')\n",
    "legend()\n",
    "#plt.xlim([0,ws.max()])\n",
    "plt.ylim([0, 105])\n",
    "#plt.savefig('../meteorology/plots/year_to_year_comparisons/wind_speed_hourly_average_1-cumulative_dist.png')\n",
    "plt.show()"
   ]
  },
  {
   "cell_type": "code",
   "execution_count": 89,
   "metadata": {
    "collapsed": false
   },
   "outputs": [
    {
     "data": {
      "text/plain": [
       "[<matplotlib.lines.Line2D at 0x1aed7240>]"
      ]
     },
     "execution_count": 89,
     "metadata": {},
     "output_type": "execute_result"
    }
   ],
   "source": [
    "figure()\n",
    "plot(prec_good['hourly_%d' % 2017])"
   ]
  },
  {
   "cell_type": "code",
   "execution_count": 88,
   "metadata": {
    "collapsed": true
   },
   "outputs": [],
   "source": [
    "#create cumulative distribution:\n",
    "\n",
    "base = defaultdict(dict)\n",
    "cumu = defaultdict(dict)\n",
    "cumu_I = defaultdict(dict)\n",
    "\n",
    "bins = 50\n",
    "scale = 1#2.23694\n",
    "\n",
    "for y in YEAR:\n",
    "    \n",
    "    ws = prec_good['hourly_%d' % y]\n",
    "    values, base[y] = np.histogram(ws, bins = bins, density=True)\n",
    "    cumulative = np.cumsum(values)\n",
    "    cumu[y] = cumulative/cumulative.max()\n",
    "    cumu_I[y] = (1. - cumu[y])\n",
    "    \n",
    "    if y == 2018:\n",
    "        plot(base[y][:-1]*scale, (cumu_I[y])*100., 'k-', linewidth = 2, label ='%d' % y)\n",
    "    else:    \n",
    "        plot(base[y][:-1]*scale, (cumu_I[y])*100., '--', linewidth = 2, label ='%d' % y)\n",
    "    \n",
    "\n",
    "plt.title('June-August: Prob(Precipitation per Hour $>$ x)')\n",
    "plt.xlabel('Precipitation (mm/hour)')\n",
    "plt.ylabel('Cumulative Distribution (%)')\n",
    "#plt.legend([c_15, c_14, c_13, c_12, c_11, c_10, c_09], ['2015', '2014', '2013', '2012', '2011', '2010', '2009'], loc = 'lower right')\n",
    "legend()\n",
    "#plt.xlim([0,ws.max()])\n",
    "plt.ylim([0, 105])\n",
    "#plt.savefig('../meteorology/plots/year_to_year_comparisons/wind_speed_hourly_average_1-cumulative_dist.png')\n",
    "plt.show()"
   ]
  },
  {
   "cell_type": "code",
   "execution_count": null,
   "metadata": {
    "collapsed": true
   },
   "outputs": [],
   "source": []
  },
  {
   "cell_type": "code",
   "execution_count": 99,
   "metadata": {
    "collapsed": false
   },
   "outputs": [
    {
     "name": "stdout",
     "output_type": "stream",
     "text": [
      "[2008, 2009, 2010, 2011, 2012, 2013, 2014, 2015, 2016, 2017, 2018]\n"
     ]
    }
   ],
   "source": [
    "print YEAR"
   ]
  },
  {
   "cell_type": "code",
   "execution_count": 100,
   "metadata": {
    "collapsed": false
   },
   "outputs": [
    {
     "ename": "ValueError",
     "evalue": "x and y must have same first dimension, but have shapes (4416L,) and (2208L,)",
     "output_type": "error",
     "traceback": [
      "\u001b[1;31m---------------------------------------------------------------------------\u001b[0m",
      "\u001b[1;31mValueError\u001b[0m                                Traceback (most recent call last)",
      "\u001b[1;32m<ipython-input-100-f965df8f0dc2>\u001b[0m in \u001b[0;36m<module>\u001b[1;34m()\u001b[0m\n\u001b[0;32m      2\u001b[0m \u001b[1;32mfor\u001b[0m \u001b[0my\u001b[0m \u001b[1;32min\u001b[0m \u001b[1;33m[\u001b[0m\u001b[1;36m2009\u001b[0m\u001b[1;33m]\u001b[0m\u001b[1;33m:\u001b[0m\u001b[1;33m\u001b[0m\u001b[0m\n\u001b[0;32m      3\u001b[0m     \u001b[0mplt\u001b[0m\u001b[1;33m.\u001b[0m\u001b[0mfigure\u001b[0m\u001b[1;33m(\u001b[0m\u001b[0mfigsize\u001b[0m\u001b[1;33m=\u001b[0m\u001b[1;33m(\u001b[0m\u001b[1;36m10\u001b[0m\u001b[1;33m,\u001b[0m\u001b[1;36m5\u001b[0m\u001b[1;33m)\u001b[0m\u001b[1;33m)\u001b[0m\u001b[1;33m\u001b[0m\u001b[0m\n\u001b[1;32m----> 4\u001b[1;33m     \u001b[0mplt\u001b[0m\u001b[1;33m.\u001b[0m\u001b[0mplot\u001b[0m\u001b[1;33m(\u001b[0m\u001b[0mpermonth\u001b[0m\u001b[1;33m[\u001b[0m\u001b[1;34m'hourly_%d'\u001b[0m \u001b[1;33m%\u001b[0m \u001b[0my\u001b[0m\u001b[1;33m]\u001b[0m\u001b[1;33m,\u001b[0m \u001b[0mwind_speed\u001b[0m\u001b[1;33m[\u001b[0m\u001b[1;34m'hourly_%d'\u001b[0m \u001b[1;33m%\u001b[0m \u001b[0my\u001b[0m\u001b[1;33m]\u001b[0m\u001b[1;33m,\u001b[0m \u001b[1;34m'b-'\u001b[0m\u001b[1;33m,\u001b[0m \u001b[0mlinewidth\u001b[0m \u001b[1;33m=\u001b[0m \u001b[1;36m1\u001b[0m\u001b[1;33m)\u001b[0m\u001b[1;33m\u001b[0m\u001b[0m\n\u001b[0m\u001b[0;32m      5\u001b[0m     \u001b[0mplt\u001b[0m\u001b[1;33m.\u001b[0m\u001b[0mtitle\u001b[0m\u001b[1;33m(\u001b[0m\u001b[1;34m'%d Hourly Average Wind Speed at Summit Station'\u001b[0m \u001b[1;33m%\u001b[0m \u001b[0my\u001b[0m\u001b[1;33m)\u001b[0m\u001b[1;33m\u001b[0m\u001b[0m\n\u001b[0;32m      6\u001b[0m     \u001b[0mplt\u001b[0m\u001b[1;33m.\u001b[0m\u001b[0mylabel\u001b[0m\u001b[1;33m(\u001b[0m\u001b[1;34m'Wind Speed (m/s)'\u001b[0m\u001b[1;33m)\u001b[0m\u001b[1;33m\u001b[0m\u001b[0m\n",
      "\u001b[1;32mC:\\Users\\DELL\\Anaconda2\\lib\\site-packages\\matplotlib\\pyplot.pyc\u001b[0m in \u001b[0;36mplot\u001b[1;34m(*args, **kwargs)\u001b[0m\n\u001b[0;32m   3259\u001b[0m                       mplDeprecation)\n\u001b[0;32m   3260\u001b[0m     \u001b[1;32mtry\u001b[0m\u001b[1;33m:\u001b[0m\u001b[1;33m\u001b[0m\u001b[0m\n\u001b[1;32m-> 3261\u001b[1;33m         \u001b[0mret\u001b[0m \u001b[1;33m=\u001b[0m \u001b[0max\u001b[0m\u001b[1;33m.\u001b[0m\u001b[0mplot\u001b[0m\u001b[1;33m(\u001b[0m\u001b[1;33m*\u001b[0m\u001b[0margs\u001b[0m\u001b[1;33m,\u001b[0m \u001b[1;33m**\u001b[0m\u001b[0mkwargs\u001b[0m\u001b[1;33m)\u001b[0m\u001b[1;33m\u001b[0m\u001b[0m\n\u001b[0m\u001b[0;32m   3262\u001b[0m     \u001b[1;32mfinally\u001b[0m\u001b[1;33m:\u001b[0m\u001b[1;33m\u001b[0m\u001b[0m\n\u001b[0;32m   3263\u001b[0m         \u001b[0max\u001b[0m\u001b[1;33m.\u001b[0m\u001b[0m_hold\u001b[0m \u001b[1;33m=\u001b[0m \u001b[0mwashold\u001b[0m\u001b[1;33m\u001b[0m\u001b[0m\n",
      "\u001b[1;32mC:\\Users\\DELL\\Anaconda2\\lib\\site-packages\\matplotlib\\__init__.pyc\u001b[0m in \u001b[0;36minner\u001b[1;34m(ax, *args, **kwargs)\u001b[0m\n\u001b[0;32m   1715\u001b[0m                     warnings.warn(msg % (label_namer, func.__name__),\n\u001b[0;32m   1716\u001b[0m                                   RuntimeWarning, stacklevel=2)\n\u001b[1;32m-> 1717\u001b[1;33m             \u001b[1;32mreturn\u001b[0m \u001b[0mfunc\u001b[0m\u001b[1;33m(\u001b[0m\u001b[0max\u001b[0m\u001b[1;33m,\u001b[0m \u001b[1;33m*\u001b[0m\u001b[0margs\u001b[0m\u001b[1;33m,\u001b[0m \u001b[1;33m**\u001b[0m\u001b[0mkwargs\u001b[0m\u001b[1;33m)\u001b[0m\u001b[1;33m\u001b[0m\u001b[0m\n\u001b[0m\u001b[0;32m   1718\u001b[0m         \u001b[0mpre_doc\u001b[0m \u001b[1;33m=\u001b[0m \u001b[0minner\u001b[0m\u001b[1;33m.\u001b[0m\u001b[0m__doc__\u001b[0m\u001b[1;33m\u001b[0m\u001b[0m\n\u001b[0;32m   1719\u001b[0m         \u001b[1;32mif\u001b[0m \u001b[0mpre_doc\u001b[0m \u001b[1;32mis\u001b[0m \u001b[0mNone\u001b[0m\u001b[1;33m:\u001b[0m\u001b[1;33m\u001b[0m\u001b[0m\n",
      "\u001b[1;32mC:\\Users\\DELL\\Anaconda2\\lib\\site-packages\\matplotlib\\axes\\_axes.pyc\u001b[0m in \u001b[0;36mplot\u001b[1;34m(self, *args, **kwargs)\u001b[0m\n\u001b[0;32m   1370\u001b[0m         \u001b[0mkwargs\u001b[0m \u001b[1;33m=\u001b[0m \u001b[0mcbook\u001b[0m\u001b[1;33m.\u001b[0m\u001b[0mnormalize_kwargs\u001b[0m\u001b[1;33m(\u001b[0m\u001b[0mkwargs\u001b[0m\u001b[1;33m,\u001b[0m \u001b[0m_alias_map\u001b[0m\u001b[1;33m)\u001b[0m\u001b[1;33m\u001b[0m\u001b[0m\n\u001b[0;32m   1371\u001b[0m \u001b[1;33m\u001b[0m\u001b[0m\n\u001b[1;32m-> 1372\u001b[1;33m         \u001b[1;32mfor\u001b[0m \u001b[0mline\u001b[0m \u001b[1;32min\u001b[0m \u001b[0mself\u001b[0m\u001b[1;33m.\u001b[0m\u001b[0m_get_lines\u001b[0m\u001b[1;33m(\u001b[0m\u001b[1;33m*\u001b[0m\u001b[0margs\u001b[0m\u001b[1;33m,\u001b[0m \u001b[1;33m**\u001b[0m\u001b[0mkwargs\u001b[0m\u001b[1;33m)\u001b[0m\u001b[1;33m:\u001b[0m\u001b[1;33m\u001b[0m\u001b[0m\n\u001b[0m\u001b[0;32m   1373\u001b[0m             \u001b[0mself\u001b[0m\u001b[1;33m.\u001b[0m\u001b[0madd_line\u001b[0m\u001b[1;33m(\u001b[0m\u001b[0mline\u001b[0m\u001b[1;33m)\u001b[0m\u001b[1;33m\u001b[0m\u001b[0m\n\u001b[0;32m   1374\u001b[0m             \u001b[0mlines\u001b[0m\u001b[1;33m.\u001b[0m\u001b[0mappend\u001b[0m\u001b[1;33m(\u001b[0m\u001b[0mline\u001b[0m\u001b[1;33m)\u001b[0m\u001b[1;33m\u001b[0m\u001b[0m\n",
      "\u001b[1;32mC:\\Users\\DELL\\Anaconda2\\lib\\site-packages\\matplotlib\\axes\\_base.pyc\u001b[0m in \u001b[0;36m_grab_next_args\u001b[1;34m(self, *args, **kwargs)\u001b[0m\n\u001b[0;32m    402\u001b[0m                 \u001b[0mthis\u001b[0m \u001b[1;33m+=\u001b[0m \u001b[0margs\u001b[0m\u001b[1;33m[\u001b[0m\u001b[1;36m0\u001b[0m\u001b[1;33m]\u001b[0m\u001b[1;33m,\u001b[0m\u001b[1;33m\u001b[0m\u001b[0m\n\u001b[0;32m    403\u001b[0m                 \u001b[0margs\u001b[0m \u001b[1;33m=\u001b[0m \u001b[0margs\u001b[0m\u001b[1;33m[\u001b[0m\u001b[1;36m1\u001b[0m\u001b[1;33m:\u001b[0m\u001b[1;33m]\u001b[0m\u001b[1;33m\u001b[0m\u001b[0m\n\u001b[1;32m--> 404\u001b[1;33m             \u001b[1;32mfor\u001b[0m \u001b[0mseg\u001b[0m \u001b[1;32min\u001b[0m \u001b[0mself\u001b[0m\u001b[1;33m.\u001b[0m\u001b[0m_plot_args\u001b[0m\u001b[1;33m(\u001b[0m\u001b[0mthis\u001b[0m\u001b[1;33m,\u001b[0m \u001b[0mkwargs\u001b[0m\u001b[1;33m)\u001b[0m\u001b[1;33m:\u001b[0m\u001b[1;33m\u001b[0m\u001b[0m\n\u001b[0m\u001b[0;32m    405\u001b[0m                 \u001b[1;32myield\u001b[0m \u001b[0mseg\u001b[0m\u001b[1;33m\u001b[0m\u001b[0m\n\u001b[0;32m    406\u001b[0m \u001b[1;33m\u001b[0m\u001b[0m\n",
      "\u001b[1;32mC:\\Users\\DELL\\Anaconda2\\lib\\site-packages\\matplotlib\\axes\\_base.pyc\u001b[0m in \u001b[0;36m_plot_args\u001b[1;34m(self, tup, kwargs)\u001b[0m\n\u001b[0;32m    382\u001b[0m             \u001b[0mx\u001b[0m\u001b[1;33m,\u001b[0m \u001b[0my\u001b[0m \u001b[1;33m=\u001b[0m \u001b[0mindex_of\u001b[0m\u001b[1;33m(\u001b[0m\u001b[0mtup\u001b[0m\u001b[1;33m[\u001b[0m\u001b[1;33m-\u001b[0m\u001b[1;36m1\u001b[0m\u001b[1;33m]\u001b[0m\u001b[1;33m)\u001b[0m\u001b[1;33m\u001b[0m\u001b[0m\n\u001b[0;32m    383\u001b[0m \u001b[1;33m\u001b[0m\u001b[0m\n\u001b[1;32m--> 384\u001b[1;33m         \u001b[0mx\u001b[0m\u001b[1;33m,\u001b[0m \u001b[0my\u001b[0m \u001b[1;33m=\u001b[0m \u001b[0mself\u001b[0m\u001b[1;33m.\u001b[0m\u001b[0m_xy_from_xy\u001b[0m\u001b[1;33m(\u001b[0m\u001b[0mx\u001b[0m\u001b[1;33m,\u001b[0m \u001b[0my\u001b[0m\u001b[1;33m)\u001b[0m\u001b[1;33m\u001b[0m\u001b[0m\n\u001b[0m\u001b[0;32m    385\u001b[0m \u001b[1;33m\u001b[0m\u001b[0m\n\u001b[0;32m    386\u001b[0m         \u001b[1;32mif\u001b[0m \u001b[0mself\u001b[0m\u001b[1;33m.\u001b[0m\u001b[0mcommand\u001b[0m \u001b[1;33m==\u001b[0m \u001b[1;34m'plot'\u001b[0m\u001b[1;33m:\u001b[0m\u001b[1;33m\u001b[0m\u001b[0m\n",
      "\u001b[1;32mC:\\Users\\DELL\\Anaconda2\\lib\\site-packages\\matplotlib\\axes\\_base.pyc\u001b[0m in \u001b[0;36m_xy_from_xy\u001b[1;34m(self, x, y)\u001b[0m\n\u001b[0;32m    241\u001b[0m         \u001b[1;32mif\u001b[0m \u001b[0mx\u001b[0m\u001b[1;33m.\u001b[0m\u001b[0mshape\u001b[0m\u001b[1;33m[\u001b[0m\u001b[1;36m0\u001b[0m\u001b[1;33m]\u001b[0m \u001b[1;33m!=\u001b[0m \u001b[0my\u001b[0m\u001b[1;33m.\u001b[0m\u001b[0mshape\u001b[0m\u001b[1;33m[\u001b[0m\u001b[1;36m0\u001b[0m\u001b[1;33m]\u001b[0m\u001b[1;33m:\u001b[0m\u001b[1;33m\u001b[0m\u001b[0m\n\u001b[0;32m    242\u001b[0m             raise ValueError(\"x and y must have same first dimension, but \"\n\u001b[1;32m--> 243\u001b[1;33m                              \"have shapes {} and {}\".format(x.shape, y.shape))\n\u001b[0m\u001b[0;32m    244\u001b[0m         \u001b[1;32mif\u001b[0m \u001b[0mx\u001b[0m\u001b[1;33m.\u001b[0m\u001b[0mndim\u001b[0m \u001b[1;33m>\u001b[0m \u001b[1;36m2\u001b[0m \u001b[1;32mor\u001b[0m \u001b[0my\u001b[0m\u001b[1;33m.\u001b[0m\u001b[0mndim\u001b[0m \u001b[1;33m>\u001b[0m \u001b[1;36m2\u001b[0m\u001b[1;33m:\u001b[0m\u001b[1;33m\u001b[0m\u001b[0m\n\u001b[0;32m    245\u001b[0m             raise ValueError(\"x and y can be no greater than 2-D, but have \"\n",
      "\u001b[1;31mValueError\u001b[0m: x and y must have same first dimension, but have shapes (4416L,) and (2208L,)"
     ]
    }
   ],
   "source": [
    "#hourly average for each year\n",
    "for y in [2009]:\n",
    "    plt.figure(figsize=(10,5))\n",
    "    plt.plot(permonth['hourly_%d' % y], wind_speed['hourly_%d' % y], 'b-', linewidth = 1)\n",
    "    plt.title('%d Hourly Average Wind Speed at Summit Station' % y)\n",
    "    plt.ylabel('Wind Speed (m/s)')\n",
    "    plt.xlabel('Month')\n",
    "    #maximum = wind_speed['hourly_%d' % y].max()\n",
    "    #plt.ylim([0, maximum + .05*maximum])\n",
    "    #plt.savefig('../meteorology/plots/%d/%d_wind_speed_hourly_average.png' % (y, y))\n",
    "    plt.show()\n",
    "    #plt.close('all')"
   ]
  },
  {
   "cell_type": "code",
   "execution_count": 9,
   "metadata": {
    "collapsed": true
   },
   "outputs": [],
   "source": [
    "#look month by month"
   ]
  },
  {
   "cell_type": "code",
   "execution_count": 9,
   "metadata": {
    "collapsed": true
   },
   "outputs": [],
   "source": [
    "perday = dict()\n",
    "maxPerDay = dict()\n",
    "\n",
    "for y in YEAR:\n",
    "    d = []\n",
    "    newMonth = []\n",
    "    start = months['hourly_%d' % y][0]\n",
    "    end = months['hourly_%d' % y][-1]\n",
    "    for i in range(len(temperature['hourly_%d' % y])):\n",
    "    #for i in range(len(wind_speed['hourly_%d' % y])):\n",
    "        #t = months['hourly_%d' % y][i] + ((day['hourly_%d' % y][i] -1)/ numDays[int(months['hourly_%d' % y][i]) - 1]) + (hour['hourly_%d' % y][i] / numDays[int(months['hourly_%d' % y][i]) - 1] / 24)\n",
    "        t = (day['hourly_%d' % y][i] -1) + (hour['hourly_%d' % y][i] / 24)\n",
    "        d.append(t)\n",
    "        if i > 0 and months['hourly_%d' % y][i] != months['hourly_%d' % y][i-1]:\n",
    "            newMonth.append(i)\n",
    "            \n",
    "\n",
    "    perday['hourly_%d_%d' % (end, y)] = d[newMonth[-1]:]\n",
    "    #wind_speed['hourly_%d_%d' % (end, y)] = wind_speed['hourly_%d' % y][newMonth[-1]:]\n",
    "    #wind_speedUM['hourly_%d_%d' % (end, y)] = wind_speedUM['hourly_%d' % y][newMonth[-1]:]\n",
    "    temperature['hourly_%d_%d' % (end, y)] = temperature['hourly_%d' % y][newMonth[-1]:]\n",
    "    #wind_dir['hourly_%d_%d' % (end, y)] = wind_dir['hourly_%d' % y][newMonth[-1]:]\n",
    "\n",
    "    for c in range(len(newMonth)):\n",
    "        if c == 0:\n",
    "            perday['hourly_%d_%d' % (start + c, y)] = d[0:newMonth[c]]\n",
    "            #wind_speed['hourly_%d_%d' % (start + c, y)] = wind_speed['hourly_%d' % y][0:newMonth[c]]\n",
    "            #wind_speedUM['hourly_%d_%d' % (start + c, y)] = wind_speedUM['hourly_%d' % y][0:newMonth[c]]\n",
    "            temperature['hourly_%d_%d' % (start + c, y)] = temperature['hourly_%d' % y][0:newMonth[c]]\n",
    "            #wind_dir['hourly_%d_%d' % (start + c, y)] = wind_dir['hourly_%d' % y][0:newMonth[c]]\n",
    "            \n",
    "        else:\n",
    "            perday['hourly_%d_%d' % (start + c, y)] = d[newMonth[c-1]:newMonth[c]]\n",
    "            #wind_speed['hourly_%d_%d' % (start + c, y)] = wind_speed['hourly_%d' % y][newMonth[c-1]:newMonth[c]]\n",
    "            #wind_speedUM['hourly_%d_%d' % (start + c, y)] = wind_speedUM['hourly_%d' % y][newMonth[c-1]:newMonth[c]]\n",
    "            temperature['hourly_%d_%d' % (start + c, y)] = temperature['hourly_%d' % y][newMonth[c-1]:newMonth[c]]\n",
    "            #wind_dir['hourly_%d_%d' % (start + c, y)] = wind_dir['hourly_%d' % y][newMonth[c-1]:newMonth[c]]"
   ]
  },
  {
   "cell_type": "code",
   "execution_count": 363,
   "metadata": {
    "collapsed": true
   },
   "outputs": [],
   "source": [
    "perdaySP = dict()\n",
    "maxPerDaySP = dict()\n",
    "\n",
    "for y in YEAR:\n",
    "    d = []\n",
    "    newMonth = []\n",
    "    start = monthsSP['hourly_%d' % y][0]\n",
    "    end = monthsSP['hourly_%d' % y][-1]\n",
    "    for i in range(len(wind_speedSP['hourly_%d' % y])):\n",
    "        #t = months['hourly_%d' % y][i] + ((day['hourly_%d' % y][i] -1)/ numDays[int(months['hourly_%d' % y][i]) - 1]) + (hour['hourly_%d' % y][i] / numDays[int(months['hourly_%d' % y][i]) - 1] / 24)\n",
    "        t = (daySP['hourly_%d' % y][i] -1) + (hourSP['hourly_%d' % y][i] / 24)\n",
    "        d.append(t)\n",
    "        if i > 0 and monthsSP['hourly_%d' % y][i] != monthsSP['hourly_%d' % y][i-1]:\n",
    "            newMonth.append(i)\n",
    "            \n",
    "\n",
    "    perdaySP['hourly_%d_%d' % (end, y)] = d[newMonth[-1]:]\n",
    "    wind_speedSP['hourly_%d_%d' % (end, y)] = wind_speedSP['hourly_%d' % y][newMonth[-1]:]\n",
    "    wind_speedSPUM['hourly_%d_%d' % (end, y)] = wind_speedSPUM['hourly_%d' % y][newMonth[-1]:]\n",
    "\n",
    "    for c in range(len(newMonth)):\n",
    "        if c == 0:\n",
    "            perdaySP['hourly_%d_%d' % (start + c, y)] = d[0:newMonth[c]]\n",
    "            wind_speedSP['hourly_%d_%d' % (start + c, y)] = wind_speedSP['hourly_%d' % y][0:newMonth[c]]\n",
    "            wind_speedSPUM['hourly_%d_%d' % (start + c, y)] = wind_speedSPUM['hourly_%d' % y][0:newMonth[c]]\n",
    "            \n",
    "        else:\n",
    "            perdaySP['hourly_%d_%d' % (start + c, y)] = d[newMonth[c-1]:newMonth[c]]\n",
    "            wind_speedSP['hourly_%d_%d' % (start + c, y)] = wind_speedSP['hourly_%d' % y][newMonth[c-1]:newMonth[c]]\n",
    "            wind_speedSPUM['hourly_%d_%d' % (start + c, y)] = wind_speedSPUM['hourly_%d' % y][newMonth[c-1]:newMonth[c]]"
   ]
  },
  {
   "cell_type": "code",
   "execution_count": 361,
   "metadata": {
    "collapsed": true
   },
   "outputs": [],
   "source": [
    "perdayH = dict()\n",
    "maxPerDayH = dict()\n",
    "\n",
    "for y in YEAR:\n",
    "    d = []\n",
    "    newMonth = []\n",
    "    start = monthsH['hourly_%d' % y][0]\n",
    "    end = monthsH['hourly_%d' % y][-1]\n",
    "    for i in range(len(wind_speedH['hourly_%d' % y])):\n",
    "        #t = months['hourly_%d' % y][i] + ((day['hourly_%d' % y][i] -1)/ numDays[int(months['hourly_%d' % y][i]) - 1]) + (hour['hourly_%d' % y][i] / numDays[int(months['hourly_%d' % y][i]) - 1] / 24)\n",
    "        t = (dayH['hourly_%d' % y][i] -1) + (hourH['hourly_%d' % y][i] / 24)\n",
    "        d.append(t)\n",
    "        if i > 0 and monthsH['hourly_%d' % y][i] != monthsH['hourly_%d' % y][i-1]:\n",
    "            newMonth.append(i)\n",
    "            \n",
    "\n",
    "    perdayH['hourly_%d_%d' % (end, y)] = d[newMonth[-1]:]\n",
    "    wind_speedH['hourly_%d_%d' % (end, y)] = wind_speedH['hourly_%d' % y][newMonth[-1]:]\n",
    "    wind_speedHUM['hourly_%d_%d' % (end, y)] = wind_speedHUM['hourly_%d' % y][newMonth[-1]:]\n",
    "\n",
    "    for c in range(len(newMonth)):\n",
    "        if c == 0:\n",
    "            perdayH['hourly_%d_%d' % (start + c, y)] = d[0:newMonth[c]]\n",
    "            wind_speedH['hourly_%d_%d' % (start + c, y)] = wind_speedH['hourly_%d' % y][0:newMonth[c]]\n",
    "            wind_speedHUM['hourly_%d_%d' % (start + c, y)] = wind_speedHUM['hourly_%d' % y][0:newMonth[c]]\n",
    "            \n",
    "        else:\n",
    "            perdayH['hourly_%d_%d' % (start + c, y)] = d[newMonth[c-1]:newMonth[c]]\n",
    "            wind_speedH['hourly_%d_%d' % (start + c, y)] = wind_speedH['hourly_%d' % y][newMonth[c-1]:newMonth[c]]\n",
    "            wind_speedHUM['hourly_%d_%d' % (start + c, y)] = wind_speedHUM['hourly_%d' % y][newMonth[c-1]:newMonth[c]]"
   ]
  },
  {
   "cell_type": "code",
   "execution_count": 269,
   "metadata": {
    "collapsed": true
   },
   "outputs": [],
   "source": [
    "wind_speedB = dict()\n",
    "wind_speedB['monthly_2015'] = [3.8, 4.8, 3.5, 4.2, 3.6, 3.3, 2.8, 2.8, 2.7, 3.6, 4.8, 5.7]\n",
    "wind_speedB['monthly_2014'] = [4.2, 5.4, 5.1, 4.4, 4.1, 3.4, 2.9, 3.0, 3.4, 4.0, 4.5, 6.]\n",
    "wind_speedB['monthly_2013'] = [4.965, 5.041, 4.654, 4.649, 3.744, 3.271, 2.723, 2.782, 3.76, 3.585, 3.479, 4.774]\n",
    "wind_speedB['monthly_2012'] = [5.051, 5.235, 6.216, 4.853, 4.027, 3.672, 2.796, 2.655, 2.547, 3.894, 4.432, 5.835]\n",
    "wind_speedB['monthly_2011'] = [4.561, 6.134, 5.986, 5.524, 4.845, 3.829, 2.631, 2.649, 2.391, 3.933, 4.933, 4.202]\n",
    "wind_speedB['monthly_2010'] = [4.801, 4.764, 5.309, -99.9, -99.9, -99.9, 2.754, 2.948, 2.822, 4.066, 5.25, 5.85]\n",
    "wind_speedB['monthly_2009'] = [4.682, 4.784, 5.396, 4.717, 3.545, 3.027, 2.801, 2.867, 2.707, 3.627, 4.388, 5.513]\n",
    "\n",
    "for y in YEAR:\n",
    "    wind_speedB['monthly_%d' % y] = np.asarray(wind_speedB['monthly_%d' % y])\n",
    "    wind_speedB['monthly_%d' % y] = ma.masked_equal(wind_speedB['monthly_%d' % y], -99.9)\n"
   ]
  },
  {
   "cell_type": "code",
   "execution_count": 257,
   "metadata": {
    "collapsed": true
   },
   "outputs": [],
   "source": [
    "wind_speedB_max = dict()\n",
    "wind_speedB_max['monthly_2015'] = [17.77, 28.45, 16.92, 24.89, 17.31, 15.35, 13.33, 14.14, 18.42, 20.28, 23.52, 24.37]\n",
    "wind_speedB_max['monthly_2014'] = [24.53, 24.66, 23.78, 23.78, 22.8, 16.98, 16.85, 17.47, 21.43, 19.79, 25.61, 25.51]\n",
    "wind_speedB_max['monthly_2013'] = [23.52, 31.1, 22.31, 33.75, 18.72, 16.69, 17.77, 14.73, 19.7, 20.68, 16.33, 23.39]\n",
    "wind_speedB_max['monthly_2012'] = [27.37, 25.9, 25.41, 20.02, 21.52, 19.08, 15.48, 15.32, 13.36, 25.7, 22.18, 24.01]\n",
    "wind_speedB_max['monthly_2011'] = [20.94, 25.41, 23.39, 23.03, 23.06, 20.74, 14.11, 13.88, 14.96, 20.87, 27.01, 25.02]\n",
    "wind_speedB_max['monthly_2010'] = [25.22, 20.09, 30.02, -99.9, -99.9, -99.9, 16.66, 16.1, 16.72, 23.62, 23.52, 26.78]\n",
    "wind_speedB_max['monthly_2009'] = [24.53, 21.3, 23.52, 26.39, 19.63, 14.37, 14.86, 15.97, 21.17, 27.7, 22.05, 28.09]\n",
    "\n",
    "for y in YEAR:\n",
    "    wind_speedB_max['monthly_%d' % y] = np.asarray(wind_speedB_max['monthly_%d' % y])\n",
    "    wind_speedB_max['monthly_%d' % y] = ma.masked_equal(wind_speedB_max['monthly_%d' % y], -99.9)\n"
   ]
  },
  {
   "cell_type": "code",
   "execution_count": 268,
   "metadata": {
    "collapsed": false
   },
   "outputs": [
    {
     "name": "stdout",
     "output_type": "stream",
     "text": [
      "[ 17.77  28.45  16.92  24.89  17.31  15.35  13.33  14.14  18.42  20.28\n",
      "  23.52  24.37]\n"
     ]
    }
   ],
   "source": [
    "y = 2015\n",
    "print wind_speedB['monthly_%d' % y]"
   ]
  },
  {
   "cell_type": "code",
   "execution_count": 271,
   "metadata": {
    "collapsed": true
   },
   "outputs": [],
   "source": [
    "#monthly site comparison\n",
    "for y in YEAR:\n",
    "    mavgG = []\n",
    "    mavgSP = []\n",
    "    mavgH = []\n",
    "    mB = wind_speedB['monthly_%d' % y]\n",
    "    #mavgWM = [9.6, 12.2, 8.8, 10.1, 7.4, 8.7, 7.2, 8.3, 7.4, 8.4, 11.9, 14.5]\n",
    "    for m in range(1,13):\n",
    "        mavgG.append(wind_speed['minute_%d_%d' % (m, y)].mean())\n",
    "        mavgSP.append(wind_speedSP['minute_%d_%d' % (m,y)].mean())\n",
    "        mavgH.append(wind_speedH['minute_%d_%d' % (m,y)].mean())\n",
    "\n",
    "    mavgG = np.asarray(mavgG)\n",
    "    #mavgB = np.asarray(wind_speedB_max['monthly_%d' % y])\n",
    "    mavgSP = np.asarray(mavgSP)\n",
    "    mavgH = np.asarray(mavgH)\n",
    "    #mavgWM = np.asarray(mavgWM)\n",
    "\n",
    "    G, = plt.plot(np.arange(1,13), mavgG*scale, 'g-', linewidth = 2)\n",
    "    B, = plt.plot(np.arange(1,13), mB*scale, 'k-', linewidth = 2)\n",
    "    SP, = plt.plot(np.arange(1,13), mavgSP*scale, 'r-', linewidth = 2)\n",
    "    H, = plt.plot(np.arange(1,13), mavgH*scale, 'b-', linewidth = 2)\n",
    "    #WM, = plt.plot(np.arange(1,13), mavgWM*scale, 'g-', linewidth = 2)\n",
    "\n",
    "\n",
    "    plt.legend([G, B, SP, H], ['Greenland', 'Barcroft', 'South Pole', 'Mauna Loa'], loc = 'upper right')\n",
    "    #plt.legend([B, SP, WM], ['Barcroft', 'South Pole', 'White Mountain Summit'], loc = 'upper left')\n",
    "    plt.ylabel('Wind Speed (knots)')\n",
    "    plt.xlabel('Month')\n",
    "    plt.title('%d Wind Speed Monthly Mean' % y)\n",
    "    plt.xlim([1, 13])\n",
    "    plt.ylim([0, 30])\n",
    "    plt.savefig('../meteorology/plots/%d/%d_monthly_wind_speed_average_site_comparison.png' % (y,y))\n",
    "    plt.close('all')\n",
    "    #plt.show()"
   ]
  },
  {
   "cell_type": "code",
   "execution_count": null,
   "metadata": {
    "collapsed": true
   },
   "outputs": [],
   "source": [
    "print ma.count_masked()"
   ]
  },
  {
   "cell_type": "code",
   "execution_count": 281,
   "metadata": {
    "collapsed": false
   },
   "outputs": [
    {
     "name": "stdout",
     "output_type": "stream",
     "text": [
      "0\n"
     ]
    }
   ],
   "source": [
    "y = 2014\n",
    "ws = dailyMean_y['%d' % y]*scale\n",
    "print ma.count_masked(ws)\n",
    "#bins = round(ws.max())*4.\n",
    "values, baseG = np.histogram(ws, bins = bins, density=True)\n",
    "cumulative = np.cumsum(values)\n",
    "cumu_G = cumulative/cumulative.max()\n",
    "\n",
    "#print ws\n",
    "#print values\n",
    "#print cumulative[0:6]\n",
    "#print cumu_G[0:6]"
   ]
  },
  {
   "cell_type": "code",
   "execution_count": null,
   "metadata": {
    "collapsed": true
   },
   "outputs": [],
   "source": [
    "y = 2014\n"
   ]
  },
  {
   "cell_type": "code",
   "execution_count": 391,
   "metadata": {
    "collapsed": true
   },
   "outputs": [],
   "source": [
    "#create cumulative distribution for different sites:\n",
    "\n",
    "for y in YEAR:\n",
    "    bins = 20\n",
    "    ws = dailyMean_y['%d' % y]*scale\n",
    "    #bins = round(ws.max())*4.\n",
    "    values, baseG = np.histogram(ws, bins = bins, density=True)\n",
    "    cumulative = np.cumsum(values)\n",
    "    cumu_G = cumulative/cumulative.max()\n",
    "\n",
    "    ws = dailyMeanSP_y['%d' % y]*scale\n",
    "    #bins = round(ws.max())*4.\n",
    "    values, baseSP = np.histogram(ws, bins = bins, density=True)\n",
    "    cumulative = np.cumsum(values)\n",
    "    cumu_SP = cumulative/cumulative.max()\n",
    "\n",
    "    ws = dailyMeanH_y['%d' % y]*scale\n",
    "    #bins = round(ws.max())*4.\n",
    "    values, baseH = np.histogram(ws, bins = bins, density=True)\n",
    "    cumulative = np.cumsum(values)\n",
    "    cumu_H = cumulative/cumulative.max()\n",
    "\n",
    "    ws = dailyMeanB_good['%d' % y]*scale\n",
    "    #bins = round(ws.max())*4.\n",
    "    values, baseB = np.histogram(ws, bins = bins, density=True)\n",
    "    cumulative = np.cumsum(values)\n",
    "    cumu_B = cumulative/cumulative.max()\n",
    "\n",
    "\n",
    "    #plt.plot(base[:-1], values, 'g-')\n",
    "    c_G, = plt.plot(baseG[:-1], (cumu_G)*100., 'g-', linewidth = 2)\n",
    "    c_B, = plt.plot(baseB[:-1], (cumu_B)*100., 'k-', linewidth = 2)\n",
    "    c_SP, = plt.plot(baseSP[:-1], (cumu_SP)*100., 'r-', linewidth = 2)\n",
    "    c_H, = plt.plot(baseH[:-1], (cumu_H)*100., 'b-', linewidth = 2)\n",
    "\n",
    "    plt.title('%d Prob(Daily Mean Wind Speed $\\leq$ x)' % y)\n",
    "    plt.xlabel('Wind Speed (knots)')\n",
    "    plt.ylabel('Cumulative Distribution (%)')\n",
    "    plt.legend([c_G, c_B, c_SP, c_H], ['Greenland', 'Barcroft', 'South Pole', 'Hawaii'], loc = 'lower right')\n",
    "\n",
    "    #plt.xlim([0,ws.max()])\n",
    "    plt.ylim([0, 105])\n",
    "    plt.savefig('../meteorology/plots/%d/%d_wind_speed_mean_cumulative_dist.png' % (y,y))\n",
    "    #plt.show()\n",
    "    plt.close('all')"
   ]
  },
  {
   "cell_type": "code",
   "execution_count": 15,
   "metadata": {
    "collapsed": true
   },
   "outputs": [],
   "source": [
    "#create arrays with missing elements deleted\n",
    "for y in YEAR:\n",
    "    for m in range(1,13):\n",
    "        w = wind_speed['hourly_%d_%d' % (m,y)]\n",
    "\n",
    "        igood = np.where(w >= 0.)[0]\n",
    "\n",
    "        ws_good['hourly_%d_%d' % (m,y)] = w[igood]*1.94384\n"
   ]
  },
  {
   "cell_type": "code",
   "execution_count": 10,
   "metadata": {
    "collapsed": true
   },
   "outputs": [],
   "source": [
    "#find daily average and standard deviation for each month\n",
    "dailyMean = defaultdict(list)\n",
    "dailySTD = defaultdict(list)\n",
    "#dailyMean_y = defaultdict(list)\n",
    "#dailyMeanUM = defaultdict(list)\n",
    "\n",
    "for y in YEAR:\n",
    "    #dailyMean_y['%d' % y] = np.empty(0)\n",
    "    for c in range(1, 13):\n",
    "        newDay = []\n",
    "        for i in range(len(temperature['hourly_%d_%d' % (c, y)])):\n",
    "            if i > 0 and day['hourly_%d' % y][i] != day['hourly_%d' % y][i-1]:\n",
    "                newDay.append(i)\n",
    "\n",
    "        for d in range(len(newDay)):\n",
    "            if d == 0:\n",
    "                dailyMean['%d_%d' % (c, y)].append(temperature['hourly_%d_%d' % (c, y)][0:newDay[d]].mean())\n",
    "                #dailyMeanUM['%d_%d' % (c, y)].append(wind_speedUM['hourly_%d_%d' % (c, y)][0:newDay[d]].mean())\n",
    "                dailySTD['%d_%d' % (c, y)].append(temperature['hourly_%d_%d' % (c, y)][0:newDay[d]].std())      \n",
    "            else:\n",
    "                dailyMean['%d_%d' % (c, y)].append(temperature['hourly_%d_%d' % (c, y)][newDay[d-1]:newDay[d]].mean())\n",
    "                #dailyMeanUM['%d_%d' % (c, y)].append(wind_speedUM['hourly_%d_%d' % (c, y)][newDay[d-1]:newDay[d]].mean())\n",
    "                dailySTD['%d_%d' % (c, y)].append(temperature['hourly_%d_%d' % (c, y)][newDay[d-1]:newDay[d]].std())  \n",
    "\n",
    "        dailyMean['%d_%d' % (c, y)].append(temperature['hourly_%d_%d' % (c, y)][newDay[-1]:].mean())\n",
    "        #dailyMeanUM['%d_%d' % (c, y)].append(wind_speedUM['hourly_%d_%d' % (c, y)][newDay[-1]:].mean())\n",
    "        dailySTD['%d_%d' % (c, y)].append(temperature['hourly_%d_%d' % (c, y)][newDay[-1]:].std()) \n",
    "        \n",
    "        #dailyMean_y['%d' % y] = np.hstack([dailyMean_y['%d' % y], dailyMeanUM['%d_%d' % (c, y)]])\n",
    "    \n",
    "    #dailyMean_y['%d' % y] = ma.masked_where(dailyMean_y['%d' % y] < 0., dailyMean_y['%d' % y])"
   ]
  },
  {
   "cell_type": "code",
   "execution_count": 387,
   "metadata": {
    "collapsed": true
   },
   "outputs": [],
   "source": [
    "#create arrays with missing elements deleted\n",
    "for y in YEAR:\n",
    "    w = dailyMean_y['%d' % y]\n",
    "\n",
    "    igood = np.where(w >= 0.)[0]\n",
    "\n",
    "    dailyMean_y['%d' % y] = w[igood]\n"
   ]
  },
  {
   "cell_type": "code",
   "execution_count": 381,
   "metadata": {
    "collapsed": true
   },
   "outputs": [],
   "source": [
    "#find daily average and standard deviation for each month\n",
    "dailyMeanSP = defaultdict(list)\n",
    "dailyMeanSPUM = defaultdict(list)\n",
    "dailyMeanSP_y = defaultdict(list)\n",
    "\n",
    "\n",
    "for y in YEAR:\n",
    "    dailyMeanSP_y['%d' % y] = np.empty(0)\n",
    "    for c in range(1, 13):\n",
    "        newDay = []\n",
    "        for i in range(len(wind_speedSP['hourly_%d_%d' % (c, y)])):\n",
    "            if i > 0 and daySP['hourly_%d' % y][i] != daySP['hourly_%d' % y][i-1]:\n",
    "                newDay.append(i)\n",
    "\n",
    "        for d in range(len(newDay)):\n",
    "            if d == 0:\n",
    "                dailyMeanSP['%d_%d' % (c, y)].append(wind_speedSP['hourly_%d_%d' % (c, y)][0:newDay[d]].mean())\n",
    "                dailyMeanSPUM['%d_%d' % (c, y)].append(wind_speedSPUM['hourly_%d_%d' % (c, y)][0:newDay[d]].mean())\n",
    "            else:\n",
    "                dailyMeanSP['%d_%d' % (c, y)].append(wind_speedSP['hourly_%d_%d' % (c, y)][newDay[d-1]:newDay[d]].mean())\n",
    "                dailyMeanSPUM['%d_%d' % (c, y)].append(wind_speedSPUM['hourly_%d_%d' % (c, y)][newDay[d-1]:newDay[d]].mean())\n",
    "\n",
    "        dailyMeanSP['%d_%d' % (c, y)].append(wind_speedSP['hourly_%d_%d' % (c, y)][newDay[-1]:].mean())\n",
    "        dailyMeanSPUM['%d_%d' % (c, y)].append(wind_speedSPUM['hourly_%d_%d' % (c, y)][newDay[-1]:].mean())\n",
    "        \n",
    "        dailyMeanSP_y['%d' % y] = np.hstack([dailyMeanSP_y['%d' % y], dailyMeanSPUM['%d_%d' % (c, y)]])\n",
    "    dailyMeanSP_y['%d' % y] = ma.masked_where(dailyMeanSP_y['%d' % y] < 0., dailyMeanSP_y['%d' % y])"
   ]
  },
  {
   "cell_type": "code",
   "execution_count": 388,
   "metadata": {
    "collapsed": true
   },
   "outputs": [],
   "source": [
    "#create arrays with missing elements deleted\n",
    "for y in YEAR:\n",
    "    w = dailyMeanSP_y['%d' % y]\n",
    "\n",
    "    igood = np.where(w >= 0.)[0]\n",
    "\n",
    "    dailyMeanSP_y['%d' % y] = w[igood]\n"
   ]
  },
  {
   "cell_type": "code",
   "execution_count": 384,
   "metadata": {
    "collapsed": true
   },
   "outputs": [],
   "source": [
    "#find daily average and standard deviation for each month\n",
    "dailyMeanH = defaultdict(list)\n",
    "dailyMeanHUM = defaultdict(list)\n",
    "dailyMeanH_y = defaultdict(list)\n",
    "\n",
    "for y in YEAR:\n",
    "    dailyMeanH_y['%d' % y] = np.empty(0)\n",
    "    for c in range(1, 13):\n",
    "        newDay = []\n",
    "        for i in range(len(wind_speedH['hourly_%d_%d' % (c, y)])):\n",
    "            if i > 0 and dayH['hourly_%d' % y][i] != dayH['hourly_%d' % y][i-1]:\n",
    "                newDay.append(i)\n",
    "\n",
    "        for d in range(len(newDay)):\n",
    "            if d == 0:\n",
    "                dailyMeanH['%d_%d' % (c, y)].append(wind_speedH['hourly_%d_%d' % (c, y)][0:newDay[d]].mean())\n",
    "                dailyMeanHUM['%d_%d' % (c, y)].append(wind_speedHUM['hourly_%d_%d' % (c, y)][0:newDay[d]].mean())\n",
    "            else:\n",
    "                dailyMeanH['%d_%d' % (c, y)].append(wind_speedH['hourly_%d_%d' % (c, y)][newDay[d-1]:newDay[d]].mean())\n",
    "                dailyMeanHUM['%d_%d' % (c, y)].append(wind_speedHUM['hourly_%d_%d' % (c, y)][newDay[d-1]:newDay[d]].mean())\n",
    "\n",
    "        dailyMeanH['%d_%d' % (c, y)].append(wind_speedH['hourly_%d_%d' % (c, y)][newDay[-1]:].mean())\n",
    "        dailyMeanHUM['%d_%d' % (c, y)].append(wind_speedHUM['hourly_%d_%d' % (c, y)][newDay[-1]:].mean())\n",
    "        \n",
    "        dailyMeanH_y['%d' % y] = np.hstack([dailyMeanH_y['%d' % y], dailyMeanHUM['%d_%d' % (c, y)]])\n",
    "    dailyMeanH_y['%d' % y] = ma.masked_where(dailyMeanH_y['%d' % y] < 0., dailyMeanH_y['%d' % y])"
   ]
  },
  {
   "cell_type": "code",
   "execution_count": 389,
   "metadata": {
    "collapsed": true
   },
   "outputs": [],
   "source": [
    "#create arrays with missing elements deleted\n",
    "for y in YEAR:\n",
    "    w = dailyMeanH_y['%d' % y]\n",
    "\n",
    "    igood = np.where(w >= 0.)[0]\n",
    "\n",
    "    dailyMeanH_y['%d' % y] = w[igood]\n"
   ]
  },
  {
   "cell_type": "code",
   "execution_count": 69,
   "metadata": {
    "collapsed": true
   },
   "outputs": [],
   "source": [
    "#load barcroft data\n",
    "dailyMeanB = dict()\n",
    "dailyMaxB = dict()\n",
    "dailyMeanB_good = dict()\n",
    "dailyMaxB_good = dict()\n",
    "for y in YEAR:\n",
    "#for m in range(1,13):\n",
    "\n",
    "    file1 = '../meteorology/data/barcroft/barcroft_%d.txt' % (y)\n",
    "\n",
    "    results = []\n",
    "    with open(file1) as inputfile:\n",
    "        for line in inputfile:\n",
    "            results.append(line.strip().split())\n",
    "\n",
    "    speed = []\n",
    "    speedMax = []\n",
    "\n",
    "    for i in range(len(results)):\n",
    "        speed.append(float(results[i][4]))\n",
    "        speedMax.append(float(results[i][6]))\n",
    "\n",
    "    dailyMeanB['%d' % y] = np.asarray(speed)\n",
    "    w = dailyMeanB['%d' % y]\n",
    "    igood = np.where(w >= 0.)[0]\n",
    "    dailyMeanB_good['%d' % y] = w[igood]\n",
    "\n",
    "    dailyMeanB['%d' % y] = ma.masked_equal(dailyMeanB['%d' % y], -9999)\n",
    "    \n",
    "    dailyMaxB['%d' % y] = np.asarray(speedMax)\n",
    "    w = dailyMaxB['%d' % y]\n",
    "    igood = np.where(w >= 0.)[0]\n",
    "    dailyMaxB_good['%d' % y] = w[igood]\n",
    "\n",
    "    dailyMaxB['%d' % y] = ma.masked_equal(dailyMaxB['%d' % y], -9999)\n",
    "\n"
   ]
  },
  {
   "cell_type": "code",
   "execution_count": 234,
   "metadata": {
    "collapsed": false
   },
   "outputs": [
    {
     "name": "stdout",
     "output_type": "stream",
     "text": [
      "0.0\n",
      "5.07\n",
      "3.75\n",
      "5.42\n",
      "3.27\n",
      "4.51\n",
      "3.82\n"
     ]
    }
   ],
   "source": [
    "for y in YEAR:\n",
    "    print dailyMaxB['%d' % y].min()"
   ]
  },
  {
   "cell_type": "code",
   "execution_count": 129,
   "metadata": {
    "collapsed": true
   },
   "outputs": [],
   "source": [
    "#load barcroft data\n",
    "dailyMeanB_month = dict()\n",
    "dailyMaxB_month = dict()\n",
    "dailyMeanB_month_good = dict()\n",
    "dailyMaxB_month_good = dict()\n",
    "for y in [2015]:\n",
    "    for m in range(1,13):\n",
    "        if m < 10:\n",
    "            M = '0%d' % m\n",
    "        else:\n",
    "            M = '%d' % m\n",
    "        file1 = '../meteorology/data/barcroft/%d/month/barcroft_%s_%d.txt' % (y, M, y)\n",
    "\n",
    "        results = []\n",
    "        with open(file1) as inputfile:\n",
    "            for line in inputfile:\n",
    "                results.append(line.strip().split())\n",
    "\n",
    "        speed = []\n",
    "        speedMax = []\n",
    "\n",
    "        for i in range(len(results)):\n",
    "            speed.append(float(results[i][3]))\n",
    "            speedMax.append(float(results[i][5]))\n",
    "\n",
    "        dailyMeanB_month['%d_%d' % (m, y)] = np.asarray(speed)\n",
    "        w = dailyMeanB_month['%d_%d' % (m, y)]\n",
    "        igood = np.where(w >= 0.)[0]\n",
    "        dailyMeanB_month_good['%d_%d' % (m, y)] = w[igood]\n",
    "\n",
    "        dailyMeanB_month['%d_%d' % (m, y)] = ma.masked_equal(dailyMeanB_month['%d_%d' % (m, y)], -99.9)\n",
    "\n",
    "        dailyMaxB_month['%d_%d' % (m, y)] = np.asarray(speedMax)\n",
    "        w = dailyMaxB_month['%d_%d' % (m, y)]\n",
    "        igood = np.where(w >= 0.)[0]\n",
    "        dailyMaxB_month_good['%d_%d' % (m, y)] = w[igood]\n",
    "\n",
    "        dailyMaxB_month['%d_%d' % (m, y)] = ma.masked_equal(dailyMaxB_month['%d_%d' % (m, y)], -99.9)\n",
    "\n"
   ]
  },
  {
   "cell_type": "code",
   "execution_count": null,
   "metadata": {
    "collapsed": true
   },
   "outputs": [],
   "source": [
    "#create arrays with missing elements deleted\n",
    "for y in YEAR:\n",
    "    for m in range(1,13):\n",
    "        w = wind_speed['hourly_%d_%d' % (m,y)]\n",
    "        h = humidity['hourly_%d_%d' % (m,y)]\n",
    "\n",
    "        igood = np.where(w >= 0.)[0]\n",
    "        igoodh = np.where(h >= 0.)[0]\n",
    "\n",
    "        ws_good['hourly_%d_%d' % (m,y)] = w[igood]*1.94384\n",
    "        hum_good['hourly_%d_%d' % (m,y)] = h[igood]"
   ]
  },
  {
   "cell_type": "code",
   "execution_count": 66,
   "metadata": {
    "collapsed": true
   },
   "outputs": [],
   "source": [
    "#month by month site comparison"
   ]
  },
  {
   "cell_type": "code",
   "execution_count": 166,
   "metadata": {
    "collapsed": false
   },
   "outputs": [
    {
     "name": "stdout",
     "output_type": "stream",
     "text": [
      "30\n",
      "29\n",
      "11 2015\n"
     ]
    }
   ],
   "source": [
    "print len(days)\n",
    "print len(dailyMaxSP['%d_%d' % (m, y)])\n",
    "print m, y\n"
   ]
  },
  {
   "cell_type": "code",
   "execution_count": 167,
   "metadata": {
    "collapsed": true
   },
   "outputs": [],
   "source": [
    "y = 2015\n",
    "for m in range(1,13):\n",
    "    plt.figure(figsize=(10,5))\n",
    "\n",
    "    davgG = np.asarray(dailyMax['%d_%d' % (m, y)])\n",
    "    davgB = dailyMaxB_month['%d_%d' % (m, y)]\n",
    "    davgSP = np.asarray(dailyMaxSP['%d_%d' % (m, y)])\n",
    "    davgH = np.asarray(dailyMaxH['%d_%d' % (m, y)])\n",
    "\n",
    "    days = np.arange(1, numDays[m-1]+1)\n",
    "    if m == 11 and y == 2015:\n",
    "        daysSP = np.arange(len(davgSP))\n",
    "    else: \n",
    "        daysSP = days\n",
    "    G, = plt.plot(days, davgG*scale, 'g-', linewidth = 2)\n",
    "    B, = plt.plot(days, davgB*scale, 'k-', linewidth = 2)\n",
    "    SP, = plt.plot(daysSP, davgSP*scale, 'r-', linewidth = 2)\n",
    "    H, = plt.plot(days, davgH*scale, 'b-', linewidth = 2)\n",
    "    #WM, = plt.plot(np.arange(1,13), mavgWM*scale, 'g-', linewidth = 2)\n",
    "\n",
    "\n",
    "    plt.legend([G, B, SP, H], ['Greenland', 'Barcroft', 'South Pole', 'Mauna Loa'], loc = 'upper right')\n",
    "    #plt.legend([B, SP, WM], ['Barcroft', 'South Pole', 'White Mountain Summit'], loc = 'upper left')\n",
    "    plt.ylabel('Wind Speed (knots)')\n",
    "    plt.xlabel('day')\n",
    "    plt.title('%s %d Wind Speed Daily Maximums' % (month[m-1], y))\n",
    "    #plt.xlim([1, 13])\n",
    "    #plt.ylim([0, 35])\n",
    "    plt.savefig('../meteorology/plots/2015/%s/%s_%d_daily_wind_speed_max_site_comparison.png' % (month[m-1].lower(), month[m-1].lower(), y))\n",
    "    plt.close('all')\n",
    "    #plt.show()"
   ]
  },
  {
   "cell_type": "code",
   "execution_count": 11,
   "metadata": {
    "collapsed": true
   },
   "outputs": [],
   "source": [
    "#plot average and standard deviation for each day in each month\n",
    "scale = 1.\n",
    "for c in range(6, 9):\n",
    "    plt.figure(figsize=(10,5))\n",
    "    \n",
    "    y = 2015\n",
    "    y2015, = plt.plot(np.arange(len(dailyMean['%d_%d' % (c, y)])), np.asarray(dailyMean['%d_%d' % (c, y)])*scale, 'b-', linewidth = 2)\n",
    "    y = 2014\n",
    "    y2014, = plt.plot(np.arange(len(dailyMean['%d_%d' % (c, y)])), np.asarray(dailyMean['%d_%d' % (c, y)])*scale, 'r-', linewidth = 2)\n",
    "    y = 2013\n",
    "    y2013, = plt.plot(np.arange(len(dailyMean['%d_%d' % (c, y)])), np.asarray(dailyMean['%d_%d' % (c, y)])*scale, 'g-', linewidth = 2)\n",
    "    y = 2012\n",
    "    y2012, = plt.plot(np.arange(len(dailyMean['%d_%d' % (c, y)])), np.asarray(dailyMean['%d_%d' % (c, y)])*scale, 'y-', linewidth = 2)\n",
    "\n",
    "    plt.legend([y2015, y2014, y2013, y2012], ['2015', '2014', '2013', '2012'], loc = 'upper right')\n",
    "\n",
    "    plt.title('%s Daily Temperature Average' % month[c-1])\n",
    "    plt.xlabel('Day')\n",
    "    #plt.ylabel('wind speed (%s)' % units)\n",
    "    plt.ylabel('degrees (Fahrenheit)')\n",
    "    plt.ylim([-30, 30])\n",
    "    #plt.show()\n",
    "    plt.savefig('../meteorology/plots/year_to_year_comparisons/%s/%s_2012-2015_daily_temperature_average.png' % \n",
    "                (month[c-1].lower(), month[c-1].lower()))\n",
    "    plt.close('all')\n",
    "    \n",
    "    plt.figure(figsize=(10,5))\n",
    "    y = 2015\n",
    "    y2015, = plt.plot(np.arange(len(dailySTD['%d_%d' % (c, y)])), np.asarray(dailySTD['%d_%d' % (c, y)])*scale, 'b-', linewidth = 2)\n",
    "    y = 2014\n",
    "    y2014, = plt.plot(np.arange(len(dailySTD['%d_%d' % (c, y)])), np.asarray(dailySTD['%d_%d' % (c, y)])*scale, 'r-', linewidth = 2)\n",
    "    y = 2013\n",
    "    y2013, = plt.plot(np.arange(len(dailySTD['%d_%d' % (c, y)])), np.asarray(dailySTD['%d_%d' % (c, y)])*scale, 'g-', linewidth = 2)\n",
    "    y = 2012\n",
    "    y2012, = plt.plot(np.arange(len(dailySTD['%d_%d' % (c, y)])), np.asarray(dailySTD['%d_%d' % (c, y)])*scale, 'y-', linewidth = 2)\n",
    "\n",
    "    plt.legend([y2015, y2014, y2013, y2012], ['2015', '2014', '2013', '2012'], loc = 'upper right')\n",
    "\n",
    "    plt.title('%s Daily Temperature Standard Deviation' % month[c-1])\n",
    "    plt.xlabel('Day')\n",
    "    #plt.ylabel('wind speed (%s)' % units)\n",
    "    plt.ylabel('degrees (Fahrenheit)')\n",
    "    plt.ylim([0, 20])\n",
    "    #plt.show()\n",
    "    plt.savefig('../meteorology/plots/year_to_year_comparisons/%s/%s_2012-2015_daily_temperature_std.png' % \n",
    "                (month[c-1].lower(), month[c-1].lower()))\n",
    "    plt.close('all')"
   ]
  },
  {
   "cell_type": "code",
   "execution_count": 12,
   "metadata": {
    "collapsed": true
   },
   "outputs": [],
   "source": [
    "#plot hourly averages for each month in each year\n",
    "for y in YEAR:\n",
    "    start = int(months['hourly_%d' % y][0])\n",
    "    end = int(months['hourly_%d' % y][-1])\n",
    "    #for c in range(start,end+1):\n",
    "    for c in range(6,8+1):\n",
    "        plt.plot(perday['hourly_%d_%d' % (c, y)], temperature['hourly_%d_%d' % (c, y)], 'b-', linewidth = 1)\n",
    "        plt.title('%s %d Hourly Average Temperature at Summit Station' % (month[c-1], y))\n",
    "        plt.ylabel('Degrees (Fahrenheit)')\n",
    "        plt.xlabel('Day')\n",
    "        plt.ylim([-40, 40])\n",
    "        #plt.xlim([1, 744 * 12./len(wind_speed)])\n",
    "        plt.savefig('../meteorology/plots/%d/%s/%s_%d_temperature_hourly_average.png' % (y, month[c-1].lower(), month[c-1].lower(), y))\n",
    "        #plt.show()\n",
    "        plt.close('all')"
   ]
  },
  {
   "cell_type": "code",
   "execution_count": null,
   "metadata": {
    "collapsed": true
   },
   "outputs": [],
   "source": [
    "#histogram plots"
   ]
  },
  {
   "cell_type": "code",
   "execution_count": 165,
   "metadata": {
    "collapsed": true
   },
   "outputs": [],
   "source": [
    "#create cumulative distribution:\n",
    "for m in range(1,13):\n",
    "    bins = 10\n",
    "    \n",
    "    y = 2009\n",
    "    ws = ws_good['hourly_%d_%d' % (m,y)]\n",
    "    #bins = round(ws.max())\n",
    "    values, base09 = np.histogram(ws, bins = bins, density=True)\n",
    "    cumulative = np.cumsum(values)\n",
    "    cumu_2009 = cumulative/cumulative.max()\n",
    "\n",
    "    y = 2010\n",
    "    ws = ws_good['hourly_%d_%d' % (m,y)]\n",
    "    #bins = round(ws.max())\n",
    "    values, base10 = np.histogram(ws, bins = bins, density=True)\n",
    "    cumulative = np.cumsum(values)\n",
    "    cumu_2010 = cumulative/cumulative.max()\n",
    "\n",
    "    y = 2011\n",
    "    ws = ws_good['hourly_%d_%d' % (m,y)]\n",
    "    #bins = round(ws.max())\n",
    "    values, base11 = np.histogram(ws, bins = bins, density=True)\n",
    "    cumulative = np.cumsum(values)\n",
    "    cumu_2011 = cumulative/cumulative.max()\n",
    "\n",
    "    y = 2012\n",
    "    ws = ws_good['hourly_%d_%d' % (m,y)]\n",
    "    #bins = round(ws.max())\n",
    "    values, base12 = np.histogram(ws, bins = bins, density=True)\n",
    "    cumulative = np.cumsum(values)\n",
    "    cumu_2012 = cumulative/cumulative.max()\n",
    "\n",
    "\n",
    "    y = 2013\n",
    "    ws = ws_good['hourly_%d_%d' % (m,y)]\n",
    "    #bins = round(ws.max())\n",
    "    values, base13 = np.histogram(ws, bins = bins, density=True)\n",
    "    cumulative = np.cumsum(values)\n",
    "    cumu_2013 = cumulative/cumulative.max()\n",
    "\n",
    "    y = 2014\n",
    "    ws = ws_good['hourly_%d_%d' % (m,y)]\n",
    "    #bins = round(ws.max())\n",
    "    values, base14 = np.histogram(ws, bins = bins, density=True)\n",
    "    cumulative = np.cumsum(values)\n",
    "    cumu_2014 = cumulative/cumulative.max()\n",
    "\n",
    "    y = 2015\n",
    "    ws = ws_good['hourly_%d_%d' % (m,y)]\n",
    "    #bins = round(ws.max())\n",
    "    values, base15 = np.histogram(ws, bins = bins, density=True)\n",
    "    cumulative = np.cumsum(values)\n",
    "    cumu_2015= cumulative/cumulative.max()\n",
    "\n",
    "\n",
    "    #plt.plot(base[:-1], values, 'g-')\n",
    "    c_09, = plt.plot(base09[:-1], (1.-cumu_2009)*100., 'm-', linewidth = 2)\n",
    "    c_10, = plt.plot(base10[:-1], (1.-cumu_2010)*100., 'c-', linewidth = 2)\n",
    "    c_11, = plt.plot(base11[:-1], (1.-cumu_2011)*100., 'y-', linewidth = 2)\n",
    "    c_12, = plt.plot(base12[:-1], (1.-cumu_2012)*100., 'k-', linewidth = 2)\n",
    "    c_13, = plt.plot(base13[:-1], (1.-cumu_2013)*100., 'g-', linewidth = 2)\n",
    "    c_14, = plt.plot(base14[:-1], (1.-cumu_2014)*100., 'r-', linewidth = 2)\n",
    "    c_15, = plt.plot(base15[:-1], (1.-cumu_2015)*100., 'b-', linewidth = 2)\n",
    "\n",
    "    plt.title('%s Prob(Hourly Average Wind Speed $>$ x)' % month[m-1])\n",
    "    plt.xlabel('Wind Speed (knots)')\n",
    "    plt.ylabel('Cumulative Distribution (%)')\n",
    "    plt.legend([c_15, c_14, c_13, c_12, c_11, c_10, c_09], ['2015', '2014', '2013', '2012', '2011', '2010', '2009'], loc = 'upper right')\n",
    "\n",
    "    #plt.xlim([0,ws.max()])\n",
    "    plt.ylim([0, 105])\n",
    "    plt.savefig('../meteorology/plots/year_to_year_comparisons/%s/%s_wind_speed_hourly_average_1-cumulative_dist.png' % (month[m-1].lower(), month[m-1].lower()))\n",
    "    #plt.show()\n",
    "    plt.close('all')"
   ]
  },
  {
   "cell_type": "code",
   "execution_count": 27,
   "metadata": {
    "collapsed": false
   },
   "outputs": [
    {
     "name": "stdout",
     "output_type": "stream",
     "text": [
      "-4\n"
     ]
    }
   ],
   "source": [
    "print(round(-6.4 - -2.2))"
   ]
  },
  {
   "cell_type": "code",
   "execution_count": 47,
   "metadata": {
    "collapsed": true
   },
   "outputs": [],
   "source": [
    "#search for this\n",
    "for y in YEAR:\n",
    "    #start = int(months['hourly_%d' % y][0])\n",
    "    #end = int(months['hourly_%d' % y][-1])\n",
    "    for c in range(6,9):\n",
    "        #bins = maximum / 0.5\n",
    "        ws = temperature['hourly_%d_%d' % (c, y)]\n",
    "        maximum = ws.max()\n",
    "        minimum = ws.min()\n",
    "        #weights = np.ones_like(ws)/float(len(ws))\n",
    "        #bins = round(maximum)*4.\n",
    "        bins = abs(round(maximum - minimum)*2.)\n",
    "        #z,x, _ = plt.hist(ws, bins = bins, range = (0,maximum), normed = True) \n",
    "        z,x, _ = plt.hist(ws, bins = bins, range = (minimum, maximum), normed = True) \n",
    "        plt.title('%s %d Hourly Average Temperature, bin width = %.2f ' % (month[c-1], y, x[1] - x[0]))\n",
    "        imax = z.tolist().index(z.max())\n",
    "        #print 'year: ', y, \", month: \", c, \", most frequent speed: \", x[imax]\n",
    "        #print \"-----\"\n",
    "        #plt.ylabel('Wind Speed (m/s)')\n",
    "        plt.xlabel('Temperature (degrees)')\n",
    "        plt.ylabel('Probability per Bin')\n",
    "        #plt.text(60, .025, r'$\\mu=100,\\ \\sigma=15$')\n",
    "        plt.ylim([0, 0.11])\n",
    "        plt.xlim([-40., 40.])\n",
    "        plt.savefig('../meteorology/plots/%d/%s/%s_%d_temperature_hourly_average_normed_hist.png' % (y, month[c-1].lower(), month[c-1].lower(), y))\n",
    "        #plt.show()\n",
    "        plt.close('all')"
   ]
  },
  {
   "cell_type": "code",
   "execution_count": 11,
   "metadata": {
    "collapsed": true
   },
   "outputs": [],
   "source": [
    "#week by week\n",
    "\n",
    "weeklyMean = defaultdict(list)\n",
    "weeklySTD = defaultdict(list)\n",
    "\n",
    "for y in YEAR:\n",
    "    \n",
    "    if y == 2008:\n",
    "        start = 6 \n",
    "    else:\n",
    "        start = 1\n",
    "        \n",
    "    for c in range(start, 13):\n",
    "\n",
    "        #perday['hourly_%d_%d' % (c, y)]\n",
    "        #wind_speed['hourly_%d_%d' % (c, y)]\n",
    "\n",
    "        for i in range(4):        \n",
    "            if i < 3:\n",
    "                perday['hourly_%d_%d_%d' % (i+1, c, y)] = perday['hourly_%d_%d' % (c, y)][i*24*7:24*7*(i+1)]\n",
    "                wind_speed['hourly_%d_%d_%d' % (i+1, c, y)] = wind_speed['hourly_%d_%d' % (c, y)][i*24*7:24*7*(i+1)]\n",
    "                \n",
    "            else:\n",
    "                perday['hourly_%d_%d_%d' % (i+1, c, y)] = perday['hourly_%d_%d' % (c, y)][i*24*7:]\n",
    "                wind_speed['hourly_%d_%d_%d' % (i+1, c, y)] = wind_speed['hourly_%d_%d' % (c, y)][i*24*7:]\n",
    "\n",
    "            weeklyMean['%d_%d_%d' % (i+1, c, y)].append(wind_speed['hourly_%d_%d_%d' % (i+1, c, y)].mean())\n",
    "            weeklySTD['%d_%d_%d' % (i+1, c, y)].append(wind_speed['hourly_%d_%d_%d' % (i+1, c, y)].std())"
   ]
  },
  {
   "cell_type": "code",
   "execution_count": 249,
   "metadata": {
    "collapsed": true
   },
   "outputs": [],
   "source": [
    "#create arrays with missing elements deleted\n",
    "#dont forget that you converted to knots\n",
    "for y in YEAR:\n",
    "    for m in range(1,13):\n",
    "        for i in range(1,5):\n",
    "            w = wind_speed['hourly_%d_%d_%d' % (i,m,y)]\n",
    "\n",
    "            igood = np.where(w >= 0.)[0]\n",
    "\n",
    "            ws = np.empty(len(igood))\n",
    "            ws_good['hourly_%d_%d_%d' % (i,m,y)] = w[igood]*1.94384"
   ]
  },
  {
   "cell_type": "code",
   "execution_count": 80,
   "metadata": {
    "collapsed": true
   },
   "outputs": [],
   "source": [
    "#plot weekly for whole year\n",
    "for y in YEAR[1:]:\n",
    "    \n",
    "    weekAvg = np.empty(0)\n",
    "    \n",
    "    if y == 2008:\n",
    "        start = 6 \n",
    "    else:\n",
    "        start = 1\n",
    "    \n",
    "    for c in range(start, 13):\n",
    "        for i in range(4): \n",
    "            weekAvg = np.hstack([weekAvg, weeklyMean['%d_%d_%d' % (i+1, c, y)]])\n",
    "    \n",
    "    numWeeks = np.arange(start, start + len(weekAvg))\n",
    "    plt.plot(numWeeks, weekAvg, 'b-', linewidth = 2)\n",
    "    plt.title('%d Weekly Mean' % y)\n",
    "    plt.xlabel('week')\n",
    "    plt.ylabel('wind speed (m/s)')\n",
    "    plt.savefig('../meteorology/plots/%d/%d_weekly_mean.png' % (y, y))\n",
    "    #plt.show()\n",
    "    plt.close('all')"
   ]
  },
  {
   "cell_type": "code",
   "execution_count": 60,
   "metadata": {
    "collapsed": true
   },
   "outputs": [],
   "source": [
    "#c = 7\n",
    "#week = 1\n",
    "for c in range(1,13):\n",
    "    if c < 7:\n",
    "        year = YEAR[1:]\n",
    "    else:\n",
    "        year = YEAR\n",
    "        \n",
    "    for week in range(1,5):\n",
    "        mean = []\n",
    "        sig = []\n",
    "        p = []\n",
    "        for y in year:\n",
    "            if y == 2013 and c == 7 and (week == 3 or week == 4):\n",
    "                mean.append(-99)\n",
    "                sig.append(-99)\n",
    "                p.append(-99)\n",
    "            elif y == 2013 and c == 8 and (week == 1 or week == 2 or week == 3):\n",
    "                mean.append(-99)\n",
    "                sig.append(-99)\n",
    "                p.append(-99)\n",
    "            else:\n",
    "                mean.append(weeklyMean['%d_%d_%d' % (week, c, y)][0])\n",
    "                sig.append(weeklySTD['%d_%d_%d' % (week, c, y)][0])\n",
    "                p.append(peak['%d_%d_%d' % (week, c, y)])\n",
    "\n",
    "        mean = ma.masked_equal(mean, -99)\n",
    "        sig = ma.masked_equal(sig, -99)\n",
    "        p = ma.masked_equal(p, -99)\n",
    "        \n",
    "        plt.plot(year, mean, linewidth = 2)\n",
    "        plt.xlabel('year')\n",
    "        plt.ylabel('wind speed (m/s)')\n",
    "        plt.title('%s week %d mean wind speed for %d-2015' % (month[c-1], week, year[0]))\n",
    "        plt.savefig('../meteorology/plots/year_to_year_comparisons/%s/week%d/%s_week%d_%d-2015_weekly_mean.png' % (month[c-1].lower(), week, month[c-1].lower(), week, year[0]))\n",
    "        #plt.show()\n",
    "        plt.close('all')\n",
    "\n",
    "        plt.plot(year, sig, linewidth = 2)\n",
    "        plt.xlabel('year')\n",
    "        plt.ylabel('wind speed (m/s)')\n",
    "        plt.title('%s week %d wind speed standard deviation for %d-2015' % (month[c-1], week, year[0]))\n",
    "        plt.savefig('../meteorology/plots/year_to_year_comparisons/%s/week%d/%s_week%d_%d-2015_weekly_std.png' % (month[c-1].lower(), week, month[c-1].lower(), week, year[0]))\n",
    "        #plt.show()\n",
    "        plt.close('all')\n",
    "        \n",
    "        plt.plot(year, p, linewidth = 2)\n",
    "        plt.xlabel('year')\n",
    "        plt.ylabel('wind speed (m/s)')\n",
    "        plt.title('%s week %d most frequent wind speed for %d-2015' % (month[c-1], week, year[0]))\n",
    "        plt.savefig('../meteorology/plots/year_to_year_comparisons/%s/week%d/%s_week%d_%d-2015_most_frequent.png' % (month[c-1].lower(), week, month[c-1].lower(), week, year[0]))\n",
    "        #plt.show()\n",
    "        plt.close('all')\n",
    "        "
   ]
  },
  {
   "cell_type": "code",
   "execution_count": null,
   "metadata": {
    "collapsed": true
   },
   "outputs": [],
   "source": [
    "#find max, mean, and std wind speed each day (in each month of each year)\n",
    "#for average and std can use hourly average, for max should use minute by minute"
   ]
  },
  {
   "cell_type": "code",
   "execution_count": 38,
   "metadata": {
    "collapsed": true
   },
   "outputs": [],
   "source": [
    "\n",
    "minute = dict()\n",
    "minuteSP = dict()\n",
    "minuteH = dict()"
   ]
  },
  {
   "cell_type": "code",
   "execution_count": 39,
   "metadata": {
    "collapsed": true
   },
   "outputs": [],
   "source": [
    "#method 1\n",
    "#time = dict()\n",
    "for y in YEAR:\n",
    "        \n",
    "    if y == 2008:\n",
    "        start = 6 \n",
    "    else:\n",
    "        start = 1\n",
    "        \n",
    "    for j in range(start, 13):\n",
    "        if j < 10:\n",
    "            M = '0%d' % j\n",
    "        elif j >= 10:\n",
    "            M = '%d' % j\n",
    "        file1 =  '../meteorology/data/summit/%d/minutes/met_sum_insitu_1_obop_minute_%d_%s.txt' % (y, y, M)\n",
    "        #fileSP = '../meteorology/data/SP/%d/minutes/met_spo_insitu_1_obop_minute_%d_%s.txt' % (y, y, M)\n",
    "        #fileH =  '../meteorology/data/Hawaii/%d/minutes/met_mlo_insitu_1_obop_minute_%d_%s.txt' % (y, y, M)\n",
    "        \n",
    "        results = []\n",
    "        with open(file1) as inputfile:\n",
    "            for line in inputfile:\n",
    "                results.append(line.strip().split())\n",
    "\n",
    "        direction = []\n",
    "        speed = []\n",
    "        temp = []\n",
    "        d = []\n",
    "        dSP = []\n",
    "        dH = []\n",
    "        h = []\n",
    "        hSP = []\n",
    "        hH = []\n",
    "        m = []\n",
    "        mSP = []\n",
    "        mH = []\n",
    "        #times = []\n",
    "\n",
    "        for i in range(len(results)):\n",
    "            direction.append(float(results[i][6]))\n",
    "            speed.append(float(results[i][7]))\n",
    "            temp.append(float(results[i][10]))\n",
    "            d.append(float(results[i][3]))\n",
    "            h.append(float(results[i][4]))\n",
    "            m.append(float(results[i][5]))\n",
    "            \n",
    "\n",
    "\n",
    "        #wind_dir['minute_%d_%d' % (j,y)] = np.asarray(direction)\n",
    "        #wind_speed['minute_%d_%d' % (j,y)] = np.asarray(speed)\n",
    "        temperature['minute_%d_%d' % (j,y)] = np.asarray(temp)\n",
    "\n",
    "        day['minute_%d_%d' % (j,y)] = np.asarray(d)\n",
    "        hour['minute_%d_%d' % (j,y)] = np.asarray(h)\n",
    "        minute['minute_%d_%d' % (j,y)] = np.asarray(m)\n",
    "        '''\n",
    "        #time['hourly_%d' % y] = np.arange(1., 13., 12./len(wind_speed['hourly_%d' % y]))\n",
    "        resultsSP = []\n",
    "        with open(fileSP) as inputfile:\n",
    "            for line in inputfile:\n",
    "                resultsSP.append(line.strip().split())\n",
    "\n",
    "        resultsH = []\n",
    "        with open(fileH) as inputfile:\n",
    "            for line in inputfile:\n",
    "                resultsH.append(line.strip().split())\n",
    "\n",
    "        speedSP = []\n",
    "        speedH = []\n",
    "\n",
    "        for i in range(len(resultsSP)):\n",
    "            speedSP.append(float(resultsSP[i][7]))\n",
    "            dSP.append(float(resultsSP[i][3]))\n",
    "            hSP.append(float(resultsSP[i][4]))\n",
    "            mSP.append(float(resultsSP[i][5]))\n",
    "        for i in range(len(resultsH)):\n",
    "            speedH.append(float(resultsH[i][7]))\n",
    "            dH.append(float(resultsH[i][3]))\n",
    "            hH.append(float(resultsH[i][4]))\n",
    "            mH.append(float(resultsH[i][5]))\n",
    "\n",
    "        wind_speedSP['minute_%d_%d' % (j,y)] = np.asarray(speedSP)\n",
    "        wind_speedH['minute_%d_%d' % (j,y)] = np.asarray(speedH)\n",
    "\n",
    "        daySP['minute_%d_%d' % (j,y)] = np.asarray(dSP)\n",
    "        hourSP['minute_%d_%d' % (j,y)] = np.asarray(hSP)\n",
    "        minuteSP['minute_%d_%d' % (j,y)] = np.asarray(mSP)\n",
    "        \n",
    "        dayH['minute_%d_%d' % (j,y)] = np.asarray(dH)\n",
    "        hourH['minute_%d_%d' % (j,y)] = np.asarray(hH)\n",
    "        minuteH['minute_%d_%d' % (j,y)] = np.asarray(mH)\n",
    "        \n",
    "        '''"
   ]
  },
  {
   "cell_type": "code",
   "execution_count": 40,
   "metadata": {
    "collapsed": true
   },
   "outputs": [],
   "source": [
    "\n",
    "for y in YEAR:\n",
    "    if y == 2008:\n",
    "        start = 6 \n",
    "    else:\n",
    "        start = 1\n",
    "    for c in range(start,13):\n",
    "        #wind_speed['minute_%d_%d' % (c, y)] = ma.masked_equal(wind_speed['minute_%d_%d' % (c, y)], -99.9)\n",
    "        temperature['minute_%d_%d' % (c, y)] = ma.masked_equal(temperature['minute_%d_%d' % (c, y)], -999.9)\n",
    "        #wind_speedSP['minute_%d_%d' % (c, y)] = ma.masked_equal(wind_speedSP['minute_%d_%d' % (c, y)], -99.9)\n",
    "        #wind_speedSP['minute_%d_%d' % (c, y)] = ma.masked_equal(wind_speedSP['minute_%d_%d' % (c, y)], -999.9)\n",
    "        #wind_speedH['minute_%d_%d' % (c, y)] = ma.masked_equal(wind_speedH['minute_%d_%d' % (c, y)], -999.9)\n",
    "        #wind_dir['minute_%d_%d' % (c, y)] = ma.masked_equal(wind_dir['minute_%d_%d' % (c, y)], -999.)"
   ]
  },
  {
   "cell_type": "code",
   "execution_count": 41,
   "metadata": {
    "collapsed": true
   },
   "outputs": [],
   "source": [
    "temp = dict()"
   ]
  },
  {
   "cell_type": "code",
   "execution_count": 42,
   "metadata": {
    "collapsed": true
   },
   "outputs": [],
   "source": [
    "for y in YEAR:\n",
    "    for m in range(1,13):\n",
    "        #print(y, m)\n",
    "        #for i in range(len(temperature['minute_%d_%d' % (c, y)])):\n",
    "        #temperature['minute_%d_%d' % (c, y)][:] = temperature['minute_%d_%d' % (c, y)]* 9. / 5. + 32.\n",
    "        temp['minute_%d_%d' % (m, y)] = temperature['minute_%d_%d' % (m, y)]* 9. / 5. + 32.\n",
    "        #temperature['minute_%d_%d' % (c, y)] = t"
   ]
  },
  {
   "cell_type": "code",
   "execution_count": 43,
   "metadata": {
    "collapsed": false
   },
   "outputs": [
    {
     "name": "stdout",
     "output_type": "stream",
     "text": [
      "-46.2\n",
      "-51.16\n"
     ]
    }
   ],
   "source": [
    "print(temperature['minute_%d_%d' % (3, 2015)][0])\n",
    "print(temp['minute_%d_%d' % (3, 2015)][0])"
   ]
  },
  {
   "cell_type": "code",
   "execution_count": 44,
   "metadata": {
    "collapsed": false
   },
   "outputs": [
    {
     "ename": "KeyError",
     "evalue": "'minute_1_2009'",
     "output_type": "error",
     "traceback": [
      "\u001b[1;31m---------------------------------------------------------------------------\u001b[0m",
      "\u001b[1;31mKeyError\u001b[0m                                  Traceback (most recent call last)",
      "\u001b[1;32m<ipython-input-44-1396e4c1bb51>\u001b[0m in \u001b[0;36m<module>\u001b[1;34m()\u001b[0m\n\u001b[0;32m      7\u001b[0m     \u001b[1;32mfor\u001b[0m \u001b[0mc\u001b[0m \u001b[1;32min\u001b[0m \u001b[0mrange\u001b[0m\u001b[1;33m(\u001b[0m\u001b[1;36m1\u001b[0m\u001b[1;33m,\u001b[0m \u001b[1;36m13\u001b[0m\u001b[1;33m)\u001b[0m\u001b[1;33m:\u001b[0m\u001b[1;33m\u001b[0m\u001b[0m\n\u001b[0;32m      8\u001b[0m         \u001b[0mnewDay\u001b[0m \u001b[1;33m=\u001b[0m \u001b[1;33m[\u001b[0m\u001b[1;33m]\u001b[0m\u001b[1;33m\u001b[0m\u001b[0m\n\u001b[1;32m----> 9\u001b[1;33m         \u001b[1;32mfor\u001b[0m \u001b[0mi\u001b[0m \u001b[1;32min\u001b[0m \u001b[0mrange\u001b[0m\u001b[1;33m(\u001b[0m\u001b[0mlen\u001b[0m\u001b[1;33m(\u001b[0m\u001b[0mwind_speed\u001b[0m\u001b[1;33m[\u001b[0m\u001b[1;34m'minute_%d_%d'\u001b[0m \u001b[1;33m%\u001b[0m \u001b[1;33m(\u001b[0m\u001b[0mc\u001b[0m\u001b[1;33m,\u001b[0m \u001b[0my\u001b[0m\u001b[1;33m)\u001b[0m\u001b[1;33m]\u001b[0m\u001b[1;33m)\u001b[0m\u001b[1;33m)\u001b[0m\u001b[1;33m:\u001b[0m\u001b[1;33m\u001b[0m\u001b[0m\n\u001b[0m\u001b[0;32m     10\u001b[0m             \u001b[1;32mif\u001b[0m \u001b[0mi\u001b[0m \u001b[1;33m>\u001b[0m \u001b[1;36m0\u001b[0m \u001b[1;32mand\u001b[0m \u001b[0mday\u001b[0m\u001b[1;33m[\u001b[0m\u001b[1;34m'minute_%d_%d'\u001b[0m \u001b[1;33m%\u001b[0m \u001b[1;33m(\u001b[0m\u001b[0mc\u001b[0m\u001b[1;33m,\u001b[0m\u001b[0my\u001b[0m\u001b[1;33m)\u001b[0m\u001b[1;33m]\u001b[0m\u001b[1;33m[\u001b[0m\u001b[0mi\u001b[0m\u001b[1;33m]\u001b[0m \u001b[1;33m!=\u001b[0m \u001b[0mday\u001b[0m\u001b[1;33m[\u001b[0m\u001b[1;34m'minute_%d_%d'\u001b[0m \u001b[1;33m%\u001b[0m \u001b[1;33m(\u001b[0m\u001b[0mc\u001b[0m\u001b[1;33m,\u001b[0m\u001b[0my\u001b[0m\u001b[1;33m)\u001b[0m\u001b[1;33m]\u001b[0m\u001b[1;33m[\u001b[0m\u001b[0mi\u001b[0m\u001b[1;33m-\u001b[0m\u001b[1;36m1\u001b[0m\u001b[1;33m]\u001b[0m\u001b[1;33m:\u001b[0m\u001b[1;33m\u001b[0m\u001b[0m\n\u001b[0;32m     11\u001b[0m                 \u001b[0mnewDay\u001b[0m\u001b[1;33m.\u001b[0m\u001b[0mappend\u001b[0m\u001b[1;33m(\u001b[0m\u001b[0mi\u001b[0m\u001b[1;33m)\u001b[0m\u001b[1;33m\u001b[0m\u001b[0m\n",
      "\u001b[1;31mKeyError\u001b[0m: 'minute_1_2009'"
     ]
    }
   ],
   "source": [
    "#find daily max speed for each month\n",
    "dailyMax = defaultdict(list)\n",
    "dailyMax_y = defaultdict(list)\n",
    "\n",
    "for y in YEAR:\n",
    "    dailyMax_y['%d' % y] = np.empty(0)\n",
    "    for c in range(1, 13):\n",
    "        newDay = []\n",
    "        for i in range(len(wind_speed['minute_%d_%d' % (c, y)])):\n",
    "            if i > 0 and day['minute_%d_%d' % (c,y)][i] != day['minute_%d_%d' % (c,y)][i-1]:\n",
    "                newDay.append(i)\n",
    "\n",
    "        for d in range(len(newDay)):\n",
    "            if d == 0:\n",
    "                dailyMax['%d_%d' % (c, y)].append(wind_speed['minute_%d_%d' % (c, y)][0:newDay[d]].max())\n",
    "            else:\n",
    "                dailyMax['%d_%d' % (c, y)].append(wind_speed['minute_%d_%d' % (c, y)][newDay[d-1]:newDay[d]].max())\n",
    "\n",
    "        dailyMax['%d_%d' % (c, y)].append(wind_speed['minute_%d_%d' % (c, y)][newDay[-1]:].max())\n",
    "        dailyMax_y['%d' % y] = np.hstack([dailyMax_y['%d' % y], dailyMax['%d_%d' % (c, y)]])"
   ]
  },
  {
   "cell_type": "code",
   "execution_count": 45,
   "metadata": {
    "collapsed": true
   },
   "outputs": [],
   "source": [
    "#find daily min speed for each month\n",
    "dailyMin = defaultdict(list)\n",
    "#dailyMax_y = defaultdict(list)\n",
    "\n",
    "for y in YEAR:\n",
    "    #dailyMax_y['%d' % y] = np.empty(0)\n",
    "    for c in range(1, 13):\n",
    "        newDay = []\n",
    "        for i in range(len(temp['minute_%d_%d' % (c, y)])):\n",
    "            if i > 0 and day['minute_%d_%d' % (c,y)][i] != day['minute_%d_%d' % (c,y)][i-1]:\n",
    "                newDay.append(i)\n",
    "\n",
    "        for d in range(len(newDay)):\n",
    "            if d == 0:\n",
    "                dailyMin['%d_%d' % (c, y)].append(temp['minute_%d_%d' % (c, y)][0:newDay[d]].min())\n",
    "            else:\n",
    "                dailyMin['%d_%d' % (c, y)].append(temp['minute_%d_%d' % (c, y)][newDay[d-1]:newDay[d]].min())\n",
    "\n",
    "        dailyMin['%d_%d' % (c, y)].append(temp['minute_%d_%d' % (c, y)][newDay[-1]:].min())\n",
    "        #dailyMax_y['%d' % y] = np.hstack([dailyMax_y['%d' % y], dailyMax['%d_%d' % (c, y)]])"
   ]
  },
  {
   "cell_type": "code",
   "execution_count": 113,
   "metadata": {
    "collapsed": true
   },
   "outputs": [],
   "source": [
    "#find daily max speed for each month\n",
    "dailyMaxSP = defaultdict(list)\n",
    "dailyMaxSP_y = defaultdict(list)\n",
    "\n",
    "for y in YEAR:\n",
    "    dailyMaxSP_y['%d' % y] = np.empty(0)\n",
    "    for c in range(1, 13):\n",
    "        newDay = []\n",
    "        for i in range(len(wind_speedSP['minute_%d_%d' % (c, y)])):\n",
    "            if i > 0 and daySP['minute_%d_%d' % (c,y)][i] != daySP['minute_%d_%d' % (c,y)][i-1]:\n",
    "                newDay.append(i)\n",
    "\n",
    "        for d in range(len(newDay)):\n",
    "            if d == 0:\n",
    "                dailyMaxSP['%d_%d' % (c, y)].append(wind_speedSP['minute_%d_%d' % (c, y)][0:newDay[d]].max())\n",
    "            else:\n",
    "                dailyMaxSP['%d_%d' % (c, y)].append(wind_speedSP['minute_%d_%d' % (c, y)][newDay[d-1]:newDay[d]].max())\n",
    "\n",
    "        dailyMaxSP['%d_%d' % (c, y)].append(wind_speedSP['minute_%d_%d' % (c, y)][newDay[-1]:].max())\n",
    "        dailyMaxSP_y['%d' % y] = np.hstack([dailyMaxSP_y['%d' % y], dailyMaxSP['%d_%d' % (c, y)]])"
   ]
  },
  {
   "cell_type": "code",
   "execution_count": 143,
   "metadata": {
    "collapsed": false
   },
   "outputs": [
    {
     "name": "stdout",
     "output_type": "stream",
     "text": [
      "[31, 28, 31, 30, 31, 30, 31, 31, 30, 31, 30, 31]\n"
     ]
    }
   ],
   "source": [
    "print numDays"
   ]
  },
  {
   "cell_type": "code",
   "execution_count": 114,
   "metadata": {
    "collapsed": true
   },
   "outputs": [],
   "source": [
    "#find daily max speed for each month\n",
    "dailyMaxH = defaultdict(list)\n",
    "dailyMaxH_y = defaultdict(list)\n",
    "\n",
    "for y in YEAR:\n",
    "    dailyMaxH_y['%d' % y] = np.empty(0)\n",
    "    for c in range(1, 13):\n",
    "        newDay = []\n",
    "        for i in range(len(wind_speedH['minute_%d_%d' % (c, y)])):\n",
    "            if i > 0 and dayH['minute_%d_%d' % (c,y)][i] != dayH['minute_%d_%d' % (c,y)][i-1]:\n",
    "                newDay.append(i)\n",
    "\n",
    "        for d in range(len(newDay)):\n",
    "            if d == 0:\n",
    "                dailyMaxH['%d_%d' % (c, y)].append(wind_speedH['minute_%d_%d' % (c, y)][0:newDay[d]].max())\n",
    "            else:\n",
    "                dailyMaxH['%d_%d' % (c, y)].append(wind_speedH['minute_%d_%d' % (c, y)][newDay[d-1]:newDay[d]].max())\n",
    "\n",
    "        dailyMaxH['%d_%d' % (c, y)].append(wind_speedH['minute_%d_%d' % (c, y)][newDay[-1]:].max())\n",
    "        dailyMaxH_y['%d' % y] = np.hstack([dailyMaxH_y['%d' % y], dailyMaxH['%d_%d' % (c, y)]])"
   ]
  },
  {
   "cell_type": "code",
   "execution_count": 46,
   "metadata": {
    "collapsed": true
   },
   "outputs": [],
   "source": [
    "#plot max speed for each day in each month\n",
    "plt.figure(figsize=(10,5))\n",
    "\n",
    "for c in range(6, 9):\n",
    "    plt.figure(figsize=(10,5))\n",
    "    y = 2015\n",
    "    y2015, = plt.plot(np.arange(len(dailyMin['%d_%d' % (c, y)])), np.asarray(dailyMin['%d_%d' % (c, y)])*scale, 'b-', linewidth = 2)\n",
    "    y = 2014\n",
    "    y2014, = plt.plot(np.arange(len(dailyMin['%d_%d' % (c, y)])), np.asarray(dailyMin['%d_%d' % (c, y)])*scale, 'r-', linewidth = 2)\n",
    "    y = 2013\n",
    "    y2013, = plt.plot(np.arange(len(dailyMin['%d_%d' % (c, y)])), np.asarray(dailyMin['%d_%d' % (c, y)])*scale, 'g-', linewidth = 2)\n",
    "    y = 2012\n",
    "    y2012, = plt.plot(np.arange(len(dailyMin['%d_%d' % (c, y)])), np.asarray(dailyMin['%d_%d' % (c, y)])*scale, 'y-', linewidth = 2)\n",
    "\n",
    "    plt.legend([y2015, y2014, y2013, y2012], ['2015', '2014', '2013', '2012'], loc = 'upper right')\n",
    "\n",
    "    plt.title('%s Daily Temperature Minimum' % month[c-1])\n",
    "    plt.xlabel('Day')\n",
    "    plt.ylabel('degrees (Fahrenheit)')\n",
    "    plt.ylim([-40,30])\n",
    "    #plt.show()\n",
    "    plt.savefig('../meteorology/plots/year_to_year_comparisons/%s/%s_2012-2015_daily_temperature_min.png' % \n",
    "                (month[c-1].lower(), month[c-1].lower()))\n",
    "    plt.close('all')"
   ]
  },
  {
   "cell_type": "code",
   "execution_count": 116,
   "metadata": {
    "collapsed": true
   },
   "outputs": [],
   "source": [
    "#plot daily max speed for each day in whole year\n",
    "for y in YEAR:\n",
    "    \n",
    "    dayMax = np.empty(0)\n",
    "    \n",
    "    if y == 2008:\n",
    "        start = 6 \n",
    "    else:\n",
    "        start = 1\n",
    "    \n",
    "    for c in range(start, 13):\n",
    "        dayMax = np.hstack([dayMax, dailyMax['%d_%d' % (c, y)]])\n",
    "    dailyMax['year_%d' % y] = dayMax"
   ]
  },
  {
   "cell_type": "code",
   "execution_count": 118,
   "metadata": {
    "collapsed": true
   },
   "outputs": [],
   "source": [
    "plt.figure(figsize=(15,5))\n",
    "y = 2015\n",
    "y2015, = plt.plot(np.arange(len(dailyMax['year_%d' % y])), dailyMax['year_%d' % y]*scale, 'b-', linewidth = 1)\n",
    "y = 2014\n",
    "y2014, = plt.plot(np.arange(len(dailyMax['year_%d' % y])), dailyMax['year_%d' % y]*scale, 'r-', linewidth = 1)\n",
    "y = 2013\n",
    "y2013, = plt.plot(np.arange(len(dailyMax['year_%d' % y])), dailyMax['year_%d' % y]*scale, 'g-', linewidth = 1)\n",
    "y = 2012\n",
    "y2012, = plt.plot(np.arange(len(dailyMax['year_%d' % y])), dailyMax['year_%d' % y]*scale, 'y-', linewidth = 1)\n",
    "\n",
    "plt.legend([y2015, y2014, y2013, y2012], ['2012', '2011', '2010', '2009'], loc = 'upper right')\n",
    "#plt.legend([y2013, y2012], ['2010', '2009'], loc = 'upper right')\n",
    "\n",
    "plt.title('2012-2015 Daily Wind Speed Maximum')\n",
    "plt.xlabel('Day')\n",
    "plt.ylabel('Max speed (%s)' % units)\n",
    "plt.ylim([0,60])\n",
    "#plt.show()\n",
    "plt.savefig('../meteorology/plots/year_to_year_comparisons/2012-2015_daily_wind_speed_max_%s.png' % sunits)\n",
    "plt.close('all')"
   ]
  },
  {
   "cell_type": "code",
   "execution_count": null,
   "metadata": {
    "collapsed": true
   },
   "outputs": [],
   "source": []
  }
 ],
 "metadata": {
  "kernelspec": {
   "display_name": "Python 3",
   "language": "python",
   "name": "python3"
  },
  "language_info": {
   "codemirror_mode": {
    "name": "ipython",
    "version": 3
   },
   "file_extension": ".py",
   "mimetype": "text/x-python",
   "name": "python",
   "nbconvert_exporter": "python",
   "pygments_lexer": "ipython3",
   "version": "3.5.2"
  }
 },
 "nbformat": 4,
 "nbformat_minor": 1
}
