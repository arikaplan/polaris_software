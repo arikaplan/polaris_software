{
 "cells": [
  {
   "cell_type": "code",
   "execution_count": 1,
   "metadata": {
    "collapsed": false
   },
   "outputs": [
    {
     "name": "stdout",
     "output_type": "stream",
     "text": [
      "Using matplotlib backend: Qt4Agg\n",
      "Populating the interactive namespace from numpy and matplotlib\n"
     ]
    },
    {
     "name": "stderr",
     "output_type": "stream",
     "text": [
      "WARNING: pylab import has clobbered these variables: ['Widget', 'Text', 'Button']\n",
      "`%matplotlib` prevents importing * from pylab and numpy\n"
     ]
    }
   ],
   "source": [
    "import sys\n",
    "import os\n",
    "sys.path.append('E:\\\\software_git_repos\\\\cofe-python-analysis-tools\\\\utils_meinhold')\n",
    "sys.path.append('../../cofe-python-analysis-tools/utils_meinhold')\n",
    "sys.path.append('E:\\\\software_git_repos\\\\cofe-python-analysis-tools\\\\utils_zonca')\n",
    "sys.path.append('../../cofe-python-analysis-tools/utils_zonca')\n",
    "#sys.path.append('D:\\\\software_git_repos\\\\cofe-python-analysis-tools\\\\utils_zonca\\\\pointing')\n",
    "sys.path.append('../../cofe-python-analysis-tools/utils_zonca/pointing')\n",
    "#sys.path.append('D:\\\\software_git_repos\\\\greenpol')\n",
    "sys.path.append('../')\n",
    "#sys.path.append('D:\\\\software_git_repos\\\\greenpol\\\\telescope_control\\\\')\n",
    "sys.path.append('../telescope_control')\n",
    "#sys.path.append('D:\\\\software_git_repos\\\\greenpol\\\\telescope_control\\\\VtoT\\\\')\n",
    "sys.path.append('../VtoT')\n",
    "import convert\n",
    "import cofe_util as cu\n",
    "import realtime_gp as rt\n",
    "import numpy as np\n",
    "import datetime \n",
    "import h5py\n",
    "#import pandas as pd\n",
    "#from pointingtools import compute_parallactic_angle, altaz2ha \n",
    "#from planets import getlocation, getpointing\n",
    "import warnings\n",
    "#from astropy.coordinates import AltAz, Angle, EarthLocation, ICRS, SkyCoord, frame_transform_graph\n",
    "#from astropy import units as u\n",
    "#import ephem\n",
    "import matplotlib.pyplot as plt\n",
    "import time\n",
    "#import planets\n",
    "from datetime import timedelta\n",
    "#import numpy.ma as ma\n",
    "\n",
    "\n",
    "import Tkinter,tkFileDialog\n",
    "\n",
    "from Tkinter import *\n",
    "import ttk\n",
    "\n",
    "import pickle\n",
    "import glob\n",
    "\n",
    "import cPickle\n",
    "\n",
    "from scipy.optimize import curve_fit\n",
    "\n",
    "%pylab"
   ]
  },
  {
   "cell_type": "code",
   "execution_count": 2,
   "metadata": {
    "collapsed": true
   },
   "outputs": [],
   "source": [
    "def read_some_data(datadict,datatype='demod', filelist=None):\n",
    "\n",
    "    if filelist==None:\n",
    "        root=Tkinter.Tk()\n",
    "        if datatype=='demod':\n",
    "            filelist = list(tkFileDialog.askopenfilenames(\\\n",
    "            initialdir='E://software_git_repos/Polaris/polaris_data/demod_data/',parent=root,title='Choose a set of files'))\n",
    "        if datatype=='raw':\n",
    "            filelist = list(tkFileDialog.askopenfilenames(\\\n",
    "            initialdir='E://software_git_repos/Polaris/polaris_data/data/',parent=root,title='Choose a set of files'))            \n",
    "        root.destroy()\n",
    "    filelist.sort()\n",
    "    \n",
    "    if datatype=='demod':\n",
    "        dlist=[]\n",
    "        for f in filelist:\n",
    "            hf=h5py.File(f)\n",
    "            dlist.append(hf['demod_data'])\n",
    "        d=concatenate(dlist)\n",
    "        hf.close() \n",
    "        \n",
    "    if datatype=='raw':\n",
    "        d=rt.demod.read_raw(filelist)\n",
    "    \n",
    "    return d, filelist"
   ]
  },
  {
   "cell_type": "code",
   "execution_count": 3,
   "metadata": {
    "collapsed": true
   },
   "outputs": [],
   "source": [
    "def get_file_times(fld):\n",
    "    startfile = fld[0][:65]+fld[0][71:-2]+'dat'\n",
    "    endfile = fld[-1][:65]+fld[-1][71:-2]+'dat'\n",
    "    \n",
    "    #starttime = os.path.getctime(startfile)\n",
    "    starttime= os.stat(startfile).st_mtime\n",
    "    starttime = datetime.datetime.fromtimestamp(starttime)\n",
    "\n",
    "    #endtime = os.path.getctime(endfile)\n",
    "    endtime= os.stat(endfile).st_mtime\n",
    "    endtime = datetime.datetime.fromtimestamp(endtime)\n",
    "    \n",
    "    return starttime, endtime"
   ]
  },
  {
   "cell_type": "code",
   "execution_count": 4,
   "metadata": {
    "collapsed": true
   },
   "outputs": [],
   "source": [
    "def plot_toi_dict(toi_dict,chanlist=['H1HiAC'],componentlist=['T'],datalist=None, kperv=[1]):\n",
    "    #function to give a choice of preloaded datasets from dictionary data_dict\n",
    "    figure()\n",
    "    if datalist==None:\n",
    "        datalist=toi_dict.keys()\n",
    "    if len(componentlist)==1:  # if componentlist is a single value, assume same thing for all chans\n",
    "        c=componentlist[0]\n",
    "        componentlist=[c for n in chanlist]\n",
    "    #set up the color sequence for the plot\n",
    "    nlines=len(datalist)*len(chanlist)\n",
    "    colormap = cm.gist_ncar\n",
    "    gca().set_color_cycle([colormap(i) for i in np.linspace(0, 0.9, nlines)])\n",
    "    titletxt=[]\n",
    "    count = 0\n",
    "    for dname in datalist:\n",
    "        samprate=1000./(toi_dict[dname]['rev'][1]-toi_dict[dname]['rev'][0])\n",
    "        titletxt.append(dname)\n",
    "        for channame,component in zip(chanlist,componentlist):\n",
    "            try:\n",
    "                toi=toi_dict[dname][rt.nametochan(channame)][component] #if it's demod data so a dict\n",
    "                print dname + channame + ' mean value: ', toi.mean()\n",
    "                t=toi_dict[dname]['azi'][0]+arange(len(toi))/samprate\n",
    "                if len(kperv)==1 and kperv[0]==1.0:\n",
    "                    plot(t,toi*kperv[count],label=dname+ '  '+channame+' '+component,lw=2)\n",
    "                else:\n",
    "                    plot(t,toi*kperv[count],label=dname+ '  '+channame+' '+component+' gain= '+str(kperv[count]),lw=2)\n",
    "                if (count+1) < len(kperv):\n",
    "                    count += 1\n",
    "            except:\n",
    "                toi=toi_dict[dname][rt.nametochan(channame)].flatten()#if it's raw data so not a dict\n",
    "                print dname + ' ' + channame + ' mean value: ', toi.mean()\n",
    "                t=toi_dict[dname]['azi'][0]+arange(len(toi))/(256.*samprate)\n",
    "                if len(kperv)==1 and kperv[0]==1.0:\n",
    "                    plot(t,toi*kperv[count],label=dname+ '  '+channame+' '+component,lw=2)\n",
    "                else:\n",
    "                    plot(t,toi*kperv[count],label=dname+ '  '+channame+' '+component+' gain= '+str(kperv[count]),lw=2) \n",
    "                if (count+1) < len(kperv):\n",
    "                    count += 1\n",
    "                \n",
    "    title(titletxt)\n",
    "    legend()\n",
    "    xlabel('Time [S]')\n",
    "    if len(kperv) == 1 and kperv[0] == 1:\n",
    "        ylabel('Output [v]')\n",
    "    else:\n",
    "        ylabel('Output [T]')"
   ]
  },
  {
   "cell_type": "code",
   "execution_count": 5,
   "metadata": {
    "collapsed": false
   },
   "outputs": [],
   "source": [
    "def plotrawnow(ddict, chan, fld, rstep=50,supply_index=False):\n",
    "    \"\"\"\n",
    "    function to automatically read last science file plot raw data vs encoder\n",
    "    yrmoday should be a string '20130502' fpath should point to the \n",
    "    directory where acq_tel and converter.py were run\n",
    "    rstep determines how many revolutions to skip between plotted revolutions\n",
    "    \"\"\"\n",
    "    #fld=glob.glob(fpath+'data/'+yrmoday+'/*.dat')\n",
    "    #fld.sort()\n",
    "    print fld[-1]\n",
    "    stats=os.stat(fld[-1])\n",
    "    if stats.st_size == 10752000:\n",
    "        dr=ddict#demod.read_raw([fld[-1]],supply_index=supply_index)\n",
    "        for i in range(0,np.int(np.shape(dr[chan]))[0],rstep):\n",
    "            plt.plot(dr[chan][i,:],label='rev '+str(i))\n",
    "        plt.xlabel('encoder position')\n",
    "        plt.ylabel('Signal V')\n",
    "        plt.title(chan+' Raw data, every '+str(rstep) + ' revs, file: '+fld[-1])\n",
    "        plt.legend()\n",
    "        plt.grid()\n",
    "        plt.show()\n",
    "    return dr"
   ]
  },
  {
   "cell_type": "code",
   "execution_count": 6,
   "metadata": {
    "collapsed": true
   },
   "outputs": [],
   "source": [
    "ddict = {}"
   ]
  },
  {
   "cell_type": "code",
   "execution_count": 7,
   "metadata": {
    "collapsed": false
   },
   "outputs": [
    {
     "name": "stdout",
     "output_type": "stream",
     "text": [
      "1000\n",
      "16\n"
     ]
    }
   ],
   "source": [
    "dd, fld = read_some_data(ddict, datatype='raw')"
   ]
  },
  {
   "cell_type": "code",
   "execution_count": null,
   "metadata": {
    "collapsed": true
   },
   "outputs": [],
   "source": []
  },
  {
   "cell_type": "code",
   "execution_count": 14,
   "metadata": {
    "collapsed": false
   },
   "outputs": [
    {
     "data": {
      "text/plain": [
       "'ch0'"
      ]
     },
     "execution_count": 14,
     "metadata": {},
     "output_type": "execute_result"
    }
   ],
   "source": [
    "name = 'H1HiAC'\n",
    "chan = rt.nametochan(name)\n",
    "chan"
   ]
  },
  {
   "cell_type": "code",
   "execution_count": 10,
   "metadata": {
    "collapsed": false
   },
   "outputs": [
    {
     "name": "stdout",
     "output_type": "stream",
     "text": [
      "998\n"
     ]
    }
   ],
   "source": [
    "print np.int(np.shape(dd[chan])[0])"
   ]
  },
  {
   "cell_type": "code",
   "execution_count": 19,
   "metadata": {
    "collapsed": false
   },
   "outputs": [],
   "source": [
    "stats=os.stat(fld[-1])\n",
    "rstep = 50\n",
    "i=0\n",
    "gain = -4.11\n",
    "if stats.st_size == 10752000:\n",
    "    dr=dd#demod.read_raw([fld[-1]],supply_index=supply_index)\n",
    "    #for i in range(0,np.int(np.shape(dr[chan])[0]),rstep):\n",
    "    plt.plot(dr[chan][i,:]*gain,label='rev '+str(i))\n",
    "    plt.xlabel('encoder position')\n",
    "    plt.ylabel('Signal K')\n",
    "    #plt.title(name+' Raw data, every '+str(rstep) + ' revs, file: '+fld[-1])\n",
    "    #plt.title(name+' Raw data, every '+str(rstep) + ' revs, file: '+fld[-1])\n",
    "    #plt.legend()\n",
    "    plt.grid()\n",
    "    plt.show()\n",
    "else:\n",
    "    print 'bad file'"
   ]
  },
  {
   "cell_type": "code",
   "execution_count": 16,
   "metadata": {
    "collapsed": false
   },
   "outputs": [],
   "source": [
    "data = dd[chan].flatten()"
   ]
  },
  {
   "cell_type": "code",
   "execution_count": 17,
   "metadata": {
    "collapsed": false
   },
   "outputs": [
    {
     "data": {
      "text/plain": [
       "[<matplotlib.lines.Line2D at 0x13144198>]"
      ]
     },
     "execution_count": 17,
     "metadata": {},
     "output_type": "execute_result"
    }
   ],
   "source": [
    "plt.figure()\n",
    "plt.plot(data)"
   ]
  },
  {
   "cell_type": "code",
   "execution_count": null,
   "metadata": {
    "collapsed": true
   },
   "outputs": [],
   "source": []
  }
 ],
 "metadata": {
  "kernelspec": {
   "display_name": "Python 2",
   "language": "python",
   "name": "python2"
  },
  "language_info": {
   "codemirror_mode": {
    "name": "ipython",
    "version": 2
   },
   "file_extension": ".py",
   "mimetype": "text/x-python",
   "name": "python",
   "nbconvert_exporter": "python",
   "pygments_lexer": "ipython2",
   "version": "2.7.11"
  }
 },
 "nbformat": 4,
 "nbformat_minor": 2
}
