{
 "cells": [
  {
   "cell_type": "code",
   "execution_count": 7,
   "metadata": {
    "collapsed": false
   },
   "outputs": [
    {
     "name": "stdout",
     "output_type": "stream",
     "text": [
      "Using matplotlib backend: Qt4Agg\n",
      "Populating the interactive namespace from numpy and matplotlib\n"
     ]
    },
    {
     "name": "stderr",
     "output_type": "stream",
     "text": [
      "WARNING: pylab import has clobbered these variables: ['Widget', 'Text', 'Button', 'datetime', 'var']\n",
      "`%matplotlib` prevents importing * from pylab and numpy\n"
     ]
    }
   ],
   "source": [
    "import sys\n",
    "import os\n",
    "#sys.path.append('D:\\\\software_git_repos\\\\cofe-python-analysis-tools\\\\utils_meinhold')\n",
    "sys.path.append('../../cofe-python-analysis-tools/utils_meinhold')\n",
    "#sys.path.append('D:\\\\software_git_repos\\\\cofe-python-analysis-tools\\\\utils_zonca')\n",
    "sys.path.append('../../cofe-python-analysis-tools/utils_zonca')\n",
    "#sys.path.append('D:\\\\software_git_repos\\\\cofe-python-analysis-tools\\\\utils_zonca\\\\pointing')\n",
    "sys.path.append('../../cofe-python-analysis-tools/utils_zonca/pointing')\n",
    "#sys.path.append('D:\\\\software_git_repos\\\\greenpol')\n",
    "sys.path.append('../')\n",
    "#sys.path.append('D:\\\\software_git_repos\\\\greenpol\\\\telescope_control\\\\')\n",
    "sys.path.append('../telescope_control')\n",
    "#sys.path.append('D:\\\\software_git_repos\\\\greenpol\\\\telescope_control\\\\VtoT\\\\')\n",
    "sys.path.append('../telescope_control/VtoT')\n",
    "import realtime_gp as rt\n",
    "import numpy as np\n",
    "import datetime \n",
    "import h5py\n",
    "import pandas as pd\n",
    "from pointingtools import compute_parallactic_angle, altaz2ha \n",
    "from planets import getlocation\n",
    "import warnings\n",
    "from astropy.coordinates import AltAz, Angle, EarthLocation, ICRS, SkyCoord, frame_transform_graph\n",
    "from astropy import units as u\n",
    "import ephem\n",
    "import matplotlib.pyplot as plt\n",
    "import time\n",
    "from datetime import datetime\n",
    "\n",
    "import Tkinter,tkFileDialog\n",
    "\n",
    "from Tkinter import *\n",
    "import ttk\n",
    "\n",
    "import pickle\n",
    "import glob\n",
    "\n",
    "import cPickle\n",
    "\n",
    "%pylab"
   ]
  },
  {
   "cell_type": "code",
   "execution_count": 8,
   "metadata": {
    "collapsed": true
   },
   "outputs": [],
   "source": [
    "def get_pointing_files(filelist=None):\n",
    "\n",
    "    if filelist==None:\n",
    "        root=Tkinter.Tk()\n",
    "        filelist = list(tkFileDialog.askopenfilenames(\\\n",
    "        initialdir='D://software_git_repos/greenpol/telescope_control/data_aquisition/pointing_data/',parent=root,title='Choose a set of files'))\n",
    "        root.destroy()\n",
    "    filelist.sort()\n",
    "    \n",
    "    return filelist"
   ]
  },
  {
   "cell_type": "code",
   "execution_count": 9,
   "metadata": {
    "collapsed": true
   },
   "outputs": [],
   "source": [
    "def read_some_data(filelist=None):\n",
    "\n",
    "    if filelist==None:\n",
    "        root=Tkinter.Tk()\n",
    "        filelist = list(tkFileDialog.askopenfilenames(\\\n",
    "        initialdir='D://software_git_repos/greenpol/telescope_control/data_aquisition/demod_data/',parent=root,title='Choose a set of files'))\n",
    "        root.destroy()\n",
    "    filelist.sort()\n",
    "    \n",
    "    dlist=[]\n",
    "    for f in filelist:\n",
    "        hf=h5py.File(f)\n",
    "        dlist.append(hf['demod_data'])\n",
    "    d=np.concatenate(dlist)\n",
    "    hf.close() \n",
    "\n",
    "    datadict=d\n",
    "        \n",
    "    return datadict, filelist"
   ]
  },
  {
   "cell_type": "code",
   "execution_count": 10,
   "metadata": {
    "collapsed": true
   },
   "outputs": [],
   "source": [
    "def get_file_times(fld):\n",
    "    startfile = fld[0][:65]+fld[0][71:-2]+'dat'\n",
    "    endfile = fld[-1][:65]+fld[-1][71:-2]+'dat'\n",
    "    \n",
    "    #starttime = os.path.getctime(startfile)\n",
    "    starttime= os.stat(startfile).st_mtime\n",
    "    starttime = datetime.datetime.fromtimestamp(starttime)\n",
    "\n",
    "    #endtime = os.path.getctime(endfile)\n",
    "    endtime= os.stat(endfile).st_mtime\n",
    "    endtime = datetime.datetime.fromtimestamp(endtime)\n",
    "    \n",
    "    return starttime, endtime"
   ]
  },
  {
   "cell_type": "code",
   "execution_count": 11,
   "metadata": {
    "collapsed": true
   },
   "outputs": [],
   "source": [
    "def fileStruct(n_array, chan, starttime, endtime):\n",
    "\n",
    "    fpath = \"D:/software_git_repos/greenpol/telescope_control/data_aquisition/level1\"\n",
    "    os.chdir(fpath)\n",
    "    yrmoday = starttime.strftime('%Y%m%d')\n",
    "    path = '-'.join((starttime.strftime('%H_%M_%S'), endtime.strftime('%H_%M_%S')))\n",
    "    path = '-'.join((chan, path))\n",
    "    print 'start time: ', starttime\n",
    "    print 'end time: ', endtime\n",
    "    print 'elapsed time: ', (endtime - starttime).total_seconds(), 'sec'\n",
    "    if not os.path.exists(yrmoday):#this is the first file being created for that time\n",
    "        os.makedirs(yrmoday)\n",
    "        #set index to 0\n",
    "\n",
    "    path = '/'.join((yrmoday,path))\n",
    "    path = '.'.join((path,\"h5\"))\n",
    "    with h5py.File(str(path).replace(\"pkl\",\"h5\"), mode=\"w\") as f:\n",
    "        f.create_dataset(\"data\", data=n_array.to_records(index=False))"
   ]
  },
  {
   "cell_type": "code",
   "execution_count": 12,
   "metadata": {
    "collapsed": true
   },
   "outputs": [],
   "source": [
    "def round_fraction(number, res):\n",
    "    amount = int(number/res)*res\n",
    "    remainder = number - amount\n",
    "    return amount if remainder < res/2. else amount+res"
   ]
  },
  {
   "cell_type": "code",
   "execution_count": 13,
   "metadata": {
    "collapsed": true
   },
   "outputs": [],
   "source": [
    "def convert_gpstime(starttime, gpstime, ltoffset=0, bits_to_ms=2**24, format='seconds', ttype = 'utc', singletime=False):\n",
    "\n",
    "    #function to convert gpstime to UTC time or local time\n",
    "\n",
    "    #universal time day\n",
    "    ltoffset = ltoffset*60*60\n",
    "    utcday = starttime + datetime.timedelta(0, ltoffset)\n",
    "\n",
    "    #days since last sunday\n",
    "    idx = (utcday.weekday() + 1) % 7\n",
    "\n",
    "    #date of previous sunday in universal coord\n",
    "    sunday = utcday - datetime.timedelta(idx) \n",
    "\n",
    "    syear = int(str(sunday)[:4])\n",
    "    smonth = int(str(sunday)[5:7])\n",
    "    sday = int(str(sunday)[8:10])\n",
    "    \n",
    "    sunday = datetime.datetime(syear, smonth, sday, 0, 0, 0)\n",
    "\n",
    "    #seconds since last sunday\n",
    "    sundaysec = (utcday - sunday).total_seconds()\n",
    "\n",
    "    #convert to seconds\n",
    "    bits_to_sec = bits_to_ms/1000\n",
    "    \n",
    "    #number of wraps so far\n",
    "    numwraps = int(sundaysec/bits_to_sec)\n",
    "    \n",
    "    #time of last wrap\n",
    "    gpsstarttime = sunday + datetime.timedelta(0, numwraps*bits_to_sec)\n",
    "    \n",
    "    #convert gps starttime to timestamp\n",
    "    #gpsstarttime = (gpsstarttime-datetime.datetime(1970,1,1)).total_seconds()\n",
    "    gpsstarttime = time.mktime(gpsstarttime.timetuple())\n",
    "    \n",
    "    if singletime == False:\n",
    "        #find all wrap points in current data set\n",
    "        gpsdiff = np.diff(gpstime)\n",
    "        iwrap = np.where(gpsdiff < -2**24/1000/2)[0]\n",
    "        #iwrap = np.where(abs(gpsdiff) > 2**24/1000/2)[0]\n",
    "\n",
    "        #unwrap gpstime\n",
    "        for w in iwrap:\n",
    "            gpstime[w+1:] = gpstime[w+1:] + gpstime[w]\n",
    "\n",
    "    if ttype == 'utc':\n",
    "        ltoffset = 0\n",
    "    #gpstime gives seconds since starting point\n",
    "    dtime = gpsstarttime + gpstime - ltoffset\n",
    "\n",
    "        \n",
    "    if format == 'datetime':\n",
    "        if singletime == False:\n",
    "            t = []\n",
    "            for i in range(len(dtime)):\n",
    "                t.append(datetime.datetime.fromtimestamp(dtime[i]))\n",
    "        else:\n",
    "            t = datetime.datetime.fromtimestamp(dtime)\n",
    "        \n",
    "        return t, dtime\n",
    "    \n",
    "    else:\n",
    "        return dtime\n",
    "\n",
    "    '''\n",
    "    dtime = []\n",
    "     \n",
    "    for i in range(len(gpstime)):\n",
    "    #for i in range(0,1):\n",
    "        \n",
    "        if i>0:\n",
    "            if abs(gpstime[i] - gpstime[i-1]) > 2**24/1000/2:\n",
    "                print 'it got here'\n",
    "                gpstime[i:] = gpstime[i:] + gpstime[i-1]\n",
    "                \n",
    "        #gpstime gives seconds since starting point\n",
    "        t = gpsstarttime + datetime.timedelta(0,gpstime[i]) - datetime.timedelta(0, ltoffset)\n",
    "\n",
    "        if format == 'seconds':\n",
    "            timestamp = (t-datetime.datetime(1970,1,1)).total_seconds()\n",
    "            dtime.append(timestamp)\n",
    "        else:\n",
    "            dtime.append(t)\n",
    "          \n",
    "    return dtime\n",
    "    '''"
   ]
  },
  {
   "cell_type": "code",
   "execution_count": 14,
   "metadata": {
    "collapsed": true
   },
   "outputs": [],
   "source": [
    "ddict={}"
   ]
  },
  {
   "cell_type": "code",
   "execution_count": 15,
   "metadata": {
    "collapsed": true
   },
   "outputs": [],
   "source": [
    "dd, fld = read_some_data()"
   ]
  },
  {
   "cell_type": "code",
   "execution_count": 16,
   "metadata": {
    "collapsed": true
   },
   "outputs": [],
   "source": [
    "flp = get_pointing_files()\n",
    "pp = rt.get_h5_pointing(flp)"
   ]
  },
  {
   "cell_type": "code",
   "execution_count": 17,
   "metadata": {
    "collapsed": true
   },
   "outputs": [],
   "source": [
    "combined = rt.combine_cofe_h5_pointing(dd,pp)"
   ]
  },
  {
   "cell_type": "code",
   "execution_count": 18,
   "metadata": {
    "collapsed": false
   },
   "outputs": [
    {
     "data": {
      "text/plain": [
       "[<matplotlib.lines.Line2D at 0x3e6b2240>]"
      ]
     },
     "execution_count": 18,
     "metadata": {},
     "output_type": "execute_result"
    }
   ],
   "source": [
    "plot(combined['gpstime'])"
   ]
  },
  {
   "cell_type": "code",
   "execution_count": 19,
   "metadata": {
    "collapsed": false
   },
   "outputs": [
    {
     "name": "stdout",
     "output_type": "stream",
     "text": [
      "2018-08-02 11:46:19.022157\n",
      "2018-08-02 22:58:07.434666\n"
     ]
    }
   ],
   "source": [
    "starttime, endtime = get_file_times(fld)\n",
    "\n",
    "print starttime\n",
    "print endtime"
   ]
  },
  {
   "cell_type": "code",
   "execution_count": 22,
   "metadata": {
    "collapsed": true
   },
   "outputs": [],
   "source": [
    "chan = 'ch0'\n",
    "var = 'Q'\n",
    "LOCATION = 'Greenland'\n",
    "\n",
    "#gain in kelvin per volt\n",
    "changain = {'ch0':-3.58, 'ch4':-9.47, 'ch8':-11.1}"
   ]
  },
  {
   "cell_type": "code",
   "execution_count": 23,
   "metadata": {
    "collapsed": true
   },
   "outputs": [],
   "source": [
    "#offset between local time and utctime in hours\n",
    "ltoffset = 0\n",
    "\n",
    "#seconds since last sunday utc\n",
    "gpstime = dd['rev']/1000#(combined['gpstime'])/1000"
   ]
  },
  {
   "cell_type": "code",
   "execution_count": 24,
   "metadata": {
    "collapsed": false
   },
   "outputs": [
    {
     "name": "stdout",
     "output_type": "stream",
     "text": [
      "file start time:  2018-08-02 11:46:19.022157\n",
      "gps converted start time:  2018-08-02 11:46:23.799000\n",
      "amount off in seconds:  4.776843\n",
      "file end time:  2018-08-02 22:58:07.434666\n",
      "gps converted end time:  2018-08-03 03:38:16.406000\n",
      "amount off in seconds:  16808.971334\n"
     ]
    }
   ],
   "source": [
    "gpstime = dd['rev']/1000#(combined['gpstime'])/1000\n",
    "dtime = convert_gpstime(starttime, gpstime, ltoffset, format = 'datetime', ttype = 'ltc')[0]\n",
    "tdiffe = (dtime[-1] - endtime).total_seconds()\n",
    "tdiffs = (dtime[0] - starttime).total_seconds()\n",
    "print 'file start time: ', starttime\n",
    "print 'gps converted start time: ', dtime[0]\n",
    "print 'amount off in seconds: ', tdiffs\n",
    "print 'file end time: ', endtime\n",
    "print 'gps converted end time: ', dtime[-1]\n",
    "print 'amount off in seconds: ', tdiffe"
   ]
  },
  {
   "cell_type": "code",
   "execution_count": 76,
   "metadata": {
    "collapsed": false
   },
   "outputs": [
    {
     "ename": "AttributeError",
     "evalue": "'module' object has no attribute 'utcnow'",
     "output_type": "error",
     "traceback": [
      "\u001b[1;31m---------------------------------------------------------------------------\u001b[0m",
      "\u001b[1;31mAttributeError\u001b[0m                            Traceback (most recent call last)",
      "\u001b[1;32m<ipython-input-76-1ef7a20e21b9>\u001b[0m in \u001b[0;36m<module>\u001b[1;34m()\u001b[0m\n\u001b[1;32m----> 1\u001b[1;33m \u001b[1;32mprint\u001b[0m \u001b[0mdatetime\u001b[0m\u001b[1;33m.\u001b[0m\u001b[0mutcnow\u001b[0m\u001b[1;33m(\u001b[0m\u001b[1;33m)\u001b[0m\u001b[1;33m\u001b[0m\u001b[0m\n\u001b[0m",
      "\u001b[1;31mAttributeError\u001b[0m: 'module' object has no attribute 'utcnow'"
     ]
    }
   ],
   "source": [
    "print datetime.utcnow()"
   ]
  },
  {
   "cell_type": "code",
   "execution_count": 77,
   "metadata": {
    "collapsed": true
   },
   "outputs": [],
   "source": [
    "gpstime = dd['rev']/1000#(combined['gpstime'])/1000\n",
    "dtime, utime = convert_gpstime(starttime, gpstime, ltoffset, format = 'datetime')"
   ]
  },
  {
   "cell_type": "code",
   "execution_count": 78,
   "metadata": {
    "collapsed": false
   },
   "outputs": [
    {
     "name": "stdout",
     "output_type": "stream",
     "text": [
      "1.92500019073\n",
      "92.9619998932\n"
     ]
    }
   ],
   "source": [
    "AZ = combined['az']\n",
    "EL = combined['el'] \n",
    "\n",
    "location = getlocation(LOCATION)\n",
    "\n",
    "t1 = time.time()\n",
    "#create ra dec sky object\n",
    "azel = SkyCoord(az = AZ, alt = EL, obstime = dtime, location = location, frame = 'altaz', unit='deg')\n",
    "t2 = time.time()\n",
    "print t2-t1\n",
    "with warnings.catch_warnings():\n",
    "    warnings.simplefilter(\"ignore\")\n",
    "    #convert from ra dec to az/el for pointing\n",
    "    radec = azel.icrs\n",
    "print time.time()-t2\n",
    "ra = radec.ra.rad\n",
    "dec = radec.dec.rad"
   ]
  },
  {
   "cell_type": "code",
   "execution_count": 79,
   "metadata": {
    "collapsed": true
   },
   "outputs": [],
   "source": [
    "AZ = np.radians(AZ)\n",
    "EL = np.radians(EL)"
   ]
  },
  {
   "cell_type": "code",
   "execution_count": 80,
   "metadata": {
    "collapsed": true
   },
   "outputs": [],
   "source": [
    "lat = location.latitude.rad\n",
    "ha = altaz2ha(EL, AZ, lat)\n",
    "psi = compute_parallactic_angle(ha, lat, dec)"
   ]
  },
  {
   "cell_type": "code",
   "execution_count": 81,
   "metadata": {
    "collapsed": true
   },
   "outputs": [],
   "source": [
    "#need to figure out units on TIME in andreas test file"
   ]
  },
  {
   "cell_type": "code",
   "execution_count": 82,
   "metadata": {
    "collapsed": true
   },
   "outputs": [],
   "source": [
    "#h5data=pd.DataFrame({\"THETA\" : np.pi/2 - THETA })\n",
    "h5data=pd.DataFrame({\"TIME\" : utime}) \n",
    "h5data[\"PHI\"] = ra\n",
    "h5data[\"THETA\"] = np.pi/2 - dec\n",
    "h5data[\"PSI\"] = psi\n",
    "h5data[\"FLAG\"] = np.zeros(len(dtime)) \n",
    "h5data[\"TEMP\"] = combined['sci_data'][chan]['T']*changain[chan]\n",
    "h5data[\"Q\"] = combined['sci_data'][chan]['Q']*changain[chan]\n",
    "h5data[\"U\"] = combined['sci_data'][chan]['U']*changain[chan]"
   ]
  },
  {
   "cell_type": "code",
   "execution_count": 83,
   "metadata": {
    "collapsed": false
   },
   "outputs": [
    {
     "name": "stdout",
     "output_type": "stream",
     "text": [
      "start time:  2018-08-02 13:09:02.854072\n",
      "end time:  2018-08-02 16:10:13.371830\n",
      "elapsed time:  10870.517758 sec\n"
     ]
    }
   ],
   "source": [
    "fileStruct(h5data, chan, starttime, endtime)"
   ]
  },
  {
   "cell_type": "code",
   "execution_count": 51,
   "metadata": {
    "collapsed": false
   },
   "outputs": [
    {
     "data": {
      "text/plain": [
       "[<matplotlib.lines.Line2D at 0x13646630>]"
      ]
     },
     "execution_count": 51,
     "metadata": {},
     "output_type": "execute_result"
    }
   ],
   "source": [
    "figure()\n",
    "plot(AZ)"
   ]
  },
  {
   "cell_type": "code",
   "execution_count": 5,
   "metadata": {
    "collapsed": false
   },
   "outputs": [
    {
     "ename": "NameError",
     "evalue": "name 'combined' is not defined",
     "output_type": "error",
     "traceback": [
      "\u001b[1;31m---------------------------------------------------------------------------\u001b[0m",
      "\u001b[1;31mNameError\u001b[0m                                 Traceback (most recent call last)",
      "\u001b[1;32m<ipython-input-5-a55605359b9f>\u001b[0m in \u001b[0;36m<module>\u001b[1;34m()\u001b[0m\n\u001b[0;32m      1\u001b[0m \u001b[0mchan\u001b[0m \u001b[1;33m=\u001b[0m \u001b[1;34m'H1HiAC'\u001b[0m\u001b[1;33m\u001b[0m\u001b[0m\n\u001b[0;32m      2\u001b[0m \u001b[0mvar\u001b[0m \u001b[1;33m=\u001b[0m \u001b[1;34m'Q'\u001b[0m\u001b[1;33m\u001b[0m\u001b[0m\n\u001b[1;32m----> 3\u001b[1;33m \u001b[0mdata\u001b[0m \u001b[1;33m=\u001b[0m \u001b[0mcombined\u001b[0m\u001b[1;33m[\u001b[0m\u001b[1;34m'sci_data'\u001b[0m\u001b[1;33m]\u001b[0m\u001b[1;33m[\u001b[0m\u001b[0mchan\u001b[0m\u001b[1;33m]\u001b[0m\u001b[1;33m[\u001b[0m\u001b[0mvar\u001b[0m\u001b[1;33m]\u001b[0m\u001b[1;33m*\u001b[0m\u001b[0mchangain\u001b[0m\u001b[1;33m[\u001b[0m\u001b[0mchan\u001b[0m\u001b[1;33m]\u001b[0m\u001b[1;33m\u001b[0m\u001b[0m\n\u001b[0m\u001b[0;32m      4\u001b[0m \u001b[0mplotnow_azelsig\u001b[0m\u001b[1;33m(\u001b[0m\u001b[0mdata\u001b[0m\u001b[1;33m,\u001b[0m \u001b[0mnp\u001b[0m\u001b[1;33m.\u001b[0m\u001b[0mdegrees\u001b[0m\u001b[1;33m(\u001b[0m\u001b[0mra\u001b[0m\u001b[1;33m)\u001b[0m\u001b[1;33m,\u001b[0m \u001b[0mnp\u001b[0m\u001b[1;33m.\u001b[0m\u001b[0mdegrees\u001b[0m\u001b[1;33m(\u001b[0m\u001b[0mdec\u001b[0m\u001b[1;33m)\u001b[0m\u001b[1;33m,\u001b[0m \u001b[0mrt\u001b[0m\u001b[1;33m.\u001b[0m\u001b[0mnametochan\u001b[0m\u001b[1;33m(\u001b[0m\u001b[0mchan\u001b[0m\u001b[1;33m)\u001b[0m\u001b[1;33m,\u001b[0m \u001b[0mvar\u001b[0m\u001b[1;33m,\u001b[0m \u001b[0mres\u001b[0m\u001b[1;33m=\u001b[0m\u001b[1;36m1.0\u001b[0m\u001b[1;33m,\u001b[0m \u001b[0mminmax\u001b[0m \u001b[1;33m=\u001b[0m \u001b[1;33m[\u001b[0m\u001b[0mdata\u001b[0m\u001b[1;33m.\u001b[0m\u001b[0mmin\u001b[0m\u001b[1;33m(\u001b[0m\u001b[1;33m)\u001b[0m\u001b[1;33m/\u001b[0m\u001b[1;36m5.\u001b[0m\u001b[1;33m,\u001b[0m \u001b[0mdata\u001b[0m\u001b[1;33m.\u001b[0m\u001b[0mmax\u001b[0m\u001b[1;33m(\u001b[0m\u001b[1;33m)\u001b[0m\u001b[1;33m/\u001b[0m\u001b[1;36m5.\u001b[0m\u001b[1;33m]\u001b[0m\u001b[1;33m,\u001b[0m \u001b[0mradec\u001b[0m\u001b[1;33m=\u001b[0m\u001b[0mTrue\u001b[0m\u001b[1;33m)\u001b[0m\u001b[1;33m\u001b[0m\u001b[0m\n",
      "\u001b[1;31mNameError\u001b[0m: name 'combined' is not defined"
     ]
    }
   ],
   "source": [
    "chan = 'H1HiAC'\n",
    "var = 'Q'\n",
    "data = combined['sci_data'][chan][var]*changain[chan]\n",
    "plotnow_azelsig(data, np.degrees(ra), np.degrees(dec), rt.nametochan(chan), var, res=1.0, minmax = [data.min()/5., data.max()/5.], radec=True)"
   ]
  },
  {
   "cell_type": "code",
   "execution_count": 64,
   "metadata": {
    "collapsed": true
   },
   "outputs": [],
   "source": [
    "def plotnow_azelsig(data, az, el, chan, var, res, minmax=None, radec=False, supply_index=False):\n",
    "    #flp=select_h5(fpath,yrmoday,st_hour,st_minute,ed_hour,ed_minute)\n",
    "    #fld_demod, fld =select_dat(fpath,yrmoday,st_hour,st_minute,ed_hour,ed_minute)\n",
    "    #i=0\n",
    "    #while len(flp)<3:\n",
    "    #\ti+=1\n",
    "    #\tflp=select_h5(fpath,yrmoday,st_hour,int(st_minute)-i,ed_hour,int(ed_minute)+i)\n",
    "\n",
    "    #pp=get_h5_pointing(flp)\n",
    "    ##dd=get_demodulated_data_from_list(fld,supply_index=supply_index)\n",
    "    #dd=get_all_demodulated_data(fld_demod, fld)\t\n",
    "    #combined=combine_cofe_h5_pointing(dd,pp)\n",
    "\n",
    "    #synchronized data az and el values\n",
    "    az1, el1 = az, el\n",
    "    data = data\n",
    "\n",
    "    #convert to temp for cryo sensors\n",
    "    if chan == 12:\n",
    "        data = convert.convert(data, 'i')\n",
    "    if chan == 13:\n",
    "        data = convert.convert(data, 'e')\n",
    "    if chan == 14:\n",
    "        data = convert.convert(data, 'h')\n",
    "    if chan == 15:\n",
    "        data = convert.convert(data, 'l')\n",
    "\n",
    "    steps = len(data)\n",
    "\n",
    "    #set az/el resolution\n",
    "    dx = res\n",
    "    dy = res\n",
    "\n",
    "    #set up bins/grid\n",
    "    x, y = np.arange(0., 360.+dx, dx), np.arange(0., 90. + dy, dy)\n",
    "    AZ, EL = np.meshgrid(x, y)\n",
    "\n",
    "    #small number for comparing floats\n",
    "    epsilon = 1e-6\n",
    "\n",
    "    #set up matrix for signal \n",
    "    z1 = np.zeros(len(x)*len(y))\n",
    "    sig = np.reshape(z1, (len(y), len(x)))\n",
    "\n",
    "    #set up matrix for keeping track of data points in single bin for averaging\n",
    "    z2 = np.zeros(len(x)*len(y))\n",
    "    count = np.reshape(z2, (len(y), len(x)))\n",
    "\n",
    "    for i in range(steps):\n",
    "\n",
    "        #round az/el points for comparison with grid\t    \n",
    "        el1[i] = rt.round_fraction(el1[i], dy)\n",
    "        az1[i] = rt.round_fraction(az1[i], dx)  \n",
    "\n",
    "        #find where data points belong in grid\n",
    "        iel = np.where(abs(y - el1[i]) < epsilon)[0][0]\n",
    "        iaz = np.where(abs(x - az1[i]) < epsilon)[0][0]\n",
    "\n",
    "        #add 1 each time data point lands in same bin\n",
    "        count[iel][iaz] += 1\n",
    "\n",
    "        #add total number of data values in bin\n",
    "        sig[iel][iaz] = sig[iel][iaz] + data[i]  \n",
    "\n",
    "    #mask 0 count values so they dont show up in color plot\n",
    "    count = ma.masked_where(count == 0.0, count)\n",
    "\n",
    "    #take average of all data points in single bin\n",
    "    sig = sig/count\n",
    "\n",
    "    #change units on plot label\n",
    "    if int(chan[2:]) < 12:\n",
    "        unit = 'V'\n",
    "    else:\n",
    "        unit = 'K' \n",
    "\n",
    "    name = rt.chantoname(chan)\n",
    "\n",
    "    plt.pcolormesh(AZ, EL, sig)\n",
    "    plt.colorbar(label = 'Signal, %s' % unit)\n",
    "    if minmax != None:\n",
    "        plt.clim(minmax[0],minmax[1])\n",
    "    else:  \n",
    "        plt.clim(data1.min(),data1.max())\n",
    "    if radec == False:\n",
    "        plt.axis([AZ.min(), AZ.max(), EL.min(), EL.max()])\n",
    "        plt.ylabel('elevation (deg)')\n",
    "        plt.xlabel('azimuth (deg)')\n",
    "    else:\n",
    "        plt.axis([0., 360., -90, 90.])\n",
    "        plt.xlabel('ra (deg)')\n",
    "        plt.ylabel('dec (deg)')\n",
    "    plt.title('%s %s data binned to azimuth and elevation' % (name, var))\n",
    "    plt.grid()\n",
    "    plt.show()"
   ]
  },
  {
   "cell_type": "code",
   "execution_count": 23,
   "metadata": {
    "collapsed": true
   },
   "outputs": [],
   "source": [
    "def plotnow_azrevsig(data, az, chan, var, res = 1.0,supply_index=False):\n",
    "\t#flp=select_h5(fpath,yrmoday,st_hour,st_minute,ed_hour,ed_minute)\n",
    "\t#fld_demod, fld =select_dat(fpath,yrmoday,st_hour,st_minute,ed_hour,ed_minute)\n",
    "\t#i=0\n",
    "\t#while len(flp)<3:\n",
    "\t#\ti+=1\n",
    "\t#\tflp=select_h5(fpath,yrmoday,st_hour,int(st_minute)-i,ed_hour,int(ed_minute)+i)\n",
    "\n",
    "\t#pp=get_h5_pointing(flp)\n",
    "\t#dd=get_demodulated_data_from_list(fld,supply_index=supply_index)\n",
    "\t#dd=get_all_demodulated_data(fld_demod, fld)\n",
    "\t#combined=combine_cofe_h5_pointing(dd,pp)\n",
    "\t\n",
    "\t#synchronized data and az values\n",
    "\taz1 = az\n",
    "\tdata1 = data\n",
    "\tsteps = len(data1)\n",
    "\t\n",
    "\t#convert to temp for cryo sensors\n",
    "\tif chan == 12:\n",
    "\t\tdata1 = convert.convert(data1, 'i')\n",
    "\tif chan == 13:\n",
    "\t\tdata1 = convert.convert(data1, 'e')\n",
    "\tif chan == 14:\n",
    "\t\tdata1 = convert.convert(data1, 'h')\n",
    "\tif chan == 15:\n",
    "\t\tdata1 = convert.convert(data1, 'l')\n",
    "\t\n",
    "\t#resolution\n",
    "\tdx = res\n",
    "\tdy = res\n",
    "\t\n",
    "\t#set up empty lists to append each revolution to\n",
    "\tdata = []\n",
    "\taz = []\n",
    "\tiaz = [0]\n",
    "\trev = 0\n",
    "\t\n",
    "\t#determine indices in azimuth/data array which correspond to a new revolution of the telescope\n",
    "\tfor i in range(steps):\n",
    "\t\t#round values to resolution for comparison later\n",
    "\t\taz1[i] = round_fraction(az1[i], dx)\n",
    "\t\tif i > 0:\n",
    "\t\t\tif abs(az1[i] - az1[i-1]) >= 180.:\n",
    "\t\t\t\tiaz.append(i)\n",
    "\t\t\t\trev += 1\n",
    "\t\n",
    "\t#append each revolution array to a list\t    \n",
    "\tfor j in range(rev):\n",
    "\t\taz.append(az1[iaz[j]:iaz[j+1]])\n",
    "\t\tdata.append(data1[iaz[j]:iaz[j+1]])\n",
    "\t\n",
    "\t#append the last revolution\n",
    "\tdata.append(data1[iaz[-1]:])\n",
    "\taz.append(az1[iaz[-1]:])\n",
    "\trev += 1\n",
    "\n",
    "\tdata = np.asarray(data)\n",
    "\taz = np.asarray(az)\n",
    "\t\n",
    "\t#create grid for plotting\n",
    "\tx, y = np.arange(0., 360.+dx, dx), np.arange(0., rev - 1 + dy, dy)\n",
    "\tAZ, REV = np.meshgrid(x, y)\n",
    "\t\n",
    "\t#set up empty array\n",
    "\tz = np.zeros(len(x)*len(y))\n",
    "\tsig = np.reshape(z, (len(y), len(x)))\n",
    "\t\n",
    "\t#small number for comparing floats\n",
    "\tepsilon = 1e-6\n",
    "\t\n",
    "\t#fill signal array with data points\n",
    "\tfor r in range(rev):\n",
    "\t\tfor a in range(len(x)):\n",
    "\t\t\t#find indices where combined azimuth data fits on x grid\n",
    "\t\t\tidx = np.where(abs(az[r] - x[a]) < epsilon)[0]\n",
    "\t\t\t#if idx length is 0 this will create a mask on that point, in idx len > 1, avg data points in the same bin\n",
    "\t\t\tsig[r][a] = data[r][idx].mean()\n",
    "\t\n",
    "\t#mask invalid values, i.e. where there are no data points\n",
    "\tsig = ma.masked_invalid(sig)\n",
    "\t\t\n",
    "\t#change units on plot label\n",
    "\tif int(chan[2:]) < 12:\n",
    "\t\tunit = 'V'\n",
    "\telse:\n",
    "\t\tunit = 'K' \n",
    "\n",
    "\tname = rt.chantoname(chan)\n",
    "\n",
    "\tplt.pcolormesh(AZ, REV, sig)\n",
    "\tplt.colorbar(label = 'Signal, %s' % unit)\n",
    "\tplt.clim(data1.min(),data1.max())\n",
    "\tplt.axis([0., 360., 0., rev - 1])\n",
    "\tplt.ylabel('revolution #')\n",
    "\tplt.xlabel('azimuth (deg)')\n",
    "\tplt.title('%s %s data binned to azimuth and revolution #' % (name, var))\n",
    "\tplt.grid()\n",
    "\tplt.show()"
   ]
  },
  {
   "cell_type": "code",
   "execution_count": 61,
   "metadata": {
    "collapsed": true
   },
   "outputs": [],
   "source": [
    "def plotnow_azelsig2(data, az, el, chan, var, res, minmax=None, radec=False, supply_index=False):\n",
    "    #flp=select_h5(fpath,yrmoday,st_hour,st_minute,ed_hour,ed_minute)\n",
    "    #fld_demod, fld =select_dat(fpath,yrmoday,st_hour,st_minute,ed_hour,ed_minute)\n",
    "    #i=0\n",
    "    #while len(flp)<3:\n",
    "    #\ti+=1\n",
    "    #\tflp=select_h5(fpath,yrmoday,st_hour,int(st_minute)-i,ed_hour,int(ed_minute)+i)\n",
    "\n",
    "    #pp=get_h5_pointing(flp)\n",
    "    ##dd=get_demodulated_data_from_list(fld,supply_index=supply_index)\n",
    "    #dd=get_all_demodulated_data(fld_demod, fld)\t\n",
    "    #combined=combine_cofe_h5_pointing(dd,pp)\n",
    "\n",
    "    #synchronized data az and el values\n",
    "    az1, el1 = az, el\n",
    "    data = data\n",
    "\n",
    "    #convert to temp for cryo sensors\n",
    "    if chan == 12:\n",
    "        data = convert.convert(data, 'i')\n",
    "    if chan == 13:\n",
    "        data = convert.convert(data, 'e')\n",
    "    if chan == 14:\n",
    "        data = convert.convert(data, 'h')\n",
    "    if chan == 15:\n",
    "        data = convert.convert(data, 'l')\n",
    "\n",
    "    steps = len(data)\n",
    "\n",
    "    #set az/el resolution\n",
    "    dx = res\n",
    "    dy = res\n",
    "\n",
    "    #set up bins/grid\n",
    "    x, y = np.arange(0., 360.+dx, dx), np.arange(0., 90. + dy, dy)\n",
    "    AZ, EL = np.meshgrid(x, y)\n",
    "\n",
    "    #small number for comparing floats\n",
    "    epsilon = 1e-6\n",
    "\n",
    "    #set up matrix for signal \n",
    "    z1 = np.zeros(len(x)*len(y))\n",
    "    sig = np.reshape(z1, (len(y), len(x)))\n",
    "\n",
    "    #set up matrix for keeping track of data points in single bin for averaging\n",
    "    z2 = np.zeros(len(x)*len(y))\n",
    "    count = np.reshape(z2, (len(y), len(x)))\n",
    "\n",
    "    for i in range(steps):\n",
    "\n",
    "        #round az/el points for comparison with grid\t    \n",
    "        el1[i] = rt.round_fraction(el1[i], dy)\n",
    "        az1[i] = rt.round_fraction(az1[i], dx)  \n",
    "\n",
    "        #find where data points belong in grid\n",
    "        iel = np.where(abs(y - el1[i]) < epsilon)[0][0]\n",
    "        iaz = np.where(abs(x - az1[i]) < epsilon)[0][0]\n",
    "\n",
    "        #add 1 each time data point lands in same bin\n",
    "        count[iel][iaz] += 1\n",
    "\n",
    "        #add total number of data values in bin\n",
    "        sig[iel][iaz] = sig[iel][iaz] + data[i]  \n",
    "\n",
    "    #mask 0 count values so they dont show up in color plot\n",
    "    count = ma.masked_where(count == 0.0, count)\n",
    "\n",
    "    #take average of all data points in single bin\n",
    "    sig = sig/count\n",
    "\n",
    "    #change units on plot label\n",
    "    if int(chan[2:]) < 12:\n",
    "        unit = 'V'\n",
    "    else:\n",
    "        unit = 'K' \n",
    "\n",
    "    name = rt.chantoname(chan)\n",
    "\n",
    "    plt.pcolormesh(AZ, EL, sig)\n",
    "    plt.colorbar(label = 'Signal, %s' % unit)\n",
    "    if minmax != None:\n",
    "        plt.clim(minmax[0],minmax[1])\n",
    "    else:  \n",
    "        plt.clim(data1.min(),data1.max())\n",
    "    if radec == False:\n",
    "        plt.axis([AZ.min(), AZ.max(), EL.min(), EL.max()])\n",
    "        plt.ylabel('elevation (deg)')\n",
    "        plt.xlabel('azimuth (deg)')\n",
    "    else:\n",
    "        plt.axis([0., 360., -90, 90.])\n",
    "        plt.xlabel('ra (deg)')\n",
    "        plt.ylabel('dec (deg)')\n",
    "    plt.title('%s %s data binned to azimuth and elevation' % (name, var))\n",
    "    plt.grid()\n",
    "    plt.show()"
   ]
  },
  {
   "cell_type": "code",
   "execution_count": null,
   "metadata": {
    "collapsed": true
   },
   "outputs": [],
   "source": []
  }
 ],
 "metadata": {
  "kernelspec": {
   "display_name": "Python 2",
   "language": "python",
   "name": "python2"
  },
  "language_info": {
   "codemirror_mode": {
    "name": "ipython",
    "version": 2
   },
   "file_extension": ".py",
   "mimetype": "text/x-python",
   "name": "python",
   "nbconvert_exporter": "python",
   "pygments_lexer": "ipython2",
   "version": "2.7.11"
  }
 },
 "nbformat": 4,
 "nbformat_minor": 1
}
