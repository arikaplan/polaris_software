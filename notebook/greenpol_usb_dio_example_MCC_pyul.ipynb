{
 "cells": [
  {
   "cell_type": "code",
   "execution_count": 1,
   "metadata": {},
   "outputs": [],
   "source": [
    "import sys\n",
    "sys.path.append('C:\\\\Users\\\\peter\\\\Documents\\\\Measurement Computing\\\\DAQ\\\\Python')"
   ]
  },
  {
   "cell_type": "code",
   "execution_count": 2,
   "metadata": {},
   "outputs": [],
   "source": [
    "from __future__ import absolute_import, division, print_function\n",
    "\n",
    "from builtins import *  # @UnusedWildImport\n",
    "\n",
    "from mcculw import ul\n",
    "from mcculw.enums import DigitalIODirection\n",
    "from examples.console import util\n",
    "from examples.props.digital import DigitalProps\n",
    "from mcculw.ul import ULError"
   ]
  },
  {
   "cell_type": "code",
   "execution_count": 3,
   "metadata": {},
   "outputs": [
    {
     "name": "stdout",
     "output_type": "stream",
     "text": [
      "Found device: USB-1024LS (148D885)\n",
      "\n"
     ]
    }
   ],
   "source": [
    "#find the digital IO device\n",
    "mmcdig_board_num = 0\n",
    "ul.ignore_instacal()\n",
    "if not util.config_first_detected_device(mmcdig_board_num):\n",
    "        print(\"Could not find device.\")\n",
    "digital_props = DigitalProps(mmcdig_board_num)"
   ]
  },
  {
   "cell_type": "code",
   "execution_count": 4,
   "metadata": {},
   "outputs": [],
   "source": [
    "#configure first byte for output, second byte and third and forth (nibbles) for input\n",
    "porta=digital_props.port_info[0]\n",
    "portb=digital_props.port_info[1]\n",
    "portc=digital_props.port_info[2]\n",
    "portd=digital_props.port_info[3]\n",
    "ul.d_config_port(mmcdig_board_num,porta.type,DigitalIODirection.OUT)\n",
    "ul.d_config_port(mmcdig_board_num,portb.type,DigitalIODirection.IN)\n",
    "ul.d_config_port(mmcdig_board_num,portc.type,DigitalIODirection.IN)\n",
    "ul.d_config_port(mmcdig_board_num,portd.type,DigitalIODirection.IN)\n"
   ]
  },
  {
   "cell_type": "code",
   "execution_count": 5,
   "metadata": {},
   "outputs": [],
   "source": [
    "cal_move_bit=0\n",
    "is_cal_in_bit=8\n",
    "is_cal_out_bit=9\n",
    "move_cal_in=1\n",
    "move_cal_out=0\n"
   ]
  },
  {
   "cell_type": "code",
   "execution_count": 6,
   "metadata": {},
   "outputs": [],
   "source": [
    "def send_cal_in():\n",
    "    #move calibrator into the beam\n",
    "    ul.d_bit_out(mmcdig_board_num,porta.type,cal_move_bit,move_cal_in)"
   ]
  },
  {
   "cell_type": "code",
   "execution_count": 7,
   "metadata": {},
   "outputs": [],
   "source": [
    "def send_cal_out():\n",
    "    #move calibrator into the beam\n",
    "    ul.d_bit_out(mmcdig_board_num,porta.type,cal_move_bit,move_cal_out)"
   ]
  },
  {
   "cell_type": "code",
   "execution_count": 8,
   "metadata": {},
   "outputs": [],
   "source": [
    "def check_cal_in():\n",
    "    #test the cal_in limit switch state\n",
    "    is_cal_in=bool(ul.d_bit_in(mmcdig_board_num,porta.type,is_cal_in_bit))\n",
    "    return(is_cal_in)\n",
    "    "
   ]
  },
  {
   "cell_type": "code",
   "execution_count": 9,
   "metadata": {},
   "outputs": [],
   "source": [
    "def check_cal_out():\n",
    "    #test the cal_in limit switch state\n",
    "    is_cal_out=bool(ul.d_bit_in(mmcdig_board_num,porta.type,is_cal_out_bit))\n",
    "    return(is_cal_out)\n",
    "    "
   ]
  },
  {
   "cell_type": "code",
   "execution_count": null,
   "metadata": {},
   "outputs": [],
   "source": []
  }
 ],
 "metadata": {
  "kernelspec": {
   "display_name": "Python 2",
   "language": "python",
   "name": "python2"
  },
  "language_info": {
   "codemirror_mode": {
    "name": "ipython",
    "version": 2
   },
   "file_extension": ".py",
   "mimetype": "text/x-python",
   "name": "python",
   "nbconvert_exporter": "python",
   "pygments_lexer": "ipython2",
   "version": "2.7.14"
  }
 },
 "nbformat": 4,
 "nbformat_minor": 2
}
