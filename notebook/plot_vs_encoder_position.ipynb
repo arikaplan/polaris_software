{
 "cells": [
  {
   "cell_type": "code",
   "execution_count": 55,
   "metadata": {
    "collapsed": false
   },
   "outputs": [
    {
     "name": "stdout",
     "output_type": "stream",
     "text": [
      "D:\\software_git_repos\\Polaris\\polaris_software\\notebook\n",
      "Using matplotlib backend: Qt4Agg\n",
      "Populating the interactive namespace from numpy and matplotlib\n"
     ]
    },
    {
     "name": "stderr",
     "output_type": "stream",
     "text": [
      "WARNING: pylab import has clobbered these variables: ['Text', 'Button', 'Widget']\n",
      "`%matplotlib` prevents importing * from pylab and numpy\n"
     ]
    }
   ],
   "source": [
    "import sys\n",
    "import os\n",
    "#sys.path.append('D:\\\\software_git_repos\\\\cofe-python-analysis-tools\\\\utils_meinhold')\n",
    "sys.path.append('../utils_meinhold')\n",
    "#sys.path.append('D:\\\\software_git_repos\\\\cofe-python-analysis-tools\\\\utils_zonca')\n",
    "sys.path.append('../utils_zonca/demod')\n",
    "#sys.path.append('D:\\\\software_git_repos\\\\cofe-python-analysis-tools\\\\utils_zonca\\\\pointing')\n",
    "sys.path.append('../utils_zonca/pointing')\n",
    "#sys.path.append('D:\\\\software_git_repos\\\\greenpol')\n",
    "sys.path.append('../')\n",
    "#sys.path.append('D:\\\\software_git_repos\\\\greenpol\\\\telescope_control\\\\')\n",
    "sys.path.append('../telescope_control')\n",
    "#sys.path.append('D:\\\\software_git_repos\\\\greenpol\\\\telescope_control\\\\VtoT\\\\')\n",
    "sys.path.append('../VtoT')\n",
    "print os.getcwd()\n",
    "import convert\n",
    "import realtime_gp as rt\n",
    "import numpy as np\n",
    "import datetime \n",
    "import h5py\n",
    "import pandas as pd\n",
    "#from pointingtools import compute_parallactic_angle, altaz2ha \n",
    "\n",
    "import matplotlib.pyplot as plt\n",
    "import time\n",
    "from datetime import timedelta\n",
    "import numpy.ma as ma\n",
    "\n",
    "import Tkinter,tkFileDialog\n",
    "\n",
    "from Tkinter import *\n",
    "import ttk\n",
    "import demod\n",
    "\n",
    "import logging as l\n",
    "\n",
    "from dtypes import *\n",
    "\n",
    "\n",
    "%pylab\n"
   ]
  },
  {
   "cell_type": "code",
   "execution_count": 2,
   "metadata": {
    "collapsed": true
   },
   "outputs": [],
   "source": [
    "def get_filelist(filelist=None):\n",
    "\n",
    "    if filelist==None:\n",
    "        root=Tkinter.Tk()\n",
    "        filelist = list(tkFileDialog.askopenfilenames(\\\n",
    "        initialdir='D://software_git_repos/polaris/polaris_data/data/',parent=root,title='Choose a set of files'))\n",
    "        root.destroy()\n",
    "    filelist.sort()\n",
    "    \n",
    "   \n",
    "        \n",
    "    return filelist"
   ]
  },
  {
   "cell_type": "code",
   "execution_count": 3,
   "metadata": {
    "collapsed": true
   },
   "outputs": [],
   "source": [
    "def plotrawnow(yrmoday,chan,var,fpath,rstep=50,supply_index=False):\n",
    "\t\"\"\"\n",
    "\tfunction to automatically read last science file plot raw data vs encoder\n",
    "\tyrmoday should be a string '20130502' fpath should point to the \n",
    "\tdirectory where acq_tel and converter.py were run\n",
    "\trstep determines how many revolutions to skip between plotted revolutions\n",
    "\t\"\"\"\n",
    "\tfld=glob.glob(fpath+'data/'+yrmoday+'/*.dat')\n",
    "\tfld.sort()\n",
    "\tstats=os.stat(fld[-1])\n",
    "\tif stats.st_size == 10752000:\n",
    "\t\tdr=demod.read_raw([fld[-1]],supply_index=supply_index)\n",
    "\t\tfor i in range(0,np.shape(dr[chan])[0],rstep):\n",
    "\t\t\tplt.plot(dr[chan][i,:],label='rev '+str(i))\n",
    "\t\tplt.xlabel('encoder position')\n",
    "\t\tplt.ylabel('Signal V')\n",
    "\t\tplt.title(chan+' Raw data, every '+str(rstep) + ' revs, file: '+fld[-1])\n",
    "\t\tplt.legend()\n",
    "\t\tplt.grid()\n",
    "\t\tplt.show()\n",
    "\treturn dr"
   ]
  },
  {
   "cell_type": "code",
   "execution_count": 4,
   "metadata": {
    "collapsed": true
   },
   "outputs": [],
   "source": [
    "def nametochan(name):\n",
    "    #function to convert channel numbers to channel names\n",
    "\n",
    "    #names of each channel\n",
    "    chans = {\n",
    "        'all': 'all',  'H1HiAC':'ch0',  'H1HiDC':'ch1',\n",
    "        'H1LoAC':'ch2' ,  'H1LoDC':'ch3 ', 'H2HiAC':'ch4' ,\n",
    "        'H2HiDC':'ch5' ,  'H2LoAC':'ch6',  'H2LoDC':'ch7',\n",
    "        'H3HiAC':'ch8', 'H3HiDC':'ch9',  'H3LoAC':'ch10',\n",
    "         'H3LoDC':'ch11', 'Backend TSS':'ch12', 'Amplifier': 'ch13',\n",
    "        'Cooler':'ch14', 'Calibrator':'ch15'}\n",
    "\n",
    "    chan = chans[name]\n",
    "\n",
    "    return chan"
   ]
  },
  {
   "cell_type": "code",
   "execution_count": 57,
   "metadata": {
    "collapsed": true
   },
   "outputs": [],
   "source": [
    "def create_revdata(raw_data, volts=True,supply_index=False, printstatements=True):\n",
    "\n",
    "    \"\"\"Deletes invalid revolutions and shapes the array on revolutions\n",
    "    \n",
    "    Parameters\n",
    "    ----------\n",
    "    raw_data : ndarray\n",
    "        input array with dtype dat_dtype\n",
    "\n",
    "    Returns\n",
    "    -------\n",
    "    revdata : ndarray\n",
    "        reshaped output dataset\n",
    "    \"\"\"\n",
    "\n",
    "    # remove partial revolutions at the beginning and end of dataset\n",
    "    d=raw_data.copy()\n",
    "    if supply_index==True:\n",
    "        d['enc']=np.mod(d['enc']+6,4096)\n",
    "    start_of_revs, = np.where(d['enc'] < config['ENC_START_TRIGGER'])\n",
    "    if len(start_of_revs)>0:\n",
    "        d = np.array(d[start_of_revs[0]:start_of_revs[-1]])\n",
    "    d = demod.remove_noise_triggers(d)\n",
    "\n",
    "    if printstatements:\n",
    "        print len(start_of_revs)\n",
    "        print config['ENC_START_TRIGGER']\n",
    "\n",
    "    # remove revolutions with bad number of samples \n",
    "    start_of_revs, = np.where(d['enc'] < config['ENC_START_TRIGGER'])\n",
    "    # add the end of array to compute the length of the last revolution\n",
    "    start_of_revs = np.append(start_of_revs, len(d['enc']))\n",
    "    samples_per_rev = np.diff(start_of_revs)\n",
    "    invalid_revs, = np.where(samples_per_rev != config['SEC_PER_REV'])\n",
    "\n",
    "    if printstatements:\n",
    "        if len(invalid_revs) > 0:\n",
    "            l.warning('Removing invalid revolutions (index from beginning of file): %s' % invalid_revs)\n",
    "        else:\n",
    "            l.info('No invalid revolutions')\n",
    "\n",
    "    # remove the samples of the bad revolutions from the array\n",
    "    #print('dshape',np.shape(d))\n",
    "    for i in invalid_revs[::-1]:\n",
    "\td = np.delete(d, np.s_[start_of_revs[i]:start_of_revs[i+1]])\n",
    "    #print('dshape after cleaning',np.shape(d))\n",
    "\n",
    "\t\n",
    "    #for i in invalid_revs:\n",
    "      #  d = np.delete(d, np.s_[start_of_revs[i]:start_of_revs[i+1]])\n",
    "\n",
    "    out_dtype = rev_dtype if volts else rev_dtype_adu\n",
    "\n",
    "    # create the rev output array\n",
    "    if len(d) == 0:\n",
    "        l.error('NO VALID DATA IN FILE')\n",
    "        data = np.zeros(0, dtype=out_dtype)\n",
    "    else:\n",
    "        data = np.zeros(len(d)/config['SEC_PER_REV'], dtype=out_dtype)\n",
    "        d_rev = d[::config['SEC_PER_REV']]\n",
    "\tif len(d_rev)>len(data):\n",
    "\t\tdata=np.append(data,data[0])\n",
    "        data['rev'] = d_rev['rev0'].astype(np.long) + \\\n",
    "                      d_rev['rev1'].astype(np.long) * 256 + \\\n",
    "                      d_rev['rev2'].astype(np.long) * 256**2\n",
    "        data['azi'] = d_rev['rev0'].astype(np.long)+d_rev['rev1'].astype(np.long)*256\n",
    "        data['enc'] = d['enc']\n",
    "        for ch in channels_labels:\n",
    "            chdata = d[ch].reshape((-1, config['SEC_PER_REV']))\n",
    "            if volts:\n",
    "                data[ch] = utils.adu2volts(chdata)\n",
    "            else:\n",
    "                data[ch] = chdata \n",
    "\n",
    "    return data"
   ]
  },
  {
   "cell_type": "code",
   "execution_count": 58,
   "metadata": {
    "collapsed": false
   },
   "outputs": [],
   "source": [
    "def read_raw(filenames, volts=True,supply_index=False, printstatements = True):\n",
    "    \"\"\"Reads a list of filenames, creates revdata dataset and concatenates them\n",
    "    \n",
    "    Parameters\n",
    "    ----------\n",
    "    filenames : list\n",
    "        list of .dat filenames to read\n",
    "    volts : bool, optional\n",
    "        whether to convert to volts or keep ADU\n",
    "\n",
    "    Returns\n",
    "    -------\n",
    "    revdata : array\n",
    "        reshaped concatenated array\n",
    "    \"\"\"\n",
    "    return np.concatenate(\n",
    "                [create_revdata(demod.open_raw(f), volts,supply_index=supply_index, printstatements=printstatements) for f in filenames]\n",
    "                         )\n"
   ]
  },
  {
   "cell_type": "code",
   "execution_count": 132,
   "metadata": {
    "collapsed": true
   },
   "outputs": [],
   "source": [
    "fld = get_filelist()"
   ]
  },
  {
   "cell_type": "code",
   "execution_count": 81,
   "metadata": {
    "collapsed": true
   },
   "outputs": [],
   "source": [
    "name  = 'H3HiDC'\n",
    "chan = rt.nametochan(name)"
   ]
  },
  {
   "cell_type": "code",
   "execution_count": 77,
   "metadata": {
    "collapsed": false
   },
   "outputs": [
    {
     "name": "stdout",
     "output_type": "stream",
     "text": [
      "57758\n"
     ]
    }
   ],
   "source": [
    "print (dr[0][0])"
   ]
  },
  {
   "cell_type": "code",
   "execution_count": 133,
   "metadata": {
    "collapsed": false
   },
   "outputs": [
    {
     "name": "stdout",
     "output_type": "stream",
     "text": [
      "1001\n",
      "16\n"
     ]
    }
   ],
   "source": [
    "rstep = 50\n",
    "imax = 200#np.shape(dr[chan])[0]\n",
    "fld.sort()\n",
    "stats=os.stat(fld[-1])\n",
    "#if stats.st_size == 10752000:\n",
    "dr=demod.read_raw([fld[-1]],supply_index=False)\n",
    "plt.figure()\n",
    "for i in range(0,imax,rstep):\n",
    "    plt.plot(dr[chan][i,:],label='rev '+str(i))\n",
    "plt.xlabel('encoder position')\n",
    "plt.ylabel('Signal V')\n",
    "plt.title(name+' Raw data, every '+str(rstep) + ' revs')\n",
    "plt.legend()\n",
    "plt.grid()\n",
    "plt.show()"
   ]
  },
  {
   "cell_type": "code",
   "execution_count": 109,
   "metadata": {
    "collapsed": false
   },
   "outputs": [
    {
     "data": {
      "text/plain": [
       "<matplotlib.text.Text at 0x17e229e8>"
      ]
     },
     "execution_count": 109,
     "metadata": {},
     "output_type": "execute_result"
    }
   ],
   "source": [
    "revnum = np.arange(0,np.shape(dr[chan])[0])\n",
    "plt.figure()\n",
    "plt.plot(revnum, dr[chan][:,0])\n",
    "plt.xlabel('rev #')\n",
    "plt.ylabel('signal (V)')\n",
    "plt.title('signal for encoder position 0')"
   ]
  },
  {
   "cell_type": "code",
   "execution_count": 96,
   "metadata": {
    "collapsed": false
   },
   "outputs": [
    {
     "data": {
      "text/plain": [
       "[<matplotlib.lines.Line2D at 0xbf7ac88>]"
      ]
     },
     "execution_count": 96,
     "metadata": {},
     "output_type": "execute_result"
    }
   ],
   "source": [
    "plt.figure()\n",
    "plt.plot(raw_data['enc'])"
   ]
  },
  {
   "cell_type": "code",
   "execution_count": 130,
   "metadata": {
    "collapsed": true
   },
   "outputs": [],
   "source": [
    "fld2 = get_filelist()\n",
    "fld2.sort()"
   ]
  },
  {
   "cell_type": "code",
   "execution_count": 131,
   "metadata": {
    "collapsed": false
   },
   "outputs": [
    {
     "name": "stdout",
     "output_type": "stream",
     "text": [
      "1001\n",
      "16\n",
      "1000\n",
      "16\n"
     ]
    }
   ],
   "source": [
    "rstep = 5\n",
    "fld.sort()\n",
    "fld2.sort()\n",
    "stats=os.stat(fld[-1])\n",
    "#if stats.st_size == 10752000:\n",
    "plt.figure()\n",
    "dr=demod.read_raw([fld[-1]],supply_index=False)\n",
    "dr2=demod.read_raw([fld2[-1]],supply_index=False)\n",
    "#for i in range(0,np.shape(dr[chan])[0],rstep):\n",
    "for i in range(0,5):\n",
    "    plt.plot(dr[chan][i*rstep,:],label='gold up, rev '+str(i*rstep))\n",
    "    plt.plot(dr2[chan][i*rstep,:], '--',label='gold down, rev '+str(i*rstep))\n",
    "plt.xlabel('encoder position')\n",
    "plt.ylabel('Signal V')\n",
    "plt.title(name+' Raw data, every '+str(rstep) + ' revs')\n",
    "plt.legend()\n",
    "plt.grid()\n",
    "plt.show()"
   ]
  },
  {
   "cell_type": "code",
   "execution_count": null,
   "metadata": {
    "collapsed": true
   },
   "outputs": [],
   "source": []
  }
 ],
 "metadata": {
  "kernelspec": {
   "display_name": "Python 2",
   "language": "python",
   "name": "python2"
  },
  "language_info": {
   "codemirror_mode": {
    "name": "ipython",
    "version": 2
   },
   "file_extension": ".py",
   "mimetype": "text/x-python",
   "name": "python",
   "nbconvert_exporter": "python",
   "pygments_lexer": "ipython2",
   "version": "2.7.11"
  }
 },
 "nbformat": 4,
 "nbformat_minor": 0
}
