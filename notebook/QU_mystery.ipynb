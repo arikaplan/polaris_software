{
 "cells": [
  {
   "cell_type": "code",
   "execution_count": 18,
   "metadata": {},
   "outputs": [
    {
     "name": "stdout",
     "output_type": "stream",
     "text": [
      "Using matplotlib backend: Qt5Agg\n",
      "Populating the interactive namespace from numpy and matplotlib\n"
     ]
    },
    {
     "name": "stderr",
     "output_type": "stream",
     "text": [
      "C:\\Users\\labuser\\anaconda3\\envs\\py27\\lib\\site-packages\\IPython\\core\\magics\\pylab.py:161: UserWarning: pylab import has clobbered these variables: ['fmod', 'sinh', 'trunc', 'Text', 'tan', 'gamma', 'cosh', 'radians', 'sin', 'expm1', 'ldexp', 'Button', 'exp', 'datetime', 'frexp', 'ceil', 'copysign', 'Widget', 'degrees', 'cos', 'tanh', 'fabs', 'sqrt', 'hypot', 'log', 'log10', 'log1p', 'floor', 'modf', 'isinf', 'isnan']\n",
      "`%matplotlib` prevents importing * from pylab and numpy\n",
      "  \"\\n`%matplotlib` prevents importing * from pylab and numpy\"\n"
     ]
    }
   ],
   "source": [
    "import sys\n",
    "import os\n",
    "#sys.path.append('D:\\\\software_git_repos\\\\cofe-python-analysis-tools\\\\utils_meinhold')\n",
    "sys.path.append('../utils_meinhold')\n",
    "#sys.path.append('D:\\\\software_git_repos\\\\cofe-python-analysis-tools\\\\utils_zonca')\n",
    "sys.path.append('../utils_zonca')\n",
    "#sys.path.append('D:\\\\software_git_repos\\\\cofe-python-analysis-tools\\\\utils_zonca\\\\pointing')\n",
    "sys.path.append('../utils_zonca/pointing')\n",
    "sys.path.append('../utils_zonca/demod')\n",
    "#sys.path.append('D:\\\\software_git_repos\\\\greenpol')\n",
    "sys.path.append('../')\n",
    "#sys.path.append('D:\\\\software_git_repos\\\\greenpol\\\\telescope_control\\\\')\n",
    "sys.path.append('../telescope_control')\n",
    "#sys.path.append('D:\\\\software_git_repos\\\\greenpol\\\\telescope_control\\\\VtoT\\\\')\n",
    "sys.path.append('../VtoT')\n",
    "import convert\n",
    "import realtime_gp as rt\n",
    "import numpy as np\n",
    "from datetime import datetime\n",
    "import h5py\n",
    "#import pandas as pd\n",
    "#from pointingtools import compute_parallactic_angle, altaz2ha \n",
    "#from planets import getlocation, getpointing\n",
    "import warnings\n",
    "#from astropy.coordinates import AltAz, Angle, EarthLocation, ICRS, SkyCoord, frame_transform_graph\n",
    "#from astropy import units as u\n",
    "#import ephem\n",
    "import matplotlib.pyplot as plt\n",
    "import time\n",
    "#import planets\n",
    "from datetime import timedelta\n",
    "#import numpy.ma as ma\n",
    "import cofe_util as cu\n",
    "\n",
    "import Tkinter,tkFileDialog\n",
    "\n",
    "from Tkinter import *\n",
    "import ttk\n",
    "\n",
    "import pickle\n",
    "import glob\n",
    "\n",
    "import cPickle\n",
    "\n",
    "import utils\n",
    "\n",
    "import datparsing\n",
    "\n",
    "from scipy.optimize import curve_fit\n",
    "\n",
    "#from functions import *\n",
    "\n",
    "from uncertainties import ufloat\n",
    "from uncertainties.umath import *\n",
    "\n",
    "%pylab"
   ]
  },
  {
   "cell_type": "code",
   "execution_count": 19,
   "metadata": {},
   "outputs": [
    {
     "name": "stdout",
     "output_type": "stream",
     "text": [
      "Using matplotlib backend: Qt5Agg\n"
     ]
    }
   ],
   "source": [
    "%matplotlib auto"
   ]
  },
  {
   "cell_type": "code",
   "execution_count": 20,
   "metadata": {},
   "outputs": [],
   "source": [
    "def get_file_times(fld, offset):\n",
    "    startfile = fld[0][:43] + fld[0][49:-2] + 'dat'\n",
    "    endfile = fld[-1][:43] + fld[-1][49:-2] + 'dat'\n",
    "\n",
    "    # starttime = os.path.getctime(startfile)\n",
    "    starttime = os.stat(startfile).st_mtime + offset * 3600\n",
    "    starttime = datetime.datetime.fromtimestamp(starttime)\n",
    "\n",
    "    # endtime = os.path.getctime(endfile)\n",
    "    endtime = os.stat(endfile).st_mtime + offset * 3600\n",
    "    endtime = datetime.datetime.fromtimestamp(endtime)\n",
    "\n",
    "    return starttime, endtime"
   ]
  },
  {
   "cell_type": "code",
   "execution_count": 21,
   "metadata": {},
   "outputs": [],
   "source": [
    "def vary_phase(chan,file_list):\n",
    "#loop over a full range of phase offsets to determine maximum polarization (Q) signal\n",
    "#For horn 2 us ch4 =H2 Hi AC. We find maximum Q signal, even though test had maximum negative Q\n",
    "#because the Temperature calibration will change the sign of the data\n",
    "    qvsphase={}\n",
    "    phases=[]\n",
    "    qmeans=[]\n",
    "    umeans=[]\n",
    "    figure()\n",
    "    for phase_offset in arange(0,65):    \n",
    "        print(phase_offset)\n",
    "        phases.append(phase_offset)\n",
    "        j=rt.get_demodulated_data_from_list(filelist=file_list,phase_offset=phase_offset)\n",
    "        qmeans.append(np.max(j[chan]['Q']))\n",
    "        umeans.append(np.max(j[chan]['U']))\n",
    "        plot(j[chan]['Q'],label='Q '+ str(phase_offset))\n",
    "    legend()\n",
    "    title('Q,U vs phase offset for ' + rt.chantoname(chan))\n",
    "    qvsphase['phases']=phases\n",
    "    qvsphase['qmeans']=qmeans\n",
    "    qvsphase['umeans']=umeans\n",
    "    figure()\n",
    "    plot(qvsphase['phases'],qvsphase['qmeans'],label='Q ' + rt.chantoname(chan))\n",
    "    plot(qvsphase['phases'],qvsphase['umeans'],label='U ' + rt.chantoname(chan))\n",
    "    title('Q,U (volts) vs phase for -Q signal')\n",
    "    xlabel('Phase offset, [encoder counts]')\n",
    "    ylabel('Q (U) [Volts]')\n",
    "    legend()\n",
    "    grid()\n",
    "    return qvsphase"
   ]
  },
  {
   "cell_type": "code",
   "execution_count": 8,
   "metadata": {},
   "outputs": [],
   "source": [
    "dd={}"
   ]
  },
  {
   "cell_type": "code",
   "execution_count": 9,
   "metadata": {},
   "outputs": [],
   "source": [
    "#dfile = ['D:/software_git_repos/polaris/polaris_data/data/20201028/09525700.dat']"
   ]
  },
  {
   "cell_type": "code",
   "execution_count": 6,
   "metadata": {},
   "outputs": [],
   "source": [
    "dfile = ['D:/software_git_repos/polaris/polaris_data/data/20180205/14322500.dat']"
   ]
  },
  {
   "cell_type": "code",
   "execution_count": 7,
   "metadata": {},
   "outputs": [],
   "source": [
    "raw_data = rt.demod.open_raw(dfile[0])\n",
    "#raw_data2 = rt.demod.open_raw(dfile2[0])"
   ]
  },
  {
   "cell_type": "code",
   "execution_count": 8,
   "metadata": {},
   "outputs": [
    {
     "name": "stdout",
     "output_type": "stream",
     "text": [
      "1.00000390628\n"
     ]
    }
   ],
   "source": [
    "print len(raw_data)/255998."
   ]
  },
  {
   "cell_type": "code",
   "execution_count": 9,
   "metadata": {},
   "outputs": [
    {
     "ename": "TypeError",
     "evalue": "Cannot cast array data from dtype([('ch0', '<u2'), ('ch1', '<u2'), ('ch2', '<u2'), ('ch3', '<u2'), ('ch4', '<u2'), ('ch5', '<u2'), ('ch6', '<u2'), ('ch7', '<u2'), ('ch8', '<u2'), ('ch9', '<u2'), ('ch10', '<u2'), ('ch11', '<u2'), ('ch12', '<u2'), ('ch13', '<u2'), ('ch14', '<u2'), ('ch15', '<u2'), ('enc', '<u2'), ('dummy', '<u2'), ('rev0', '<u2'), ('rev1', '<u2'), ('rev2', '<u2')]) to dtype('float64') according to the rule 'unsafe'",
     "output_type": "error",
     "traceback": [
      "\u001b[1;31m---------------------------------------------------------------------------\u001b[0m",
      "\u001b[1;31mTypeError\u001b[0m                                 Traceback (most recent call last)",
      "\u001b[1;32m<ipython-input-9-96c99104223d>\u001b[0m in \u001b[0;36m<module>\u001b[1;34m()\u001b[0m\n\u001b[0;32m      1\u001b[0m \u001b[0mplt\u001b[0m\u001b[1;33m.\u001b[0m\u001b[0mfigure\u001b[0m\u001b[1;33m(\u001b[0m\u001b[1;33m)\u001b[0m\u001b[1;33m\u001b[0m\u001b[0m\n\u001b[1;32m----> 2\u001b[1;33m \u001b[0mplt\u001b[0m\u001b[1;33m.\u001b[0m\u001b[0mplot\u001b[0m\u001b[1;33m(\u001b[0m\u001b[0mraw_data\u001b[0m\u001b[1;33m)\u001b[0m\u001b[1;33m\u001b[0m\u001b[0m\n\u001b[0m",
      "\u001b[1;32mC:\\Users\\labuser\\anaconda3\\envs\\py27\\lib\\site-packages\\matplotlib\\pyplot.pyc\u001b[0m in \u001b[0;36mplot\u001b[1;34m(*args, **kwargs)\u001b[0m\n\u001b[0;32m   3361\u001b[0m                       mplDeprecation)\n\u001b[0;32m   3362\u001b[0m     \u001b[1;32mtry\u001b[0m\u001b[1;33m:\u001b[0m\u001b[1;33m\u001b[0m\u001b[0m\n\u001b[1;32m-> 3363\u001b[1;33m         \u001b[0mret\u001b[0m \u001b[1;33m=\u001b[0m \u001b[0max\u001b[0m\u001b[1;33m.\u001b[0m\u001b[0mplot\u001b[0m\u001b[1;33m(\u001b[0m\u001b[1;33m*\u001b[0m\u001b[0margs\u001b[0m\u001b[1;33m,\u001b[0m \u001b[1;33m**\u001b[0m\u001b[0mkwargs\u001b[0m\u001b[1;33m)\u001b[0m\u001b[1;33m\u001b[0m\u001b[0m\n\u001b[0m\u001b[0;32m   3364\u001b[0m     \u001b[1;32mfinally\u001b[0m\u001b[1;33m:\u001b[0m\u001b[1;33m\u001b[0m\u001b[0m\n\u001b[0;32m   3365\u001b[0m         \u001b[0max\u001b[0m\u001b[1;33m.\u001b[0m\u001b[0m_hold\u001b[0m \u001b[1;33m=\u001b[0m \u001b[0mwashold\u001b[0m\u001b[1;33m\u001b[0m\u001b[0m\n",
      "\u001b[1;32mC:\\Users\\labuser\\anaconda3\\envs\\py27\\lib\\site-packages\\matplotlib\\__init__.pyc\u001b[0m in \u001b[0;36minner\u001b[1;34m(ax, *args, **kwargs)\u001b[0m\n\u001b[0;32m   1865\u001b[0m                         \u001b[1;34m\"the Matplotlib list!)\"\u001b[0m \u001b[1;33m%\u001b[0m \u001b[1;33m(\u001b[0m\u001b[0mlabel_namer\u001b[0m\u001b[1;33m,\u001b[0m \u001b[0mfunc\u001b[0m\u001b[1;33m.\u001b[0m\u001b[0m__name__\u001b[0m\u001b[1;33m)\u001b[0m\u001b[1;33m,\u001b[0m\u001b[1;33m\u001b[0m\u001b[0m\n\u001b[0;32m   1866\u001b[0m                         RuntimeWarning, stacklevel=2)\n\u001b[1;32m-> 1867\u001b[1;33m             \u001b[1;32mreturn\u001b[0m \u001b[0mfunc\u001b[0m\u001b[1;33m(\u001b[0m\u001b[0max\u001b[0m\u001b[1;33m,\u001b[0m \u001b[1;33m*\u001b[0m\u001b[0margs\u001b[0m\u001b[1;33m,\u001b[0m \u001b[1;33m**\u001b[0m\u001b[0mkwargs\u001b[0m\u001b[1;33m)\u001b[0m\u001b[1;33m\u001b[0m\u001b[0m\n\u001b[0m\u001b[0;32m   1868\u001b[0m \u001b[1;33m\u001b[0m\u001b[0m\n\u001b[0;32m   1869\u001b[0m         inner.__doc__ = _add_data_doc(inner.__doc__,\n",
      "\u001b[1;32mC:\\Users\\labuser\\anaconda3\\envs\\py27\\lib\\site-packages\\matplotlib\\axes\\_axes.pyc\u001b[0m in \u001b[0;36mplot\u001b[1;34m(self, *args, **kwargs)\u001b[0m\n\u001b[0;32m   1527\u001b[0m \u001b[1;33m\u001b[0m\u001b[0m\n\u001b[0;32m   1528\u001b[0m         \u001b[1;32mfor\u001b[0m \u001b[0mline\u001b[0m \u001b[1;32min\u001b[0m \u001b[0mself\u001b[0m\u001b[1;33m.\u001b[0m\u001b[0m_get_lines\u001b[0m\u001b[1;33m(\u001b[0m\u001b[1;33m*\u001b[0m\u001b[0margs\u001b[0m\u001b[1;33m,\u001b[0m \u001b[1;33m**\u001b[0m\u001b[0mkwargs\u001b[0m\u001b[1;33m)\u001b[0m\u001b[1;33m:\u001b[0m\u001b[1;33m\u001b[0m\u001b[0m\n\u001b[1;32m-> 1529\u001b[1;33m             \u001b[0mself\u001b[0m\u001b[1;33m.\u001b[0m\u001b[0madd_line\u001b[0m\u001b[1;33m(\u001b[0m\u001b[0mline\u001b[0m\u001b[1;33m)\u001b[0m\u001b[1;33m\u001b[0m\u001b[0m\n\u001b[0m\u001b[0;32m   1530\u001b[0m             \u001b[0mlines\u001b[0m\u001b[1;33m.\u001b[0m\u001b[0mappend\u001b[0m\u001b[1;33m(\u001b[0m\u001b[0mline\u001b[0m\u001b[1;33m)\u001b[0m\u001b[1;33m\u001b[0m\u001b[0m\n\u001b[0;32m   1531\u001b[0m \u001b[1;33m\u001b[0m\u001b[0m\n",
      "\u001b[1;32mC:\\Users\\labuser\\anaconda3\\envs\\py27\\lib\\site-packages\\matplotlib\\axes\\_base.pyc\u001b[0m in \u001b[0;36madd_line\u001b[1;34m(self, line)\u001b[0m\n\u001b[0;32m   1958\u001b[0m             \u001b[0mline\u001b[0m\u001b[1;33m.\u001b[0m\u001b[0mset_clip_path\u001b[0m\u001b[1;33m(\u001b[0m\u001b[0mself\u001b[0m\u001b[1;33m.\u001b[0m\u001b[0mpatch\u001b[0m\u001b[1;33m)\u001b[0m\u001b[1;33m\u001b[0m\u001b[0m\n\u001b[0;32m   1959\u001b[0m \u001b[1;33m\u001b[0m\u001b[0m\n\u001b[1;32m-> 1960\u001b[1;33m         \u001b[0mself\u001b[0m\u001b[1;33m.\u001b[0m\u001b[0m_update_line_limits\u001b[0m\u001b[1;33m(\u001b[0m\u001b[0mline\u001b[0m\u001b[1;33m)\u001b[0m\u001b[1;33m\u001b[0m\u001b[0m\n\u001b[0m\u001b[0;32m   1961\u001b[0m         \u001b[1;32mif\u001b[0m \u001b[1;32mnot\u001b[0m \u001b[0mline\u001b[0m\u001b[1;33m.\u001b[0m\u001b[0mget_label\u001b[0m\u001b[1;33m(\u001b[0m\u001b[1;33m)\u001b[0m\u001b[1;33m:\u001b[0m\u001b[1;33m\u001b[0m\u001b[0m\n\u001b[0;32m   1962\u001b[0m             \u001b[0mline\u001b[0m\u001b[1;33m.\u001b[0m\u001b[0mset_label\u001b[0m\u001b[1;33m(\u001b[0m\u001b[1;34m'_line%d'\u001b[0m \u001b[1;33m%\u001b[0m \u001b[0mlen\u001b[0m\u001b[1;33m(\u001b[0m\u001b[0mself\u001b[0m\u001b[1;33m.\u001b[0m\u001b[0mlines\u001b[0m\u001b[1;33m)\u001b[0m\u001b[1;33m)\u001b[0m\u001b[1;33m\u001b[0m\u001b[0m\n",
      "\u001b[1;32mC:\\Users\\labuser\\anaconda3\\envs\\py27\\lib\\site-packages\\matplotlib\\axes\\_base.pyc\u001b[0m in \u001b[0;36m_update_line_limits\u001b[1;34m(self, line)\u001b[0m\n\u001b[0;32m   1980\u001b[0m         \u001b[0mFigures\u001b[0m \u001b[0mout\u001b[0m \u001b[0mthe\u001b[0m \u001b[0mdata\u001b[0m \u001b[0mlimit\u001b[0m \u001b[0mof\u001b[0m \u001b[0mthe\u001b[0m \u001b[0mgiven\u001b[0m \u001b[0mline\u001b[0m\u001b[1;33m,\u001b[0m \u001b[0mupdating\u001b[0m \u001b[0mself\u001b[0m\u001b[1;33m.\u001b[0m\u001b[0mdataLim\u001b[0m\u001b[1;33m.\u001b[0m\u001b[1;33m\u001b[0m\u001b[0m\n\u001b[0;32m   1981\u001b[0m         \"\"\"\n\u001b[1;32m-> 1982\u001b[1;33m         \u001b[0mpath\u001b[0m \u001b[1;33m=\u001b[0m \u001b[0mline\u001b[0m\u001b[1;33m.\u001b[0m\u001b[0mget_path\u001b[0m\u001b[1;33m(\u001b[0m\u001b[1;33m)\u001b[0m\u001b[1;33m\u001b[0m\u001b[0m\n\u001b[0m\u001b[0;32m   1983\u001b[0m         \u001b[1;32mif\u001b[0m \u001b[0mpath\u001b[0m\u001b[1;33m.\u001b[0m\u001b[0mvertices\u001b[0m\u001b[1;33m.\u001b[0m\u001b[0msize\u001b[0m \u001b[1;33m==\u001b[0m \u001b[1;36m0\u001b[0m\u001b[1;33m:\u001b[0m\u001b[1;33m\u001b[0m\u001b[0m\n\u001b[0;32m   1984\u001b[0m             \u001b[1;32mreturn\u001b[0m\u001b[1;33m\u001b[0m\u001b[0m\n",
      "\u001b[1;32mC:\\Users\\labuser\\anaconda3\\envs\\py27\\lib\\site-packages\\matplotlib\\lines.pyc\u001b[0m in \u001b[0;36mget_path\u001b[1;34m(self)\u001b[0m\n\u001b[0;32m    954\u001b[0m         \"\"\"\n\u001b[0;32m    955\u001b[0m         \u001b[1;32mif\u001b[0m \u001b[0mself\u001b[0m\u001b[1;33m.\u001b[0m\u001b[0m_invalidy\u001b[0m \u001b[1;32mor\u001b[0m \u001b[0mself\u001b[0m\u001b[1;33m.\u001b[0m\u001b[0m_invalidx\u001b[0m\u001b[1;33m:\u001b[0m\u001b[1;33m\u001b[0m\u001b[0m\n\u001b[1;32m--> 956\u001b[1;33m             \u001b[0mself\u001b[0m\u001b[1;33m.\u001b[0m\u001b[0mrecache\u001b[0m\u001b[1;33m(\u001b[0m\u001b[1;33m)\u001b[0m\u001b[1;33m\u001b[0m\u001b[0m\n\u001b[0m\u001b[0;32m    957\u001b[0m         \u001b[1;32mreturn\u001b[0m \u001b[0mself\u001b[0m\u001b[1;33m.\u001b[0m\u001b[0m_path\u001b[0m\u001b[1;33m\u001b[0m\u001b[0m\n\u001b[0;32m    958\u001b[0m \u001b[1;33m\u001b[0m\u001b[0m\n",
      "\u001b[1;32mC:\\Users\\labuser\\anaconda3\\envs\\py27\\lib\\site-packages\\matplotlib\\lines.pyc\u001b[0m in \u001b[0;36mrecache\u001b[1;34m(self, always)\u001b[0m\n\u001b[0;32m    655\u001b[0m         \u001b[1;32mif\u001b[0m \u001b[0malways\u001b[0m \u001b[1;32mor\u001b[0m \u001b[0mself\u001b[0m\u001b[1;33m.\u001b[0m\u001b[0m_invalidy\u001b[0m\u001b[1;33m:\u001b[0m\u001b[1;33m\u001b[0m\u001b[0m\n\u001b[0;32m    656\u001b[0m             \u001b[0myconv\u001b[0m \u001b[1;33m=\u001b[0m \u001b[0mself\u001b[0m\u001b[1;33m.\u001b[0m\u001b[0mconvert_yunits\u001b[0m\u001b[1;33m(\u001b[0m\u001b[0mself\u001b[0m\u001b[1;33m.\u001b[0m\u001b[0m_yorig\u001b[0m\u001b[1;33m)\u001b[0m\u001b[1;33m\u001b[0m\u001b[0m\n\u001b[1;32m--> 657\u001b[1;33m             \u001b[0my\u001b[0m \u001b[1;33m=\u001b[0m \u001b[0m_to_unmasked_float_array\u001b[0m\u001b[1;33m(\u001b[0m\u001b[0myconv\u001b[0m\u001b[1;33m)\u001b[0m\u001b[1;33m.\u001b[0m\u001b[0mravel\u001b[0m\u001b[1;33m(\u001b[0m\u001b[1;33m)\u001b[0m\u001b[1;33m\u001b[0m\u001b[0m\n\u001b[0m\u001b[0;32m    658\u001b[0m         \u001b[1;32melse\u001b[0m\u001b[1;33m:\u001b[0m\u001b[1;33m\u001b[0m\u001b[0m\n\u001b[0;32m    659\u001b[0m             \u001b[0my\u001b[0m \u001b[1;33m=\u001b[0m \u001b[0mself\u001b[0m\u001b[1;33m.\u001b[0m\u001b[0m_y\u001b[0m\u001b[1;33m\u001b[0m\u001b[0m\n",
      "\u001b[1;32mC:\\Users\\labuser\\anaconda3\\envs\\py27\\lib\\site-packages\\matplotlib\\cbook\\__init__.pyc\u001b[0m in \u001b[0;36m_to_unmasked_float_array\u001b[1;34m(x)\u001b[0m\n\u001b[0;32m   2050\u001b[0m         \u001b[1;32mreturn\u001b[0m \u001b[0mnp\u001b[0m\u001b[1;33m.\u001b[0m\u001b[0mma\u001b[0m\u001b[1;33m.\u001b[0m\u001b[0masarray\u001b[0m\u001b[1;33m(\u001b[0m\u001b[0mx\u001b[0m\u001b[1;33m,\u001b[0m \u001b[0mfloat\u001b[0m\u001b[1;33m)\u001b[0m\u001b[1;33m.\u001b[0m\u001b[0mfilled\u001b[0m\u001b[1;33m(\u001b[0m\u001b[0mnp\u001b[0m\u001b[1;33m.\u001b[0m\u001b[0mnan\u001b[0m\u001b[1;33m)\u001b[0m\u001b[1;33m\u001b[0m\u001b[0m\n\u001b[0;32m   2051\u001b[0m     \u001b[1;32melse\u001b[0m\u001b[1;33m:\u001b[0m\u001b[1;33m\u001b[0m\u001b[0m\n\u001b[1;32m-> 2052\u001b[1;33m         \u001b[1;32mreturn\u001b[0m \u001b[0mnp\u001b[0m\u001b[1;33m.\u001b[0m\u001b[0masarray\u001b[0m\u001b[1;33m(\u001b[0m\u001b[0mx\u001b[0m\u001b[1;33m,\u001b[0m \u001b[0mfloat\u001b[0m\u001b[1;33m)\u001b[0m\u001b[1;33m\u001b[0m\u001b[0m\n\u001b[0m\u001b[0;32m   2053\u001b[0m \u001b[1;33m\u001b[0m\u001b[0m\n\u001b[0;32m   2054\u001b[0m \u001b[1;33m\u001b[0m\u001b[0m\n",
      "\u001b[1;32mC:\\Users\\labuser\\anaconda3\\envs\\py27\\lib\\site-packages\\numpy\\core\\numeric.pyc\u001b[0m in \u001b[0;36masarray\u001b[1;34m(a, dtype, order)\u001b[0m\n\u001b[0;32m    536\u001b[0m \u001b[1;33m\u001b[0m\u001b[0m\n\u001b[0;32m    537\u001b[0m     \"\"\"\n\u001b[1;32m--> 538\u001b[1;33m     \u001b[1;32mreturn\u001b[0m \u001b[0marray\u001b[0m\u001b[1;33m(\u001b[0m\u001b[0ma\u001b[0m\u001b[1;33m,\u001b[0m \u001b[0mdtype\u001b[0m\u001b[1;33m,\u001b[0m \u001b[0mcopy\u001b[0m\u001b[1;33m=\u001b[0m\u001b[0mFalse\u001b[0m\u001b[1;33m,\u001b[0m \u001b[0morder\u001b[0m\u001b[1;33m=\u001b[0m\u001b[0morder\u001b[0m\u001b[1;33m)\u001b[0m\u001b[1;33m\u001b[0m\u001b[0m\n\u001b[0m\u001b[0;32m    539\u001b[0m \u001b[1;33m\u001b[0m\u001b[0m\n\u001b[0;32m    540\u001b[0m \u001b[1;33m\u001b[0m\u001b[0m\n",
      "\u001b[1;31mTypeError\u001b[0m: Cannot cast array data from dtype([('ch0', '<u2'), ('ch1', '<u2'), ('ch2', '<u2'), ('ch3', '<u2'), ('ch4', '<u2'), ('ch5', '<u2'), ('ch6', '<u2'), ('ch7', '<u2'), ('ch8', '<u2'), ('ch9', '<u2'), ('ch10', '<u2'), ('ch11', '<u2'), ('ch12', '<u2'), ('ch13', '<u2'), ('ch14', '<u2'), ('ch15', '<u2'), ('enc', '<u2'), ('dummy', '<u2'), ('rev0', '<u2'), ('rev1', '<u2'), ('rev2', '<u2')]) to dtype('float64') according to the rule 'unsafe'"
     ]
    },
    {
     "data": {
      "image/png": "[encoded data removed]",
      "text/plain": [
       "<Figure size 432x288 with 1 Axes>"
      ]
     },
     "metadata": {
      "needs_background": "light"
     },
     "output_type": "display_data"
    }
   ],
   "source": [
    "plt.figure()\n",
    "plt.plot(raw_data)"
   ]
  },
  {
   "cell_type": "code",
   "execution_count": 10,
   "metadata": {},
   "outputs": [],
   "source": [
    "enc = raw_data['enc'][:30000]\n",
    "enc = np.mod(enc+6,4096)\n",
    "\n",
    "data = utils.adu2volts(raw_data[rt.nametochan('H3HiAC')])[:30000]"
   ]
  },
  {
   "cell_type": "code",
   "execution_count": 11,
   "metadata": {},
   "outputs": [
    {
     "name": "stdout",
     "output_type": "stream",
     "text": [
      "4091\n"
     ]
    }
   ],
   "source": [
    "print enc.max()"
   ]
  },
  {
   "cell_type": "code",
   "execution_count": 12,
   "metadata": {},
   "outputs": [
    {
     "data": {
      "text/plain": [
       "Text(0.5,1,'H3 raw data Tau A crossing')"
      ]
     },
     "execution_count": 12,
     "metadata": {},
     "output_type": "execute_result"
    },
    {
     "data": {
      "image/png": "[encoded data removed]",
      "text/plain": [
       "<Figure size 432x288 with 1 Axes>"
      ]
     },
     "metadata": {
      "needs_background": "light"
     },
     "output_type": "display_data"
    }
   ],
   "source": [
    "plt.figure()\n",
    "plt.plot(data)\n",
    "plt.xlabel('samples')\n",
    "plt.ylabel('Volts')\n",
    "plt.title('H3 raw data Tau A crossing')"
   ]
  },
  {
   "cell_type": "code",
   "execution_count": 13,
   "metadata": {},
   "outputs": [],
   "source": [
    "isort = np.argsort(enc)\n",
    "ienc = enc[isort]*1\n",
    "idata = data[isort]*1"
   ]
  },
  {
   "cell_type": "code",
   "execution_count": 14,
   "metadata": {},
   "outputs": [
    {
     "data": {
      "text/plain": [
       "Text(0.5,1,'H3 raw data Tau A crossing')"
      ]
     },
     "execution_count": 14,
     "metadata": {},
     "output_type": "execute_result"
    },
    {
     "data": {
      "image/png": "[encoded data removed]",
      "text/plain": [
       "<Figure size 432x288 with 1 Axes>"
      ]
     },
     "metadata": {
      "needs_background": "light"
     },
     "output_type": "display_data"
    }
   ],
   "source": [
    "plt.figure()\n",
    "plt.plot(ienc, idata)\n",
    "plt.xlabel('Encoder #')\n",
    "plt.ylabel('Volts')\n",
    "plt.title('H3 raw data Tau A crossing')"
   ]
  },
  {
   "cell_type": "code",
   "execution_count": 15,
   "metadata": {},
   "outputs": [
    {
     "name": "stdout",
     "output_type": "stream",
     "text": [
      "(30000L,)\n"
     ]
    }
   ],
   "source": [
    "print idata.shape"
   ]
  },
  {
   "cell_type": "code",
   "execution_count": 16,
   "metadata": {},
   "outputs": [
    {
     "name": "stdout",
     "output_type": "stream",
     "text": [
      "(30000L,)\n"
     ]
    }
   ],
   "source": [
    "print idata.shape"
   ]
  },
  {
   "cell_type": "code",
   "execution_count": 23,
   "metadata": {},
   "outputs": [
    {
     "name": "stdout",
     "output_type": "stream",
     "text": [
      "0\n"
     ]
    },
    {
     "name": "stderr",
     "output_type": "stream",
     "text": [
      "WARNING:root:Removing invalid revolutions (index from beginning of file): [  0 999]\n"
     ]
    },
    {
     "name": "stdout",
     "output_type": "stream",
     "text": [
      "1001\n",
      "16\n",
      "1\n"
     ]
    },
    {
     "name": "stderr",
     "output_type": "stream",
     "text": [
      "WARNING:root:Removing invalid revolutions (index from beginning of file): [  0 999]\n"
     ]
    },
    {
     "name": "stdout",
     "output_type": "stream",
     "text": [
      "1001\n",
      "16\n",
      "2\n"
     ]
    },
    {
     "name": "stderr",
     "output_type": "stream",
     "text": [
      "WARNING:root:Removing invalid revolutions (index from beginning of file): [  0 999]\n"
     ]
    },
    {
     "name": "stdout",
     "output_type": "stream",
     "text": [
      "1001\n",
      "16\n",
      "3\n"
     ]
    },
    {
     "name": "stderr",
     "output_type": "stream",
     "text": [
      "WARNING:root:Removing invalid revolutions (index from beginning of file): [  0 999]\n"
     ]
    },
    {
     "name": "stdout",
     "output_type": "stream",
     "text": [
      "1001\n",
      "16\n",
      "4\n"
     ]
    },
    {
     "name": "stderr",
     "output_type": "stream",
     "text": [
      "WARNING:root:Removing invalid revolutions (index from beginning of file): [  0 999]\n"
     ]
    },
    {
     "name": "stdout",
     "output_type": "stream",
     "text": [
      "1001\n",
      "16\n",
      "5\n"
     ]
    },
    {
     "name": "stderr",
     "output_type": "stream",
     "text": [
      "WARNING:root:Removing invalid revolutions (index from beginning of file): [  0 999]\n"
     ]
    },
    {
     "name": "stdout",
     "output_type": "stream",
     "text": [
      "1001\n",
      "16\n",
      "6\n"
     ]
    },
    {
     "name": "stderr",
     "output_type": "stream",
     "text": [
      "WARNING:root:Removing invalid revolutions (index from beginning of file): [  0 999]\n"
     ]
    },
    {
     "name": "stdout",
     "output_type": "stream",
     "text": [
      "1001\n",
      "16\n",
      "7\n"
     ]
    },
    {
     "name": "stderr",
     "output_type": "stream",
     "text": [
      "WARNING:root:Removing invalid revolutions (index from beginning of file): [  0 999]\n"
     ]
    },
    {
     "name": "stdout",
     "output_type": "stream",
     "text": [
      "1001\n",
      "16\n",
      "8\n"
     ]
    },
    {
     "name": "stderr",
     "output_type": "stream",
     "text": [
      "WARNING:root:Removing invalid revolutions (index from beginning of file): [  0 999]\n"
     ]
    },
    {
     "name": "stdout",
     "output_type": "stream",
     "text": [
      "1001\n",
      "16\n",
      "9\n"
     ]
    },
    {
     "name": "stderr",
     "output_type": "stream",
     "text": [
      "WARNING:root:Removing invalid revolutions (index from beginning of file): [  0 999]\n"
     ]
    },
    {
     "name": "stdout",
     "output_type": "stream",
     "text": [
      "1001\n",
      "16\n",
      "10\n"
     ]
    },
    {
     "name": "stderr",
     "output_type": "stream",
     "text": [
      "WARNING:root:Removing invalid revolutions (index from beginning of file): [  0 999]\n"
     ]
    },
    {
     "name": "stdout",
     "output_type": "stream",
     "text": [
      "1001\n",
      "16\n",
      "11\n"
     ]
    },
    {
     "name": "stderr",
     "output_type": "stream",
     "text": [
      "WARNING:root:Removing invalid revolutions (index from beginning of file): [  0 999]\n"
     ]
    },
    {
     "name": "stdout",
     "output_type": "stream",
     "text": [
      "1001\n",
      "16\n",
      "12\n"
     ]
    },
    {
     "name": "stderr",
     "output_type": "stream",
     "text": [
      "WARNING:root:Removing invalid revolutions (index from beginning of file): [  0 999]\n"
     ]
    },
    {
     "name": "stdout",
     "output_type": "stream",
     "text": [
      "1001\n",
      "16\n",
      "13\n"
     ]
    },
    {
     "name": "stderr",
     "output_type": "stream",
     "text": [
      "WARNING:root:Removing invalid revolutions (index from beginning of file): [  0 999]\n"
     ]
    },
    {
     "name": "stdout",
     "output_type": "stream",
     "text": [
      "1001\n",
      "16\n",
      "14\n"
     ]
    },
    {
     "name": "stderr",
     "output_type": "stream",
     "text": [
      "WARNING:root:Removing invalid revolutions (index from beginning of file): [  0 999]\n"
     ]
    },
    {
     "name": "stdout",
     "output_type": "stream",
     "text": [
      "1001\n",
      "16\n",
      "15\n"
     ]
    },
    {
     "name": "stderr",
     "output_type": "stream",
     "text": [
      "WARNING:root:Removing invalid revolutions (index from beginning of file): [  0 999]\n"
     ]
    },
    {
     "name": "stdout",
     "output_type": "stream",
     "text": [
      "1001\n",
      "16\n",
      "16\n"
     ]
    },
    {
     "name": "stderr",
     "output_type": "stream",
     "text": [
      "WARNING:root:Removing invalid revolutions (index from beginning of file): [  0 999]\n"
     ]
    },
    {
     "name": "stdout",
     "output_type": "stream",
     "text": [
      "1001\n",
      "16\n",
      "17\n"
     ]
    },
    {
     "name": "stderr",
     "output_type": "stream",
     "text": [
      "WARNING:root:Removing invalid revolutions (index from beginning of file): [  0 999]\n"
     ]
    },
    {
     "name": "stdout",
     "output_type": "stream",
     "text": [
      "1001\n",
      "16\n",
      "18\n"
     ]
    },
    {
     "name": "stderr",
     "output_type": "stream",
     "text": [
      "WARNING:root:Removing invalid revolutions (index from beginning of file): [  0 999]\n"
     ]
    },
    {
     "name": "stdout",
     "output_type": "stream",
     "text": [
      "1001\n",
      "16\n",
      "19\n"
     ]
    },
    {
     "name": "stderr",
     "output_type": "stream",
     "text": [
      "WARNING:root:Removing invalid revolutions (index from beginning of file): [  0 999]\n"
     ]
    },
    {
     "name": "stdout",
     "output_type": "stream",
     "text": [
      "1001\n",
      "16\n",
      "20\n"
     ]
    },
    {
     "name": "stderr",
     "output_type": "stream",
     "text": [
      "WARNING:root:Removing invalid revolutions (index from beginning of file): [  0 999]\n"
     ]
    },
    {
     "name": "stdout",
     "output_type": "stream",
     "text": [
      "1001\n",
      "16\n",
      "21\n"
     ]
    },
    {
     "name": "stderr",
     "output_type": "stream",
     "text": [
      "WARNING:root:Removing invalid revolutions (index from beginning of file): [  0 999]\n"
     ]
    },
    {
     "name": "stdout",
     "output_type": "stream",
     "text": [
      "1001\n",
      "16\n",
      "22\n"
     ]
    },
    {
     "name": "stderr",
     "output_type": "stream",
     "text": [
      "WARNING:root:Removing invalid revolutions (index from beginning of file): [  0 999]\n"
     ]
    },
    {
     "name": "stdout",
     "output_type": "stream",
     "text": [
      "1001\n",
      "16\n",
      "23\n"
     ]
    },
    {
     "name": "stderr",
     "output_type": "stream",
     "text": [
      "WARNING:root:Removing invalid revolutions (index from beginning of file): [  0 999]\n"
     ]
    },
    {
     "name": "stdout",
     "output_type": "stream",
     "text": [
      "1001\n",
      "16\n",
      "24\n"
     ]
    },
    {
     "name": "stderr",
     "output_type": "stream",
     "text": [
      "WARNING:root:Removing invalid revolutions (index from beginning of file): [  0 999]\n"
     ]
    },
    {
     "name": "stdout",
     "output_type": "stream",
     "text": [
      "1001\n",
      "16\n",
      "25\n"
     ]
    },
    {
     "name": "stderr",
     "output_type": "stream",
     "text": [
      "WARNING:root:Removing invalid revolutions (index from beginning of file): [  0 999]\n"
     ]
    },
    {
     "name": "stdout",
     "output_type": "stream",
     "text": [
      "1001\n",
      "16\n",
      "26\n"
     ]
    },
    {
     "name": "stderr",
     "output_type": "stream",
     "text": [
      "WARNING:root:Removing invalid revolutions (index from beginning of file): [  0 999]\n"
     ]
    },
    {
     "name": "stdout",
     "output_type": "stream",
     "text": [
      "1001\n",
      "16\n",
      "27\n"
     ]
    },
    {
     "name": "stderr",
     "output_type": "stream",
     "text": [
      "WARNING:root:Removing invalid revolutions (index from beginning of file): [  0 999]\n"
     ]
    },
    {
     "name": "stdout",
     "output_type": "stream",
     "text": [
      "1001\n",
      "16\n",
      "28\n"
     ]
    },
    {
     "name": "stderr",
     "output_type": "stream",
     "text": [
      "WARNING:root:Removing invalid revolutions (index from beginning of file): [  0 999]\n"
     ]
    },
    {
     "name": "stdout",
     "output_type": "stream",
     "text": [
      "1001\n",
      "16\n",
      "29\n"
     ]
    },
    {
     "name": "stderr",
     "output_type": "stream",
     "text": [
      "WARNING:root:Removing invalid revolutions (index from beginning of file): [  0 999]\n"
     ]
    },
    {
     "name": "stdout",
     "output_type": "stream",
     "text": [
      "1001\n",
      "16\n",
      "30\n"
     ]
    },
    {
     "name": "stderr",
     "output_type": "stream",
     "text": [
      "WARNING:root:Removing invalid revolutions (index from beginning of file): [  0 999]\n"
     ]
    },
    {
     "name": "stdout",
     "output_type": "stream",
     "text": [
      "1001\n",
      "16\n",
      "31\n"
     ]
    },
    {
     "name": "stderr",
     "output_type": "stream",
     "text": [
      "WARNING:root:Removing invalid revolutions (index from beginning of file): [  0 999]\n"
     ]
    },
    {
     "name": "stdout",
     "output_type": "stream",
     "text": [
      "1001\n",
      "16\n",
      "32\n"
     ]
    },
    {
     "name": "stderr",
     "output_type": "stream",
     "text": [
      "WARNING:root:Removing invalid revolutions (index from beginning of file): [  0 999]\n"
     ]
    },
    {
     "name": "stdout",
     "output_type": "stream",
     "text": [
      "1001\n",
      "16\n",
      "33\n"
     ]
    },
    {
     "name": "stderr",
     "output_type": "stream",
     "text": [
      "WARNING:root:Removing invalid revolutions (index from beginning of file): [  0 999]\n"
     ]
    },
    {
     "name": "stdout",
     "output_type": "stream",
     "text": [
      "1001\n",
      "16\n",
      "34\n"
     ]
    },
    {
     "name": "stderr",
     "output_type": "stream",
     "text": [
      "WARNING:root:Removing invalid revolutions (index from beginning of file): [  0 999]\n"
     ]
    },
    {
     "name": "stdout",
     "output_type": "stream",
     "text": [
      "1001\n",
      "16\n",
      "35\n"
     ]
    },
    {
     "name": "stderr",
     "output_type": "stream",
     "text": [
      "WARNING:root:Removing invalid revolutions (index from beginning of file): [  0 999]\n"
     ]
    },
    {
     "name": "stdout",
     "output_type": "stream",
     "text": [
      "1001\n",
      "16\n",
      "36\n"
     ]
    },
    {
     "name": "stderr",
     "output_type": "stream",
     "text": [
      "WARNING:root:Removing invalid revolutions (index from beginning of file): [  0 999]\n"
     ]
    },
    {
     "name": "stdout",
     "output_type": "stream",
     "text": [
      "1001\n",
      "16\n",
      "37\n"
     ]
    },
    {
     "name": "stderr",
     "output_type": "stream",
     "text": [
      "WARNING:root:Removing invalid revolutions (index from beginning of file): [  0 999]\n"
     ]
    },
    {
     "name": "stdout",
     "output_type": "stream",
     "text": [
      "1001\n",
      "16\n",
      "38\n"
     ]
    },
    {
     "name": "stderr",
     "output_type": "stream",
     "text": [
      "WARNING:root:Removing invalid revolutions (index from beginning of file): [  0 999]\n"
     ]
    },
    {
     "name": "stdout",
     "output_type": "stream",
     "text": [
      "1001\n",
      "16\n",
      "39\n"
     ]
    },
    {
     "name": "stderr",
     "output_type": "stream",
     "text": [
      "WARNING:root:Removing invalid revolutions (index from beginning of file): [  0 999]\n"
     ]
    },
    {
     "name": "stdout",
     "output_type": "stream",
     "text": [
      "1001\n",
      "16\n",
      "40\n"
     ]
    },
    {
     "name": "stderr",
     "output_type": "stream",
     "text": [
      "WARNING:root:Removing invalid revolutions (index from beginning of file): [  0 999]\n"
     ]
    },
    {
     "name": "stdout",
     "output_type": "stream",
     "text": [
      "1001\n",
      "16\n",
      "41\n"
     ]
    },
    {
     "name": "stderr",
     "output_type": "stream",
     "text": [
      "WARNING:root:Removing invalid revolutions (index from beginning of file): [  0 999]\n"
     ]
    },
    {
     "name": "stdout",
     "output_type": "stream",
     "text": [
      "1001\n",
      "16\n",
      "42\n"
     ]
    },
    {
     "name": "stderr",
     "output_type": "stream",
     "text": [
      "WARNING:root:Removing invalid revolutions (index from beginning of file): [  0 999]\n"
     ]
    },
    {
     "name": "stdout",
     "output_type": "stream",
     "text": [
      "1001\n",
      "16\n",
      "43\n"
     ]
    },
    {
     "name": "stderr",
     "output_type": "stream",
     "text": [
      "WARNING:root:Removing invalid revolutions (index from beginning of file): [  0 999]\n"
     ]
    },
    {
     "name": "stdout",
     "output_type": "stream",
     "text": [
      "1001\n",
      "16\n",
      "44\n"
     ]
    },
    {
     "name": "stderr",
     "output_type": "stream",
     "text": [
      "WARNING:root:Removing invalid revolutions (index from beginning of file): [  0 999]\n"
     ]
    },
    {
     "name": "stdout",
     "output_type": "stream",
     "text": [
      "1001\n",
      "16\n",
      "45\n"
     ]
    },
    {
     "name": "stderr",
     "output_type": "stream",
     "text": [
      "WARNING:root:Removing invalid revolutions (index from beginning of file): [  0 999]\n"
     ]
    },
    {
     "name": "stdout",
     "output_type": "stream",
     "text": [
      "1001\n",
      "16\n",
      "46\n"
     ]
    },
    {
     "name": "stderr",
     "output_type": "stream",
     "text": [
      "WARNING:root:Removing invalid revolutions (index from beginning of file): [  0 999]\n"
     ]
    },
    {
     "name": "stdout",
     "output_type": "stream",
     "text": [
      "1001\n",
      "16\n",
      "47\n"
     ]
    },
    {
     "name": "stderr",
     "output_type": "stream",
     "text": [
      "WARNING:root:Removing invalid revolutions (index from beginning of file): [  0 999]\n"
     ]
    },
    {
     "name": "stdout",
     "output_type": "stream",
     "text": [
      "1001\n",
      "16\n",
      "48\n"
     ]
    },
    {
     "name": "stderr",
     "output_type": "stream",
     "text": [
      "WARNING:root:Removing invalid revolutions (index from beginning of file): [  0 999]\n"
     ]
    },
    {
     "name": "stdout",
     "output_type": "stream",
     "text": [
      "1001\n",
      "16\n",
      "49\n"
     ]
    },
    {
     "name": "stderr",
     "output_type": "stream",
     "text": [
      "WARNING:root:Removing invalid revolutions (index from beginning of file): [  0 999]\n"
     ]
    },
    {
     "name": "stdout",
     "output_type": "stream",
     "text": [
      "1001\n",
      "16\n",
      "50\n"
     ]
    },
    {
     "name": "stderr",
     "output_type": "stream",
     "text": [
      "WARNING:root:Removing invalid revolutions (index from beginning of file): [  0 999]\n"
     ]
    },
    {
     "name": "stdout",
     "output_type": "stream",
     "text": [
      "1001\n",
      "16\n",
      "51\n"
     ]
    },
    {
     "name": "stderr",
     "output_type": "stream",
     "text": [
      "WARNING:root:Removing invalid revolutions (index from beginning of file): [  0 999]\n"
     ]
    },
    {
     "name": "stdout",
     "output_type": "stream",
     "text": [
      "1001\n",
      "16\n",
      "52\n"
     ]
    },
    {
     "name": "stderr",
     "output_type": "stream",
     "text": [
      "WARNING:root:Removing invalid revolutions (index from beginning of file): [  0 999]\n"
     ]
    },
    {
     "name": "stdout",
     "output_type": "stream",
     "text": [
      "1001\n",
      "16\n",
      "53\n"
     ]
    },
    {
     "name": "stderr",
     "output_type": "stream",
     "text": [
      "WARNING:root:Removing invalid revolutions (index from beginning of file): [  0 999]\n"
     ]
    },
    {
     "name": "stdout",
     "output_type": "stream",
     "text": [
      "1001\n",
      "16\n",
      "54\n"
     ]
    },
    {
     "name": "stderr",
     "output_type": "stream",
     "text": [
      "WARNING:root:Removing invalid revolutions (index from beginning of file): [  0 999]\n"
     ]
    },
    {
     "name": "stdout",
     "output_type": "stream",
     "text": [
      "1001\n",
      "16\n",
      "55\n"
     ]
    },
    {
     "name": "stderr",
     "output_type": "stream",
     "text": [
      "WARNING:root:Removing invalid revolutions (index from beginning of file): [  0 999]\n"
     ]
    },
    {
     "name": "stdout",
     "output_type": "stream",
     "text": [
      "1001\n",
      "16\n",
      "56\n"
     ]
    },
    {
     "name": "stderr",
     "output_type": "stream",
     "text": [
      "WARNING:root:Removing invalid revolutions (index from beginning of file): [  0 999]\n"
     ]
    },
    {
     "name": "stdout",
     "output_type": "stream",
     "text": [
      "1001\n",
      "16\n",
      "57\n"
     ]
    },
    {
     "name": "stderr",
     "output_type": "stream",
     "text": [
      "WARNING:root:Removing invalid revolutions (index from beginning of file): [  0 999]\n"
     ]
    },
    {
     "name": "stdout",
     "output_type": "stream",
     "text": [
      "1001\n",
      "16\n",
      "58\n"
     ]
    },
    {
     "name": "stderr",
     "output_type": "stream",
     "text": [
      "WARNING:root:Removing invalid revolutions (index from beginning of file): [  0 999]\n"
     ]
    },
    {
     "name": "stdout",
     "output_type": "stream",
     "text": [
      "1001\n",
      "16\n",
      "59\n"
     ]
    },
    {
     "name": "stderr",
     "output_type": "stream",
     "text": [
      "WARNING:root:Removing invalid revolutions (index from beginning of file): [  0 999]\n"
     ]
    },
    {
     "name": "stdout",
     "output_type": "stream",
     "text": [
      "1001\n",
      "16\n",
      "60\n"
     ]
    },
    {
     "name": "stderr",
     "output_type": "stream",
     "text": [
      "WARNING:root:Removing invalid revolutions (index from beginning of file): [  0 999]\n"
     ]
    },
    {
     "name": "stdout",
     "output_type": "stream",
     "text": [
      "1001\n",
      "16\n",
      "61\n"
     ]
    },
    {
     "name": "stderr",
     "output_type": "stream",
     "text": [
      "WARNING:root:Removing invalid revolutions (index from beginning of file): [  0 999]\n"
     ]
    },
    {
     "name": "stdout",
     "output_type": "stream",
     "text": [
      "1001\n",
      "16\n",
      "62\n"
     ]
    },
    {
     "name": "stderr",
     "output_type": "stream",
     "text": [
      "WARNING:root:Removing invalid revolutions (index from beginning of file): [  0 999]\n"
     ]
    },
    {
     "name": "stdout",
     "output_type": "stream",
     "text": [
      "1001\n",
      "16\n",
      "63\n"
     ]
    },
    {
     "name": "stderr",
     "output_type": "stream",
     "text": [
      "WARNING:root:Removing invalid revolutions (index from beginning of file): [  0 999]\n"
     ]
    },
    {
     "name": "stdout",
     "output_type": "stream",
     "text": [
      "1001\n",
      "16\n",
      "64\n"
     ]
    },
    {
     "name": "stderr",
     "output_type": "stream",
     "text": [
      "WARNING:root:Removing invalid revolutions (index from beginning of file): [  0 999]\n"
     ]
    },
    {
     "name": "stdout",
     "output_type": "stream",
     "text": [
      "1001\n",
      "16\n"
     ]
    }
   ],
   "source": [
    "qvsphase_h3=vary_phase(chan='ch8',file_list=dfile)"
   ]
  },
  {
   "cell_type": "code",
   "execution_count": 24,
   "metadata": {},
   "outputs": [],
   "source": [
    "phase = np.array(qvsphase_h3['phases'])\n",
    "qmean = np.array(qvsphase_h3['qmeans'])\n",
    "umean = np.array(qvsphase_h3['umeans'])"
   ]
  },
  {
   "cell_type": "code",
   "execution_count": 25,
   "metadata": {},
   "outputs": [],
   "source": [
    "chan = 'ch8'"
   ]
  },
  {
   "cell_type": "code",
   "execution_count": 21,
   "metadata": {},
   "outputs": [],
   "source": [
    "plt.figure()\n",
    "plt.plot(phase,qmean,label='Q ' + (chan))\n",
    "plt.plot(phase,umean,label='U ' + (chan))\n",
    "plt.title('Q,U (volts) vs phase for -Q signal')\n",
    "plt.xlabel('Phase offset, [encoder counts]')\n",
    "plt.ylabel('Q (U) [Volts]')\n",
    "plt.legend()\n",
    "plt.grid()"
   ]
  },
  {
   "cell_type": "code",
   "execution_count": 41,
   "metadata": {},
   "outputs": [],
   "source": [
    "imax = phase[qmean == qmean.max()][0]\n",
    "imin = phase[qmean == qmean.min()]\n",
    "\n",
    "iumax = phase[umean == umean.max()]\n",
    "iumin = phase[umean == umean.min()]"
   ]
  },
  {
   "cell_type": "code",
   "execution_count": 42,
   "metadata": {},
   "outputs": [
    {
     "data": {
      "text/plain": [
       "0"
      ]
     },
     "execution_count": 42,
     "metadata": {},
     "output_type": "execute_result"
    }
   ],
   "source": [
    "imax"
   ]
  },
  {
   "cell_type": "code",
   "execution_count": null,
   "metadata": {},
   "outputs": [],
   "source": []
  },
  {
   "cell_type": "code",
   "execution_count": 43,
   "metadata": {},
   "outputs": [
    {
     "name": "stderr",
     "output_type": "stream",
     "text": [
      "WARNING:root:Removing invalid revolutions (index from beginning of file): [  0 999]\n"
     ]
    },
    {
     "name": "stdout",
     "output_type": "stream",
     "text": [
      "1001\n",
      "16\n"
     ]
    },
    {
     "name": "stderr",
     "output_type": "stream",
     "text": [
      "WARNING:root:Removing invalid revolutions (index from beginning of file): [  0 999]\n"
     ]
    },
    {
     "name": "stdout",
     "output_type": "stream",
     "text": [
      "1001\n",
      "16\n"
     ]
    },
    {
     "name": "stderr",
     "output_type": "stream",
     "text": [
      "WARNING:root:Removing invalid revolutions (index from beginning of file): [  0 999]\n"
     ]
    },
    {
     "name": "stdout",
     "output_type": "stream",
     "text": [
      "1001\n",
      "16\n"
     ]
    }
   ],
   "source": [
    "ddmax = rt.get_demodulated_data_from_list(filelist=dfile, phase_offset=imax)\n",
    "ddmin = rt.get_demodulated_data_from_list(filelist=dfile, phase_offset=imin)\n",
    "\n",
    "dd = rt.get_demodulated_data_from_list(filelist=dfile,phase_offset=0)\n"
   ]
  },
  {
   "cell_type": "code",
   "execution_count": 44,
   "metadata": {},
   "outputs": [],
   "source": [
    "Tbase = dd['ch8']['T'][277:].mean()\n",
    "Qbase = ddmax['ch8']['Q'][277:].mean()\n",
    "Ubase = ddmax['ch8']['U'][277:].mean()\n",
    "\n",
    "Tbaseerr = dd['ch8']['T'][277:].std()\n",
    "Qbaseerr = ddmax['ch8']['Q'][277:].std()\n",
    "Ubaseerr = ddmax['ch8']['U'][277:].std()\n",
    "\n",
    "Tbase = ufloat(Tbase, Tbaseerr)\n",
    "Qbase = ufloat(Qbase, Qbaseerr)\n",
    "Ubase = ufloat(Ubase, Ubaseerr)\n",
    "\n",
    "Tmin = dd['ch8']['T'].min()\n",
    "Qmin = ddmax['ch8']['Q'].min()\n",
    "Umax = ddmax['ch8']['U'].max()\n",
    "\n",
    "Tsignal = (Tbase - Tmin)*1e3\n",
    "Qsignal = (Qbase - Qmin)*1e3\n",
    "Usignal = (Umax - Ubase)*1e3\n",
    "\n",
    "#Tsignalerr = Tbaseerr*1e3\n",
    "#Qsignalerr = Qbaseerr*1e3\n",
    "#Usignalerr = Ubaseerr*1e3\n",
    "\n",
    "Psignal = (Qsignal**2 + Usignal**2)**(0.5)"
   ]
  },
  {
   "cell_type": "code",
   "execution_count": 55,
   "metadata": {},
   "outputs": [
    {
     "data": {
      "text/plain": [
       "[<matplotlib.lines.Line2D at 0x113bd7b8>]"
      ]
     },
     "execution_count": 55,
     "metadata": {},
     "output_type": "execute_result"
    }
   ],
   "source": [
    "plt.figure()\n",
    "plt.plot(dd['ch8']['T'][277:])"
   ]
  },
  {
   "cell_type": "code",
   "execution_count": 45,
   "metadata": {},
   "outputs": [],
   "source": [
    "iQmin = np.where(ddmax['ch8']['Q'] == ddmax['ch8']['Q'].min())\n",
    "IUmax = np.where(ddmax['ch8']['U'] == ddmax['ch8']['U'].min())\n",
    "\n",
    "Qbase = ddmax['ch8']['Q'][277:].mean()\n",
    "Ubase = ddmax['ch8']['U'][277:].mean()"
   ]
  },
  {
   "cell_type": "code",
   "execution_count": 46,
   "metadata": {},
   "outputs": [
    {
     "name": "stderr",
     "output_type": "stream",
     "text": [
      "WARNING:root:Removing invalid revolutions (index from beginning of file): [  0 999]\n"
     ]
    },
    {
     "name": "stdout",
     "output_type": "stream",
     "text": [
      "1001\n",
      "16\n"
     ]
    },
    {
     "name": "stderr",
     "output_type": "stream",
     "text": [
      "WARNING:root:Removing invalid revolutions (index from beginning of file): [  0 999]\n"
     ]
    },
    {
     "name": "stdout",
     "output_type": "stream",
     "text": [
      "1001\n",
      "16\n"
     ]
    },
    {
     "name": "stderr",
     "output_type": "stream",
     "text": [
      "WARNING:root:Removing invalid revolutions (index from beginning of file): [  0 999]\n"
     ]
    },
    {
     "name": "stdout",
     "output_type": "stream",
     "text": [
      "1001\n",
      "16\n"
     ]
    },
    {
     "name": "stderr",
     "output_type": "stream",
     "text": [
      "WARNING:root:Removing invalid revolutions (index from beginning of file): [  0 999]\n"
     ]
    },
    {
     "name": "stdout",
     "output_type": "stream",
     "text": [
      "1001\n",
      "16\n"
     ]
    },
    {
     "name": "stderr",
     "output_type": "stream",
     "text": [
      "WARNING:root:Removing invalid revolutions (index from beginning of file): [  0 999]\n"
     ]
    },
    {
     "name": "stdout",
     "output_type": "stream",
     "text": [
      "1001\n",
      "16\n"
     ]
    },
    {
     "name": "stderr",
     "output_type": "stream",
     "text": [
      "WARNING:root:Removing invalid revolutions (index from beginning of file): [  0 999]\n"
     ]
    },
    {
     "name": "stdout",
     "output_type": "stream",
     "text": [
      "1001\n",
      "16\n"
     ]
    },
    {
     "name": "stderr",
     "output_type": "stream",
     "text": [
      "WARNING:root:Removing invalid revolutions (index from beginning of file): [  0 999]\n"
     ]
    },
    {
     "name": "stdout",
     "output_type": "stream",
     "text": [
      "1001\n",
      "16\n"
     ]
    },
    {
     "name": "stderr",
     "output_type": "stream",
     "text": [
      "WARNING:root:Removing invalid revolutions (index from beginning of file): [  0 999]\n"
     ]
    },
    {
     "name": "stdout",
     "output_type": "stream",
     "text": [
      "1001\n",
      "16\n"
     ]
    },
    {
     "name": "stderr",
     "output_type": "stream",
     "text": [
      "WARNING:root:Removing invalid revolutions (index from beginning of file): [  0 999]\n"
     ]
    },
    {
     "name": "stdout",
     "output_type": "stream",
     "text": [
      "1001\n",
      "16\n"
     ]
    },
    {
     "name": "stderr",
     "output_type": "stream",
     "text": [
      "WARNING:root:Removing invalid revolutions (index from beginning of file): [  0 999]\n"
     ]
    },
    {
     "name": "stdout",
     "output_type": "stream",
     "text": [
      "1001\n",
      "16\n"
     ]
    },
    {
     "name": "stderr",
     "output_type": "stream",
     "text": [
      "WARNING:root:Removing invalid revolutions (index from beginning of file): [  0 999]\n"
     ]
    },
    {
     "name": "stdout",
     "output_type": "stream",
     "text": [
      "1001\n",
      "16\n"
     ]
    },
    {
     "name": "stderr",
     "output_type": "stream",
     "text": [
      "WARNING:root:Removing invalid revolutions (index from beginning of file): [  0 999]\n"
     ]
    },
    {
     "name": "stdout",
     "output_type": "stream",
     "text": [
      "1001\n",
      "16\n"
     ]
    },
    {
     "name": "stderr",
     "output_type": "stream",
     "text": [
      "WARNING:root:Removing invalid revolutions (index from beginning of file): [  0 999]\n"
     ]
    },
    {
     "name": "stdout",
     "output_type": "stream",
     "text": [
      "1001\n",
      "16\n"
     ]
    },
    {
     "name": "stderr",
     "output_type": "stream",
     "text": [
      "WARNING:root:Removing invalid revolutions (index from beginning of file): [  0 999]\n"
     ]
    },
    {
     "name": "stdout",
     "output_type": "stream",
     "text": [
      "1001\n",
      "16\n"
     ]
    },
    {
     "name": "stderr",
     "output_type": "stream",
     "text": [
      "WARNING:root:Removing invalid revolutions (index from beginning of file): [  0 999]\n"
     ]
    },
    {
     "name": "stdout",
     "output_type": "stream",
     "text": [
      "1001\n",
      "16\n"
     ]
    },
    {
     "name": "stderr",
     "output_type": "stream",
     "text": [
      "WARNING:root:Removing invalid revolutions (index from beginning of file): [  0 999]\n"
     ]
    },
    {
     "name": "stdout",
     "output_type": "stream",
     "text": [
      "1001\n",
      "16\n"
     ]
    },
    {
     "name": "stderr",
     "output_type": "stream",
     "text": [
      "WARNING:root:Removing invalid revolutions (index from beginning of file): [  0 999]\n"
     ]
    },
    {
     "name": "stdout",
     "output_type": "stream",
     "text": [
      "1001\n",
      "16\n"
     ]
    },
    {
     "name": "stderr",
     "output_type": "stream",
     "text": [
      "WARNING:root:Removing invalid revolutions (index from beginning of file): [  0 999]\n"
     ]
    },
    {
     "name": "stdout",
     "output_type": "stream",
     "text": [
      "1001\n",
      "16\n"
     ]
    },
    {
     "name": "stderr",
     "output_type": "stream",
     "text": [
      "WARNING:root:Removing invalid revolutions (index from beginning of file): [  0 999]\n"
     ]
    },
    {
     "name": "stdout",
     "output_type": "stream",
     "text": [
      "1001\n",
      "16\n"
     ]
    },
    {
     "name": "stderr",
     "output_type": "stream",
     "text": [
      "WARNING:root:Removing invalid revolutions (index from beginning of file): [  0 999]\n"
     ]
    },
    {
     "name": "stdout",
     "output_type": "stream",
     "text": [
      "1001\n",
      "16\n"
     ]
    },
    {
     "name": "stderr",
     "output_type": "stream",
     "text": [
      "WARNING:root:Removing invalid revolutions (index from beginning of file): [  0 999]\n"
     ]
    },
    {
     "name": "stdout",
     "output_type": "stream",
     "text": [
      "1001\n",
      "16\n"
     ]
    },
    {
     "name": "stderr",
     "output_type": "stream",
     "text": [
      "WARNING:root:Removing invalid revolutions (index from beginning of file): [  0 999]\n"
     ]
    },
    {
     "name": "stdout",
     "output_type": "stream",
     "text": [
      "1001\n",
      "16\n"
     ]
    },
    {
     "name": "stderr",
     "output_type": "stream",
     "text": [
      "WARNING:root:Removing invalid revolutions (index from beginning of file): [  0 999]\n"
     ]
    },
    {
     "name": "stdout",
     "output_type": "stream",
     "text": [
      "1001\n",
      "16\n"
     ]
    },
    {
     "name": "stderr",
     "output_type": "stream",
     "text": [
      "WARNING:root:Removing invalid revolutions (index from beginning of file): [  0 999]\n"
     ]
    },
    {
     "name": "stdout",
     "output_type": "stream",
     "text": [
      "1001\n",
      "16\n"
     ]
    },
    {
     "name": "stderr",
     "output_type": "stream",
     "text": [
      "WARNING:root:Removing invalid revolutions (index from beginning of file): [  0 999]\n"
     ]
    },
    {
     "name": "stdout",
     "output_type": "stream",
     "text": [
      "1001\n",
      "16\n"
     ]
    },
    {
     "name": "stderr",
     "output_type": "stream",
     "text": [
      "WARNING:root:Removing invalid revolutions (index from beginning of file): [  0 999]\n"
     ]
    },
    {
     "name": "stdout",
     "output_type": "stream",
     "text": [
      "1001\n",
      "16\n"
     ]
    },
    {
     "name": "stderr",
     "output_type": "stream",
     "text": [
      "WARNING:root:Removing invalid revolutions (index from beginning of file): [  0 999]\n"
     ]
    },
    {
     "name": "stdout",
     "output_type": "stream",
     "text": [
      "1001\n",
      "16\n"
     ]
    },
    {
     "name": "stderr",
     "output_type": "stream",
     "text": [
      "WARNING:root:Removing invalid revolutions (index from beginning of file): [  0 999]\n"
     ]
    },
    {
     "name": "stdout",
     "output_type": "stream",
     "text": [
      "1001\n",
      "16\n"
     ]
    },
    {
     "name": "stderr",
     "output_type": "stream",
     "text": [
      "WARNING:root:Removing invalid revolutions (index from beginning of file): [  0 999]\n"
     ]
    },
    {
     "name": "stdout",
     "output_type": "stream",
     "text": [
      "1001\n",
      "16\n"
     ]
    },
    {
     "name": "stderr",
     "output_type": "stream",
     "text": [
      "WARNING:root:Removing invalid revolutions (index from beginning of file): [  0 999]\n"
     ]
    },
    {
     "name": "stdout",
     "output_type": "stream",
     "text": [
      "1001\n",
      "16\n"
     ]
    },
    {
     "name": "stderr",
     "output_type": "stream",
     "text": [
      "WARNING:root:Removing invalid revolutions (index from beginning of file): [  0 999]\n"
     ]
    },
    {
     "name": "stdout",
     "output_type": "stream",
     "text": [
      "1001\n",
      "16\n"
     ]
    },
    {
     "name": "stderr",
     "output_type": "stream",
     "text": [
      "WARNING:root:Removing invalid revolutions (index from beginning of file): [  0 999]\n"
     ]
    },
    {
     "name": "stdout",
     "output_type": "stream",
     "text": [
      "1001\n",
      "16\n"
     ]
    },
    {
     "name": "stderr",
     "output_type": "stream",
     "text": [
      "WARNING:root:Removing invalid revolutions (index from beginning of file): [  0 999]\n"
     ]
    },
    {
     "name": "stdout",
     "output_type": "stream",
     "text": [
      "1001\n",
      "16\n"
     ]
    },
    {
     "name": "stderr",
     "output_type": "stream",
     "text": [
      "WARNING:root:Removing invalid revolutions (index from beginning of file): [  0 999]\n"
     ]
    },
    {
     "name": "stdout",
     "output_type": "stream",
     "text": [
      "1001\n",
      "16\n"
     ]
    },
    {
     "name": "stderr",
     "output_type": "stream",
     "text": [
      "WARNING:root:Removing invalid revolutions (index from beginning of file): [  0 999]\n"
     ]
    },
    {
     "name": "stdout",
     "output_type": "stream",
     "text": [
      "1001\n",
      "16\n"
     ]
    },
    {
     "name": "stderr",
     "output_type": "stream",
     "text": [
      "WARNING:root:Removing invalid revolutions (index from beginning of file): [  0 999]\n"
     ]
    },
    {
     "name": "stdout",
     "output_type": "stream",
     "text": [
      "1001\n",
      "16\n"
     ]
    },
    {
     "name": "stderr",
     "output_type": "stream",
     "text": [
      "WARNING:root:Removing invalid revolutions (index from beginning of file): [  0 999]\n"
     ]
    },
    {
     "name": "stdout",
     "output_type": "stream",
     "text": [
      "1001\n",
      "16\n"
     ]
    },
    {
     "name": "stderr",
     "output_type": "stream",
     "text": [
      "WARNING:root:Removing invalid revolutions (index from beginning of file): [  0 999]\n"
     ]
    },
    {
     "name": "stdout",
     "output_type": "stream",
     "text": [
      "1001\n",
      "16\n"
     ]
    },
    {
     "name": "stderr",
     "output_type": "stream",
     "text": [
      "WARNING:root:Removing invalid revolutions (index from beginning of file): [  0 999]\n"
     ]
    },
    {
     "name": "stdout",
     "output_type": "stream",
     "text": [
      "1001\n",
      "16\n"
     ]
    },
    {
     "name": "stderr",
     "output_type": "stream",
     "text": [
      "WARNING:root:Removing invalid revolutions (index from beginning of file): [  0 999]\n"
     ]
    },
    {
     "name": "stdout",
     "output_type": "stream",
     "text": [
      "1001\n",
      "16\n"
     ]
    },
    {
     "name": "stderr",
     "output_type": "stream",
     "text": [
      "WARNING:root:Removing invalid revolutions (index from beginning of file): [  0 999]\n"
     ]
    },
    {
     "name": "stdout",
     "output_type": "stream",
     "text": [
      "1001\n",
      "16\n"
     ]
    },
    {
     "name": "stderr",
     "output_type": "stream",
     "text": [
      "WARNING:root:Removing invalid revolutions (index from beginning of file): [  0 999]\n"
     ]
    },
    {
     "name": "stdout",
     "output_type": "stream",
     "text": [
      "1001\n",
      "16\n"
     ]
    },
    {
     "name": "stderr",
     "output_type": "stream",
     "text": [
      "WARNING:root:Removing invalid revolutions (index from beginning of file): [  0 999]\n"
     ]
    },
    {
     "name": "stdout",
     "output_type": "stream",
     "text": [
      "1001\n",
      "16\n"
     ]
    },
    {
     "name": "stderr",
     "output_type": "stream",
     "text": [
      "WARNING:root:Removing invalid revolutions (index from beginning of file): [  0 999]\n"
     ]
    },
    {
     "name": "stdout",
     "output_type": "stream",
     "text": [
      "1001\n",
      "16\n"
     ]
    },
    {
     "name": "stderr",
     "output_type": "stream",
     "text": [
      "WARNING:root:Removing invalid revolutions (index from beginning of file): [  0 999]\n"
     ]
    },
    {
     "name": "stdout",
     "output_type": "stream",
     "text": [
      "1001\n",
      "16\n"
     ]
    },
    {
     "name": "stderr",
     "output_type": "stream",
     "text": [
      "WARNING:root:Removing invalid revolutions (index from beginning of file): [  0 999]\n"
     ]
    },
    {
     "name": "stdout",
     "output_type": "stream",
     "text": [
      "1001\n",
      "16\n"
     ]
    },
    {
     "name": "stderr",
     "output_type": "stream",
     "text": [
      "WARNING:root:Removing invalid revolutions (index from beginning of file): [  0 999]\n"
     ]
    },
    {
     "name": "stdout",
     "output_type": "stream",
     "text": [
      "1001\n",
      "16\n"
     ]
    },
    {
     "name": "stderr",
     "output_type": "stream",
     "text": [
      "WARNING:root:Removing invalid revolutions (index from beginning of file): [  0 999]\n"
     ]
    },
    {
     "name": "stdout",
     "output_type": "stream",
     "text": [
      "1001\n",
      "16\n"
     ]
    },
    {
     "name": "stderr",
     "output_type": "stream",
     "text": [
      "WARNING:root:Removing invalid revolutions (index from beginning of file): [  0 999]\n"
     ]
    },
    {
     "name": "stdout",
     "output_type": "stream",
     "text": [
      "1001\n",
      "16\n"
     ]
    },
    {
     "name": "stderr",
     "output_type": "stream",
     "text": [
      "WARNING:root:Removing invalid revolutions (index from beginning of file): [  0 999]\n"
     ]
    },
    {
     "name": "stdout",
     "output_type": "stream",
     "text": [
      "1001\n",
      "16\n"
     ]
    },
    {
     "name": "stderr",
     "output_type": "stream",
     "text": [
      "WARNING:root:Removing invalid revolutions (index from beginning of file): [  0 999]\n"
     ]
    },
    {
     "name": "stdout",
     "output_type": "stream",
     "text": [
      "1001\n",
      "16\n"
     ]
    },
    {
     "name": "stderr",
     "output_type": "stream",
     "text": [
      "WARNING:root:Removing invalid revolutions (index from beginning of file): [  0 999]\n"
     ]
    },
    {
     "name": "stdout",
     "output_type": "stream",
     "text": [
      "1001\n",
      "16\n"
     ]
    },
    {
     "name": "stderr",
     "output_type": "stream",
     "text": [
      "WARNING:root:Removing invalid revolutions (index from beginning of file): [  0 999]\n"
     ]
    },
    {
     "name": "stdout",
     "output_type": "stream",
     "text": [
      "1001\n",
      "16\n"
     ]
    },
    {
     "name": "stderr",
     "output_type": "stream",
     "text": [
      "WARNING:root:Removing invalid revolutions (index from beginning of file): [  0 999]\n"
     ]
    },
    {
     "name": "stdout",
     "output_type": "stream",
     "text": [
      "1001\n",
      "16\n"
     ]
    },
    {
     "name": "stderr",
     "output_type": "stream",
     "text": [
      "WARNING:root:Removing invalid revolutions (index from beginning of file): [  0 999]\n"
     ]
    },
    {
     "name": "stdout",
     "output_type": "stream",
     "text": [
      "1001\n",
      "16\n"
     ]
    },
    {
     "name": "stderr",
     "output_type": "stream",
     "text": [
      "WARNING:root:Removing invalid revolutions (index from beginning of file): [  0 999]\n"
     ]
    },
    {
     "name": "stdout",
     "output_type": "stream",
     "text": [
      "1001\n",
      "16\n"
     ]
    },
    {
     "name": "stderr",
     "output_type": "stream",
     "text": [
      "WARNING:root:Removing invalid revolutions (index from beginning of file): [  0 999]\n"
     ]
    },
    {
     "name": "stdout",
     "output_type": "stream",
     "text": [
      "1001\n",
      "16\n"
     ]
    },
    {
     "name": "stderr",
     "output_type": "stream",
     "text": [
      "WARNING:root:Removing invalid revolutions (index from beginning of file): [  0 999]\n"
     ]
    },
    {
     "name": "stdout",
     "output_type": "stream",
     "text": [
      "1001\n",
      "16\n"
     ]
    },
    {
     "name": "stderr",
     "output_type": "stream",
     "text": [
      "WARNING:root:Removing invalid revolutions (index from beginning of file): [  0 999]\n"
     ]
    },
    {
     "name": "stdout",
     "output_type": "stream",
     "text": [
      "1001\n",
      "16\n"
     ]
    },
    {
     "name": "stderr",
     "output_type": "stream",
     "text": [
      "WARNING:root:Removing invalid revolutions (index from beginning of file): [  0 999]\n"
     ]
    },
    {
     "name": "stdout",
     "output_type": "stream",
     "text": [
      "1001\n",
      "16\n"
     ]
    },
    {
     "name": "stderr",
     "output_type": "stream",
     "text": [
      "WARNING:root:Removing invalid revolutions (index from beginning of file): [  0 999]\n"
     ]
    },
    {
     "name": "stdout",
     "output_type": "stream",
     "text": [
      "1001\n",
      "16\n"
     ]
    },
    {
     "name": "stderr",
     "output_type": "stream",
     "text": [
      "WARNING:root:Removing invalid revolutions (index from beginning of file): [  0 999]\n"
     ]
    },
    {
     "name": "stdout",
     "output_type": "stream",
     "text": [
      "1001\n",
      "16\n"
     ]
    },
    {
     "name": "stderr",
     "output_type": "stream",
     "text": [
      "WARNING:root:Removing invalid revolutions (index from beginning of file): [  0 999]\n"
     ]
    },
    {
     "name": "stdout",
     "output_type": "stream",
     "text": [
      "1001\n",
      "16\n"
     ]
    },
    {
     "name": "stderr",
     "output_type": "stream",
     "text": [
      "WARNING:root:Removing invalid revolutions (index from beginning of file): [  0 999]\n"
     ]
    },
    {
     "name": "stdout",
     "output_type": "stream",
     "text": [
      "1001\n",
      "16\n"
     ]
    },
    {
     "name": "stderr",
     "output_type": "stream",
     "text": [
      "WARNING:root:Removing invalid revolutions (index from beginning of file): [  0 999]\n"
     ]
    },
    {
     "name": "stdout",
     "output_type": "stream",
     "text": [
      "1001\n",
      "16\n"
     ]
    }
   ],
   "source": [
    "Q_max = []\n",
    "U_max = []\n",
    "\n",
    "Q_signal_max = []\n",
    "U_signal_max = []\n",
    "\n",
    "for p in phase:\n",
    "    data_max = rt.get_demodulated_data_from_list(filelist=dfile, phase_offset=p)\n",
    "    \n",
    "    Qm = data_max['ch8']['Q'][iQmin]\n",
    "    Um = data_max['ch8']['U'][iQmin]\n",
    "    \n",
    "    Q_base = data_max['ch8']['Q'][277:].mean()\n",
    "    U_base = data_max['ch8']['U'][277:].mean()\n",
    "    \n",
    "    Q_signal = (Q_base - Qm)\n",
    "    U_signal = (U_base - Um)\n",
    "    \n",
    "    Q_max.append(Qm)\n",
    "    U_max.append(Um)\n",
    "    \n",
    "    Q_signal_max.append(Q_signal)\n",
    "    U_signal_max.append(U_signal)\n",
    "\n",
    "Q_max = np.array(Q_max)\n",
    "U_max = np.array(U_max)\n",
    "\n",
    "Q_signal_max = np.array(Q_signal_max)\n",
    "U_signal_max = np.array(U_signal_max)"
   ]
  },
  {
   "cell_type": "code",
   "execution_count": 283,
   "metadata": {
    "collapsed": true
   },
   "outputs": [],
   "source": [
    "plt.figure()\n",
    "plt.plot(phase, Q_max/U_max, linewidth=2, label='Q/U')\n",
    "#plt.plot(phase, U_max, linewidth=2, label='U')\n",
    "plt.title('Tau A Q,U (volts) vs phase')\n",
    "plt.xlabel('Phase offset, [encoder counts]')\n",
    "plt.ylabel('Q/U')\n",
    "#plt.legend()\n",
    "plt.grid()"
   ]
  },
  {
   "cell_type": "code",
   "execution_count": 47,
   "metadata": {},
   "outputs": [],
   "source": [
    "P_max = np.sqrt(Q_max**2 + U_max**2)"
   ]
  },
  {
   "cell_type": "code",
   "execution_count": 290,
   "metadata": {},
   "outputs": [
    {
     "name": "stdout",
     "output_type": "stream",
     "text": [
      "0.029408393736768755\n"
     ]
    }
   ],
   "source": [
    "print (P_max.max()-P_max.min())/P_max.mean()"
   ]
  },
  {
   "cell_type": "code",
   "execution_count": 288,
   "metadata": {
    "collapsed": true
   },
   "outputs": [],
   "source": [
    "plt.figure()\n",
    "plt.plot(phase, P_max, linewidth=2, label='Q/U')\n",
    "#plt.plot(phase, U_max, linewidth=2, label='U')\n",
    "plt.title('Tau A total P (volts) vs phase')\n",
    "plt.xlabel('Phase offset, [encoder counts]')\n",
    "plt.ylabel('Polarization (V)')\n",
    "#plt.legend()\n",
    "plt.grid()"
   ]
  },
  {
   "cell_type": "code",
   "execution_count": 96,
   "metadata": {},
   "outputs": [
    {
     "data": {
      "text/plain": [
       "<matplotlib.legend.Legend at 0x519b0308>"
      ]
     },
     "execution_count": 96,
     "metadata": {},
     "output_type": "execute_result"
    }
   ],
   "source": [
    "plt.figure()\n",
    "var1 = 'T'\n",
    "var2 = 'Q'\n",
    "var3 = 'U'\n",
    "#plt.plot(dd['ch8'][var1], label=' %s, phase offset = 0' % var1)\n",
    "#plt.plot(dd['ch8'][var2], label='%s, phase offset = 0' % var2)\n",
    "plt.plot(dd['ch8'][var3], label='%s, phase offset = 0' % var3)\n",
    "#plt.plot(ddmax['ch8'][var1], label=' %s, phase offset = %d' % (var1, imax))\n",
    "#plt.plot(ddmax['ch8'][var2], label='%s, phase offset = %d' % (var2, imax))\n",
    "#plt.plot(ddmax['ch8'][var1], label=' %s, phase offset = %d' % (var1, imax))\n",
    "#plt.plot(ddmin['ch8'][var2], label='%s, phase offset = %d' % (var2, imin))\n",
    "plt.plot(ddmax['ch8'][var3], label='%s, phase offset = %d' % (var3, iumax))\n",
    "plt.plot(ddmin['ch8'][var3], label='%s, phase offset = %d' % (var3, iumin))\n",
    "plt.xlabel('samples')\n",
    "plt.ylabel('Volts')\n",
    "plt.title('Tau A crossing 10/28/2020')\n",
    "plt.legend()"
   ]
  },
  {
   "cell_type": "code",
   "execution_count": 122,
   "metadata": {},
   "outputs": [
    {
     "data": {
      "text/plain": [
       "<matplotlib.legend.Legend at 0x4205cfc8>"
      ]
     },
     "execution_count": 122,
     "metadata": {},
     "output_type": "execute_result"
    }
   ],
   "source": [
    "plt.figure()\n",
    "var1 = 'T'\n",
    "var2 = 'Q'\n",
    "var3 = 'U'\n",
    "#plt.plot(dd['ch8'][var1], label=' %s, phase offset = 0' % var1)\n",
    "plt.plot(dd['ch8'][var2], label='%s, phase offset = 0' % var2)\n",
    "plt.plot(dd['ch8'][var3], label='%s, phase offset = 0' % var3)\n",
    "#plt.plot(ddmax['ch8'][var1], label=' %s, phase offset = %d' % (var1, imax))\n",
    "plt.plot(ddmax['ch8'][var2], label='%s, phase offset = %d' % (var2, imax))\n",
    "#plt.plot(ddmax['ch8'][var1], label=' %s, phase offset = %d' % (var1, imax))\n",
    "plt.plot(ddmax['ch8'][var3], label='%s, phase offset = %d' % (var3, imax))\n",
    "plt.plot(ddmin['ch8'][var2], label='%s, phase offset = %d' % (var2, imin))\n",
    "plt.plot(ddmin['ch8'][var3], label='%s, phase offset = %d' % (var3, imin))\n",
    "plt.xlabel('samples')\n",
    "plt.ylabel('Volts')\n",
    "plt.title('Tau A crossing 10/28/2020')\n",
    "plt.legend()"
   ]
  },
  {
   "cell_type": "code",
   "execution_count": 22,
   "metadata": {
    "collapsed": true
   },
   "outputs": [],
   "source": [
    "dd = {}"
   ]
  },
  {
   "cell_type": "code",
   "execution_count": 23,
   "metadata": {},
   "outputs": [
    {
     "name": "stderr",
     "output_type": "stream",
     "text": [
      "functions.py:123: H5pyDeprecationWarning: The default file mode will change to 'r' (read-only) in h5py 3.0. To suppress this warning, pass the mode you need to h5py.File(), or set the global default h5.get_config().default_file_mode, or set the environment variable H5PY_DEFAULT_READONLY=1. Available modes are: 'r', 'r+', 'w', 'w-'/'x', 'a'. See the docs for details.\n",
      "  hf = h5py.File(f)\n"
     ]
    }
   ],
   "source": [
    "dd, fld = read_some_data()"
   ]
  },
  {
   "cell_type": "code",
   "execution_count": 24,
   "metadata": {
    "collapsed": true
   },
   "outputs": [],
   "source": [
    "pp = {}"
   ]
  },
  {
   "cell_type": "code",
   "execution_count": 25,
   "metadata": {},
   "outputs": [
    {
     "name": "stderr",
     "output_type": "stream",
     "text": [
      "../realtime_gp.py:86: H5pyDeprecationWarning: The default file mode will change to 'r' (read-only) in h5py 3.0. To suppress this warning, pass the mode you need to h5py.File(), or set the global default h5.get_config().default_file_mode, or set the environment variable H5PY_DEFAULT_READONLY=1. Available modes are: 'r', 'r+', 'w', 'w-'/'x', 'a'. See the docs for details.\n",
      "  h=h5py.File(f)\n"
     ]
    }
   ],
   "source": [
    "flp = get_pointing_files()\n",
    "pp = rt.get_h5_pointing(flp)"
   ]
  },
  {
   "cell_type": "code",
   "execution_count": 26,
   "metadata": {
    "collapsed": true
   },
   "outputs": [],
   "source": [
    "combined = rt.combine_cofe_h5_pointing(dd, pp)"
   ]
  },
  {
   "cell_type": "code",
   "execution_count": 31,
   "metadata": {},
   "outputs": [
    {
     "data": {
      "text/plain": [
       "[<matplotlib.lines.Line2D at 0x794a1488>]"
      ]
     },
     "execution_count": 31,
     "metadata": {},
     "output_type": "execute_result"
    }
   ],
   "source": [
    "plt.figure()\n",
    "chan = 'H3HiAC'\n",
    "var = 'T'\n",
    "plt.plot(combined['sci_data'][rt.nametochan(chan)][var])"
   ]
  },
  {
   "cell_type": "code",
   "execution_count": 25,
   "metadata": {},
   "outputs": [
    {
     "ename": "NameError",
     "evalue": "name 'combined' is not defined",
     "output_type": "error",
     "traceback": [
      "\u001b[1;31m---------------------------------------------------------------------------\u001b[0m",
      "\u001b[1;31mNameError\u001b[0m                                 Traceback (most recent call last)",
      "\u001b[1;32m<ipython-input-25-9e74eedc7870>\u001b[0m in \u001b[0;36m<module>\u001b[1;34m()\u001b[0m\n\u001b[0;32m      1\u001b[0m \u001b[0mfld\u001b[0m \u001b[1;33m=\u001b[0m \u001b[1;33m[\u001b[0m\u001b[1;34m'D:/software_git_repos/polaris/polaris_data/demod_data/20201028/09041300.h5'\u001b[0m\u001b[1;33m]\u001b[0m\u001b[1;33m\u001b[0m\u001b[0m\n\u001b[0;32m      2\u001b[0m \u001b[0mstarttime\u001b[0m\u001b[1;33m,\u001b[0m \u001b[0mendtime\u001b[0m \u001b[1;33m=\u001b[0m \u001b[0mget_file_times\u001b[0m\u001b[1;33m(\u001b[0m\u001b[0mfld\u001b[0m\u001b[1;33m,\u001b[0m \u001b[1;36m7\u001b[0m\u001b[1;33m)\u001b[0m\u001b[1;33m\u001b[0m\u001b[0m\n\u001b[1;32m----> 3\u001b[1;33m \u001b[0mdt\u001b[0m \u001b[1;33m,\u001b[0m \u001b[0mut\u001b[0m\u001b[1;33m=\u001b[0m \u001b[0mrt\u001b[0m\u001b[1;33m.\u001b[0m\u001b[0mconvert_gpstime\u001b[0m\u001b[1;33m(\u001b[0m\u001b[0mstarttime\u001b[0m\u001b[1;33m,\u001b[0m \u001b[0mcombined\u001b[0m\u001b[1;33m[\u001b[0m\u001b[1;34m'gpstime'\u001b[0m\u001b[1;33m]\u001b[0m\u001b[1;33m/\u001b[0m\u001b[1;36m1000\u001b[0m\u001b[1;33m,\u001b[0m \u001b[0mformat\u001b[0m\u001b[1;33m=\u001b[0m\u001b[1;34m'datetime'\u001b[0m\u001b[1;33m)\u001b[0m\u001b[1;33m\u001b[0m\u001b[0m\n\u001b[0m\u001b[0;32m      4\u001b[0m \u001b[0mdt\u001b[0m \u001b[1;33m=\u001b[0m \u001b[0mnp\u001b[0m\u001b[1;33m.\u001b[0m\u001b[0masarray\u001b[0m\u001b[1;33m(\u001b[0m\u001b[0mdt\u001b[0m\u001b[1;33m)\u001b[0m\u001b[1;33m\u001b[0m\u001b[0m\n\u001b[0;32m      5\u001b[0m \u001b[1;32mprint\u001b[0m \u001b[0mdt\u001b[0m\u001b[1;33m[\u001b[0m\u001b[1;36m0\u001b[0m\u001b[1;33m]\u001b[0m\u001b[1;33m\u001b[0m\u001b[0m\n",
      "\u001b[1;31mNameError\u001b[0m: name 'combined' is not defined"
     ]
    }
   ],
   "source": [
    "fld = ['D:/software_git_repos/polaris/polaris_data/demod_data/20201028/09041300.h5']\n",
    "starttime, endtime = get_file_times(fld, 7)\n",
    "dt , ut= rt.convert_gpstime(starttime, combined['gpstime']/1000, format='datetime')\n",
    "dt = np.asarray(dt)\n",
    "print dt[0]"
   ]
  },
  {
   "cell_type": "code",
   "execution_count": 32,
   "metadata": {
    "collapsed": true
   },
   "outputs": [],
   "source": [
    "chan = 'H3HiAC'\n",
    "\n",
    "var = 'T'\n",
    "Tdata = combined['sci_data'][rt.nametochan(chan)][var]\n",
    "\n",
    "var = 'Q'\n",
    "Qdata = combined['sci_data'][rt.nametochan(chan)][var]\n",
    "\n",
    "var = 'U'\n",
    "Udata = combined['sci_data'][rt.nametochan(chan)][var]\n",
    "\n",
    "minutes = (ut-ut[0])/60.\n"
   ]
  },
  {
   "cell_type": "code",
   "execution_count": 33,
   "metadata": {
    "collapsed": true
   },
   "outputs": [],
   "source": [
    "idx = [(minutes>43.) & (minutes<55.)][0]\n",
    "\n",
    "minutes = minutes[idx]\n",
    "\n",
    "Tdata = Tdata[idx]\n",
    "Qdata = Qdata[idx]\n",
    "Udata = Udata[idx]\n",
    "ut = ut[idx]\n",
    "dt = dt[idx]"
   ]
  },
  {
   "cell_type": "code",
   "execution_count": 156,
   "metadata": {},
   "outputs": [
    {
     "data": {
      "text/plain": [
       "<matplotlib.legend.Legend at 0x51011e48>"
      ]
     },
     "execution_count": 156,
     "metadata": {},
     "output_type": "execute_result"
    }
   ],
   "source": [
    "plt.figure()\n",
    "plt.plot(minutes, Tdata, label='T')\n",
    "plt.plot(minutes, Qdata, label='Q')\n",
    "plt.plot(minutes, Udata, label='U')\n",
    "plt.xlabel('Minutes from start')\n",
    "plt.ylabel('Signal (V)')\n",
    "plt.title('Moon Crossing %s' % chan)\n",
    "plt.legend()"
   ]
  },
  {
   "cell_type": "code",
   "execution_count": 35,
   "metadata": {},
   "outputs": [
    {
     "name": "stdout",
     "output_type": "stream",
     "text": [
      "[datetime.datetime(2020, 10, 28, 9, 59, 42, 383000)]\n"
     ]
    }
   ],
   "source": [
    "imin = np.where(Tdata==Tdata.min())\n",
    "print dt[imin]"
   ]
  },
  {
   "cell_type": "code",
   "execution_count": 4,
   "metadata": {},
   "outputs": [],
   "source": [
    "c = 3e8 # m/s\n",
    "k = 1.38e-23 # J/K\n",
    "Ta = 1e-3# mK\n",
    "h = 6.63e-34 # J*s\n",
    "FtoJ = 1e26 #flux to jansky conversion"
   ]
  },
  {
   "cell_type": "code",
   "execution_count": 29,
   "metadata": {},
   "outputs": [],
   "source": [
    "#using slope of line in WMAP paper: https://arxiv.org/pdf/astro-ph/0603450.pdf,  to get flux of tau A at 10 GHz\n",
    "'''\n",
    "#use for Tcrab\n",
    "y1 = 352/FtoJ\n",
    "y1err = 11/FtoJ\n",
    "x1 = 22.5e9\n",
    "\n",
    "y2 = 229/FtoJ\n",
    "y2err = 11/FtoJ\n",
    "x2 = 92.9e9\n",
    "\n",
    "m = np.log10(y2/y1)/np.log10(x2/x1)\n",
    "b = np.log10(y1) - m*np.log10(x1)\n",
    "\n",
    "L = np.log10(x2/x1)\n",
    "\n",
    "merr = np.sqrt((y2err/L/np.log(10)/y2)**2 + (y1err/L/np.log(10)/y1)**2)\n",
    "berr = np.sqrt((y1err/y1/np.log(10))**2 + (merr*np.log(x1))**2)\n",
    "'''\n",
    "\n",
    "#use for Q/Ucrab\n",
    "y1 = 352/FtoJ\n",
    "y1err = 11/FtoJ\n",
    "x1 = 22.5e9\n",
    "\n",
    "y2 = 229/FtoJ\n",
    "y2err = 11/FtoJ\n",
    "x2 = 92.9e9\n",
    "\n",
    "m = np.log10(y2/y1)/np.log10(x2/x1)\n",
    "b = np.log10(y1) - m*np.log10(x1)\n",
    "\n",
    "L = np.log10(x2/x1)\n",
    "\n",
    "merr = np.sqrt((y2err/L/np.log(10)/y2)**2 + (y1err/L/np.log(10)/y1)**2)\n",
    "berr = np.sqrt((y1err/y1/np.log(10))**2 + (merr*np.log(x1))**2)\n",
    "#m = ufloat(m, merr)\n",
    "#b = ufloat(b, berr)"
   ]
  },
  {
   "cell_type": "code",
   "execution_count": 30,
   "metadata": {},
   "outputs": [
    {
     "name": "stdout",
     "output_type": "stream",
     "text": [
      "(-1.6324753352325576, -8.986374021050693)\n"
     ]
    }
   ],
   "source": [
    "print(m,b)"
   ]
  },
  {
   "cell_type": "code",
   "execution_count": 31,
   "metadata": {},
   "outputs": [],
   "source": [
    "def Flux(nu):\n",
    "    nu = nu*1e9\n",
    "    return (10**b * nu**m)*FtoJ"
   ]
  },
  {
   "cell_type": "code",
   "execution_count": 32,
   "metadata": {},
   "outputs": [
    {
     "name": "stdout",
     "output_type": "stream",
     "text": [
      "4.885090644657342  Jy\n"
     ]
    }
   ],
   "source": [
    "Fcrab = Flux(10.)\n",
    "print Fcrab , ' Jy'\n",
    "Fcrab = ufloat(Fcrab, 11.)"
   ]
  },
  {
   "cell_type": "code",
   "execution_count": 33,
   "metadata": {},
   "outputs": [],
   "source": [
    "#polaris numbers\n",
    "nu = 10e9 # Ghz\n",
    "l = c/nu # m\n",
    "\n",
    "fwhm = ufloat(1.31, 0.024) # degrees"
   ]
  },
  {
   "cell_type": "code",
   "execution_count": 34,
   "metadata": {},
   "outputs": [
    {
     "name": "stdout",
     "output_type": "stream",
     "text": [
      "1.10+/-0.04\n",
      "2.20+/-0.08\n",
      "Tcrab: 5+/-12 mK\n"
     ]
    }
   ],
   "source": [
    "#solid angle in sterradians\n",
    "SA = (fwhm**2)*(np.pi/4/np.log(2)/3282.8)\n",
    "Ae = l**2 / SA\n",
    "F = k*Ta/Ae\n",
    "KtoJ = F*FtoJ\n",
    "JtoK = 1/KtoJ\n",
    "Tcrab = Fcrab*JtoK\n",
    "print JtoK\n",
    "print JtoK*2\n",
    "print 'Tcrab: %s mK' % Tcrab"
   ]
  },
  {
   "cell_type": "code",
   "execution_count": 26,
   "metadata": {},
   "outputs": [],
   "source": [
    "Qcrab = ufloat(33,12)\n",
    "Tcrab = ufloat(496,22)\n",
    "Ucrab = ufloat(5,12)"
   ]
  },
  {
   "cell_type": "code",
   "execution_count": 41,
   "metadata": {},
   "outputs": [],
   "source": [
    "Q = 33\n",
    "Qerr = 12\n",
    "U = 5\n",
    "Uerr = 12\n",
    "P = np.sqrt(Q**2 + U**2)\n",
    "Perr = np.sqrt((Q*Qerr)**2 + (U*Uerr)**2)/P"
   ]
  },
  {
   "cell_type": "code",
   "execution_count": 43,
   "metadata": {},
   "outputs": [
    {
     "name": "stdout",
     "output_type": "stream",
     "text": [
      "33.37663853655727 12.0\n",
      "0.0673+/-0.0030\n"
     ]
    }
   ],
   "source": [
    "print P, Perr\n",
    "print P/Tcrab"
   ]
  },
  {
   "cell_type": "code",
   "execution_count": 61,
   "metadata": {},
   "outputs": [],
   "source": [
    "gain = 1.21\n",
    "gainerr = 0.25\n",
    "gain = ufloat(gain, gainerr)\n",
    "\n",
    "#Ierr = np.sqrt((Tsignal*gainerr)**2 +  (gain*Tsignalerr)**2)\n",
    "#Qerr = np.sqrt((Qsignal*gainerr)**2 +  (gain*Qsignalerr)**2)\n",
    "#Uerr = np.sqrt((Usignal*gainerr)**2 +  (gain*Usignalerr)**2)\n",
    "\n",
    "#Perr = np.sqrt((Qsignal*Qerr)**2 + (Usignal*Uerr)**2)/Psignal\n",
    "\n",
    "#PoverIerr = np.sqrt((Perr/Tsignal)**2 + (Psignal*Ierr/Tsignal**4))\n",
    "#print PoverIerr\n",
    "#print Qsignal/Tsignal"
   ]
  },
  {
   "cell_type": "code",
   "execution_count": 85,
   "metadata": {},
   "outputs": [
    {
     "name": "stdout",
     "output_type": "stream",
     "text": [
      "(6.5+/-1.4)e+02\n",
      "45+/-9\n",
      "25+/-5\n",
      "51+/-8\n",
      "7.9+/-2.1\n"
     ]
    }
   ],
   "source": [
    "T =  gain*(670/1.24)\n",
    "Q =  gain*(46/1.24)\n",
    "U =  gain*(26/1.24)\n",
    "print T\n",
    "print Q\n",
    "print U\n",
    "P = np.sqrt(45**2 + 25**2)\n",
    "Perr = np.sqrt(45**2 * 9**2 + 25**2 * 5**2)/P\n",
    "P = ufloat(P, Perr)\n",
    "print P\n",
    "print 100*P/T"
   ]
  },
  {
   "cell_type": "code",
   "execution_count": 64,
   "metadata": {},
   "outputs": [
    {
     "name": "stdout",
     "output_type": "stream",
     "text": [
      "2.04+/-0.16\n",
      "1.7+/-0.4\n"
     ]
    }
   ],
   "source": [
    "print ufloat(1.3, 0.1)*np.pi/2\n",
    "print ufloat(1.11,0.23)*np.pi/2"
   ]
  },
  {
   "cell_type": "code",
   "execution_count": 99,
   "metadata": {},
   "outputs": [
    {
     "name": "stdout",
     "output_type": "stream",
     "text": [
      "0.5\n"
     ]
    }
   ],
   "source": [
    "x1 = 8\n",
    "s1 = 2\n",
    "x2 = 7\n",
    "s2 = 0\n",
    "\n",
    "z = abs(x1-x2)/np.sqrt(s1**2 + s2**2)\n",
    "print z"
   ]
  },
  {
   "cell_type": "code",
   "execution_count": 51,
   "metadata": {},
   "outputs": [
    {
     "name": "stdout",
     "output_type": "stream",
     "text": [
      "(1.7+/-0.5)e+02\n",
      "(1.7+/-0.5)e+02\n",
      "1.010414658934828\n"
     ]
    }
   ],
   "source": [
    "tau = 0.0103608\n",
    "#tau = ln(incident/transmitted)\n",
    "#e^tau = incident/transmitted\n",
    "#incident = transmitted*e^tau\n",
    "\n",
    "print Tsignal*gain\n",
    "print Tsignal*gain*np.exp(tau)\n",
    "print np.exp(tau)"
   ]
  },
  {
   "cell_type": "code",
   "execution_count": 57,
   "metadata": {},
   "outputs": [
    {
     "name": "stdout",
     "output_type": "stream",
     "text": [
      "24+/-7\n"
     ]
    }
   ],
   "source": [
    "print Usignal*gain"
   ]
  },
  {
   "cell_type": "code",
   "execution_count": 59,
   "metadata": {},
   "outputs": [
    {
     "name": "stdout",
     "output_type": "stream",
     "text": [
      "measured I = (6.7+/-0.6)e+02 mK\n",
      "expected I = 496+/-22 mK\n",
      "------------------------\n",
      "measured gain: 1.24+/-0.09 K/V\n",
      "expected gain: 0.92+/-0.06 K/V\n",
      "------------------------\n",
      "measured I = (6.7+/-0.6)e+02 mK\n",
      "measured Q = 46+/-8 mK\n",
      "measured U = 26+/-8 mK\n",
      "measured P = 53+/-8 mK\n",
      "expected P = 34.7+/-1.5 mK\n",
      "------------------------\n",
      "measured polarization fraction: 8.0+/-1.2%\n",
      "expected polarization fraction: ~7%\n",
      "------------------------\n",
      "measured P/I (U~0): 6.9+/-1.2 %\n",
      "expected P/I(U~0): ~7%\n",
      "------------------------\n"
     ]
    }
   ],
   "source": [
    "print 'measured I = %s mK' % (Tsignal*gain)\n",
    "print 'expected I = %s mK' % (Tcrab)\n",
    "#print '%% difference: %s' % (100*abs(Tcrab - Tsignal*gain)/Tcrab)\n",
    "print '------------------------'\n",
    "print 'measured gain: %s K/V' % (gain)\n",
    "print 'expected gain: %s K/V' % (Tcrab/Tsignal)\n",
    "#print '%% difference: %s' % (100*abs(Tcrab/Tsignal - 1.24)/(Tcrab/Tsignal))\n",
    "print '------------------------'\n",
    "print 'measured I = %s mK' % (Tsignal*gain)\n",
    "print 'measured Q = %s mK' % (Qsignal*gain)\n",
    "print 'measured U = %s mK' % (Usignal*gain)\n",
    "print 'measured P = %s mK' % (Psignal*gain)\n",
    "print 'expected P = %s mK' % (0.07*Tcrab)\n",
    "#print '%% difference: %.2f' % (100*abs(Psignal - 0.7*Psignal)/(0.7*Psignal))\n",
    "print '------------------------'\n",
    "print 'measured polarization fraction: %s%%' % (100*Psignal/Tsignal)\n",
    "print 'expected polarization fraction: ~%s%%' % (7)\n",
    "#print '%% difference: %.2f' % (100*(7 - 100*Psignal/Tsignal)/7)\n",
    "print '------------------------'\n",
    "print 'measured P/I (U~0): %s %%' % (100*Qsignal/Tsignal)\n",
    "print 'expected P/I(U~0): ~%s%%' % (7)\n",
    "#print '%% difference(U~0): %s' % (100*abs(7 - 100*Qsignal/Tsignal)/7)\n",
    "print '------------------------'"
   ]
  },
  {
   "cell_type": "code",
   "execution_count": null,
   "metadata": {},
   "outputs": [],
   "source": []
  },
  {
   "cell_type": "code",
   "execution_count": 5,
   "metadata": {},
   "outputs": [
    {
     "data": {
      "text/plain": [
       "72.25663103256524+/-12.566370614359172"
      ]
     },
     "execution_count": 5,
     "metadata": {},
     "output_type": "execute_result"
    }
   ],
   "source": [
    "q = ufloat(46,8)*\n",
    "q"
   ]
  },
  {
   "cell_type": "code",
   "execution_count": 39,
   "metadata": {},
   "outputs": [],
   "source": [
    "gr = 1.21/1.24\n",
    "gre = .25/0.09"
   ]
  },
  {
   "cell_type": "code",
   "execution_count": 47,
   "metadata": {},
   "outputs": [
    {
     "name": "stdout",
     "output_type": "stream",
     "text": [
      "2.77777777778\n"
     ]
    }
   ],
   "source": [
    "print gre"
   ]
  },
  {
   "cell_type": "code",
   "execution_count": 53,
   "metadata": {},
   "outputs": [
    {
     "name": "stdout",
     "output_type": "stream",
     "text": [
      "51.7177419355\n",
      "22.2222222222\n"
     ]
    }
   ],
   "source": [
    "print 53*gr\n",
    "print 8*gre"
   ]
  },
  {
   "cell_type": "code",
   "execution_count": 56,
   "metadata": {},
   "outputs": [
    {
     "name": "stdout",
     "output_type": "stream",
     "text": [
      "8+/-4\n"
     ]
    }
   ],
   "source": [
    "print 100*ufloat(52,22)/ufloat(654,167)"
   ]
  },
  {
   "cell_type": "code",
   "execution_count": 57,
   "metadata": {},
   "outputs": [
    {
     "name": "stdout",
     "output_type": "stream",
     "text": [
      "0.25\n"
     ]
    }
   ],
   "source": [
    "print abs(8-7)/4."
   ]
  },
  {
   "cell_type": "code",
   "execution_count": 58,
   "metadata": {},
   "outputs": [
    {
     "name": "stdout",
     "output_type": "stream",
     "text": [
      "0.92+/-0.11\n",
      "0.9+/-0.4\n",
      "0.2+/-0.6\n"
     ]
    }
   ],
   "source": [
    "Qv = ufloat(46,8)/gain\n",
    "Uv = ufloat(26,8)/gain\n",
    "Tv = ufloat(670,60)/gain\n",
    "\n",
    "expectedTgain = Tcrab/Tv\n",
    "expectedQgain = Qcrab/Qv\n",
    "expectedUgain = Ucrab/Uv\n",
    "\n",
    "print expectedTgain\n",
    "print expectedQgain\n",
    "print expectedUgain\n"
   ]
  },
  {
   "cell_type": "code",
   "execution_count": 63,
   "metadata": {},
   "outputs": [
    {
     "name": "stdout",
     "output_type": "stream",
     "text": [
      "0.217391304348\n",
      "0.7071067811865475\n"
     ]
    }
   ],
   "source": [
    "print 0.2/0.92\n",
    "print 1/np.sqrt(2)"
   ]
  },
  {
   "cell_type": "code",
   "execution_count": 59,
   "metadata": {},
   "outputs": [
    {
     "name": "stdout",
     "output_type": "stream",
     "text": [
      "--------\n",
      "(5.0+/-0.7)e+02\n",
      "33+/-14\n",
      "5+/-12\n"
     ]
    }
   ],
   "source": [
    "Qv = ufloat(46,8)/gain\n",
    "Uv = ufloat(26,8)/gain\n",
    "Tv = ufloat(670,60)/gain\n",
    "\n",
    "print '--------'\n",
    "print Tv*expectedTgain\n",
    "print Qv*expectedQgain\n",
    "print Uv*expectedUgain"
   ]
  },
  {
   "cell_type": "code",
   "execution_count": 262,
   "metadata": {},
   "outputs": [
    {
     "name": "stdout",
     "output_type": "stream",
     "text": [
      "1.15\n",
      "1.2\n"
     ]
    }
   ],
   "source": [
    "print 1.24 - 0.09\n",
    "print 1.1 + .1"
   ]
  },
  {
   "cell_type": "code",
   "execution_count": 266,
   "metadata": {},
   "outputs": [
    {
     "ename": "TypeError",
     "evalue": "float argument required, not AffineScalarFunc",
     "output_type": "error",
     "traceback": [
      "\u001b[1;31m---------------------------------------------------------------------------\u001b[0m",
      "\u001b[1;31mTypeError\u001b[0m                                 Traceback (most recent call last)",
      "\u001b[1;32m<ipython-input-266-fd872701f039>\u001b[0m in \u001b[0;36m<module>\u001b[1;34m()\u001b[0m\n\u001b[1;32m----> 1\u001b[1;33m \u001b[1;32mprint\u001b[0m \u001b[1;34m'measured I = %.2f mK'\u001b[0m \u001b[1;33m%\u001b[0m \u001b[1;33m(\u001b[0m\u001b[0mTsignal\u001b[0m\u001b[1;33m*\u001b[0m\u001b[0mgain\u001b[0m\u001b[1;33m)\u001b[0m\u001b[1;33m\u001b[0m\u001b[0m\n\u001b[0m\u001b[0;32m      2\u001b[0m \u001b[1;32mprint\u001b[0m \u001b[1;34m'expected I = %.2f mK'\u001b[0m \u001b[1;33m%\u001b[0m \u001b[1;33m(\u001b[0m\u001b[0mTcrab\u001b[0m\u001b[1;33m)\u001b[0m\u001b[1;33m\u001b[0m\u001b[0m\n\u001b[0;32m      3\u001b[0m \u001b[1;32mprint\u001b[0m \u001b[1;34m'%% difference: %.2f'\u001b[0m \u001b[1;33m%\u001b[0m \u001b[1;33m(\u001b[0m\u001b[1;36m100\u001b[0m\u001b[1;33m*\u001b[0m\u001b[0mabs\u001b[0m\u001b[1;33m(\u001b[0m\u001b[0mTcrab\u001b[0m \u001b[1;33m-\u001b[0m \u001b[0mTsignal\u001b[0m\u001b[1;33m*\u001b[0m\u001b[0mgain\u001b[0m\u001b[1;33m)\u001b[0m\u001b[1;33m/\u001b[0m\u001b[0mTcrab\u001b[0m\u001b[1;33m)\u001b[0m\u001b[1;33m\u001b[0m\u001b[0m\n\u001b[0;32m      4\u001b[0m \u001b[1;32mprint\u001b[0m \u001b[1;34m'------------------------'\u001b[0m\u001b[1;33m\u001b[0m\u001b[0m\n\u001b[0;32m      5\u001b[0m \u001b[1;32mprint\u001b[0m \u001b[1;34m'measured gain: %.2f K/V'\u001b[0m \u001b[1;33m%\u001b[0m \u001b[1;36m1.24\u001b[0m\u001b[1;33m\u001b[0m\u001b[0m\n",
      "\u001b[1;31mTypeError\u001b[0m: float argument required, not AffineScalarFunc"
     ]
    }
   ],
   "source": [
    "print 'measured I = %.2f mK' % (Tsignal*gain)\n",
    "print 'expected I = %.2f mK' % (Tcrab)\n",
    "print '%% difference: %.2f' % (100*abs(Tcrab - Tsignal*gain)/Tcrab)\n",
    "print '------------------------'\n",
    "print 'measured gain: %.2f K/V' % 1.24\n",
    "print 'expected gain: %.2f K/V' % (Tcrab/Tsignal)\n",
    "print '%% difference: %.2f' % (100*abs(Tcrab/Tsignal - 1.24)/(Tcrab/Tsignal))\n",
    "print '------------------------'\n",
    "print 'measured Q = %.2f mK' % (Qsignal*gain)\n",
    "print 'measured U = %.2f mK' % (Usignal*gain)\n",
    "print 'measured P = %.2f mK' % (Psignal*gain)\n",
    "print 'expected P: %.2f mK' % (0.7*Tsignal*gain)\n",
    "print '%% difference: %.2f' % (100*abs(Psignal - 0.7*Psignal)/(0.7*Psignal))\n",
    "print '------------------------'\n",
    "print 'measured polarization fraction: %.2f%%' % (100*Psignal/Tsignal)\n",
    "print 'expected polarization fraction: ~%.2f%%' % (7)\n",
    "print '%% difference: %.2f' % (100*abs(7 - 100*Psignal/Tsignal)/7)\n",
    "print '------------------------'\n",
    "print 'measured P/I (U~0): %.2f%%' % (100*Qsignal/Tsignal)\n",
    "print 'expected P/I(U~0): ~%.2f%%' % (7)\n",
    "print '%% difference(U~0): %.2f' % (100*abs(7 - 100*Qsignal/Tsignal)/7)\n",
    "print '------------------------'\n"
   ]
  },
  {
   "cell_type": "code",
   "execution_count": null,
   "metadata": {
    "collapsed": true
   },
   "outputs": [],
   "source": []
  }
 ],
 "metadata": {
  "kernelspec": {
   "display_name": "Python 2",
   "language": "python",
   "name": "python2"
  },
  "language_info": {
   "codemirror_mode": {
    "name": "ipython",
    "version": 2
   },
   "file_extension": ".py",
   "mimetype": "text/x-python",
   "name": "python",
   "nbconvert_exporter": "python",
   "pygments_lexer": "ipython2",
   "version": "2.7.16"
  }
 },
 "nbformat": 4,
 "nbformat_minor": 2
}
