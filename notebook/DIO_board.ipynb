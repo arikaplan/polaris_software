{
 "cells": [
  {
   "cell_type": "code",
   "execution_count": 1,
   "metadata": {
    "collapsed": false
   },
   "outputs": [],
   "source": [
    "import sys\n",
    "from mcculw import ul\n",
    "from mcculw.enums import DigitalIODirection\n",
    "sys.path.append('D:\\software_git_repos\\mcculw-examples\\console')\n",
    "sys.path.append('D:\\software_git_repos\\mcculw-examples\\props')\n",
    "import util \n",
    "from digital import DigitalProps\n",
    "\n",
    "from mcculw.ul import ULError\n",
    "import time"
   ]
  },
  {
   "cell_type": "code",
   "execution_count": 2,
   "metadata": {
    "collapsed": true
   },
   "outputs": [],
   "source": [
    "ul.get_config??"
   ]
  },
  {
   "cell_type": "code",
   "execution_count": 113,
   "metadata": {
    "collapsed": false
   },
   "outputs": [],
   "source": [
    "use_device_detection = True\n",
    "\n",
    "def run_example():\n",
    "    board_num = 1\n",
    "\n",
    "    if use_device_detection:\n",
    "        ul.ignore_instacal()\n",
    "        if not util.config_first_detected_device(board_num):\n",
    "            print(\"Could not find device.\")\n",
    "            return\n",
    "        \n",
    "    digital_props = DigitalProps(board_num)\n",
    "    \n",
    "    # Find the first port that supports input, defaulting to None\n",
    "    # if one is not found.\n",
    "    port = next(\n",
    "        (port for port in digital_props.port_info\n",
    "         if port.supports_input), None)\n",
    "    #port = [port for port in digital_props.port_info]\n",
    "    #for p in port:\n",
    "    #    print p.type\n",
    "    #port = port[0]\n",
    "        \n",
    "\n",
    "    if port == None:\n",
    "        util.print_unsupported_example(board_num)\n",
    "        return\n",
    "\n",
    "    try:\n",
    "        # If the port is configurable, configure it for input.\n",
    "        if port.is_port_configurable:\n",
    "            ul.d_config_port(board_num, port.type, DigitalIODirection.IN)\n",
    "\n",
    "        # Get a value from the digital port|\n",
    "        port_value = ul.d_in(board_num, port.type)\n",
    "\n",
    "        # Get a value from the first digital bit\n",
    "        bit_num = 16\n",
    "        for bit_num in range(0,23):\n",
    "            bit_value = ul.d_bit_in(board_num, port.type, bit_num)\n",
    "\n",
    "            # Display the port value\n",
    "            #print(port.type.name + \" Value: \" + str(port_value))\n",
    "            # Display the bit value\n",
    "            print(\"Bit \" + str(bit_num) + \" Value: \" + str(bit_value))\n",
    "    except ULError as e:\n",
    "        util.print_ul_error(e)\n",
    "    finally:\n",
    "        if use_device_detection:\n",
    "            ul.release_daq_device(board_num)"
   ]
  },
  {
   "cell_type": "code",
   "execution_count": null,
   "metadata": {
    "collapsed": true
   },
   "outputs": [],
   "source": [
    "gps_lock = "
   ]
  },
  {
   "cell_type": "code",
   "execution_count": 141,
   "metadata": {
    "collapsed": false
   },
   "outputs": [
    {
     "name": "stdout",
     "output_type": "stream",
     "text": [
      "Found device: USB-1024LS (141822D)\n",
      "\n"
     ]
    }
   ],
   "source": [
    "board_num = 1\n",
    "use_device_detection = True\n",
    "\n",
    "if use_device_detection:\n",
    "    ul.ignore_instacal()\n",
    "    if not util.config_first_detected_device(board_num):\n",
    "        print(\"Could not find device.\")\n",
    "\n",
    "\n",
    "digital_props = DigitalProps(board_num)\n",
    "# Find the first port that supports input, defaulting to None\n",
    "# if one is not found.\n",
    "port = next(\n",
    "    (port for port in digital_props.port_info\n",
    "     if port.supports_input), None)\n",
    "#port = [port for port in digital_props.port_info]\n",
    "#for p in port:\n",
    "#    print p.type\n",
    "#port = port[0]\n",
    "\n",
    "\n",
    "if port == None:\n",
    "    util.print_unsupported_example(board_num)\n",
    "    print 'no port found'\n",
    "    \n",
    "if port.is_port_configurable:\n",
    "    ul.d_config_port(board_num, port.type, DigitalIODirection.IN)\n"
   ]
  },
  {
   "cell_type": "code",
   "execution_count": 143,
   "metadata": {
    "collapsed": false
   },
   "outputs": [
    {
     "name": "stdout",
     "output_type": "stream",
     "text": [
      "Bit 16 Value: 1\n",
      "Bit 17 Value: 0\n",
      "Bit 18 Value: 1\n",
      "0.0429999828339\n"
     ]
    }
   ],
   "source": [
    "t1 = time.time()\n",
    "# Get a value from the first digital bit\n",
    "try:\n",
    "    bit_num = 16\n",
    "    for bit_num in range(16,19):\n",
    "        bit_value = ul.d_bit_in(1, port.type, bit_num)\n",
    "\n",
    "        # Display the port value\n",
    "        #print(port.type.name + \" Value: \" + str(port_value))\n",
    "        # Display the bit value\n",
    "        print(\"Bit \" + str(bit_num) + \" Value: \" + str(bit_value))\n",
    "    print time.time() - t1\n",
    "except ULError as e:\n",
    "    util.print_ul_error(e)"
   ]
  },
  {
   "cell_type": "code",
   "execution_count": 145,
   "metadata": {
    "collapsed": false
   },
   "outputs": [
    {
     "name": "stdout",
     "output_type": "stream",
     "text": [
      "1100\n"
     ]
    }
   ],
   "source": [
    "gps_lock = 1\n",
    "cal_in = 1\n",
    "cal_out = 0\n",
    "acqtype = 0\n",
    "\n",
    "flag = str(gps_lock)+str(cal_in)+str(cal_out)+str(acqtype)\n",
    "print flag"
   ]
  },
  {
   "cell_type": "code",
   "execution_count": 146,
   "metadata": {
    "collapsed": true
   },
   "outputs": [],
   "source": [
    "ul.release_daq_device(board_num)"
   ]
  },
  {
   "cell_type": "code",
   "execution_count": 47,
   "metadata": {
    "collapsed": true
   },
   "outputs": [],
   "source": [
    "#bit 16: cal in\n",
    "#bit 17: cal out\n",
    "#bit 18: 0 for encoder, 1 for emulator"
   ]
  },
  {
   "cell_type": "code",
   "execution_count": 75,
   "metadata": {
    "collapsed": false
   },
   "outputs": [
    {
     "name": "stdout",
     "output_type": "stream",
     "text": [
      "Found device: USB-1024LS (0)\n",
      "\n",
      "Board 1 was not found or is not compatible with this example.\n",
      "0.246999979019\n"
     ]
    }
   ],
   "source": [
    "#for i in range(10):\n",
    "t1 = time.time()\n",
    "run_example()\n",
    "print time.time()-t1"
   ]
  },
  {
   "cell_type": "code",
   "execution_count": 116,
   "metadata": {
    "collapsed": false
   },
   "outputs": [
    {
     "name": "stdout",
     "output_type": "stream",
     "text": [
      "Found device: USB-1024LS (141822D)\n",
      "\n",
      "Bit 0 Value: 1\n",
      "Bit 1 Value: 1\n",
      "Bit 2 Value: 1\n",
      "Bit 3 Value: 1\n",
      "Bit 4 Value: 1\n",
      "Bit 5 Value: 1\n",
      "Bit 6 Value: 1\n",
      "Bit 7 Value: 1\n",
      "Bit 8 Value: 1\n",
      "Bit 9 Value: 1\n",
      "Bit 10 Value: 1\n",
      "Bit 11 Value: 1\n",
      "Bit 12 Value: 1\n",
      "Bit 13 Value: 1\n",
      "Bit 14 Value: 1\n",
      "Bit 15 Value: 1\n",
      "Bit 16 Value: 0\n",
      "Bit 17 Value: 1\n",
      "Bit 18 Value: 0\n",
      "Bit 19 Value: 1\n",
      "Bit 20 Value: 1\n",
      "Bit 21 Value: 1\n",
      "Bit 22 Value: 1\n"
     ]
    }
   ],
   "source": [
    "#for i in range(10):\n",
    "run_example()"
   ]
  },
  {
   "cell_type": "code",
   "execution_count": 31,
   "metadata": {
    "collapsed": true
   },
   "outputs": [],
   "source": [
    "DigitalProps??"
   ]
  },
  {
   "cell_type": "code",
   "execution_count": 254,
   "metadata": {
    "collapsed": true
   },
   "outputs": [],
   "source": [
    "def run_example():\n",
    "    board_num = 1\n",
    "\n",
    "    if use_device_detection:\n",
    "        ul.ignore_instacal()\n",
    "        if not util.config_first_detected_device(board_num):\n",
    "            print(\"Could not find device.\")\n",
    "            return\n",
    "\n",
    "    digital_props = DigitalProps(board_num)\n",
    "\n",
    "    # Find the first port that supports output, defaulting to None\n",
    "    # if one is not found.\n",
    "    port = next(\n",
    "        (port for port in digital_props.port_info\n",
    "         if port.supports_output), None)\n",
    "    if port == None:\n",
    "        util.print_unsupported_example(board_num)\n",
    "        return\n",
    "\n",
    "    try:\n",
    "        # If the port is configurable, configure it for output.\n",
    "        if port.is_port_configurable:\n",
    "            ul.d_config_port(board_num, port.type, DigitalIODirection.OUT)\n",
    "\n",
    "        port_value = 0xFF\n",
    "\n",
    "        print(\n",
    "            \"Setting \" + port.type.name + \" to \" + str(port_value) + \".\")\n",
    "\n",
    "        # Output the value to the port\n",
    "        #ul.d_out(board_num, port.type, port_value)\n",
    "\n",
    "        inout = 1\n",
    "        \n",
    "        #enable cal\n",
    "        ul.d_bit_out(board_num, port.type, 0, 0)\n",
    "        '''    \n",
    "        # Output the value to the bit\n",
    "        #cal in\n",
    "        if inout == 1:\n",
    "            print 'putting cal in' \n",
    "            #put out\n",
    "            ul.d_bit_out(board_num, port.type, 1, 0)\n",
    "            #put in\n",
    "            ul.d_bit_out(board_num, port.type, 2, 1)\n",
    "        #cal out \n",
    "        if inout == 0:\n",
    "            print 'putting cal out'\n",
    "            #put out\n",
    "            ul.d_bit_out(board_num, port.type, 1, 1)\n",
    "            #put in\n",
    "            ul.d_bit_out(board_num, port.type, 2, 0)\n",
    "        '''\n",
    "    except ULError as e:\n",
    "        util.print_ul_error(e)\n",
    "    finally:\n",
    "        if use_device_detection:\n",
    "            ul.release_daq_device(board_num)"
   ]
  },
  {
   "cell_type": "code",
   "execution_count": 255,
   "metadata": {
    "collapsed": true
   },
   "outputs": [],
   "source": [
    "ul.release_daq_device(1)"
   ]
  },
  {
   "cell_type": "code",
   "execution_count": 257,
   "metadata": {
    "collapsed": false
   },
   "outputs": [
    {
     "name": "stdout",
     "output_type": "stream",
     "text": [
      "Found device: USB-1024LS (141822D)\n",
      "\n",
      "Setting FIRSTPORTA to 255.\n"
     ]
    }
   ],
   "source": [
    "run_example()"
   ]
  },
  {
   "cell_type": "code",
   "execution_count": 165,
   "metadata": {
    "collapsed": true
   },
   "outputs": [],
   "source": [
    "ul.d_config_bit??"
   ]
  },
  {
   "cell_type": "code",
   "execution_count": null,
   "metadata": {
    "collapsed": true
   },
   "outputs": [],
   "source": []
  }
 ],
 "metadata": {
  "kernelspec": {
   "display_name": "Python 2",
   "language": "python",
   "name": "python2"
  },
  "language_info": {
   "codemirror_mode": {
    "name": "ipython",
    "version": 2
   },
   "file_extension": ".py",
   "mimetype": "text/x-python",
   "name": "python",
   "nbconvert_exporter": "python",
   "pygments_lexer": "ipython2",
   "version": "2.7.11"
  }
 },
 "nbformat": 4,
 "nbformat_minor": 2
}
