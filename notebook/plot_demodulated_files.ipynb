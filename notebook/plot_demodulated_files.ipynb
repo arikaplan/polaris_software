{
 "cells": [
  {
   "cell_type": "code",
   "execution_count": 1,
   "metadata": {
    "collapsed": false
   },
   "outputs": [],
   "source": [
    "\"\"\"\n",
    "set of scripts to run while taking data for first look analysis\n",
    "(run from main ground_cofe directory so paths work out right\"\"\"\n",
    "import sys\n",
    "sys.path.append('../')\n",
    "sys.path.append('D:\\software_git_repos\\greenpol\\telescope_control')\n",
    "sys.path.append('D:\\software_git_repos\\greenpol\\cofe-python-analysis-tools-master\\utils_meinhold')\n",
    "sys.path.append('D:\\software_git_repos\\greenpol\\cofe-python-analysis-tools-master\\utils_zonca')\n",
    "sys.path.append('D:\\\\software_git_repos\\\\greenpol\\\\telescope_control\\\\VtoT')\n",
    "#sys.path.append('telescope_control\\VtoT')\n",
    "from glob import glob\n",
    "import os\n",
    "import matplotlib.pyplot as plt\n",
    "import cofe_util as cu\n",
    "import demod\n",
    "import h5py\n",
    "import cPickle\n",
    "import numpy as np\n",
    "from numpy.lib import recfunctions as recf\n",
    "from plot_path import *\n",
    "from prm_util import nps\n",
    "import time\n",
    "import scipy.interpolate\n",
    "import numpy.ma as ma\n",
    "import realtime_gp as rt\n",
    "import convert"
   ]
  },
  {
   "cell_type": "code",
   "execution_count": 2,
   "metadata": {
    "collapsed": true
   },
   "outputs": [],
   "source": [
    "fpath='D:/software_git_repos/greenpol/telescope_control/data_aquisition/'\n",
    "yrmoday = '20180302'\n",
    "hour1 = '12'\n",
    "minute1 = '30'\n",
    "hour2 = '12'\n",
    "minute2 = '36'\n",
    "chan = 'ch1'\n",
    "var = 'T'\n",
    "LOCATION = 'UCSB'"
   ]
  },
  {
   "cell_type": "code",
   "execution_count": 3,
   "metadata": {
    "collapsed": false
   },
   "outputs": [],
   "source": [
    "flp=rt.select_h5(fpath,yrmoday,hour1,minute1,hour2,minute2)\n",
    "fld=rt.select_dat(fpath,yrmoday,hour1,minute1,hour2,minute2)[1]"
   ]
  },
  {
   "cell_type": "code",
   "execution_count": 4,
   "metadata": {
    "collapsed": false
   },
   "outputs": [
    {
     "name": "stderr",
     "output_type": "stream",
     "text": [
      "D:\\software_git_repos\\cofe-python-analysis-tools\\utils_zonca\\demod\\datparsing.py:39: VisibleDeprecationWarning: boolean index did not match indexed array along dimension 0; dimension is 255744 but corresponding boolean dimension is 255743\n",
      "  good[duplicates] = False\n"
     ]
    },
    {
     "name": "stdout",
     "output_type": "stream",
     "text": [
      "1000\n",
      "16\n",
      "1000\n",
      "16\n",
      "1000\n",
      "16\n",
      "1000\n",
      "16\n",
      "1000\n",
      "16\n",
      "1000\n",
      "16\n"
     ]
    }
   ],
   "source": [
    "pp = rt.get_h5_pointing(flp)\n",
    "dd = rt.get_demodulated_data_from_list(fld)"
   ]
  },
  {
   "cell_type": "code",
   "execution_count": 5,
   "metadata": {
    "collapsed": true
   },
   "outputs": [],
   "source": [
    "combined = rt.combine_cofe_h5_pointing(dd, pp)"
   ]
  },
  {
   "cell_type": "code",
   "execution_count": 6,
   "metadata": {
    "collapsed": true
   },
   "outputs": [],
   "source": [
    "##select a staring-time and an ending-time, it returns dat files in between\n",
    "def select_dat(fpath,yrmoday,st_hour,st_minute,ed_hour,ed_minute):\n",
    "    \n",
    "    #searching all dat files under selected path\n",
    "    all_fname_demod = glob.glob(fpath+'/demod_data/'+yrmoday+'/*.h5')\n",
    "    all_fname = glob.glob(fpath+'/data/'+yrmoday+'/*.dat')\n",
    "\n",
    "    ftime=time_conv(st_hour,st_minute,ed_hour,ed_minute)  \n",
    "      \n",
    "    star=ftime[0]+ftime[1]\n",
    "    end=ftime[2]+ftime[3]\n",
    "\n",
    "    #search files between selected starting-time and ending-time\n",
    "    sub_fname=[ i for i in all_fname\n",
    "                if i[-12:][:4]>=star and i[-12:][:4]<=end]\n",
    "    \n",
    "    sub_fname_demod = []\n",
    "    sub_fname_mod = []\n",
    "    for f in range(len(sub_fname)):\n",
    "        if os.stat(sub_fname[f]).st_size == 10752000:\n",
    "            fname = sub_fname[f][:66] + 'demod_data/' + sub_fname[f][71:-4]+'.h5'\n",
    "            if fname in all_fname_demod:\n",
    "                sub_fname_demod.append(fname)\n",
    "            else:\n",
    "                sub_fname_mod.append(sub_fname[f])\n",
    "    \n",
    "    return sub_fname_demod, sub_fname_mod"
   ]
  },
  {
   "cell_type": "code",
   "execution_count": 7,
   "metadata": {
    "collapsed": true
   },
   "outputs": [],
   "source": [
    "def select_h5(fpath,yrmoday,st_hour,st_minute,ed_hour,ed_minute):\n",
    "\n",
    "    #searching all hdf5 files under selected path\n",
    "    all_fname=glob.glob(fpath+'/pointing_data/'+yrmoday[4:6]+'-'+yrmoday[6:8]+'-'+yrmoday[0:4]+'/*.h5')\n",
    "   \n",
    "    ftime=time_conv(st_hour,st_minute,ed_hour,ed_minute)\n",
    "    \n",
    "    star=ftime[0]+\"-\"+ftime[1]\n",
    "    end=ftime[2]+\"-\"+ftime[3]\n",
    "\n",
    "    sub_fname=[ i for i in all_fname\n",
    "                if i[-11:][:5]>=star and i[-11:][:5]<=end]\n",
    "    \n",
    "\n",
    "    return sub_fname"
   ]
  },
  {
   "cell_type": "code",
   "execution_count": 8,
   "metadata": {
    "collapsed": false
   },
   "outputs": [],
   "source": [
    "fld_demod, fld = select_dat(fpath,yrmoday,hour1,minute1,hour2,minute2)"
   ]
  },
  {
   "cell_type": "code",
   "execution_count": 9,
   "metadata": {
    "collapsed": false
   },
   "outputs": [],
   "source": [
    "def get_demodulated_h5(filelist):\n",
    "    demod_dd = []\n",
    "    for f in fld_demod:\n",
    "        h = h5py.File(f)\n",
    "        demod_dd.append(h['demod_data'])\n",
    "\n",
    "    demod_dd = np.concatenate(demod_dd)\n",
    "    \n",
    "    return demod_dd"
   ]
  },
  {
   "cell_type": "code",
   "execution_count": 10,
   "metadata": {
    "collapsed": false
   },
   "outputs": [],
   "source": [
    "def get_all_demodulated_data(fld_demod, fld):\n",
    "\n",
    "    if len(fld_demod) != 0 and len(fld) != 0:\n",
    "        demod_dd = get_demodulated_h5(fld_demod)\n",
    "        dd = rt.get_demodulated_data_from_list(fld)\n",
    "        \n",
    "        return np.concatenate((demod_dd, dd), 0)\n",
    "    \n",
    "    elif len(fld_demod) != 0 and len(fld) == 0:\n",
    "        demod_dd = get_demodulated_h5(fld_demod)\n",
    "        \n",
    "        return demod_dd\n",
    "    \n",
    "    elif len(fld_demod) == 0 and len(fld) != 0:\n",
    "        dd = rt.get_demodulated_data_from_list(fld)\n",
    "        \n",
    "        return dd\n",
    "    \n",
    "    else:\n",
    "        print 'need at least one array'\n",
    "        "
   ]
  },
  {
   "cell_type": "code",
   "execution_count": 11,
   "metadata": {
    "collapsed": false
   },
   "outputs": [],
   "source": [
    "fld_demod, fld = select_dat(fpath,yrmoday,hour1,minute1,hour2,minute2)"
   ]
  },
  {
   "cell_type": "code",
   "execution_count": 12,
   "metadata": {
    "collapsed": false
   },
   "outputs": [
    {
     "name": "stdout",
     "output_type": "stream",
     "text": [
      "1000\n",
      "16\n",
      "1000\n",
      "16\n",
      "1000\n",
      "16\n",
      "1000\n",
      "16\n",
      "1000\n",
      "16\n",
      "1000\n",
      "16\n"
     ]
    }
   ],
   "source": [
    "dd=get_all_demodulated_data(fld_demod, fld)"
   ]
  },
  {
   "cell_type": "code",
   "execution_count": 13,
   "metadata": {
    "collapsed": false
   },
   "outputs": [],
   "source": [
    "#combined_demod = rt.combine_cofe_h5_pointing(demod_dd, pp)\n",
    "combined = rt.combine_cofe_h5_pointing(dd, pp)"
   ]
  },
  {
   "cell_type": "code",
   "execution_count": 14,
   "metadata": {
    "collapsed": false
   },
   "outputs": [
    {
     "data": {
      "image/png": "[encoded data removed]",
      "text/plain": [
       "<matplotlib.figure.Figure at 0xaa07a20>"
      ]
     },
     "metadata": {},
     "output_type": "display_data"
    }
   ],
   "source": [
    "plt.plot(combined['sci_data'][chan][var], 'g-')\n",
    "#plt.plot(combined_demod['sci_data'][chan][var], 'b-')\n",
    "plt.show()"
   ]
  },
  {
   "cell_type": "code",
   "execution_count": null,
   "metadata": {
    "collapsed": true
   },
   "outputs": [],
   "source": []
  }
 ],
 "metadata": {
  "kernelspec": {
   "display_name": "Python 2",
   "language": "python",
   "name": "python2"
  },
  "language_info": {
   "codemirror_mode": {
    "name": "ipython",
    "version": 2
   },
   "file_extension": ".py",
   "mimetype": "text/x-python",
   "name": "python",
   "nbconvert_exporter": "python",
   "pygments_lexer": "ipython2",
   "version": "2.7.13"
  }
 },
 "nbformat": 4,
 "nbformat_minor": 0
}
