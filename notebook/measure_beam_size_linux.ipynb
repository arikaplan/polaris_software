{
 "cells": [
  {
   "cell_type": "code",
   "execution_count": 1,
   "metadata": {
    "collapsed": false
   },
   "outputs": [
    {
     "name": "stderr",
     "output_type": "stream",
     "text": [
      "/home/labuser/.local/lib/python2.7/site-packages/pyfits/__init__.py:22: PyFITSDeprecationWarning: PyFITS is deprecated, please use astropy.io.fits\n",
      "  PyFITSDeprecationWarning)  # noqa\n",
      "/usr/lib/python2.7/dist-packages/h5py/__init__.py:36: FutureWarning: Conversion of the second argument of issubdtype from `float` to `np.floating` is deprecated. In future, it will be treated as `np.float64 == np.dtype(float).type`.\n",
      "  from ._conv import register_converters as _register_converters\n"
     ]
    }
   ],
   "source": [
    "import sys\n",
    "import os\n",
    "\n",
    "import numpy as np\n",
    "import datetime  \n",
    "\n",
    "#import Tkinter,tkFileDialog\n",
    "\n",
    "#from Tkinter import *\n",
    "#import ttk\n",
    "\n",
    "#sys.path.append('D:\\\\software_git_repos\\\\cofe-python-analysis-tools\\\\utils_meinhold')\n",
    "sys.path.append('../utils_meinhold')\n",
    "#sys.path.append('D:\\\\software_git_repos\\\\cofe-python-analysis-tools\\\\utils_zonca')\n",
    "sys.path.append('../utils_zonca')\n",
    "#sys.path.append('D:\\\\software_git_repos\\\\cofe-python-analysis-tools\\\\utils_zonca\\\\pointing')\n",
    "sys.path.append('../utils_zonca/pointing')\n",
    "#sys.path.append('D:\\\\software_git_repos\\\\greenpol')\n",
    "sys.path.append('../')\n",
    "#sys.path.append('D:\\\\software_git_repos\\\\greenpol\\\\telescope_control\\\\')\n",
    "sys.path.append('../telescope_control')\n",
    "#sys.path.append('D:\\\\software_git_repos\\\\greenpol\\\\telescope_control\\\\VtoT\\\\')\n",
    "sys.path.append('../VtoT')\n",
    "import realtime_gp as rt\n",
    "import h5py\n",
    "\n",
    "#from functions import *\n",
    "\n",
    "import cPickle\n",
    "from scipy.signal import savgol_filter\n",
    "from scipy import signal, stats\n",
    "\n",
    "import numpy.ma as ma\n",
    "\n",
    "\n",
    "from scipy.optimize import curve_fit"
   ]
  },
  {
   "cell_type": "code",
   "execution_count": 2,
   "metadata": {
    "collapsed": true
   },
   "outputs": [],
   "source": [
    "import healpy as hp\n",
    "import numpy as np\n",
    "import os\n",
    "from os import listdir\n",
    "import matplotlib.pyplot as plt\n",
    "import h5py\n",
    "import numpy.ma as ma\n",
    "from scipy import signal, stats\n",
    "\n",
    "\n",
    "from scipy.optimize import curve_fit"
   ]
  },
  {
   "cell_type": "code",
   "execution_count": 3,
   "metadata": {
    "collapsed": false
   },
   "outputs": [
    {
     "name": "stdout",
     "output_type": "stream",
     "text": [
      "Using matplotlib backend: TkAgg\n"
     ]
    }
   ],
   "source": [
    "%matplotlib auto"
   ]
  },
  {
   "cell_type": "code",
   "execution_count": 4,
   "metadata": {
    "collapsed": true
   },
   "outputs": [],
   "source": [
    "def plotnow_azelsig(data, az, el, chan, var, res, minmax=None, radec=False, supply_index=False, return_map=False, masked=True):\n",
    "    # flp=select_h5(fpath,yrmoday,st_hour,st_minute,ed_hour,ed_minute)\n",
    "    # fld_demod, fld =select_dat(fpath,yrmoday,st_hour,st_minute,ed_hour,ed_minute)\n",
    "    # i=0\n",
    "    # while len(flp)<3:\n",
    "    #\ti+=1\n",
    "    #\tflp=select_h5(fpath,yrmoday,st_hour,int(st_minute)-i,ed_hour,int(ed_minute)+i)\n",
    "\n",
    "    # pp=get_h5_pointing(flp)\n",
    "    ##dd=get_demodulated_data_from_list(fld,supply_index=supply_index)\n",
    "    # dd=get_all_demodulated_data(fld_demod, fld)\n",
    "    # combined=combine_cofe_h5_pointing(dd,pp)\n",
    "\n",
    "    # synchronized data az and el values\n",
    "    az1, el1 = az * 1, el * 1\n",
    "    data = data * 1\n",
    "\n",
    "    # convert to temp for cryo sensors\n",
    "    if chan == 12:\n",
    "        data = convert.convert(data, 'i')\n",
    "    if chan == 13:\n",
    "        data = convert.convert(data, 'e')\n",
    "    if chan == 14:\n",
    "        data = convert.convert(data, 'h')\n",
    "    if chan == 15:\n",
    "        data = convert.convert(data, 'l')\n",
    "\n",
    "    steps = len(data)\n",
    "\n",
    "    # set az/el resolution\n",
    "    dx = res\n",
    "    dy = res\n",
    "\n",
    "    # set up bins/grid\n",
    "    if radec:\n",
    "        x, y = np.arange(0., 360. + dx, dx), np.arange(-90., 90. + dy, dy)\n",
    "    else:\n",
    "        x, y = np.arange(0., 360. + dx, dx), np.arange(0., 90. + dy, dy)\n",
    "    AZ, EL = np.meshgrid(x, y)\n",
    "\n",
    "    # small number for comparing floats\n",
    "    epsilon = 1e-6\n",
    "\n",
    "    # set up matrix for signal\n",
    "    z1 = np.zeros(len(x) * len(y))\n",
    "    sig = np.reshape(z1, (len(y), len(x)))\n",
    "\n",
    "    # set up matrix for keeping track of data points in single bin for averaging\n",
    "    z2 = np.zeros(len(x) * len(y))\n",
    "    count = np.reshape(z2, (len(y), len(x)))\n",
    "\n",
    "    for i in range(steps):\n",
    "        # round az/el points for comparison with grid\n",
    "        el1[i] = round_fraction(el1[i], dy)\n",
    "        az1[i] = round_fraction(az1[i], dx)\n",
    "\n",
    "        # find where data points belong in grid\n",
    "        iel = np.where(abs(y - el1[i]) < epsilon)[0][0]\n",
    "        iaz = np.where(abs(x - az1[i]) < epsilon)[0][0]\n",
    "\n",
    "        # add 1 each time data point lands in same bin\n",
    "        count[iel][iaz] += 1\n",
    "\n",
    "        # add total number of data values in bin\n",
    "        sig[iel][iaz] = sig[iel][iaz] + data[i]\n",
    "\n",
    "        # mask 0 count values so they dont show up in color plot\n",
    "    if masked:\n",
    "        count = ma.masked_where(count == 0.0, count)\n",
    "\n",
    "    # take average of all data points in single bin\n",
    "    sig = sig / count\n",
    "\n",
    "    try:\n",
    "        # change units on plot label\n",
    "        if int(chan[2:]) < 12:\n",
    "            unit = 'V'\n",
    "        else:\n",
    "            unit = 'K'\n",
    "\n",
    "        name = rt.chantoname(chan)\n",
    "    except:\n",
    "        unit = 'C'\n",
    "        name = chan\n",
    "\n",
    "    if return_map:\n",
    "        return AZ, EL, sig\n",
    "    else:\n",
    "        plt.pcolormesh(AZ, EL, sig, cmap='jet')\n",
    "        plt.colorbar(label='Signal, %s' % unit)\n",
    "        if minmax != None:\n",
    "            plt.clim(minmax[0], minmax[1])\n",
    "        else:\n",
    "            plt.clim(data.min(), data.max())\n",
    "        if radec == False:\n",
    "            plt.axis([AZ.min(), AZ.max(), EL.min(), EL.max()])\n",
    "            plt.ylabel('elevation (deg)')\n",
    "            plt.xlabel('azimuth (deg)')\n",
    "        else:\n",
    "            plt.axis([0., 360., -90, 90.])\n",
    "            plt.xlabel('ra (deg)')\n",
    "            plt.ylabel('dec (deg)')\n",
    "        plt.title('%s %s data binned to azimuth and elevation' % (name, var))\n",
    "        plt.grid()\n",
    "        plt.show()\n"
   ]
  },
  {
   "cell_type": "code",
   "execution_count": 5,
   "metadata": {
    "collapsed": true
   },
   "outputs": [],
   "source": [
    "def nametochan(name):\n",
    "    #function to convert channel numbers to channel names\n",
    "\n",
    "    #names of each channel\n",
    "    chans = {\n",
    "        'all': 'all',  'H1HiAC':'ch0',  'H1HiDC':'ch1',\n",
    "        'H1LoAC':'ch2' ,  'H1LoDC':'ch3 ', 'H2HiAC':'ch4' ,\n",
    "        'H2HiDC':'ch5' ,  'H2LoAC':'ch6',  'H2LoDC':'ch7',\n",
    "        'H3HiAC':'ch8', 'H3HiDC':'ch9',  'H3LoAC':'ch10',\n",
    "         'H3LoDC':'ch11', 'Backend TSS':'ch12', 'Amplifier': 'ch13',\n",
    "        'Cooler':'ch14', 'Calibrator':'ch15'}\n",
    "\n",
    "    chan = chans[name]\n",
    "\n",
    "    return chan"
   ]
  },
  {
   "cell_type": "code",
   "execution_count": 6,
   "metadata": {
    "collapsed": true
   },
   "outputs": [],
   "source": [
    "#round number to nearest resolution\n",
    "def round_fraction(number, res):\n",
    "\tamount = int(number/res)*res\n",
    "\tremainder = number - amount\n",
    "\treturn amount if remainder < res/2. else amount+res"
   ]
  },
  {
   "cell_type": "code",
   "execution_count": 14,
   "metadata": {
    "collapsed": false
   },
   "outputs": [],
   "source": [
    "f = \"../../polaris_data/demod_data/H1DC_Moon.h5\"\n",
    "data=h5py.File(f)['data']"
   ]
  },
  {
   "cell_type": "code",
   "execution_count": 8,
   "metadata": {
    "collapsed": true
   },
   "outputs": [],
   "source": [
    "gain = -4.11"
   ]
  },
  {
   "cell_type": "code",
   "execution_count": 9,
   "metadata": {
    "collapsed": true
   },
   "outputs": [],
   "source": [
    "Tdata = data['TEMP']\n",
    "ra = np.degrees(data['PHI'])\n",
    "dec = np.degrees(np.pi/2. - data['THETA'])\n",
    "\n",
    "phi = data['PHI']\n",
    "theta = data['THETA']"
   ]
  },
  {
   "cell_type": "code",
   "execution_count": 10,
   "metadata": {
    "collapsed": true
   },
   "outputs": [],
   "source": [
    "chan='H1HiDC'"
   ]
  },
  {
   "cell_type": "code",
   "execution_count": 11,
   "metadata": {
    "collapsed": false
   },
   "outputs": [
    {
     "name": "stderr",
     "output_type": "stream",
     "text": [
      "/usr/lib/python2.7/dist-packages/ipykernel_launcher.py:72: RuntimeWarning: invalid value encountered in divide\n"
     ]
    }
   ],
   "source": [
    "var = 'T'\n",
    "RA, DEC, sig = plotnow_azelsig(Tdata, ra, dec, nametochan(chan), var, 0.1, minmax=None, radec=True, return_map=True, masked=False)"
   ]
  },
  {
   "cell_type": "code",
   "execution_count": 12,
   "metadata": {
    "collapsed": false
   },
   "outputs": [
    {
     "name": "stderr",
     "output_type": "stream",
     "text": [
      "/home/labuser/.local/lib/python2.7/site-packages/numpy/core/_methods.py:29: RuntimeWarning: invalid value encountered in reduce\n",
      "  return umr_minimum(a, axis, None, out, keepdims)\n",
      "/home/labuser/.local/lib/python2.7/site-packages/numpy/core/_methods.py:26: RuntimeWarning: invalid value encountered in reduce\n",
      "  return umr_maximum(a, axis, None, out, keepdims)\n"
     ]
    }
   ],
   "source": [
    "plt.figure()\n",
    "plt.pcolormesh(RA, DEC, sig, cmap='jet')\n",
    "plt.colorbar(label = 'Signal, V')\n",
    "vmax = -0.2*gain\n",
    "vmin = 0.0\n",
    "plt.clim(vmin,vmax)\n",
    "radec=True\n",
    "if radec == False:\n",
    "    plt.axis([AZ.min(), AZ.max(), EL.min(), EL.max()])\n",
    "    plt.ylabel('elevation (deg)')\n",
    "    plt.xlabel('azimuth (deg)')\n",
    "else:\n",
    "    plt.axis([0., 360., -90, 90.])\n",
    "    plt.xlabel('ra (deg)')\n",
    "    plt.ylabel('dec (deg)')\n",
    "plt.title('%s %s removed binned az mean' % (chan, var))\n",
    "plt.grid()\n",
    "plt.show()"
   ]
  },
  {
   "cell_type": "code",
   "execution_count": 15,
   "metadata": {
    "collapsed": false
   },
   "outputs": [
    {
     "ename": "NameError",
     "evalue": "name 'data_clean' is not defined",
     "output_type": "error",
     "traceback": [
      "\u001b[0;31m---------------------------------------------------------------------------\u001b[0m",
      "\u001b[0;31mNameError\u001b[0m                                 Traceback (most recent call last)",
      "\u001b[0;32m<ipython-input-15-672aee2df442>\u001b[0m in \u001b[0;36m<module>\u001b[0;34m()\u001b[0m\n\u001b[1;32m      1\u001b[0m \u001b[0mvar\u001b[0m \u001b[0;34m=\u001b[0m \u001b[0;34m'T'\u001b[0m\u001b[0;34m\u001b[0m\u001b[0m\n\u001b[1;32m      2\u001b[0m \u001b[0;31m#sigc, AZc, REVc = plotnow_azrevsig(data_clean['T'], azclean, rt.nametochan(chan), var, minmax = None, return_map=True)\u001b[0m\u001b[0;34m\u001b[0m\u001b[0;34m\u001b[0m\u001b[0m\n\u001b[0;32m----> 3\u001b[0;31m \u001b[0msig\u001b[0m\u001b[0;34m,\u001b[0m \u001b[0mAZ\u001b[0m\u001b[0;34m,\u001b[0m \u001b[0mREV\u001b[0m \u001b[0;34m=\u001b[0m \u001b[0mrt\u001b[0m\u001b[0;34m.\u001b[0m\u001b[0mplotnow_azrevsig\u001b[0m\u001b[0;34m(\u001b[0m\u001b[0mdata_clean\u001b[0m\u001b[0;34m[\u001b[0m\u001b[0mvar\u001b[0m\u001b[0;34m]\u001b[0m\u001b[0;34m,\u001b[0m \u001b[0mazclean\u001b[0m\u001b[0;34m,\u001b[0m \u001b[0mrt\u001b[0m\u001b[0;34m.\u001b[0m\u001b[0mnametochan\u001b[0m\u001b[0;34m(\u001b[0m\u001b[0mchan\u001b[0m\u001b[0;34m)\u001b[0m\u001b[0;34m,\u001b[0m \u001b[0;34m'T'\u001b[0m\u001b[0;34m,\u001b[0m \u001b[0mminmax\u001b[0m \u001b[0;34m=\u001b[0m \u001b[0mNone\u001b[0m\u001b[0;34m,\u001b[0m \u001b[0mreturn_map\u001b[0m\u001b[0;34m=\u001b[0m\u001b[0mTrue\u001b[0m\u001b[0;34m)\u001b[0m\u001b[0;34m\u001b[0m\u001b[0m\n\u001b[0m",
      "\u001b[0;31mNameError\u001b[0m: name 'data_clean' is not defined"
     ]
    }
   ],
   "source": [
    "var = 'T'\n",
    "#sigc, AZc, REVc = plotnow_azrevsig(data_clean['T'], azclean, rt.nametochan(chan), var, minmax = None, return_map=True)\n",
    "sig, AZ, REV = rt.plotnow_azrevsig(data_clean[var], azclean, rt.nametochan(chan), 'T', minmax = None, return_map=True)"
   ]
  },
  {
   "cell_type": "code",
   "execution_count": null,
   "metadata": {
    "collapsed": true
   },
   "outputs": [],
   "source": [
    "plt.figure()\n",
    "vmin = -0.2\n",
    "vmax = 0.0\n",
    "#plt.subplot(1,2,1)\n",
    "plt.imshow(sig, vmin = vmin, vmax = vmax, cmap='jet', origin='lower', aspect='auto')\n",
    "plt.xlabel('azimuth (deg)')\n",
    "plt.ylabel('revolution #')\n",
    "plt.title('%s %s data - mean' % (chan, var))\n",
    "plt.grid()\n",
    "plt.colorbar(label = 'Signal, V')"
   ]
  },
  {
   "cell_type": "code",
   "execution_count": null,
   "metadata": {
    "collapsed": true
   },
   "outputs": [],
   "source": [
    "ramin = 64.7\n",
    "ramax = 67.17\n",
    "decmin = 14.72\n",
    "decmax = 17.61\n",
    "\n",
    "data_crab = Tdata[(ra>ramin) & (ra<ramax) & (dec>decmin) & (dec<decmax)]\n",
    "ra_crab = ra[(ra>ramin) & (ra<ramax) & (dec>decmin) & (dec<decmax)]\n",
    "dec_crab = dec[(ra>ramin) & (ra<ramax) & (dec>decmin) & (dec<decmax)]"
   ]
  },
  {
   "cell_type": "code",
   "execution_count": null,
   "metadata": {
    "collapsed": false
   },
   "outputs": [],
   "source": [
    "var = 'T'\n",
    "RA, DEC, sig = plotnow_azelsig(data_crab, ra_crab, dec_crab, rt.nametochan(chan), var, 0.1, minmax=None, radec=True, return_map=True, masked=False)"
   ]
  },
  {
   "cell_type": "code",
   "execution_count": null,
   "metadata": {
    "collapsed": false
   },
   "outputs": [],
   "source": [
    "plt.figure()\n",
    "plt.pcolormesh(RA, DEC, sig, cmap='jet')\n",
    "plt.colorbar(label = 'Signal, V')\n",
    "vmax = -0.5*gain\n",
    "vmin = 0.0\n",
    "plt.clim(vmin,vmax)\n",
    "radec=True\n",
    "if radec == False:\n",
    "    plt.axis([AZ.min(), AZ.max(), EL.min(), EL.max()])\n",
    "    plt.ylabel('elevation (deg)')\n",
    "    plt.xlabel('azimuth (deg)')\n",
    "else:\n",
    "    plt.axis([0., 360., -90, 90.])\n",
    "    plt.xlabel('ra (deg)')\n",
    "    plt.ylabel('dec (deg)')\n",
    "plt.title('Tau A 10/28/2020')\n",
    "plt.grid()\n",
    "plt.show()"
   ]
  },
  {
   "cell_type": "code",
   "execution_count": null,
   "metadata": {
    "collapsed": false
   },
   "outputs": [],
   "source": [
    "dmax = data_crab.max()\n",
    "ramax = ra_crab[data_crab == dmax][0]\n",
    "decmax = dec_crab[data_crab == dmax][0]\n",
    "print ramax, decmax"
   ]
  },
  {
   "cell_type": "code",
   "execution_count": null,
   "metadata": {
    "collapsed": true
   },
   "outputs": [],
   "source": [
    "res = 0.1\n",
    "dra = data_crab[abs(dec_crab - decmax) <= res]\n",
    "raline = ra_crab[abs(dec_crab - decmax) <= res]\n",
    "\n",
    "ddec = data_crab[abs(ra_crab - ramax) <= res]\n",
    "decline = dec_crab[abs(ra_crab - ramax) <= res]\n",
    "\n",
    "rasort = np.argsort(raline)\n",
    "dra = dra[rasort]\n",
    "raline = raline[rasort]\n",
    "\n",
    "decsort = np.argsort(decline)\n",
    "ddec = ddec[decsort]\n",
    "decline = decline[decsort]"
   ]
  },
  {
   "cell_type": "code",
   "execution_count": null,
   "metadata": {
    "collapsed": false
   },
   "outputs": [],
   "source": [
    "plt.figure()\n",
    "plt.plot(decline, ddec, 'k-')\n",
    "plt.title('Tau A profile along Dec')\n",
    "plt.xlabel('Dec (deg)')\n",
    "plt.ylabel('Signal (K)')\n",
    "plt.grid()"
   ]
  },
  {
   "cell_type": "code",
   "execution_count": null,
   "metadata": {
    "collapsed": false
   },
   "outputs": [],
   "source": [
    "plt.figure()\n",
    "plt.plot(raline, dra, 'k-')\n",
    "plt.title('Tau A profile along ra')\n",
    "plt.xlabel('ra (deg)')\n",
    "plt.ylabel('Signal (K)')\n",
    "plt.grid()"
   ]
  },
  {
   "cell_type": "code",
   "execution_count": null,
   "metadata": {
    "collapsed": true
   },
   "outputs": [],
   "source": [
    "def func(ra, o, A, mu, sig):\n",
    "    return o + A*np.exp(-(ra-mu)**2 / 2 / sig**2)"
   ]
  },
  {
   "cell_type": "code",
   "execution_count": null,
   "metadata": {
    "collapsed": false
   },
   "outputs": [],
   "source": [
    "rapopt, rapcov = curve_fit(func, raline, dra ,p0=[0.5, 1.5, 65.8, 1.0])\n",
    "raoffset, raamplitude, ramean, rastd = rapopt\n",
    "rafwhm = 2*rastd*np.sqrt(2*np.log(2))\n",
    "raerr = np.sqrt(np.diag(rapcov))\n",
    "rafwhmerr = raerr[-1]\n",
    "\n",
    "print 'RA profile:'\n",
    "print 'offset: %.2f K' % raoffset\n",
    "print 'Amplitude: %.2f K' % raamplitude\n",
    "print 'True Signal Amplitude: %.2f K' % (raamplitude - raoffset)\n",
    "print 'Mean: %.2f K' % ramean\n",
    "print 'Standar Deviation: %.2f K' % rastd\n",
    "print 'FWHM: %.2f +/- %.2f deg' % (rafwhm, rafwhmerr)\n",
    "print '-------------------------'\n",
    "\n",
    "decpopt, decpcov = curve_fit(func, decline, ddec ,p0=[0.6, 1.8, 16., 1.0])\n",
    "decoffset, decamplitude, decmean, decstd = decpopt\n",
    "decfwhm = 2*decstd*np.sqrt(2*np.log(2))\n",
    "decerr = np.sqrt(np.diag(decpcov))\n",
    "decfwhmerr = decerr[-1]\n",
    "\n",
    "print 'DEC profile'\n",
    "print 'offset: %.2f K' % decoffset\n",
    "print 'Amplitude: %.2f K' % decamplitude\n",
    "print 'True Signal Amplitude: %.2f K' % (decamplitude - decoffset)\n",
    "print 'Mean: %.2f K' % decmean\n",
    "print 'Standar Deviation: %.2f K' % decstd\n",
    "print 'FWHM: %.2f +/- %.2f deg' % (decfwhm, decfwhmerr)\n",
    "print '-------------------------'\n",
    "print 'Avg Signal Amplitude: %.2f K' % (((decamplitude - decoffset)+(raamplitude - raoffset))/2.)"
   ]
  },
  {
   "cell_type": "code",
   "execution_count": null,
   "metadata": {
    "collapsed": true
   },
   "outputs": [],
   "source": [
    "measured_tau_ra = func(raline, *rapopt)- raoffset\n",
    "measured_tau_dec = func(decline, *decpopt)- decoffset"
   ]
  },
  {
   "cell_type": "code",
   "execution_count": null,
   "metadata": {
    "collapsed": false
   },
   "outputs": [],
   "source": [
    "plt.figure()\n",
    "plt.subplot(1,2,1)\n",
    "plt.plot(raline, dra-raoffset, 'b--', linewidth=2, label='Tau A Signal')\n",
    "plt.plot(raline, measured_tau_ra, 'k-', linewidth=2, label='gaussian fit FWHM = %.2f$^\\circ$ $\\pm$ %.2f$^\\circ$' % (rafwhm, rafwhmerr))\n",
    "plt.title('Tau A profile along RA')\n",
    "plt.xlabel('RA (deg)')\n",
    "plt.ylabel('Signal (K)')\n",
    "plt.legend()\n",
    "plt.grid()\n",
    "\n",
    "plt.subplot(1, 2, 2)\n",
    "plt.plot(decline, ddec-decoffset, 'r--', linewidth=2, label='Tau A Signal')\n",
    "plt.plot(decline, measured_tau_dec, 'k-', linewidth=2, label='gaussian fit FWHM = %.2f$^\\circ$ $\\pm$ %.2f$^\\circ$' % (decfwhm, decfwhmerr))\n",
    "plt.title('Tau A profile along Dec')\n",
    "plt.xlabel('Dec (deg)')\n",
    "plt.ylabel('Signal (K)')\n",
    "plt.legend()\n",
    "plt.grid()"
   ]
  },
  {
   "cell_type": "code",
   "execution_count": null,
   "metadata": {
    "collapsed": true
   },
   "outputs": [],
   "source": [
    "#make a tau A profile in RA\n",
    "tau_fwhm = 0.533\n",
    "tau_std = tau_fwhm/2./np.sqrt(2*np.log(2))\n",
    "dtau = func(raline, 0., raamplitude, ramean, tau_std)\n",
    "#dtau = dtau/dtau.sum()\n",
    "\n",
    "\n",
    "#guess at beam size and make profile\n",
    "beam_fwhm = 1.3\n",
    "beam_std = beam_fwhm/2./np.sqrt(2*np.log(2))\n",
    "dbeam = func(raline, 0., raamplitude, ramean, beam_std)\n",
    "\n",
    "delta = np.zeros(len(measured_tau_ra))\n",
    "imax = np.where(measured_tau_ra==measured_tau_ra.max())[0]\n",
    "delta[imax]=1.\n",
    "\n",
    "tau_norm = measured_tau_ra/measured_tau_ra.sum() \n",
    "\n",
    "\n",
    "dconvolved = np.convolve(dtau, dbeam, 'same')\n",
    "#dconvolved[-5:] = dconvolved[-6]\n",
    "\n",
    "#dconvolved = dconvolved - (dconvolved.min()-dtau.min())\n",
    "#dconvolved = dconvolved*dtau.max()/dconvolved.max()"
   ]
  },
  {
   "cell_type": "code",
   "execution_count": null,
   "metadata": {
    "collapsed": true
   },
   "outputs": [],
   "source": [
    "popt, cov = curve_fit(func, raline, dconvolved ,p0=[0.5, 1.5, 65.8, 1.0])\n",
    "offset, amplitude, mean, std = popt\n",
    "fwhm = 2*std*np.sqrt(2*np.log(2))\n",
    "convolved_fit = (func(raline, offset, amplitude, ramean, std) - offset)*raamplitude/amplitude"
   ]
  },
  {
   "cell_type": "code",
   "execution_count": null,
   "metadata": {
    "collapsed": false
   },
   "outputs": [],
   "source": [
    "plt.figure()\n",
    "plt.plot(raline, dtau, linewidth=2, label='Theoretical Tau A Profile, FHWM = %.2f$^{\\circ}$' % tau_fwhm)\n",
    "plt.plot(raline, dbeam, linewidth=2, label='Guessed Beam Profile, FHWM = %.2f$^{\\circ}$' % beam_fwhm)\n",
    "#plot(raline, (dconvolved-offset)*raamplitude/amp, linewidth=2, label='Tau A convolved with %.2f$^{\\circ}$ beam' % beam_fwhm)\n",
    "#plot(raline, delta, linewidth=2, label='delta fcn')\n",
    "plt.plot(raline, convolved_fit, 'k--', linewidth=2, label='Tau A convolved with %.2f$^{\\circ}$ beam, FHWM = %.2f$^{\\circ}$' % (beam_fwhm, fwhm))\n",
    "plt.plot(raline, measured_tau_ra, linewidth=2, label='Measured Tau A profile, FHWM = %.2f$^{\\circ}$' % rafwhm)\n",
    "plt.title('Tau A profile along RA, Assumed perfect gaussian for beam shape, amplitudes are scaled to match')\n",
    "plt.xlabel('RA (deg)')\n",
    "plt.ylabel('Signal (K)')\n",
    "plt.legend()\n",
    "plt.grid()"
   ]
  },
  {
   "cell_type": "code",
   "execution_count": null,
   "metadata": {
    "collapsed": true
   },
   "outputs": [],
   "source": [
    "tau_fwhm = 0.533\n",
    "tau_std = tau_fwhm/2./np.sqrt(2*np.log(2))\n",
    "dtau = func(raline, 0., raamplitude, ramean, tau_std)\n",
    "\n",
    "imax = np.where(dtau == dtau.max())[0]\n",
    "\n",
    "db = 0.0001\n",
    "dev = 0.04\n",
    "beams = np.arange(1.3-dev, 1.3+dev+db, db)\n",
    "chi2min = 1e6\n",
    "chisquared = []\n",
    "for b in beams:\n",
    "    #guess at beam size and make profile\n",
    "    beam_fwhm = b\n",
    "    beam_std = beam_fwhm/2./np.sqrt(2*np.log(2))\n",
    "    dbeam = func(raline, 0., raamplitude, ramean, beam_std)\n",
    "\n",
    "    dconvolved = np.convolve(dtau, dbeam, 'same')\n",
    "\n",
    "    popt, cov = curve_fit(func, raline, dconvolved ,p0=[0.5, 1.5, 65.8, 1.0])\n",
    "    offset, amplitude, mean, std = popt\n",
    "    fwhm = 2*std*np.sqrt(2*np.log(2))\n",
    "    convolved_fit = (func(raline, offset, amplitude, ramean, std) - offset)*raamplitude/amplitude\n",
    "    \n",
    "    chi2, p = stats.chisquare(convolved_fit, measured_tau_ra) \n",
    "    chisquared.append(chi2)\n",
    "    \n",
    "    if chi2 < chi2min:\n",
    "        chi2min = chi2\n",
    "        beamwidth = b\n",
    "        pmin = p\n",
    "        \n",
    "chisqaured = np.array(chisquared)"
   ]
  },
  {
   "cell_type": "code",
   "execution_count": null,
   "metadata": {
    "collapsed": false
   },
   "outputs": [],
   "source": [
    "plt.figure()\n",
    "plt.plot(beams, chisquared, 'k--')\n",
    "plt.xlabel('beam size (deg)')\n",
    "plt.ylabel('$\\chi^2$')\n",
    "plt.title('$\\chi^2_{min}$ = %.1f, beam size = %.3f$^{\\circ}$' % (chi2min, beamwidth))"
   ]
  },
  {
   "cell_type": "code",
   "execution_count": null,
   "metadata": {
    "collapsed": true
   },
   "outputs": [],
   "source": [
    "#guess at beam size and make profile\n",
    "beam_fwhm = beamwidth\n",
    "beam_std = beam_fwhm/2./np.sqrt(2*np.log(2))\n",
    "dbeam = func(raline, 0., raamplitude, ramean, beam_std)\n",
    "\n",
    "dconvolved = np.convolve(dtau, dbeam, 'same')\n",
    "\n",
    "popt, cov = curve_fit(func, raline, dconvolved ,p0=[0.5, 1.5, 65.8, 1.0])\n",
    "offset, amplitude, mean, std = popt\n",
    "fwhm = 2*std*np.sqrt(2*np.log(2))\n",
    "convolved_fit = (func(raline, offset, amplitude, ramean, std) - offset)*raamplitude/amplitude"
   ]
  },
  {
   "cell_type": "code",
   "execution_count": null,
   "metadata": {
    "collapsed": false
   },
   "outputs": [],
   "source": [
    "plt.figure()\n",
    "plt.plot(raline, dtau, linewidth=2, label='Theoretical Tau A Profile, FHWM = %.2f$^{\\circ}$' % tau_fwhm)\n",
    "plt.plot(raline, dbeam, linewidth=2, label='Guessed Beam Profile, FHWM = %.2f$^{\\circ}$' % beam_fwhm)\n",
    "#plot(raline, (dconvolved-offset)*raamplitude/amp, linewidth=2, label='Tau A convolved with %.2f$^{\\circ}$ beam' % beam_fwhm)\n",
    "#plot(raline, delta, linewidth=2, label='delta fcn')\n",
    "plt.plot(raline, measured_tau_ra, linewidth=2, label='Measured Tau A profile, FHWM = %.2f$^{\\circ}$' % rafwhm)\n",
    "plt.plot(raline, convolved_fit, 'k--', linewidth=2, label='Tau A convolved with %.2f$^{\\circ}$ beam, FHWM = %.2f$^{\\circ}$' % (beam_fwhm, fwhm))\n",
    "plt.title('Tau A profile along RA, Assumed perfect gaussian for beam shape, amplitudes are scaled to match')\n",
    "plt.xlabel('RA (deg)')\n",
    "plt.ylabel('Signal (K)')\n",
    "plt.legend()\n",
    "plt.grid()"
   ]
  },
  {
   "cell_type": "code",
   "execution_count": null,
   "metadata": {
    "collapsed": true
   },
   "outputs": [],
   "source": [
    "fname = 'C:/Users/akkap/Documents/school/grad school/research/Programs/Moon/OUTMAPDSP_180.dat'\n",
    "moon = np.loadtxt(fname, skiprows = 3)"
   ]
  },
  {
   "cell_type": "code",
   "execution_count": null,
   "metadata": {
    "collapsed": false
   },
   "outputs": [],
   "source": [
    "print moon"
   ]
  },
  {
   "cell_type": "code",
   "execution_count": null,
   "metadata": {
    "collapsed": true
   },
   "outputs": [],
   "source": [
    "plt.figure()\n",
    "plt.imshow(moon, cmap='jet', origin='lower', aspect='auto')\n",
    "plt.colorbar(label = 'Signal')"
   ]
  },
  {
   "cell_type": "code",
   "execution_count": null,
   "metadata": {
    "collapsed": true
   },
   "outputs": [],
   "source": [
    "sig_filled = sig.filled(0.0)"
   ]
  },
  {
   "cell_type": "code",
   "execution_count": null,
   "metadata": {
    "collapsed": true
   },
   "outputs": [],
   "source": [
    "imax = np.where(sig_filled == sig_filled.max())\n",
    "xmax, ymax = imax[1], imax[0]\n",
    "\n",
    "dec_data = sig_filled[:, xmax]\n",
    "ra_data = sig_filled[ymax, :][0]\n",
    "idec = np.where(dec_data != 0)[0]\n",
    "idecrange = idec[-1]-idec[0]\n",
    "\n",
    "ira = np.where(ra_data != 0)[0]\n",
    "irarange = ira[-1]-ira[0]\n",
    "\n",
    "plt.figure()\n",
    "plt.plot(dec_data)\n",
    "\n",
    "plt.figure()\n",
    "plt.plot(ra_data)"
   ]
  },
  {
   "cell_type": "code",
   "execution_count": null,
   "metadata": {
    "collapsed": true
   },
   "outputs": [],
   "source": [
    "def gaussian(xsize, ysize, xfwhm, yfwhm, x_range, y_range):\n",
    "    #xsize = len(sig[0])\n",
    "    #ysize = len(sig)\n",
    "    sigma_x = xfwhm/2./np.sqrt(2*np.log(2))\n",
    "    sigma_y = yfwhm/2./np.sqrt(2*np.log(2))\n",
    "\n",
    "    x = np.linspace(-x_range, x_range, xsize)\n",
    "    y = np.linspace(-y_range, y_range, ysize)\n",
    "\n",
    "    x, y = np.meshgrid(x, y)\n",
    "    z = (1/(2*np.pi*sigma_x*sigma_y) * np.exp(-(x**2/(2*sigma_x**2)\n",
    "         + y**2/(2*sigma_y**2))))\n",
    "    \n",
    "    return z\n",
    "\n",
    "    #plt.figure()\n",
    "    #plt.imshow(z, cmap='jet', origin='lower', aspect='auto')\n",
    "    #plt.colorbar(label = 'Signal')\n",
    "    #plt.show()"
   ]
  },
  {
   "cell_type": "code",
   "execution_count": null,
   "metadata": {
    "collapsed": true
   },
   "outputs": [],
   "source": [
    "sig_filled = sig.filled(0.0)"
   ]
  },
  {
   "cell_type": "code",
   "execution_count": null,
   "metadata": {
    "collapsed": true
   },
   "outputs": [],
   "source": [
    "x = np.arange(-len(sig[0])/2., len(sig[0])/2.)\n",
    "y = np.arange(-len(sig)/2., len(sig)/2.)\n",
    "f = interpolate.interp2d(x, y, sig_filled, kind='cubic')\n",
    "              \n",
    "moon_ang = 0.533\n",
    "moonpix = 5000\n",
    "\n",
    "xnew = np.linspace(-len(sig[0])/2., len(sig[0])/2., moonpix)\n",
    "ynew = np.linspace(-len(sig[0])/2., len(sig[0])/2., moonpix)\n",
    "              \n",
    "sig_interp = f(xnew, ynew)"
   ]
  },
  {
   "cell_type": "code",
   "execution_count": null,
   "metadata": {
    "collapsed": true
   },
   "outputs": [],
   "source": [
    "plt.figure()\n",
    "plt.imshow(sig_interp, cmap='jet', origin='lower', aspect='auto')\n",
    "plt.colorbar(label = 'Signal')"
   ]
  },
  {
   "cell_type": "code",
   "execution_count": null,
   "metadata": {
    "collapsed": true
   },
   "outputs": [],
   "source": [
    "xfwhm = 1.3\n",
    "yfwhm = 1.3\n",
    "x_range = abs(RA[0].max()-RA[0].min())/2.\n",
    "y_range = abs(DEC[:, 0].max()-DEC[:, 0].min())/2.\n",
    "xsize = len(sig_interp[0])\n",
    "ysize = len(sig_interp)\n",
    "\n",
    "ang_to_pix = xsize/(2.*x_range)\n",
    "\n",
    "beam = gaussian(xsize, ysize, xfwhm, yfwhm, x_range, y_range)"
   ]
  },
  {
   "cell_type": "code",
   "execution_count": null,
   "metadata": {
    "collapsed": true
   },
   "outputs": [],
   "source": [
    "print ang_to_pix"
   ]
  },
  {
   "cell_type": "code",
   "execution_count": null,
   "metadata": {
    "collapsed": true
   },
   "outputs": [],
   "source": [
    "x = np.arange(-len(moon[0])/2., len(moon[0])/2.)\n",
    "y = x*1\n",
    "f = interpolate.interp2d(x, y, moon, kind='cubic')\n",
    "              \n",
    "moon_ang = 0.533\n",
    "moonpix = moon_ang*ang_to_pix\n",
    "\n",
    "xnew = np.linspace(-len(moon[0])/2., len(moon[0])/2., moonpix)\n",
    "ynew = np.linspace(-len(moon[0])/2., len(moon[0])/2., moonpix)\n",
    "              \n",
    "moon_interp = f(xnew, ynew)"
   ]
  },
  {
   "cell_type": "markdown",
   "metadata": {},
   "source": [
    "measured profile = beam convolved with calculated profile,\n",
    "vary the beam fwhm until you get a convolution between the beam and the calculated profile that yields a minimum chi squared between it and the measured profile\n",
    "\n",
    "need to put beam profile and calculated profile on same angular scale, same with measured profile, match them both to measured profile resolution. moon is more complicated, you need to figure out what size it is supposed to be\n",
    "\n",
    "Once you do that you need to figure out how to account for difference in orientation, what angle is the moon measured at? what angle is it calculated at?"
   ]
  },
  {
   "cell_type": "code",
   "execution_count": null,
   "metadata": {
    "collapsed": true
   },
   "outputs": [],
   "source": [
    "print len(moon_interp)"
   ]
  },
  {
   "cell_type": "code",
   "execution_count": null,
   "metadata": {
    "collapsed": true
   },
   "outputs": [],
   "source": [
    "y = np.arange(len(beam))\n",
    "x = np.arange(len(beam[0]))\n",
    "\n",
    "# set up matrix for signal\n",
    "z = np.zeros(len(x) * len(y))\n",
    "moon_grid = np.reshape(z, (len(y), len(x)))\n",
    "lmoon = len(moon_interp)\n",
    "\n",
    "moon_grid[len(sig_interp)/2 - lmoon/2: len(sig_interp)/2 + lmoon/2+1, len(sig_interp[0])/2 - lmoon/2: len(sig_interp[0])/2 + lmoon/2+1] = moon_interp"
   ]
  },
  {
   "cell_type": "code",
   "execution_count": null,
   "metadata": {
    "collapsed": true
   },
   "outputs": [],
   "source": [
    "#convolved_moon = signal.convolve2d(beam, moon_grid, mode='same')"
   ]
  },
  {
   "cell_type": "code",
   "execution_count": null,
   "metadata": {
    "collapsed": true
   },
   "outputs": [],
   "source": [
    "plt.figure()\n",
    "plt.imshow(moon_grid, cmap='jet', origin='lower', aspect='auto')\n",
    "plt.title('simulated moon')\n",
    "plt.colorbar(label = 'Signal')\n",
    "\n",
    "plt.figure()\n",
    "plt.imshow(beam, cmap='jet', origin='lower', aspect='auto')\n",
    "plt.title('beam')\n",
    "plt.colorbar(label = 'Signal')\n",
    "\n",
    "plt.figure()\n",
    "plt.imshow(convolved_moon, cmap='jet', origin='lower', aspect='auto')\n",
    "plt.title('convoled moon')\n",
    "plt.colorbar(label = 'Signal')\n",
    "\n",
    "plt.figure()\n",
    "plt.imshow(sig_interp, cmap='jet', origin='lower', aspect='auto')\n",
    "plt.title('measured moon')\n",
    "plt.colorbar(label = 'Signal')"
   ]
  },
  {
   "cell_type": "code",
   "execution_count": null,
   "metadata": {
    "collapsed": true
   },
   "outputs": [],
   "source": [
    "plt.figure()\n",
    "plt.pcolormesh(RA, DEC, beam, cmap='jet')\n",
    "plt.colorbar(label = 'Signal, V')\n",
    "#plt.axis([0., 360., -90, 90.])\n",
    "plt.xlabel('ra (deg)')\n",
    "plt.ylabel('dec (deg)')\n",
    "plt.title('beam')\n",
    "plt.grid()\n",
    "plt.show()"
   ]
  },
  {
   "cell_type": "code",
   "execution_count": null,
   "metadata": {
    "collapsed": true
   },
   "outputs": [],
   "source": [
    "plt.figure()\n",
    "plt.pcolormesh(RA, DEC, sig_filled, cmap='jet')\n",
    "plt.colorbar(label = 'Signal, V')\n",
    "vmax = -0.5*gain\n",
    "vmin = 0.0\n",
    "plt.clim(vmin,vmax)\n",
    "radec=True\n",
    "#plt.axis([0., 360., -90, 90.])\n",
    "plt.xlabel('ra (deg)')\n",
    "plt.ylabel('dec (deg)')\n",
    "plt.title('Tau A 10/28/2020')\n",
    "plt.grid()\n",
    "plt.show()"
   ]
  },
  {
   "cell_type": "code",
   "execution_count": null,
   "metadata": {
    "collapsed": true
   },
   "outputs": [],
   "source": [
    "plt.figure()\n",
    "plt.pcolormesh(RA, DEC, moon_grid, cmap='jet')\n",
    "plt.colorbar(label = 'Signal, V')\n",
    "vmax = -0.5*gain\n",
    "vmin = 0.0\n",
    "plt.clim(vmin,vmax)\n",
    "radec=True\n",
    "#plt.axis([0., 360., -90, 90.])\n",
    "plt.xlabel('ra (deg)')\n",
    "plt.ylabel('dec (deg)')\n",
    "plt.title('moon')\n",
    "plt.grid()\n",
    "plt.show()"
   ]
  },
  {
   "cell_type": "markdown",
   "metadata": {},
   "source": [
    "Tasks: figure out how to increase resolution on tau A data so you can increase the resolution on everyting else as well. moon interpolation doesnt have enough resolution.\n",
    "\n",
    "figure out how to run fortran code so you can remake moon data with different parameters\n",
    "\n",
    "figure out temperature of moon out of code so that you can properly calibrate\n",
    "\n",
    "figure out phase angle between simulated and measured moon"
   ]
  }
 ],
 "metadata": {
  "kernelspec": {
   "display_name": "Python 2",
   "language": "python",
   "name": "python2"
  },
  "language_info": {
   "codemirror_mode": {
    "name": "ipython",
    "version": 2
   },
   "file_extension": ".py",
   "mimetype": "text/x-python",
   "name": "python",
   "nbconvert_exporter": "python",
   "pygments_lexer": "ipython2",
   "version": "2.7.14"
  }
 },
 "nbformat": 4,
 "nbformat_minor": 1
}
