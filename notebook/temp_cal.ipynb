{
 "cells": [
  {
   "cell_type": "code",
   "execution_count": 4,
   "metadata": {},
   "outputs": [
    {
     "name": "stdout",
     "output_type": "stream",
     "text": [
      "J:\\polaris\\polaris_software\\notebook\n",
      "Using matplotlib backend: TkAgg\n",
      "Populating the interactive namespace from numpy and matplotlib\n"
     ]
    }
   ],
   "source": [
    "\"\"\"\n",
    "set of scripts to run while taking data for first look analysis\n",
    "(run from main ground_cofe directory so paths work out right\"\"\"\n",
    "import sys\n",
    "sys.path.append('../')\n",
    "sys.path.append('../telescope_control')\n",
    "sys.path.append('../utils_meinhold/')\n",
    "sys.path.append('../utils_zonca/')\n",
    "#sys.path.append('D:\\software_git_repos\\greenpol\\telescope_control\\VtoT')\n",
    "sys.path.append('../VtoT')\n",
    "from glob import glob\n",
    "import os\n",
    "import matplotlib.pyplot as plt\n",
    "import cofe_util as cu\n",
    "import demod\n",
    "import h5py\n",
    "import pickle\n",
    "\n",
    "import numpy as np\n",
    "from numpy.lib import recfunctions as recf\n",
    "from plot_path import *\n",
    "from prm_util import nps\n",
    "\n",
    "import time\n",
    "import scipy.interpolate\n",
    "import numpy.ma as ma\n",
    "import convert\n",
    "import realtime_gp as rt\n",
    "%pylab\n"
   ]
  },
  {
   "cell_type": "code",
   "execution_count": 5,
   "metadata": {},
   "outputs": [],
   "source": [
    "def get_raw_chan(rawdata,chan):\n",
    "    #function to extract data for channel chan from a previously read raw data set\n",
    "    chandata=[]\n",
    "    for rev in rawdata:\n",
    "        chandata.append(rev[2+chan])\n",
    "    chandata=np.array(np.concatenate(chandata))\n",
    "    return chandata\n",
    "        \n"
   ]
  },
  {
   "cell_type": "code",
   "execution_count": 6,
   "metadata": {},
   "outputs": [],
   "source": [
    "def nametochan(name):\n",
    "    #function to convert channel numbers to channel names\n",
    "\n",
    "    #names of each channel\n",
    "    chans = {\n",
    "        'all': 'all',  'H1HiAC':'ch0',  'H1HiDC':'ch1',\n",
    "        'H1LoAC':'ch2' ,  'H1LoDC':'ch3', 'H2HiAC':'ch4' ,\n",
    "        'H2HiDC':'ch5' ,  'H2LoAC':'ch6',  'H2LoDC':'ch7',\n",
    "        'H3HiAC':'ch8', 'H3HiDC':'ch9',  'H3LoAC':'ch10',\n",
    "         'H3LoDC':'ch11', 'HornTop':'ch12', 'Amplifier': 'ch13',\n",
    "        'Cooler':'ch14', 'Transition':'ch15'}\n",
    "\n",
    "    chan = chans[name]\n",
    "\n",
    "    return chan"
   ]
  },
  {
   "cell_type": "code",
   "execution_count": 7,
   "metadata": {},
   "outputs": [],
   "source": [
    "yrmoday='20180306'\n",
    "hour1 = '17'\n",
    "minute1 = '35'\n",
    "hour2 = '17'\n",
    "minute2 = '38'\n",
    "fpath='D:/software_git_repos/greenpol/telescope_control/data_aquisition/'\n",
    "channame = 'H3HiDC'\n",
    "chan=nametochan(channame)\n",
    "var='T'"
   ]
  },
  {
   "cell_type": "code",
   "execution_count": 8,
   "metadata": {},
   "outputs": [],
   "source": [
    "fld_demod, fld =select_dat(fpath,yrmoday,hour1,minute1,hour2,minute2)"
   ]
  },
  {
   "cell_type": "code",
   "execution_count": 9,
   "metadata": {},
   "outputs": [
    {
     "name": "stdout",
     "output_type": "stream",
     "text": [
      "need at least one array!!!!!!!!!\n"
     ]
    }
   ],
   "source": [
    "dd=rt.get_all_demodulated_data(fld_demod, fld)"
   ]
  },
  {
   "cell_type": "code",
   "execution_count": 10,
   "metadata": {},
   "outputs": [],
   "source": [
    "fld = []\n",
    "for f in fld_demod:\n",
    "    fld.append(f[:66] + 'data/' + f[77:-3]+'.dat')"
   ]
  },
  {
   "cell_type": "code",
   "execution_count": 11,
   "metadata": {},
   "outputs": [
    {
     "ename": "ValueError",
     "evalue": "need at least one array to concatenate",
     "output_type": "error",
     "traceback": [
      "\u001b[1;31m---------------------------------------------------------------------------\u001b[0m",
      "\u001b[1;31mValueError\u001b[0m                                Traceback (most recent call last)",
      "\u001b[1;32m<ipython-input-11-714213205965>\u001b[0m in \u001b[0;36m<module>\u001b[1;34m()\u001b[0m\n\u001b[1;32m----> 1\u001b[1;33m \u001b[0mdraw\u001b[0m\u001b[1;33m=\u001b[0m\u001b[0mdemod\u001b[0m\u001b[1;33m.\u001b[0m\u001b[0mread_raw\u001b[0m\u001b[1;33m(\u001b[0m\u001b[0mfld\u001b[0m\u001b[1;33m)\u001b[0m\u001b[1;33m\u001b[0m\u001b[0m\n\u001b[0m\u001b[0;32m      2\u001b[0m \u001b[1;31m#ddemod =\u001b[0m\u001b[1;33m\u001b[0m\u001b[1;33m\u001b[0m\u001b[0m\n",
      "\u001b[1;32mJ:\\polaris\\polaris_software\\utils_zonca\\demod\\datparsing.pyc\u001b[0m in \u001b[0;36mread_raw\u001b[1;34m(filenames, volts, supply_index, printstatements)\u001b[0m\n\u001b[0;32m    129\u001b[0m     \"\"\"\n\u001b[0;32m    130\u001b[0m     return np.concatenate(\n\u001b[1;32m--> 131\u001b[1;33m                 \u001b[1;33m[\u001b[0m\u001b[0mcreate_revdata\u001b[0m\u001b[1;33m(\u001b[0m\u001b[0mopen_raw\u001b[0m\u001b[1;33m(\u001b[0m\u001b[0mf\u001b[0m\u001b[1;33m)\u001b[0m\u001b[1;33m,\u001b[0m \u001b[0mvolts\u001b[0m\u001b[1;33m,\u001b[0m\u001b[0msupply_index\u001b[0m\u001b[1;33m=\u001b[0m\u001b[0msupply_index\u001b[0m\u001b[1;33m,\u001b[0m \u001b[0mprintstatements\u001b[0m\u001b[1;33m=\u001b[0m\u001b[0mprintstatements\u001b[0m\u001b[1;33m)\u001b[0m \u001b[1;32mfor\u001b[0m \u001b[0mf\u001b[0m \u001b[1;32min\u001b[0m \u001b[0mfilenames\u001b[0m\u001b[1;33m]\u001b[0m\u001b[1;33m\u001b[0m\u001b[0m\n\u001b[0m\u001b[0;32m    132\u001b[0m                          )\n\u001b[0;32m    133\u001b[0m \u001b[1;33m\u001b[0m\u001b[0m\n",
      "\u001b[1;31mValueError\u001b[0m: need at least one array to concatenate"
     ]
    }
   ],
   "source": [
    "draw=demod.read_raw(fld)\n",
    "#ddemod = "
   ]
  },
  {
   "cell_type": "code",
   "execution_count": 85,
   "metadata": {},
   "outputs": [],
   "source": [
    "ddraw = get_raw_chan(draw,int(chan[2:]))"
   ]
  },
  {
   "cell_type": "code",
   "execution_count": 86,
   "metadata": {},
   "outputs": [],
   "source": [
    "plt.plot(np.arange(len(ddraw)), ddraw)\n",
    "plt.show()"
   ]
  },
  {
   "cell_type": "code",
   "execution_count": 58,
   "metadata": {
    "collapsed": true
   },
   "outputs": [],
   "source": [
    "ddraw = get_raw_chan(draw,int(chan[2:])-1)"
   ]
  },
  {
   "cell_type": "code",
   "execution_count": 59,
   "metadata": {},
   "outputs": [],
   "source": [
    "plt.plot(np.arange(len(dd['ch8'][var])), dd['ch8'][var])\n",
    "plt.show()"
   ]
  },
  {
   "cell_type": "code",
   "execution_count": 13,
   "metadata": {
    "collapsed": true
   },
   "outputs": [],
   "source": [
    "channame = 'H3HiDC'\n",
    "chan=nametochan(channame)\n",
    "var='T'"
   ]
  },
  {
   "cell_type": "code",
   "execution_count": 14,
   "metadata": {
    "collapsed": true
   },
   "outputs": [],
   "source": [
    "#warm load\n",
    "yrmoday='20180306'\n",
    "hour1 = '17'\n",
    "minute1 = '37'\n",
    "hour2 = '17'\n",
    "minute2 = '38'\n",
    "fpath='D:/software_git_repos/greenpol/telescope_control/data_aquisition/'"
   ]
  },
  {
   "cell_type": "code",
   "execution_count": 15,
   "metadata": {
    "collapsed": true
   },
   "outputs": [],
   "source": [
    "fld_demodh, fldh =select_dat(fpath,yrmoday,hour1,minute1,hour2,minute2)"
   ]
  },
  {
   "cell_type": "code",
   "execution_count": 16,
   "metadata": {},
   "outputs": [],
   "source": [
    "ddh=rt.get_all_demodulated_data(fld_demodh, fldh)['ch%d' % (int(chan[2:])-1)][var]"
   ]
  },
  {
   "cell_type": "code",
   "execution_count": 17,
   "metadata": {
    "collapsed": true
   },
   "outputs": [],
   "source": [
    "fldh = []\n",
    "for f in fld_demodh:\n",
    "    fldh.append(f[:66] + 'data/' + f[77:-3]+'.dat')"
   ]
  },
  {
   "cell_type": "code",
   "execution_count": 18,
   "metadata": {},
   "outputs": [
    {
     "name": "stdout",
     "output_type": "stream",
     "text": [
      "1000\n",
      "16\n",
      "1000\n",
      "16\n",
      "1000\n",
      "16\n"
     ]
    }
   ],
   "source": [
    "drawh=demod.read_raw(fldh)"
   ]
  },
  {
   "cell_type": "code",
   "execution_count": 19,
   "metadata": {
    "collapsed": true
   },
   "outputs": [],
   "source": [
    "ddrawh = get_raw_chan(drawh,int(chan[2:])-1)"
   ]
  },
  {
   "cell_type": "code",
   "execution_count": 20,
   "metadata": {
    "collapsed": true
   },
   "outputs": [],
   "source": [
    "#cold load\n",
    "yrmoday='20180306'\n",
    "hour1 = '17'\n",
    "minute1 = '34'\n",
    "hour2 = '17'\n",
    "minute2 = '35'\n",
    "fpath='D:/software_git_repos/greenpol/telescope_control/data_aquisition/'"
   ]
  },
  {
   "cell_type": "code",
   "execution_count": 21,
   "metadata": {},
   "outputs": [],
   "source": [
    "fld_demodc, fldc =select_dat(fpath,yrmoday,hour1,minute1,hour2,minute2)\n",
    "fld_demodc = fld_demodc[1:]"
   ]
  },
  {
   "cell_type": "code",
   "execution_count": 22,
   "metadata": {
    "collapsed": true
   },
   "outputs": [],
   "source": [
    "ddc=rt.get_all_demodulated_data(fld_demodc, fldc)['ch%d' % (int(chan[2:])-1)][var]"
   ]
  },
  {
   "cell_type": "code",
   "execution_count": 23,
   "metadata": {
    "collapsed": true
   },
   "outputs": [],
   "source": [
    "fldc = []\n",
    "for f in fld_demodc:\n",
    "    fldc.append(f[:66] + 'data/' + f[77:-3]+'.dat')"
   ]
  },
  {
   "cell_type": "code",
   "execution_count": 24,
   "metadata": {},
   "outputs": [
    {
     "name": "stdout",
     "output_type": "stream",
     "text": [
      "1000\n",
      "16\n",
      "1000\n",
      "16\n",
      "1000\n",
      "16\n"
     ]
    }
   ],
   "source": [
    "drawc=demod.read_raw(fldc)"
   ]
  },
  {
   "cell_type": "code",
   "execution_count": 25,
   "metadata": {
    "collapsed": true
   },
   "outputs": [],
   "source": [
    "ddrawc = get_raw_chan(drawc,int(chan[2:])-1)"
   ]
  },
  {
   "cell_type": "code",
   "execution_count": 84,
   "metadata": {},
   "outputs": [],
   "source": [
    "zc=cu.nps(ddrawc,30*256,0.1)\n",
    "zh=cu.nps(ddrawh,30*256,0.1)\n",
    "\n",
    "#zc=cu.nps(ddc,30,0.1)\n",
    "#zh=cu.nps(ddh,30,0.1)\n",
    "\n",
    "plt.plot(zc[0],np.sqrt(zc[1]), 'b-',label='%s, cold target' % channame)\n",
    "#plt.plot(zh[0],np.sqrt(zh[1]), 'r-',label='%s, hot target' % channame)\n",
    "plt.legend()\n",
    "#plt.yscale('log')\n",
    "#plt.xscale('log')\n",
    "plt.show()"
   ]
  },
  {
   "cell_type": "code",
   "execution_count": 40,
   "metadata": {
    "collapsed": true
   },
   "outputs": [],
   "source": [
    "cu.nps??"
   ]
  },
  {
   "cell_type": "code",
   "execution_count": null,
   "metadata": {
    "collapsed": true
   },
   "outputs": [],
   "source": []
  }
 ],
 "metadata": {
  "kernelspec": {
   "display_name": "Python 2",
   "language": "python",
   "name": "python2"
  },
  "language_info": {
   "codemirror_mode": {
    "name": "ipython",
    "version": 2
   },
   "file_extension": ".py",
   "mimetype": "text/x-python",
   "name": "python",
   "nbconvert_exporter": "python",
   "pygments_lexer": "ipython2",
   "version": "2.7.16"
  }
 },
 "nbformat": 4,
 "nbformat_minor": 2
}
