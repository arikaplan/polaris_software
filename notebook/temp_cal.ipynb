{
 "cells": [
  {
   "cell_type": "code",
   "execution_count": 2,
   "metadata": {
    "collapsed": false
   },
   "outputs": [
    {
     "ename": "ImportError",
     "evalue": "No module named cofe_util",
     "output_type": "error",
     "traceback": [
      "\u001b[1;31m---------------------------------------------------------------------------\u001b[0m",
      "\u001b[1;31mImportError\u001b[0m                               Traceback (most recent call last)",
      "\u001b[1;32m<ipython-input-2-9c1a23cc27dd>\u001b[0m in \u001b[0;36m<module>\u001b[1;34m()\u001b[0m\n\u001b[0;32m     12\u001b[0m \u001b[1;32mimport\u001b[0m \u001b[0mos\u001b[0m\u001b[1;33m\u001b[0m\u001b[0m\n\u001b[0;32m     13\u001b[0m \u001b[1;32mimport\u001b[0m \u001b[0mmatplotlib\u001b[0m\u001b[1;33m.\u001b[0m\u001b[0mpyplot\u001b[0m \u001b[1;32mas\u001b[0m \u001b[0mplt\u001b[0m\u001b[1;33m\u001b[0m\u001b[0m\n\u001b[1;32m---> 14\u001b[1;33m \u001b[1;32mimport\u001b[0m \u001b[0mcofe_util\u001b[0m \u001b[1;32mas\u001b[0m \u001b[0mcu\u001b[0m\u001b[1;33m\u001b[0m\u001b[0m\n\u001b[0m\u001b[0;32m     15\u001b[0m \u001b[1;32mimport\u001b[0m \u001b[0mdemod\u001b[0m\u001b[1;33m\u001b[0m\u001b[0m\n\u001b[0;32m     16\u001b[0m \u001b[1;32mimport\u001b[0m \u001b[0mh5py\u001b[0m\u001b[1;33m\u001b[0m\u001b[0m\n",
      "\u001b[1;31mImportError\u001b[0m: No module named cofe_util"
     ]
    }
   ],
   "source": [
    "\"\"\"\n",
    "set of scripts to run while taking data for first look analysis\n",
    "(run from main ground_cofe directory so paths work out right\"\"\"\n",
    "import sys\n",
    "sys.path.append('../')\n",
    "sys.path.append('G:\\software_git_repos\\greenpol\\telescope_control')\n",
    "sys.path.append('G:\\software_git_repos\\greenpol\\cofe-python-analysis-tools-master\\utils_meinhold')\n",
    "sys.path.append('G:\\software_git_repos\\greenpol\\cofe-python-analysis-tools-master\\utils_zonca')\n",
    "#sys.path.append('D:\\software_git_repos\\greenpol\\telescope_control\\VtoT')\n",
    "sys.path.append('../telescope_control/VtoT')\n",
    "from glob import glob\n",
    "import os\n",
    "import matplotlib.pyplot as plt\n",
    "import cofe_util as cu\n",
    "import demod\n",
    "import h5py\n",
    "import cPickle\n",
    "import numpy as np\n",
    "from numpy.lib import recfunctions as recf\n",
    "from plot_path import *\n",
    "from prm_util import nps\n",
    "import time\n",
    "import scipy.interpolate\n",
    "import numpy.ma as ma\n",
    "import convert\n",
    "import realtime_gp as rt\n",
    "%pylab"
   ]
  },
  {
   "cell_type": "code",
   "execution_count": 2,
   "metadata": {
    "collapsed": true
   },
   "outputs": [],
   "source": [
    "def get_raw_chan(rawdata,chan):\n",
    "    #function to extract data for channel chan from a previously read raw data set\n",
    "    chandata=[]\n",
    "    for rev in rawdata:\n",
    "        chandata.append(rev[2+chan])\n",
    "    chandata=np.array(np.concatenate(chandata))\n",
    "    return chandata\n",
    "        \n"
   ]
  },
  {
   "cell_type": "code",
   "execution_count": 3,
   "metadata": {
    "collapsed": true
   },
   "outputs": [],
   "source": [
    "def nametochan(name):\n",
    "    #function to convert channel numbers to channel names\n",
    "\n",
    "    #names of each channel\n",
    "    chans = {\n",
    "        'all': 'all',  'H1HiAC':'ch0',  'H1HiDC':'ch1',\n",
    "        'H1LoAC':'ch2' ,  'H1LoDC':'ch3', 'H2HiAC':'ch4' ,\n",
    "        'H2HiDC':'ch5' ,  'H2LoAC':'ch6',  'H2LoDC':'ch7',\n",
    "        'H3HiAC':'ch8', 'H3HiDC':'ch9',  'H3LoAC':'ch10',\n",
    "         'H3LoDC':'ch11', 'HornTop':'ch12', 'Amplifier': 'ch13',\n",
    "        'Cooler':'ch14', 'Transition':'ch15'}\n",
    "\n",
    "    chan = chans[name]\n",
    "\n",
    "    return chan"
   ]
  },
  {
   "cell_type": "code",
   "execution_count": 4,
   "metadata": {
    "collapsed": true
   },
   "outputs": [],
   "source": [
    "yrmoday='20180306'\n",
    "hour1 = '17'\n",
    "minute1 = '35'\n",
    "hour2 = '17'\n",
    "minute2 = '38'\n",
    "fpath='D:/software_git_repos/greenpol/telescope_control/data_aquisition/'\n",
    "channame = 'H3HiDC'\n",
    "chan=nametochan(channame)\n",
    "var='T'"
   ]
  },
  {
   "cell_type": "code",
   "execution_count": 5,
   "metadata": {
    "collapsed": true
   },
   "outputs": [],
   "source": [
    "fld_demod, fld =select_dat(fpath,yrmoday,hour1,minute1,hour2,minute2)"
   ]
  },
  {
   "cell_type": "code",
   "execution_count": 6,
   "metadata": {
    "collapsed": true
   },
   "outputs": [],
   "source": [
    "dd=rt.get_all_demodulated_data(fld_demod, fld)"
   ]
  },
  {
   "cell_type": "code",
   "execution_count": 7,
   "metadata": {
    "collapsed": true
   },
   "outputs": [],
   "source": [
    "fld = []\n",
    "for f in fld_demod:\n",
    "    fld.append(f[:66] + 'data/' + f[77:-3]+'.dat')"
   ]
  },
  {
   "cell_type": "code",
   "execution_count": 8,
   "metadata": {
    "collapsed": false
   },
   "outputs": [
    {
     "name": "stderr",
     "output_type": "stream",
     "text": [
      "D:\\software_git_repos\\cofe-python-analysis-tools\\utils_zonca\\demod\\datparsing.py:39: VisibleDeprecationWarning: boolean index did not match indexed array along dimension 0; dimension is 255744 but corresponding boolean dimension is 255743\n",
      "  good[duplicates] = False\n"
     ]
    },
    {
     "name": "stdout",
     "output_type": "stream",
     "text": [
      "1000\n",
      "16\n",
      "1000\n",
      "16\n",
      "1000\n",
      "16\n",
      "1000\n",
      "16\n",
      "1000\n",
      "16\n",
      "1000\n",
      "16\n",
      "1000\n",
      "16\n"
     ]
    }
   ],
   "source": [
    "draw=demod.read_raw(fld)\n",
    "#ddemod = "
   ]
  },
  {
   "cell_type": "code",
   "execution_count": 85,
   "metadata": {
    "collapsed": true
   },
   "outputs": [],
   "source": [
    "ddraw = get_raw_chan(draw,int(chan[2:]))"
   ]
  },
  {
   "cell_type": "code",
   "execution_count": 86,
   "metadata": {
    "collapsed": true
   },
   "outputs": [],
   "source": [
    "plt.plot(np.arange(len(ddraw)), ddraw)\n",
    "plt.show()"
   ]
  },
  {
   "cell_type": "code",
   "execution_count": 58,
   "metadata": {
    "collapsed": true
   },
   "outputs": [],
   "source": [
    "ddraw = get_raw_chan(draw,int(chan[2:])-1)"
   ]
  },
  {
   "cell_type": "code",
   "execution_count": 59,
   "metadata": {
    "collapsed": true
   },
   "outputs": [],
   "source": [
    "plt.plot(np.arange(len(dd['ch8'][var])), dd['ch8'][var])\n",
    "plt.show()"
   ]
  },
  {
   "cell_type": "code",
   "execution_count": 13,
   "metadata": {
    "collapsed": true
   },
   "outputs": [],
   "source": [
    "channame = 'H3HiDC'\n",
    "chan=nametochan(channame)\n",
    "var='T'"
   ]
  },
  {
   "cell_type": "code",
   "execution_count": 14,
   "metadata": {
    "collapsed": true
   },
   "outputs": [],
   "source": [
    "#warm load\n",
    "yrmoday='20180306'\n",
    "hour1 = '17'\n",
    "minute1 = '37'\n",
    "hour2 = '17'\n",
    "minute2 = '38'\n",
    "fpath='D:/software_git_repos/greenpol/telescope_control/data_aquisition/'"
   ]
  },
  {
   "cell_type": "code",
   "execution_count": 15,
   "metadata": {
    "collapsed": true
   },
   "outputs": [],
   "source": [
    "fld_demodh, fldh =select_dat(fpath,yrmoday,hour1,minute1,hour2,minute2)"
   ]
  },
  {
   "cell_type": "code",
   "execution_count": 16,
   "metadata": {
    "collapsed": true
   },
   "outputs": [],
   "source": [
    "ddh=rt.get_all_demodulated_data(fld_demodh, fldh)['ch%d' % (int(chan[2:])-1)][var]"
   ]
  },
  {
   "cell_type": "code",
   "execution_count": 17,
   "metadata": {
    "collapsed": true
   },
   "outputs": [],
   "source": [
    "fldh = []\n",
    "for f in fld_demodh:\n",
    "    fldh.append(f[:66] + 'data/' + f[77:-3]+'.dat')"
   ]
  },
  {
   "cell_type": "code",
   "execution_count": 18,
   "metadata": {
    "collapsed": false
   },
   "outputs": [
    {
     "name": "stdout",
     "output_type": "stream",
     "text": [
      "1000\n",
      "16\n",
      "1000\n",
      "16\n",
      "1000\n",
      "16\n"
     ]
    }
   ],
   "source": [
    "drawh=demod.read_raw(fldh)"
   ]
  },
  {
   "cell_type": "code",
   "execution_count": 19,
   "metadata": {
    "collapsed": true
   },
   "outputs": [],
   "source": [
    "ddrawh = get_raw_chan(drawh,int(chan[2:])-1)"
   ]
  },
  {
   "cell_type": "code",
   "execution_count": 20,
   "metadata": {
    "collapsed": true
   },
   "outputs": [],
   "source": [
    "#cold load\n",
    "yrmoday='20180306'\n",
    "hour1 = '17'\n",
    "minute1 = '34'\n",
    "hour2 = '17'\n",
    "minute2 = '35'\n",
    "fpath='D:/software_git_repos/greenpol/telescope_control/data_aquisition/'"
   ]
  },
  {
   "cell_type": "code",
   "execution_count": 21,
   "metadata": {
    "collapsed": true
   },
   "outputs": [],
   "source": [
    "fld_demodc, fldc =select_dat(fpath,yrmoday,hour1,minute1,hour2,minute2)\n",
    "fld_demodc = fld_demodc[1:]"
   ]
  },
  {
   "cell_type": "code",
   "execution_count": 22,
   "metadata": {
    "collapsed": true
   },
   "outputs": [],
   "source": [
    "ddc=rt.get_all_demodulated_data(fld_demodc, fldc)['ch%d' % (int(chan[2:])-1)][var]"
   ]
  },
  {
   "cell_type": "code",
   "execution_count": 23,
   "metadata": {
    "collapsed": true
   },
   "outputs": [],
   "source": [
    "fldc = []\n",
    "for f in fld_demodc:\n",
    "    fldc.append(f[:66] + 'data/' + f[77:-3]+'.dat')"
   ]
  },
  {
   "cell_type": "code",
   "execution_count": 24,
   "metadata": {
    "collapsed": false
   },
   "outputs": [
    {
     "name": "stdout",
     "output_type": "stream",
     "text": [
      "1000\n",
      "16\n",
      "1000\n",
      "16\n",
      "1000\n",
      "16\n"
     ]
    }
   ],
   "source": [
    "drawc=demod.read_raw(fldc)"
   ]
  },
  {
   "cell_type": "code",
   "execution_count": 25,
   "metadata": {
    "collapsed": true
   },
   "outputs": [],
   "source": [
    "ddrawc = get_raw_chan(drawc,int(chan[2:])-1)"
   ]
  },
  {
   "cell_type": "code",
   "execution_count": 84,
   "metadata": {
    "collapsed": true
   },
   "outputs": [],
   "source": [
    "zc=cu.nps(ddrawc,30*256,0.1)\n",
    "zh=cu.nps(ddrawh,30*256,0.1)\n",
    "\n",
    "#zc=cu.nps(ddc,30,0.1)\n",
    "#zh=cu.nps(ddh,30,0.1)\n",
    "\n",
    "plt.plot(zc[0],np.sqrt(zc[1]), 'b-',label='%s, cold target' % channame)\n",
    "#plt.plot(zh[0],np.sqrt(zh[1]), 'r-',label='%s, hot target' % channame)\n",
    "plt.legend()\n",
    "#plt.yscale('log')\n",
    "#plt.xscale('log')\n",
    "plt.show()"
   ]
  },
  {
   "cell_type": "code",
   "execution_count": 40,
   "metadata": {
    "collapsed": true
   },
   "outputs": [],
   "source": [
    "cu.nps??"
   ]
  },
  {
   "cell_type": "code",
   "execution_count": null,
   "metadata": {
    "collapsed": true
   },
   "outputs": [],
   "source": []
  }
 ],
 "metadata": {
  "kernelspec": {
   "display_name": "Python 2",
   "language": "python",
   "name": "python2"
  },
  "language_info": {
   "codemirror_mode": {
    "name": "ipython",
    "version": 2
   },
   "file_extension": ".py",
   "mimetype": "text/x-python",
   "name": "python",
   "nbconvert_exporter": "python",
   "pygments_lexer": "ipython2",
   "version": "2.7.11"
  }
 },
 "nbformat": 4,
 "nbformat_minor": 2
}
