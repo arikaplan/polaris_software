{
 "cells": [
  {
   "cell_type": "code",
   "execution_count": 1,
   "metadata": {
    "collapsed": true
   },
   "outputs": [],
   "source": [
    "import numpy as np\n",
    "from matplotlib import pyplot as plt\n",
    "%matplotlib inline\n",
    "import numpy.ma as ma\n",
    "import matplotlib.mlab as mlab\n",
    "from scipy.stats import norm\n",
    "from scipy.optimize import curve_fit\n",
    "from collections import defaultdict\n",
    "from datetime import datetime\n",
    "import os\n",
    "import glob\n",
    "import csv\n",
    "import numpy as h5py \n"
   ]
  },
  {
   "cell_type": "code",
   "execution_count": 2,
   "metadata": {
    "collapsed": false
   },
   "outputs": [
    {
     "name": "stdout",
     "output_type": "stream",
     "text": [
      "Using matplotlib backend: Qt4Agg\n",
      "Populating the interactive namespace from numpy and matplotlib\n"
     ]
    },
    {
     "name": "stderr",
     "output_type": "stream",
     "text": [
      "WARNING: pylab import has clobbered these variables: ['norm', 'datetime']\n",
      "`%matplotlib` prevents importing * from pylab and numpy\n"
     ]
    }
   ],
   "source": [
    "%pylab\n",
    "%matplotlib qt"
   ]
  },
  {
   "cell_type": "code",
   "execution_count": 6,
   "metadata": {
    "collapsed": true
   },
   "outputs": [],
   "source": [
    "os.chdir('../telescope_control/data_aquisition/weather_data/TSI_data/uncompressed')"
   ]
  },
  {
   "cell_type": "code",
   "execution_count": null,
   "metadata": {
    "collapsed": true
   },
   "outputs": [],
   "source": [
    "YEAR = [2012,2013,2014]\n",
    "numfiles = 0\n",
    "for y in YEAR:\n",
    "    fpy = 0\n",
    "    files = glob.glob('*%s*' % y)\n",
    "\n",
    "    for f in files:\n",
    "        #y = int(f[3:7])\n",
    "        m = f[7:9]\n",
    "        d = f[9:]\n",
    "\n",
    "        date = datetime.datetime(y, int(m), int(d))\n",
    "        \n",
    "        if date < datetime.datetime(y, 6, 1) or date > datetime.datetime(y, 8, 31):\n",
    "            continue\n",
    "            \n",
    "        os.chdir('tsi%d%s%s' % (y, m, d))\n",
    "        files = glob.glob('*')\n",
    "        \n",
    "        for fi in files:\n",
    "            fpy += 1\n",
    "            numfiles += 1\n",
    "        os.chdir('../')     \n",
    "    \n",
    "    print ' '\n",
    "    print 'files in year %d: %d' % (y, fpy) \n",
    "    print 'done with %d' % y, ', files so far: ', numfiles\n",
    "    print ' '"
   ]
  },
  {
   "cell_type": "code",
   "execution_count": 7,
   "metadata": {
    "collapsed": false
   },
   "outputs": [
    {
     "name": "stdout",
     "output_type": "stream",
     "text": [
      "/media/arikaplan/greenpol_2/software_git_repos/greenpol/telescope_control/data_aquisition/weather_data/TSI_data/uncompressed\n"
     ]
    }
   ],
   "source": [
    "print(os.getcwd())\n",
    "#os.chdir('../')\n",
    "#print os.getcwd()"
   ]
  },
  {
   "cell_type": "code",
   "execution_count": 9,
   "metadata": {
    "collapsed": false
   },
   "outputs": [
    {
     "name": "stdout",
     "output_type": "stream",
     "text": [
      "Percent complete: 33.23 \n",
      "done with 2012\n",
      " \n",
      "Percent complete: 66.58 \n",
      "done with 2013\n",
      " \n",
      "Percent complete: 100.00 \n",
      "done with 2014\n",
      " \n"
     ]
    }
   ],
   "source": [
    "clearsky = defaultdict(dict)\n",
    "dates = defaultdict(dict)\n",
    "YEAR = [2012,2013,2014]\n",
    "#os.chdir('../telescope_control/data_aquisition/weather_data/TSI_data/uncompressed')\n",
    "count = 0\n",
    "for y in YEAR:\n",
    "    time = []\n",
    "    csky = []\n",
    "    files = glob.glob('*%s*' % y)\n",
    "\n",
    "    for f in files:\n",
    "        #y = int(f[3:7])\n",
    "        m = f[7:9]\n",
    "        d = f[9:]\n",
    "        \n",
    "        date = datetime.datetime(y, int(m), int(d))\n",
    "        \n",
    "        if date < datetime.datetime(y, 6, 1) or date > datetime.datetime(y, 8, 31):\n",
    "            continue\n",
    "            \n",
    "        os.chdir('tsi%d%s%s' % (y, m, d))\n",
    "        files = glob.glob('*.properties')\n",
    "        \n",
    "        for fi in files:\n",
    "            ff = open(fi, 'r')\n",
    "            lines = ff.readlines()\n",
    "            try:\n",
    "                opaque = float(lines[9][26:])\n",
    "                thin = float(lines[5][24:])\n",
    "                sky = 1. - opaque - thin\n",
    "            except:\n",
    "                sky = -1\n",
    "                \n",
    "            csky.append(sky)\n",
    "            time.append(lines[0])\n",
    "            ff.close()\n",
    "            \n",
    "            count += 1\n",
    "            sys.stdout.write(\"\\rPercent complete: %.2f\" % (float(count) * 100. / float(numfiles)))\n",
    "            sys.stdout.flush()\n",
    "\n",
    "        os.chdir('../')     \n",
    "    \n",
    "    print ' '\n",
    "    print 'done with %d' % y  \n",
    "    print ' '\n",
    "    clearsky[y] = csky\n",
    "    dates[y] = time"
   ]
  },
  {
   "cell_type": "code",
   "execution_count": 10,
   "metadata": {
    "collapsed": false
   },
   "outputs": [
    {
     "name": "stdout",
     "output_type": "stream",
     "text": [
      "2012\n",
      "2013\n",
      "2014\n"
     ]
    }
   ],
   "source": [
    "#write data to txt file\n",
    "for y in [2012,2013,2014]:\n",
    "    lists = zip(['Dates'], ['Clear Sky Fraction']) + zip(dates[y], clearsky[y])\n",
    "    print y\n",
    "    file = open('../sky_fraction/%d.txt' % y, 'w')\n",
    "    for i in range(len(lists)):\n",
    "        file.write(str(lists[i])[1:-1]+'\\n')\n",
    "    file.close"
   ]
  },
  {
   "cell_type": "code",
   "execution_count": 8,
   "metadata": {
    "collapsed": false
   },
   "outputs": [
    {
     "name": "stdout",
     "output_type": "stream",
     "text": [
      "2012\n",
      "2013\n",
      "2014\n",
      "2015\n",
      "2016\n",
      "2017\n",
      "2018\n"
     ]
    }
   ],
   "source": [
    "#read data from txt file\n",
    "times = defaultdict(dict)\n",
    "clearsky = defaultdict(dict)\n",
    "YEAR = [2012, 2013, 2014, 2015, 2016, 2017, 2018]\n",
    "for y in YEAR:\n",
    "    print(y)\n",
    "    time = []\n",
    "    csky = []\n",
    "    with open('../sky_fraction/%d.txt' % y, 'r') as inputfile:\n",
    "        next(inputfile)\n",
    "        for line in inputfile:\n",
    "            l = line.split(',')\n",
    "            try:\n",
    "                time.append(l[0])\n",
    "                csky.append(float(l[1]))\n",
    "            except:\n",
    "                pass\n",
    "    times[y] = time\n",
    "    clearsky[y] = csky"
   ]
  },
  {
   "cell_type": "code",
   "execution_count": 9,
   "metadata": {
    "collapsed": false
   },
   "outputs": [],
   "source": [
    "def nummonth(name):\n",
    "    if name == 'Jun':\n",
    "        num = 6\n",
    "    elif name == 'Jul':\n",
    "        num = 7\n",
    "    elif name == 'Aug':\n",
    "        num = 8\n",
    "    else:\n",
    "        print(name)\n",
    "    return num"
   ]
  },
  {
   "cell_type": "code",
   "execution_count": 10,
   "metadata": {
    "collapsed": true
   },
   "outputs": [],
   "source": [
    "dates = defaultdict(dict)\n",
    "\n",
    "for y in YEAR:\n",
    "    d = []\n",
    "    for t in range(len(times[y])):\n",
    "        month = nummonth(times[y][t][6:9])\n",
    "        day = times[y][t][10:12]\n",
    "        hour = times[y][t][13:15]\n",
    "        minute = times[y][t][16:18]\n",
    "        second = times[y][t][19:21]\n",
    "    \n",
    "        d.append(datetime.datetime(y, month, int(day), int(hour), int(minute), int(second)))\n",
    "        \n",
    "    dates[y] = np.asarray(d)"
   ]
  },
  {
   "cell_type": "code",
   "execution_count": 97,
   "metadata": {
    "collapsed": false
   },
   "outputs": [
    {
     "name": "stdout",
     "output_type": "stream",
     "text": [
      "79359\n"
     ]
    }
   ],
   "source": [
    "y = 2018\n",
    "threshhold = 0.8\n",
    "\n",
    "cskyperiod = defaultdict(dict)\n",
    "cloudperiod = defaultdict(dict)\n",
    "csky = defaultdict(dict)\n",
    "csp = []\n",
    "cp = []\n",
    "cs = []\n",
    "j = 0\n",
    "\n",
    "\n",
    "for i in range(len(clearsky[y])-1):\n",
    "    #sys.stdout.write(\"\\rPercent complete: %.2f\" % (float(i) * 100. / float(len(clearsky[y]))))\n",
    "    #sys.stdout.flush()\n",
    "    if (clearsky[y][i] >= threshhold) and (clearsky[y][i+1] >= threshhold):\n",
    "        continue\n",
    "    else:\n",
    "        duration = (dates[y][i] - dates[y][j]).total_seconds()\n",
    "        if duration == 0.0:\n",
    "            duration = 60.\n",
    "        csp.append(duration)\n",
    "        j=i+1\n",
    "    '''\n",
    "    if clearsky[y][i] < threshhold and clearsky[y][i+1] < threshhold:\n",
    "        continue\n",
    "    else:\n",
    "        duration = (dates[y][i] - dates[y][j]).total_seconds()\n",
    "        if duration == 0.0:\n",
    "            duration = 60.\n",
    "        if duration < 0.:\n",
    "            print(duration, dates[y][i], dates[y][j], i)\n",
    "            #break\n",
    "        cp.append((dates[y][i] - dates[y][j]).total_seconds())\n",
    "        j=i+1\n",
    "   '''    \n",
    "print(len(csp))\n",
    "#print(len(cp))\n",
    "cskyperiod[y] = np.asarray(csp)\n",
    "#cloudperiod[y] = np.asarray(cp)\n",
    "t = cskyperiod[2018]/3600."
   ]
  },
  {
   "cell_type": "code",
   "execution_count": 99,
   "metadata": {
    "collapsed": false
   },
   "outputs": [
    {
     "data": {
      "text/plain": [
       "<matplotlib.text.Text at 0x7f194ee98ac8>"
      ]
     },
     "execution_count": 99,
     "metadata": {},
     "output_type": "execute_result"
    }
   ],
   "source": [
    "figure()\n",
    "#t = cskyperiod[2018]/3600.\n",
    "plot(t, 'b-')\n",
    "ylabel('hours')"
   ]
  },
  {
   "cell_type": "code",
   "execution_count": 100,
   "metadata": {
    "collapsed": false
   },
   "outputs": [
    {
     "name": "stdout",
     "output_type": "stream",
     "text": [
      "79207\n"
     ]
    }
   ],
   "source": [
    "print(len(np.where(t<=1.)[0]))"
   ]
  },
  {
   "cell_type": "code",
   "execution_count": 69,
   "metadata": {
    "collapsed": false
   },
   "outputs": [
    {
     "name": "stdout",
     "output_type": "stream",
     "text": [
      "83.483125\n",
      "0.3111111111111111\n",
      "129360.0\n"
     ]
    }
   ],
   "source": [
    "print(cskyperiod[y].sum()/3600./24.)\n",
    "print(28/90)\n",
    "print(cskyperiod[y].max())"
   ]
  },
  {
   "cell_type": "code",
   "execution_count": 106,
   "metadata": {
    "collapsed": false
   },
   "outputs": [
    {
     "name": "stdout",
     "output_type": "stream",
     "text": [
      "<class 'numpy.ndarray'> <class 'numpy.ndarray'>\n"
     ]
    }
   ],
   "source": [
    "print(type(a), type(t))"
   ]
  },
  {
   "cell_type": "code",
   "execution_count": 117,
   "metadata": {
    "collapsed": false
   },
   "outputs": [],
   "source": [
    "figure()\n",
    "bins = 100\n",
    "plt.hist(t, bins = bins)\n",
    "ylim(0,a.max())\n",
    "show()"
   ]
  },
  {
   "cell_type": "code",
   "execution_count": 114,
   "metadata": {
    "collapsed": false
   },
   "outputs": [
    {
     "data": {
      "text/plain": [
       "[<matplotlib.lines.Line2D at 0x7f19443f89b0>]"
      ]
     },
     "execution_count": 114,
     "metadata": {},
     "output_type": "execute_result"
    }
   ],
   "source": [
    "figure()\n",
    "plot(values)"
   ]
  },
  {
   "cell_type": "code",
   "execution_count": 115,
   "metadata": {
    "collapsed": false
   },
   "outputs": [
    {
     "ename": "ValueError",
     "evalue": "x and y must have same first dimension",
     "output_type": "error",
     "traceback": [
      "\u001b[1;31m---------------------------------------------------------------------------\u001b[0m",
      "\u001b[1;31mValueError\u001b[0m                                Traceback (most recent call last)",
      "\u001b[1;32m<ipython-input-115-c5390660894c>\u001b[0m in \u001b[0;36m<module>\u001b[1;34m()\u001b[0m\n\u001b[0;32m      9\u001b[0m \u001b[0mcumu_I\u001b[0m \u001b[1;33m=\u001b[0m \u001b[1;33m(\u001b[0m\u001b[1;36m1.\u001b[0m \u001b[1;33m-\u001b[0m \u001b[0mcumu\u001b[0m\u001b[1;33m)\u001b[0m\u001b[1;33m\u001b[0m\u001b[0m\n\u001b[0;32m     10\u001b[0m \u001b[1;33m\u001b[0m\u001b[0m\n\u001b[1;32m---> 11\u001b[1;33m \u001b[0mplot\u001b[0m\u001b[1;33m(\u001b[0m\u001b[0mbase\u001b[0m\u001b[1;33m[\u001b[0m\u001b[1;33m:\u001b[0m\u001b[1;33m-\u001b[0m\u001b[1;36m1\u001b[0m\u001b[1;33m]\u001b[0m\u001b[1;33m,\u001b[0m \u001b[1;33m(\u001b[0m\u001b[0mcumu_I\u001b[0m\u001b[1;33m)\u001b[0m\u001b[1;33m*\u001b[0m\u001b[1;36m100\u001b[0m\u001b[1;33m,\u001b[0m \u001b[1;34m'k-'\u001b[0m\u001b[1;33m,\u001b[0m \u001b[0mlinewidth\u001b[0m \u001b[1;33m=\u001b[0m \u001b[1;36m2\u001b[0m\u001b[1;33m,\u001b[0m \u001b[0mlabel\u001b[0m \u001b[1;33m=\u001b[0m\u001b[1;34m'%d'\u001b[0m \u001b[1;33m%\u001b[0m \u001b[0my\u001b[0m\u001b[1;33m)\u001b[0m\u001b[1;33m\u001b[0m\u001b[0m\n\u001b[0m\u001b[0;32m     12\u001b[0m \u001b[1;33m\u001b[0m\u001b[0m\n\u001b[0;32m     13\u001b[0m \u001b[1;33m\u001b[0m\u001b[0m\n",
      "\u001b[1;32m/home/arikaplan/anaconda3/lib/python3.5/site-packages/matplotlib/pyplot.py\u001b[0m in \u001b[0;36mplot\u001b[1;34m(*args, **kwargs)\u001b[0m\n\u001b[0;32m   3152\u001b[0m         \u001b[0max\u001b[0m\u001b[1;33m.\u001b[0m\u001b[0mhold\u001b[0m\u001b[1;33m(\u001b[0m\u001b[0mhold\u001b[0m\u001b[1;33m)\u001b[0m\u001b[1;33m\u001b[0m\u001b[0m\n\u001b[0;32m   3153\u001b[0m     \u001b[1;32mtry\u001b[0m\u001b[1;33m:\u001b[0m\u001b[1;33m\u001b[0m\u001b[0m\n\u001b[1;32m-> 3154\u001b[1;33m         \u001b[0mret\u001b[0m \u001b[1;33m=\u001b[0m \u001b[0max\u001b[0m\u001b[1;33m.\u001b[0m\u001b[0mplot\u001b[0m\u001b[1;33m(\u001b[0m\u001b[1;33m*\u001b[0m\u001b[0margs\u001b[0m\u001b[1;33m,\u001b[0m \u001b[1;33m**\u001b[0m\u001b[0mkwargs\u001b[0m\u001b[1;33m)\u001b[0m\u001b[1;33m\u001b[0m\u001b[0m\n\u001b[0m\u001b[0;32m   3155\u001b[0m     \u001b[1;32mfinally\u001b[0m\u001b[1;33m:\u001b[0m\u001b[1;33m\u001b[0m\u001b[0m\n\u001b[0;32m   3156\u001b[0m         \u001b[0max\u001b[0m\u001b[1;33m.\u001b[0m\u001b[0mhold\u001b[0m\u001b[1;33m(\u001b[0m\u001b[0mwashold\u001b[0m\u001b[1;33m)\u001b[0m\u001b[1;33m\u001b[0m\u001b[0m\n",
      "\u001b[1;32m/home/arikaplan/anaconda3/lib/python3.5/site-packages/matplotlib/__init__.py\u001b[0m in \u001b[0;36minner\u001b[1;34m(ax, *args, **kwargs)\u001b[0m\n\u001b[0;32m   1810\u001b[0m                     warnings.warn(msg % (label_namer, func.__name__),\n\u001b[0;32m   1811\u001b[0m                                   RuntimeWarning, stacklevel=2)\n\u001b[1;32m-> 1812\u001b[1;33m             \u001b[1;32mreturn\u001b[0m \u001b[0mfunc\u001b[0m\u001b[1;33m(\u001b[0m\u001b[0max\u001b[0m\u001b[1;33m,\u001b[0m \u001b[1;33m*\u001b[0m\u001b[0margs\u001b[0m\u001b[1;33m,\u001b[0m \u001b[1;33m**\u001b[0m\u001b[0mkwargs\u001b[0m\u001b[1;33m)\u001b[0m\u001b[1;33m\u001b[0m\u001b[0m\n\u001b[0m\u001b[0;32m   1813\u001b[0m         \u001b[0mpre_doc\u001b[0m \u001b[1;33m=\u001b[0m \u001b[0minner\u001b[0m\u001b[1;33m.\u001b[0m\u001b[0m__doc__\u001b[0m\u001b[1;33m\u001b[0m\u001b[0m\n\u001b[0;32m   1814\u001b[0m         \u001b[1;32mif\u001b[0m \u001b[0mpre_doc\u001b[0m \u001b[1;32mis\u001b[0m \u001b[1;32mNone\u001b[0m\u001b[1;33m:\u001b[0m\u001b[1;33m\u001b[0m\u001b[0m\n",
      "\u001b[1;32m/home/arikaplan/anaconda3/lib/python3.5/site-packages/matplotlib/axes/_axes.py\u001b[0m in \u001b[0;36mplot\u001b[1;34m(self, *args, **kwargs)\u001b[0m\n\u001b[0;32m   1422\u001b[0m             \u001b[0mkwargs\u001b[0m\u001b[1;33m[\u001b[0m\u001b[1;34m'color'\u001b[0m\u001b[1;33m]\u001b[0m \u001b[1;33m=\u001b[0m \u001b[0mc\u001b[0m\u001b[1;33m\u001b[0m\u001b[0m\n\u001b[0;32m   1423\u001b[0m \u001b[1;33m\u001b[0m\u001b[0m\n\u001b[1;32m-> 1424\u001b[1;33m         \u001b[1;32mfor\u001b[0m \u001b[0mline\u001b[0m \u001b[1;32min\u001b[0m \u001b[0mself\u001b[0m\u001b[1;33m.\u001b[0m\u001b[0m_get_lines\u001b[0m\u001b[1;33m(\u001b[0m\u001b[1;33m*\u001b[0m\u001b[0margs\u001b[0m\u001b[1;33m,\u001b[0m \u001b[1;33m**\u001b[0m\u001b[0mkwargs\u001b[0m\u001b[1;33m)\u001b[0m\u001b[1;33m:\u001b[0m\u001b[1;33m\u001b[0m\u001b[0m\n\u001b[0m\u001b[0;32m   1425\u001b[0m             \u001b[0mself\u001b[0m\u001b[1;33m.\u001b[0m\u001b[0madd_line\u001b[0m\u001b[1;33m(\u001b[0m\u001b[0mline\u001b[0m\u001b[1;33m)\u001b[0m\u001b[1;33m\u001b[0m\u001b[0m\n\u001b[0;32m   1426\u001b[0m             \u001b[0mlines\u001b[0m\u001b[1;33m.\u001b[0m\u001b[0mappend\u001b[0m\u001b[1;33m(\u001b[0m\u001b[0mline\u001b[0m\u001b[1;33m)\u001b[0m\u001b[1;33m\u001b[0m\u001b[0m\n",
      "\u001b[1;32m/home/arikaplan/anaconda3/lib/python3.5/site-packages/matplotlib/axes/_base.py\u001b[0m in \u001b[0;36m_grab_next_args\u001b[1;34m(self, *args, **kwargs)\u001b[0m\n\u001b[0;32m    384\u001b[0m                 \u001b[1;32mreturn\u001b[0m\u001b[1;33m\u001b[0m\u001b[0m\n\u001b[0;32m    385\u001b[0m             \u001b[1;32mif\u001b[0m \u001b[0mlen\u001b[0m\u001b[1;33m(\u001b[0m\u001b[0mremaining\u001b[0m\u001b[1;33m)\u001b[0m \u001b[1;33m<=\u001b[0m \u001b[1;36m3\u001b[0m\u001b[1;33m:\u001b[0m\u001b[1;33m\u001b[0m\u001b[0m\n\u001b[1;32m--> 386\u001b[1;33m                 \u001b[1;32mfor\u001b[0m \u001b[0mseg\u001b[0m \u001b[1;32min\u001b[0m \u001b[0mself\u001b[0m\u001b[1;33m.\u001b[0m\u001b[0m_plot_args\u001b[0m\u001b[1;33m(\u001b[0m\u001b[0mremaining\u001b[0m\u001b[1;33m,\u001b[0m \u001b[0mkwargs\u001b[0m\u001b[1;33m)\u001b[0m\u001b[1;33m:\u001b[0m\u001b[1;33m\u001b[0m\u001b[0m\n\u001b[0m\u001b[0;32m    387\u001b[0m                     \u001b[1;32myield\u001b[0m \u001b[0mseg\u001b[0m\u001b[1;33m\u001b[0m\u001b[0m\n\u001b[0;32m    388\u001b[0m                 \u001b[1;32mreturn\u001b[0m\u001b[1;33m\u001b[0m\u001b[0m\n",
      "\u001b[1;32m/home/arikaplan/anaconda3/lib/python3.5/site-packages/matplotlib/axes/_base.py\u001b[0m in \u001b[0;36m_plot_args\u001b[1;34m(self, tup, kwargs)\u001b[0m\n\u001b[0;32m    362\u001b[0m             \u001b[0mx\u001b[0m\u001b[1;33m,\u001b[0m \u001b[0my\u001b[0m \u001b[1;33m=\u001b[0m \u001b[0mindex_of\u001b[0m\u001b[1;33m(\u001b[0m\u001b[0mtup\u001b[0m\u001b[1;33m[\u001b[0m\u001b[1;33m-\u001b[0m\u001b[1;36m1\u001b[0m\u001b[1;33m]\u001b[0m\u001b[1;33m)\u001b[0m\u001b[1;33m\u001b[0m\u001b[0m\n\u001b[0;32m    363\u001b[0m \u001b[1;33m\u001b[0m\u001b[0m\n\u001b[1;32m--> 364\u001b[1;33m         \u001b[0mx\u001b[0m\u001b[1;33m,\u001b[0m \u001b[0my\u001b[0m \u001b[1;33m=\u001b[0m \u001b[0mself\u001b[0m\u001b[1;33m.\u001b[0m\u001b[0m_xy_from_xy\u001b[0m\u001b[1;33m(\u001b[0m\u001b[0mx\u001b[0m\u001b[1;33m,\u001b[0m \u001b[0my\u001b[0m\u001b[1;33m)\u001b[0m\u001b[1;33m\u001b[0m\u001b[0m\n\u001b[0m\u001b[0;32m    365\u001b[0m \u001b[1;33m\u001b[0m\u001b[0m\n\u001b[0;32m    366\u001b[0m         \u001b[1;32mif\u001b[0m \u001b[0mself\u001b[0m\u001b[1;33m.\u001b[0m\u001b[0mcommand\u001b[0m \u001b[1;33m==\u001b[0m \u001b[1;34m'plot'\u001b[0m\u001b[1;33m:\u001b[0m\u001b[1;33m\u001b[0m\u001b[0m\n",
      "\u001b[1;32m/home/arikaplan/anaconda3/lib/python3.5/site-packages/matplotlib/axes/_base.py\u001b[0m in \u001b[0;36m_xy_from_xy\u001b[1;34m(self, x, y)\u001b[0m\n\u001b[0;32m    221\u001b[0m         \u001b[0my\u001b[0m \u001b[1;33m=\u001b[0m \u001b[0m_check_1d\u001b[0m\u001b[1;33m(\u001b[0m\u001b[0my\u001b[0m\u001b[1;33m)\u001b[0m\u001b[1;33m\u001b[0m\u001b[0m\n\u001b[0;32m    222\u001b[0m         \u001b[1;32mif\u001b[0m \u001b[0mx\u001b[0m\u001b[1;33m.\u001b[0m\u001b[0mshape\u001b[0m\u001b[1;33m[\u001b[0m\u001b[1;36m0\u001b[0m\u001b[1;33m]\u001b[0m \u001b[1;33m!=\u001b[0m \u001b[0my\u001b[0m\u001b[1;33m.\u001b[0m\u001b[0mshape\u001b[0m\u001b[1;33m[\u001b[0m\u001b[1;36m0\u001b[0m\u001b[1;33m]\u001b[0m\u001b[1;33m:\u001b[0m\u001b[1;33m\u001b[0m\u001b[0m\n\u001b[1;32m--> 223\u001b[1;33m             \u001b[1;32mraise\u001b[0m \u001b[0mValueError\u001b[0m\u001b[1;33m(\u001b[0m\u001b[1;34m\"x and y must have same first dimension\"\u001b[0m\u001b[1;33m)\u001b[0m\u001b[1;33m\u001b[0m\u001b[0m\n\u001b[0m\u001b[0;32m    224\u001b[0m         \u001b[1;32mif\u001b[0m \u001b[0mx\u001b[0m\u001b[1;33m.\u001b[0m\u001b[0mndim\u001b[0m \u001b[1;33m>\u001b[0m \u001b[1;36m2\u001b[0m \u001b[1;32mor\u001b[0m \u001b[0my\u001b[0m\u001b[1;33m.\u001b[0m\u001b[0mndim\u001b[0m \u001b[1;33m>\u001b[0m \u001b[1;36m2\u001b[0m\u001b[1;33m:\u001b[0m\u001b[1;33m\u001b[0m\u001b[0m\n\u001b[0;32m    225\u001b[0m             \u001b[1;32mraise\u001b[0m \u001b[0mValueError\u001b[0m\u001b[1;33m(\u001b[0m\u001b[1;34m\"x and y can be no greater than 2-D\"\u001b[0m\u001b[1;33m)\u001b[0m\u001b[1;33m\u001b[0m\u001b[0m\n",
      "\u001b[1;31mValueError\u001b[0m: x and y must have same first dimension"
     ]
    }
   ],
   "source": [
    "#create cumulative distribution:\n",
    "figure()\n",
    "bins=100\n",
    "#a = np.hstack(t)\n",
    "values, base = np.histogram(t, bins = bins, density=True)\n",
    "cumulative = np.cumsum(values)\n",
    "cumu = cumulative/cumulative.max()\n",
    "#print(cumulative.max())\n",
    "cumu_I = (1. - cumu)\n",
    "\n",
    "plot(base[:-1], (cumu_I)*100, 'k-', linewidth = 2, label ='%d' % y)\n",
    "    \n",
    "\n",
    "plt.title('June - August: Prob(clear sky fraction $>$ 80% for $>$ x hours)')\n",
    "plt.xlabel('hours')\n",
    "plt.ylabel('Cumulative Distribution (%)')\n",
    "#plt.legend([c_15, c_14, c_13, c_12, c_11, c_10, c_09], ['2015', '2014', '2013', '2012', '2011', '2010', '2009'], loc = 'lower right')\n",
    "legend()\n",
    "#plt.xlim([0,cs.max()])\n",
    "#plt.ylim([0, 105])\n",
    "#plt.savefig('../meteorology/plots/year_to_year_comparisons/wind_speed_hourly_average_1-cumulative_dist.png')\n",
    "plt.show()"
   ]
  },
  {
   "cell_type": "code",
   "execution_count": 87,
   "metadata": {
    "collapsed": true
   },
   "outputs": [],
   "source": [
    "for y in YEAR:\n",
    "    clearsky[y] = ma.masked_equal(clearsky[y], -1)"
   ]
  },
  {
   "cell_type": "code",
   "execution_count": 88,
   "metadata": {
    "collapsed": false
   },
   "outputs": [],
   "source": [
    "cs_good = defaultdict(dict)\n",
    "#create arrays with missing elements deleted\n",
    "for y in YEAR:\n",
    "    \n",
    "    s = clearsky[y]\n",
    "    igood = np.where(s >= 0.)[0]\n",
    "    cs_good[y] = s[igood]"
   ]
  },
  {
   "cell_type": "code",
   "execution_count": 89,
   "metadata": {
    "collapsed": false
   },
   "outputs": [
    {
     "data": {
      "text/plain": [
       "[<matplotlib.lines.Line2D at 0x7f195af273c8>]"
      ]
     },
     "execution_count": 89,
     "metadata": {},
     "output_type": "execute_result"
    }
   ],
   "source": [
    "figure()\n",
    "plot(cs_good[y])"
   ]
  },
  {
   "cell_type": "code",
   "execution_count": 90,
   "metadata": {
    "collapsed": false
   },
   "outputs": [
    {
     "data": {
      "text/plain": [
       "(array([ 22794.,  15709.,   4581.,   2297.,   1689.,   1313.,   1002.,\n",
       "           878.,    888.,    787.,    774.,    677.,    668.,    658.,\n",
       "           639.,    655.,    627.,    565.,    609.,    546.,    562.,\n",
       "           559.,    576.,    548.,    568.,    578.,    624.,    604.,\n",
       "           568.,    646.,    670.,    672.,    652.,    736.,    726.,\n",
       "           863.,    866.,    992.,   1149.,   1161.,   1304.,   1713.,\n",
       "          1875.,   2310.,   2149.,   2158.,   2868.,   3699.,   5301.,\n",
       "         16379.]),\n",
       " array([ 0.  ,  0.02,  0.04,  0.06,  0.08,  0.1 ,  0.12,  0.14,  0.16,\n",
       "         0.18,  0.2 ,  0.22,  0.24,  0.26,  0.28,  0.3 ,  0.32,  0.34,\n",
       "         0.36,  0.38,  0.4 ,  0.42,  0.44,  0.46,  0.48,  0.5 ,  0.52,\n",
       "         0.54,  0.56,  0.58,  0.6 ,  0.62,  0.64,  0.66,  0.68,  0.7 ,\n",
       "         0.72,  0.74,  0.76,  0.78,  0.8 ,  0.82,  0.84,  0.86,  0.88,\n",
       "         0.9 ,  0.92,  0.94,  0.96,  0.98,  1.  ]),\n",
       " <a list of 50 Patch objects>)"
      ]
     },
     "execution_count": 90,
     "metadata": {},
     "output_type": "execute_result"
    }
   ],
   "source": [
    "plt.hist(cs_good[y], bins = 50)"
   ]
  },
  {
   "cell_type": "code",
   "execution_count": 79,
   "metadata": {
    "collapsed": false
   },
   "outputs": [
    {
     "data": {
      "text/plain": [
       "<matplotlib.legend.Legend at 0x1559d518>"
      ]
     },
     "execution_count": 79,
     "metadata": {},
     "output_type": "execute_result"
    }
   ],
   "source": [
    "figure()\n",
    "\n",
    "plot(clearsky[2017], linewidth = 2, label='2017')\n",
    "plot(clearsky[2018], linewidth = 2, label='2018')\n",
    "legend()"
   ]
  },
  {
   "cell_type": "code",
   "execution_count": 60,
   "metadata": {
    "collapsed": false
   },
   "outputs": [
    {
     "data": {
      "text/plain": [
       "[<matplotlib.lines.Line2D at 0x7fc6b6fe2b70>]"
      ]
     },
     "execution_count": 60,
     "metadata": {},
     "output_type": "execute_result"
    }
   ],
   "source": [
    "figure()\n",
    "plot(cs_good[y])"
   ]
  },
  {
   "cell_type": "code",
   "execution_count": 91,
   "metadata": {
    "collapsed": true
   },
   "outputs": [],
   "source": [
    "#create cumulative distribution:\n",
    "\n",
    "base = defaultdict(dict)\n",
    "cumu = defaultdict(dict)\n",
    "cumu_I = defaultdict(dict)\n",
    "\n",
    "bins = 100\n",
    "\n",
    "figure()\n",
    "for y in [2018]:\n",
    "    \n",
    "    cs = cs_good[y]\n",
    "    values, base[y] = np.histogram(cs, bins = bins, density=True)\n",
    "    cumulative = np.cumsum(values)\n",
    "    cumu[y] = cumulative/cumulative.max()\n",
    "    cumu_I[y] = (1. - cumu[y])\n",
    "    \n",
    "    if y == 2018:\n",
    "        plot(base[y][:-1], (cumu_I[y])*100., 'k-', linewidth = 2, label ='%d' % y)\n",
    "    else:    \n",
    "        plot(base[y][:-1], (cumu_I[y])*100., '--', linewidth = 2, label ='%d' % y)\n",
    "    \n",
    "\n",
    "plt.title('June - August: Prob(clear sky fraction $>$ x)')\n",
    "plt.xlabel('clear sky percentage')\n",
    "plt.ylabel('Cumulative Distribution (%)')\n",
    "#plt.legend([c_15, c_14, c_13, c_12, c_11, c_10, c_09], ['2015', '2014', '2013', '2012', '2011', '2010', '2009'], loc = 'lower right')\n",
    "legend()\n",
    "#plt.xlim([0,cs.max()])\n",
    "plt.ylim([0, 105])\n",
    "#plt.savefig('../meteorology/plots/year_to_year_comparisons/wind_speed_hourly_average_1-cumulative_dist.png')\n",
    "plt.show()"
   ]
  },
  {
   "cell_type": "code",
   "execution_count": 4,
   "metadata": {
    "collapsed": true
   },
   "outputs": [],
   "source": [
    "from PIL import Image"
   ]
  },
  {
   "cell_type": "code",
   "execution_count": 8,
   "metadata": {
    "collapsed": false
   },
   "outputs": [
    {
     "name": "stdout",
     "output_type": "stream",
     "text": [
      "288 352\n",
      "(108, 94, 153)\n"
     ]
    }
   ],
   "source": [
    "im = Image.open('G:/software_git_repos/greenpol/telescope_control/data_aquisition/weather_data/TSI_data/uncompressed/tsi20160705/20160705022700.jpg')\n",
    "#im = Image.open('G:/software_git_repos/greenpol/telescope_control/data_aquisition/weather_data/TSI_data/uncompressed/tsi20160705/20160705002100.jpg')\n",
    "\n",
    "pix = im.load()\n",
    "x, y = im.size\n",
    "print x,y  # Get the width and hight of the image for iterating over\n",
    "print pix[x-1,y-1]  # Get the RGBA Value of the a pixel of an image\n",
    "#pix[x,y] = value  # Set the RGBA Value of the image (tuple)"
   ]
  },
  {
   "cell_type": "code",
   "execution_count": 9,
   "metadata": {
    "collapsed": false
   },
   "outputs": [
    {
     "name": "stdout",
     "output_type": "stream",
     "text": [
      "0.990806502525\n"
     ]
    }
   ],
   "source": [
    "xx,yy  = np.arange(0, x), np.arange(0., y)\n",
    "X,Y = np.meshgrid(xx,yy)\n",
    "\n",
    "z = np.zeros(x*y)\n",
    "sig = np.reshape(z, (y, x))\n",
    "count = 0.\n",
    "for iy in range(y):\n",
    "    for ix in range(x):\n",
    "        sig[iy][ix] = pix[ix,iy][0]*pix[ix,iy][1]*pix[ix,iy][2]/1e7\n",
    "        if sig[iy][ix] <= 1:\n",
    "            count +=1.\n",
    "\n",
    "print count/x/y"
   ]
  },
  {
   "cell_type": "code",
   "execution_count": 10,
   "metadata": {
    "collapsed": true
   },
   "outputs": [],
   "source": [
    "fig, ax = subplots()\n",
    "pcolormesh(X, Y, sig)\n",
    "\n",
    "colorbar(label = 'R*G*B value')\n",
    "clim(sig.min(),sig.max())\n",
    "axis([X.min(), X.max(), Y.max(), Y.min()])\n",
    "ylabel('Y')\n",
    "xlabel('X')\n",
    "title('cloudy day image')\n",
    "grid()\n"
   ]
  },
  {
   "cell_type": "code",
   "execution_count": 3,
   "metadata": {
    "collapsed": false
   },
   "outputs": [
    {
     "name": "stdout",
     "output_type": "stream",
     "text": [
      "G:\\software_git_repos\\greenpol\\notebook\n"
     ]
    }
   ],
   "source": [
    "print os.getcwd()"
   ]
  },
  {
   "cell_type": "code",
   "execution_count": 8,
   "metadata": {
    "collapsed": false
   },
   "outputs": [
    {
     "ename": "AttributeError",
     "evalue": "'module' object has no attribute 'File'",
     "output_type": "error",
     "traceback": [
      "\u001b[1;31m---------------------------------------------------------------------------\u001b[0m",
      "\u001b[1;31mAttributeError\u001b[0m                            Traceback (most recent call last)",
      "\u001b[1;32m<ipython-input-8-4becce8e7db1>\u001b[0m in \u001b[0;36m<module>\u001b[1;34m()\u001b[0m\n\u001b[0;32m      1\u001b[0m \u001b[0mfolder\u001b[0m \u001b[1;33m=\u001b[0m \u001b[1;34m'../telescope_control/data_aquisition/weather_data/PWV/'\u001b[0m\u001b[1;33m\u001b[0m\u001b[0m\n\u001b[1;32m----> 2\u001b[1;33m \u001b[0mpwv\u001b[0m \u001b[1;33m=\u001b[0m \u001b[0mh5py\u001b[0m\u001b[1;33m.\u001b[0m\u001b[0mFile\u001b[0m\u001b[1;33m(\u001b[0m\u001b[0mfolder\u001b[0m \u001b[1;33m+\u001b[0m \u001b[1;34m'asdfint1p5_pwv.mat'\u001b[0m\u001b[1;33m,\u001b[0m \u001b[1;34m'r'\u001b[0m\u001b[1;33m)\u001b[0m\u001b[1;33m\u001b[0m\u001b[0m\n\u001b[0m\u001b[0;32m      3\u001b[0m \u001b[0mdoy\u001b[0m \u001b[1;33m=\u001b[0m \u001b[0mh5py\u001b[0m\u001b[1;33m.\u001b[0m\u001b[0mFile\u001b[0m\u001b[1;33m(\u001b[0m\u001b[0mfolder\u001b[0m \u001b[1;33m+\u001b[0m \u001b[1;34m'asdfint1p5_doy.mat'\u001b[0m\u001b[1;33m,\u001b[0m \u001b[1;34m'r'\u001b[0m\u001b[1;33m)\u001b[0m\u001b[1;33m\u001b[0m\u001b[0m\n\u001b[0;32m      4\u001b[0m \u001b[0mcloud\u001b[0m \u001b[1;33m=\u001b[0m \u001b[0mh5py\u001b[0m\u001b[1;33m.\u001b[0m\u001b[0mFile\u001b[0m\u001b[1;33m(\u001b[0m\u001b[0mfolder\u001b[0m \u001b[1;33m+\u001b[0m \u001b[1;34m'asdfint1p5_cloud.mat'\u001b[0m\u001b[1;33m,\u001b[0m \u001b[1;34m'r'\u001b[0m\u001b[1;33m)\u001b[0m\u001b[1;33m\u001b[0m\u001b[0m\n",
      "\u001b[1;31mAttributeError\u001b[0m: 'module' object has no attribute 'File'"
     ]
    }
   ],
   "source": [
    "folder = '../telescope_control/data_aquisition/weather_data/PWV/'\n",
    "pwv = h5py.File(folder + 'asdfint1p5_pwv.mat', 'r')\n",
    "doy = h5py.File(folder + 'asdfint1p5_doy.mat', 'r')\n",
    "cloud = h5py.File(folder + 'asdfint1p5_cloud.mat', 'r')"
   ]
  },
  {
   "cell_type": "code",
   "execution_count": null,
   "metadata": {
    "collapsed": true
   },
   "outputs": [],
   "source": [
    "f = h5py.File('somefile.mat','r') \n",
    "data = f.get('data/variable1') # Get a certain dataset\n",
    "data = np.array(data)"
   ]
  }
 ],
 "metadata": {
  "kernelspec": {
   "display_name": "Python 3",
   "language": "python",
   "name": "python3"
  },
  "language_info": {
   "codemirror_mode": {
    "name": "ipython",
    "version": 3
   },
   "file_extension": ".py",
   "mimetype": "text/x-python",
   "name": "python",
   "nbconvert_exporter": "python",
   "pygments_lexer": "ipython3",
   "version": "3.5.2"
  }
 },
 "nbformat": 4,
 "nbformat_minor": 2
}
