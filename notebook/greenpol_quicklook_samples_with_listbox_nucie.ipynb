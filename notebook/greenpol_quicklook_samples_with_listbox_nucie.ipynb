{
 "cells": [
  {
   "cell_type": "code",
   "execution_count": 1,
   "metadata": {
    "collapsed": false
   },
   "outputs": [],
   "source": [
    "from contextlib import contextmanager\n",
    "import os\n",
    "import datetime as dt\n",
    "import numpy as np\n",
    "import h5py\n",
    "import time\n",
    "import sys\n",
    "os.chdir('d://software_git_repos/greenpol/telescope_control/data_aquisition/')\n",
    "sys.path.append('../')\n",
    "sys.path.append('d:/software_git_repos/cofe-python-analysis-tools/utils_meinhold/')\n",
    "sys.path.append('d:/software_git_repos/cofe-python-analysis-tools/utils_zonca/')\n",
    "from glob import glob\n",
    "\n",
    "sys.path.append('../../')\n",
    "sys.path.append('../../../')\n",
    "sys.path.append('../VtoT/')\n",
    "\n",
    "import Tkinter,tkFileDialog\n",
    "\n",
    "import cofe_util as cu\n",
    "import realtime_gp as rt\n",
    "import datetime\n",
    "\n",
    "from Tkinter import *\n",
    "import ttk"
   ]
  },
  {
   "cell_type": "code",
   "execution_count": 2,
   "metadata": {
    "collapsed": true
   },
   "outputs": [],
   "source": [
    "def nametochan(name):\n",
    "    #function to convert channel numbers to channel names\n",
    "\n",
    "    #names of each channel\n",
    "    chans = {\n",
    "        'all': 'all',  'H1HiAC':'ch0',  'H1HiDC':'ch1',\n",
    "        'H1LoAC':'ch2' ,  'H1LoDC':'ch3', 'H2HiAC':'ch4' ,\n",
    "        'H2HiDC':'ch5' ,  'H2LoAC':'ch6',  'H2LoDC':'ch7',\n",
    "        'H3HiAC':'ch8', 'H3HiDC':'ch9',  'H3LoAC':'ch10',\n",
    "         'H3LoDC':'ch11', 'HornTop':'ch12', 'Amplifier': 'ch13',\n",
    "        'Cooler':'ch14', 'Transition':'ch15'}\n",
    "\n",
    "    chan = chans[name]\n",
    "\n",
    "    return chan"
   ]
  },
  {
   "cell_type": "code",
   "execution_count": 3,
   "metadata": {
    "collapsed": false
   },
   "outputs": [
    {
     "name": "stdout",
     "output_type": "stream",
     "text": [
      "Using matplotlib backend: Qt5Agg\n",
      "Populating the interactive namespace from numpy and matplotlib\n"
     ]
    },
    {
     "name": "stderr",
     "output_type": "stream",
     "text": [
      "C:\\Users\\labuser\\Anaconda\\envs\\py27\\lib\\site-packages\\IPython\\core\\magics\\pylab.py:161: UserWarning: pylab import has clobbered these variables: ['Widget', 'Text', 'Button']\n",
      "`%matplotlib` prevents importing * from pylab and numpy\n",
      "  \"\\n`%matplotlib` prevents importing * from pylab and numpy\"\n"
     ]
    }
   ],
   "source": [
    "%pylab"
   ]
  },
  {
   "cell_type": "code",
   "execution_count": 4,
   "metadata": {
    "collapsed": true
   },
   "outputs": [],
   "source": [
    "def plot_some_chans2(plottype='toi',filelist=None,component='T',samprate=30,minfreq=.1):\n",
    "    if filelist==None:\n",
    "        root=Tkinter.Tk()\n",
    "        filelist = list(tkFileDialog.askopenfilenames(\\\n",
    "        initialdir='d://software_git_repos/greenpol/telescope_control/data_aquisition/demod_data/',parent=root,title='Choose a set of files'))\n",
    "        root.destroy()\n",
    "    filelist.sort()\n",
    "    main = Tk()\n",
    "    main.title(\"Choose channels to plot\")\n",
    "    main.geometry(\"+50+150\")\n",
    "    frame = ttk.Frame(main, padding=(3, 3, 12, 12))\n",
    "    frame.grid(column=0, row=0, sticky=(N, S, E, W))\n",
    "\n",
    "    #set up the listbox to choose what chans to plot\n",
    "    chan_labels = StringVar()\n",
    "    chan_labels.set(\"H1HiAC H1HiDC H1LoAC H1LoDC H2HiAC H2HiDC H2LoAC H2LoDC\\\n",
    "                 H3HiAC H3HiDC H3LoAC H3LoDC HornTop Amplifier Cooler Transition\")           \n",
    "    dlist=[]\n",
    "    for f in filelist[1:]:\n",
    "        hf=h5py.File(f)\n",
    "        dlist.append(hf['demod_data'])\n",
    "    d=concatenate(dlist)\n",
    "    hf.close() \n",
    "    \n",
    "    lstbox = Listbox(frame,listvariable=chan_labels, selectmode=MULTIPLE, width=20, height=16)\n",
    "    lstbox.grid(column=0, row=0, columnspan=2)\n",
    "    \n",
    "    lstbox2 = Listbox(frame,listvariable=chan_labels, selectmode=MULTIPLE, width=20, height=16)\n",
    "    lstbox2.grid(column=2, row=0, columnspan=2)\n",
    "    #start the plot\n",
    "\n",
    "    fname=filelist[0]\n",
    "    yyyy=os.path.dirname(filelist[0])[-8:-4]\n",
    "    mm=os.path.dirname(filelist[0])[-4:-2]\n",
    "    dd=os.path.dirname(filelist[0])[-2:]\n",
    "\n",
    "    def select():\n",
    "        reslist = list()\n",
    "        selection = lstbox.curselection()\n",
    "        figure()\n",
    "        title('%s TOI from %s %s %s' %(component,mm,dd,yyyy))\n",
    "\n",
    "        for i in selection:\n",
    "            entry = lstbox.get(i)\n",
    "            reslist.append(entry)\n",
    "        for val in reslist:\n",
    "            chan=nametochan(val)\n",
    "            plot(d['rev'],d[chan][component],label=val)\n",
    "            xlabel('GPS time [mS]')\n",
    "            ylabel('output [v]')\n",
    "            legend()\n",
    "\n",
    "    def selectfft():\n",
    "        reslist2 = list()\n",
    "        selection2 = lstbox2.curselection()\n",
    "        figure()\n",
    "        title('%s ASD from %s %s %s' %(component,mm,dd,yyyy))\n",
    "\n",
    "        for i in selection2:\n",
    "            entry2 = lstbox2.get(i)\n",
    "            reslist2.append(entry2)\n",
    "        for val in reslist2:\n",
    "            chan=nametochan(val)\n",
    "            freq,psd=cu.nps(d[chan][component],samprate,minfreq=minfreq)\n",
    "            plot(freq,sqrt(psd)*1e9,label=val)\n",
    "            xlabel('Frequency [Hz]')\n",
    "            ylabel(r'ASD [$\\frac{nV}{\\sqrt{Hz}}$]')\n",
    "            legend()\n",
    "                \n",
    "    btn = ttk.Button(frame, text=\"SelectTOI\", command=select)\n",
    "    btn.grid(column=1, row=1)\n",
    "    \n",
    "    btn2 = ttk.Button(frame, text=\"SelectFFT\", command=selectfft)\n",
    "    btn2.grid(column=3, row=1)\n",
    "    \n",
    "    main.mainloop()"
   ]
  },
  {
   "cell_type": "code",
   "execution_count": null,
   "metadata": {
    "collapsed": false
   },
   "outputs": [],
   "source": [
    "plot_some_chans2(component='T')"
   ]
  },
  {
   "cell_type": "code",
   "execution_count": null,
   "metadata": {
    "collapsed": true
   },
   "outputs": [],
   "source": []
  }
 ],
 "metadata": {
  "kernelspec": {
   "display_name": "Python 2",
   "language": "python",
   "name": "python2"
  },
  "language_info": {
   "codemirror_mode": {
    "name": "ipython",
    "version": 2
   },
   "file_extension": ".py",
   "mimetype": "text/x-python",
   "name": "python",
   "nbconvert_exporter": "python",
   "pygments_lexer": "ipython2",
   "version": "2.7.13"
  }
 },
 "nbformat": 4,
 "nbformat_minor": 2
}
