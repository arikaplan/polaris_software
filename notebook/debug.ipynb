{
 "cells": [
  {
   "cell_type": "code",
   "execution_count": 1,
   "metadata": {
    "collapsed": false
   },
   "outputs": [
    {
     "name": "stdout",
     "output_type": "stream",
     "text": [
      "Using matplotlib backend: Qt5Agg\n",
      "Populating the interactive namespace from numpy and matplotlib\n"
     ]
    },
    {
     "name": "stderr",
     "output_type": "stream",
     "text": [
      "C:\\Users\\labuser\\Anaconda\\envs\\py27\\lib\\site-packages\\IPython\\core\\magics\\pylab.py:161: UserWarning: pylab import has clobbered these variables: ['Widget', 'Text', 'Button']\n",
      "`%matplotlib` prevents importing * from pylab and numpy\n",
      "  \"\\n`%matplotlib` prevents importing * from pylab and numpy\"\n"
     ]
    }
   ],
   "source": [
    "import sys\n",
    "import os\n",
    "sys.path.append('D:\\\\software_git_repos\\\\cofe-python-analysis-tools\\\\utils_meinhold')\n",
    "sys.path.append('D:\\\\software_git_repos\\\\cofe-python-analysis-tools\\\\utils_zonca')\n",
    "sys.path.append('D:\\\\software_git_repos\\\\cofe-python-analysis-tools\\\\utils_zonca\\\\pointing')\n",
    "sys.path.append('D:\\\\software_git_repos\\\\greenpol')\n",
    "sys.path.append('D:\\\\software_git_repos\\\\greenpol\\\\telescope_control\\\\')\n",
    "sys.path.append('D:\\\\software_git_repos\\\\greenpol\\\\telescope_control\\\\VtoT\\\\')\n",
    "import realtime_gp as rt\n",
    "import numpy as np\n",
    "import datetime \n",
    "import h5py\n",
    "import pandas as pd\n",
    "from pointingtools import compute_parallactic_angle, altaz2ha \n",
    "from planets import getlocation\n",
    "import warnings\n",
    "from astropy.coordinates import AltAz, Angle, EarthLocation, ICRS, SkyCoord, frame_transform_graph\n",
    "from astropy import units as u\n",
    "import ephem\n",
    "import matplotlib.pyplot as plt\n",
    "import time\n",
    "import calendar\n",
    "import realtime_gp as rt\n",
    "\n",
    "import Tkinter,tkFileDialog\n",
    "\n",
    "from Tkinter import *\n",
    "import ttk\n",
    "\n",
    "from scipy import optimize\n",
    "import pickle\n",
    "\n",
    "import numpy.ma as ma\n",
    "\n",
    "import cPickle\n",
    "\n",
    "\n",
    "%pylab"
   ]
  },
  {
   "cell_type": "code",
   "execution_count": 2,
   "metadata": {
    "collapsed": true
   },
   "outputs": [],
   "source": [
    "def nametochan(name):\n",
    "    #function to convert channel numbers to channel names\n",
    "\n",
    "    #names of each channel\n",
    "    chans = {\n",
    "        'all': 'all',  'H1HiAC':'ch0',  'H1HiDC':'ch1',\n",
    "        'H1LoAC':'ch2' ,  'H1LoDC':'ch3', 'H2HiAC':'ch4' ,\n",
    "        'H2HiDC':'ch5' ,  'H2LoAC':'ch6',  'H2LoDC':'ch7',\n",
    "        'H3HiAC':'ch8', 'H3HiDC':'ch9',  'H3LoAC':'ch10',\n",
    "         'H3LoDC':'ch11', 'HornTop':'ch12', 'Amplifier': 'ch13',\n",
    "        'Cooler':'ch14', 'Transition':'ch15'}\n",
    "\n",
    "    chan = chans[name]\n",
    "\n",
    "    return chan"
   ]
  },
  {
   "cell_type": "code",
   "execution_count": 2,
   "metadata": {
    "collapsed": false
   },
   "outputs": [
    {
     "name": "stdout",
     "output_type": "stream",
     "text": [
      "ney\n"
     ]
    }
   ],
   "source": [
    "a = 0\n",
    "if a == True:\n",
    "    print 'hey'\n",
    "else:\n",
    "    print 'ney'"
   ]
  },
  {
   "cell_type": "code",
   "execution_count": 3,
   "metadata": {
    "collapsed": true
   },
   "outputs": [],
   "source": [
    "def get_pointing_files(datadict,datalabel, filelist=None):\n",
    "\n",
    "    if filelist==None:\n",
    "        root=Tkinter.Tk()\n",
    "        filelist = list(tkFileDialog.askopenfilenames(\\\n",
    "        initialdir='D://software_git_repos/greenpol/telescope_control/data_aquisition/pointing_data/',parent=root,title='Choose a set of files'))\n",
    "        root.destroy()\n",
    "    filelist.sort()\n",
    "    \n",
    "    return filelist"
   ]
  },
  {
   "cell_type": "code",
   "execution_count": 4,
   "metadata": {
    "collapsed": true
   },
   "outputs": [],
   "source": [
    "def read_some_data(datadict,datalabel, filelist=None):\n",
    "\n",
    "    if filelist==None:\n",
    "        root=Tkinter.Tk()\n",
    "        filelist = list(tkFileDialog.askopenfilenames(\\\n",
    "        initialdir='D://software_git_repos/greenpol/telescope_control/data_aquisition/demod_data/',parent=root,title='Choose a set of files'))\n",
    "        root.destroy()\n",
    "    filelist.sort()\n",
    "    \n",
    "    dlist=[]\n",
    "    for f in filelist:\n",
    "        hf=h5py.File(f)\n",
    "        dlist.append(hf['demod_data'])\n",
    "    d=np.concatenate(dlist)\n",
    "    hf.close() \n",
    "\n",
    "    datadict[datalabel]=d\n",
    "    return"
   ]
  },
  {
   "cell_type": "code",
   "execution_count": 6,
   "metadata": {
    "collapsed": false
   },
   "outputs": [],
   "source": [
    "def combine_cofe_h5_pointing(dd,h5pointing,outfile='combined_data.pkl'):\n",
    "    \"\"\"\n",
    "    combine demodulated data (output of get_demodulated_data_from_list) with H5 pointing data \n",
    "    (output of get_h5_pointing), dump to a pkl file by default (this takes a long time to run)\n",
    "    \"\"\"\n",
    "    paz=h5pointing['az'].copy()\n",
    "    prev=h5pointing['gpstime'].copy()\n",
    "\n",
    "    #need to use only 24 bits for comparison with science data gpstime- probably a better way to do this, bitmasking?\n",
    "    prev  &= 0x00ffffff\n",
    "    pazw=np.where(abs(np.diff(paz) + 359.5)  < 180.)[0]   #find the wrapping points so we can unroll the az for interpolation\n",
    "    for r in pazw:\n",
    "        paz[r+1:]=paz[r+1:]+360.                   #unwrap az\n",
    "    azout=np.interp(dd['rev'],prev,paz)\n",
    "    azout=np.mod(azout,360.)\n",
    "    elout=np.interp(dd['rev'],prev,h5pointing['el'])\n",
    "    gpstimeout = np.interp(dd['rev'],prev,prev) #+ 419430400\n",
    "\n",
    "    f=open(outfile,'wb')\n",
    "    combined_data={'sci_data':dd,'az': azout,'el':elout, 'gpstime': gpstimeout}\n",
    "    cPickle.dump(combined_data,f,protocol=-1)\n",
    "    f.close()\n",
    "    return combined_data"
   ]
  },
  {
   "cell_type": "code",
   "execution_count": 10,
   "metadata": {
    "collapsed": false
   },
   "outputs": [
    {
     "name": "stdout",
     "output_type": "stream",
     "text": [
      "30\n",
      "[8, 9, 10, 11, 12, 13, 14, 19, 32, 33, 34, 35, 36, 37, 38, 56, 57, 58, 59, 60, 61, 62, 67, 72, 81, 82, 83, 84, 85, 86]\n"
     ]
    }
   ],
   "source": [
    "el_bits=[43,18,42,17,41,16,40,15,39,91,66,90,65,89,64,88,63,87]\n",
    "az_bits=[23,47,22,46,21,45,20,44,71,95,70,94,69,93,68,92]\n",
    "gps_bits=[24,48,0,73,25,49,1,74,26,50,2,75,27,51,3,76,28,52,4,77,29,53,5,78,30,54,6,79,31,55,7,80]\n",
    "bits = el_bits+az_bits+gps_bits\n",
    "print 96-len(bits)\n",
    "xbits = []\n",
    "for b in range(0,96):\n",
    "    if b not in bits:\n",
    "        xbits.append(b)\n",
    "print xbits"
   ]
  },
  {
   "cell_type": "code",
   "execution_count": 8,
   "metadata": {
    "collapsed": true
   },
   "outputs": [],
   "source": [
    "ddict={}\n",
    "pdict={}"
   ]
  },
  {
   "cell_type": "code",
   "execution_count": null,
   "metadata": {
    "collapsed": false
   },
   "outputs": [],
   "source": [
    "read_some_data(ddict,'test')"
   ]
  },
  {
   "cell_type": "code",
   "execution_count": 29,
   "metadata": {
    "collapsed": false
   },
   "outputs": [],
   "source": [
    "flp = get_pointing_files(pdict, 'test')"
   ]
  },
  {
   "cell_type": "code",
   "execution_count": 30,
   "metadata": {
    "collapsed": false
   },
   "outputs": [],
   "source": [
    "#dd = ddict['test']\n",
    "pp = rt.get_h5_pointing(flp)"
   ]
  },
  {
   "cell_type": "code",
   "execution_count": 31,
   "metadata": {
    "collapsed": false
   },
   "outputs": [
    {
     "data": {
      "text/plain": [
       "[<matplotlib.lines.Line2D at 0x169882e8>]"
      ]
     },
     "execution_count": 31,
     "metadata": {},
     "output_type": "execute_result"
    }
   ],
   "source": [
    "plot(pp['gpstime'])"
   ]
  },
  {
   "cell_type": "code",
   "execution_count": 20,
   "metadata": {
    "collapsed": false
   },
   "outputs": [
    {
     "name": "stdout",
     "output_type": "stream",
     "text": [
      "samples per second:  0.997635933806\n"
     ]
    }
   ],
   "source": [
    "t = pp['gpstime']/1000\n",
    "sps = float(len(t))/(t[-1]-t[0])\n",
    "print 'samples per second: ', sps"
   ]
  },
  {
   "cell_type": "code",
   "execution_count": 21,
   "metadata": {
    "collapsed": false
   },
   "outputs": [],
   "source": [
    "combined = combine_cofe_h5_pointing(dd,pp)"
   ]
  },
  {
   "cell_type": "code",
   "execution_count": 22,
   "metadata": {
    "collapsed": false
   },
   "outputs": [
    {
     "data": {
      "text/plain": [
       "[<matplotlib.lines.Line2D at 0x10d950f0>]"
      ]
     },
     "execution_count": 22,
     "metadata": {},
     "output_type": "execute_result"
    }
   ],
   "source": [
    "plt.plot(pp['az'])"
   ]
  },
  {
   "cell_type": "code",
   "execution_count": 23,
   "metadata": {
    "collapsed": true
   },
   "outputs": [],
   "source": [
    "chan = 'ch1'\n",
    "var = 'T'\n",
    "xaxis = 'az'"
   ]
  },
  {
   "cell_type": "code",
   "execution_count": 24,
   "metadata": {
    "collapsed": true
   },
   "outputs": [],
   "source": [
    "xa = combined[xaxis]\n",
    "data = combined['sci_data'][chan][var]\n",
    "\n",
    "#sort data according to sorted azimuth\n",
    "data = [x for _,x in sorted(zip(xa,data))]\n",
    "xa = sorted(xa)"
   ]
  },
  {
   "cell_type": "code",
   "execution_count": 25,
   "metadata": {
    "collapsed": false
   },
   "outputs": [
    {
     "data": {
      "text/plain": [
       "[<matplotlib.lines.Line2D at 0x110dea20>]"
      ]
     },
     "execution_count": 25,
     "metadata": {},
     "output_type": "execute_result"
    }
   ],
   "source": [
    "plot(xa, data)"
   ]
  },
  {
   "cell_type": "code",
   "execution_count": 85,
   "metadata": {
    "collapsed": false
   },
   "outputs": [],
   "source": [
    "minval = np.zeros(len(pp['az']))\n",
    "minval[:] = pp['az'].min()\n",
    "plt.plot(pp['az'], 'b-')\n",
    "plt.plot(abs(np.diff(pp['az'])), 'g-')\n",
    "plt.plot(minval, 'r-')\n",
    "plt.show()"
   ]
  },
  {
   "cell_type": "code",
   "execution_count": 159,
   "metadata": {
    "collapsed": false
   },
   "outputs": [
    {
     "data": {
      "text/plain": [
       "[<matplotlib.lines.Line2D at 0x1b9d7ba8>]"
      ]
     },
     "execution_count": 159,
     "metadata": {},
     "output_type": "execute_result"
    }
   ],
   "source": [
    "i = 0\n",
    "plot(az[i], data[i])\n",
    "i = 6\n",
    "plot(az[i], data[i])"
   ]
  },
  {
   "cell_type": "code",
   "execution_count": 26,
   "metadata": {
    "collapsed": false,
    "scrolled": false
   },
   "outputs": [
    {
     "name": "stderr",
     "output_type": "stream",
     "text": [
      "C:\\Users\\labuser\\Anaconda\\envs\\py27\\lib\\site-packages\\numpy\\core\\_methods.py:59: RuntimeWarning: Mean of empty slice.\n",
      "  warnings.warn(\"Mean of empty slice.\", RuntimeWarning)\n",
      "C:\\Users\\labuser\\Anaconda\\envs\\py27\\lib\\site-packages\\numpy\\core\\_methods.py:70: RuntimeWarning: invalid value encountered in double_scalars\n",
      "  ret = ret.dtype.type(ret / rcount)\n"
     ]
    }
   ],
   "source": [
    "#synchronized data and az values\n",
    "az1 = combined['az']\n",
    "data1 = combined['sci_data'][chan][var]\n",
    "steps = len(data1)\n",
    "\n",
    "#data1 = np.asarray([x for _,x in sorted(zip(az1,data1))])\n",
    "#az1 = sorted(az1)\n",
    "\n",
    "#convert to temp for cryo sensors\n",
    "if chan == 12:\n",
    "    data1 = convert.convert(data1, 'i')\n",
    "if chan == 13:\n",
    "    data1 = convert.convert(data1, 'e')\n",
    "if chan == 14:\n",
    "    data1 = convert.convert(data1, 'h')\n",
    "if chan == 15:\n",
    "    data1 = convert.convert(data1, 'l')\n",
    "\n",
    "#resolution\n",
    "dx = 1.0\n",
    "dy = 1.0\n",
    "\n",
    "#set up empty lists to append each revolution to\n",
    "data = []\n",
    "az = []\n",
    "iaz = [0]\n",
    "iaz2 = [0]\n",
    "rev = 0\n",
    "\n",
    "#determine indices in azimuth/data array which correspond to a new revolution of the telescope\n",
    "for i in range(steps):\n",
    "    #round values to resolution for comparison later\n",
    "    az1[i] = rt.round_fraction(az1[i], dx)\n",
    "    if i > 0:\n",
    "        if abs(az1[i] - az1[i-1]) >= 180.0:\n",
    "            iaz.append(i)\n",
    "            rev += 1\n",
    "\n",
    "#append each revolution array to a list\t    \n",
    "for j in range(rev):\n",
    "    az.append(az1[iaz[j]:iaz[j+1]])\n",
    "    data.append(data1[iaz[j]:iaz[j+1]])\n",
    "\n",
    "#append the last revolution\n",
    "data.append(data1[iaz[-1]:])\n",
    "az.append(az1[iaz[-1]:])\n",
    "rev += 1\n",
    "\n",
    "data = np.asarray(data)\n",
    "az = np.asarray(az)\n",
    "#create grid for plotting\n",
    "x, y = np.arange(0., 360.+dx, dx), np.arange(0., rev - 1 + dy, dy)\n",
    "AZ, REV = np.meshgrid(x, y)\n",
    "\n",
    "#set up empty array\n",
    "z = np.zeros(len(x)*len(y))\n",
    "sig = np.reshape(z, (len(y), len(x)))\n",
    "\n",
    "#small number for comparing floats\n",
    "epsilon = 1e-6\n",
    "\n",
    "#fill signal array with data points\n",
    "for r in range(rev):\n",
    "    for a in range(len(x)):\n",
    "        #find indices where combined azimuth data fits on x grid\n",
    "        idx = np.where(abs(az[r] - x[a]) < epsilon)[0]\n",
    "        #if idx length is 0 this will create a mask on that point, in idx len > 1, avg data points in the same bin\n",
    "        sig[r][a] = data[r][idx].mean()\n",
    "\n",
    "#mask invalid values, i.e. where there are no data points\n",
    "sig = ma.masked_invalid(sig)\n",
    "\n",
    "#change units on plot label\n",
    "if int(chan[2:]) < 12:\n",
    "    unit = 'V'\n",
    "else:\n",
    "    unit = 'K' \n",
    "\n",
    "name = rt.chantoname(chan)\n",
    "plt.pcolormesh(AZ, REV, sig)\n",
    "plt.colorbar(label = 'Signal, %s' % unit)\n",
    "plt.clim(data1.min(),data1.max())\n",
    "plt.axis([0., 360., 0., rev - 1])\n",
    "plt.ylabel('revolution #')\n",
    "plt.xlabel('azimuth (deg)')\n",
    "#plt.title('%s %s data binned to azimuth and revolution #, date %s, %s:%d - %s:%d' % (name, var, yrmoday, st_hour, int(st_minute), ed_hour, int(ed_minute)))\n",
    "plt.grid()\n",
    "plt.show()"
   ]
  },
  {
   "cell_type": "code",
   "execution_count": null,
   "metadata": {
    "collapsed": true
   },
   "outputs": [],
   "source": []
  }
 ],
 "metadata": {
  "kernelspec": {
   "display_name": "Python 2",
   "language": "python",
   "name": "python2"
  },
  "language_info": {
   "codemirror_mode": {
    "name": "ipython",
    "version": 2
   },
   "file_extension": ".py",
   "mimetype": "text/x-python",
   "name": "python",
   "nbconvert_exporter": "python",
   "pygments_lexer": "ipython2",
   "version": "2.7.13"
  }
 },
 "nbformat": 4,
 "nbformat_minor": 2
}
