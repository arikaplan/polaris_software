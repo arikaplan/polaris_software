{
 "cells": [
  {
   "cell_type": "code",
   "execution_count": 3,
   "metadata": {
    "collapsed": false
   },
   "outputs": [
    {
     "ename": "ImportError",
     "evalue": "No module named 'Tkinter'",
     "output_type": "error",
     "traceback": [
      "\u001b[1;31m---------------------------------------------------------------------------\u001b[0m",
      "\u001b[1;31mImportError\u001b[0m                               Traceback (most recent call last)",
      "\u001b[1;32m<ipython-input-3-97c477a1920b>\u001b[0m in \u001b[0;36m<module>\u001b[1;34m()\u001b[0m\n\u001b[0;32m     17\u001b[0m \u001b[1;33m\u001b[0m\u001b[0m\n\u001b[0;32m     18\u001b[0m \u001b[1;33m\u001b[0m\u001b[0m\n\u001b[1;32m---> 19\u001b[1;33m \u001b[1;32mimport\u001b[0m \u001b[0mTkinter\u001b[0m\u001b[1;33m,\u001b[0m\u001b[0mtkFileDialog\u001b[0m\u001b[1;33m\u001b[0m\u001b[0m\n\u001b[0m\u001b[0;32m     20\u001b[0m \u001b[1;33m\u001b[0m\u001b[0m\n\u001b[0;32m     21\u001b[0m \u001b[1;32mimport\u001b[0m \u001b[0mcofe_util\u001b[0m \u001b[1;32mas\u001b[0m \u001b[0mcu\u001b[0m\u001b[1;33m\u001b[0m\u001b[0m\n",
      "\u001b[1;31mImportError\u001b[0m: No module named 'Tkinter'"
     ]
    }
   ],
   "source": [
    "from contextlib import contextmanager\n",
    "import os\n",
    "import datetime as dt\n",
    "import numpy as np\n",
    "import h5py\n",
    "import time\n",
    "import sys\n",
    "os.chdir('../data_acquisition/')\n",
    "sys.path.append('../')\n",
    "sys.path.append('../utils_meinhold/')\n",
    "sys.path.append('..utils_zonca/')\n",
    "from glob import glob\n",
    "\n",
    "#sys.path.append('../../')\n",
    "#sys.path.append('../../../')\n",
    "sys.path.append('../VtoT/')\n",
    "\n",
    "\n",
    "import Tkinter,tkFileDialog\n",
    "\n",
    "import cofe_util as cu\n",
    "import realtime_gp as rt\n",
    "import datetime\n",
    "\n",
    "from Tkinter import *\n",
    "import ttk"
   ]
  },
  {
   "cell_type": "code",
   "execution_count": 2,
   "metadata": {
    "collapsed": true
   },
   "outputs": [],
   "source": [
    "def nametochan(name):\n",
    "    #function to convert channel numbers to channel names\n",
    "\n",
    "    #names of each channel\n",
    "    chans = {\n",
    "        'all': 'all',  'H1HiAC':'ch0',  'H1HiDC':'ch1',\n",
    "        'H1LoAC':'ch2' ,  'H1LoDC':'ch3', 'H2HiAC':'ch4' ,\n",
    "        'H2HiDC':'ch5' ,  'H2LoAC':'ch6',  'H2LoDC':'ch7',\n",
    "        'H3HiAC':'ch8', 'H3HiDC':'ch9',  'H3LoAC':'ch10',\n",
    "         'H3LoDC':'ch11', 'HornTop':'ch12', 'Amplifier': 'ch13',\n",
    "        'Cooler':'ch14', 'Transition':'ch15'}\n",
    "\n",
    "    chan = chans[name]\n",
    "\n",
    "    return chan"
   ]
  },
  {
   "cell_type": "code",
   "execution_count": 3,
   "metadata": {
    "collapsed": false
   },
   "outputs": [
    {
     "name": "stdout",
     "output_type": "stream",
     "text": [
      "Using matplotlib backend: Qt4Agg\n",
      "Populating the interactive namespace from numpy and matplotlib\n"
     ]
    },
    {
     "name": "stderr",
     "output_type": "stream",
     "text": [
      "WARNING: pylab import has clobbered these variables: ['Widget', 'Text', 'Button']\n",
      "`%matplotlib` prevents importing * from pylab and numpy\n"
     ]
    }
   ],
   "source": [
    "%pylab"
   ]
  },
  {
   "cell_type": "code",
   "execution_count": 41,
   "metadata": {
    "collapsed": true
   },
   "outputs": [],
   "source": [
    "def plot_some_chans2(datatype='demod',plottype='toi',filelist=None,component='T',samprate=30,minfreq=.1):\n",
    "    \n",
    "    if filelist==None:\n",
    "        root=Tkinter.Tk()\n",
    "        if datatype=='demod':\n",
    "            filelist = list(tkFileDialog.askopenfilenames(\\\n",
    "            initialdir='C://Greenland/greenpol/telescope_control/data_aquisition/demod_data/',parent=root,title='Choose a set of files'))\n",
    "        if datatype=='raw':\n",
    "            filelist = list(tkFileDialog.askopenfilenames(\\\n",
    "            initialdir='C://Greenland/greenpol/telescope_control/data_aquisition/data/',parent=root,title='Choose a set of files'))            \n",
    "        root.destroy()\n",
    "    filelist.sort()\n",
    "    main = Tk()\n",
    "    main.title(\"Choose channels to plot\")\n",
    "    main.geometry(\"+50+150\")\n",
    "    frame = ttk.Frame(main, padding=(3, 3, 12, 12))\n",
    "    frame.grid(column=0, row=0, sticky=(N, S, E, W))\n",
    "\n",
    "    #set up the listbox to choose what chans to plot\n",
    "    chan_labels = StringVar()\n",
    "    chan_labels.set(\"H1HiAC_T H1HiAC_Q H1HiAC_U H1HiDC H1LoAC_T H1LoAC_Q H1LoAC_U H1LoDC\\\n",
    "                H2HiAC_T H2HiAC_Q H2HiAC_U H2HiDC H2LoAC H2LoDC\\\n",
    "                 H3HiAC_T H3HiAC_Q H3HiAC_U H3HiDC H3LoAC_T H3LoAC_Q H3LoAC_U H3LoDC HornTop Amplifier Cooler Transition\")           \n",
    "    tlist=[]\n",
    "    if datatype=='demod':\n",
    "        dlist=[]\n",
    "        for f in filelist:\n",
    "            h=np.float64(f[-11:-9])\n",
    "            m=np.float64(f[-9:-7])\n",
    "            s=np.float64(f[-7:-5])\n",
    "            hf=h5py.File(f)\n",
    "            t=h+m/60.+(s+(hf['demod_data']['rev']-hf['demod_data']['rev'][0])/1000.)/3600.\n",
    "            tlist.append(t)  #just generate a time to plot relative to\n",
    "            dlist.append(hf['demod_data'])\n",
    "        d=concatenate(dlist)\n",
    "        hf.close() \n",
    "        \n",
    "    if datatype=='raw':\n",
    "        h=np.float64(filelist[0][-11:-9])\n",
    "        m=np.float64(filelist[0][-9:-7])\n",
    "        s=np.float64(filelist[0][-7:-5])\n",
    "        d=rt.demod.read_raw(filelist)\n",
    "        t=h+m/60.+(s+(d['rev']-d['rev'][0])/1000.)/3600.\n",
    "        tlist.append(t)\n",
    "    ut=concatenate(tlist)\n",
    "    #figure()\n",
    "    #plot(ut)\n",
    "    lstbox = Listbox(frame,listvariable=chan_labels, selectmode=MULTIPLE, width=20, height=16)\n",
    "    lstbox.grid(column=0, row=0, columnspan=2)\n",
    "    \n",
    "    lstbox2 = Listbox(frame,listvariable=chan_labels, selectmode=MULTIPLE, width=20, height=16)\n",
    "    lstbox2.grid(column=2, row=0, columnspan=2)\n",
    "    #start the plot\n",
    "\n",
    "    fname=filelist[0]\n",
    "    yyyy=os.path.dirname(filelist[0])[-8:-4]\n",
    "    mm=os.path.dirname(filelist[0])[-4:-2]\n",
    "    dd=os.path.dirname(filelist[0])[-2:]\n",
    "\n",
    "    def select():\n",
    "        reslist = list()\n",
    "        selection = lstbox.curselection()\n",
    "        figure()\n",
    "        if datatype=='demod':\n",
    "            title('%s TOI from %s %s' %(mm,dd,yyyy))\n",
    "        if datatype=='raw':\n",
    "            title('TOI from %s %s %s' %(mm,dd,yyyy))\n",
    "\n",
    "        for i in selection:\n",
    "            entry = lstbox.get(i)\n",
    "            reslist.append(entry)\n",
    "        for val in reslist:\n",
    "            chan=nametochan(val[:6])\n",
    "            if datatype=='demod':\n",
    "                component=val[-1]\n",
    "                if ((component != 'T') and (component != 'Q') and (component != 'U')):\n",
    "                    component='T'\n",
    "                plot(ut,d[chan][component],label=val)\n",
    "                xlabel('ut, hours')\n",
    "            if datatype=='raw':\n",
    "                plot(d[chan].flatten(),label=val)\n",
    "                xlabel('samples')\n",
    "            ylabel('Output [v]')\n",
    "            legend()\n",
    "\n",
    "    def selectfft():\n",
    "        reslist2 = list()\n",
    "        selection2 = lstbox2.curselection()\n",
    "        figure()\n",
    "        if datatype=='demod':\n",
    "            title('%s ASD from %s %s %s' %(component,mm,dd,yyyy))\n",
    "        if datatype=='raw':\n",
    "            title('ASD from %s %s %s' %(mm,dd,yyyy))\n",
    "        for i in selection2:\n",
    "            entry2 = lstbox2.get(i)\n",
    "            reslist2.append(entry2)\n",
    "        for val in reslist2:\n",
    "            chan=nametochan(val[:6])\n",
    "            if datatype=='demod':\n",
    "                freq,psd=cu.nps(d[chan][component],samprate,minfreq=minfreq)\n",
    "            if datatype=='raw':\n",
    "                freq,psd=cu.nps(d[chan].flatten(),samprate*256,minfreq=minfreq)\n",
    "            plot(freq,sqrt(psd),label=val)\n",
    "            xlabel('Frequency [Hz]')\n",
    "            ylabel(r'ASD [$\\frac{V}{\\sqrt{Hz}}$]')\n",
    "            legend()\n",
    "                \n",
    "    btn = ttk.Button(frame, text=\"Select for TOI\", command=select)\n",
    "    btn.grid(column=1, row=1)\n",
    "    \n",
    "    btn2 = ttk.Button(frame, text=\"Select for ASD\", command=selectfft)\n",
    "    btn2.grid(column=3, row=1)\n",
    "    \n",
    "    main.mainloop()"
   ]
  },
  {
   "cell_type": "code",
   "execution_count": 5,
   "metadata": {
    "collapsed": true
   },
   "outputs": [],
   "source": [
    "def read_some_data(datadict,datalabel,datatype='demod', filelist=None):\n",
    "\n",
    "    if filelist==None:\n",
    "        root=Tkinter.Tk()\n",
    "        if datatype=='demod':\n",
    "            filelist = list(tkFileDialog.askopenfilenames(\\\n",
    "            initialdir='C://Greenland/greenpol/telescope_control/data_aquisition/demod_data/',parent=root,title='Choose a set of files'))\n",
    "        if datatype=='raw':\n",
    "            filelist = list(tkFileDialog.askopenfilenames(\\\n",
    "            initialdir='C://Greenland/greenpol/telescope_control/data_aquisition/data/',parent=root,title='Choose a set of files'))            \n",
    "        root.destroy()\n",
    "    filelist.sort()\n",
    "    \n",
    "    if datatype=='demod':\n",
    "        dlist=[]\n",
    "        for f in filelist:\n",
    "            hf=h5py.File(f)\n",
    "            dlist.append(hf['demod_data'])\n",
    "        d=concatenate(dlist)\n",
    "        hf.close() \n",
    "        \n",
    "    if datatype=='raw':\n",
    "        d=rt.demod.read_raw(filelist)\n",
    "    datadict[datalabel]=d\n",
    "    return"
   ]
  },
  {
   "cell_type": "code",
   "execution_count": 6,
   "metadata": {
    "collapsed": false
   },
   "outputs": [
    {
     "data": {
      "text/plain": [
       "True"
      ]
     },
     "execution_count": 6,
     "metadata": {},
     "output_type": "execute_result"
    }
   ],
   "source": [
    "c='T'\n",
    "(c!='Q') or (c!='T')"
   ]
  },
  {
   "cell_type": "code",
   "execution_count": 7,
   "metadata": {
    "collapsed": true
   },
   "outputs": [],
   "source": [
    "def asd_from_dict(data_dict,minfreq=1.):\n",
    "    #run nps on all the channels for each of the loaded data sets, return asd dictionary\n",
    "    asd_dict={}\n",
    "    chans=['ch%s' %str(i) for i in range(16)]\n",
    "    for datset in data_dict.keys():\n",
    "        asd_dict[datset]={}\n",
    "        datatype='demod'\n",
    "        print(datset)\n",
    "        d=data_dict[datset]\n",
    "        if len(d.dtype)==18:\n",
    "            datatype='raw'\n",
    "        samprate=1000./float(d['rev'][10]-d['rev'][9])\n",
    "        for chan in chans:\n",
    "            if datatype=='raw':\n",
    "                freq,psd=cu.nps(d[chan].flatten(),samprate*256,minfreq=minfreq)\n",
    "                asd_dict[datset]['freq']=freq\n",
    "                asd_dict[datset][chan]=sqrt(psd)\n",
    "            if datatype=='demod':\n",
    "                asd_dict[datset][chan]={}\n",
    "                for component in ['T','Q','U']:\n",
    "                    freq,psd=cu.nps(d[chan][component],samprate,minfreq=minfreq)\n",
    "                    asd_dict[datset][chan][component]=sqrt(psd)\n",
    "                    asd_dict[datset]['freq']=freq\n",
    "                    \n",
    "    return asd_dict            "
   ]
  },
  {
   "cell_type": "code",
   "execution_count": 8,
   "metadata": {
    "collapsed": true
   },
   "outputs": [],
   "source": [
    "def plot_asd_dict(asd_dict,chanlist=['H1HiAC'],componentlist=['T'],datalist=None,kperv=[1]):\n",
    "    #function to give a choice of preloaded datasets from dictionary data_dict\n",
    "    figure()\n",
    "    if datalist==None:\n",
    "        datalist=asd_dict.keys()\n",
    "    if len(componentlist)==1:  # if componentlist is a single value, assume same thing for all chans\n",
    "        c=componentlist[0]\n",
    "        componentlist=[c for n in datalist]\n",
    "    #set up the color sequence for the plot\n",
    "    nlines=len(datalist)*len(chanlist)\n",
    "    colormap = cm.gist_ncar\n",
    "    gca().set_color_cycle([colormap(i) for i in np.linspace(0, 0.9, nlines)])\n",
    "    \n",
    "    count = 0\n",
    "    for dname in datalist:\n",
    "        for channame,component in zip(chanlist,componentlist):\n",
    "            try:\n",
    "                asd=asd_dict[dname][nametochan(channame)][component] #if it's demod data so a dict\n",
    "            except:\n",
    "                asd=asd_dict[dname][nametochan(channame)]           #if it's raw data so not a dict\n",
    "            plot(asd_dict[dname]['freq'],asd*kperv[count],label=dname+ '  '+channame+' '+component,lw=2)\n",
    "            if (count+1) < len(kperv):\n",
    "                count += 1\n",
    "    legend()\n",
    "    xlabel('Frequency [Hz]')\n",
    "    if len(kperv) == 1 and kperv[0] == 1:\n",
    "        ylabel(r'ASD [$\\frac{V}{\\sqrt{Hz}}$]')\n",
    "    else:\n",
    "        ylabel(r'ASD [$\\frac{T}{\\sqrt{Hz}}$]')"
   ]
  },
  {
   "cell_type": "code",
   "execution_count": 9,
   "metadata": {
    "collapsed": false
   },
   "outputs": [],
   "source": [
    "def plot_toi_dict(toi_dict,chanlist=['H1HiAC'],componentlist=['T'],datalist=None):\n",
    "    #function to give a choice of preloaded datasets from dictionary data_dict\n",
    "    figure()\n",
    "    if datalist==None:\n",
    "        datalist=toi_dict.keys()\n",
    "    if len(componentlist)==1:  # if componentlist is a single value, assume same thing for all chans\n",
    "        c=componentlist[0]\n",
    "        componentlist=[c for n in chanlist]\n",
    "    #set up the color sequence for the plot\n",
    "    nlines=len(datalist)*len(chanlist)\n",
    "    colormap = cm.gist_ncar\n",
    "    gca().set_color_cycle([colormap(i) for i in np.linspace(0, 0.9, nlines)])\n",
    "    titletxt=[]\n",
    "    for dname in datalist:\n",
    "        samprate=1000./(toi_dict[dname]['rev'][1]-toi_dict[dname]['rev'][0])\n",
    "        print(dname,samprate)\n",
    "        titletxt.append(dname)\n",
    "        for channame,component in zip(chanlist,componentlist):\n",
    "            print(channame,component)\n",
    "            try:\n",
    "                toi=toi_dict[dname][nametochan(channame)][component] #if it's demod data so a dict\n",
    "                t=toi_dict[dname]['azi'][0]+arange(len(toi))/samprate\n",
    "                plot(t,toi,label=dname+ '  '+channame+' '+component,lw=2)\n",
    "            except:\n",
    "                toi=toi_dict[dname][nametochan(channame)].flatten()#if it's raw data so not a dict\n",
    "                t=toi_dict[dname]['azi'][0]+arange(len(toi))/(256.*samprate)\n",
    "                plot(t,toi,label=dname+ '  '+channame+' '+component,lw=2)\n",
    "            \n",
    "    title(titletxt)\n",
    "    legend()\n",
    "    xlabel('Time [S]')\n",
    "    ylabel(r'Signl [V]')"
   ]
  },
  {
   "cell_type": "code",
   "execution_count": 10,
   "metadata": {
    "collapsed": false
   },
   "outputs": [],
   "source": [
    "def plot_nl_dict(toi_dict,chanlist=['H1HiDC'],componentlist=['T'],datalist=None):\n",
    "    #function to give a choice of preloaded datasets from dictionary data_dict\n",
    "    #this plots chosen channels vs H1LoDC (should be attenuated more linear detector)\n",
    "    figure()\n",
    "    if datalist==None:\n",
    "        datalist=toi_dict.keys()\n",
    "    if len(componentlist)==1:  # if componentlist is a single value, assume same thing for all chans\n",
    "        c=componentlist[0]\n",
    "        componentlist=[c for n in chanlist]\n",
    "    #set up the color sequence for the plot\n",
    "    nlines=len(datalist)*len(chanlist)\n",
    "    colormap = cm.gist_ncar\n",
    "    gca().set_color_cycle([colormap(i) for i in np.linspace(0, 0.9, nlines)])\n",
    "    titletxt=[]\n",
    "    for dname in datalist:\n",
    "        samprate=1000./(toi_dict[dname]['rev'][1]-toi_dict[dname]['rev'][0])\n",
    "        print(dname,samprate)\n",
    "        titletxt.append(dname)\n",
    "        for channame,component in zip(chanlist,componentlist):\n",
    "            print(channame,component)\n",
    "            try:\n",
    "                toi=toi_dict[dname][nametochan(channame)][component] #if it's demod data so a dict\n",
    "                toi_x=toi_dict[dname][nametochan('H2LoDC')][component] #highly attenuated channel\n",
    "                plot(toi_x-max(toi_x),toi-max(toi),label=dname+ '  '+channame+' '+component)\n",
    "            except:\n",
    "                toi=toi_dict[dname][nametochan(channame)].flatten()#if it's raw data so not a dict\n",
    "                toi_x=toi_dict[dname][nametochan('H2LoDC')].flatten()# highly attenuated channel\n",
    "                plot(toi_x-max(toi_x),toi-max(toi),label=dname+ '  '+channame+' '+component)\n",
    "            \n",
    "    title(titletxt)\n",
    "    legend()\n",
    "    xlabel('H1LoDC [V]')\n",
    "    ylabel(r'Signal [V]')"
   ]
  },
  {
   "cell_type": "code",
   "execution_count": 11,
   "metadata": {
    "collapsed": true
   },
   "outputs": [],
   "source": [
    "ddict={}"
   ]
  },
  {
   "cell_type": "code",
   "execution_count": 25,
   "metadata": {
    "collapsed": false
   },
   "outputs": [
    {
     "name": "stdout",
     "output_type": "stream",
     "text": [
      "1000\n",
      "16\n"
     ]
    }
   ],
   "source": [
    "read_some_data(ddict,'sky',datatype='raw')"
   ]
  },
  {
   "cell_type": "code",
   "execution_count": 64,
   "metadata": {
    "collapsed": false
   },
   "outputs": [
    {
     "name": "stdout",
     "output_type": "stream",
     "text": [
      "1000\n",
      "16\n"
     ]
    }
   ],
   "source": [
    "plot_some_chans2(datatype='raw', component='T')"
   ]
  },
  {
   "cell_type": "code",
   "execution_count": 54,
   "metadata": {
    "collapsed": false
   },
   "outputs": [
    {
     "name": "stdout",
     "output_type": "stream",
     "text": [
      "-0.0780620615564\n",
      "-0.969179183066\n",
      "gain:  -314.21234453\n",
      "12.4154956165\n",
      "4.52806338045\n"
     ]
    }
   ],
   "source": [
    "chan = 'H3HiDC'\n",
    "skylev = ddict['sky'][nametochan(chan)].mean()\n",
    "amblev = ddict['amb'][nametochan(chan)].mean()\n",
    "\n",
    "print skylev\n",
    "print amblev\n",
    "\n",
    "gain = (300 - 20)/(amblev - skylev)\n",
    "print 'gain: ', gain\n",
    "\n",
    "y = amblev/skylev\n",
    "Th = 300.\n",
    "Tc = 20.\n",
    "Tsys = (Th - y*Tc)/(y-1)\n",
    "print y\n",
    "print Tsys"
   ]
  },
  {
   "cell_type": "code",
   "execution_count": 41,
   "metadata": {
    "collapsed": false
   },
   "outputs": [],
   "source": [
    "from collections import defaultdict\n",
    "\n",
    "H = defaultdict(dict)\n",
    "\n",
    "\n",
    "for h in range(1,4):\n",
    "\n",
    "    channame='H%dHiDC' % h\n",
    "    Horn = (ddict['H%d_cal_3_29' % h][nametochan(channame1)])\n",
    "    H[h] = []\n",
    "    for r in range(len(Horn)):\n",
    "        H[h].append(Horn[r].mean())\n",
    "        \n",
    "    H[h] = np.asarray(H[h])\n",
    "        \n",
    "rev = np.arange(len(H[1]))\n"
   ]
  },
  {
   "cell_type": "code",
   "execution_count": 38,
   "metadata": {
    "collapsed": false
   },
   "outputs": [
    {
     "data": {
      "text/plain": [
       "[<matplotlib.lines.Line2D at 0x17ab07f0>]"
      ]
     },
     "execution_count": 38,
     "metadata": {},
     "output_type": "execute_result"
    }
   ],
   "source": [
    "h = 1\n",
    "plot(rev, H[h], lw=2)"
   ]
  },
  {
   "cell_type": "code",
   "execution_count": 20,
   "metadata": {
    "collapsed": false
   },
   "outputs": [
    {
     "name": "stdout",
     "output_type": "stream",
     "text": [
      "amb_3_23\n",
      "sky_3_23\n"
     ]
    }
   ],
   "source": [
    "asd_dict=asd_from_dict(ddict, minfreq=10)"
   ]
  },
  {
   "cell_type": "code",
   "execution_count": 26,
   "metadata": {
    "collapsed": false,
    "scrolled": true
   },
   "outputs": [
    {
     "name": "stderr",
     "output_type": "stream",
     "text": [
      "C:\\Users\\labuser\\Anaconda\\envs\\py27\\lib\\site-packages\\ipykernel\\__main__.py:18: VisibleDeprecationWarning: using a non-integer number instead of an integer will result in an error in the future\n"
     ]
    }
   ],
   "source": [
    "plot_asd_dict(asd_dict,chanlist=['H1HiAC'], kperv = [1.29,1.31,1.16])"
   ]
  },
  {
   "cell_type": "code",
   "execution_count": 10,
   "metadata": {
    "collapsed": true
   },
   "outputs": [],
   "source": [
    "rdict={}"
   ]
  },
  {
   "cell_type": "code",
   "execution_count": 11,
   "metadata": {
    "collapsed": false
   },
   "outputs": [
    {
     "name": "stderr",
     "output_type": "stream",
     "text": [
      "WARNING:root:Removing invalid revolutions (index from beginning of file): [  0 999]\n"
     ]
    },
    {
     "name": "stdout",
     "output_type": "stream",
     "text": [
      "1001\n",
      "16\n"
     ]
    }
   ],
   "source": [
    "read_some_data(rdict,'nl_8_3_20',datatype='raw')"
   ]
  },
  {
   "cell_type": "code",
   "execution_count": 31,
   "metadata": {
    "collapsed": false
   },
   "outputs": [
    {
     "data": {
      "text/plain": [
       "[<matplotlib.lines.Line2D at 0x10a58978>]"
      ]
     },
     "execution_count": 31,
     "metadata": {},
     "output_type": "execute_result"
    }
   ],
   "source": [
    "figure()\n",
    "plot(rdict['nl_8_3_20']['ch0'].flatten(),rdict['nl_8_3_20']['ch1'].flatten())"
   ]
  },
  {
   "cell_type": "code",
   "execution_count": 102,
   "metadata": {
    "collapsed": false,
    "scrolled": false
   },
   "outputs": [
    {
     "name": "stdout",
     "output_type": "stream",
     "text": [
      "('nl_8_3_20', 31.25)\n",
      "('H1HiDC', 'T')\n",
      "('H1LoDC', 'T')\n",
      "('H2LoDC', 'T')\n"
     ]
    },
    {
     "name": "stderr",
     "output_type": "stream",
     "text": [
      "C:\\Users\\labuser\\Anaconda\\envs\\py27\\lib\\site-packages\\ipykernel\\__main__.py:21: VisibleDeprecationWarning: using a non-integer number instead of an integer will result in an error in the future\n"
     ]
    }
   ],
   "source": [
    "plot_toi_dict(rdict,chanlist=['H1HiDC','H1LoDC','H2LoDC'],componentlist=['T'],datalist=['nl_8_3_20'])"
   ]
  },
  {
   "cell_type": "code",
   "execution_count": 103,
   "metadata": {
    "collapsed": false,
    "scrolled": false
   },
   "outputs": [
    {
     "name": "stdout",
     "output_type": "stream",
     "text": [
      "('nl_8_3_20', 31.25)\n",
      "('H1HiDC', 'T')\n"
     ]
    },
    {
     "name": "stderr",
     "output_type": "stream",
     "text": [
      "C:\\Users\\labuser\\Anaconda\\envs\\py27\\lib\\site-packages\\ipykernel\\__main__.py:22: VisibleDeprecationWarning: using a non-integer number instead of an integer will result in an error in the future\n"
     ]
    },
    {
     "name": "stdout",
     "output_type": "stream",
     "text": [
      "('H1LoDC', 'T')\n"
     ]
    }
   ],
   "source": [
    "plot_nl_dict(rdict,chanlist=['H1HiDC', 'H1LoDC'],componentlist=['T'],datalist=['nl_8_3_20'])"
   ]
  },
  {
   "cell_type": "code",
   "execution_count": 23,
   "metadata": {
    "collapsed": false
   },
   "outputs": [
    {
     "data": {
      "text/plain": [
       "['H3_cal_3_29']"
      ]
     },
     "execution_count": 23,
     "metadata": {},
     "output_type": "execute_result"
    }
   ],
   "source": [
    "ddict.keys()"
   ]
  },
  {
   "cell_type": "code",
   "execution_count": 172,
   "metadata": {
    "collapsed": false
   },
   "outputs": [],
   "source": [
    "h1dclevels_3_16={}\n",
    "channame1='H1HiDC'\n",
    "channame2='HornTop'\n",
    "var = 'T'\n",
    "H1=(ddict['amb_3_16'][nametochan(channame1)].flatten())[var]\n",
    "Input = (ddict['amb_3_16'][nametochan(channame2)].flatten())[var]\n",
    "x = np.arange(len(H1))"
   ]
  },
  {
   "cell_type": "code",
   "execution_count": 173,
   "metadata": {
    "collapsed": true
   },
   "outputs": [],
   "source": [
    "def smoothTriangle(data, degree, dropVals=False):\n",
    "    triangle=np.array(range(degree) + [degree] + range(degree)[::-1]) + 1\n",
    "    smoothed=[]\n",
    "\n",
    "    for i in range(degree, len(data) - degree * 2):\n",
    "        point=data[i:i + len(triangle)] * triangle\n",
    "        smoothed.append(sum(point)/sum(triangle))\n",
    "    if dropVals:\n",
    "        return smoothed\n",
    "    smoothed=[smoothed[0]]*(degree + degree/2) + smoothed\n",
    "    while len(smoothed) < len(data):\n",
    "        smoothed.append(smoothed[-1])\n",
    "    return smoothed"
   ]
  },
  {
   "cell_type": "code",
   "execution_count": 174,
   "metadata": {
    "collapsed": false
   },
   "outputs": [],
   "source": [
    "H1smoothed=smoothTriangle(H1, 20)  # setting degree to 10"
   ]
  },
  {
   "cell_type": "code",
   "execution_count": 175,
   "metadata": {
    "collapsed": false
   },
   "outputs": [],
   "source": [
    "der = np.diff(H1smoothed) / np.diff(x)\n",
    "x2 = (x[:-1] + x[1:]) / 2\n",
    "\n",
    "der2 = np.diff(der) / np.diff(x2)\n",
    "x3 = (x2[:-1] + x2[1:]) / 2"
   ]
  },
  {
   "cell_type": "code",
   "execution_count": 150,
   "metadata": {
    "collapsed": false
   },
   "outputs": [
    {
     "data": {
      "text/plain": [
       "<matplotlib.legend.Legend at 0x1f36ee48>"
      ]
     },
     "execution_count": 150,
     "metadata": {},
     "output_type": "execute_result"
    }
   ],
   "source": [
    "#plot smoothed curve + derivatives\n",
    "#plt.plot(x, H1, label = 'data')\n",
    "plt.plot(x, H1smoothed, label = 'smoothed data')\n",
    "plt.plot(x2, der*20, label = '1st derivative x 20')\n",
    "#plt.plot(x3, der2*100, label='2nd derivative x 100')\n",
    "plt.ylabel('V')\n",
    "plt.legend()"
   ]
  },
  {
   "cell_type": "code",
   "execution_count": 162,
   "metadata": {
    "collapsed": false
   },
   "outputs": [],
   "source": [
    "idx = np.where(abs(der) < 5e-5)[0]"
   ]
  },
  {
   "cell_type": "code",
   "execution_count": 183,
   "metadata": {
    "collapsed": true
   },
   "outputs": [],
   "source": [
    "idxP = []\n",
    "idxN = []\n",
    "idx = 0\n",
    "for i in range(len(der)):\n",
    "    if der[i] > 5e-5:\n",
    "        idxP.append(np.arange(idx,i))\n",
    "        idx = i\n",
    "    if der[i] < -5e-5:\n",
    "        idxN.append(np.arange(idx,i))\n",
    "        idx = i"
   ]
  },
  {
   "cell_type": "code",
   "execution_count": 184,
   "metadata": {
    "collapsed": false
   },
   "outputs": [
    {
     "ename": "AttributeError",
     "evalue": "'list' object has no attribute 'flatten'",
     "output_type": "error",
     "traceback": [
      "\u001b[0;31m---------------------------------------------------------------------------\u001b[0m",
      "\u001b[0;31mAttributeError\u001b[0m                            Traceback (most recent call last)",
      "\u001b[0;32m<ipython-input-184-6787622cb170>\u001b[0m in \u001b[0;36m<module>\u001b[0;34m()\u001b[0m\n\u001b[0;32m----> 1\u001b[0;31m \u001b[0midxP\u001b[0m\u001b[1;33m.\u001b[0m\u001b[0mflatten\u001b[0m\u001b[1;33m(\u001b[0m\u001b[1;33m)\u001b[0m\u001b[1;33m\u001b[0m\u001b[0m\n\u001b[0m",
      "\u001b[0;31mAttributeError\u001b[0m: 'list' object has no attribute 'flatten'"
     ]
    }
   ],
   "source": [
    "idxP.flatten()"
   ]
  },
  {
   "cell_type": "code",
   "execution_count": 177,
   "metadata": {
    "collapsed": false
   },
   "outputs": [
    {
     "name": "stderr",
     "output_type": "stream",
     "text": [
      "C:\\Users\\labuser\\Anaconda\\envs\\py27\\lib\\site-packages\\ipykernel\\__main__.py:3: VisibleDeprecationWarning: non integer (and non boolean) array-likes will not be accepted as indices in the future\n",
      "  app.launch_new_instance()\n"
     ]
    },
    {
     "ename": "IndexError",
     "evalue": "only integers, slices (`:`), ellipsis (`...`), numpy.newaxis (`None`) and integer or boolean arrays are valid indices",
     "output_type": "error",
     "traceback": [
      "\u001b[0;31m---------------------------------------------------------------------------\u001b[0m",
      "\u001b[0;31mIndexError\u001b[0m                                Traceback (most recent call last)",
      "\u001b[0;32m<ipython-input-177-0d27f2259c32>\u001b[0m in \u001b[0;36m<module>\u001b[0;34m()\u001b[0m\n\u001b[1;32m      1\u001b[0m \u001b[0midx\u001b[0m \u001b[1;33m=\u001b[0m \u001b[0midxP\u001b[0m\u001b[1;33m\u001b[0m\u001b[0m\n\u001b[1;32m      2\u001b[0m \u001b[0mplt\u001b[0m\u001b[1;33m.\u001b[0m\u001b[0mplot\u001b[0m\u001b[1;33m(\u001b[0m\u001b[0mx\u001b[0m\u001b[1;33m,\u001b[0m \u001b[0mH1\u001b[0m\u001b[1;33m,\u001b[0m \u001b[0mlabel\u001b[0m \u001b[1;33m=\u001b[0m \u001b[1;34m'data'\u001b[0m\u001b[1;33m)\u001b[0m\u001b[1;33m\u001b[0m\u001b[0m\n\u001b[0;32m----> 3\u001b[0;31m \u001b[0mplt\u001b[0m\u001b[1;33m.\u001b[0m\u001b[0mplot\u001b[0m\u001b[1;33m(\u001b[0m\u001b[0mx\u001b[0m\u001b[1;33m[\u001b[0m\u001b[0midx\u001b[0m\u001b[1;33m]\u001b[0m\u001b[1;33m,\u001b[0m \u001b[0mH1\u001b[0m\u001b[1;33m[\u001b[0m\u001b[0midx\u001b[0m\u001b[1;33m]\u001b[0m\u001b[1;33m,\u001b[0m \u001b[0mlabel\u001b[0m \u001b[1;33m=\u001b[0m \u001b[1;34m'level region'\u001b[0m\u001b[1;33m)\u001b[0m\u001b[1;33m\u001b[0m\u001b[0m\n\u001b[0m\u001b[1;32m      4\u001b[0m \u001b[0mplt\u001b[0m\u001b[1;33m.\u001b[0m\u001b[0mplot\u001b[0m\u001b[1;33m(\u001b[0m\u001b[0mx\u001b[0m\u001b[1;33m,\u001b[0m \u001b[0mH1smoothed\u001b[0m\u001b[1;33m,\u001b[0m \u001b[0mlabel\u001b[0m \u001b[1;33m=\u001b[0m \u001b[1;34m'smoothed data'\u001b[0m\u001b[1;33m)\u001b[0m\u001b[1;33m\u001b[0m\u001b[0m\n\u001b[1;32m      5\u001b[0m \u001b[0mplt\u001b[0m\u001b[1;33m.\u001b[0m\u001b[0mplot\u001b[0m\u001b[1;33m(\u001b[0m\u001b[0mx2\u001b[0m\u001b[1;33m,\u001b[0m \u001b[0mder\u001b[0m\u001b[1;33m*\u001b[0m\u001b[1;36m20\u001b[0m\u001b[1;33m,\u001b[0m \u001b[0mlabel\u001b[0m \u001b[1;33m=\u001b[0m \u001b[1;34m'1st derivative x 20'\u001b[0m\u001b[1;33m)\u001b[0m\u001b[1;33m\u001b[0m\u001b[0m\n",
      "\u001b[0;31mIndexError\u001b[0m: only integers, slices (`:`), ellipsis (`...`), numpy.newaxis (`None`) and integer or boolean arrays are valid indices"
     ]
    }
   ],
   "source": [
    "\n",
    "plt.plot(x, H1, label = 'data')\n",
    "plt.plot(x[idx], H1[idx], label = 'level region')\n",
    "plt.plot(x, H1smoothed, label = 'smoothed data')\n",
    "plt.plot(x2, der*20, label = '1st derivative x 20')\n",
    "plt.legend()"
   ]
  },
  {
   "cell_type": "code",
   "execution_count": 164,
   "metadata": {
    "collapsed": false
   },
   "outputs": [],
   "source": [
    "InputV = []\n",
    "H1V = []\n",
    "for i in range(len(idx)):\n",
    "    InputV.append(Input[idx[i]].mean())\n",
    "    H1V.append(H1[idx[i]].mean())\n",
    "    \n",
    "\n",
    "H1V = [x for _,x in sorted(zip(InputV,H1V))]\n",
    "InputV = sorted(InputV)"
   ]
  },
  {
   "cell_type": "code",
   "execution_count": 166,
   "metadata": {
    "collapsed": false
   },
   "outputs": [
    {
     "data": {
      "text/plain": [
       "<matplotlib.text.Text at 0x20d56fd0>"
      ]
     },
     "execution_count": 166,
     "metadata": {},
     "output_type": "execute_result"
    }
   ],
   "source": [
    "plt.plot(InputV, H1V, lw=2)\n",
    "plt.ylabel('input voltage')\n",
    "plt.xlabel('output voltage')"
   ]
  },
  {
   "cell_type": "code",
   "execution_count": 45,
   "metadata": {
    "collapsed": false
   },
   "outputs": [],
   "source": [
    "h1dclevels_3_14={}\n",
    "channame='H1HiDC'\n",
    "for key in ddict.keys():\n",
    "    toi=ddict[key][nametochan(channame)].flatten()\n",
    "    h1dclevels_3_14[key]=np.mean(toi)\n",
    "    "
   ]
  },
  {
   "cell_type": "code",
   "execution_count": 59,
   "metadata": {
    "collapsed": false
   },
   "outputs": [
    {
     "name": "stdout",
     "output_type": "stream",
     "text": [
      "{'LN_3_14': -0.23080378270149232, 'amb_3_14': -0.59305374652147291, 'sky_3_15': -0.071202472050984705, 'amb_3_15': -0.58871274590492251}\n",
      "('y= ', 2.5695148475469001)\n",
      "('g = ', -587.99177715266785, 'K/V')\n",
      "58.7107263642\n"
     ]
    }
   ],
   "source": [
    "print h1dclevels_3_14\n",
    "y=h1dclevels_3_14['amb_3_14']/h1dclevels_3_14['LN_3_14']\n",
    "print('y= ',y)\n",
    "g=(290.-77.)/(h1dclevels_3_14['amb_3_14']-h1dclevels_3_14['LN_3_14'])\n",
    "print('g = ',g,'K/V')\n",
    "h1tsys_3_14=(290.-77.*y)/(y-1)\n",
    "print(h1tsys_3_14)"
   ]
  },
  {
   "cell_type": "code",
   "execution_count": 109,
   "metadata": {
    "collapsed": true
   },
   "outputs": [],
   "source": [
    "h1dclevels_3_15={}\n",
    "channame='H1HiDC'\n",
    "for key in ddict.keys():\n",
    "    toi=ddict[key][nametochan(channame)].flatten()\n",
    "    h1dclevels_3_15[key]=np.mean(toi)\n",
    "    "
   ]
  },
  {
   "cell_type": "code",
   "execution_count": 110,
   "metadata": {
    "collapsed": false
   },
   "outputs": [
    {
     "name": "stdout",
     "output_type": "stream",
     "text": [
      "{'amb_3_15_Vg1': -0.2413669200738271, 'sky_3_15_Vg1': -0.025998044808705649, 'sky_3_15': -0.071202472050984705, 'amb_3_15': -0.58871274590492251}\n",
      "('y= ', 8.2681503738152973)\n",
      "('Tsky = ', -10.946041026115381, 'K')\n",
      "52.8130945921\n"
     ]
    }
   ],
   "source": [
    "print h1dclevels_3_15\n",
    "y=h1dclevels_3_15['amb_3_15']/h1dclevels_3_15['sky_3_15']\n",
    "print('y= ',y)\n",
    "g= -588\n",
    "Tsky = 293.35 - (h1dclevels_3_15['amb_3_15'] - h1dclevels_3_15['sky_3_15'])*g\n",
    "print('Tsky = ',Tsky,'K')\n",
    "h1tsys_3_15=(293.35-Tsky*y)/(y-1)\n",
    "print(h1tsys_3_15)"
   ]
  },
  {
   "cell_type": "code",
   "execution_count": 298,
   "metadata": {
    "collapsed": false
   },
   "outputs": [],
   "source": [
    "dname = 'LN_3_13'\n",
    "ACchanname = 'H3HiAC'\n",
    "DCchanname = 'H3HiDC'\n",
    "component = 'T'\n",
    "\n",
    "asd = asd_dict[dname][nametochan(ACchanname)]\n",
    "freq = asd_dict[dname]['freq']\n",
    "toi = ddict[dname][nametochan(DCchanname)].flatten()\n",
    "samprate=1000./(ddict[dname]['rev'][1]-ddict[dname]['rev'][0])\n",
    "t = ddict[dname]['azi'][0]+arange(len(toi))/(256.*samprate)"
   ]
  },
  {
   "cell_type": "code",
   "execution_count": 299,
   "metadata": {
    "collapsed": false
   },
   "outputs": [],
   "source": [
    "iwng = set(np.where(freq >= 150.)[0])\n",
    "iwnl = set(np.where(freq <= 900.)[0])\n",
    "\n",
    "iwn = list(iwng.intersection(iwnl))\n",
    "\n",
    "wn = asd[iwn]"
   ]
  },
  {
   "cell_type": "code",
   "execution_count": 300,
   "metadata": {
    "collapsed": false
   },
   "outputs": [
    {
     "name": "stdout",
     "output_type": "stream",
     "text": [
      "DC level:  -0.14921598355\n",
      "WN level:  0.00162633860461\n",
      "DC RMS:  0.00865078915838\n",
      "Bandwidth(GHz):  0.0841799667244\n"
     ]
    }
   ],
   "source": [
    "dcl = toi.mean()\n",
    "wnl = wn.mean()\n",
    "#dcrms = np.sqrt(np.mean(toi**2))\n",
    "dcrms = 2*(abs(dcl - toi)).mean()\n",
    "beta = (dcl*100/wnl)**2 /1e9\n",
    "\n",
    "print 'DC level: ', dcl\n",
    "print 'WN level: ', wnl\n",
    "print 'DC RMS: ', dcrms\n",
    "print 'Bandwidth(GHz): ', beta"
   ]
  },
  {
   "cell_type": "code",
   "execution_count": 293,
   "metadata": {
    "collapsed": false
   },
   "outputs": [
    {
     "data": {
      "text/plain": [
       "[<matplotlib.lines.Line2D at 0x1e3d701d0>]"
      ]
     },
     "execution_count": 293,
     "metadata": {},
     "output_type": "execute_result"
    }
   ],
   "source": [
    "plt.plot(freq, asd, 'b-')\n",
    "plt.plot(freq[iwn], wn, 'g-')"
   ]
  },
  {
   "cell_type": "code",
   "execution_count": 301,
   "metadata": {
    "collapsed": false
   },
   "outputs": [
    {
     "data": {
      "text/plain": [
       "[<matplotlib.lines.Line2D at 0x1fd2da2e8>]"
      ]
     },
     "execution_count": 301,
     "metadata": {},
     "output_type": "execute_result"
    }
   ],
   "source": [
    "plt.plot(t, toi)"
   ]
  },
  {
   "cell_type": "code",
   "execution_count": 276,
   "metadata": {
    "collapsed": false
   },
   "outputs": [
    {
     "name": "stdout",
     "output_type": "stream",
     "text": [
      "2.125\n",
      "112.333333333\n"
     ]
    }
   ],
   "source": [
    "vh = .0034\n",
    "vc = .0016\n",
    "th = 290\n",
    "tc = 77\n",
    "\n",
    "y = vh/vc\n",
    "\n",
    "Tsys = (th - y*tc)/(y-1)\n",
    "print y\n",
    "print Tsys"
   ]
  }
 ],
 "metadata": {
  "kernelspec": {
   "display_name": "Python 3",
   "language": "python",
   "name": "python3"
  },
  "language_info": {
   "codemirror_mode": {
    "name": "ipython",
    "version": 3
   },
   "file_extension": ".py",
   "mimetype": "text/x-python",
   "name": "python",
   "nbconvert_exporter": "python",
   "pygments_lexer": "ipython3",
   "version": "3.5.2"
  }
 },
 "nbformat": 4,
 "nbformat_minor": 2
}
