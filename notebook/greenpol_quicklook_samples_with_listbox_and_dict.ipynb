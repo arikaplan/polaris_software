{
 "cells": [
  {
   "cell_type": "code",
   "execution_count": 1,
   "metadata": {
    "collapsed": false
   },
   "outputs": [],
   "source": [
    "from contextlib import contextmanager\n",
    "import os\n",
    "import datetime as dt\n",
    "import numpy as np\n",
    "import h5py\n",
    "import time\n",
    "import sys\n",
    "os.chdir('../telescope_control/data_aquisition/')\n",
    "sys.path.append('../')\n",
    "sys.path.append('/software_git_repos/cofe-python-analysis-tools/utils_meinhold/')\n",
    "sys.path.append('/software_git_repos/cofe-python-analysis-tools/utils_zonca/')\n",
    "from glob import glob\n",
    "\n",
    "sys.path.append('../../')\n",
    "sys.path.append('../../../')\n",
    "sys.path.append('../VtoT/')\n",
    "\n",
    "\n",
    "import Tkinter,tkFileDialog\n",
    "\n",
    "import cofe_util as cu\n",
    "import realtime_gp as rt\n",
    "import datetime\n",
    "\n",
    "from Tkinter import *\n",
    "import ttk"
   ]
  },
  {
   "cell_type": "code",
   "execution_count": 2,
   "metadata": {
    "collapsed": true
   },
   "outputs": [],
   "source": [
    "def nametochan(name):\n",
    "    #function to convert channel numbers to channel names\n",
    "\n",
    "    #names of each channel\n",
    "    chans = {\n",
    "        'all': 'all',  'H1HiAC':'ch0',  'H1HiDC':'ch1',\n",
    "        'H1LoAC':'ch2' ,  'H1LoDC':'ch3', 'H2HiAC':'ch4' ,\n",
    "        'H2HiDC':'ch5' ,  'H2LoAC':'ch6',  'H2LoDC':'ch7',\n",
    "        'H3HiAC':'ch8', 'H3HiDC':'ch9',  'H3LoAC':'ch10',\n",
    "         'H3LoDC':'ch11', 'HornTop':'ch12', 'Amplifier': 'ch13',\n",
    "        'Cooler':'ch14', 'Transition':'ch15'}\n",
    "\n",
    "    chan = chans[name]\n",
    "\n",
    "    return chan"
   ]
  },
  {
   "cell_type": "code",
   "execution_count": 3,
   "metadata": {
    "collapsed": false
   },
   "outputs": [
    {
     "name": "stdout",
     "output_type": "stream",
     "text": [
      "Using matplotlib backend: Qt5Agg\n",
      "Populating the interactive namespace from numpy and matplotlib\n"
     ]
    },
    {
     "name": "stderr",
     "output_type": "stream",
     "text": [
      "C:\\Users\\labuser\\Anaconda\\envs\\py27\\lib\\site-packages\\IPython\\core\\magics\\pylab.py:161: UserWarning: pylab import has clobbered these variables: ['Widget', 'Text', 'Button']\n",
      "`%matplotlib` prevents importing * from pylab and numpy\n",
      "  \"\\n`%matplotlib` prevents importing * from pylab and numpy\"\n"
     ]
    }
   ],
   "source": [
    "%pylab"
   ]
  },
  {
   "cell_type": "code",
   "execution_count": 10,
   "metadata": {
    "collapsed": true
   },
   "outputs": [],
   "source": [
    "def plot_some_chans2(datatype='demod',plottype='toi',filelist=None,component='T',samprate=30,minfreq=.1):\n",
    "    \n",
    "    if filelist==None:\n",
    "        root=Tkinter.Tk()\n",
    "        if datatype=='demod':\n",
    "            filelist = list(tkFileDialog.askopenfilenames(\\\n",
    "            initialdir='C://Greenland/greenpol/telescope_control/data_aquisition/demod_data/',parent=root,title='Choose a set of files'))\n",
    "        if datatype=='raw':\n",
    "            filelist = list(tkFileDialog.askopenfilenames(\\\n",
    "            initialdir='C://Greenland/greenpol/telescope_control/data_aquisition/data/',parent=root,title='Choose a set of files'))            \n",
    "        root.destroy()\n",
    "    filelist.sort()\n",
    "    main = Tk()\n",
    "    main.title(\"Choose channels to plot\")\n",
    "    main.geometry(\"+50+150\")\n",
    "    frame = ttk.Frame(main, padding=(3, 3, 12, 12))\n",
    "    frame.grid(column=0, row=0, sticky=(N, S, E, W))\n",
    "\n",
    "    #set up the listbox to choose what chans to plot\n",
    "    chan_labels = StringVar()\n",
    "    chan_labels.set(\"H1HiAC H1HiDC H1LoAC H1LoDC H2HiAC H2HiDC H2LoAC H2LoDC\\\n",
    "                 H3HiAC H3HiDC H3LoAC H3LoDC HornTop Amplifier Cooler Transition\")           \n",
    "    tlist=[]\n",
    "    if datatype=='demod':\n",
    "        dlist=[]\n",
    "        for f in filelist:\n",
    "            h=np.float64(f[-11:-9])\n",
    "            m=np.float64(f[-9:-7])\n",
    "            s=np.float64(f[-7:-5])\n",
    "            hf=h5py.File(f)\n",
    "            t=h+m/60.+(s+(hf['demod_data']['rev']-hf['demod_data']['rev'][0])/1000.)/3600.\n",
    "            tlist.append(t)  #just generate a time to plot relative to\n",
    "            dlist.append(hf['demod_data'])\n",
    "        d=concatenate(dlist)\n",
    "        hf.close() \n",
    "        \n",
    "    if datatype=='raw':\n",
    "        h=np.float64(filelist[0][-11:-9])\n",
    "        m=np.float64(filelist[0][-9:-7])\n",
    "        s=np.float64(filelist[0][-7:-5])\n",
    "        d=rt.demod.read_raw(filelist)\n",
    "        t=h+m/60.+(s+(d['rev']-d['rev'][0])/1000.)/3600.\n",
    "        tlist.append(t)\n",
    "    ut=concatenate(tlist)\n",
    "    #figure()\n",
    "    #plot(ut)\n",
    "    lstbox = Listbox(frame,listvariable=chan_labels, selectmode=MULTIPLE, width=20, height=16)\n",
    "    lstbox.grid(column=0, row=0, columnspan=2)\n",
    "    \n",
    "    lstbox2 = Listbox(frame,listvariable=chan_labels, selectmode=MULTIPLE, width=20, height=16)\n",
    "    lstbox2.grid(column=2, row=0, columnspan=2)\n",
    "    #start the plot\n",
    "\n",
    "    fname=filelist[0]\n",
    "    yyyy=os.path.dirname(filelist[0])[-8:-4]\n",
    "    mm=os.path.dirname(filelist[0])[-4:-2]\n",
    "    dd=os.path.dirname(filelist[0])[-2:]\n",
    "\n",
    "    def select():\n",
    "        reslist = list()\n",
    "        selection = lstbox.curselection()\n",
    "        figure()\n",
    "        if datatype=='demod':\n",
    "            title('%s TOI from %s %s %s' %(component,mm,dd,yyyy))\n",
    "        if datatype=='raw':\n",
    "            title('TOI from %s %s %s' %(mm,dd,yyyy))\n",
    "\n",
    "        for i in selection:\n",
    "            entry = lstbox.get(i)\n",
    "            reslist.append(entry)\n",
    "        for val in reslist:\n",
    "            chan=nametochan(val)\n",
    "            if datatype=='demod':\n",
    "                plot(ut,d[chan][component],label=val)\n",
    "            if datatype=='raw':\n",
    "                plot(d[chan].flatten(),label=val)\n",
    "            xlabel('Samples')\n",
    "            ylabel('Output [v]')\n",
    "            legend()\n",
    "\n",
    "    def selectfft():\n",
    "        reslist2 = list()\n",
    "        selection2 = lstbox2.curselection()\n",
    "        figure()\n",
    "        if datatype=='demod':\n",
    "            title('%s ASD from %s %s %s' %(component,mm,dd,yyyy))\n",
    "        if datatype=='raw':\n",
    "            title('ASD from %s %s %s' %(mm,dd,yyyy))\n",
    "                \n",
    "\n",
    "        for i in selection2:\n",
    "            entry2 = lstbox2.get(i)\n",
    "            reslist2.append(entry2)\n",
    "        for val in reslist2:\n",
    "            chan=nametochan(val)\n",
    "            if datatype=='demod':\n",
    "                freq,psd=cu.nps(d[chan][component],samprate,minfreq=minfreq)\n",
    "            if datatype=='raw':\n",
    "                freq,psd=cu.nps(d[chan].flatten(),samprate*256,minfreq=minfreq)\n",
    "            plot(freq,sqrt(psd)*1e9,label=val)\n",
    "            xlabel('Frequency [Hz]')\n",
    "            ylabel(r'ASD [$\\frac{nV}{\\sqrt{Hz}}$]')\n",
    "            legend()\n",
    "                \n",
    "    btn = ttk.Button(frame, text=\"Select for TOI\", command=select)\n",
    "    btn.grid(column=1, row=1)\n",
    "    \n",
    "    btn2 = ttk.Button(frame, text=\"Select for ASD\", command=selectfft)\n",
    "    btn2.grid(column=3, row=1)\n",
    "    \n",
    "    main.mainloop()"
   ]
  },
  {
   "cell_type": "code",
   "execution_count": 5,
   "metadata": {
    "collapsed": true
   },
   "outputs": [],
   "source": [
    "def read_some_data(datadict,datalabel,datatype='demod',filelist=None):\n",
    "\n",
    "    if filelist==None:\n",
    "        root=Tkinter.Tk()\n",
    "        if datatype=='demod':\n",
    "            filelist = list(tkFileDialog.askopenfilenames(\\\n",
    "            initialdir='C://Greenland/greenpol/telescope_control/data_aquisition/demod_data/',parent=root,title='Choose a set of files'))\n",
    "        if datatype=='raw':\n",
    "            filelist = list(tkFileDialog.askopenfilenames(\\\n",
    "            initialdir='C://Greenland/greenpol/telescope_control/data_aquisition/data/',parent=root,title='Choose a set of files'))            \n",
    "        root.destroy()\n",
    "    filelist.sort()\n",
    "    \n",
    "    if datatype=='demod':\n",
    "        dlist=[]\n",
    "        for f in filelist:\n",
    "            hf=h5py.File(f)\n",
    "            dlist.append(hf['demod_data'])\n",
    "        d=concatenate(dlist)\n",
    "        hf.close() \n",
    "        \n",
    "    if datatype=='raw':\n",
    "        d=rt.demod.read_raw(filelist)\n",
    "    datadict[datalabel]=d\n",
    "    return"
   ]
  },
  {
   "cell_type": "code",
   "execution_count": 6,
   "metadata": {
    "collapsed": true
   },
   "outputs": [],
   "source": [
    "def asd_from_dict(data_dict,minfreq=1.):\n",
    "    #run nps on all the channels for each of the loaded data sets, return asd dictionary\n",
    "    asd_dict={}\n",
    "    chans=['ch%s' %str(i) for i in range(16)]\n",
    "    for datset in data_dict.keys():\n",
    "        asd_dict[datset]={}\n",
    "        datatype='demod'\n",
    "        print(datset)\n",
    "        d=data_dict[datset]\n",
    "        if len(d.dtype)==18:\n",
    "            datatype='raw'\n",
    "        samprate=1000./float(d['rev'][10]-d['rev'][9])\n",
    "        for chan in chans:\n",
    "            if datatype=='raw':\n",
    "                freq,psd=cu.nps(d[chan].flatten(),samprate*256,minfreq=minfreq)\n",
    "                asd_dict[datset]['freq']=freq\n",
    "                asd_dict[datset][chan]=sqrt(psd)\n",
    "            if datatype=='demod':\n",
    "                asd_dict[datset][chan]={}\n",
    "                for component in ['T','Q','U']:\n",
    "                    freq,psd=cu.nps(d[chan][component],samprate,minfreq=minfreq)\n",
    "                    asd_dict[datset][chan][component]=sqrt(psd)\n",
    "                    asd_dict[datset]['freq']=freq\n",
    "                    \n",
    "    return asd_dict            "
   ]
  },
  {
   "cell_type": "code",
   "execution_count": 7,
   "metadata": {
    "collapsed": true
   },
   "outputs": [],
   "source": [
    "def plot_asd_dict(asd_dict,chanlist=['H1HiAC'],componentlist=['T'],datalist=None):\n",
    "    #function to give a choice of preloaded datasets from dictionary data_dict\n",
    "    figure()\n",
    "    if datalist==None:\n",
    "        datalist=asd_dict.keys()\n",
    "    if len(componentlist)==1:  # if componentlist is a single value, assume same thing for all chans\n",
    "        c=componentlist[0]\n",
    "        componentlist=[c for n in datalist]\n",
    "    #set up the color sequence for the plot\n",
    "    nlines=len(datalist)*len(chanlist)\n",
    "    colormap = cm.gist_ncar\n",
    "    gca().set_color_cycle([colormap(i) for i in np.linspace(0, 0.9, nlines)])\n",
    "    \n",
    "    for dname in datalist:\n",
    "        for channame,component in zip(chanlist,componentlist):\n",
    "            try:\n",
    "                asd=asd_dict[dname][nametochan(channame)][component] #if it's demod data so a dict\n",
    "            except:\n",
    "                asd=asd_dict[dname][nametochan(channame)]           #if it's raw data so not a dict\n",
    "            plot(asd_dict[dname]['freq'],asd,label=dname+ '  '+channame+' '+component,lw=2)\n",
    "    legend()\n",
    "    xlabel('Frequency [Hz]')\n",
    "    ylabel(r'ASD [$\\frac{V}{\\sqrt{Hz}}$]')"
   ]
  },
  {
   "cell_type": "code",
   "execution_count": 8,
   "metadata": {
    "collapsed": false
   },
   "outputs": [],
   "source": [
    "def plot_toi_dict(toi_dict,chanlist=['H1HiAC'],componentlist=['T'],datalist=None):\n",
    "    #function to give a choice of preloaded datasets from dictionary data_dict\n",
    "    figure()\n",
    "    if datalist==None:\n",
    "        datalist=asd_dict.keys()\n",
    "    if len(componentlist)==1:  # if componentlist is a single value, assume same thing for all chans\n",
    "        c=componentlist[0]\n",
    "        componentlist=[c for n in chanlist]\n",
    "    #set up the color sequence for the plot\n",
    "    nlines=len(datalist)*len(chanlist)\n",
    "    colormap = cm.gist_ncar\n",
    "    gca().set_color_cycle([colormap(i) for i in np.linspace(0, 0.9, nlines)])\n",
    "    titletxt=[]\n",
    "    for dname in datalist:\n",
    "        samprate=1000./(toi_dict[dname]['rev'][1]-toi_dict[dname]['rev'][0])\n",
    "        print(dname,samprate)\n",
    "        titletxt.append(dname)\n",
    "        for channame,component in zip(chanlist,componentlist):\n",
    "            print(channame,component)\n",
    "            try:\n",
    "                toi=toi_dict[dname][nametochan(channame)][component] #if it's demod data so a dict\n",
    "                t=toi_dict[dname]['azi'][0]+arange(len(toi))/samprate\n",
    "                plot(t,toi,label=dname+ '  '+channame+' '+component,lw=2)\n",
    "            except:\n",
    "                toi=toi_dict[dname][nametochan(channame)].flatten()#if it's raw data so not a dict\n",
    "                t=toi_dict[dname]['azi'][0]+arange(len(toi))/(256.*samprate)\n",
    "                plot(t,toi,label=dname+ '  '+channame+' '+component,lw=2)\n",
    "            \n",
    "    title(titletxt)\n",
    "    legend()\n",
    "    xlabel('Time [S]')\n",
    "    ylabel(r'Signl [V]')"
   ]
  },
  {
   "cell_type": "code",
   "execution_count": 13,
   "metadata": {
    "collapsed": false
   },
   "outputs": [
    {
     "name": "stderr",
     "output_type": "stream",
     "text": [
      "D:\\software_git_repos\\cofe-python-analysis-tools\\utils_zonca\\demod\\datparsing.py:38: VisibleDeprecationWarning: boolean index did not match indexed array along dimension 0; dimension is 256000 but corresponding boolean dimension is 255999\n",
      "  good[duplicates] = False\n"
     ]
    },
    {
     "name": "stdout",
     "output_type": "stream",
     "text": [
      "0\n",
      "16\n",
      "0\n",
      "16\n",
      "0\n",
      "16\n",
      "0\n",
      "16\n",
      "0\n",
      "16\n",
      "0\n",
      "16\n",
      "0\n",
      "16\n",
      "0\n",
      "16\n",
      "0\n",
      "16\n"
     ]
    }
   ],
   "source": [
    "plot_some_chans2(datatype='raw')"
   ]
  },
  {
   "cell_type": "code",
   "execution_count": null,
   "metadata": {
    "collapsed": true
   },
   "outputs": [],
   "source": []
  },
  {
   "cell_type": "code",
   "execution_count": 24,
   "metadata": {
    "collapsed": true
   },
   "outputs": [],
   "source": [
    "ddict={}"
   ]
  },
  {
   "cell_type": "code",
   "execution_count": 33,
   "metadata": {
    "collapsed": false
   },
   "outputs": [
    {
     "name": "stdout",
     "output_type": "stream",
     "text": [
      "0\n",
      "16\n",
      "0\n",
      "16\n",
      "0\n",
      "16\n"
     ]
    }
   ],
   "source": [
    "read_some_data(ddict,'LN_3_13',datatype='raw')"
   ]
  },
  {
   "cell_type": "code",
   "execution_count": 40,
   "metadata": {
    "collapsed": false
   },
   "outputs": [
    {
     "name": "stdout",
     "output_type": "stream",
     "text": [
      "LN_3_13\n",
      "amb_3_13\n",
      "part_3_13\n"
     ]
    }
   ],
   "source": [
    "asd_dict=asd_from_dict(ddict, minfreq=10)"
   ]
  },
  {
   "cell_type": "code",
   "execution_count": 42,
   "metadata": {
    "collapsed": false,
    "scrolled": true
   },
   "outputs": [
    {
     "name": "stderr",
     "output_type": "stream",
     "text": [
      "C:\\Users\\labuser\\Anaconda\\envs\\py27\\lib\\site-packages\\ipykernel\\__main__.py:17: VisibleDeprecationWarning: using a non-integer number instead of an integer will result in an error in the future\n"
     ]
    }
   ],
   "source": [
    "plot_asd_dict(asd_dict,chanlist=['H1HiAC'])"
   ]
  },
  {
   "cell_type": "code",
   "execution_count": 148,
   "metadata": {
    "collapsed": false,
    "scrolled": false
   },
   "outputs": [
    {
     "name": "stdout",
     "output_type": "stream",
     "text": [
      "('amb_3_12', 29.411764705882351)\n",
      "('H3HiAC', 'T')\n",
      "('sky_3_12', 29.411764705882351)\n",
      "('H3HiAC', 'T')\n",
      "('part_3_12', 31.25)\n",
      "('H3HiAC', 'T')\n"
     ]
    },
    {
     "name": "stderr",
     "output_type": "stream",
     "text": [
      "C:\\Users\\labuser\\Anaconda\\envs\\py27\\lib\\site-packages\\ipykernel\\__main__.py:21: VisibleDeprecationWarning: using a non-integer number instead of an integer will result in an error in the future\n"
     ]
    }
   ],
   "source": [
    "plot_toi_dict(ddict,chanlist=['H3HiAC'],componentlist=['T'],datalist=['amb_3_12','sky_3_12','part_3_12'])"
   ]
  },
  {
   "cell_type": "code",
   "execution_count": 146,
   "metadata": {
    "collapsed": false
   },
   "outputs": [
    {
     "name": "stdout",
     "output_type": "stream",
     "text": [
      "('g=', 0.002903225806451613, 'v/k')\n",
      "('tsky=', 67.66666666666666)\n",
      "('dtpart=', 0.41820000000000007)\n"
     ]
    }
   ],
   "source": [
    "tsys=15\n",
    "tamb=295\n",
    "beta=.27\n",
    "vsky=.24\n",
    "vpart=.44\n",
    "vamb=.9\n",
    "\n",
    "g=vamb/(tsys+tamb)\n",
    "print('g=',g,'v/k')\n",
    "tsky=(vsky/g)-tsys\n",
    "print('tsky=',tsky)\n",
    "print('dtpart=',(tsky*(1-beta)+tamb*beta+tsys)*g)"
   ]
  },
  {
   "cell_type": "code",
   "execution_count": 147,
   "metadata": {
    "collapsed": false
   },
   "outputs": [
    {
     "name": "stdout",
     "output_type": "stream",
     "text": [
      "15.0\n"
     ]
    }
   ],
   "source": [
    "y=vamb/vsky\n",
    "tsys=(tamb-y*tsky)/(y-1)\n",
    "print(tsys)"
   ]
  },
  {
   "cell_type": "code",
   "execution_count": 155,
   "metadata": {
    "collapsed": false
   },
   "outputs": [
    {
     "name": "stdout",
     "output_type": "stream",
     "text": [
      "0.000365224436325\n"
     ]
    }
   ],
   "source": [
    ".00087\n",
    "print(1.4*.175*100/sqrt(4.5e9))"
   ]
  },
  {
   "cell_type": "code",
   "execution_count": null,
   "metadata": {
    "collapsed": true
   },
   "outputs": [],
   "source": []
  }
 ],
 "metadata": {
  "kernelspec": {
   "display_name": "Python 2",
   "language": "python",
   "name": "python2"
  },
  "language_info": {
   "codemirror_mode": {
    "name": "ipython",
    "version": 2
   },
   "file_extension": ".py",
   "mimetype": "text/x-python",
   "name": "python",
   "nbconvert_exporter": "python",
   "pygments_lexer": "ipython2",
   "version": "2.7.13"
  }
 },
 "nbformat": 4,
 "nbformat_minor": 2
}
