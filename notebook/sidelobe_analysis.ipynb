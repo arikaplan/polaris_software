{
 "cells": [
  {
   "cell_type": "code",
   "execution_count": 1,
   "metadata": {},
   "outputs": [
    {
     "name": "stdout",
     "output_type": "stream",
     "text": [
      "C:\\software_git_repos\\polaris\\polaris_software\\notebook\n",
      "Using matplotlib backend: TkAgg\n",
      "Populating the interactive namespace from numpy and matplotlib\n"
     ]
    },
    {
     "name": "stderr",
     "output_type": "stream",
     "text": [
      "C:\\Users\\akkap\\anaconda3\\envs\\py27\\lib\\site-packages\\IPython\\core\\magics\\pylab.py:161: UserWarning: pylab import has clobbered these variables: ['Widget', 'Text', 'Button', 'datetime']\n",
      "`%matplotlib` prevents importing * from pylab and numpy\n",
      "  \"\\n`%matplotlib` prevents importing * from pylab and numpy\"\n"
     ]
    }
   ],
   "source": [
    "import sys\n",
    "import os\n",
    "#sys.path.append('D:\\\\software_git_repos\\\\cofe-python-analysis-tools\\\\utils_meinhold')\n",
    "sys.path.append('../utils_meinhold')\n",
    "#sys.path.append('D:\\\\software_git_repos\\\\cofe-python-analysis-tools\\\\utils_zonca')\n",
    "sys.path.append('../utils_zonca')\n",
    "#sys.path.append('D:\\\\software_git_repos\\\\cofe-python-analysis-tools\\\\utils_zonca\\\\pointing')\n",
    "sys.path.append('../utils_zonca/pointing')\n",
    "#sys.path.append('D:\\\\software_git_repos\\\\greenpol')\n",
    "sys.path.append('../')\n",
    "#sys.path.append('D:\\\\software_git_repos\\\\greenpol\\\\telescope_control\\\\')\n",
    "sys.path.append('../telescope_control')\n",
    "#sys.path.append('D:\\\\software_git_repos\\\\greenpol\\\\telescope_control\\\\VtoT\\\\')\n",
    "sys.path.append('../VtoT')\n",
    "print os.getcwd()\n",
    "import convert\n",
    "import realtime_gp as rt\n",
    "import numpy as np\n",
    "import datetime \n",
    "import h5py\n",
    "import pandas as pd\n",
    "#from pointingtools import compute_parallactic_angle, altaz2ha \n",
    "from planets import getlocation, getpointing\n",
    "import warnings\n",
    "from astropy.coordinates import AltAz, Angle, EarthLocation, ICRS, SkyCoord, frame_transform_graph\n",
    "from astropy import units as u\n",
    "import ephem\n",
    "import matplotlib.pyplot as plt\n",
    "import time\n",
    "import planets\n",
    "from datetime import timedelta, datetime\n",
    "import numpy.ma as ma\n",
    "\n",
    "import Tkinter,tkFileDialog\n",
    "\n",
    "from Tkinter import *\n",
    "import ttk\n",
    "\n",
    "import pickle\n",
    "import glob\n",
    "\n",
    "import cPickle\n",
    "\n",
    "from scipy.signal import savgol_filter\n",
    "\n",
    "%pylab"
   ]
  },
  {
   "cell_type": "code",
   "execution_count": 2,
   "metadata": {},
   "outputs": [
    {
     "name": "stdout",
     "output_type": "stream",
     "text": [
      "Using matplotlib backend: TkAgg\n"
     ]
    }
   ],
   "source": [
    "%matplotlib auto"
   ]
  },
  {
   "cell_type": "code",
   "execution_count": 3,
   "metadata": {},
   "outputs": [],
   "source": [
    "def get_pointing_files(filelist=None, days=1):\n",
    "\n",
    "    if filelist==None:\n",
    "        flist = []\n",
    "        for d in range(days):\n",
    "            root=Tkinter.Tk()\n",
    "            files = list(tkFileDialog.askopenfilenames(\\\n",
    "            initialdir='D://software_git_repos/greenpol/telescope_control/data_aquisition/pointing_data/',parent=root,title='Choose a set of files'))\n",
    "            flist.append(files)\n",
    "            root.destroy()\n",
    "        filelist = [y for x in flist for y in x]\n",
    "    filelist.sort()\n",
    "    \n",
    "    return filelist"
   ]
  },
  {
   "cell_type": "code",
   "execution_count": 4,
   "metadata": {},
   "outputs": [],
   "source": [
    "def read_some_data(filelist=None, days=1):\n",
    "\n",
    "    if filelist==None:\n",
    "        flist = []\n",
    "        for d in range(days):\n",
    "            root=Tkinter.Tk()\n",
    "            files = list(tkFileDialog.askopenfilenames(\\\n",
    "            initialdir='D://software_git_repos/greenpol/telescope_control/data_aquisition/demod_data/',parent=root,title='Choose a set of files'))\n",
    "            flist.append(files)\n",
    "            root.destroy()\n",
    "        filelist = [y for x in flist for y in x]\n",
    "    filelist.sort()\n",
    "    \n",
    "    dlist=[]\n",
    "    for f in filelist:\n",
    "        hf=h5py.File(f)\n",
    "        dlist.append(hf['demod_data'])\n",
    "    d=np.concatenate(dlist)\n",
    "    hf.close() \n",
    "\n",
    "    datadict=d\n",
    "        \n",
    "    return datadict, filelist"
   ]
  },
  {
   "cell_type": "code",
   "execution_count": 5,
   "metadata": {},
   "outputs": [],
   "source": [
    "def get_file_times(fld):\n",
    "    startfile = fld[0][:43]+fld[0][49:-2]+'dat'\n",
    "    endfile = fld[-1][:43]+fld[-1][49:-2]+'dat'\n",
    "    \n",
    "    #starttime = os.path.getctime(startfile)\n",
    "    starttime= os.stat(startfile).st_mtime + 7*3600\n",
    "    starttime = datetime.datetime.fromtimestamp(starttime)\n",
    "    \n",
    "    #endtime = os.path.getctime(endfile)\n",
    "    endtime= os.stat(endfile).st_mtime + 7*3600\n",
    "    endtime = datetime.datetime.fromtimestamp(endtime)\n",
    "    \n",
    "    return starttime, endtime"
   ]
  },
  {
   "cell_type": "code",
   "execution_count": 6,
   "metadata": {},
   "outputs": [],
   "source": [
    "def plotnow_azrevsig(data, az, chan, var, jump=180., minmax=None,return_map=False):\n",
    "    #flp=select_h5(fpath,yrmoday,st_hour,st_minute,ed_hour,ed_minute)\n",
    "    #fld_demod, fld =select_dat(fpath,yrmoday,st_hour,st_minute,ed_hour,ed_minute)\n",
    "    #i=0\n",
    "    #while len(flp)<3:\n",
    "    #\ti+=1\n",
    "    #\tflp=select_h5(fpath,yrmoday,st_hour,int(st_minute)-i,ed_hour,int(ed_minute)+i)\n",
    "\n",
    "    #pp=rt.get_h5_pointing(flp)\n",
    "    ##dd=get_demodulated_data_from_list(fld,supply_index=supply_index)\n",
    "    #dd=rt.get_all_demodulated_data(fld_demod, fld)\n",
    "    #combined=rt.combine_cofe_h5_pointing(dd,pp)\n",
    "\n",
    "    #synchronized data and az values\n",
    "    az1 = az*1\n",
    "    data1 = data*1\n",
    "    steps = len(data1)\n",
    "\n",
    "    #convert to temp for cryo sensors\n",
    "    if chan == 12:\n",
    "        data1 = convert.convert(data1, 'i')\n",
    "    if chan == 13:\n",
    "        data1 = convert.convert(data1, 'e')\n",
    "    if chan == 14:\n",
    "        data1 = convert.convert(data1, 'h')\n",
    "    if chan == 15:\n",
    "        data1 = convert.convert(data1, 'l')\n",
    "\n",
    "    #resolution\n",
    "    dx = 1.0\n",
    "    dy = 1.0\n",
    "\n",
    "    #set up empty lists to append each revolution to\n",
    "    data = []\n",
    "    az = []\n",
    "    iaz = [0]\n",
    "    rev = 0\n",
    "\n",
    "    #determine indices in azimuth/data array which correspond to a new revolution of the telescope\n",
    "    for i in range(steps):\n",
    "        #round values to resolution for comparison later\n",
    "        az1[i] = rt.round_fraction(az1[i], dx)\n",
    "        if i > 0:\n",
    "            if abs(az1[i] - az1[i-1]) >= jump:\n",
    "                iaz.append(i)\n",
    "                rev += 1\n",
    "\n",
    "    #append each revolution array to a list\t    \n",
    "    for j in range(rev):\n",
    "        az.append(az1[iaz[j]:iaz[j+1]])\n",
    "        data.append(data1[iaz[j]:iaz[j+1]])\n",
    "\n",
    "    #append the last revolution\n",
    "    data.append(data1[iaz[-1]:])\n",
    "    az.append(az1[iaz[-1]:])\n",
    "    rev += 1\n",
    "\n",
    "    print rev\n",
    "\n",
    "    data = np.asarray(data)\n",
    "    az = np.asarray(az)\n",
    "\n",
    "    #create grid for plotting\n",
    "    x, y = np.arange(0., 360.+dx, dx), np.arange(0., rev - 1 + dy, dy)\n",
    "    AZ, REV = np.meshgrid(x, y)\n",
    "\n",
    "    #set up empty array\n",
    "    z = np.zeros(len(x)*len(y))\n",
    "    sig = np.reshape(z, (len(y), len(x)))\n",
    "\n",
    "    #small number for comparing floats\n",
    "    epsilon = dx\n",
    "\n",
    "    #fill signal array with data points\n",
    "    for r in range(rev):\n",
    "        for a in range(len(x)):\n",
    "            #find indices where combined azimuth data fits on x grid\n",
    "            idx = np.where(abs(az[r] - x[a]) < epsilon)[0]\n",
    "            #if idx length is 0 this will create a mask on that point, in idx len > 1, avg data points in the same bin\n",
    "            sig[r][a] = data[r][idx].mean()\n",
    "\n",
    "    #mask invalid values, i.e. where there are no data points\n",
    "    sig = ma.masked_invalid(sig)\n",
    "\n",
    "    #change units on plot label\n",
    "    if int(chan[2:]) < 12:\n",
    "        unit = 'V'\n",
    "    else:\n",
    "        unit = 'K' \n",
    "\n",
    "    name = rt.chantoname(chan)\n",
    "    \n",
    "    if return_map:\n",
    "        return sig, AZ, REV\n",
    "    else:\n",
    "\n",
    "        plt.pcolormesh(AZ, REV, sig, cmap='jet')\n",
    "        plt.colorbar(label = 'Signal, %s' % unit)\n",
    "        if minmax != None:\n",
    "            plt.clim(minmax[0],minmax[1])\n",
    "        else:  \n",
    "            plt.clim(data1.min(),data1.max())    #plt.clim(-1.0,1.0)\n",
    "        plt.axis([0., 360., 0., rev - 1])\n",
    "        plt.ylabel('revolution #')\n",
    "        plt.xlabel('azimuth (deg)')\n",
    "        plt.title('%s %s' % (name, var))\n",
    "        plt.grid()\n",
    "        plt.show()"
   ]
  },
  {
   "cell_type": "code",
   "execution_count": 7,
   "metadata": {},
   "outputs": [],
   "source": [
    "def plotnow_azelsig(data, az, el, chan, var, res, minmax=None, radec=False, supply_index=False):\n",
    "    #flp=select_h5(fpath,yrmoday,st_hour,st_minute,ed_hour,ed_minute)\n",
    "    #fld_demod, fld =select_dat(fpath,yrmoday,st_hour,st_minute,ed_hour,ed_minute)\n",
    "    #i=0\n",
    "    #while len(flp)<3:\n",
    "    #\ti+=1\n",
    "    #\tflp=select_h5(fpath,yrmoday,st_hour,int(st_minute)-i,ed_hour,int(ed_minute)+i)\n",
    "\n",
    "    #pp=get_h5_pointing(flp)\n",
    "    ##dd=get_demodulated_data_from_list(fld,supply_index=supply_index)\n",
    "    #dd=get_all_demodulated_data(fld_demod, fld)\t\n",
    "    #combined=combine_cofe_h5_pointing(dd,pp)\n",
    "\n",
    "    #synchronized data az and el values\n",
    "    az1, el1 = az, el\n",
    "    data = data\n",
    "\n",
    "    #convert to temp for cryo sensors\n",
    "    if chan == 12:\n",
    "        data = convert.convert(data, 'i')\n",
    "    if chan == 13:\n",
    "        data = convert.convert(data, 'e')\n",
    "    if chan == 14:\n",
    "        data = convert.convert(data, 'h')\n",
    "    if chan == 15:\n",
    "        data = convert.convert(data, 'l')\n",
    "\n",
    "    steps = len(data)\n",
    "\n",
    "    #set az/el resolution\n",
    "    dx = res\n",
    "    dy = res\n",
    "\n",
    "    #set up bins/grid\n",
    "    if radec:\n",
    "        x, y = np.arange(0., 360.+dx, dx), np.arange(-90., 90. + dy, dy)\n",
    "    else:\n",
    "        x, y = np.arange(0., 360.+dx, dx), np.arange(0., 90. + dy, dy)\n",
    "    AZ, EL = np.meshgrid(x, y)\n",
    "\n",
    "    #small number for comparing floats\n",
    "    epsilon = 1e-6\n",
    "\n",
    "    #set up matrix for signal \n",
    "    z1 = np.zeros(len(x)*len(y))\n",
    "    sig = np.reshape(z1, (len(y), len(x)))\n",
    "\n",
    "    #set up matrix for keeping track of data points in single bin for averaging\n",
    "    z2 = np.zeros(len(x)*len(y))\n",
    "    count = np.reshape(z2, (len(y), len(x)))\n",
    "\n",
    "    for i in range(steps):\n",
    "\n",
    "        #round az/el points for comparison with grid\t    \n",
    "        el1[i] = rt.round_fraction(el1[i], dy)\n",
    "        az1[i] = rt.round_fraction(az1[i], dx)  \n",
    "\n",
    "        #find where data points belong in grid\n",
    "        iel = np.where(abs(y - el1[i]) < epsilon)[0][0]\n",
    "        iaz = np.where(abs(x - az1[i]) < epsilon)[0][0]\n",
    "\n",
    "        #add 1 each time data point lands in same bin\n",
    "        count[iel][iaz] += 1\n",
    "\n",
    "        #add total number of data values in bin\n",
    "        sig[iel][iaz] = sig[iel][iaz] + data[i]  \n",
    "\n",
    "    #mask 0 count values so they dont show up in color plot\n",
    "    count = ma.masked_where(count == 0.0, count)\n",
    "\n",
    "    #take average of all data points in single bin\n",
    "    sig = sig/count\n",
    "    \n",
    "    try:\n",
    "        #change units on plot label\n",
    "        if int(chan[2:]) < 12:\n",
    "            unit = 'V'\n",
    "        else:\n",
    "            unit = 'K' \n",
    "            \n",
    "        name = rt.chantoname(chan)\n",
    "    except:\n",
    "        unit = 'C'\n",
    "        name = chan\n",
    "\n",
    "    \n",
    "\n",
    "    plt.pcolormesh(AZ, EL, sig, cmap='jet')\n",
    "    plt.colorbar(label = 'Signal, %s' % unit)\n",
    "    if minmax != None:\n",
    "        plt.clim(minmax[0],minmax[1])\n",
    "    else:  \n",
    "        plt.clim(data.min(),data.max())\n",
    "    if radec == False:\n",
    "        plt.axis([AZ.min(), AZ.max(), EL.min(), EL.max()])\n",
    "        plt.ylabel('elevation (deg)')\n",
    "        plt.xlabel('azimuth (deg)')\n",
    "    else:\n",
    "        plt.axis([0., 360., -90, 90.])\n",
    "        plt.xlabel('ra (deg)')\n",
    "        plt.ylabel('dec (deg)')\n",
    "    plt.title('%s %s data binned to azimuth and elevation' % (name, var))\n",
    "    plt.grid()\n",
    "    plt.show()"
   ]
  },
  {
   "cell_type": "code",
   "execution_count": 8,
   "metadata": {},
   "outputs": [],
   "source": [
    "def fix_pointing(data, az):\n",
    "\n",
    "    az1 = az*1\n",
    "    data1 = data*1\n",
    "    steps = len(data1)\n",
    "\n",
    "    #set up empty lists to append each revolution to\n",
    "    data = []\n",
    "    az = []\n",
    "    iaz = [0]\n",
    "    rev = 0\n",
    "\n",
    "    #determine indices in azimuth/data array which correspond to a new revolution of the telescope\n",
    "    for i in range(steps):\n",
    "        if i > 0:\n",
    "            if abs(az1[i] - az1[i-1]) >= 180.:\n",
    "                iaz.append(i)\n",
    "                rev += 1\n",
    "\n",
    "    #append each revolution array to a list\t    \n",
    "    for j in range(rev):\n",
    "        az.append(az1[iaz[j]:iaz[j+1]])\n",
    "        data.append(data1[iaz[j]:iaz[j+1]])\n",
    "\n",
    "    #append the last revolution\n",
    "    data.append(data1[iaz[-1]:])\n",
    "    az.append(az1[iaz[-1]:])\n",
    "    rev += 1\n",
    "\n",
    "    print rev\n",
    "    \n",
    "    data, az = np.asarray(data), np.asarray(az)\n",
    "    \n",
    "    return data, az"
   ]
  },
  {
   "cell_type": "code",
   "execution_count": 9,
   "metadata": {},
   "outputs": [],
   "source": [
    "def fix_time(ut, maxjump):\n",
    "    ijump = np.where(np.diff(ut/3600.)>maxjump)[0]\n",
    "    ut_corrected = ut*1\n",
    "    for i in ijump:\n",
    "        diff = ut[i+1]-ut[i]\n",
    "        ut_corrected[i+1:] = ut_corrected[i+1:]-diff\n",
    "    \n",
    "    dt_corrected = []\n",
    "    for u in ut_corrected:\n",
    "         dt_corrected.append(datetime.datetime.fromtimestamp(u))\n",
    "        \n",
    "    return dt_corrected, ut_corrected"
   ]
  },
  {
   "cell_type": "code",
   "execution_count": 42,
   "metadata": {},
   "outputs": [],
   "source": [
    "ddict={}"
   ]
  },
  {
   "cell_type": "code",
   "execution_count": 44,
   "metadata": {},
   "outputs": [
    {
     "name": "stderr",
     "output_type": "stream",
     "text": [
      "C:\\Users\\akkap\\anaconda3\\envs\\py27\\lib\\site-packages\\ipykernel_launcher.py:15: H5pyDeprecationWarning: The default file mode will change to 'r' (read-only) in h5py 3.0. To suppress this warning, pass the mode you need to h5py.File(), or set the global default h5.get_config().default_file_mode, or set the environment variable H5PY_DEFAULT_READONLY=1. Available modes are: 'r', 'r+', 'w', 'w-'/'x', 'a'. See the docs for details.\n",
      "  from ipykernel import kernelapp as app\n"
     ]
    }
   ],
   "source": [
    "dd, fld = read_some_data(days=1)"
   ]
  },
  {
   "cell_type": "code",
   "execution_count": 45,
   "metadata": {},
   "outputs": [],
   "source": [
    "flp = get_pointing_files(days=1)"
   ]
  },
  {
   "cell_type": "code",
   "execution_count": 46,
   "metadata": {},
   "outputs": [],
   "source": [
    "pp = rt.get_h5_pointing(flp)"
   ]
  },
  {
   "cell_type": "code",
   "execution_count": 47,
   "metadata": {},
   "outputs": [],
   "source": [
    "combined = rt.combine_cofe_h5_pointing(dd, pp)"
   ]
  },
  {
   "cell_type": "code",
   "execution_count": 48,
   "metadata": {},
   "outputs": [],
   "source": [
    "#lvl1f=h5py.File('D:/software_git_repos/greenpol/telescope_control/data_aquisition/level1/20180510/ch1-10_34_06-15_56_00.h5')['data']"
   ]
  },
  {
   "cell_type": "code",
   "execution_count": 49,
   "metadata": {},
   "outputs": [],
   "source": [
    "starttime, endtime = get_file_times(fld)\n",
    "dt , ut= rt.convert_gpstime(starttime, combined['gpstime']/1000, format='datetime')"
   ]
  },
  {
   "cell_type": "code",
   "execution_count": 50,
   "metadata": {},
   "outputs": [],
   "source": [
    "dt, ut = fix_time(ut, maxjump=2)"
   ]
  },
  {
   "cell_type": "code",
   "execution_count": 51,
   "metadata": {},
   "outputs": [
    {
     "data": {
      "text/plain": [
       "[<matplotlib.lines.Line2D at 0x536af8c8>]"
      ]
     },
     "execution_count": 51,
     "metadata": {},
     "output_type": "execute_result"
    }
   ],
   "source": [
    "plt.figure()\n",
    "plt.plot((ut-ut[0])/3600.)"
   ]
  },
  {
   "cell_type": "code",
   "execution_count": 52,
   "metadata": {},
   "outputs": [],
   "source": [
    "az, el = combined['az'], combined['el']"
   ]
  },
  {
   "cell_type": "code",
   "execution_count": 53,
   "metadata": {},
   "outputs": [
    {
     "data": {
      "text/plain": [
       "['el',\n",
       " 'Phidget Temp',\n",
       " 'Cooler',\n",
       " 'flag',\n",
       " 'az',\n",
       " 'gpstime',\n",
       " 'sci_data',\n",
       " 'Calibrator',\n",
       " 'Amplifier',\n",
       " 'x tilt',\n",
       " 'y tilt',\n",
       " 'Backend TSS']"
      ]
     },
     "execution_count": 53,
     "metadata": {},
     "output_type": "execute_result"
    }
   ],
   "source": [
    "combined.keys()"
   ]
  },
  {
   "cell_type": "code",
   "execution_count": 54,
   "metadata": {},
   "outputs": [],
   "source": [
    "chan = 'H3HiAC'\n",
    "var = 'T'\n",
    "data = combined['sci_data'][rt.nametochan(chan)][var]"
   ]
  },
  {
   "cell_type": "code",
   "execution_count": 55,
   "metadata": {},
   "outputs": [
    {
     "name": "stdout",
     "output_type": "stream",
     "text": [
      "440\n"
     ]
    },
    {
     "name": "stderr",
     "output_type": "stream",
     "text": [
      "C:\\Users\\akkap\\anaconda3\\envs\\py27\\lib\\site-packages\\ipykernel_launcher.py:80: RuntimeWarning: Mean of empty slice.\n"
     ]
    }
   ],
   "source": [
    "sig, AZ, REV = plotnow_azrevsig(data, az, rt.nametochan(chan), var, jump=40., minmax = None, return_map=True)"
   ]
  },
  {
   "cell_type": "code",
   "execution_count": 56,
   "metadata": {},
   "outputs": [
    {
     "data": {
      "text/plain": [
       "<matplotlib.colorbar.Colorbar at 0x52537048>"
      ]
     },
     "execution_count": 56,
     "metadata": {},
     "output_type": "execute_result"
    }
   ],
   "source": [
    "plt.figure()\n",
    "vmin = -0.2\n",
    "vmax = 0#data.max()\n",
    "plt.imshow(sig, vmin = vmin, vmax = vmax, cmap='jet', origin='lower', aspect='auto')\n",
    "plt.xlabel('azimuth (deg)')\n",
    "plt.ylabel('revolution #')\n",
    "plt.title('%s %s data ' % (chan, var))\n",
    "plt.grid()\n",
    "plt.colorbar(label = 'Signal, V')"
   ]
  },
  {
   "cell_type": "code",
   "execution_count": 93,
   "metadata": {},
   "outputs": [
    {
     "name": "stdout",
     "output_type": "stream",
     "text": [
      "426\n"
     ]
    },
    {
     "name": "stderr",
     "output_type": "stream",
     "text": [
      "C:\\Users\\akkap\\anaconda3\\envs\\py27\\lib\\site-packages\\ipykernel_launcher.py:80: RuntimeWarning: Mean of empty slice.\n"
     ]
    }
   ],
   "source": [
    "figure()\n",
    "plotnow_azrevsig(data, az, rt.nametochan(chan), var, jump=180., minmax = [-0.2, 0.0])"
   ]
  },
  {
   "cell_type": "code",
   "execution_count": 24,
   "metadata": {},
   "outputs": [
    {
     "name": "stderr",
     "output_type": "stream",
     "text": [
      "C:\\Users\\akkap\\anaconda3\\envs\\py27\\lib\\site-packages\\ipykernel_launcher.py:72: RuntimeWarning: invalid value encountered in divide\n"
     ]
    }
   ],
   "source": [
    "figure()\n",
    "plotnow_azelsig(data, az, el, rt.nametochan(chan), var, 0.1, radec=False, minmax = [data.min(), data.max()])"
   ]
  },
  {
   "cell_type": "code",
   "execution_count": 94,
   "metadata": {},
   "outputs": [],
   "source": [
    "utabs = ut - ut[0]\n",
    "utmin = 66.*60\n",
    "utmax = 298.*60\n",
    "azmin = 164.\n",
    "azmax = 258.\n",
    "\n",
    "idata = data[(az>azmin) & (az<azmax) & (utabs<utmax) & (utabs>utmin)]\n",
    "iut = ut[(az>azmin) & (az<azmax) & (utabs<utmax) & (utabs>utmin)]\n",
    "#idt = dt[(az>azmin) & (az<azmax) & (utabs<utmax) & (utabs>utmin)]\n",
    "iaz = az[(az>azmin) & (az<azmax) & (utabs<utmax) & (utabs>utmin)]\n",
    "iel = el[(az>azmin) & (az<azmax) & (utabs<utmax) & (utabs>utmin)]"
   ]
  },
  {
   "cell_type": "code",
   "execution_count": 95,
   "metadata": {},
   "outputs": [
    {
     "name": "stdout",
     "output_type": "stream",
     "text": [
      "189\n"
     ]
    },
    {
     "name": "stderr",
     "output_type": "stream",
     "text": [
      "C:\\Users\\akkap\\anaconda3\\envs\\py27\\lib\\site-packages\\ipykernel_launcher.py:80: RuntimeWarning: Mean of empty slice.\n"
     ]
    }
   ],
   "source": [
    "lim=0.2\n",
    "sig, AZ, REV = plotnow_azrevsig(idata[abs(idata)<lim], iaz[abs(idata)<lim], rt.nametochan(chan), var, jump=40., minmax = None, return_map=True)\n",
    "#sig, AZ, REV = plotnow_azrevsig(data, az, rt.nametochan(chan), var, jump=40., minmax = None, return_map=True)"
   ]
  },
  {
   "cell_type": "code",
   "execution_count": 96,
   "metadata": {},
   "outputs": [
    {
     "name": "stdout",
     "output_type": "stream",
     "text": [
      "189\n"
     ]
    }
   ],
   "source": [
    "print len(REV)\n",
    "slaz2 = []\n",
    "slrev2 = []\n",
    "slsig2 = []\n",
    "for r in range(len(REV)):\n",
    "    slaz2.append(AZ[0][sig[r] == sig[r].min()])\n",
    "    slrev2.append(r+1)\n",
    "    slsig2.append(sig[r].min())\n",
    "slaz2 = np.asarray(slaz2).flatten()\n",
    "slrev2 = np.asarray(slrev2).flatten()\n",
    "slsig2 = np.asarray(slsig2).flatten()"
   ]
  },
  {
   "cell_type": "code",
   "execution_count": 97,
   "metadata": {},
   "outputs": [],
   "source": [
    "idiff2 = np.where(abs(np.diff(slaz2))<=4.5)[0]\n",
    "slaz2 = slaz2[idiff2][2:]\n",
    "slrev2 = slrev2[idiff2][2:]\n",
    "slsig2 = slsig2[idiff2][2:] \n",
    "slaz2 = savgol_filter(slaz2, 51, 3)"
   ]
  },
  {
   "cell_type": "code",
   "execution_count": 98,
   "metadata": {},
   "outputs": [
    {
     "data": {
      "text/plain": [
       "[<matplotlib.lines.Line2D at 0x3c5cf848>]"
      ]
     },
     "execution_count": 98,
     "metadata": {},
     "output_type": "execute_result"
    }
   ],
   "source": [
    "plt.figure()\n",
    "plt.plot(slaz2, slrev2)"
   ]
  },
  {
   "cell_type": "code",
   "execution_count": 100,
   "metadata": {},
   "outputs": [
    {
     "data": {
      "text/plain": [
       "<matplotlib.colorbar.Colorbar at 0x541fdcc8>"
      ]
     },
     "execution_count": 100,
     "metadata": {},
     "output_type": "execute_result"
    }
   ],
   "source": [
    "plt.figure()\n",
    "vmin = -0.2\n",
    "vmax = 0#data.max()\n",
    "#plt.subplot(1,2,1)\n",
    "plt.plot(slaz2, slrev2, 'k-', linewidth=3)\n",
    "plt.imshow(sig, vmin = vmin, vmax = vmax, cmap='jet', origin='lower', aspect='auto')\n",
    "plt.xlabel('azimuth (deg)')\n",
    "plt.ylabel('revolution #')\n",
    "plt.title('%s %s data ' % (chan, var))\n",
    "plt.grid()\n",
    "plt.colorbar(label = 'Signal, V')"
   ]
  },
  {
   "cell_type": "code",
   "execution_count": 105,
   "metadata": {},
   "outputs": [],
   "source": [
    "azsun_interp = np.interp(slrev2, times*60, azsun)\n",
    "elsun_interp = np.interp(slrev2, times*60, elsun)\n",
    "\n",
    "azmoon_interp = np.interp(slrev2, times*60, azmoon)\n",
    "elmoon_interp = np.interp(slrev2, times*60, elmoon)"
   ]
  },
  {
   "cell_type": "code",
   "execution_count": 107,
   "metadata": {},
   "outputs": [],
   "source": [
    "suncoord = SkyCoord(az = azsun_interp, alt = elsun_interp, frame = 'altaz', unit='deg')\n",
    "mooncoord = SkyCoord(az = azmoon_interp, alt = elmoon_interp, frame = 'altaz', unit='deg')\n",
    "\n",
    "slcoord = SkyCoord(az = slaz2, alt = 70., frame = 'altaz', unit='deg')\n",
    "\n",
    "angdiff_sun = slcoord.separation(suncoord).deg\n",
    "angdiff_moon = slcoord.separation(mooncoord).deg\n",
    "#suncoord = SkyCoord(azsun_interp, elsun_interp, frame='altaz')"
   ]
  },
  {
   "cell_type": "code",
   "execution_count": 108,
   "metadata": {},
   "outputs": [
    {
     "name": "stdout",
     "output_type": "stream",
     "text": [
      "-43.503672170271834\n"
     ]
    }
   ],
   "source": [
    "sigmean = slsig2.mean()*-1.47\n",
    "Tsun = 6000\n",
    "ratio = sigmean/Tsun\n",
    "db = 10*np.log10(ratio)\n",
    "print db"
   ]
  },
  {
   "cell_type": "code",
   "execution_count": 113,
   "metadata": {},
   "outputs": [],
   "source": [
    "plt.figure()\n",
    "plt.plot(angdiff_sun, slrev2, label='day2')\n",
    "#plt.plot(angdiff2, slrev2, label='day 1')\n",
    "plt.ylabel('rev #')\n",
    "plt.xlabel('angular seperation (deg)')\n",
    "plt.title('sun-sidelobe angular separation, signal brightness = %.2f dB' % db)\n",
    "plt.legend()\n",
    "plt.grid()"
   ]
  },
  {
   "cell_type": "code",
   "execution_count": 577,
   "metadata": {},
   "outputs": [
    {
     "data": {
      "text/plain": [
       "<matplotlib.legend.Legend at 0x404efd88>"
      ]
     },
     "execution_count": 577,
     "metadata": {},
     "output_type": "execute_result"
    }
   ],
   "source": [
    "plt.figure()\n",
    "plt.plot(np.full(len(slrev), 70.), slrev, label='scan elevation')\n",
    "plt.plot(elsun_interp2, slrev2, label='sun elevation')\n",
    "plt.xlabel('el (deg)')\n",
    "plt.ylabel('rev #')\n",
    "#plt.title('sun elevation during const el=70 deg scan')\n",
    "plt.grid()\n",
    "plt.legend()"
   ]
  },
  {
   "cell_type": "code",
   "execution_count": 345,
   "metadata": {},
   "outputs": [],
   "source": [
    "plt.figure()\n",
    "plt.plot(slaz, slrev, label='sidelobe az')\n",
    "\n",
    "plt.plot(azsun_interp, slrev, label='sun az')\n",
    "plt.xlabel('az (deg)')\n",
    "plt.ylabel('rev #')\n",
    "plt.title('Constant elevation scan at el=70 deg')\n",
    "plt.legend()\n",
    "plt.grid()"
   ]
  },
  {
   "cell_type": "code",
   "execution_count": 373,
   "metadata": {},
   "outputs": [
    {
     "data": {
      "text/plain": [
       "[<matplotlib.lines.Line2D at 0x355a7f48>]"
      ]
     },
     "execution_count": 373,
     "metadata": {},
     "output_type": "execute_result"
    }
   ],
   "source": [
    "plt.figure()\n",
    "plt.plot(slaz, slrev, 'k-', linewidth=3)"
   ]
  },
  {
   "cell_type": "code",
   "execution_count": 483,
   "metadata": {},
   "outputs": [
    {
     "data": {
      "text/plain": [
       "<matplotlib.colorbar.Colorbar at 0x3204dc48>"
      ]
     },
     "execution_count": 483,
     "metadata": {},
     "output_type": "execute_result"
    }
   ],
   "source": [
    "plt.figure()\n",
    "vmin = -0.2\n",
    "vmax = 0#data.max()\n",
    "#plt.subplot(1,2,1)\n",
    "#plt.plot(slaz2, slrev2, 'k-', linewidth=3)\n",
    "plt.imshow(sig, vmin = vmin, vmax = vmax, cmap='jet', origin='lower', aspect='auto')\n",
    "plt.xlabel('azimuth (deg)')\n",
    "plt.ylabel('revolution #')\n",
    "plt.title('%s %s data ' % (chan, var))\n",
    "plt.grid()\n",
    "plt.colorbar(label = 'Signal, V')"
   ]
  },
  {
   "cell_type": "code",
   "execution_count": 102,
   "metadata": {},
   "outputs": [
    {
     "name": "stderr",
     "output_type": "stream",
     "text": [
      "C:\\Users\\akkap\\anaconda3\\envs\\py27\\lib\\site-packages\\ipykernel_launcher.py:4: DeprecationWarning: object of type <type 'float'> cannot be safely interpreted as an integer.\n",
      "  after removing the cwd from sys.path.\n",
      "WARNING: AstropyDeprecationWarning: The longitude property is deprecated and may be removed in a future version.\n",
      "        Use `lon` instead. [astropy.utils.decorators]\n",
      "WARNING: AstropyDeprecationWarning: The latitude property is deprecated and may be removed in a future version.\n",
      "        Use `lat` instead. [astropy.utils.decorators]\n"
     ]
    }
   ],
   "source": [
    "hours = len(REV)/60.\n",
    "sph = 60\n",
    "samples = hours*sph\n",
    "times = np.linspace(0, hours, samples)\n",
    "starttime = datetime.datetime.fromtimestamp(iut[0])#datetime.datetime(2020, 10, 7, 5, 5, 0)#datetime.datetime.utcnow()\n",
    "\n",
    "azsun = []\n",
    "elsun = []\n",
    "azmoon = []\n",
    "elmoon = []\n",
    "#tsun = []\n",
    "\n",
    "target = 'Sun'\n",
    "target2 = 'Moon'\n",
    "\n",
    "for t in times:\n",
    "    deltaT = starttime+timedelta(0, t*3600.)\n",
    "    azs, els = getpointing('Sedgwick', target, deltaT)\n",
    "    azsun.append(azs)\n",
    "    elsun.append(els)\n",
    "    #tsun.append(time.mktime(deltaT.timetuple()))\n",
    "    azm, elm = getpointing('Sedgwick', target2, deltaT)\n",
    "    azmoon.append(azm)\n",
    "    elmoon.append(elm)\n",
    "    \n",
    "azsun = np.asarray(azsun)\n",
    "elsun = np.asarray(elsun)\n",
    "#tsun = np.asarray(tsun)\n",
    "#azsun = np.interp(np.arange(len(REV)), )\n",
    "azmoon = np.asarray(azmoon)\n",
    "elmoon = np.asarray(elmoon)"
   ]
  },
  {
   "cell_type": "code",
   "execution_count": 86,
   "metadata": {},
   "outputs": [
    {
     "name": "stdout",
     "output_type": "stream",
     "text": [
      "0.642000198364\n",
      "33.0609998703\n"
     ]
    }
   ],
   "source": [
    " \n",
    "location = getlocation('Sedgwick')\n",
    "\n",
    "t1 = time.time()\n",
    "#create ra dec sky object\n",
    "azel = SkyCoord(az = az, alt = el, obstime = dt, location = location, frame = 'altaz', unit='deg')\n",
    "t2 = time.time()\n",
    "print t2-t1\n",
    "with warnings.catch_warnings():\n",
    "    warnings.simplefilter(\"ignore\")\n",
    "    #convert from ra dec to az/el for pointing\n",
    "    radec = azel.icrs\n",
    "print time.time()-t2\n",
    "ra = radec.ra.deg\n",
    "dec = radec.dec.deg"
   ]
  },
  {
   "cell_type": "code",
   "execution_count": 11,
   "metadata": {},
   "outputs": [
    {
     "name": "stdout",
     "output_type": "stream",
     "text": [
      "28.9440277778 230.28475\n"
     ]
    }
   ],
   "source": [
    "#azsuntrue, altsuntrue = getpointing('UCSB', 'Sun', datetime.datetime.fromtimestamp(time.time()))\n",
    "azsuntrue, altsuntrue = getpointing('UCSB', 'Sun', datetime.datetime.utcnow())\n",
    "\n",
    "print altsuntrue, azsuntrue"
   ]
  },
  {
   "cell_type": "code",
   "execution_count": 36,
   "metadata": {
    "collapsed": true
   },
   "outputs": [],
   "source": [
    "cra = 15*(5 + (34./60.) + (31.94/3600.))\n",
    "cdec = 22 + (52.2/3600.)\n",
    "\n",
    "caz, cel = planets.radec_to_azel(cra, cdec, 'UCSB', datetime.datetime.utcnow())"
   ]
  },
  {
   "cell_type": "code",
   "execution_count": 31,
   "metadata": {},
   "outputs": [
    {
     "name": "stdout",
     "output_type": "stream",
     "text": [
      "22.0145 83.6330833333\n",
      "52.1944601993 98.1316757854\n"
     ]
    }
   ],
   "source": [
    "print cdec, cra\n",
    "print cel, caz"
   ]
  },
  {
   "cell_type": "code",
   "execution_count": 41,
   "metadata": {},
   "outputs": [
    {
     "name": "stderr",
     "output_type": "stream",
     "text": [
      "C:\\Users\\akkap\\anaconda3\\envs\\py27\\lib\\site-packages\\ipykernel_launcher.py:4: DeprecationWarning: object of type <type 'float'> cannot be safely interpreted as an integer.\n",
      "  after removing the cwd from sys.path.\n"
     ]
    }
   ],
   "source": [
    "hours = len(REV)/60.\n",
    "sph = 60\n",
    "samples = hours*sph\n",
    "times = np.linspace(0, hours, samples)\n",
    "starttime = dt[0]#datetime.datetime(2020, 10, 7, 5, 5, 0)#datetime.datetime.utcnow()\n",
    "\n",
    "azsun = []\n",
    "elsun = []\n",
    "azmoon = []\n",
    "elmoon = []\n",
    "\n",
    "target = 'Venus'\n",
    "\n",
    "for t in times:\n",
    "    azs, els = getpointing('Sedgwick', target, starttime+timedelta(0, t*3600.))\n",
    "    azsun.append(azs)\n",
    "    elsun.append(els)\n",
    "    #azm, elm = getpointing('UCSB', [cra, cdec, 'RADEC'], datetime.datetime.utcnow()+timedelta(0, t*3600.))\n",
    "    #azmoon.append(azm)\n",
    "    #elmoon.append(elm)\n",
    "    \n",
    "azsun = np.asarray(azsun)\n",
    "elsun = np.asarray(elsun)\n",
    "#azmoon = np.asarray(azmoon)\n",
    "#elmoon = np.asarray(elmoon)"
   ]
  },
  {
   "cell_type": "code",
   "execution_count": 42,
   "metadata": {},
   "outputs": [
    {
     "data": {
      "text/plain": [
       "\"\\nfigure()\\ndist = np.sqrt((((azsun - azmoon)**2) + ((elsun - elmoon)**2))) \\nplot(times, dist, 'r-',label='distance')\\ntitle('sun/moon distance apart')\\nxlabel('time (hours)')\\nylabel('distance (deg)')\\nlegend()\\n\""
      ]
     },
     "execution_count": 42,
     "metadata": {},
     "output_type": "execute_result"
    }
   ],
   "source": [
    "figure()\n",
    "plot(elsun, times, 'r-',label=target)\n",
    "#plot(times, elmoon, 'b-',label='moon')\n",
    "title('%s el' % target)\n",
    "xlabel('time (hours)')\n",
    "ylabel('el (deg)')\n",
    "legend()\n",
    "\n",
    "figure()\n",
    "plot(azsun, times, 'r-',label=target)\n",
    "#plot(times, azmoon, 'b-',label='moon')\n",
    "title('%s az' % target)\n",
    "xlabel('time (hours)')\n",
    "ylabel('az (deg)')\n",
    "legend()\n",
    "'''\n",
    "figure()\n",
    "dist = np.sqrt((((azsun - azmoon)**2) + ((elsun - elmoon)**2))) \n",
    "plot(times, dist, 'r-',label='distance')\n",
    "title('sun/moon distance apart')\n",
    "xlabel('time (hours)')\n",
    "ylabel('distance (deg)')\n",
    "legend()\n",
    "'''"
   ]
  },
  {
   "cell_type": "code",
   "execution_count": 154,
   "metadata": {},
   "outputs": [
    {
     "name": "stdout",
     "output_type": "stream",
     "text": [
      "83.6330833333 22.0145\n",
      "268.305836314 23.6730372224\n"
     ]
    }
   ],
   "source": [
    "ra = (5. + 34./60. + 31.94/3600.)*360./24.\n",
    "dec = 22 + 52.2/3600.\n",
    "\n",
    "azt, elt = planets.radec_to_azel(ra, dec, 'Greenland', datetime.datetime.utcnow())\n",
    "\n",
    "\n",
    "print ra, dec\n",
    "print azt, elt"
   ]
  },
  {
   "cell_type": "code",
   "execution_count": 28,
   "metadata": {},
   "outputs": [
    {
     "name": "stderr",
     "output_type": "stream",
     "text": [
      "C:\\Users\\akkap\\anaconda3\\envs\\py27\\lib\\site-packages\\ipykernel_launcher.py:7: DeprecationWarning: object of type <type 'float'> cannot be safely interpreted as an integer.\n",
      "  import sys\n"
     ]
    }
   ],
   "source": [
    "ra = (5. + 34./60. + 31.94/3600.)*360./24.\n",
    "dec = 22 + 52.2/3600.\n",
    "\n",
    "hours = len(REV)/60.\n",
    "sph = 60\n",
    "samples = hours*sph\n",
    "times = np.linspace(0., hours, samples)\n",
    "\n",
    "aztau = []\n",
    "eltau = []\n",
    "\n",
    "for t in times:\n",
    "    #azt, elt = getpointing('Greenland', [ra, dec, 'RADEC'], datetime.datetime.utcnow()+timedelta(0, t*3600.))\n",
    "    azt, elt = planets.radec_to_azel(ra, dec, 'Sedgwick', dt[0]+timedelta(0, t*3600.))\n",
    "    aztau.append(azt)\n",
    "    eltau.append(elt)"
   ]
  },
  {
   "cell_type": "code",
   "execution_count": 31,
   "metadata": {},
   "outputs": [
    {
     "data": {
      "text/plain": [
       "\"\\nfigure()\\ndist = np.sqrt((((azsun - aztau)**2) + ((elsun - eltau)**2))) \\nplot(times, dist, 'r-',label=' tau/sun distance')\\nxlabel('time (hours)')\\nylabel('distance (deg)')\\n\\ndist2 = np.sqrt((((aztau - azmoon)**2) + ((eltau - elmoon)**2))) \\nplot(times, dist2, 'g-',label='tau/moon distance')\\nxlabel('time (hours)')\\nylabel('distance (deg)')\\nlegend()\\n\""
      ]
     },
     "execution_count": 31,
     "metadata": {},
     "output_type": "execute_result"
    }
   ],
   "source": [
    "figure()\n",
    "plot(aztau,times, 'g-')\n",
    "title('tau a az')\n",
    "ylabel('time (hours)')\n",
    "xlabel('az (deg)')\n",
    "\n",
    "figure()\n",
    "plot(eltau, times, 'g-')\n",
    "title('tau a el')\n",
    "ylabel('time (hours)')\n",
    "xlabel('el (deg)')\n",
    "\n",
    "'''\n",
    "figure()\n",
    "dist = np.sqrt((((azsun - aztau)**2) + ((elsun - eltau)**2))) \n",
    "plot(times, dist, 'r-',label=' tau/sun distance')\n",
    "xlabel('time (hours)')\n",
    "ylabel('distance (deg)')\n",
    "\n",
    "dist2 = np.sqrt((((aztau - azmoon)**2) + ((eltau - elmoon)**2))) \n",
    "plot(times, dist2, 'g-',label='tau/moon distance')\n",
    "xlabel('time (hours)')\n",
    "ylabel('distance (deg)')\n",
    "legend()\n",
    "'''"
   ]
  }
 ],
 "metadata": {
  "kernelspec": {
   "display_name": "Python 2",
   "language": "python",
   "name": "python2"
  },
  "language_info": {
   "codemirror_mode": {
    "name": "ipython",
    "version": 2
   },
   "file_extension": ".py",
   "mimetype": "text/x-python",
   "name": "python",
   "nbconvert_exporter": "python",
   "pygments_lexer": "ipython2",
   "version": "2.7.18"
  }
 },
 "nbformat": 4,
 "nbformat_minor": 2
}
