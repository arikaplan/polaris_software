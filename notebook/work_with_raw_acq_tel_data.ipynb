{
 "cells": [
  {
   "cell_type": "code",
   "execution_count": 1,
   "metadata": {
    "collapsed": false
   },
   "outputs": [
    {
     "name": "stdout",
     "output_type": "stream",
     "text": [
      "Using matplotlib backend: Qt4Agg\n",
      "Populating the interactive namespace from numpy and matplotlib\n"
     ]
    }
   ],
   "source": [
    "import sys\n",
    "sys.path.append('D:/software_git_repos/COFE_analysis/utils_meinhold/')\n",
    "sys.path.append('D:/software_git_repos/COFE_analysis/utils_zonca/')\n",
    "sys.path.append('D:/software_git_repos/greenpol/')\n",
    "sys.path.append('../telescope_control/VtoT')\n",
    "from glob import glob\n",
    "import time\n",
    "import cofe_util as cu\n",
    "import Tkinter,tkFileDialog\n",
    "root = Tkinter.Tk()\n",
    "from demod import datparsing\n",
    "%pylab"
   ]
  },
  {
   "cell_type": "code",
   "execution_count": 2,
   "metadata": {
    "collapsed": false
   },
   "outputs": [],
   "source": [
    "import realtime_gp as rt"
   ]
  },
  {
   "cell_type": "code",
   "execution_count": 3,
   "metadata": {
    "collapsed": true
   },
   "outputs": [],
   "source": [
    "root = Tkinter.Tk()"
   ]
  },
  {
   "cell_type": "code",
   "execution_count": 4,
   "metadata": {
    "collapsed": false
   },
   "outputs": [],
   "source": [
    "def load_raw_data(ffile=None,freq='10'):\n",
    "    '''\n",
    "    function to load raw data\n",
    "    '''\n",
    "    if ffile==None:\n",
    "        ffile = list(tkFileDialog.askopenfilenames(initialdir='C://Greenland/test_data_from_greenpol_1//data',parent=root,title='Choose a file'))\n",
    "    ffile.sort()\n",
    "    print(ffile) #,mode='rb'\n",
    "    d=datparsing.read_raw(ffile)\n",
    "    return(d)"
   ]
  },
  {
   "cell_type": "code",
   "execution_count": 5,
   "metadata": {
    "collapsed": false
   },
   "outputs": [],
   "source": [
    "import time"
   ]
  },
  {
   "cell_type": "code",
   "execution_count": 6,
   "metadata": {
    "collapsed": false
   },
   "outputs": [],
   "source": [
    "def load_and_prep_data(d_label='test'):\n",
    "    '''\n",
    "    script to load data set, spit out colormesh, then stack and store signal in dict\n",
    "    '''\n",
    "    now = time.strftime(\"%c\")\n",
    "    d=load_raw_data()\n",
    "    m=[]\n",
    "    #extract first a/d into an array and plot it\n",
    "    for dd in d:\n",
    "        m.append(dd[2])\n",
    "    p1=figure(10)\n",
    "    p1.clear()\n",
    "    pcolormesh(m)\n",
    "    title('Vibration test %s' %now )\n",
    "    stack=np.mean(m,axis=0)-np.mean(m)\n",
    "    p2=figure(11)\n",
    "    p2.clear()\n",
    "    plot(stack,label=d_label)\n",
    "    xlabel('Rotation position, 256/rev')\n",
    "    ylabel('Relative proximity reading, V')\n",
    "    title('Vibration test %s' %now )\n",
    "    legend()\n",
    "    return stack\n",
    "    "
   ]
  },
  {
   "cell_type": "code",
   "execution_count": 7,
   "metadata": {
    "collapsed": true
   },
   "outputs": [],
   "source": [
    "def get_raw_chan(rawdata,chan):\n",
    "    #function to extract data for channel chan from a previously read raw data set\n",
    "    chandata=[]\n",
    "    for rev in rawdata:\n",
    "        chandata.append(rev[2+chan])\n",
    "    chandata=np.array(np.concatenate(chandata))\n",
    "    return chandata\n",
    "        \n"
   ]
  },
  {
   "cell_type": "code",
   "execution_count": 9,
   "metadata": {
    "collapsed": false
   },
   "outputs": [
    {
     "name": "stdout",
     "output_type": "stream",
     "text": [
      "['D:/software_git_repos/greenpol/telescope_control/data_aquisition/data/20180131/14410000.dat']\n",
      "0\n",
      "16\n"
     ]
    },
    {
     "name": "stderr",
     "output_type": "stream",
     "text": [
      "C:\\software_git_repos\\cofe-python-analysis-tools\\utils_zonca\\demod\\datparsing.py:39: VisibleDeprecationWarning: boolean index did not match indexed array along dimension 0; dimension is 256000 but corresponding boolean dimension is 255999\n",
      "  good[duplicates] = False\n"
     ]
    }
   ],
   "source": [
    "dc = load_raw_data()"
   ]
  },
  {
   "cell_type": "code",
   "execution_count": 10,
   "metadata": {
    "collapsed": false
   },
   "outputs": [],
   "source": [
    "dcd=get_raw_chan(dc,0)\n",
    "#dhd=get_raw_chan(dh,0)\n",
    "\n",
    "zc=cu.nps(dcd,30*256,1)\n",
    "#zh=cu.nps(dhd,30*256,1)\n",
    "\n",
    "figure()\n",
    "plot(zc[0],sqrt(zc[1]), 'b-',label='Chan0, cold target')\n",
    "#plot(zh[0],sqrt(zh[1]), 'r-',label='Chan0,hot target')\n",
    "legend()\n",
    "yscale('log')\n",
    "xscale('log')"
   ]
  },
  {
   "cell_type": "code",
   "execution_count": 34,
   "metadata": {
    "collapsed": false
   },
   "outputs": [
    {
     "data": {
      "text/plain": [
       "[<matplotlib.lines.Line2D at 0xf7a71d0>]"
      ]
     },
     "execution_count": 34,
     "metadata": {},
     "output_type": "execute_result"
    }
   ],
   "source": [
    "plot(dcd,label='Chan0, cold target')\n",
    "plot(dhd,label='Chan0,hot target')"
   ]
  },
  {
   "cell_type": "code",
   "execution_count": 86,
   "metadata": {
    "collapsed": true
   },
   "outputs": [],
   "source": [
    "yscale('linear')"
   ]
  },
  {
   "cell_type": "code",
   "execution_count": 54,
   "metadata": {
    "collapsed": false,
    "scrolled": true
   },
   "outputs": [
    {
     "name": "stdout",
     "output_type": "stream",
     "text": [
      "['C:/COFE/telescope_source/data/20170201/13074800.dat']\n",
      "1000\n",
      "16\n"
     ]
    }
   ],
   "source": [
    "ptst13v['r7p5_r3p6_feb1']=load_and_prep_data('r7p5_r3p6')"
   ]
  },
  {
   "cell_type": "code",
   "execution_count": 55,
   "metadata": {
    "collapsed": false
   },
   "outputs": [
    {
     "data": {
      "text/plain": [
       "<matplotlib.legend.Legend at 0x1f3093d0>"
      ]
     },
     "execution_count": 55,
     "metadata": {},
     "output_type": "execute_result"
    }
   ],
   "source": [
    "now = time.strftime(\"%c\")\n",
    "figure()\n",
    "for key in ptst13v.keys():\n",
    "    plot(ptst13v[key],label=key)\n",
    "xlabel('Rotation position, 256/rev')\n",
    "ylabel('Relative proximity reading, V')\n",
    "title('Vibration test,13V, 2.1.17 %s' %now )\n",
    "legend()\n",
    "    "
   ]
  },
  {
   "cell_type": "code",
   "execution_count": null,
   "metadata": {
    "collapsed": true
   },
   "outputs": [],
   "source": []
  },
  {
   "cell_type": "code",
   "execution_count": null,
   "metadata": {
    "collapsed": true
   },
   "outputs": [],
   "source": []
  }
 ],
 "metadata": {
  "anaconda-cloud": {},
  "kernelspec": {
   "display_name": "Python 2",
   "language": "python",
   "name": "python2"
  },
  "language_info": {
   "codemirror_mode": {
    "name": "ipython",
    "version": 2
   },
   "file_extension": ".py",
   "mimetype": "text/x-python",
   "name": "python",
   "nbconvert_exporter": "python",
   "pygments_lexer": "ipython2",
   "version": "2.7.11"
  }
 },
 "nbformat": 4,
 "nbformat_minor": 1
}
