{
 "cells": [
  {
   "cell_type": "code",
   "execution_count": 2,
   "metadata": {
    "collapsed": false
   },
   "outputs": [
    {
     "name": "stdout",
     "output_type": "stream",
     "text": [
      "Using matplotlib backend: Qt4Agg\n",
      "Populating the interactive namespace from numpy and matplotlib\n"
     ]
    },
    {
     "name": "stderr",
     "output_type": "stream",
     "text": [
      "WARNING: pylab import has clobbered these variables: ['Text', 'Button', 'Widget']\n",
      "`%matplotlib` prevents importing * from pylab and numpy\n"
     ]
    }
   ],
   "source": [
    "import sys\n",
    "import os\n",
    "#sys.path.append('D:\\\\software_git_repos\\\\cofe-python-analysis-tools\\\\utils_meinhold')\n",
    "sys.path.append('../../cofe-python-analysis-tools/utils_meinhold')\n",
    "#sys.path.append('D:\\\\software_git_repos\\\\cofe-python-analysis-tools\\\\utils_zonca')\n",
    "sys.path.append('../../cofe-python-analysis-tools/utils_zonca')\n",
    "#sys.path.append('D:\\\\software_git_repos\\\\cofe-python-analysis-tools\\\\utils_zonca\\\\pointing')\n",
    "sys.path.append('../../cofe-python-analysis-tools/utils_zonca/pointing')\n",
    "#sys.path.append('D:\\\\software_git_repos\\\\greenpol')\n",
    "sys.path.append('../')\n",
    "#sys.path.append('D:\\\\software_git_repos\\\\greenpol\\\\telescope_control\\\\')\n",
    "sys.path.append('../telescope_control')\n",
    "#sys.path.append('D:\\\\software_git_repos\\\\greenpol\\\\telescope_control\\\\VtoT\\\\')\n",
    "sys.path.append('../telescope_control/VtoT')\n",
    "import realtime_gp as rt\n",
    "import numpy as np\n",
    "import datetime \n",
    "import h5py\n",
    "#import pandas as pd\n",
    "#from pointingtools import compute_parallactic_angle, altaz2ha \n",
    "#from planets import getlocation, getpointing\n",
    "import warnings\n",
    "#from astropy.coordinates import AltAz, Angle, EarthLocation, ICRS, SkyCoord, frame_transform_graph\n",
    "#from astropy import units as u\n",
    "#import ephem\n",
    "import matplotlib.pyplot as plt\n",
    "import time\n",
    "#import planets\n",
    "import convert\n",
    "from datetime import timedelta\n",
    "#import numpy.ma as ma\n",
    "import cofe_util as cu\n",
    "\n",
    "import Tkinter,tkFileDialog\n",
    "\n",
    "from Tkinter import *\n",
    "import ttk\n",
    "\n",
    "import pickle\n",
    "import glob\n",
    "\n",
    "import cPickle\n",
    "\n",
    "from scipy.optimize import curve_fit\n",
    "\n",
    "%pylab"
   ]
  },
  {
   "cell_type": "code",
   "execution_count": 3,
   "metadata": {
    "collapsed": true
   },
   "outputs": [],
   "source": [
    "def get_pointing_files(filelist=None):\n",
    "\n",
    "    if filelist==None:\n",
    "        root=Tkinter.Tk()\n",
    "        filelist = list(tkFileDialog.askopenfilenames(\\\n",
    "        initialdir='D://software_git_repos/greenpol/telescope_control/data_aquisition/pointing_data/',parent=root,title='Choose a set of files'))\n",
    "        root.destroy()\n",
    "    filelist.sort()\n",
    "    \n",
    "    return filelist"
   ]
  },
  {
   "cell_type": "code",
   "execution_count": 4,
   "metadata": {
    "collapsed": true
   },
   "outputs": [],
   "source": [
    "def read_some_data(datadict,datalabel,datatype='demod', filelist=None):\n",
    "\n",
    "    if filelist==None:\n",
    "        root=Tkinter.Tk()\n",
    "        if datatype=='demod':\n",
    "            filelist = list(tkFileDialog.askopenfilenames(\\\n",
    "            initialdir='D://software_git_repos/greenpol/telescope_control/data_aquisition/demod_data/',parent=root,title='Choose a set of files'))\n",
    "        if datatype=='raw':\n",
    "            filelist = list(tkFileDialog.askopenfilenames(\\\n",
    "            initialdir='D://software_git_repos/greenpol/telescope_control/data_aquisition/data/',parent=root,title='Choose a set of files'))            \n",
    "        root.destroy()\n",
    "    filelist.sort()\n",
    "    \n",
    "    if datatype=='demod':\n",
    "        dlist=[]\n",
    "        for f in filelist:\n",
    "            hf=h5py.File(f)\n",
    "            dlist.append(hf['demod_data'])\n",
    "        d=concatenate(dlist)\n",
    "        hf.close() \n",
    "        \n",
    "    if datatype=='raw':\n",
    "        d=rt.demod.read_raw(filelist)\n",
    "    datadict[datalabel]=d\n",
    "    return"
   ]
  },
  {
   "cell_type": "code",
   "execution_count": 5,
   "metadata": {
    "collapsed": true
   },
   "outputs": [],
   "source": [
    "def get_file_times(fld):\n",
    "    startfile = fld[0][:65]+fld[0][71:-2]+'dat'\n",
    "    endfile = fld[-1][:65]+fld[-1][71:-2]+'dat'\n",
    "    \n",
    "    #starttime = os.path.getctime(startfile)\n",
    "    starttime= os.stat(startfile).st_mtime\n",
    "    starttime = datetime.datetime.fromtimestamp(starttime)\n",
    "\n",
    "    #endtime = os.path.getctime(endfile)\n",
    "    endtime= os.stat(endfile).st_mtime\n",
    "    endtime = datetime.datetime.fromtimestamp(endtime)\n",
    "    \n",
    "    return starttime, endtime"
   ]
  },
  {
   "cell_type": "code",
   "execution_count": 6,
   "metadata": {
    "collapsed": true
   },
   "outputs": [],
   "source": [
    "def plot_toi_dict(toi_dict,chanlist=['H1HiAC'],componentlist=['T'],datalist=None, kperv=[1]):\n",
    "    #function to give a choice of preloaded datasets from dictionary data_dict\n",
    "    figure()\n",
    "    if datalist==None:\n",
    "        datalist=toi_dict.keys()\n",
    "    if len(componentlist)==1:  # if componentlist is a single value, assume same thing for all chans\n",
    "        c=componentlist[0]\n",
    "        componentlist=[c for n in chanlist]\n",
    "    #set up the color sequence for the plot\n",
    "    nlines=len(datalist)*len(chanlist)\n",
    "    colormap = cm.gist_ncar\n",
    "    gca().set_color_cycle([colormap(i) for i in np.linspace(0, 0.9, nlines)])\n",
    "    titletxt=[]\n",
    "    count = 0\n",
    "    for dname in datalist:\n",
    "        samprate=1000./(toi_dict[dname]['rev'][1]-toi_dict[dname]['rev'][0])\n",
    "        titletxt.append(dname)\n",
    "        for channame,component in zip(chanlist,componentlist):\n",
    "            try:\n",
    "                toi=toi_dict[dname][rt.nametochan(channame)][component] #if it's demod data so a dict\n",
    "                print dname + channame + ' mean value: ', toi.mean()\n",
    "                t=toi_dict[dname]['azi'][0]+arange(len(toi))/samprate\n",
    "                if len(kperv)==1 and kperv[0]==1.0:\n",
    "                    plot(t,toi*kperv[count],label=dname+ '  '+channame+' '+component,lw=2)\n",
    "                else:\n",
    "                    plot(t,toi*kperv[count],label=dname+ '  '+channame+' '+component+' gain= '+str(kperv[count]),lw=2)\n",
    "                if (count+1) < len(kperv):\n",
    "                    count += 1\n",
    "            except:\n",
    "                toi=toi_dict[dname][rt.nametochan(channame)].flatten()#if it's raw data so not a dict\n",
    "                print dname + ' ' + channame + ' mean value: ', toi.mean()\n",
    "                t=toi_dict[dname]['azi'][0]+arange(len(toi))/(256.*samprate)\n",
    "                if len(kperv)==1 and kperv[0]==1.0:\n",
    "                    plot(t,toi*kperv[count],label=dname+ '  '+channame+' '+component,lw=2)\n",
    "                else:\n",
    "                    plot(t,toi*kperv[count],label=dname+ '  '+channame+' '+component+' gain= '+str(kperv[count]),lw=2) \n",
    "                if (count+1) < len(kperv):\n",
    "                    count += 1\n",
    "                \n",
    "    title(titletxt)\n",
    "    legend()\n",
    "    xlabel('Time [S]')\n",
    "    if len(kperv) == 1 and kperv[0] == 1:\n",
    "        ylabel('Output [v]')\n",
    "    else:\n",
    "        ylabel('Output [T]')"
   ]
  },
  {
   "cell_type": "code",
   "execution_count": 7,
   "metadata": {
    "collapsed": true
   },
   "outputs": [],
   "source": [
    "def asd_from_dict(data_dict,minfreq=1.):\n",
    "    #run nps on all the channels for each of the loaded data sets, return asd dictionary\n",
    "    asd_dict={}\n",
    "    chans=['ch%s' %str(i) for i in range(16)]\n",
    "    for datset in data_dict.keys():\n",
    "        asd_dict[datset]={}\n",
    "        datatype='demod'\n",
    "        print(datset)\n",
    "        d=data_dict[datset]\n",
    "        if len(d.dtype)==18:\n",
    "            datatype='raw'\n",
    "        samprate=1000./float(d['rev'][10]-d['rev'][9])\n",
    "        for chan in chans:\n",
    "            if datatype=='raw':\n",
    "                freq,psd=cu.nps(d[chan].flatten(),samprate*256,minfreq=minfreq)\n",
    "                asd_dict[datset]['freq']=freq\n",
    "                asd_dict[datset][chan]=sqrt(psd)\n",
    "            if datatype=='demod':\n",
    "                asd_dict[datset][chan]={}\n",
    "                for component in ['T','Q','U']:\n",
    "                    freq,psd=cu.nps(d[chan][component],samprate,minfreq=minfreq)\n",
    "                    asd_dict[datset][chan][component]=sqrt(psd)\n",
    "                    asd_dict[datset]['freq']=freq\n",
    "                    \n",
    "    return asd_dict            "
   ]
  },
  {
   "cell_type": "code",
   "execution_count": 8,
   "metadata": {
    "collapsed": true
   },
   "outputs": [],
   "source": [
    "def plot_asd_dict(asd_dict,chanlist=['H1HiAC'],componentlist=['T'],datalist=None,kperv=[1]):\n",
    "    #function to give a choice of preloaded datasets from dictionary data_dict\n",
    "    figure()\n",
    "    if datalist==None:\n",
    "        datalist=asd_dict.keys()\n",
    "    if len(componentlist)==1:  # if componentlist is a single value, assume same thing for all chans\n",
    "        c=componentlist[0]\n",
    "        componentlist=[c for n in datalist]\n",
    "    #set up the color sequence for the plot\n",
    "    nlines=len(datalist)*len(chanlist)\n",
    "    colormap = cm.gist_ncar\n",
    "    gca().set_color_cycle([colormap(i) for i in np.linspace(0, 0.9, nlines)])\n",
    "    \n",
    "    count = 0\n",
    "    for dname in datalist:\n",
    "        for channame,component in zip(chanlist,componentlist):\n",
    "            try:\n",
    "                asd=asd_dict[dname][rt.nametochan(channame)][component] #if it's demod data so a dict\n",
    "            except:\n",
    "                asd=asd_dict[dname][rt.nametochan(channame)]           #if it's raw data so not a dict\n",
    "            if len(kperv) == 1 and kperv[0] == 1.0:\n",
    "                plot(asd_dict[dname]['freq'],asd*kperv[count],label=dname+ '  '+channame+' '+component,lw=2)\n",
    "            else:\n",
    "                plot(asd_dict[dname]['freq'],asd*kperv[count],label=dname+ '  '+channame+' '+component+' gain= '+str(kperv[count]),lw=2)\n",
    "            if (count+1) < len(kperv):\n",
    "                count += 1\n",
    "    legend()\n",
    "    xlabel('Frequency [Hz]')\n",
    "    if len(kperv) == 1 and kperv[0] == 1:\n",
    "        ylabel(r'ASD [$\\frac{V}{\\sqrt{Hz}}$]')\n",
    "    else:\n",
    "        ylabel(r'ASD [$\\frac{T}{\\sqrt{Hz}}$]')"
   ]
  },
  {
   "cell_type": "code",
   "execution_count": 66,
   "metadata": {
    "collapsed": true
   },
   "outputs": [],
   "source": [
    "ddict={}"
   ]
  },
  {
   "cell_type": "code",
   "execution_count": 122,
   "metadata": {
    "collapsed": false
   },
   "outputs": [],
   "source": [
    "read_some_data(ddict,'skydip',datatype='demod')"
   ]
  },
  {
   "cell_type": "code",
   "execution_count": 117,
   "metadata": {
    "collapsed": false
   },
   "outputs": [
    {
     "data": {
      "text/plain": [
       "['skydip', 'par', 'amb', 'sky']"
      ]
     },
     "execution_count": 117,
     "metadata": {},
     "output_type": "execute_result"
    }
   ],
   "source": [
    "ddict.keys()"
   ]
  },
  {
   "cell_type": "code",
   "execution_count": 84,
   "metadata": {
    "collapsed": false
   },
   "outputs": [
    {
     "name": "stdout",
     "output_type": "stream",
     "text": [
      "skydip\n",
      "par\n",
      "amb\n",
      "sky\n"
     ]
    }
   ],
   "source": [
    "asd_dict = asd_from_dict(ddict, minfreq=0.1)"
   ]
  },
  {
   "cell_type": "code",
   "execution_count": 73,
   "metadata": {
    "collapsed": true
   },
   "outputs": [],
   "source": [
    "pp = {}"
   ]
  },
  {
   "cell_type": "code",
   "execution_count": 123,
   "metadata": {
    "collapsed": false
   },
   "outputs": [],
   "source": [
    "flp = get_pointing_files()\n",
    "pp['skydip'] = rt.get_h5_pointing(flp)"
   ]
  },
  {
   "cell_type": "code",
   "execution_count": 124,
   "metadata": {
    "collapsed": false
   },
   "outputs": [],
   "source": [
    "combined = rt.combine_cofe_h5_pointing(ddict['skydip'], pp['skydip'])"
   ]
  },
  {
   "cell_type": "code",
   "execution_count": 121,
   "metadata": {
    "collapsed": false
   },
   "outputs": [
    {
     "data": {
      "text/plain": [
       "[<matplotlib.lines.Line2D at 0x1dbbd7f0>]"
      ]
     },
     "execution_count": 121,
     "metadata": {},
     "output_type": "execute_result"
    }
   ],
   "source": [
    "figure()\n",
    "plot(data)"
   ]
  },
  {
   "cell_type": "code",
   "execution_count": 125,
   "metadata": {
    "collapsed": true
   },
   "outputs": [],
   "source": [
    "el = combined['el']\n",
    "chan = 'H1HiDC'\n",
    "var = 'T'\n",
    "data = -combined['sci_data'][rt.nametochan(chan)][var]"
   ]
  },
  {
   "cell_type": "code",
   "execution_count": 126,
   "metadata": {
    "collapsed": false
   },
   "outputs": [
    {
     "data": {
      "text/plain": [
       "[<matplotlib.lines.Line2D at 0x1b6e4cc0>]"
      ]
     },
     "execution_count": 126,
     "metadata": {},
     "output_type": "execute_result"
    }
   ],
   "source": [
    "figure()\n",
    "plot(el, data)"
   ]
  },
  {
   "cell_type": "code",
   "execution_count": 109,
   "metadata": {
    "collapsed": false
   },
   "outputs": [],
   "source": [
    "#igood = np.where(el > 22.0)[0]\n",
    "igood = np.where(np.arange(len(data)) < 2000)[0]\n",
    "#igood = np.where(np.arange(len(data)) > 4822)[0]\n",
    "el = el[igood]\n",
    "data = data[igood]"
   ]
  },
  {
   "cell_type": "code",
   "execution_count": 34,
   "metadata": {
    "collapsed": false
   },
   "outputs": [
    {
     "data": {
      "text/plain": [
       "[<matplotlib.lines.Line2D at 0x1243abe0>]"
      ]
     },
     "execution_count": 34,
     "metadata": {},
     "output_type": "execute_result"
    }
   ],
   "source": [
    "figure()\n",
    "plot(el, data)"
   ]
  },
  {
   "cell_type": "code",
   "execution_count": 113,
   "metadata": {
    "collapsed": true
   },
   "outputs": [],
   "source": [
    "def func(el, Vsys, Vz):\n",
    "    return Vsys + Vz/np.sin(el)"
   ]
  },
  {
   "cell_type": "code",
   "execution_count": 114,
   "metadata": {
    "collapsed": true
   },
   "outputs": [],
   "source": [
    "popt, pcov = curve_fit(func, np.radians(el), data)"
   ]
  },
  {
   "cell_type": "code",
   "execution_count": 115,
   "metadata": {
    "collapsed": false
   },
   "outputs": [
    {
     "data": {
      "text/plain": [
       "<matplotlib.legend.Legend at 0x1d573278>"
      ]
     },
     "execution_count": 115,
     "metadata": {},
     "output_type": "execute_result"
    }
   ],
   "source": [
    "figure()\n",
    "plot(el, data, 'b-', linewidth=2, label='%s %s' % (chan, var))\n",
    "plot(el, func(np.radians(el), *popt), 'r-', label='fit: Vsys=%.3f V, Vz=%.3f V' % tuple(popt))\n",
    "ylabel('Signal (Volts)')\n",
    "xlabel('Elevation (deg)')\n",
    "legend()"
   ]
  },
  {
   "cell_type": "code",
   "execution_count": 116,
   "metadata": {
    "collapsed": true
   },
   "outputs": [],
   "source": [
    "#now get par cal and clear sky voltages and plug into notebook equation to get gain\n",
    "beta = {'H1': 0.12419560576729863, 'H2':0.12628101445342926, 'H3': 0.11703026443075649}"
   ]
  },
  {
   "cell_type": "code",
   "execution_count": 48,
   "metadata": {
    "collapsed": false
   },
   "outputs": [
    {
     "name": "stdout",
     "output_type": "stream",
     "text": [
      "amb H1HiDC mean value:  -0.0433360855422\n"
     ]
    },
    {
     "name": "stderr",
     "output_type": "stream",
     "text": [
      "C:\\Users\\labuser\\Anaconda3\\envs\\py27\\lib\\site-packages\\ipykernel\\__main__.py:20: DeprecationWarning: using a non-integer number instead of an integer will result in an error in the future\n"
     ]
    }
   ],
   "source": [
    "plot_toi_dict(ddict,chanlist=['H1HiDC'],componentlist=['T'],datalist=['amb'])"
   ]
  },
  {
   "cell_type": "code",
   "execution_count": 65,
   "metadata": {
    "collapsed": false
   },
   "outputs": [
    {
     "name": "stderr",
     "output_type": "stream",
     "text": [
      "C:\\Users\\labuser\\Anaconda3\\envs\\py27\\lib\\site-packages\\ipykernel\\__main__.py:18: DeprecationWarning: using a non-integer number instead of an integer will result in an error in the future\n"
     ]
    }
   ],
   "source": [
    "plot_asd_dict(asd_dict,chanlist=['H2HiAC'],componentlist=['T'],datalist=['sky'],kperv=[19.61])"
   ]
  },
  {
   "cell_type": "code",
   "execution_count": 118,
   "metadata": {
    "collapsed": false
   },
   "outputs": [
    {
     "data": {
      "text/plain": [
       "272.45038545318022"
      ]
     },
     "execution_count": 118,
     "metadata": {},
     "output_type": "execute_result"
    }
   ],
   "source": [
    "np.nanmean(pp['skydip']['Calibrator'])"
   ]
  },
  {
   "cell_type": "code",
   "execution_count": 130,
   "metadata": {
    "collapsed": false
   },
   "outputs": [
    {
     "name": "stdout",
     "output_type": "stream",
     "text": [
      "Horn 1 DC Level:  -0.0558221059916  V\n",
      "Horn 1 DC gain:  -486.576940103  K/V\n",
      "Horn 1 AC gain:  -16.2192313368  K/V\n",
      "Horn 1 Tsky:  27.1617495235 K\n",
      "Horn 1 Tsys:  23.774863089 K\n",
      "Horn 1 noise level:  2.40416305603  mK*sqrt(sec)\n",
      "Horn 1 expected noise level:  0.429464968646  mK*sqrt(sec)\n",
      "Horn 1 effective bandpass:  0.0232189351099  GHz\n",
      "--------------------------\n",
      "Horn 2 DC Level:  -0.081819394034  V\n",
      "Horn 2 DC gain:  -588.286660584  K/V\n",
      "Horn 2 AC gain:  -19.6095553528  K/V\n",
      "Horn 2 Tsky:  48.1332580873 K\n",
      "Horn 2 Tsys:  28.7445492372 K\n",
      "Horn 2 noise level:  1.9091883092  mK*sqrt(sec)\n",
      "Horn 2 expected noise level:  0.761053633803  mK*sqrt(sec)\n",
      "Horn 2 effective bandpass:  0.0428555913734  GHz\n",
      "--------------------------\n",
      "Horn 3 DC Level:  -0.741114893514  V\n",
      "Horn 3 DC gain:  -41.8001514628  K/V\n",
      "Horn 3 AC gain:  -1.39333838209  K/V\n",
      "Horn 3 Tsky:  30.9787148002 K\n",
      "Horn 3 Tsys:  2.0424167202 K\n",
      "Horn 3 noise level:  5.23259018078  mK*sqrt(sec)\n",
      "Horn 3 expected noise level:  0.489816488768  mK*sqrt(sec)\n",
      "Horn 3 effective bandpass:  0.141634423471  GHz\n",
      "--------------------------\n"
     ]
    },
    {
     "name": "stderr",
     "output_type": "stream",
     "text": [
      "C:\\Users\\labuser\\Anaconda3\\envs\\py27\\lib\\site-packages\\ipykernel\\__main__.py:11: DeprecationWarning: using a non-integer number instead of an integer will result in an error in the future\n"
     ]
    }
   ],
   "source": [
    "asd = [0.0034,0.0027, 0.0074]\n",
    "\n",
    "for chan in ['H1HiDC','H2HiDC', 'H3HiDC']:\n",
    "    \n",
    "    Tamb = 287.09 #np.nanmean(pp['skydip']['Calibrator'])\n",
    "    Vsys = popt[0]\n",
    "    Vz = popt[1]\n",
    "    elevation = pp['sky']['el'].mean()\n",
    "\n",
    "    try:\n",
    "        Vpar = ddict['par'][rt.nametochan(chan)][var].mean()\n",
    "        Vsky = ddict['sky'][rt.nametochan(chan)][var].mean()\n",
    "    except:\n",
    "        Vpar = ddict['par'][rt.nametochan(chan)].flatten().mean()\n",
    "        Vsky = ddict['sky'][rt.nametochan(chan)].flatten().mean()\n",
    "\n",
    "    h = int(chan[1])   \n",
    "\n",
    "    Vpar_lin = rt.linearize_Vexp(Vpar, h)\n",
    "    Vsky_lin = rt.linearize_Vexp(Vsky, h)\n",
    "\n",
    "    b = beta[chan[:2]]\n",
    "\n",
    "    gain = b*Tamb/(Vpar_lin - Vsky_lin + b*(Vz/np.sin(elevation)))\n",
    "    \n",
    "    nl = asd[int(chan[1])-1]/np.sqrt(2)\n",
    "    Tsys = -Vsys*gain\n",
    "    enl = gain*Vsky_lin/np.sqrt(4e9)\n",
    "\n",
    "    print 'Horn %s DC Level: ' % h, Vsky_lin, ' V'\n",
    "    print 'Horn %s DC gain: ' % h, gain, ' K/V'\n",
    "    print 'Horn %s AC gain: ' % h, gain/30., ' K/V'\n",
    "    print 'Horn %s Tsky: ' % h, Vsky_lin*gain, 'K'\n",
    "    print 'Horn %s Tsys: ' % h, Tsys, 'K'\n",
    "    print 'Horn %s noise level: ' % h, nl*1e3, ' mK*sqrt(sec)'\n",
    "    print 'Horn %s expected noise level: ' % h, enl*1e3, ' mK*sqrt(sec)'\n",
    "    print 'Horn %s effective bandpass: ' % h, -(Vsky_lin/(nl*1e3)), ' GHz'\n",
    "    #print 'Horn %s sky Temperature: ' % h, gain*Vsky_lin, ' K'\n",
    "    print '--------------------------'"
   ]
  },
  {
   "cell_type": "code",
   "execution_count": null,
   "metadata": {
    "collapsed": true
   },
   "outputs": [],
   "source": [
    "#if your using ambient load instead of partial cal (which you shouldnt) gain equation is:\n",
    "# G = Tamb(Vamb-Vsky + Vsys + Vz/sin(elevation))**-1"
   ]
  },
  {
   "cell_type": "code",
   "execution_count": 44,
   "metadata": {
    "collapsed": false
   },
   "outputs": [
    {
     "name": "stderr",
     "output_type": "stream",
     "text": [
      "C:\\Users\\labuser\\Anaconda3\\envs\\py27\\lib\\site-packages\\ipykernel\\__main__.py:2: DeprecationWarning: using a non-integer number instead of an integer will result in an error in the future\n",
      "  from ipykernel import kernelapp as app\n"
     ]
    },
    {
     "ename": "IndexError",
     "evalue": "only integers, slices (`:`), ellipsis (`...`), numpy.newaxis (`None`) and integer or boolean arrays are valid indices",
     "output_type": "error",
     "traceback": [
      "\u001b[1;31m---------------------------------------------------------------------------\u001b[0m",
      "\u001b[1;31mIndexError\u001b[0m                                Traceback (most recent call last)",
      "\u001b[1;32m<ipython-input-44-cfb7d082414d>\u001b[0m in \u001b[0;36m<module>\u001b[1;34m()\u001b[0m\n\u001b[0;32m      1\u001b[0m \u001b[0mfigure\u001b[0m\u001b[1;33m(\u001b[0m\u001b[1;33m)\u001b[0m\u001b[1;33m\u001b[0m\u001b[0m\n\u001b[1;32m----> 2\u001b[1;33m \u001b[0mplot\u001b[0m\u001b[1;33m(\u001b[0m\u001b[0mddict\u001b[0m\u001b[1;33m[\u001b[0m\u001b[1;34m'amb'\u001b[0m\u001b[1;33m]\u001b[0m\u001b[1;33m[\u001b[0m\u001b[0mrt\u001b[0m\u001b[1;33m.\u001b[0m\u001b[0mnametochan\u001b[0m\u001b[1;33m(\u001b[0m\u001b[0mchan\u001b[0m\u001b[1;33m)\u001b[0m\u001b[1;33m]\u001b[0m\u001b[1;33m[\u001b[0m\u001b[0mvar\u001b[0m\u001b[1;33m]\u001b[0m\u001b[1;33m.\u001b[0m\u001b[0mmean\u001b[0m\u001b[1;33m(\u001b[0m\u001b[1;33m)\u001b[0m\u001b[1;33m)\u001b[0m\u001b[1;33m\u001b[0m\u001b[0m\n\u001b[0m",
      "\u001b[1;31mIndexError\u001b[0m: only integers, slices (`:`), ellipsis (`...`), numpy.newaxis (`None`) and integer or boolean arrays are valid indices"
     ]
    }
   ],
   "source": [
    "figure()\n",
    "plot(ddict['amb'][rt.nametochan(chan)][var].mean())"
   ]
  },
  {
   "cell_type": "code",
   "execution_count": 130,
   "metadata": {
    "collapsed": false
   },
   "outputs": [
    {
     "name": "stderr",
     "output_type": "stream",
     "text": [
      "C:\\Users\\labuser\\Anaconda3\\envs\\py27\\lib\\site-packages\\ipykernel\\__main__.py:18: DeprecationWarning: using a non-integer number instead of an integer will result in an error in the future\n"
     ]
    }
   ],
   "source": [
    "plot_asd_dict(asd_dict,chanlist=['H2HiAC'],componentlist=['T'],datalist=['sky'],kperv=[2.4])"
   ]
  },
  {
   "cell_type": "code",
   "execution_count": 134,
   "metadata": {
    "collapsed": false
   },
   "outputs": [
    {
     "name": "stdout",
     "output_type": "stream",
     "text": [
      " Horn 1 DC Level (sky):  -0.164107186997  V\n",
      "Horn 1 DC Level (amb):  -0.461792120947  V\n",
      "Horn 1 DC gain:  -900.280697595  K/V\n",
      "Horn 1 AC gain:  -30.0093565865  K/V\n",
      "Horn 1 Tsys:  127.74253279\n",
      "Horn 1 noise level:  12.7279220614  mK*sqrt(sec)\n",
      "Horn 1 effective bandpass:  0.0128934783075  GHz\n",
      "Horn 1 expected noise level:  2.3360145545  mK*sqrt(sec)\n",
      "--------------------------\n",
      "Horn 2 DC Level (sky):  -0.306490666874  V\n",
      "Horn 2 DC Level (amb):  -4.10317802137  V\n",
      "Horn 2 DC gain:  -70.5878506647  K/V\n",
      "Horn 2 AC gain:  -2.35292835549  K/V\n",
      "Horn 2 Tsys:  1.63451742342\n",
      "Horn 2 noise level:  1.41421356237  mK*sqrt(sec)\n",
      "Horn 2 effective bandpass:  0.216721628917  GHz\n",
      "Horn 2 expected noise level:  0.342071755683  mK*sqrt(sec)\n",
      "--------------------------\n",
      "Horn 3 DC Level (sky):  -0.776919414452  V\n",
      "Horn 3 DC Level (amb):  -5.08969242648  V\n",
      "Horn 3 DC gain:  -62.1409935678  K/V\n",
      "Horn 3 AC gain:  -2.07136645226  K/V\n",
      "Horn 3 Tsys:  28.2785443362\n",
      "Horn 3 noise level:  5.23259018078  mK*sqrt(sec)\n",
      "Horn 3 effective bandpass:  0.14847702335  GHz\n",
      "Horn 3 expected noise level:  0.763350811099  mK*sqrt(sec)\n",
      "--------------------------\n"
     ]
    },
    {
     "name": "stderr",
     "output_type": "stream",
     "text": [
      "C:\\Users\\labuser\\Anaconda3\\envs\\py27\\lib\\site-packages\\ipykernel\\__main__.py:11: DeprecationWarning: using a non-integer number instead of an integer will result in an error in the future\n"
     ]
    }
   ],
   "source": [
    "#if you dont have sky dip data:\n",
    "asd = [0.018,0.002, 0.0074]\n",
    "Tsky = 20 #guess at Tsky value. Conversly you can use LN2 as your cold source and then you dont have to guess here\n",
    "\n",
    "for chan in ['H1HiDC','H2HiDC', 'H3HiDC']:\n",
    "    \n",
    "    Tamb = 288.0#np.nanmean(pp['skydip1']['Calibrator'])\n",
    "\n",
    "    #if its demod data\n",
    "    try:\n",
    "        Vamb = ddict['amb'][rt.nametochan(chan)][var].mean()\n",
    "        Vsky = ddict['sky'][rt.nametochan(chan)][var].mean()\n",
    "    #if its raw data\n",
    "    except:\n",
    "        Vamb = ddict['amb'][rt.nametochan(chan)].flatten().mean()\n",
    "        Vsky = ddict['sky'][rt.nametochan(chan)].flatten().mean()\n",
    "\n",
    "    h = int(chan[1])   \n",
    "\n",
    "    Vamb_lin = rt.linearize_Vexp(Vamb, h)\n",
    "    Vsky_lin = rt.linearize_Vexp(Vsky, h)\n",
    "\n",
    "\n",
    "    gain = (Tamb - Tsky)/(Vamb_lin - Vsky_lin)\n",
    "    \n",
    "    y = Vamb_lin/Vsky_lin\n",
    "    \n",
    "    Tsys = (Tamb - y*Tsky)/(y-1) #not always a good measure do to compression etc..\n",
    "    \n",
    "    nl = asd[int(chan[1])-1]/np.sqrt(2)\n",
    "    \n",
    "    enl = (Tsys + Tsky)/np.sqrt(4e9)\n",
    "\n",
    "    print 'Horn %s DC Level (sky): ' % h,  Vsky_lin, ' V'\n",
    "    print 'Horn %s DC Level (amb): ' % h,  Vamb_lin, ' V'\n",
    "    print 'Horn %s DC gain: ' % h, gain, ' K/V'\n",
    "    print 'Horn %s AC gain: ' % h, gain/30., ' K/V'\n",
    "    print 'Horn %s Tsys: ' % h, Tsys\n",
    "    print 'Horn %s noise level: ' % h, nl*1e3, ' mK*sqrt(sec)'\n",
    "    print 'Horn %s effective bandpass: ' % h, -(Vsky_lin/(nl*1e3)), ' GHz'\n",
    "    print 'Horn %s expected noise level: ' % h, enl*1e3, ' mK*sqrt(sec)'\n",
    "    print '--------------------------'"
   ]
  },
  {
   "cell_type": "code",
   "execution_count": 129,
   "metadata": {
    "collapsed": false
   },
   "outputs": [
    {
     "name": "stdout",
     "output_type": "stream",
     "text": [
      "-0.0790503579295\n"
     ]
    }
   ],
   "source": [
    "Vamb = ddict['amb'][rt.nametochan('H2HiDC')].flatten()\n",
    "Vsky = ddict['sky'][rt.nametochan('H2HiDC')].flatten().mean()\n",
    "print Vsky"
   ]
  },
  {
   "cell_type": "code",
   "execution_count": 76,
   "metadata": {
    "collapsed": false
   },
   "outputs": [
    {
     "data": {
      "text/plain": [
       "[<matplotlib.lines.Line2D at 0x148aedd8>]"
      ]
     },
     "execution_count": 76,
     "metadata": {},
     "output_type": "execute_result"
    }
   ],
   "source": [
    "figure()\n",
    "plot(Vamb,'k-')\n",
    "plot(Vsky,'b-')\n"
   ]
  },
  {
   "cell_type": "code",
   "execution_count": 77,
   "metadata": {
    "collapsed": false
   },
   "outputs": [
    {
     "name": "stdout",
     "output_type": "stream",
     "text": [
      "268.651269212\n"
     ]
    }
   ],
   "source": [
    "print Tamb"
   ]
  },
  {
   "cell_type": "code",
   "execution_count": null,
   "metadata": {
    "collapsed": true
   },
   "outputs": [],
   "source": []
  }
 ],
 "metadata": {
  "kernelspec": {
   "display_name": "Python 2",
   "language": "python",
   "name": "python2"
  },
  "language_info": {
   "codemirror_mode": {
    "name": "ipython",
    "version": 2
   },
   "file_extension": ".py",
   "mimetype": "text/x-python",
   "name": "python",
   "nbconvert_exporter": "python",
   "pygments_lexer": "ipython2",
   "version": "2.7.11"
  }
 },
 "nbformat": 4,
 "nbformat_minor": 2
}
