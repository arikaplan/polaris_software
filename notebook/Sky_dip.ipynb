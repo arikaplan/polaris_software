{
 "cells": [
  {
   "cell_type": "code",
   "execution_count": 1,
   "metadata": {},
   "outputs": [
    {
     "name": "stderr",
     "output_type": "stream",
     "text": [
      "C:\\Users\\labuser\\anaconda3\\envs\\py27\\lib\\site-packages\\pyfits\\__init__.py:22: PyFITSDeprecationWarning: PyFITS is deprecated, please use astropy.io.fits\n",
      "  PyFITSDeprecationWarning)  # noqa\n"
     ]
    },
    {
     "name": "stdout",
     "output_type": "stream",
     "text": [
      "Using matplotlib backend: Qt5Agg\n",
      "Populating the interactive namespace from numpy and matplotlib\n"
     ]
    },
    {
     "name": "stderr",
     "output_type": "stream",
     "text": [
      "C:\\Users\\labuser\\anaconda3\\envs\\py27\\lib\\site-packages\\IPython\\core\\magics\\pylab.py:161: UserWarning: pylab import has clobbered these variables: ['ldexp', 'hypot', 'tan', 'Widget', 'log', 'fabs', 'floor', 'sqrt', 'frexp', 'degrees', 'log10', 'sin', 'modf', 'Button', 'copysign', 'cos', 'ceil', 'isinf', 'sinh', 'cosh', 'trunc', 'expm1', 'tanh', 'Text', 'isnan', 'radians', 'fmod', 'exp', 'log1p', 'gamma']\n",
      "`%matplotlib` prevents importing * from pylab and numpy\n",
      "  \"\\n`%matplotlib` prevents importing * from pylab and numpy\"\n"
     ]
    }
   ],
   "source": [
    "import sys\n",
    "import os\n",
    "sys.path.append('D:\\\\software_git_repos\\\\Polaris\\\\polaris_software\\\\utils_meinhold')\n",
    "sys.path.append('D:\\\\software_git_repos\\\\Polaris\\\\polaris_software\\\\utils_zonca')\n",
    "sys.path.append('../../cofe-python-analysis-tools/utils_zonca/pointing')\n",
    "sys.path.append('../')\n",
    "sys.path.append('../telescope_control')\n",
    "sys.path.append('../VtoT')\n",
    "import convert\n",
    "import realtime_gp as rt\n",
    "import numpy as np\n",
    "import datetime \n",
    "import h5py\n",
    "\n",
    "import warnings\n",
    "#from astropy.coordinates import AltAz, Angle, EarthLocation, ICRS, SkyCoord, frame_transform_graph\n",
    "#from astropy import units as u\n",
    "#import ephem\n",
    "import matplotlib.pyplot as plt\n",
    "import time\n",
    "#import planets\n",
    "from datetime import timedelta\n",
    "\n",
    "import cofe_util as cu\n",
    "\n",
    "import Tkinter,tkFileDialog\n",
    "\n",
    "from Tkinter import *\n",
    "import ttk\n",
    "\n",
    "import pickle\n",
    "import glob\n",
    "\n",
    "import cPickle\n",
    "\n",
    "from scipy.optimize import curve_fit\n",
    "\n",
    "from uncertainties import ufloat\n",
    "from uncertainties.umath import *\n",
    "\n",
    "%pylab"
   ]
  },
  {
   "cell_type": "code",
   "execution_count": 2,
   "metadata": {},
   "outputs": [],
   "source": [
    "%matplotlib inline"
   ]
  },
  {
   "cell_type": "code",
   "execution_count": 3,
   "metadata": {},
   "outputs": [],
   "source": [
    "def get_pointing_files(filelist=None):\n",
    "\n",
    "    if filelist==None:\n",
    "        root=Tkinter.Tk()\n",
    "        filelist = list(tkFileDialog.askopenfilenames(\\\n",
    "        initialdir='D://software_git_repos/Polaris/polaris_data/pointing_data/',parent=root,title='Choose a set of files'))\n",
    "        root.destroy()\n",
    "    filelist.sort()\n",
    "    \n",
    "    return filelist"
   ]
  },
  {
   "cell_type": "code",
   "execution_count": 4,
   "metadata": {},
   "outputs": [],
   "source": [
    "def read_some_data(datadict,datalabel,datatype='demod', filelist=None):\n",
    "\n",
    "    if filelist==None:\n",
    "        root=Tkinter.Tk()\n",
    "        if datatype=='demod':\n",
    "            filelist = list(tkFileDialog.askopenfilenames(\\\n",
    "            initialdir='D://software_git_repos/Polaris/polaris_data/demod_data/',parent=root,title='Choose a set of files'))\n",
    "        if datatype=='raw':\n",
    "            filelist = list(tkFileDialog.askopenfilenames(\\\n",
    "            initialdir='D://software_git_repos/Polaris/polaris_data/data/',parent=root,title='Choose a set of files'))            \n",
    "        root.destroy()\n",
    "    filelist.sort()\n",
    "    \n",
    "    if datatype=='demod':\n",
    "        dlist=[]\n",
    "        for f in filelist:\n",
    "            hf=h5py.File(f)\n",
    "            dlist.append(hf['demod_data'])\n",
    "        d=concatenate(dlist)\n",
    "        hf.close() \n",
    "        \n",
    "    if datatype=='raw':\n",
    "        d=rt.demod.read_raw(filelist)\n",
    "    datadict[datalabel]=d\n",
    "    return"
   ]
  },
  {
   "cell_type": "code",
   "execution_count": 5,
   "metadata": {},
   "outputs": [],
   "source": [
    "def get_file_times(fld):\n",
    "    startfile = fld[0][:65]+fld[0][71:-2]+'dat'\n",
    "    endfile = fld[-1][:65]+fld[-1][71:-2]+'dat'\n",
    "    \n",
    "    #starttime = os.path.getctime(startfile)\n",
    "    starttime= os.stat(startfile).st_mtime\n",
    "    starttime = datetime.datetime.fromtimestamp(starttime)\n",
    "\n",
    "    #endtime = os.path.getctime(endfile)\n",
    "    endtime= os.stat(endfile).st_mtime\n",
    "    endtime = datetime.datetime.fromtimestamp(endtime)\n",
    "    \n",
    "    return starttime, endtime"
   ]
  },
  {
   "cell_type": "code",
   "execution_count": 6,
   "metadata": {},
   "outputs": [],
   "source": [
    "def plot_toi_dict(toi_dict,chanlist=['H1HiAC'],componentlist=['T'],datalist=None, kperv=[1]):\n",
    "    #function to give a choice of preloaded datasets from dictionary data_dict\n",
    "    figure()\n",
    "    if datalist==None:\n",
    "        datalist=toi_dict.keys()\n",
    "    if len(componentlist)==1:  # if componentlist is a single value, assume same thing for all chans\n",
    "        c=componentlist[0]\n",
    "        componentlist=[c for n in chanlist]\n",
    "    #set up the color sequence for the plot\n",
    "    nlines=len(datalist)*len(chanlist)\n",
    "    colormap = cm.gist_ncar\n",
    "    gca().set_color_cycle([colormap(i) for i in np.linspace(0, 0.9, nlines)])\n",
    "    titletxt=[]\n",
    "    count = 0\n",
    "    for dname in datalist:\n",
    "        samprate=1000./(toi_dict[dname]['rev'][1]-toi_dict[dname]['rev'][0])\n",
    "        titletxt.append(dname)\n",
    "        for channame,component in zip(chanlist,componentlist):\n",
    "            try:\n",
    "                toi=toi_dict[dname][rt.nametochan(channame)][component] #if it's demod data so a dict\n",
    "                print dname + channame + ' mean value: ', toi.mean()\n",
    "                t=toi_dict[dname]['azi'][0]+arange(len(toi))/samprate\n",
    "                if len(kperv)==1 and kperv[0]==1.0:\n",
    "                    plot(t,toi*kperv[count],label=dname+ '  '+channame+' '+component,lw=2)\n",
    "                else:\n",
    "                    plot(t,toi*kperv[count],label=dname+ '  '+channame+' '+component+' gain= '+str(kperv[count]),lw=2)\n",
    "                if (count+1) < len(kperv):\n",
    "                    count += 1\n",
    "            except:\n",
    "                toi=toi_dict[dname][rt.nametochan(channame)].flatten()#if it's raw data so not a dict\n",
    "                print dname + ' ' + channame + ' mean value: ', toi.mean()\n",
    "                t=toi_dict[dname]['azi'][0]+arange(len(toi))/(256.*samprate)\n",
    "                if len(kperv)==1 and kperv[0]==1.0:\n",
    "                    plot(t,toi*kperv[count],label=dname+ '  '+channame+' '+component,lw=2)\n",
    "                else:\n",
    "                    plot(t,toi*kperv[count],label=dname+ '  '+channame+' '+component+' gain= '+str(kperv[count]),lw=2) \n",
    "                if (count+1) < len(kperv):\n",
    "                    count += 1\n",
    "                \n",
    "    title(titletxt)\n",
    "    legend()\n",
    "    xlabel('Time [S]')\n",
    "    if len(kperv) == 1 and kperv[0] == 1:\n",
    "        ylabel('Output [v]')\n",
    "    else:\n",
    "        ylabel('Output [T]')"
   ]
  },
  {
   "cell_type": "code",
   "execution_count": 7,
   "metadata": {},
   "outputs": [],
   "source": [
    "def asd_from_dict(data_dict,minfreq=1.):\n",
    "    #run nps on all the channels for each of the loaded data sets, return asd dictionary\n",
    "    asd_dict={}\n",
    "    chans=['ch%s' %str(i) for i in range(16)]\n",
    "    for datset in data_dict.keys():\n",
    "        asd_dict[datset]={}\n",
    "        datatype='demod'\n",
    "        print(datset)\n",
    "        d=data_dict[datset]\n",
    "        if len(d.dtype)==18:\n",
    "            datatype='raw'\n",
    "        samprate=1000./float(d['rev'][10]-d['rev'][9])\n",
    "        for chan in chans:\n",
    "            if datatype=='raw':\n",
    "                freq,psd=cu.nps(d[chan].flatten(),samprate*256,minfreq=minfreq)\n",
    "                asd_dict[datset]['freq']=freq\n",
    "                asd_dict[datset][chan]=sqrt(psd)\n",
    "            if datatype=='demod':\n",
    "                asd_dict[datset][chan]={}\n",
    "                for component in ['T','Q','U']:\n",
    "                    freq,psd=cu.nps(d[chan][component],samprate,minfreq=minfreq)\n",
    "                    asd_dict[datset][chan][component]=sqrt(psd)\n",
    "                    asd_dict[datset]['freq']=freq\n",
    "                    \n",
    "    return asd_dict            "
   ]
  },
  {
   "cell_type": "code",
   "execution_count": 8,
   "metadata": {},
   "outputs": [],
   "source": [
    "def plot_asd_dict(asd_dict,chanlist=['H1HiAC'],componentlist=['T'],datalist=None,kperv=[1], LABEL = None, TITLE=None, color = None):\n",
    "    #function to give a choice of preloaded datasets from dictionary data_dict\n",
    "    figure()\n",
    "    if datalist==None:\n",
    "        datalist=asd_dict.keys()\n",
    "    if len(componentlist)==1:  # if componentlist is a single value, assume same thing for all chans\n",
    "        c=componentlist[0]\n",
    "        componentlist=[c for n in datalist]\n",
    "    #set up the color sequence for the plot\n",
    "    nlines=len(datalist)*len(chanlist)\n",
    "    colormap = cm.gist_ncar\n",
    "    gca().set_color_cycle([colormap(i) for i in np.linspace(0, 0.9, nlines)])\n",
    "    \n",
    "    count = 0\n",
    "    for dname in datalist:\n",
    "        for channame,component in zip(chanlist,componentlist):\n",
    "            try:\n",
    "                asd=asd_dict[dname][rt.nametochan(channame)][component] #if it's demod data so a dict\n",
    "            except:\n",
    "                asd=asd_dict[dname][rt.nametochan(channame)]           #if it's raw data so not a dict\n",
    "            if LABEL == None:\n",
    "                    LABEL = dname+ '  '+channame+' '+component\n",
    "            else:\n",
    "                label = LABEL[count]\n",
    "                    \n",
    "            if color == None:\n",
    "                if len(kperv) == 1 and kperv[0] == 1.0:\n",
    "                    plot(asd_dict[dname]['freq'],asd*kperv[count],label=label,lw=2)\n",
    "                else:\n",
    "                    plot(asd_dict[dname]['freq'],asd*kperv[count],label=label,lw=2)\n",
    "                    \n",
    "            else:\n",
    "                if len(kperv) == 1 and kperv[0] == 1.0:\n",
    "                    plot(asd_dict[dname]['freq'],asd*kperv[count], color[count],label=label,lw=2)\n",
    "                else:\n",
    "                    plot(asd_dict[dname]['freq'],asd*kperv[count], color[count],label=label,lw=2)\n",
    "            if (count+1) < len(kperv):\n",
    "                count += 1\n",
    "    legend()\n",
    "    xlabel('Frequency [Hz]')\n",
    "    title(TITLE)\n",
    "    if len(kperv) == 1 and kperv[0] == 1:\n",
    "        ylabel(r'ASD [$\\frac{V}{\\sqrt{Hz}}$]')\n",
    "    else:\n",
    "        ylabel(r'ASD [$\\frac{K}{\\sqrt{Hz}}$]')"
   ]
  },
  {
   "cell_type": "code",
   "execution_count": 9,
   "metadata": {},
   "outputs": [],
   "source": [
    "def get_h5_pointing_simple(filelist,startrev=None, stoprev=None,angles_in_ints=False,azel_era=3):\n",
    "    \"\"\"\n",
    "        modify to fast version, dont' average the multiple values, just take the first one. will cause a little bias but its very fast.\n",
    "    also implmented removal of erroneous endof h5 file crap, and az outliers\n",
    "    azel_era determines what az/el offsets to use, 1 means before 9/26/2013, 2 means 9/26-10/3 (inclusive), 3 means after 10/4.\n",
    "    \"\"\"\n",
    "\n",
    "    #filelist is complete path list to the h5 files\n",
    "    elconversion=-360./40000.\n",
    "    azconversion=-360./(2.**16)\n",
    "    #eloffset=8.2-3.17382\n",
    "    #eloffset=5.026 # correction from 2013/08/02 moon crossing for both az and el this for ch 3! \n",
    "    #azoffset=4.41496\n",
    "    # on 2013/08/20, updated converter.py to include these offsets, in theory they should now be zero.\n",
    "    eloffset =0.0\n",
    "    azoffset=0.0\n",
    "    #ch1 would be azoffset=198.7810-187.663   or 11.118\n",
    "    #             eloffset= 8.2-5.69175  \n",
    "    #             eloffset= 2.5082\n",
    "    #note October 4, 2013. Just found that data from 9/26/13 through 10/04/13 used old converter.py. So special \n",
    "    #offsets needed:\n",
    "    #update, 10/8/13. ran get_cofe_crossing on second sun crossing from 10/04 (after subtracting \n",
    "    #template estimate of satellites,important effect). delta offsets: az=2.10,el=0.934\n",
    "    #these then would be future offsets\n",
    "    #update, 11/19/13. Ran mapmaking on lots of days, found an offset in the two daily crossings of the Crab- used ephem\n",
    "    #to find the crossings, found that should get a self-consistent solution for both if the azimth is reduced by 4.51 degrees\n",
    "    #and the elevation is increased by  2.241 degrees.\n",
    "    '''\n",
    "    if azel_era==1:\n",
    "        eloffset=5.026\n",
    "        azoffset=4.41496+140.0\n",
    "    if azel_era==2:\n",
    "        eloffset=5.026+0.934\n",
    "        azoffset=4.41496+140.0+2.1\n",
    "    if azel_era==3:\n",
    "        eloffset=0.934+2.241\n",
    "        azoffset=2.10 -4.51\n",
    "    '''\n",
    "\n",
    "\n",
    "\n",
    "    errlimit=0.1\n",
    "    \n",
    "    #if angles_in_ints==True:\n",
    "    #    errlimit=10\n",
    "    hpointing=[]\n",
    "    filelist.sort()\n",
    "    for f in filelist:\n",
    "        if f[79:88] != 'corrected':\n",
    "            slimit = 22144\n",
    "        else:\n",
    "            slimit = 11512\n",
    "        stats=os.stat(f)\n",
    "        if stats.st_size<slimit:\n",
    "            print f,stats.st_size\n",
    "        if stats.st_size >= slimit:\n",
    "            h=h5py.File(f)\n",
    "            hh=h['data']\n",
    "            hpointing.append(hh[hh['gpstime']>=hh['gpstime'][0]])\n",
    "            #print hpointinng\n",
    "            h.close()\n",
    "\n",
    "    hpointing = np.concatenate(hpointing)\n",
    "    #cut out blank lines from unfilled files\n",
    "    '''if startrev != None:\n",
    "        hpointing=hpointing[hpointing['gpstime'] > startrev]\n",
    "    if stoprev != None:\n",
    "        hpointing=hpointing[hpointing['gpstime'] < stoprev]'''\n",
    "\n",
    "    #hrevlist,inds=np.unique(hpointing['gpstime'],return_index=True)\n",
    "    \n",
    "    hrevlist = hpointing['gpstime']\n",
    "\n",
    "    psize = len(hpointing['el'])#[inds])\n",
    "\n",
    "    elmeans=hpointing['el']#[inds]\n",
    "    azmeans=hpointing['az']#[inds]\n",
    "    h1means = hpointing['H1']#[inds]\n",
    "    h2means = hpointing['H2']#[inds]\n",
    "    h3means = hpointing['H3']#[inds]\n",
    "    cryo1means = hpointing['Backend TSS']#[inds]\n",
    "    cryo2means = hpointing['Amplifier']#[inds]\n",
    "    cryo3means = hpointing['Cooler']#[inds]\n",
    "    cryo4means = hpointing['Calibrator']#[inds]\n",
    "    azlevmeans = hpointing['x tilt']#[inds]\n",
    "    ellevmeans = hpointing['y tilt']#[inds]\n",
    "    try:\n",
    "        azoffsetmeans = hpointing['az offset']#[inds]\n",
    "    except:\n",
    "        azoffsetmeans = np.zeros(psize)\n",
    "    try:\n",
    "        eloffsetmeans = hpointing['el offset']#[inds]\n",
    "    except:\n",
    "        eloffsetmeans = np.zeros(psize)\n",
    "    try:\n",
    "        comptimemeans = hpointing['computer time']#[inds]\n",
    "    except:\n",
    "        comptimemeans = np.zeros(psize)\n",
    "    try:\n",
    "        flagmeans = hpointing['flag']#[inds]\n",
    "    except:\n",
    "        flagmeans = np.zeros(psize)\n",
    "    try:\n",
    "        phtempmeans = hpointing['Phidget Temp']#[inds]\n",
    "    except:\n",
    "        phtempmeans = np.zeros(psize)\n",
    "    #(\"az offset\", np.float), (\"el offset\", np.float), (\"computer time\", np.float), (\"flag\", np.int)])\n",
    "\n",
    "    #get rid of az outliers:\n",
    "\n",
    "    azmeans=np.mod(azmeans+azoffset,360.)\n",
    "    elmeans=np.mod(elmeans+eloffset,90.)\n",
    "    daz=np.diff(azmeans)\n",
    "\n",
    "    maxstep = 5.\n",
    "    badaz=np.unique(np.where(np.logical_and((np.abs(daz) > maxstep) , (np.abs(daz+359.5) > maxstep)))[0])\n",
    "    '''if len(badaz > 1):\n",
    "        if (badaz[-1]-len(daz) < 3):\n",
    "            badaz=badaz[:-1]\n",
    "        if (badaz[0] < 3):\n",
    "            badaz=badaz[1:]\n",
    "        azmeans[badaz]=(azmeans[badaz-2]+azmeans[badaz+2])/2.0'''\n",
    "    azmeans=np.mod(azmeans,360.)\n",
    "    return {'el':elmeans,'az':azmeans,'gpstime':hrevlist, 'H1':h1means\n",
    "            , 'H2':h2means, 'H3':h3means, 'Backend TSS':cryo1means\n",
    "        , 'Amplifier':cryo2means, 'Cooler':cryo3means, 'Calibrator':cryo4means\n",
    "        , 'x tilt':azlevmeans, 'y tilt':ellevmeans, 'az offset':azoffsetmeans, 'el offset':eloffsetmeans, 'computer time':comptimemeans\n",
    "        , 'flag':flagmeans, 'Phidget Temp':phtempmeans }\n"
   ]
  },
  {
   "cell_type": "code",
   "execution_count": 10,
   "metadata": {},
   "outputs": [],
   "source": [
    "ddict={}"
   ]
  },
  {
   "cell_type": "code",
   "execution_count": 15,
   "metadata": {},
   "outputs": [
    {
     "name": "stderr",
     "output_type": "stream",
     "text": [
      "WARNING:root:Removing invalid revolutions (index from beginning of file): [  0 999]\n"
     ]
    },
    {
     "name": "stdout",
     "output_type": "stream",
     "text": [
      "1001\n",
      "16\n"
     ]
    },
    {
     "name": "stderr",
     "output_type": "stream",
     "text": [
      "WARNING:root:Removing invalid revolutions (index from beginning of file): [998]\n"
     ]
    },
    {
     "name": "stdout",
     "output_type": "stream",
     "text": [
      "1000\n",
      "16\n"
     ]
    },
    {
     "name": "stderr",
     "output_type": "stream",
     "text": [
      "WARNING:root:Removing invalid revolutions (index from beginning of file): [998]\n"
     ]
    },
    {
     "name": "stdout",
     "output_type": "stream",
     "text": [
      "1000\n",
      "16\n"
     ]
    }
   ],
   "source": [
    "read_some_data(ddict,'par', datatype='raw')"
   ]
  },
  {
   "cell_type": "code",
   "execution_count": 16,
   "metadata": {},
   "outputs": [
    {
     "data": {
      "text/plain": [
       "['skydip', 'par', 'amb', 'sky']"
      ]
     },
     "execution_count": 16,
     "metadata": {},
     "output_type": "execute_result"
    }
   ],
   "source": [
    "ddict.keys()"
   ]
  },
  {
   "cell_type": "code",
   "execution_count": 11,
   "metadata": {},
   "outputs": [
    {
     "data": {
      "text/plain": [
       "\"beta_h1 = (ddict['nocalch1'][rt.nametochan('H1HiAC')]['Q'].mean() - ddict['pcalch1'][rt.nametochan('H1HiAC')]['Q'].mean())/ddict['nocalch1'][rt.nametochan('H1HiAC')]['Q'].mean()\\nprint(beta_h1)\\nbeta_h2 = (ddict['nocalch2'][rt.nametochan('H2HiAC')]['Q'].mean() - ddict['pcalch2'][rt.nametochan('H2HiAC')]['Q'].mean())/ddict['nocalch2'][rt.nametochan('H2HiAC')]['Q'].mean()\\nprint(beta_h2)\\nbeta_h3 = (ddict['nocalch3'][rt.nametochan('H3HiAC')]['Q'].mean() - ddict['pcalch3'][rt.nametochan('H3HiAC')]['Q'].mean())/ddict['nocalch3'][rt.nametochan('H3HiAC')]['Q'].mean()\\nprint(beta_h3)\""
      ]
     },
     "execution_count": 11,
     "metadata": {},
     "output_type": "execute_result"
    }
   ],
   "source": [
    "'''beta_h1 = (ddict['nocalch1'][rt.nametochan('H1HiAC')]['Q'].mean() - ddict['pcalch1'][rt.nametochan('H1HiAC')]['Q'].mean())/ddict['nocalch1'][rt.nametochan('H1HiAC')]['Q'].mean()\n",
    "print(beta_h1)\n",
    "beta_h2 = (ddict['nocalch2'][rt.nametochan('H2HiAC')]['Q'].mean() - ddict['pcalch2'][rt.nametochan('H2HiAC')]['Q'].mean())/ddict['nocalch2'][rt.nametochan('H2HiAC')]['Q'].mean()\n",
    "print(beta_h2)\n",
    "beta_h3 = (ddict['nocalch3'][rt.nametochan('H3HiAC')]['Q'].mean() - ddict['pcalch3'][rt.nametochan('H3HiAC')]['Q'].mean())/ddict['nocalch3'][rt.nametochan('H3HiAC')]['Q'].mean()\n",
    "print(beta_h3)'''"
   ]
  },
  {
   "cell_type": "code",
   "execution_count": 39,
   "metadata": {},
   "outputs": [
    {
     "data": {
      "text/plain": [
       "\"beta = {}\\nfor i in range(1,4):\\n    nocal = ddict['nocalch%d' % i][rt.nametochan('H%dHiAC' % i)]['Q'].mean()\\n    pcal = ddict['pcalch%d' % i][rt.nametochan('H%dHiAC' % i)]['Q'].mean()\\n    \\n    nocal_std = ddict['nocalch%d' % i][rt.nametochan('H%dHiAC' % i)]['Q'].std()\\n    pcal_std = ddict['pcalch%d' % i][rt.nametochan('H%dHiAC' % i)]['Q'].std()\\n    \\n    BETA = (nocal - pcal)/nocal\\n    \\n    beta_std = (pcal/nocal)*np.sqrt((pcal_std/pcal)**2 + (nocal_std/nocal)**2)\\n    \\n    beta['H%d' % i] = ufloat(BETA, beta_std)\\n    \\n    print 'Horn %d beta: %.3f +/- %.3f' % (i, BETA, beta_std)\""
      ]
     },
     "execution_count": 39,
     "metadata": {},
     "output_type": "execute_result"
    }
   ],
   "source": [
    "'''beta = {}\n",
    "for i in range(1,4):\n",
    "    nocal = ddict['nocalch%d' % i][rt.nametochan('H%dHiAC' % i)]['Q'].mean()\n",
    "    pcal = ddict['pcalch%d' % i][rt.nametochan('H%dHiAC' % i)]['Q'].mean()\n",
    "    \n",
    "    nocal_std = ddict['nocalch%d' % i][rt.nametochan('H%dHiAC' % i)]['Q'].std()\n",
    "    pcal_std = ddict['pcalch%d' % i][rt.nametochan('H%dHiAC' % i)]['Q'].std()\n",
    "    \n",
    "    BETA = (nocal - pcal)/nocal\n",
    "    \n",
    "    beta_std = (pcal/nocal)*np.sqrt((pcal_std/pcal)**2 + (nocal_std/nocal)**2)\n",
    "    \n",
    "    beta['H%d' % i] = ufloat(BETA, beta_std)\n",
    "    \n",
    "    print 'Horn %d beta: %.3f +/- %.3f' % (i, BETA, beta_std)'''"
   ]
  },
  {
   "cell_type": "code",
   "execution_count": 40,
   "metadata": {},
   "outputs": [],
   "source": [
    "beta = {}\n",
    "beta['H1'] = ufloat(0.125,0.008)\n",
    "beta['H2'] = ufloat(0.127,0.003)\n",
    "beta['H3'] = ufloat(0.114,0.023)"
   ]
  },
  {
   "cell_type": "code",
   "execution_count": 18,
   "metadata": {},
   "outputs": [
    {
     "name": "stdout",
     "output_type": "stream",
     "text": [
      "skydip\n",
      "par\n",
      "amb\n",
      "sky\n"
     ]
    }
   ],
   "source": [
    "asd_dict = asd_from_dict(ddict, minfreq=0.1)"
   ]
  },
  {
   "cell_type": "code",
   "execution_count": 19,
   "metadata": {},
   "outputs": [
    {
     "name": "stderr",
     "output_type": "stream",
     "text": [
      "C:\\Users\\labuser\\anaconda3\\envs\\py27\\lib\\site-packages\\ipykernel_launcher.py:12: MatplotlibDeprecationWarning: The set_color_cycle function was deprecated in version 1.5. Use `.set_prop_cycle` instead.\n",
      "  if sys.path[0] == '':\n"
     ]
    },
    {
     "data": {
      "image/png": "[encoded data removed]",
      "text/plain": [
       "<Figure size 432x288 with 1 Axes>"
      ]
     },
     "metadata": {
      "needs_background": "light"
     },
     "output_type": "display_data"
    }
   ],
   "source": [
    "plot_asd_dict(asd_dict,chanlist=['H1HiAC'],componentlist=['T'],datalist=['amb', 'par', 'sky']\n",
    "              , kperv = [4.11, 4.11, 4.11], LABEL = ['Ambient Calibrator', 'Partial Calibrator', 'Sky at 70 deg elevation'], TITLE = '10 GHz Horn 1 raw data, Greenland 08/06/2018')"
   ]
  },
  {
   "cell_type": "code",
   "execution_count": 20,
   "metadata": {},
   "outputs": [],
   "source": [
    "pp = {}"
   ]
  },
  {
   "cell_type": "code",
   "execution_count": 23,
   "metadata": {},
   "outputs": [],
   "source": [
    "flp = get_pointing_files()"
   ]
  },
  {
   "cell_type": "code",
   "execution_count": 24,
   "metadata": {},
   "outputs": [],
   "source": [
    "pp['skydip'] = rt.get_h5_pointing(flp)\n",
    "gpstime = (pp['skydip']['gpstime'] - pp['skydip']['gpstime'][0])/1000./3600."
   ]
  },
  {
   "cell_type": "code",
   "execution_count": 25,
   "metadata": {},
   "outputs": [
    {
     "data": {
      "text/plain": [
       "[<matplotlib.lines.Line2D at 0x197bcc50>]"
      ]
     },
     "execution_count": 25,
     "metadata": {},
     "output_type": "execute_result"
    },
    {
     "data": {
      "image/png": "[encoded data removed]",
      "text/plain": [
       "<Figure size 432x288 with 1 Axes>"
      ]
     },
     "metadata": {
      "needs_background": "light"
     },
     "output_type": "display_data"
    }
   ],
   "source": [
    "plt.figure()\n",
    "plt.plot(pp['skydip']['gpstime'])"
   ]
  },
  {
   "cell_type": "code",
   "execution_count": 26,
   "metadata": {},
   "outputs": [],
   "source": [
    "flp_sky = get_pointing_files()\n",
    "pp['sky'] = rt.get_h5_pointing(flp_sky)"
   ]
  },
  {
   "cell_type": "code",
   "execution_count": 27,
   "metadata": {},
   "outputs": [
    {
     "data": {
      "text/plain": [
       "['gpstime',\n",
       " 'el',\n",
       " 'computer time',\n",
       " 'el offset',\n",
       " 'Calibrator',\n",
       " 'H2',\n",
       " 'H3',\n",
       " 'H1',\n",
       " 'Amplifier',\n",
       " 'az offset',\n",
       " 'Cooler',\n",
       " 'flag',\n",
       " 'x tilt',\n",
       " 'Phidget Temp',\n",
       " 'y tilt',\n",
       " 'az',\n",
       " 'Backend TSS']"
      ]
     },
     "execution_count": 27,
     "metadata": {},
     "output_type": "execute_result"
    }
   ],
   "source": [
    "pp['sky'].keys()"
   ]
  },
  {
   "cell_type": "code",
   "execution_count": 28,
   "metadata": {},
   "outputs": [],
   "source": [
    "combined = rt.combine_cofe_h5_pointing(ddict['skydip'], pp['skydip'])"
   ]
  },
  {
   "cell_type": "code",
   "execution_count": 29,
   "metadata": {},
   "outputs": [],
   "source": [
    "el = combined['el']\n",
    "chan = 'H3HiDC'\n",
    "var = 'T'\n",
    "data = -combined['sci_data'][rt.nametochan(chan)][var]"
   ]
  },
  {
   "cell_type": "code",
   "execution_count": 30,
   "metadata": {},
   "outputs": [],
   "source": [
    "def func(el, Vsys, Vz):\n",
    "    return Vsys + Vz/np.sin(el)"
   ]
  },
  {
   "cell_type": "code",
   "execution_count": 31,
   "metadata": {},
   "outputs": [],
   "source": [
    "popt, pcov = curve_fit(func, np.radians(el), data)\n",
    "perr = np.sqrt(np.diag(pcov))"
   ]
  },
  {
   "cell_type": "code",
   "execution_count": 32,
   "metadata": {},
   "outputs": [
    {
     "name": "stdout",
     "output_type": "stream",
     "text": [
      "[0.30050486 0.0749414 ] [0.00055461 0.00025948]\n"
     ]
    }
   ],
   "source": [
    "print popt, np.sqrt(np.diag(pcov))"
   ]
  },
  {
   "cell_type": "code",
   "execution_count": 33,
   "metadata": {
    "scrolled": true
   },
   "outputs": [
    {
     "data": {
      "text/plain": [
       "<matplotlib.legend.Legend at 0x19689e48>"
      ]
     },
     "execution_count": 33,
     "metadata": {},
     "output_type": "execute_result"
    },
    {
     "data": {
      "image/png": "[encoded data removed]",
      "text/plain": [
       "<Figure size 432x288 with 1 Axes>"
      ]
     },
     "metadata": {
      "needs_background": "light"
     },
     "output_type": "display_data"
    }
   ],
   "source": [
    "figure()\n",
    "plot(el, data, 'b-', linewidth=2, label='%s %s' % (chan, var))\n",
    "plot(el, func(np.radians(el), *popt), 'r-', label='fit: Vsys=%.3f V, Vz=%.3f V' % tuple(popt))\n",
    "ylabel('Signal (Volts)')\n",
    "xlabel('Elevation (deg)')\n",
    "legend()"
   ]
  },
  {
   "cell_type": "code",
   "execution_count": 34,
   "metadata": {},
   "outputs": [],
   "source": [
    "#now get par cal and clear sky voltages and plug into notebook equation to get gain\n",
    "#beta = {'H1': 0.12419560576729863, 'H2':0.12628101445342926, 'H3': 0.11703026443075649}"
   ]
  },
  {
   "cell_type": "code",
   "execution_count": 35,
   "metadata": {},
   "outputs": [
    {
     "name": "stderr",
     "output_type": "stream",
     "text": [
      "C:\\Users\\labuser\\anaconda3\\envs\\py27\\lib\\site-packages\\ipykernel_launcher.py:12: MatplotlibDeprecationWarning: The set_color_cycle function was deprecated in version 1.5. Use `.set_prop_cycle` instead.\n",
      "  if sys.path[0] == '':\n"
     ]
    },
    {
     "data": {
      "image/png": "[encoded data removed]",
      "text/plain": [
       "<Figure size 432x288 with 1 Axes>"
      ]
     },
     "metadata": {
      "needs_background": "light"
     },
     "output_type": "display_data"
    }
   ],
   "source": [
    "plot_asd_dict(asd_dict,chanlist=['H1HiAC'],componentlist=['T'],datalist=['sky']\n",
    "              , kperv = [1], LABEL = ['Sky at 70 deg elevation'], TITLE = '')"
   ]
  },
  {
   "cell_type": "code",
   "execution_count": 41,
   "metadata": {},
   "outputs": [
    {
     "name": "stdout",
     "output_type": "stream",
     "text": [
      "0.114+/-0.023 281.56+/-0.30 0.07494+/-0.00026 0.3005+/-0.0006\n",
      "Horn 3 DC Level:  -0.378236224199797  V\n",
      "Horn 3 partial cal DC Level:  -1.270544124511647  V\n",
      "Horn 3 DC gain:  -36+/-7  K/V\n",
      "Horn 3 AC gain:  -1.21+/-0.25  K/V\n",
      "Horn 3 Tsky:  25+/-5 K\n",
      "Horn 3 Tz:  2.7+/-0.6\n",
      "Horn 3 Tsys:  10.9+/-2.2 K\n",
      "Horn 3 noise level:  1.11+/-0.23  mK*sqrt(sec)\n",
      "Horn 3 expected noise level:  0.22+/-0.04  mK*sqrt(sec)\n",
      "Horn 3 effective bandpass:  0.4114667677262644  GHz\n",
      "--------------------------\n"
     ]
    }
   ],
   "source": [
    "asd = [0.0005,0.0005, 0.0013]\n",
    "#delta T is 0.005 for sedgwick, 7e-5 for greenland\n",
    "Vsys = ufloat(popt[0], perr[0])\n",
    "Vz = ufloat(popt[1], perr[1])\n",
    "Tamb = ufloat(np.nanmean(pp['skydip']['Calibrator']), np.nanstd(pp['skydip']['Calibrator']))\n",
    "for chan in ['H3HiDC']:\n",
    "    \n",
    "    \n",
    "\n",
    "    elevation = pp['sky']['el'].mean()\n",
    "\n",
    "    try:\n",
    "        Vpar = ddict['par'][rt.nametochan(chan)][var].mean()\n",
    "        Vsky = ddict['sky'][rt.nametochan(chan)][var].mean()\n",
    "        \n",
    "    except:\n",
    "        Vpar = ddict['par'][rt.nametochan(chan)].flatten().mean()\n",
    "        Vsky = ddict['sky'][rt.nametochan(chan)].flatten().mean()\n",
    "\n",
    "    h = int(chan[1])   \n",
    "\n",
    "    Vpar_lin = rt.linearize_Vexp(Vpar, h)\n",
    "    Vsky_lin = rt.linearize_Vexp(Vsky, h)\n",
    "    \n",
    "    b = beta[chan[:2]]\n",
    "\n",
    "    gain = b*Tamb/(Vpar_lin - Vsky_lin + b*(Vz/np.sin(elevation)))\n",
    "    \n",
    "    nl = asd[int(chan[1])-1]/np.sqrt(2)\n",
    "    Tsys = -Vsys*gain\n",
    "    Tz = -Vz*gain\n",
    "    enl = gain*Vsky_lin/np.sqrt(4e9)\n",
    "\n",
    "    print b, Tamb, Vz, Vsys\n",
    "    print 'Horn %s DC Level: ' % h, Vsky_lin, ' V'\n",
    "    print 'Horn %s partial cal DC Level: ' % h, Vpar_lin, ' V'\n",
    "    print 'Horn %s DC gain: ' % h, gain, ' K/V'\n",
    "    print 'Horn %s AC gain: ' % h, gain/30., ' K/V'\n",
    "    print 'Horn %s Tsky: ' % h, (Vsky_lin - Vsys)*gain, 'K'\n",
    "    print 'Horn %s Tz: ' % h, Tz\n",
    "    print 'Horn %s Tsys: ' % h, Tsys, 'K'\n",
    "    print 'Horn %s noise level: ' % h, -nl*1e3*gain/30., ' mK*sqrt(sec)'\n",
    "    print 'Horn %s expected noise level: ' % h, enl*1e3, ' mK*sqrt(sec)'\n",
    "    print 'Horn %s effective bandpass: ' % h, -(Vsky_lin/(nl*1e3)), ' GHz'\n",
    "    #print 'Horn %s sky Temperature:0 ' % h, gain*Vsky_lin, ' K'\n",
    "    print '--------------------------'"
   ]
  },
  {
   "cell_type": "code",
   "execution_count": 42,
   "metadata": {},
   "outputs": [
    {
     "name": "stdout",
     "output_type": "stream",
     "text": [
      "281.8105883074667\n",
      "Horn 3 DC Level (sky):  -0.378236224199797  V\n",
      "Horn 3 DC Level (amb):  -5.563874922321592  V\n",
      "Horn 3 DC gain:  -52.416028985188404  K/V\n",
      "Horn 3 AC gain:  -1.7472009661729468  K/V\n",
      "Horn 3 Tsys:  9.825640890904783 K\n",
      "Horn 3 noise level:  -8.648203558936048  mK*sqrt(sec)\n",
      "Horn 3 effective bandpass:  0.07641525686344909  GHz\n",
      "Horn 3 expected noise level:  0.3134709064391446  mK*sqrt(sec)\n",
      "--------------------------\n"
     ]
    }
   ],
   "source": [
    "#if you dont have sky dip data:\n",
    "asd = [0.0005,0.002, 0.007]\n",
    "Tsky = 10. #guess at Tsky value. Conversly you can use LN2 as your cold source and then you dont have to guess here\n",
    "\n",
    "for chan in ['H3HiDC']:\n",
    "    \n",
    "    Tamb = np.nanmean(pp['sky']['Calibrator'])\n",
    "    print Tamb\n",
    "\n",
    "    #if its demod data\n",
    "    try:\n",
    "        Vamb = ddict['amb'][rt.nametochan(chan)][var].mean()\n",
    "        Vsky = ddict['sky'][rt.nametochan(chan)][var].mean()\n",
    "    #if its raw data\n",
    "    except:\n",
    "        Vamb = ddict['amb'][rt.nametochan(chan)].flatten().mean()\n",
    "        Vsky = ddict['sky'][rt.nametochan(chan)].flatten().mean()\n",
    "\n",
    "    h = int(chan[1])   \n",
    "\n",
    "    Vamb_lin = rt.linearize_Vexp(Vamb, h)\n",
    "    Vsky_lin = rt.linearize_Vexp(Vsky, h)\n",
    "\n",
    "\n",
    "    gain = (Tamb - Tsky)/(Vamb_lin - Vsky_lin)\n",
    "    \n",
    "    y = Vamb_lin/Vsky_lin\n",
    "    \n",
    "    Tsys = (Tamb - y*Tsky)/(y-1) #not always a good measure do to compression etc..\n",
    "    \n",
    "    nl = asd[int(chan[1])-1]/np.sqrt(2)\n",
    "    \n",
    "    enl = (Tsys + Tsky)/np.sqrt(4e9)\n",
    "\n",
    "    print 'Horn %s DC Level (sky): ' % h,  Vsky_lin, ' V'\n",
    "    print 'Horn %s DC Level (amb): ' % h,  Vamb_lin, ' V'\n",
    "    print 'Horn %s DC gain: ' % h, gain, ' K/V'\n",
    "    print 'Horn %s AC gain: ' % h, gain/30., ' K/V'\n",
    "    print 'Horn %s Tsys: ' % h, Tsys, 'K'\n",
    "    print 'Horn %s noise level: ' % h, nl*1e3*gain/30., ' mK*sqrt(sec)'\n",
    "    print 'Horn %s effective bandpass: ' % h, -(Vsky_lin/(nl*1e3)), ' GHz'\n",
    "    print 'Horn %s expected noise level: ' % h, enl*1e3, ' mK*sqrt(sec)'\n",
    "    print '--------------------------'"
   ]
  }
 ],
 "metadata": {
  "kernelspec": {
   "display_name": "Python 2",
   "language": "python",
   "name": "python2"
  },
  "language_info": {
   "codemirror_mode": {
    "name": "ipython",
    "version": 2
   },
   "file_extension": ".py",
   "mimetype": "text/x-python",
   "name": "python",
   "nbconvert_exporter": "python",
   "pygments_lexer": "ipython2",
   "version": "2.7.16"
  }
 },
 "nbformat": 4,
 "nbformat_minor": 2
}
