{
 "cells": [
  {
   "cell_type": "code",
   "execution_count": 13,
   "metadata": {},
   "outputs": [
    {
     "name": "stdout",
     "output_type": "stream",
     "text": [
      "Using matplotlib backend: Qt5Agg\n",
      "Populating the interactive namespace from numpy and matplotlib\n"
     ]
    },
    {
     "name": "stderr",
     "output_type": "stream",
     "text": [
      "C:\\Users\\labuser\\anaconda3\\envs\\py27\\lib\\site-packages\\IPython\\core\\magics\\pylab.py:161: UserWarning: pylab import has clobbered these variables: ['fmod', 'sinh', 'trunc', 'Text', 'tan', 'gamma', 'cosh', 'radians', 'sin', 'expm1', 'ldexp', 'Button', 'exp', 'frexp', 'ceil', 'copysign', 'Widget', 'degrees', 'cos', 'tanh', 'fabs', 'sqrt', 'hypot', 'log', 'log10', 'log1p', 'floor', 'modf', 'isinf', 'isnan']\n",
      "`%matplotlib` prevents importing * from pylab and numpy\n",
      "  \"\\n`%matplotlib` prevents importing * from pylab and numpy\"\n"
     ]
    }
   ],
   "source": [
    "import sys\n",
    "import os\n",
    "sys.path.append('D:\\\\software_git_repos\\\\Polaris\\\\polaris_software\\\\utils_meinhold')\n",
    "#sys.path.append('../../cofe-python-analysis-tools/utils_meinhold')\n",
    "sys.path.append('D:\\\\software_git_repos\\\\Polaris\\\\polaris_software\\\\utils_zonca')\n",
    "#sys.path.append('../../cofe-python-analysis-tools/utils_zonca')\n",
    "#sys.path.append('D:\\\\software_git_repos\\\\cofe-python-analysis-tools\\\\utils_zonca\\\\pointing')\n",
    "sys.path.append('../../cofe-python-analysis-tools/utils_zonca/pointing')\n",
    "#sys.path.append('D:\\\\software_git_repos\\\\greenpol')\n",
    "sys.path.append('../')\n",
    "#sys.path.append('D:\\\\software_git_repos\\\\greenpol\\\\telescope_control\\\\')\n",
    "sys.path.append('../telescope_control')\n",
    "#sys.path.append('D:\\\\software_git_repos\\\\greenpol\\\\telescope_control\\\\VtoT\\\\')\n",
    "sys.path.append('../VtoT')\n",
    "import convert\n",
    "import realtime_gp as rt\n",
    "import numpy as np\n",
    "import datetime \n",
    "import h5py\n",
    "#import pandas as pd\n",
    "#from pointingtools import compute_parallactic_angle, altaz2ha \n",
    "#from planets import getlocation, getpointing\n",
    "import warnings\n",
    "#from astropy.coordinates import AltAz, Angle, EarthLocation, ICRS, SkyCoord, frame_transform_graph\n",
    "#from astropy import units as u\n",
    "#import ephem\n",
    "import matplotlib.pyplot as plt\n",
    "import time\n",
    "#import planets\n",
    "from datetime import timedelta\n",
    "#import numpy.ma as ma\n",
    "import cofe_util as cu\n",
    "\n",
    "import Tkinter,tkFileDialog\n",
    "\n",
    "from Tkinter import *\n",
    "import ttk\n",
    "\n",
    "import pickle\n",
    "import glob\n",
    "\n",
    "import cPickle\n",
    "\n",
    "from scipy.optimize import curve_fit\n",
    "\n",
    "from uncertainties import ufloat\n",
    "from uncertainties.umath import *\n",
    "\n",
    "%pylab"
   ]
  },
  {
   "cell_type": "code",
   "execution_count": 14,
   "metadata": {},
   "outputs": [],
   "source": [
    "def get_pointing_files(filelist=None):\n",
    "\n",
    "    if filelist==None:\n",
    "        root=Tkinter.Tk()\n",
    "        filelist = list(tkFileDialog.askopenfilenames(\\\n",
    "        initialdir='D://software_git_repos/Polaris/polaris_data/pointing_data/',parent=root,title='Choose a set of files'))\n",
    "        root.destroy()\n",
    "    filelist.sort()\n",
    "    \n",
    "    return filelist"
   ]
  },
  {
   "cell_type": "code",
   "execution_count": 15,
   "metadata": {},
   "outputs": [],
   "source": [
    "def read_some_data(datadict,datalabel,datatype='demod', filelist=None):\n",
    "\n",
    "    if filelist==None:\n",
    "        root=Tkinter.Tk()\n",
    "        if datatype=='demod':\n",
    "            filelist = list(tkFileDialog.askopenfilenames(\\\n",
    "            initialdir='D://software_git_repos/Polaris/polaris_data/demod_data/',parent=root,title='Choose a set of files'))\n",
    "        if datatype=='raw':\n",
    "            filelist = list(tkFileDialog.askopenfilenames(\\\n",
    "            initialdir='D://software_git_repos/Polaris/polaris_data/data/',parent=root,title='Choose a set of files'))            \n",
    "        root.destroy()\n",
    "    filelist.sort()\n",
    "    \n",
    "    if datatype=='demod':\n",
    "        dlist=[]\n",
    "        for f in filelist:\n",
    "            hf=h5py.File(f)\n",
    "            dlist.append(hf['demod_data'])\n",
    "        d=concatenate(dlist)\n",
    "        hf.close() \n",
    "        \n",
    "    if datatype=='raw':\n",
    "        d=rt.demod.read_raw(filelist)\n",
    "    datadict[datalabel]=d\n",
    "    return"
   ]
  },
  {
   "cell_type": "code",
   "execution_count": 16,
   "metadata": {},
   "outputs": [],
   "source": [
    "def get_file_times(fld):\n",
    "    startfile = fld[0][:65]+fld[0][71:-2]+'dat'\n",
    "    endfile = fld[-1][:65]+fld[-1][71:-2]+'dat'\n",
    "    \n",
    "    #starttime = os.path.getctime(startfile)\n",
    "    starttime= os.stat(startfile).st_mtime\n",
    "    starttime = datetime.datetime.fromtimestamp(starttime)\n",
    "\n",
    "    #endtime = os.path.getctime(endfile)\n",
    "    endtime= os.stat(endfile).st_mtime\n",
    "    endtime = datetime.datetime.fromtimestamp(endtime)\n",
    "    \n",
    "    return starttime, endtime"
   ]
  },
  {
   "cell_type": "code",
   "execution_count": 17,
   "metadata": {},
   "outputs": [],
   "source": [
    "def plot_toi_dict(toi_dict,chanlist=['H1HiAC'],componentlist=['T'],datalist=None, kperv=[1]):\n",
    "    #function to give a choice of preloaded datasets from dictionary data_dict\n",
    "    figure()\n",
    "    if datalist==None:\n",
    "        datalist=toi_dict.keys()\n",
    "    if len(componentlist)==1:  # if componentlist is a single value, assume same thing for all chans\n",
    "        c=componentlist[0]\n",
    "        componentlist=[c for n in chanlist]\n",
    "    #set up the color sequence for the plot\n",
    "    nlines=len(datalist)*len(chanlist)\n",
    "    colormap = cm.gist_ncar\n",
    "    gca().set_color_cycle([colormap(i) for i in np.linspace(0, 0.9, nlines)])\n",
    "    titletxt=[]\n",
    "    count = 0\n",
    "    for dname in datalist:\n",
    "        samprate=1000./(toi_dict[dname]['rev'][1]-toi_dict[dname]['rev'][0])\n",
    "        titletxt.append(dname)\n",
    "        for channame,component in zip(chanlist,componentlist):\n",
    "            try:\n",
    "                toi=toi_dict[dname][rt.nametochan(channame)][component] #if it's demod data so a dict\n",
    "                print dname + channame + ' mean value: ', toi.mean()\n",
    "                t=toi_dict[dname]['azi'][0]+arange(len(toi))/samprate\n",
    "                if len(kperv)==1 and kperv[0]==1.0:\n",
    "                    plot(t,toi*kperv[count],label=dname+ '  '+channame+' '+component,lw=2)\n",
    "                else:\n",
    "                    plot(t,toi*kperv[count],label=dname+ '  '+channame+' '+component+' gain= '+str(kperv[count]),lw=2)\n",
    "                if (count+1) < len(kperv):\n",
    "                    count += 1\n",
    "            except:\n",
    "                toi=toi_dict[dname][rt.nametochan(channame)].flatten()#if it's raw data so not a dict\n",
    "                print dname + ' ' + channame + ' mean value: ', toi.mean()\n",
    "                t=toi_dict[dname]['azi'][0]+arange(len(toi))/(256.*samprate)\n",
    "                if len(kperv)==1 and kperv[0]==1.0:\n",
    "                    plot(t,toi*kperv[count],label=dname+ '  '+channame+' '+component,lw=2)\n",
    "                else:\n",
    "                    plot(t,toi*kperv[count],label=dname+ '  '+channame+' '+component+' gain= '+str(kperv[count]),lw=2) \n",
    "                if (count+1) < len(kperv):\n",
    "                    count += 1\n",
    "                \n",
    "    title(titletxt)\n",
    "    legend()\n",
    "    xlabel('Time [S]')\n",
    "    if len(kperv) == 1 and kperv[0] == 1:\n",
    "        ylabel('Output [v]')\n",
    "    else:\n",
    "        ylabel('Output [T]')"
   ]
  },
  {
   "cell_type": "code",
   "execution_count": 18,
   "metadata": {},
   "outputs": [],
   "source": [
    "def asd_from_dict(data_dict,minfreq=1.):\n",
    "    #run nps on all the channels for each of the loaded data sets, return asd dictionary\n",
    "    asd_dict={}\n",
    "    chans=['ch%s' %str(i) for i in range(16)]\n",
    "    for datset in data_dict.keys():\n",
    "        asd_dict[datset]={}\n",
    "        datatype='demod'\n",
    "        print(datset)\n",
    "        d=data_dict[datset]\n",
    "        if len(d.dtype)==18:\n",
    "            datatype='raw'\n",
    "        samprate=1000./float(d['rev'][10]-d['rev'][9])\n",
    "        for chan in chans:\n",
    "            if datatype=='raw':\n",
    "                freq,psd=cu.nps(d[chan].flatten(),samprate*256,minfreq=minfreq)\n",
    "                asd_dict[datset]['freq']=freq\n",
    "                asd_dict[datset][chan]=sqrt(psd)\n",
    "            if datatype=='demod':\n",
    "                asd_dict[datset][chan]={}\n",
    "                for component in ['T','Q','U']:\n",
    "                    freq,psd=cu.nps(d[chan][component],samprate,minfreq=minfreq)\n",
    "                    asd_dict[datset][chan][component]=sqrt(psd)\n",
    "                    asd_dict[datset]['freq']=freq\n",
    "                    \n",
    "    return asd_dict            "
   ]
  },
  {
   "cell_type": "code",
   "execution_count": 19,
   "metadata": {},
   "outputs": [],
   "source": [
    "def plot_asd_dict(asd_dict,chanlist=['H1HiAC'],componentlist=['T'],datalist=None,kperv=[1], LABEL = None, TITLE=None, color = None):\n",
    "    #function to give a choice of preloaded datasets from dictionary data_dict\n",
    "    figure()\n",
    "    if datalist==None:\n",
    "        datalist=asd_dict.keys()\n",
    "    if len(componentlist)==1:  # if componentlist is a single value, assume same thing for all chans\n",
    "        c=componentlist[0]\n",
    "        componentlist=[c for n in datalist]\n",
    "    #set up the color sequence for the plot\n",
    "    nlines=len(datalist)*len(chanlist)\n",
    "    colormap = cm.gist_ncar\n",
    "    gca().set_color_cycle([colormap(i) for i in np.linspace(0, 0.9, nlines)])\n",
    "    \n",
    "    count = 0\n",
    "    for dname in datalist:\n",
    "        for channame,component in zip(chanlist,componentlist):\n",
    "            try:\n",
    "                asd=asd_dict[dname][rt.nametochan(channame)][component] #if it's demod data so a dict\n",
    "            except:\n",
    "                asd=asd_dict[dname][rt.nametochan(channame)]           #if it's raw data so not a dict\n",
    "            if LABEL == None:\n",
    "                    LABEL = dname+ '  '+channame+' '+component\n",
    "            else:\n",
    "                label = LABEL[count]\n",
    "                    \n",
    "            if color == None:\n",
    "                if len(kperv) == 1 and kperv[0] == 1.0:\n",
    "                    plot(asd_dict[dname]['freq'],asd*kperv[count],label=label,lw=2)\n",
    "                else:\n",
    "                    plot(asd_dict[dname]['freq'],asd*kperv[count],label=label,lw=2)\n",
    "                    \n",
    "            else:\n",
    "                if len(kperv) == 1 and kperv[0] == 1.0:\n",
    "                    plot(asd_dict[dname]['freq'],asd*kperv[count], color[count],label=label,lw=2)\n",
    "                else:\n",
    "                    plot(asd_dict[dname]['freq'],asd*kperv[count], color[count],label=label,lw=2)\n",
    "            if (count+1) < len(kperv):\n",
    "                count += 1\n",
    "    legend()\n",
    "    xlabel('Frequency [Hz]')\n",
    "    title(TITLE)\n",
    "    if len(kperv) == 1 and kperv[0] == 1:\n",
    "        ylabel(r'ASD [$\\frac{V}{\\sqrt{Hz}}$]')\n",
    "    else:\n",
    "        ylabel(r'ASD [$\\frac{K}{\\sqrt{Hz}}$]')"
   ]
  },
  {
   "cell_type": "code",
   "execution_count": 20,
   "metadata": {},
   "outputs": [],
   "source": [
    "def get_h5_pointing_simple(filelist,startrev=None, stoprev=None,angles_in_ints=False,azel_era=3):\n",
    "    \"\"\"\n",
    "        modify to fast version, dont' average the multiple values, just take the first one. will cause a little bias but its very fast.\n",
    "    also implmented removal of erroneous endof h5 file crap, and az outliers\n",
    "    azel_era determines what az/el offsets to use, 1 means before 9/26/2013, 2 means 9/26-10/3 (inclusive), 3 means after 10/4.\n",
    "    \"\"\"\n",
    "\n",
    "    #filelist is complete path list to the h5 files\n",
    "    elconversion=-360./40000.\n",
    "    azconversion=-360./(2.**16)\n",
    "    #eloffset=8.2-3.17382\n",
    "    #eloffset=5.026 # correction from 2013/08/02 moon crossing for both az and el this for ch 3! \n",
    "    #azoffset=4.41496\n",
    "    # on 2013/08/20, updated converter.py to include these offsets, in theory they should now be zero.\n",
    "    eloffset =0.0\n",
    "    azoffset=0.0\n",
    "    #ch1 would be azoffset=198.7810-187.663   or 11.118\n",
    "    #             eloffset= 8.2-5.69175  \n",
    "    #             eloffset= 2.5082\n",
    "    #note October 4, 2013. Just found that data from 9/26/13 through 10/04/13 used old converter.py. So special \n",
    "    #offsets needed:\n",
    "    #update, 10/8/13. ran get_cofe_crossing on second sun crossing from 10/04 (after subtracting \n",
    "    #template estimate of satellites,important effect). delta offsets: az=2.10,el=0.934\n",
    "    #these then would be future offsets\n",
    "    #update, 11/19/13. Ran mapmaking on lots of days, found an offset in the two daily crossings of the Crab- used ephem\n",
    "    #to find the crossings, found that should get a self-consistent solution for both if the azimth is reduced by 4.51 degrees\n",
    "    #and the elevation is increased by  2.241 degrees.\n",
    "    '''\n",
    "    if azel_era==1:\n",
    "        eloffset=5.026\n",
    "        azoffset=4.41496+140.0\n",
    "    if azel_era==2:\n",
    "        eloffset=5.026+0.934\n",
    "        azoffset=4.41496+140.0+2.1\n",
    "    if azel_era==3:\n",
    "        eloffset=0.934+2.241\n",
    "        azoffset=2.10 -4.51\n",
    "    '''\n",
    "\n",
    "\n",
    "\n",
    "    errlimit=0.1\n",
    "    \n",
    "    #if angles_in_ints==True:\n",
    "    #    errlimit=10\n",
    "    hpointing=[]\n",
    "    filelist.sort()\n",
    "    for f in filelist:\n",
    "        if f[79:88] != 'corrected':\n",
    "            slimit = 22144\n",
    "        else:\n",
    "            slimit = 11512\n",
    "        stats=os.stat(f)\n",
    "        if stats.st_size<slimit:\n",
    "            print f,stats.st_size\n",
    "        if stats.st_size >= slimit:\n",
    "            h=h5py.File(f)\n",
    "            hh=h['data']\n",
    "            hpointing.append(hh[hh['gpstime']>=hh['gpstime'][0]])\n",
    "            #print hpointinng\n",
    "            h.close()\n",
    "\n",
    "    hpointing = np.concatenate(hpointing)\n",
    "    #cut out blank lines from unfilled files\n",
    "    '''if startrev != None:\n",
    "        hpointing=hpointing[hpointing['gpstime'] > startrev]\n",
    "    if stoprev != None:\n",
    "        hpointing=hpointing[hpointing['gpstime'] < stoprev]'''\n",
    "\n",
    "    #hrevlist,inds=np.unique(hpointing['gpstime'],return_index=True)\n",
    "    \n",
    "    hrevlist = hpointing['gpstime']\n",
    "\n",
    "    psize = len(hpointing['el'])#[inds])\n",
    "\n",
    "    elmeans=hpointing['el']#[inds]\n",
    "    azmeans=hpointing['az']#[inds]\n",
    "    h1means = hpointing['H1']#[inds]\n",
    "    h2means = hpointing['H2']#[inds]\n",
    "    h3means = hpointing['H3']#[inds]\n",
    "    cryo1means = hpointing['Backend TSS']#[inds]\n",
    "    cryo2means = hpointing['Amplifier']#[inds]\n",
    "    cryo3means = hpointing['Cooler']#[inds]\n",
    "    cryo4means = hpointing['Calibrator']#[inds]\n",
    "    azlevmeans = hpointing['x tilt']#[inds]\n",
    "    ellevmeans = hpointing['y tilt']#[inds]\n",
    "    try:\n",
    "        azoffsetmeans = hpointing['az offset']#[inds]\n",
    "    except:\n",
    "        azoffsetmeans = np.zeros(psize)\n",
    "    try:\n",
    "        eloffsetmeans = hpointing['el offset']#[inds]\n",
    "    except:\n",
    "        eloffsetmeans = np.zeros(psize)\n",
    "    try:\n",
    "        comptimemeans = hpointing['computer time']#[inds]\n",
    "    except:\n",
    "        comptimemeans = np.zeros(psize)\n",
    "    try:\n",
    "        flagmeans = hpointing['flag']#[inds]\n",
    "    except:\n",
    "        flagmeans = np.zeros(psize)\n",
    "    try:\n",
    "        phtempmeans = hpointing['Phidget Temp']#[inds]\n",
    "    except:\n",
    "        phtempmeans = np.zeros(psize)\n",
    "    #(\"az offset\", np.float), (\"el offset\", np.float), (\"computer time\", np.float), (\"flag\", np.int)])\n",
    "\n",
    "    #get rid of az outliers:\n",
    "\n",
    "    azmeans=np.mod(azmeans+azoffset,360.)\n",
    "    elmeans=np.mod(elmeans+eloffset,90.)\n",
    "    daz=np.diff(azmeans)\n",
    "\n",
    "    maxstep = 5.\n",
    "    badaz=np.unique(np.where(np.logical_and((np.abs(daz) > maxstep) , (np.abs(daz+359.5) > maxstep)))[0])\n",
    "    '''if len(badaz > 1):\n",
    "        if (badaz[-1]-len(daz) < 3):\n",
    "            badaz=badaz[:-1]\n",
    "        if (badaz[0] < 3):\n",
    "            badaz=badaz[1:]\n",
    "        azmeans[badaz]=(azmeans[badaz-2]+azmeans[badaz+2])/2.0'''\n",
    "    azmeans=np.mod(azmeans,360.)\n",
    "    return {'el':elmeans,'az':azmeans,'gpstime':hrevlist, 'H1':h1means\n",
    "            , 'H2':h2means, 'H3':h3means, 'Backend TSS':cryo1means\n",
    "        , 'Amplifier':cryo2means, 'Cooler':cryo3means, 'Calibrator':cryo4means\n",
    "        , 'x tilt':azlevmeans, 'y tilt':ellevmeans, 'az offset':azoffsetmeans, 'el offset':eloffsetmeans, 'computer time':comptimemeans\n",
    "        , 'flag':flagmeans, 'Phidget Temp':phtempmeans }\n"
   ]
  },
  {
   "cell_type": "code",
   "execution_count": 21,
   "metadata": {},
   "outputs": [],
   "source": [
    "ddict={}"
   ]
  },
  {
   "cell_type": "code",
   "execution_count": 90,
   "metadata": {},
   "outputs": [],
   "source": [
    "read_some_data(ddict,'skydip', datatype='demod')"
   ]
  },
  {
   "cell_type": "code",
   "execution_count": 31,
   "metadata": {},
   "outputs": [
    {
     "data": {
      "text/plain": [
       "['skydip', 'sky', 'par', 'amb', 'sky_demod']"
      ]
     },
     "execution_count": 31,
     "metadata": {},
     "output_type": "execute_result"
    }
   ],
   "source": [
    "ddict.keys()"
   ]
  },
  {
   "cell_type": "code",
   "execution_count": 48,
   "metadata": {},
   "outputs": [
    {
     "ename": "KeyError",
     "evalue": "'nocalch1'",
     "output_type": "error",
     "traceback": [
      "\u001b[1;31m---------------------------------------------------------------------------\u001b[0m",
      "\u001b[1;31mKeyError\u001b[0m                                  Traceback (most recent call last)",
      "\u001b[1;32m<ipython-input-48-c1c77dd1c26e>\u001b[0m in \u001b[0;36m<module>\u001b[1;34m()\u001b[0m\n\u001b[1;32m----> 1\u001b[1;33m \u001b[0mbeta_h1\u001b[0m \u001b[1;33m=\u001b[0m \u001b[1;33m(\u001b[0m\u001b[0mddict\u001b[0m\u001b[1;33m[\u001b[0m\u001b[1;34m'nocalch1'\u001b[0m\u001b[1;33m]\u001b[0m\u001b[1;33m[\u001b[0m\u001b[0mrt\u001b[0m\u001b[1;33m.\u001b[0m\u001b[0mnametochan\u001b[0m\u001b[1;33m(\u001b[0m\u001b[1;34m'H1HiAC'\u001b[0m\u001b[1;33m)\u001b[0m\u001b[1;33m]\u001b[0m\u001b[1;33m[\u001b[0m\u001b[1;34m'Q'\u001b[0m\u001b[1;33m]\u001b[0m\u001b[1;33m.\u001b[0m\u001b[0mmean\u001b[0m\u001b[1;33m(\u001b[0m\u001b[1;33m)\u001b[0m \u001b[1;33m-\u001b[0m \u001b[0mddict\u001b[0m\u001b[1;33m[\u001b[0m\u001b[1;34m'pcalch1'\u001b[0m\u001b[1;33m]\u001b[0m\u001b[1;33m[\u001b[0m\u001b[0mrt\u001b[0m\u001b[1;33m.\u001b[0m\u001b[0mnametochan\u001b[0m\u001b[1;33m(\u001b[0m\u001b[1;34m'H1HiAC'\u001b[0m\u001b[1;33m)\u001b[0m\u001b[1;33m]\u001b[0m\u001b[1;33m[\u001b[0m\u001b[1;34m'Q'\u001b[0m\u001b[1;33m]\u001b[0m\u001b[1;33m.\u001b[0m\u001b[0mmean\u001b[0m\u001b[1;33m(\u001b[0m\u001b[1;33m)\u001b[0m\u001b[1;33m)\u001b[0m\u001b[1;33m/\u001b[0m\u001b[0mddict\u001b[0m\u001b[1;33m[\u001b[0m\u001b[1;34m'nocalch1'\u001b[0m\u001b[1;33m]\u001b[0m\u001b[1;33m[\u001b[0m\u001b[0mrt\u001b[0m\u001b[1;33m.\u001b[0m\u001b[0mnametochan\u001b[0m\u001b[1;33m(\u001b[0m\u001b[1;34m'H1HiAC'\u001b[0m\u001b[1;33m)\u001b[0m\u001b[1;33m]\u001b[0m\u001b[1;33m[\u001b[0m\u001b[1;34m'Q'\u001b[0m\u001b[1;33m]\u001b[0m\u001b[1;33m.\u001b[0m\u001b[0mmean\u001b[0m\u001b[1;33m(\u001b[0m\u001b[1;33m)\u001b[0m\u001b[1;33m\u001b[0m\u001b[0m\n\u001b[0m\u001b[0;32m      2\u001b[0m \u001b[1;32mprint\u001b[0m\u001b[1;33m(\u001b[0m\u001b[0mbeta_h1\u001b[0m\u001b[1;33m)\u001b[0m\u001b[1;33m\u001b[0m\u001b[0m\n\u001b[0;32m      3\u001b[0m \u001b[0mbeta_h2\u001b[0m \u001b[1;33m=\u001b[0m \u001b[1;33m(\u001b[0m\u001b[0mddict\u001b[0m\u001b[1;33m[\u001b[0m\u001b[1;34m'nocalch2'\u001b[0m\u001b[1;33m]\u001b[0m\u001b[1;33m[\u001b[0m\u001b[0mrt\u001b[0m\u001b[1;33m.\u001b[0m\u001b[0mnametochan\u001b[0m\u001b[1;33m(\u001b[0m\u001b[1;34m'H2HiAC'\u001b[0m\u001b[1;33m)\u001b[0m\u001b[1;33m]\u001b[0m\u001b[1;33m[\u001b[0m\u001b[1;34m'Q'\u001b[0m\u001b[1;33m]\u001b[0m\u001b[1;33m.\u001b[0m\u001b[0mmean\u001b[0m\u001b[1;33m(\u001b[0m\u001b[1;33m)\u001b[0m \u001b[1;33m-\u001b[0m \u001b[0mddict\u001b[0m\u001b[1;33m[\u001b[0m\u001b[1;34m'pcalch2'\u001b[0m\u001b[1;33m]\u001b[0m\u001b[1;33m[\u001b[0m\u001b[0mrt\u001b[0m\u001b[1;33m.\u001b[0m\u001b[0mnametochan\u001b[0m\u001b[1;33m(\u001b[0m\u001b[1;34m'H2HiAC'\u001b[0m\u001b[1;33m)\u001b[0m\u001b[1;33m]\u001b[0m\u001b[1;33m[\u001b[0m\u001b[1;34m'Q'\u001b[0m\u001b[1;33m]\u001b[0m\u001b[1;33m.\u001b[0m\u001b[0mmean\u001b[0m\u001b[1;33m(\u001b[0m\u001b[1;33m)\u001b[0m\u001b[1;33m)\u001b[0m\u001b[1;33m/\u001b[0m\u001b[0mddict\u001b[0m\u001b[1;33m[\u001b[0m\u001b[1;34m'nocalch2'\u001b[0m\u001b[1;33m]\u001b[0m\u001b[1;33m[\u001b[0m\u001b[0mrt\u001b[0m\u001b[1;33m.\u001b[0m\u001b[0mnametochan\u001b[0m\u001b[1;33m(\u001b[0m\u001b[1;34m'H2HiAC'\u001b[0m\u001b[1;33m)\u001b[0m\u001b[1;33m]\u001b[0m\u001b[1;33m[\u001b[0m\u001b[1;34m'Q'\u001b[0m\u001b[1;33m]\u001b[0m\u001b[1;33m.\u001b[0m\u001b[0mmean\u001b[0m\u001b[1;33m(\u001b[0m\u001b[1;33m)\u001b[0m\u001b[1;33m\u001b[0m\u001b[0m\n\u001b[0;32m      4\u001b[0m \u001b[1;32mprint\u001b[0m\u001b[1;33m(\u001b[0m\u001b[0mbeta_h2\u001b[0m\u001b[1;33m)\u001b[0m\u001b[1;33m\u001b[0m\u001b[0m\n\u001b[0;32m      5\u001b[0m \u001b[0mbeta_h3\u001b[0m \u001b[1;33m=\u001b[0m \u001b[1;33m(\u001b[0m\u001b[0mddict\u001b[0m\u001b[1;33m[\u001b[0m\u001b[1;34m'nocalch3'\u001b[0m\u001b[1;33m]\u001b[0m\u001b[1;33m[\u001b[0m\u001b[0mrt\u001b[0m\u001b[1;33m.\u001b[0m\u001b[0mnametochan\u001b[0m\u001b[1;33m(\u001b[0m\u001b[1;34m'H3HiAC'\u001b[0m\u001b[1;33m)\u001b[0m\u001b[1;33m]\u001b[0m\u001b[1;33m[\u001b[0m\u001b[1;34m'Q'\u001b[0m\u001b[1;33m]\u001b[0m\u001b[1;33m.\u001b[0m\u001b[0mmean\u001b[0m\u001b[1;33m(\u001b[0m\u001b[1;33m)\u001b[0m \u001b[1;33m-\u001b[0m \u001b[0mddict\u001b[0m\u001b[1;33m[\u001b[0m\u001b[1;34m'pcalch3'\u001b[0m\u001b[1;33m]\u001b[0m\u001b[1;33m[\u001b[0m\u001b[0mrt\u001b[0m\u001b[1;33m.\u001b[0m\u001b[0mnametochan\u001b[0m\u001b[1;33m(\u001b[0m\u001b[1;34m'H3HiAC'\u001b[0m\u001b[1;33m)\u001b[0m\u001b[1;33m]\u001b[0m\u001b[1;33m[\u001b[0m\u001b[1;34m'Q'\u001b[0m\u001b[1;33m]\u001b[0m\u001b[1;33m.\u001b[0m\u001b[0mmean\u001b[0m\u001b[1;33m(\u001b[0m\u001b[1;33m)\u001b[0m\u001b[1;33m)\u001b[0m\u001b[1;33m/\u001b[0m\u001b[0mddict\u001b[0m\u001b[1;33m[\u001b[0m\u001b[1;34m'nocalch3'\u001b[0m\u001b[1;33m]\u001b[0m\u001b[1;33m[\u001b[0m\u001b[0mrt\u001b[0m\u001b[1;33m.\u001b[0m\u001b[0mnametochan\u001b[0m\u001b[1;33m(\u001b[0m\u001b[1;34m'H3HiAC'\u001b[0m\u001b[1;33m)\u001b[0m\u001b[1;33m]\u001b[0m\u001b[1;33m[\u001b[0m\u001b[1;34m'Q'\u001b[0m\u001b[1;33m]\u001b[0m\u001b[1;33m.\u001b[0m\u001b[0mmean\u001b[0m\u001b[1;33m(\u001b[0m\u001b[1;33m)\u001b[0m\u001b[1;33m\u001b[0m\u001b[0m\n",
      "\u001b[1;31mKeyError\u001b[0m: 'nocalch1'"
     ]
    }
   ],
   "source": [
    "beta_h1 = (ddict['nocalch1'][rt.nametochan('H1HiAC')]['Q'].mean() - ddict['pcalch1'][rt.nametochan('H1HiAC')]['Q'].mean())/ddict['nocalch1'][rt.nametochan('H1HiAC')]['Q'].mean()\n",
    "print(beta_h1)\n",
    "beta_h2 = (ddict['nocalch2'][rt.nametochan('H2HiAC')]['Q'].mean() - ddict['pcalch2'][rt.nametochan('H2HiAC')]['Q'].mean())/ddict['nocalch2'][rt.nametochan('H2HiAC')]['Q'].mean()\n",
    "print(beta_h2)\n",
    "beta_h3 = (ddict['nocalch3'][rt.nametochan('H3HiAC')]['Q'].mean() - ddict['pcalch3'][rt.nametochan('H3HiAC')]['Q'].mean())/ddict['nocalch3'][rt.nametochan('H3HiAC')]['Q'].mean()\n",
    "print(beta_h3)"
   ]
  },
  {
   "cell_type": "code",
   "execution_count": 160,
   "metadata": {},
   "outputs": [
    {
     "name": "stdout",
     "output_type": "stream",
     "text": [
      "Horn 1 beta: 0.125 +/- 0.008\n",
      "Horn 2 beta: 0.127 +/- 0.003\n",
      "Horn 3 beta: 0.114 +/- 0.023\n"
     ]
    }
   ],
   "source": [
    "beta = {}\n",
    "for i in range(1,4):\n",
    "    nocal = ddict['nocalch%d' % i][rt.nametochan('H%dHiAC' % i)]['Q'].mean()\n",
    "    pcal = ddict['pcalch%d' % i][rt.nametochan('H%dHiAC' % i)]['Q'].mean()\n",
    "    \n",
    "    nocal_std = ddict['nocalch%d' % i][rt.nametochan('H%dHiAC' % i)]['Q'].std()\n",
    "    pcal_std = ddict['pcalch%d' % i][rt.nametochan('H%dHiAC' % i)]['Q'].std()\n",
    "    \n",
    "    BETA = (nocal - pcal)/nocal\n",
    "    \n",
    "    beta_std = (pcal/nocal)*np.sqrt((pcal_std/pcal)**2 + (nocal_std/nocal)**2)\n",
    "    \n",
    "    beta['H%d' % i] = ufloat(BETA, beta_std)\n",
    "    \n",
    "    print 'Horn %d beta: %.3f +/- %.3f' % (i, BETA, beta_std)"
   ]
  },
  {
   "cell_type": "code",
   "execution_count": 32,
   "metadata": {},
   "outputs": [],
   "source": [
    "beta = {}\n",
    "beta['H1'] = ufloat(0.125,0.008)\n",
    "beta['H2'] = ufloat(0.127,0.003)\n",
    "beta['H3'] = ufloat(0.114,0.023)"
   ]
  },
  {
   "cell_type": "code",
   "execution_count": 111,
   "metadata": {},
   "outputs": [
    {
     "name": "stdout",
     "output_type": "stream",
     "text": [
      "skydip\n",
      "sky\n",
      "par\n",
      "amb\n",
      "sky_demod\n"
     ]
    }
   ],
   "source": [
    "asd_dict = asd_from_dict(ddict, minfreq=0.1)"
   ]
  },
  {
   "cell_type": "code",
   "execution_count": 34,
   "metadata": {},
   "outputs": [
    {
     "name": "stdout",
     "output_type": "stream",
     "text": [
      "Using matplotlib backend: Qt5Agg\n"
     ]
    }
   ],
   "source": [
    "%matplotlib auto"
   ]
  },
  {
   "cell_type": "code",
   "execution_count": 33,
   "metadata": {},
   "outputs": [
    {
     "name": "stderr",
     "output_type": "stream",
     "text": [
      "C:\\Users\\labuser\\anaconda3\\envs\\py27\\lib\\site-packages\\ipykernel_launcher.py:12: MatplotlibDeprecationWarning: The set_color_cycle function was deprecated in version 1.5. Use `.set_prop_cycle` instead.\n",
      "  if sys.path[0] == '':\n"
     ]
    }
   ],
   "source": [
    "plot_asd_dict(asd_dict,chanlist=['H1HiAC'],componentlist=['T'],datalist=['amb', 'par', 'sky']\n",
    "              , kperv = [4.11, 4.11, 4.11], LABEL = ['Ambient Calibrator', 'Partial Calibrator', 'Sky at 70 deg elevation'], TITLE = '10 GHz Horn 1 raw data, Greenland 08/06/2018')"
   ]
  },
  {
   "cell_type": "code",
   "execution_count": 67,
   "metadata": {},
   "outputs": [
    {
     "data": {
      "text/plain": [
       "['encoder_sky1',\n",
       " 'encoder_sky2',\n",
       " 'emulator_sky1',\n",
       " 'emulator_sky2',\n",
       " 'amb',\n",
       " 'sky',\n",
       " 'emulator_sky3']"
      ]
     },
     "execution_count": 67,
     "metadata": {},
     "output_type": "execute_result"
    }
   ],
   "source": [
    "ddict.keys()"
   ]
  },
  {
   "cell_type": "code",
   "execution_count": 35,
   "metadata": {},
   "outputs": [],
   "source": [
    "pp = {}"
   ]
  },
  {
   "cell_type": "code",
   "execution_count": 88,
   "metadata": {},
   "outputs": [],
   "source": [
    "flp = get_pointing_files()"
   ]
  },
  {
   "cell_type": "code",
   "execution_count": 89,
   "metadata": {},
   "outputs": [],
   "source": [
    "pp['skydip'] = rt.get_h5_pointing(flp)\n",
    "gpstime = (pp['skydip']['gpstime'] - pp['skydip']['gpstime'][0])/1000./3600."
   ]
  },
  {
   "cell_type": "code",
   "execution_count": 74,
   "metadata": {},
   "outputs": [
    {
     "data": {
      "text/plain": [
       "[<matplotlib.lines.Line2D at 0xe23ec88>]"
      ]
     },
     "execution_count": 74,
     "metadata": {},
     "output_type": "execute_result"
    }
   ],
   "source": [
    "plt.figure()\n",
    "plt.plot(pp['sky']['gpstime'])"
   ]
  },
  {
   "cell_type": "code",
   "execution_count": 64,
   "metadata": {},
   "outputs": [],
   "source": [
    "flp_sky = get_pointing_files()\n",
    "pp['sky'] = rt.get_h5_pointing(flp_sky)"
   ]
  },
  {
   "cell_type": "code",
   "execution_count": 65,
   "metadata": {},
   "outputs": [
    {
     "data": {
      "text/plain": [
       "['gpstime',\n",
       " 'el',\n",
       " 'computer time',\n",
       " 'el offset',\n",
       " 'Calibrator',\n",
       " 'H2',\n",
       " 'H3',\n",
       " 'H1',\n",
       " 'Amplifier',\n",
       " 'az offset',\n",
       " 'Cooler',\n",
       " 'flag',\n",
       " 'x tilt',\n",
       " 'Phidget Temp',\n",
       " 'y tilt',\n",
       " 'az',\n",
       " 'Backend TSS']"
      ]
     },
     "execution_count": 65,
     "metadata": {},
     "output_type": "execute_result"
    }
   ],
   "source": [
    "pp['sky'].keys()"
   ]
  },
  {
   "cell_type": "code",
   "execution_count": 40,
   "metadata": {},
   "outputs": [
    {
     "ename": "IndexError",
     "evalue": "index 0 is out of bounds for axis 0 with size 0",
     "output_type": "error",
     "traceback": [
      "\u001b[1;31m---------------------------------------------------------------------------\u001b[0m",
      "\u001b[1;31mIndexError\u001b[0m                                Traceback (most recent call last)",
      "\u001b[1;32m<ipython-input-40-a5a19f2d2850>\u001b[0m in \u001b[0;36m<module>\u001b[1;34m()\u001b[0m\n\u001b[0;32m      2\u001b[0m \u001b[0mdiff\u001b[0m \u001b[1;33m=\u001b[0m \u001b[0mnp\u001b[0m\u001b[1;33m.\u001b[0m\u001b[0mdiff\u001b[0m\u001b[1;33m(\u001b[0m\u001b[0mpp\u001b[0m\u001b[1;33m[\u001b[0m\u001b[1;34m'sky'\u001b[0m\u001b[1;33m]\u001b[0m\u001b[1;33m[\u001b[0m\u001b[1;34m'az'\u001b[0m\u001b[1;33m]\u001b[0m\u001b[1;33m)\u001b[0m\u001b[1;33m\u001b[0m\u001b[0m\n\u001b[0;32m      3\u001b[0m \u001b[0miwrap\u001b[0m \u001b[1;33m=\u001b[0m \u001b[0mnp\u001b[0m\u001b[1;33m.\u001b[0m\u001b[0mwhere\u001b[0m\u001b[1;33m(\u001b[0m\u001b[0mabs\u001b[0m\u001b[1;33m(\u001b[0m\u001b[0mdiff\u001b[0m\u001b[1;33m)\u001b[0m \u001b[1;33m>\u001b[0m \u001b[1;36m180\u001b[0m\u001b[1;33m)\u001b[0m\u001b[1;33m[\u001b[0m\u001b[1;36m0\u001b[0m\u001b[1;33m]\u001b[0m\u001b[1;33m\u001b[0m\u001b[0m\n\u001b[1;32m----> 4\u001b[1;33m \u001b[0mpp\u001b[0m\u001b[1;33m[\u001b[0m\u001b[1;34m'sky'\u001b[0m\u001b[1;33m]\u001b[0m\u001b[1;33m[\u001b[0m\u001b[1;34m'az'\u001b[0m\u001b[1;33m]\u001b[0m\u001b[1;33m[\u001b[0m\u001b[0miwrap\u001b[0m\u001b[1;33m[\u001b[0m\u001b[1;36m0\u001b[0m\u001b[1;33m]\u001b[0m\u001b[1;33m+\u001b[0m\u001b[1;36m1\u001b[0m\u001b[1;33m:\u001b[0m\u001b[0miwrap\u001b[0m\u001b[1;33m[\u001b[0m\u001b[1;36m1\u001b[0m\u001b[1;33m]\u001b[0m\u001b[1;33m+\u001b[0m\u001b[1;36m1\u001b[0m\u001b[1;33m]\u001b[0m\u001b[1;33m\u001b[0m\u001b[0m\n\u001b[0m",
      "\u001b[1;31mIndexError\u001b[0m: index 0 is out of bounds for axis 0 with size 0"
     ]
    }
   ],
   "source": [
    "#plt.figure()\n",
    "diff = np.diff(pp['sky']['az'])\n",
    "iwrap = np.where(abs(diff) > 180)[0]\n",
    "pp['sky']['az'][iwrap[0]+1:iwrap[1]+1]"
   ]
  },
  {
   "cell_type": "code",
   "execution_count": 165,
   "metadata": {},
   "outputs": [
    {
     "data": {
      "text/plain": [
       "<matplotlib.legend.Legend at 0x48e858d0>"
      ]
     },
     "execution_count": 165,
     "metadata": {},
     "output_type": "execute_result"
    }
   ],
   "source": [
    "plt.figure()\n",
    "aztilt = pp['sky']['az'][iwrap[0]+1:iwrap[1]+1]\n",
    "xtilt = pp['sky']['x tilt'][iwrap[0]+1:iwrap[1]+1]\n",
    "ytilt = pp['sky']['y tilt'][iwrap[0]+1:iwrap[1]+1]\n",
    "xoffset = (xtilt.max()-xtilt.min())/2\n",
    "yoffset = (ytilt.max()+ytilt.min())/2\n",
    "plt.plot(aztilt, xtilt-xoffset, 'k-', label='x tilt')\n",
    "plt.plot(aztilt, ytilt-yoffset, 'r-', label='y tilt')\n",
    "plt.xlabel('azimuth (deg)')\n",
    "plt.ylabel('tilt (deg)')\n",
    "plt.legend()"
   ]
  },
  {
   "cell_type": "code",
   "execution_count": 50,
   "metadata": {},
   "outputs": [
    {
     "data": {
      "text/plain": [
       "['gpstime',\n",
       " 'el',\n",
       " 'computer time',\n",
       " 'el offset',\n",
       " 'Calibrator',\n",
       " 'H2',\n",
       " 'H3',\n",
       " 'H1',\n",
       " 'Amplifier',\n",
       " 'az offset',\n",
       " 'Cooler',\n",
       " 'flag',\n",
       " 'x tilt',\n",
       " 'Phidget Temp',\n",
       " 'y tilt',\n",
       " 'az',\n",
       " 'Backend TSS']"
      ]
     },
     "execution_count": 50,
     "metadata": {},
     "output_type": "execute_result"
    }
   ],
   "source": [
    "pp['skydip'].keys()"
   ]
  },
  {
   "cell_type": "code",
   "execution_count": 91,
   "metadata": {},
   "outputs": [],
   "source": [
    "combined = rt.combine_cofe_h5_pointing(ddict['skydip'], pp['skydip'])"
   ]
  },
  {
   "cell_type": "code",
   "execution_count": 102,
   "metadata": {},
   "outputs": [],
   "source": [
    "el = combined['el']\n",
    "chan = 'H1HiDC'\n",
    "var = 'T'\n",
    "data = -combined['sci_data'][rt.nametochan(chan)][var]"
   ]
  },
  {
   "cell_type": "code",
   "execution_count": 103,
   "metadata": {},
   "outputs": [
    {
     "data": {
      "text/plain": [
       "[<matplotlib.lines.Line2D at 0x1cdf5c50>]"
      ]
     },
     "execution_count": 103,
     "metadata": {},
     "output_type": "execute_result"
    }
   ],
   "source": [
    "plt.figure()\n",
    "plt.plot(data)"
   ]
  },
  {
   "cell_type": "code",
   "execution_count": 104,
   "metadata": {},
   "outputs": [],
   "source": [
    "def func(el, Vsys, Vz):\n",
    "    return Vsys + Vz/np.sin(el)"
   ]
  },
  {
   "cell_type": "code",
   "execution_count": 105,
   "metadata": {},
   "outputs": [],
   "source": [
    "popt, pcov = curve_fit(func, np.radians(el), data)\n",
    "perr = np.sqrt(np.diag(pcov))"
   ]
  },
  {
   "cell_type": "code",
   "execution_count": 106,
   "metadata": {},
   "outputs": [
    {
     "name": "stdout",
     "output_type": "stream",
     "text": [
      "[0.12426068 0.01172411] [4.17901353e-05 1.30872212e-05]\n"
     ]
    }
   ],
   "source": [
    "print popt, np.sqrt(np.diag(pcov))"
   ]
  },
  {
   "cell_type": "code",
   "execution_count": 107,
   "metadata": {
    "scrolled": true
   },
   "outputs": [
    {
     "data": {
      "text/plain": [
       "<matplotlib.legend.Legend at 0x1cf876a0>"
      ]
     },
     "execution_count": 107,
     "metadata": {},
     "output_type": "execute_result"
    }
   ],
   "source": [
    "figure()\n",
    "plot(el, data, 'b-', linewidth=2, label='%s %s' % (chan, var))\n",
    "plot(el, func(np.radians(el), *popt), 'r-', label='fit: Vsys=%.3f V, Vz=%.3f V' % tuple(popt))\n",
    "ylabel('Signal (Volts)')\n",
    "xlabel('Elevation (deg)')\n",
    "legend()"
   ]
  },
  {
   "cell_type": "code",
   "execution_count": 16,
   "metadata": {
    "collapsed": true
   },
   "outputs": [],
   "source": [
    "#now get par cal and clear sky voltages and plug into notebook equation to get gain\n",
    "#beta = {'H1': 0.12419560576729863, 'H2':0.12628101445342926, 'H3': 0.11703026443075649}"
   ]
  },
  {
   "cell_type": "code",
   "execution_count": 12,
   "metadata": {},
   "outputs": [
    {
     "name": "stderr",
     "output_type": "stream",
     "text": [
      "C:\\Users\\labuser\\anaconda3\\envs\\py27\\lib\\site-packages\\ipykernel_launcher.py:12: MatplotlibDeprecationWarning: The set_color_cycle function was deprecated in version 1.5. Use `.set_prop_cycle` instead.\n",
      "  if sys.path[0] == '':\n"
     ]
    },
    {
     "name": "stdout",
     "output_type": "stream",
     "text": [
      "amb H3HiDC mean value:  -0.38410409180100313\n"
     ]
    },
    {
     "data": {
      "image/png": "[encoded data removed]",
      "text/plain": [
       "<Figure size 432x288 with 1 Axes>"
      ]
     },
     "metadata": {
      "needs_background": "light"
     },
     "output_type": "display_data"
    }
   ],
   "source": [
    "plot_toi_dict(ddict,chanlist=['H3HiDC'],componentlist=['T'],datalist=['amb'])"
   ]
  },
  {
   "cell_type": "code",
   "execution_count": 128,
   "metadata": {},
   "outputs": [
    {
     "name": "stderr",
     "output_type": "stream",
     "text": [
      "C:\\Users\\labuser\\anaconda3\\envs\\py27\\lib\\site-packages\\ipykernel_launcher.py:12: MatplotlibDeprecationWarning: The set_color_cycle function was deprecated in version 1.5. Use `.set_prop_cycle` instead.\n",
      "  if sys.path[0] == '':\n"
     ]
    }
   ],
   "source": [
    "plot_asd_dict(asd_dict,chanlist=['H1HiAC'],componentlist=['T'],datalist=['sky']\n",
    "              , kperv = [1], LABEL = ['Sky at 70 deg elevation'], TITLE = '')"
   ]
  },
  {
   "cell_type": "code",
   "execution_count": 157,
   "metadata": {},
   "outputs": [
    {
     "data": {
      "text/plain": [
       "[<matplotlib.lines.Line2D at 0xf05dd30>]"
      ]
     },
     "execution_count": 157,
     "metadata": {},
     "output_type": "execute_result"
    }
   ],
   "source": [
    "plt.figure()\n",
    "plt.plot(ddict['sky'][rt.nametochan('H1HiDC')].flatten())"
   ]
  },
  {
   "cell_type": "code",
   "execution_count": 125,
   "metadata": {},
   "outputs": [
    {
     "name": "stdout",
     "output_type": "stream",
     "text": [
      "0.125+/-0.008 272.6+/-3.5 0.011724+/-0.000013 0.12426+/-0.00004\n",
      "Horn 1 DC Level:  -0.13586065764257768  V\n",
      "Horn 1 partial cal DC Level:  -0.43730643491753984  V\n",
      "Horn 1 DC gain:  -112+/-7  K/V\n",
      "Horn 1 AC gain:  -3.75+/-0.24  K/V\n",
      "Horn 1 Tsky:  29.2+/-1.9 K\n",
      "Horn 1 Tsys:  14.0+/-0.9 K\n",
      "Horn 1 noise level:  1.32+/-0.09  mK*sqrt(sec)\n",
      "Horn 1 expected noise level:  0.241+/-0.016  mK*sqrt(sec)\n",
      "Horn 1 effective bandpass:  0.38427196926212254  GHz\n",
      "--------------------------\n"
     ]
    }
   ],
   "source": [
    "asd = [0.0005,0.0005, 0.0013]\n",
    "#delta T is 0.005 for sedgwick, 7e-5 for greenland\n",
    "Vsys = ufloat(popt[0], perr[0])\n",
    "Vz = ufloat(popt[1], perr[1])\n",
    "Tamb = ufloat(np.nanmean(pp['skydip']['Calibrator']), np.nanstd(pp['skydip']['Calibrator']))\n",
    "for chan in ['H1HiDC']:\n",
    "    \n",
    "    \n",
    "\n",
    "    elevation = pp['sky']['el'].mean()\n",
    "\n",
    "    try:\n",
    "        Vpar = ddict['par'][rt.nametochan(chan)][var].mean()\n",
    "        Vsky = ddict['sky'][rt.nametochan(chan)][var].mean()\n",
    "        \n",
    "    except:\n",
    "        Vpar = ddict['par'][rt.nametochan(chan)].flatten().mean()\n",
    "        Vsky = ddict['sky'][rt.nametochan(chan)].flatten().mean()\n",
    "\n",
    "    h = int(chan[1])   \n",
    "\n",
    "    Vpar_lin = rt.linearize_Vexp(Vpar, h)\n",
    "    Vsky_lin = rt.linearize_Vexp(Vsky, h)\n",
    "    \n",
    "    b = beta[chan[:2]]\n",
    "\n",
    "    gain = b*Tamb/(Vpar_lin - Vsky_lin + b*(Vz/np.sin(elevation)))\n",
    "    \n",
    "    nl = asd[int(chan[1])-1]/np.sqrt(2)\n",
    "    Tsys = -Vsys*gain\n",
    "    enl = gain*Vsky_lin/np.sqrt(4e9)\n",
    "\n",
    "    print b, Tamb, Vz, Vsys\n",
    "    print 'Horn %s DC Level: ' % h, Vsky_lin, ' V'\n",
    "    print 'Horn %s partial cal DC Level: ' % h, Vpar_lin, ' V'\n",
    "    print 'Horn %s DC gain: ' % h, gain, ' K/V'\n",
    "    print 'Horn %s AC gain: ' % h, gain/30., ' K/V'\n",
    "    print 'Horn %s Tsky: ' % h, (Vsky_lin - Vsys)*gain, 'K'\n",
    "    print 'Horn %s Tsys: ' % h, Tsys, 'K'\n",
    "    print 'Horn %s noise level: ' % h, -nl*1e3*gain/30., ' mK*sqrt(sec)'\n",
    "    print 'Horn %s expected noise level: ' % h, enl*1e3, ' mK*sqrt(sec)'\n",
    "    print 'Horn %s effective bandpass: ' % h, -(Vsky_lin/(nl*1e3)), ' GHz'\n",
    "    #print 'Horn %s sky Temperature:0 ' % h, gain*Vsky_lin, ' K'\n",
    "    print '--------------------------'"
   ]
  },
  {
   "cell_type": "code",
   "execution_count": 137,
   "metadata": {},
   "outputs": [
    {
     "data": {
      "text/plain": [
       "0.20168067226890757"
      ]
     },
     "execution_count": 137,
     "metadata": {},
     "output_type": "execute_result"
    }
   ],
   "source": [
    "24./119"
   ]
  },
  {
   "cell_type": "code",
   "execution_count": 183,
   "metadata": {},
   "outputs": [
    {
     "name": "stdout",
     "output_type": "stream",
     "text": [
      "-2.36307571629\n"
     ]
    }
   ],
   "source": [
    "deltaV = -0.52\n",
    "elevation = np.radians(14.2)\n",
    "print b*Tamb/(deltaV + b*(Vz/np.sin(elevation)))/30."
   ]
  },
  {
   "cell_type": "code",
   "execution_count": null,
   "metadata": {
    "collapsed": true
   },
   "outputs": [],
   "source": [
    "#if your using ambient load instead of partial cal (which you shouldnt) gain equation is:\n",
    "# G = Tamb(Vamb-Vsky + Vsys + Vz/sin(elevation))**-1"
   ]
  },
  {
   "cell_type": "code",
   "execution_count": 44,
   "metadata": {},
   "outputs": [
    {
     "name": "stderr",
     "output_type": "stream",
     "text": [
      "C:\\Users\\labuser\\Anaconda3\\envs\\py27\\lib\\site-packages\\ipykernel\\__main__.py:2: DeprecationWarning: using a non-integer number instead of an integer will result in an error in the future\n",
      "  from ipykernel import kernelapp as app\n"
     ]
    },
    {
     "ename": "IndexError",
     "evalue": "only integers, slices (`:`), ellipsis (`...`), numpy.newaxis (`None`) and integer or boolean arrays are valid indices",
     "output_type": "error",
     "traceback": [
      "\u001b[1;31m---------------------------------------------------------------------------\u001b[0m",
      "\u001b[1;31mIndexError\u001b[0m                                Traceback (most recent call last)",
      "\u001b[1;32m<ipython-input-44-cfb7d082414d>\u001b[0m in \u001b[0;36m<module>\u001b[1;34m()\u001b[0m\n\u001b[0;32m      1\u001b[0m \u001b[0mfigure\u001b[0m\u001b[1;33m(\u001b[0m\u001b[1;33m)\u001b[0m\u001b[1;33m\u001b[0m\u001b[0m\n\u001b[1;32m----> 2\u001b[1;33m \u001b[0mplot\u001b[0m\u001b[1;33m(\u001b[0m\u001b[0mddict\u001b[0m\u001b[1;33m[\u001b[0m\u001b[1;34m'amb'\u001b[0m\u001b[1;33m]\u001b[0m\u001b[1;33m[\u001b[0m\u001b[0mrt\u001b[0m\u001b[1;33m.\u001b[0m\u001b[0mnametochan\u001b[0m\u001b[1;33m(\u001b[0m\u001b[0mchan\u001b[0m\u001b[1;33m)\u001b[0m\u001b[1;33m]\u001b[0m\u001b[1;33m[\u001b[0m\u001b[0mvar\u001b[0m\u001b[1;33m]\u001b[0m\u001b[1;33m.\u001b[0m\u001b[0mmean\u001b[0m\u001b[1;33m(\u001b[0m\u001b[1;33m)\u001b[0m\u001b[1;33m)\u001b[0m\u001b[1;33m\u001b[0m\u001b[0m\n\u001b[0m",
      "\u001b[1;31mIndexError\u001b[0m: only integers, slices (`:`), ellipsis (`...`), numpy.newaxis (`None`) and integer or boolean arrays are valid indices"
     ]
    }
   ],
   "source": [
    "figure()\n",
    "plot(ddict['amb'][rt.nametochan(chan)][var].mean())"
   ]
  },
  {
   "cell_type": "code",
   "execution_count": 48,
   "metadata": {},
   "outputs": [
    {
     "name": "stderr",
     "output_type": "stream",
     "text": [
      "C:\\Users\\labuser\\Anaconda3\\envs\\py27\\lib\\site-packages\\ipykernel\\__main__.py:18: DeprecationWarning: using a non-integer number instead of an integer will result in an error in the future\n"
     ]
    }
   ],
   "source": [
    "plot_asd_dict(asd_dict,chanlist=['H3HiAC'],componentlist=['T'],datalist=['sky'],kperv=[3.2])"
   ]
  },
  {
   "cell_type": "code",
   "execution_count": 33,
   "metadata": {},
   "outputs": [
    {
     "name": "stdout",
     "output_type": "stream",
     "text": [
      "287\n",
      "Horn 3 DC Level (sky):  -0.352086622922  V\n",
      "Horn 3 DC Level (amb):  -3.50025464872  V\n",
      "Horn 3 DC gain:  -84.8112292013  K/V\n",
      "Horn 3 AC gain:  -2.82704097338  K/V\n",
      "Horn 3 Tsys:  9.86089927533 K\n",
      "Horn 3 noise level:  -13.9931389008  mK*sqrt(sec)\n",
      "Horn 3 effective bandpass:  0.0711322396094  GHz\n",
      "Horn 3 expected noise level:  0.472142273455  mK*sqrt(sec)\n",
      "--------------------------\n"
     ]
    },
    {
     "name": "stderr",
     "output_type": "stream",
     "text": [
      "C:\\Users\\labuser\\Anaconda3\\envs\\py27\\lib\\site-packages\\ipykernel\\__main__.py:12: DeprecationWarning: using a non-integer number instead of an integer will result in an error in the future\n"
     ]
    }
   ],
   "source": [
    "#if you dont have sky dip data:\n",
    "asd = [0.00125,0.002, 0.007]\n",
    "Tsky = 20. #guess at Tsky value. Conversly you can use LN2 as your cold source and then you dont have to guess here\n",
    "\n",
    "for chan in ['H3HiDC']:\n",
    "    \n",
    "    Tamb = 287#np.nanmean(pp['skydip']['Calibrator'])\n",
    "    print Tamb\n",
    "\n",
    "    #if its demod data\n",
    "    try:\n",
    "        Vamb = ddict['amb'][rt.nametochan(chan)][var].mean()\n",
    "        Vsky = ddict['sky'][rt.nametochan(chan)][var].mean()\n",
    "    #if its raw data\n",
    "    except:\n",
    "        Vamb = ddict['amb'][rt.nametochan(chan)].flatten().mean()\n",
    "        Vsky = ddict['sky'][rt.nametochan(chan)].flatten().mean()\n",
    "\n",
    "    h = int(chan[1])   \n",
    "\n",
    "    Vamb_lin = rt.linearize_Vexp(Vamb, h)\n",
    "    Vsky_lin = rt.linearize_Vexp(Vsky, h)\n",
    "\n",
    "\n",
    "    gain = (Tamb - Tsky)/(Vamb_lin - Vsky_lin)\n",
    "    \n",
    "    y = Vamb_lin/Vsky_lin\n",
    "    \n",
    "    Tsys = (Tamb - y*Tsky)/(y-1) #not always a good measure do to compression etc..\n",
    "    \n",
    "    nl = asd[int(chan[1])-1]/np.sqrt(2)\n",
    "    \n",
    "    enl = (Tsys + Tsky)/np.sqrt(4e9)\n",
    "\n",
    "    print 'Horn %s DC Level (sky): ' % h,  Vsky_lin, ' V'\n",
    "    print 'Horn %s DC Level (amb): ' % h,  Vamb_lin, ' V'\n",
    "    print 'Horn %s DC gain: ' % h, gain, ' K/V'\n",
    "    print 'Horn %s AC gain: ' % h, gain/30., ' K/V'\n",
    "    print 'Horn %s Tsys: ' % h, Tsys, 'K'\n",
    "    print 'Horn %s noise level: ' % h, nl*1e3*gain/30., ' mK*sqrt(sec)'\n",
    "    print 'Horn %s effective bandpass: ' % h, -(Vsky_lin/(nl*1e3)), ' GHz'\n",
    "    print 'Horn %s expected noise level: ' % h, enl*1e3, ' mK*sqrt(sec)'\n",
    "    print '--------------------------'"
   ]
  },
  {
   "cell_type": "code",
   "execution_count": 25,
   "metadata": {},
   "outputs": [
    {
     "name": "stdout",
     "output_type": "stream",
     "text": [
      "notebook\n"
     ]
    }
   ],
   "source": [
    "print os.getcwd()[-8:]"
   ]
  },
  {
   "cell_type": "code",
   "execution_count": 20,
   "metadata": {},
   "outputs": [
    {
     "name": "stdout",
     "output_type": "stream",
     "text": [
      "-0.0488401964337\n"
     ]
    }
   ],
   "source": [
    "Vamb = ddict['amb'][rt.nametochan('H2HiDC')].flatten()\n",
    "Vsky = ddict['sky'][rt.nametochan('H2HiDC')].flatten().mean()\n",
    "print Vsky"
   ]
  },
  {
   "cell_type": "code",
   "execution_count": 76,
   "metadata": {},
   "outputs": [
    {
     "data": {
      "text/plain": [
       "[<matplotlib.lines.Line2D at 0x148aedd8>]"
      ]
     },
     "execution_count": 76,
     "metadata": {},
     "output_type": "execute_result"
    }
   ],
   "source": [
    "figure()\n",
    "plot(Vamb,'k-')\n",
    "plot(Vsky,'b-')\n"
   ]
  },
  {
   "cell_type": "code",
   "execution_count": 77,
   "metadata": {},
   "outputs": [
    {
     "name": "stdout",
     "output_type": "stream",
     "text": [
      "268.651269212\n"
     ]
    }
   ],
   "source": [
    "print Tamb"
   ]
  },
  {
   "cell_type": "code",
   "execution_count": null,
   "metadata": {
    "collapsed": true
   },
   "outputs": [],
   "source": []
  }
 ],
 "metadata": {
  "kernelspec": {
   "display_name": "Python 2",
   "language": "python",
   "name": "python2"
  },
  "language_info": {
   "codemirror_mode": {
    "name": "ipython",
    "version": 2
   },
   "file_extension": ".py",
   "mimetype": "text/x-python",
   "name": "python",
   "nbconvert_exporter": "python",
   "pygments_lexer": "ipython2",
   "version": "2.7.16"
  }
 },
 "nbformat": 4,
 "nbformat_minor": 2
}
