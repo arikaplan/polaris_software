{
 "cells": [
  {
   "cell_type": "code",
   "execution_count": 1,
   "metadata": {
    "collapsed": true
   },
   "outputs": [],
   "source": [
    "from contextlib import contextmanager\n",
    "import os\n",
    "import datetime as dt\n",
    "import numpy as np\n",
    "import h5py\n",
    "import time\n",
    "import sys\n",
    "os.chdir('D:/software_git_repos/greenpol/telescope_control/data_aquisition')\n",
    "sys.path.append('../')\n",
    "sys.path.append('/software_git_repos/cofe-python-analysis-tools/utils_meinhold/')\n",
    "sys.path.append('/software_git_repos/cofe-python-analysis-tools/utils_zonca/')\n",
    "from glob import glob\n",
    "\n",
    "sys.path.append('../../')\n",
    "sys.path.append('../../../')\n",
    "sys.path.append('../VtoT/')\n",
    "\n",
    "\n",
    "import Tkinter,tkFileDialog\n",
    "\n",
    "import cofe_util as cu\n",
    "import realtime_gp as rt\n",
    "import datetime\n",
    "\n",
    "from Tkinter import *\n",
    "import ttk\n",
    "\n",
    "from scipy import optimize\n",
    "import pickle"
   ]
  },
  {
   "cell_type": "code",
   "execution_count": 2,
   "metadata": {
    "collapsed": true
   },
   "outputs": [],
   "source": [
    "def nametochan(name):\n",
    "    #function to convert channel numbers to channel names\n",
    "\n",
    "    #names of each channel\n",
    "    chans = {\n",
    "        'all': 'all',  'H1HiAC':'ch0',  'H1HiDC':'ch1',\n",
    "        'H1LoAC':'ch2' ,  'H1LoDC':'ch3', 'H2HiAC':'ch4' ,\n",
    "        'H2HiDC':'ch5' ,  'H2LoAC':'ch6',  'H2LoDC':'ch7',\n",
    "        'H3HiAC':'ch8', 'H3HiDC':'ch9',  'H3LoAC':'ch10',\n",
    "         'H3LoDC':'ch11', 'HornTop':'ch12', 'Amplifier': 'ch13',\n",
    "        'Cooler':'ch14', 'Transition':'ch15'}\n",
    "\n",
    "    chan = chans[name]\n",
    "\n",
    "    return chan"
   ]
  },
  {
   "cell_type": "code",
   "execution_count": 3,
   "metadata": {},
   "outputs": [
    {
     "name": "stdout",
     "output_type": "stream",
     "text": [
      "Using matplotlib backend: Qt4Agg\n",
      "Populating the interactive namespace from numpy and matplotlib\n"
     ]
    },
    {
     "name": "stderr",
     "output_type": "stream",
     "text": [
      "WARNING: pylab import has clobbered these variables: ['Widget', 'Text', 'Button']\n",
      "`%matplotlib` prevents importing * from pylab and numpy\n"
     ]
    }
   ],
   "source": [
    "%pylab"
   ]
  },
  {
   "cell_type": "code",
   "execution_count": 4,
   "metadata": {
    "collapsed": true
   },
   "outputs": [],
   "source": [
    "def plot_some_chans2(datatype='demod',plottype='toi',filelist=None,components=['T','Q','U'],samprate=30,minfreq=.1, linearize=False):\n",
    "    \n",
    "    if filelist==None:\n",
    "        root=Tkinter.Tk()\n",
    "        if datatype=='demod':\n",
    "            filelist = list(tkFileDialog.askopenfilenames(\\\n",
    "            initialdir='C://Greenland/greenpol/telescope_control/data_aquisition/demod_data/',parent=root,title='Choose a set of files'))\n",
    "        if datatype=='raw':\n",
    "            filelist = list(tkFileDialog.askopenfilenames(\\\n",
    "            initialdir='C://Greenland/greenpol/telescope_control/data_aquisition/data/',parent=root,title='Choose a set of files'))            \n",
    "        root.destroy()\n",
    "    filelist.sort()\n",
    "    main = Tk()\n",
    "    main.title(\"Choose channels to plot\")\n",
    "    main.geometry(\"+50+150\")\n",
    "    frame = ttk.Frame(main, padding=(3, 3, 12, 12))\n",
    "    frame.grid(column=0, row=0, sticky=(N, S, E, W))\n",
    "\n",
    "    #set up the listbox to choose what chans to plot\n",
    "    chan_labels = StringVar()\n",
    "    chan_labels.set(\"H1HiAC H1HiDC H1LoAC H1LoDC H2HiAC H2HiDC H2LoAC H2LoDC\\\n",
    "                 H3HiAC H3HiDC H3LoAC H3LoDC HornTop Amplifier Cooler Transition\")           \n",
    "    tlist=[]\n",
    "    if datatype=='demod':\n",
    "        dlist=[]\n",
    "        for f in filelist:\n",
    "            h=np.float64(f[-11:-9])\n",
    "            m=np.float64(f[-9:-7])\n",
    "            s=np.float64(f[-7:-5])\n",
    "            hf=h5py.File(f)\n",
    "            t=h+m/60.+(s+(hf['demod_data']['rev']-hf['demod_data']['rev'][0])/1000.)/3600.\n",
    "            tlist.append(t)  #just generate a time to plot relative to\n",
    "            dlist.append(hf['demod_data'])\n",
    "        d=concatenate(dlist)\n",
    "        hf.close() \n",
    "        \n",
    "    if datatype=='raw':\n",
    "        h=np.float64(filelist[0][-11:-9])\n",
    "        m=np.float64(filelist[0][-9:-7])\n",
    "        s=np.float64(filelist[0][-7:-5])\n",
    "        d=rt.demod.read_raw(filelist)\n",
    "        t=h+m/60.+(s+(d['rev']-d['rev'][0])/1000.)/3600.\n",
    "        tlist.append(t)\n",
    "    ut=concatenate(tlist)\n",
    "    #figure()\n",
    "    #plot(ut)\n",
    "    lstbox = Listbox(frame,listvariable=chan_labels, selectmode=MULTIPLE, width=20, height=16)\n",
    "    lstbox.grid(column=0, row=0, columnspan=2)\n",
    "    \n",
    "    lstbox2 = Listbox(frame,listvariable=chan_labels, selectmode=MULTIPLE, width=20, height=16)\n",
    "    lstbox2.grid(column=2, row=0, columnspan=2)\n",
    "    #start the plot\n",
    "\n",
    "    fname=filelist[0]\n",
    "    yyyy=os.path.dirname(filelist[0])[-8:-4]\n",
    "    mm=os.path.dirname(filelist[0])[-4:-2]\n",
    "    dd=os.path.dirname(filelist[0])[-2:]\n",
    "\n",
    "    def select():\n",
    "        reslist = list()\n",
    "        selection = lstbox.curselection()\n",
    "        figure()\n",
    "        if datatype=='demod':\n",
    "            title('%s TOI from %s %s %s' %(components,mm,dd,yyyy))\n",
    "        if datatype=='raw':\n",
    "            title('TOI from %s %s %s' %(mm,dd,yyyy))\n",
    "\n",
    "        for i in selection:\n",
    "            entry = lstbox.get(i)\n",
    "            reslist.append(entry)\n",
    "        for val in reslist:\n",
    "            chan=nametochan(val)\n",
    "            if datatype=='demod':\n",
    "                for component in components:\n",
    "                    if linearize == True:\n",
    "                        d[chan][component] = rt.linearize_Vexp(d[chan][component], int(val[1]))\n",
    "                    plot(ut,d[chan][component],label=val+' %s' %component)\n",
    "            if datatype=='raw':\n",
    "                if linearize == True:\n",
    "                    d[chan] = rt.linearize_Vexp(d[chan], int(val[1]))\n",
    "                plot(d[chan].flatten(),label=val)\n",
    "            xlabel('Samples')\n",
    "            ylabel('Output [v]')\n",
    "            legend()\n",
    "\n",
    "    def selectfft():\n",
    "        reslist2 = list()\n",
    "        selection2 = lstbox2.curselection()\n",
    "        figure()\n",
    "        if datatype=='demod':\n",
    "            title('%s ASD from %s %s %s' %(components,mm,dd,yyyy))\n",
    "        if datatype=='raw':\n",
    "            title('ASD from %s %s %s' %(mm,dd,yyyy))\n",
    "                \n",
    "\n",
    "        for i in selection2:\n",
    "            entry2 = lstbox2.get(i)\n",
    "            reslist2.append(entry2)\n",
    "        for val in reslist2:\n",
    "            chan=nametochan(val)\n",
    "            if datatype=='demod':\n",
    "                for component in components:\n",
    "                    if linearize == True:\n",
    "                        d[chan][component] = rt.linearize_Vexp(d[chan][component], int(val[1]))\n",
    "                    freq,psd=cu.nps(d[chan][component],samprate,minfreq=minfreq)\n",
    "                    plot(freq,sqrt(psd),label=val+' %s' %component)\n",
    "            if datatype=='raw':\n",
    "                if linearize == True:\n",
    "                    d[chan] = rt.linearize_Vexp(d[chan], int(val[1]))\n",
    "                freq,psd=cu.nps(d[chan].flatten(),samprate*256,minfreq=minfreq)\n",
    "                plot(freq,sqrt(psd),label=val)\n",
    "            xlabel('Frequency [Hz]')\n",
    "            ylabel(r'ASD [$\\frac{V}{\\sqrt{Hz}}$]')\n",
    "            legend()\n",
    "                \n",
    "    btn = ttk.Button(frame, text=\"Select for TOI\", command=select)\n",
    "    btn.grid(column=1, row=1)\n",
    "    \n",
    "    btn2 = ttk.Button(frame, text=\"Select for ASD\", command=selectfft)\n",
    "    btn2.grid(column=3, row=1)\n",
    "    \n",
    "    main.mainloop()"
   ]
  },
  {
   "cell_type": "code",
   "execution_count": 5,
   "metadata": {
    "collapsed": true
   },
   "outputs": [],
   "source": [
    "def read_some_data(datadict,datalabel,datatype='demod', filelist=None):\n",
    "\n",
    "    if filelist==None:\n",
    "        root=Tkinter.Tk()\n",
    "        if datatype=='demod':\n",
    "            filelist = list(tkFileDialog.askopenfilenames(\\\n",
    "            initialdir='D://software_git_repos/greenpol/telescope_control/data_aquisition/demod_data/',parent=root,title='Choose a set of files'))\n",
    "        if datatype=='raw':\n",
    "            filelist = list(tkFileDialog.askopenfilenames(\\\n",
    "            initialdir='D://software_git_repos/greenpol/telescope_control/data_aquisition/data/',parent=root,title='Choose a set of files'))            \n",
    "        root.destroy()\n",
    "    filelist.sort()\n",
    "    \n",
    "    if datatype=='demod':\n",
    "        dlist=[]\n",
    "        for f in filelist:\n",
    "            hf=h5py.File(f)\n",
    "            dlist.append(hf['demod_data'])\n",
    "        d=concatenate(dlist)\n",
    "        hf.close() \n",
    "        \n",
    "    if datatype=='raw':\n",
    "        d=rt.demod.read_raw(filelist)\n",
    "    datadict[datalabel]=d\n",
    "    return"
   ]
  },
  {
   "cell_type": "code",
   "execution_count": 6,
   "metadata": {
    "collapsed": true
   },
   "outputs": [],
   "source": [
    "def plot_nl_dict(toi_dict,chanlist=['H1HiDC'],componentlist=['T'],datalist=None):\n",
    "    #function to give a choice of preloaded datasets from dictionary data_dict\n",
    "    #this plots chosen channels vs H1LoDC (should be attenuated more linear detector)\n",
    "    figure()\n",
    "    if datalist==None:\n",
    "        datalist=toi_dict.keys()\n",
    "    if len(componentlist)==1:  # if componentlist is a single value, assume same thing for all chans\n",
    "        c=componentlist[0]\n",
    "        componentlist=[c for n in chanlist]\n",
    "    #set up the color sequence for the plot\n",
    "    nlines=len(datalist)*len(chanlist)\n",
    "    colormap = cm.gist_ncar\n",
    "    gca().set_color_cycle([colormap(i) for i in np.linspace(0, 0.9, nlines)])\n",
    "    titletxt=[]\n",
    "    for dname in datalist:\n",
    "        samprate=1000./(toi_dict[dname]['rev'][1]-toi_dict[dname]['rev'][0])\n",
    "        print(dname,samprate)\n",
    "        titletxt.append(dname)\n",
    "        for channame,component in zip(chanlist,componentlist):\n",
    "            print(channame,component)\n",
    "            try:\n",
    "                toi=toi_dict[dname][nametochan(channame)][component] #if it's demod data so a dict\n",
    "                toi_x=toi_dict[dname][nametochan('H2LoDC')][component] #highly attenuated channel\n",
    "                plot(toi_x,toi,label=dname+ '  '+channame+' '+component)\n",
    "            except:\n",
    "                toi=toi_dict[dname][nametochan(channame)].flatten()#if it's raw data so not a dict\n",
    "                toi_x=toi_dict[dname][nametochan('H2LoDC')].flatten()# highly attenuated channel\n",
    "                plot(toi_x,toi,label=dname+ '  '+channame+' '+component)\n",
    "            \n",
    "    title(titletxt)\n",
    "    legend()\n",
    "    xlabel('H1LoDC [V]')\n",
    "    ylabel(r'Signal [V]')"
   ]
  },
  {
   "cell_type": "code",
   "execution_count": 7,
   "metadata": {
    "collapsed": true
   },
   "outputs": [],
   "source": [
    "def plot_toi_dict(toi_dict,chanlist=['H1HiAC'],componentlist=['T'],datalist=None, kperv=[1]):\n",
    "    #function to give a choice of preloaded datasets from dictionary data_dict\n",
    "    figure()\n",
    "    if datalist==None:\n",
    "        datalist=toi_dict.keys()\n",
    "    if len(componentlist)==1:  # if componentlist is a single value, assume same thing for all chans\n",
    "        c=componentlist[0]\n",
    "        componentlist=[c for n in chanlist]\n",
    "    #set up the color sequence for the plot\n",
    "    nlines=len(datalist)*len(chanlist)\n",
    "    colormap = cm.gist_ncar\n",
    "    gca().set_color_cycle([colormap(i) for i in np.linspace(0, 0.9, nlines)])\n",
    "    titletxt=[]\n",
    "    count = 0\n",
    "    for dname in datalist:\n",
    "        samprate=1000./(toi_dict[dname]['rev'][1]-toi_dict[dname]['rev'][0])\n",
    "        print(dname,samprate)\n",
    "        titletxt.append(dname)\n",
    "        for channame,component in zip(chanlist,componentlist):\n",
    "            print(channame,component)\n",
    "            try:\n",
    "                toi=toi_dict[dname][nametochan(channame)][component] #if it's demod data so a dict\n",
    "                t=toi_dict[dname]['azi'][0]+arange(len(toi))/samprate\n",
    "                if len(kperv)==1 and kperv[0]==1.0:\n",
    "                    plot(t,toi*kperv[count],label=dname+ '  '+channame+' '+component,lw=2)\n",
    "                else:\n",
    "                    plot(t,toi*kperv[count],label=dname+ '  '+channame+' '+component+' gain= '+str(kperv[count]),lw=2)\n",
    "                if (count+1) < len(kperv):\n",
    "                    count += 1\n",
    "            except:\n",
    "                toi=toi_dict[dname][nametochan(channame)].flatten()#if it's raw data so not a dict\n",
    "                t=toi_dict[dname]['azi'][0]+arange(len(toi))/(256.*samprate)\n",
    "                if len(kperv)==1 and kperv[0]==1.0:\n",
    "                    plot(t,toi*kperv[count],label=dname+ '  '+channame+' '+component,lw=2)\n",
    "                else:\n",
    "                    plot(t,toi*kperv[count],label=dname+ '  '+channame+' '+component+' gain= '+str(kperv[count]),lw=2) \n",
    "                if (count+1) < len(kperv):\n",
    "                    count += 1\n",
    "                \n",
    "    title(titletxt)\n",
    "    legend()\n",
    "    xlabel('Time [S]')\n",
    "    if len(kperv) == 1 and kperv[0] == 1:\n",
    "        ylabel('Output [v]')\n",
    "    else:\n",
    "        ylabel('Output [T]')"
   ]
  },
  {
   "cell_type": "code",
   "execution_count": 8,
   "metadata": {
    "collapsed": true
   },
   "outputs": [],
   "source": [
    "def asd_from_dict(data_dict,minfreq=1.):\n",
    "    #run nps on all the channels for each of the loaded data sets, return asd dictionary\n",
    "    asd_dict={}\n",
    "    chans=['ch%s' %str(i) for i in range(16)]\n",
    "    for datset in data_dict.keys():\n",
    "        asd_dict[datset]={}\n",
    "        datatype='demod'\n",
    "        print(datset)\n",
    "        d=data_dict[datset]\n",
    "        if len(d.dtype)==18:\n",
    "            datatype='raw'\n",
    "        samprate=1000./float(d['rev'][10]-d['rev'][9])\n",
    "        for chan in chans:\n",
    "            if datatype=='raw':\n",
    "                freq,psd=cu.nps(d[chan].flatten(),samprate*256,minfreq=minfreq)\n",
    "                asd_dict[datset]['freq']=freq\n",
    "                asd_dict[datset][chan]=sqrt(psd)\n",
    "            if datatype=='demod':\n",
    "                asd_dict[datset][chan]={}\n",
    "                for component in ['T','Q','U']:\n",
    "                    freq,psd=cu.nps(d[chan][component],samprate,minfreq=minfreq)\n",
    "                    asd_dict[datset][chan][component]=sqrt(psd)\n",
    "                    asd_dict[datset]['freq']=freq\n",
    "                    \n",
    "    return asd_dict            "
   ]
  },
  {
   "cell_type": "code",
   "execution_count": 9,
   "metadata": {
    "collapsed": true
   },
   "outputs": [],
   "source": [
    "def plot_asd_dict(asd_dict,chanlist=['H1HiAC'],componentlist=['T'],datalist=None,kperv=[1]):\n",
    "    #function to give a choice of preloaded datasets from dictionary data_dict\n",
    "    figure()\n",
    "    if datalist==None:\n",
    "        datalist=asd_dict.keys()\n",
    "    if len(componentlist)==1:  # if componentlist is a single value, assume same thing for all chans\n",
    "        c=componentlist[0]\n",
    "        componentlist=[c for n in datalist]\n",
    "    #set up the color sequence for the plot\n",
    "    nlines=len(datalist)*len(chanlist)\n",
    "    colormap = cm.gist_ncar\n",
    "    gca().set_color_cycle([colormap(i) for i in np.linspace(0, 0.9, nlines)])\n",
    "    \n",
    "    count = 0\n",
    "    for dname in datalist:\n",
    "        for channame,component in zip(chanlist,componentlist):\n",
    "            try:\n",
    "                asd=asd_dict[dname][nametochan(channame)][component] #if it's demod data so a dict\n",
    "            except:\n",
    "                asd=asd_dict[dname][nametochan(channame)]           #if it's raw data so not a dict\n",
    "            if len(kperv) == 1 and kperv[0] == 1.0:\n",
    "                plot(asd_dict[dname]['freq'],asd*kperv[count],label=dname+ '  '+channame+' '+component,lw=2)\n",
    "            else:\n",
    "                plot(asd_dict[dname]['freq'],asd*kperv[count],label=dname+ '  '+channame+' '+component+' gain= '+str(kperv[count]),lw=2)\n",
    "            if (count+1) < len(kperv):\n",
    "                count += 1\n",
    "    legend()\n",
    "    xlabel('Frequency [Hz]')\n",
    "    if len(kperv) == 1 and kperv[0] == 1:\n",
    "        ylabel(r'ASD [$\\frac{V}{\\sqrt{Hz}}$]')\n",
    "    else:\n",
    "        ylabel(r'ASD [$\\frac{T}{\\sqrt{Hz}}$]')"
   ]
  },
  {
   "cell_type": "code",
   "execution_count": 11,
   "metadata": {},
   "outputs": [
    {
     "ename": "IndexError",
     "evalue": "list index out of range",
     "output_type": "error",
     "traceback": [
      "\u001b[1;31m---------------------------------------------------------------------------\u001b[0m",
      "\u001b[1;31mIndexError\u001b[0m                                Traceback (most recent call last)",
      "\u001b[1;32m<ipython-input-11-afb5ba6db44a>\u001b[0m in \u001b[0;36m<module>\u001b[1;34m()\u001b[0m\n\u001b[1;32m----> 1\u001b[1;33m \u001b[0mplot_some_chans2\u001b[0m\u001b[1;33m(\u001b[0m\u001b[0mdatatype\u001b[0m\u001b[1;33m=\u001b[0m\u001b[1;34m'raw'\u001b[0m\u001b[1;33m,\u001b[0m\u001b[0mcomponents\u001b[0m \u001b[1;33m=\u001b[0m \u001b[1;34m'T'\u001b[0m\u001b[1;33m,\u001b[0m \u001b[0msamprate\u001b[0m\u001b[1;33m=\u001b[0m\u001b[1;36m30\u001b[0m\u001b[1;33m,\u001b[0m\u001b[0mminfreq\u001b[0m\u001b[1;33m=\u001b[0m\u001b[1;36m0.1\u001b[0m\u001b[1;33m,\u001b[0m\u001b[0mlinearize\u001b[0m\u001b[1;33m=\u001b[0m\u001b[0mFalse\u001b[0m\u001b[1;33m)\u001b[0m\u001b[1;33m\u001b[0m\u001b[0m\n\u001b[0m",
      "\u001b[1;32m<ipython-input-5-9fc9fd151938>\u001b[0m in \u001b[0;36mplot_some_chans2\u001b[1;34m(datatype, plottype, filelist, components, samprate, minfreq, linearize)\u001b[0m\n\u001b[0;32m     33\u001b[0m \u001b[1;33m\u001b[0m\u001b[0m\n\u001b[0;32m     34\u001b[0m     \u001b[1;32mif\u001b[0m \u001b[0mdatatype\u001b[0m\u001b[1;33m==\u001b[0m\u001b[1;34m'raw'\u001b[0m\u001b[1;33m:\u001b[0m\u001b[1;33m\u001b[0m\u001b[0m\n\u001b[1;32m---> 35\u001b[1;33m         \u001b[0mh\u001b[0m\u001b[1;33m=\u001b[0m\u001b[0mnp\u001b[0m\u001b[1;33m.\u001b[0m\u001b[0mfloat64\u001b[0m\u001b[1;33m(\u001b[0m\u001b[0mfilelist\u001b[0m\u001b[1;33m[\u001b[0m\u001b[1;36m0\u001b[0m\u001b[1;33m]\u001b[0m\u001b[1;33m[\u001b[0m\u001b[1;33m-\u001b[0m\u001b[1;36m11\u001b[0m\u001b[1;33m:\u001b[0m\u001b[1;33m-\u001b[0m\u001b[1;36m9\u001b[0m\u001b[1;33m]\u001b[0m\u001b[1;33m)\u001b[0m\u001b[1;33m\u001b[0m\u001b[0m\n\u001b[0m\u001b[0;32m     36\u001b[0m         \u001b[0mm\u001b[0m\u001b[1;33m=\u001b[0m\u001b[0mnp\u001b[0m\u001b[1;33m.\u001b[0m\u001b[0mfloat64\u001b[0m\u001b[1;33m(\u001b[0m\u001b[0mfilelist\u001b[0m\u001b[1;33m[\u001b[0m\u001b[1;36m0\u001b[0m\u001b[1;33m]\u001b[0m\u001b[1;33m[\u001b[0m\u001b[1;33m-\u001b[0m\u001b[1;36m9\u001b[0m\u001b[1;33m:\u001b[0m\u001b[1;33m-\u001b[0m\u001b[1;36m7\u001b[0m\u001b[1;33m]\u001b[0m\u001b[1;33m)\u001b[0m\u001b[1;33m\u001b[0m\u001b[0m\n\u001b[0;32m     37\u001b[0m         \u001b[0ms\u001b[0m\u001b[1;33m=\u001b[0m\u001b[0mnp\u001b[0m\u001b[1;33m.\u001b[0m\u001b[0mfloat64\u001b[0m\u001b[1;33m(\u001b[0m\u001b[0mfilelist\u001b[0m\u001b[1;33m[\u001b[0m\u001b[1;36m0\u001b[0m\u001b[1;33m]\u001b[0m\u001b[1;33m[\u001b[0m\u001b[1;33m-\u001b[0m\u001b[1;36m7\u001b[0m\u001b[1;33m:\u001b[0m\u001b[1;33m-\u001b[0m\u001b[1;36m5\u001b[0m\u001b[1;33m]\u001b[0m\u001b[1;33m)\u001b[0m\u001b[1;33m\u001b[0m\u001b[0m\n",
      "\u001b[1;31mIndexError\u001b[0m: list index out of range"
     ]
    }
   ],
   "source": [
    "plot_some_chans2(datatype='raw',components = 'T', samprate=30,minfreq=0.1,linearize=False)"
   ]
  },
  {
   "cell_type": "code",
   "execution_count": 10,
   "metadata": {
    "collapsed": true
   },
   "outputs": [],
   "source": [
    "ddict={}"
   ]
  },
  {
   "cell_type": "code",
   "execution_count": 12,
   "metadata": {
    "scrolled": true
   },
   "outputs": [
    {
     "name": "stdout",
     "output_type": "stream",
     "text": [
      "1001\n",
      "16\n",
      "1000\n",
      "16\n"
     ]
    }
   ],
   "source": [
    "read_some_data(ddict,'amb',datatype='raw')"
   ]
  },
  {
   "cell_type": "code",
   "execution_count": 14,
   "metadata": {},
   "outputs": [
    {
     "data": {
      "text/plain": [
       "['amb', 'sky']"
      ]
     },
     "execution_count": 14,
     "metadata": {},
     "output_type": "execute_result"
    }
   ],
   "source": [
    "ddict.keys()"
   ]
  },
  {
   "cell_type": "code",
   "execution_count": 114,
   "metadata": {},
   "outputs": [
    {
     "name": "stdout",
     "output_type": "stream",
     "text": [
      "sky_w_filters\n",
      "sky_no_filters\n"
     ]
    }
   ],
   "source": [
    "asd_dict = asd_from_dict(ddict, minfreq=0.1)"
   ]
  },
  {
   "cell_type": "code",
   "execution_count": 118,
   "metadata": {},
   "outputs": [
    {
     "name": "stderr",
     "output_type": "stream",
     "text": [
      "C:\\Users\\labuser\\Anaconda\\envs\\py27\\lib\\site-packages\\ipykernel\\__main__.py:18: VisibleDeprecationWarning: using a non-integer number instead of an integer will result in an error in the future\n"
     ]
    }
   ],
   "source": [
    "plot_asd_dict(asd_dict,chanlist=['H1HiAC'],componentlist=['T'],datalist=['sky_w_filters','sky_no_filters'],kperv=[9.1227,1.2487])"
   ]
  },
  {
   "cell_type": "code",
   "execution_count": 17,
   "metadata": {},
   "outputs": [
    {
     "name": "stdout",
     "output_type": "stream",
     "text": [
      "('amblow', 33.333333333333336)\n",
      "('H1HiDC', 'T')\n",
      "('ellowtohigh', 33.333333333333336)\n",
      "('H1HiDC', 'T')\n",
      "('ambhigh', 33.333333333333336)\n",
      "('H1HiDC', 'T')\n",
      "('elhightolow', 33.333333333333336)\n",
      "('H1HiDC', 'T')\n"
     ]
    },
    {
     "name": "stderr",
     "output_type": "stream",
     "text": [
      "C:\\Users\\labuser\\Anaconda3\\envs\\py27\\lib\\site-packages\\matplotlib\\cbook.py:137: MatplotlibDeprecationWarning: The set_color_cycle attribute was deprecated in version 1.5. Use set_prop_cycle instead.\n",
      "  warnings.warn(message, mplDeprecation, stacklevel=1)\n",
      "C:\\Users\\labuser\\Anaconda3\\envs\\py27\\lib\\site-packages\\ipykernel\\__main__.py:22: DeprecationWarning: using a non-integer number instead of an integer will result in an error in the future\n"
     ]
    }
   ],
   "source": [
    "plot_toi_dict(ddict,chanlist=['H1HiDC'],componentlist=['T'],datalist=['amblow', 'ellowtohigh', 'ambhigh', 'elhightolow'])"
   ]
  },
  {
   "cell_type": "code",
   "execution_count": 29,
   "metadata": {
    "collapsed": true
   },
   "outputs": [],
   "source": [
    "from demod import datparsing"
   ]
  },
  {
   "cell_type": "code",
   "execution_count": 118,
   "metadata": {},
   "outputs": [
    {
     "name": "stdout",
     "output_type": "stream",
     "text": [
      "('Horn 1 transmission fraction', 0.12419560576729863)\n",
      "('Horn 2 transmission fraction', 0.12628101445342926)\n",
      "('Horn 3 transmission fraction', 0.11703026443075649)\n"
     ]
    }
   ],
   "source": [
    "beta_h1=(ddict['nocalch1'][nametochan('H1HiAC')]['Q'].mean()-ddict['pcalch1'][nametochan('H1HiAC')]['Q'].mean())/ddict['nocalch1'][nametochan('H1HiAC')]['Q'].mean()\n",
    "beta_h2=(ddict['nocalch2'][nametochan('H2HiAC')]['Q'].mean()-ddict['pcalch2'][nametochan('H2HiAC')]['Q'].mean())/ddict['nocalch2'][nametochan('H2HiAC')]['Q'].mean()\n",
    "beta_h3=(ddict['nocalch3'][nametochan('H3HiAC')]['Q'].mean()-ddict['pcalch3'][nametochan('H3HiAC')]['Q'].mean())/ddict['nocalch3'][nametochan('H3HiAC')]['Q'].mean()\n",
    "print('Horn 1 transmission fraction',beta_h1)\n",
    "print('Horn 2 transmission fraction',beta_h2)\n",
    "print('Horn 3 transmission fraction',beta_h3)"
   ]
  },
  {
   "cell_type": "code",
   "execution_count": 39,
   "metadata": {
    "collapsed": true
   },
   "outputs": [],
   "source": [
    "from collections import defaultdict"
   ]
  },
  {
   "cell_type": "code",
   "execution_count": 16,
   "metadata": {},
   "outputs": [
    {
     "name": "stdout",
     "output_type": "stream",
     "text": [
      "LN cal applied to relatively clear sky data\n",
      "___________________________________________\n",
      " \n",
      "horn 1 percent difference between compressed and linearized ambient voltage: 30.286326\n",
      "horn 1 percent difference between compressed and linearized partial cal voltage: 14.448888\n",
      "horn 1 percent difference between compressed and linearized LN voltage: 11.270586\n",
      "horn 1 ambient to LN gain: -124.774178 K/V\n",
      "horn 1 partial cal to LN gain: -105.596374 K/V\n",
      "horn 1 percent difference between partial cal and ambient cal gains: 15.370011\n",
      "horn 1 noise level: 14998.873501 muK sqrt(sec)\n",
      "horn 1 noise level expected with 4 GHz bandpass: 4408.742242 muK sqrt(sec)\n",
      "horn 1 noise level at pre-amp: 1700.000000 nV/sqrt(Hz)\n",
      " \n",
      "--------------------------------------------------------------------------------------------------\n",
      " \n",
      "horn 2 percent difference between compressed and linearized ambient voltage: 4.724564\n",
      "horn 2 percent difference between compressed and linearized partial cal voltage: -0.197620\n",
      "horn 2 percent difference between compressed and linearized LN voltage: -1.143123\n",
      "horn 2 ambient to LN gain: -354.928863 K/V\n",
      "horn 2 partial cal to LN gain: -322.134497 K/V\n",
      "horn 2 percent difference between partial cal and ambient cal gains: 9.239701\n",
      "horn 2 noise level: 83573.877802 muK sqrt(sec)\n",
      "horn 2 noise level expected with 4 GHz bandpass: 4678.663687 muK sqrt(sec)\n",
      "horn 2 noise level at pre-amp: 3330.000000 nV/sqrt(Hz)\n",
      " \n",
      "--------------------------------------------------------------------------------------------------\n",
      " \n",
      "horn 3 percent difference between compressed and linearized ambient voltage: 7.099652\n",
      "horn 3 percent difference between compressed and linearized partial cal voltage: -1.231513\n",
      "horn 3 percent difference between compressed and linearized LN voltage: -2.847085\n",
      "horn 3 ambient to LN gain: -362.514075 K/V\n",
      "horn 3 partial cal to LN gain: -311.082112 K/V\n",
      "horn 3 percent difference between partial cal and ambient cal gains: 14.187577\n",
      "horn 3 noise level: 82882.025194 muK sqrt(sec)\n",
      "horn 3 noise level expected with 4 GHz bandpass: 4491.432792 muK sqrt(sec)\n",
      "horn 3 noise level at pre-amp: 3233.333333 nV/sqrt(Hz)\n",
      " \n",
      "--------------------------------------------------------------------------------------------------\n",
      " \n",
      "horn 1 percent difference between compressed and linearized ambient voltage: 30.050087\n",
      "horn 1 percent difference between compressed and linearized partial cal voltage: 14.696548\n",
      "horn 1 percent difference between compressed and linearized LN voltage: 11.591671\n",
      "horn 1 ambient to LN gain: -128.483526 K/V\n",
      "horn 1 partial cal to LN gain: -107.539257 K/V\n",
      "horn 1 percent difference between partial cal and ambient cal gains: 16.301132\n",
      "horn 1 noise level: 15444.767317 muK sqrt(sec)\n",
      "horn 1 noise level expected with 4 GHz bandpass: 4471.517399 muK sqrt(sec)\n",
      "horn 1 noise level at pre-amp: 1700.000000 nV/sqrt(Hz)\n",
      " \n",
      "--------------------------------------------------------------------------------------------------\n",
      " \n",
      "horn 1 percent difference between 1st and last ambient-LN gain: 2.972849\n",
      "horn 1 percent difference between 1st and last partial-LN gain: 1.839915\n",
      "horn 1 percent difference between 1st and last amb-partial gain percent difference: 6.058037\n"
     ]
    }
   ],
   "source": [
    "horns = [1,2,3,1]\n",
    "Vamb = [-1.81, -0.824, -0.77, -1.796]\n",
    "Vpar = [-0.901, -0.393, -0.367, -0.915]\n",
    "VLN = [-0.722, -0.32, -0.298, -0.74]\n",
    "beta = [0.124, 0.126, 0.117, 0.124]\n",
    "\n",
    "asd = [5.1e6, 9.99e6, 9.7e6, 5.1e6]\n",
    "\n",
    "h1gamb = []\n",
    "h1gpar = []\n",
    "h1pdiff = []\n",
    "\n",
    "Tamb = 269.\n",
    "TLN = 75.\n",
    "Tsky = 10.\n",
    "Tsys = 10.\n",
    "\n",
    "print 'LN cal applied to relatively clear sky data'\n",
    "print '___________________________________________'\n",
    "print ' '\n",
    "\n",
    "for h in range(0, 4):\n",
    "    Tpar = beta[h]*Tamb + (1-beta[h])*TLN\n",
    "    \n",
    "    Vamb_lin = rt.linearize_Vexp(Vamb[h], horns[h])\n",
    "    Vpar_lin = rt.linearize_Vexp(Vpar[h], horns[h])\n",
    "    VLN_lin = rt.linearize_Vexp(VLN[h], horns[h])\n",
    "    \n",
    "    pdiffamb = 100*(Vamb_lin - Vamb[h])/Vamb[h]\n",
    "    pdiffpar = 100*(Vpar_lin - Vpar[h])/Vpar[h]\n",
    "    pdiffLN = 100*(VLN_lin - VLN[h])/VLN[h]\n",
    "    \n",
    "    gamb = (Tamb - TLN)/(Vamb_lin - VLN_lin)\n",
    "    gpar = (Tpar - TLN)/(Vpar_lin - VLN_lin)\n",
    "    \n",
    "    nl = -1e6*(asd[h]*1e-9*gamb/30.)/np.sqrt(2)\n",
    "    \n",
    "    y = Vpar_lin/VLN_lin\n",
    "    \n",
    "    Tsys = (Tpar - y*TLN)/(y-1)\n",
    "    \n",
    "    enl = 1e6*(Tsys + Tamb)/np.sqrt(4e9)\n",
    "    \n",
    "    pdiffgain = 100*(gamb - gpar)/gamb\n",
    "    \n",
    "    if h == 0 or h == 3:\n",
    "        h1gamb.append(gamb)\n",
    "        h1gpar.append(gpar)\n",
    "        h1pdiff.append(pdiffgain)\n",
    "    \n",
    "    print 'horn %d percent difference between compressed and linearized ambient voltage: %f' % (horns[h], pdiffamb)\n",
    "    print 'horn %d percent difference between compressed and linearized partial cal voltage: %f' % (horns[h], pdiffpar)\n",
    "    print 'horn %d percent difference between compressed and linearized LN voltage: %f' % (horns[h], pdiffLN)\n",
    "    print 'horn %d ambient to LN gain: %f K/V' % (horns[h], gamb)\n",
    "    print 'horn %d partial cal to LN gain: %f K/V' % (horns[h], gpar)\n",
    "    print 'horn %d percent difference between partial cal and ambient cal gains: %f' % (horns[h], pdiffgain)\n",
    "    #print 'horn %d y factor: ' % horns[h], y\n",
    "    #print 'horn %d Tsys: ' % horns[h], Tsys\n",
    "    print 'horn %d noise level: %f muK sqrt(sec)' % (horns[h], nl)\n",
    "    print 'horn %d noise level expected with 4 GHz bandpass: %f muK sqrt(sec)' % (horns[h], enl)\n",
    "    print 'horn %d noise level at pre-amp: %f nV/sqrt(Hz)' % (horns[h], asd[h]/100./30.)\n",
    "    print ' '\n",
    "    print '--------------------------------------------------------------------------------------------------'\n",
    "    print ' '\n",
    "\n",
    "print 'horn 1 percent difference between 1st and last ambient-LN gain: %f' % (100*abs((h1gamb[0] - h1gamb[1])/h1gamb[0]))\n",
    "print 'horn 1 percent difference between 1st and last partial-LN gain: %f' % (100*abs((h1gpar[0] - h1gpar[1])/h1gpar[0]))\n",
    "print 'horn 1 percent difference between 1st and last amb-partial gain percent difference: %f' % (100*abs((h1pdiff[0] - h1pdiff[1])/h1pdiff[0]))"
   ]
  },
  {
   "cell_type": "code",
   "execution_count": null,
   "metadata": {
    "collapsed": true
   },
   "outputs": [],
   "source": [
    "horns = [1,2,3]\n",
    "asd = [3.42e6, 1.66e6, 4.2e6]\n",
    "\n",
    "pgains = [-395.035239897, -867.289055377, -412.044076708]\n",
    "\n",
    "for h in horns:\n",
    "    Vamb1 = ddict['amb1'][nametochan('H%dHiDC' % h)].mean()\n",
    "    Vamb1 = rt.linearize_Vexp(Vamb1, h)\n",
    "\n",
    "    Vamb3 = ddict['amb3'][nametochan('H%dHiDC' % h)].mean()\n",
    "    Vamb3 = rt.linearize_Vexp(Vamb3, h)\n",
    "\n",
    "    gainratio = Vamb1/Vamb3\n",
    "    print 'gain ratio: ', gainratio\n",
    "    gain = pgains[h-1]*gainratio\n",
    "    \n",
    "    nl = -1e3*(asd[h-1]*1e-9*gain/30.)/np.sqrt(2)\n",
    "    \n",
    "    enl = 1e3*(10 + 300)/np.sqrt(4e9)\n",
    "\n",
    "    print 'horn %d gain: ' % h, gain\n",
    "    print 'horn %d noise level: %f mK sqrt(sec)' % (h, nl)\n",
    "    print 'horn %d noise level expected with 4 GHz bandpass and Tsys 10K: %f mK sqrt(sec)' % (h, enl)\n",
    "    print ' '"
   ]
  },
  {
   "cell_type": "code",
   "execution_count": 13,
   "metadata": {},
   "outputs": [
    {
     "name": "stdout",
     "output_type": "stream",
     "text": [
      "horn 1 gain -119.603594258\n",
      "horn 1 Tsys 5.15229528783\n",
      "horn 1 noise level 1367.87863713  muK sqrt(sec)\n",
      " \n",
      "horn 2 gain -352.548181589\n",
      "horn 2 Tsys 3.73831756339\n",
      "horn 2 noise level 4010.15763644  muK sqrt(sec)\n",
      " \n",
      "horn 3 gain -381.940502622\n",
      "horn 3 Tsys 10.9147489866\n",
      "horn 3 noise level 13223.9306576  muK sqrt(sec)\n",
      " \n"
     ]
    }
   ],
   "source": [
    "horns = [1,2,3]\n",
    "asd = [485221, 482591, 1.46893e6]\n",
    "Th = 271\n",
    "Tc = 10\n",
    "\n",
    "for h in horns:\n",
    "    vsky = ddict['sky'][nametochan('H%dHiDC' % h)].mean()\n",
    "    #vpar = ddict['H%d_par' % h][nametochan('H%dHiDC' % h)]['T'].mean()\n",
    "    vamb = ddict['amb'][nametochan('H%dHiDC' % h)].mean()\n",
    "    \n",
    "    vskylin = rt.linearize_Vexp(vsky, h)\n",
    "    #vpar = rt.linearize_Vexp(vpar, h)\n",
    "    vamblin = rt.linearize_Vexp(vamb, h)\n",
    "    \n",
    "    y = vamblin/vskylin\n",
    "    \n",
    "    g = (Th - Tc)/(vamblin - vskylin)\n",
    "    \n",
    "    Tsys = (Th - y*Tc)/(y-1)\n",
    "    \n",
    "    psd = -1e6*(asd[h-1]*1e-9*g/30.)/np.sqrt(2)\n",
    "    \n",
    "    print 'horn %d gain' % h, g\n",
    "    print 'horn %d Tsys' % h, Tsys\n",
    "    print 'horn %d noise level' %h, psd, ' muK sqrt(sec)'\n",
    "    print ' '\n",
    "    "
   ]
  },
  {
   "cell_type": "code",
   "execution_count": 14,
   "metadata": {},
   "outputs": [
    {
     "name": "stdout",
     "output_type": "stream",
     "text": [
      "LN cal applied to relatively clear sky data\n",
      "___________________________________________\n",
      " \n",
      "horn 1 percent difference between compressed and linearized ambient voltage: 28.709687\n",
      "horn 1 percent difference between compressed and linearized partial cal voltage: 13.288885\n",
      "horn 1 percent difference between compressed and linearized LN voltage: 10.061357\n",
      "horn 1 ambient to LN gain: -131.579500 K/V\n",
      "horn 1 partial cal to LN gain: -107.455640 K/V\n",
      "horn 1 percent difference between partial cal and ambient cal gains: 18.334056\n",
      "horn 1 noise level: 1228.945298 muK sqrt(sec)\n",
      "horn 1 noise level expected with 4 GHz bandpass: 316.227766 muK sqrt(sec)\n",
      "horn 1 noise level at pre-amp: 161.740333 nV/sqrt(Hz)\n",
      " \n",
      "--------------------------------------------------------------------------------------------------\n",
      " \n",
      "horn 2 percent difference between compressed and linearized ambient voltage: 5.267623\n",
      "horn 2 percent difference between compressed and linearized partial cal voltage: -0.061516\n",
      "horn 2 percent difference between compressed and linearized LN voltage: -1.136325\n",
      "horn 2 ambient to LN gain: -325.512036 K/V\n",
      "horn 2 partial cal to LN gain: -284.210311 K/V\n",
      "horn 2 percent difference between partial cal and ambient cal gains: 12.688233\n",
      "horn 2 noise level: 3232.829464 muK sqrt(sec)\n",
      "horn 2 noise level expected with 4 GHz bandpass: 316.227766 muK sqrt(sec)\n",
      "horn 2 noise level at pre-amp: 160.863667 nV/sqrt(Hz)\n",
      " \n",
      "--------------------------------------------------------------------------------------------------\n",
      " \n",
      "horn 3 percent difference between compressed and linearized ambient voltage: 5.080550\n",
      "horn 3 percent difference between compressed and linearized partial cal voltage: -2.082910\n",
      "horn 3 percent difference between compressed and linearized LN voltage: -3.698321\n",
      "horn 3 ambient to LN gain: -438.305936 K/V\n",
      "horn 3 partial cal to LN gain: -332.878673 K/V\n",
      "horn 3 percent difference between partial cal and ambient cal gains: 24.053351\n",
      "horn 3 noise level: 11525.262334 muK sqrt(sec)\n",
      "horn 3 noise level expected with 4 GHz bandpass: 316.227766 muK sqrt(sec)\n",
      "horn 3 noise level at pre-amp: 489.643333 nV/sqrt(Hz)\n",
      " \n",
      "--------------------------------------------------------------------------------------------------\n",
      " \n",
      "horn 1 percent difference between compressed and linearized ambient voltage: 28.931081\n",
      "horn 1 percent difference between compressed and linearized partial cal voltage: 13.439562\n",
      "horn 1 percent difference between compressed and linearized LN voltage: 10.160254\n",
      "horn 1 ambient to LN gain: -130.366821 K/V\n",
      "horn 1 partial cal to LN gain: -105.498830 K/V\n",
      "horn 1 percent difference between partial cal and ambient cal gains: 19.075399\n",
      "horn 1 noise level: 1206.565712 muK sqrt(sec)\n",
      "horn 1 noise level expected with 4 GHz bandpass: 316.227766 muK sqrt(sec)\n",
      "horn 1 noise level at pre-amp: 161.740333 nV/sqrt(Hz)\n",
      " \n",
      "--------------------------------------------------------------------------------------------------\n",
      " \n",
      "horn 1 percent difference between 1st and last ambient-LN gain: 0.921632\n",
      "horn 1 percent difference between 1st and last partial-LN gain: 1.821040\n",
      "horn 1 percent difference between 1st and last amb-partial gain percent difference: 4.043528\n"
     ]
    }
   ],
   "source": [
    "horns = [1,2,3,1]\n",
    "Vamb = [-1.717, -0.873, -0.6675, -1.73]\n",
    "Vpar = [-0.8355, -0.404, -0.33, -0.844]\n",
    "VLN = [-0.6545, -0.3205, -0.264, -0.66]\n",
    "beta = [0.124, 0.126, 0.117, 0.124]\n",
    "\n",
    "asd = [485221, 482591, 1.46893e6, 485221]\n",
    "\n",
    "h1gamb = []\n",
    "h1gpar = []\n",
    "h1pdiff = []\n",
    "\n",
    "Tamb = 271.\n",
    "TLN = 75.\n",
    "Tsky = 10.\n",
    "Tsys = 10.\n",
    "\n",
    "print 'LN cal applied to relatively clear sky data'\n",
    "print '___________________________________________'\n",
    "print ' '\n",
    "\n",
    "for h in range(0, 4):\n",
    "    Tpar = beta[h]*Tamb + (1-beta[h])*TLN\n",
    "    \n",
    "    Vamb_lin = rt.linearize_Vexp(Vamb[h], horns[h])\n",
    "    Vpar_lin = rt.linearize_Vexp(Vpar[h], horns[h])\n",
    "    VLN_lin = rt.linearize_Vexp(VLN[h], horns[h])\n",
    "    \n",
    "    pdiffamb = 100*(Vamb_lin - Vamb[h])/Vamb[h]\n",
    "    pdiffpar = 100*(Vpar_lin - Vpar[h])/Vpar[h]\n",
    "    pdiffLN = 100*(VLN_lin - VLN[h])/VLN[h]\n",
    "    \n",
    "    gamb = (Tamb - TLN)/(Vamb_lin - VLN_lin)\n",
    "    gpar = (Tpar - TLN)/(Vpar_lin - VLN_lin)\n",
    "    \n",
    "    nl = -1e6*(asd[h]*1e-9*gpar/30.)/np.sqrt(2)\n",
    "    \n",
    "    #y = Vpar_lin/VLN_lin\n",
    "    \n",
    "    #Tsys = (Tpar - y*TLN)/(y-1)\n",
    "    \n",
    "    enl = 1e6*(Tsys + Tsky)/np.sqrt(4e9)\n",
    "    \n",
    "    pdiffgain = 100*(gamb - gpar)/gamb\n",
    "    \n",
    "    if h == 0 or h == 3:\n",
    "        h1gamb.append(gamb)\n",
    "        h1gpar.append(gpar)\n",
    "        h1pdiff.append(pdiffgain)\n",
    "    \n",
    "    print 'horn %d percent difference between compressed and linearized ambient voltage: %f' % (horns[h], pdiffamb)\n",
    "    print 'horn %d percent difference between compressed and linearized partial cal voltage: %f' % (horns[h], pdiffpar)\n",
    "    print 'horn %d percent difference between compressed and linearized LN voltage: %f' % (horns[h], pdiffLN)\n",
    "    print 'horn %d ambient to LN gain: %f K/V' % (horns[h], gamb)\n",
    "    print 'horn %d partial cal to LN gain: %f K/V' % (horns[h], gpar)\n",
    "    print 'horn %d percent difference between partial cal and ambient cal gains: %f' % (horns[h], pdiffgain)\n",
    "    #print 'horn %d y factor: ' % horns[h], y\n",
    "    #print 'horn %d Tsys: ' % horns[h], Tsys\n",
    "    print 'horn %d noise level: %f muK sqrt(sec)' % (horns[h], nl)\n",
    "    print 'horn %d noise level expected with 4 GHz bandpass: %f muK sqrt(sec)' % (horns[h], enl)\n",
    "    print 'horn %d noise level at pre-amp: %f nV/sqrt(Hz)' % (horns[h], asd[h]/100./30.)\n",
    "    print ' '\n",
    "    print '--------------------------------------------------------------------------------------------------'\n",
    "    print ' '\n",
    "\n",
    "print 'horn 1 percent difference between 1st and last ambient-LN gain: %f' % (100*abs((h1gamb[0] - h1gamb[1])/h1gamb[0]))\n",
    "print 'horn 1 percent difference between 1st and last partial-LN gain: %f' % (100*abs((h1gpar[0] - h1gpar[1])/h1gpar[0]))\n",
    "print 'horn 1 percent difference between 1st and last amb-partial gain percent difference: %f' % (100*abs((h1pdiff[0] - h1pdiff[1])/h1pdiff[0]))"
   ]
  },
  {
   "cell_type": "code",
   "execution_count": 51,
   "metadata": {},
   "outputs": [
    {
     "name": "stdout",
     "output_type": "stream",
     "text": [
      "Horn 1 sky:  -0.398295236255 V\n",
      "Horn 1 sky:  -0.419327295856 V\n",
      "Horn 1 gain:  124.875543416 K/V\n",
      "\n"
     ]
    }
   ],
   "source": [
    "horns = [1,]\n",
    "Th = 300\n",
    "Tc = 20\n",
    "\n",
    "for h in horns:\n",
    "    vLN = ddict['sky'][nametochan('H%dHiDC' % h)].mean()\n",
    "    #vpar = ddict['H%d_par' % h][nametochan('H%dHiDC' % h)]['T'].mean()\n",
    "    vamb = ddict['amb'][nametochan('H%dHiDC' % h)].mean()\n",
    "    \n",
    "    vLN = rt.linearize_Vexp(vLN, h)\n",
    "    #vpar = rt.linearize_Vexp(vpar, h)\n",
    "    vamblin = rt.linearize_Vexp(vamb, h)\n",
    "    \n",
    "    #y = vamb/vLN\n",
    "    \n",
    "    g = (Th - Tc)/(vamb - vLN)\n",
    "    \n",
    "    #Tsys = (Th - y*Tc)/(y-1)\n",
    "    \n",
    "    #print 'Horn %d LN: ' % h, vLN, 'V' \n",
    "    #print 'Horn %d partial cal: ' % h, vpar, 'V' \n",
    "    print 'Horn %d sky: ' % h, vamb, 'V' \n",
    "    print 'Horn %d amb: ' % h, vamblin, 'V' \n",
    "    print 'Horn %d gain: ' % h, g, 'K/V' \n",
    "    #print 'Horn %d y factor: ' % h, y \n",
    "    #print 'Horn %d Tsys: ' % h, Tsys, 'K' \n",
    "    print ''\n",
    "    \n",
    "    "
   ]
  },
  {
   "cell_type": "code",
   "execution_count": 38,
   "metadata": {},
   "outputs": [
    {
     "ename": "AttributeError",
     "evalue": "'module' object has no attribute 'readraw'",
     "output_type": "error",
     "traceback": [
      "\u001b[0;31m---------------------------------------------------------------------------\u001b[0m",
      "\u001b[0;31mAttributeError\u001b[0m                            Traceback (most recent call last)",
      "\u001b[0;32m<ipython-input-38-395240ccb459>\u001b[0m in \u001b[0;36m<module>\u001b[0;34m()\u001b[0m\n\u001b[1;32m      1\u001b[0m \u001b[1;32mimport\u001b[0m \u001b[0mdemod\u001b[0m\u001b[1;33m\u001b[0m\u001b[0m\n\u001b[0;32m----> 2\u001b[0;31m \u001b[0mdd\u001b[0m \u001b[1;33m=\u001b[0m \u001b[0mdemod\u001b[0m\u001b[1;33m.\u001b[0m\u001b[0mreadraw\u001b[0m\u001b[1;33m(\u001b[0m\u001b[0mfld\u001b[0m\u001b[1;33m)\u001b[0m\u001b[1;33m\u001b[0m\u001b[0m\n\u001b[0m",
      "\u001b[0;31mAttributeError\u001b[0m: 'module' object has no attribute 'readraw'"
     ]
    }
   ],
   "source": [
    "import demod\n",
    "dd = demod.readraw(fld)"
   ]
  },
  {
   "cell_type": "code",
   "execution_count": 43,
   "metadata": {},
   "outputs": [
    {
     "name": "stdout",
     "output_type": "stream",
     "text": [
      "-3.91153631274\n"
     ]
    }
   ],
   "source": [
    "print rt.linearize_Vexp(-2.9,3)"
   ]
  },
  {
   "cell_type": "code",
   "execution_count": 126,
   "metadata": {},
   "outputs": [
    {
     "name": "stdout",
     "output_type": "stream",
     "text": [
      "-2.21791124688\n",
      "-0.550969987297\n",
      "4.02546653723\n"
     ]
    }
   ],
   "source": [
    "Vhigh=rt.linearize_Vexp(-1.724,1)\n",
    "print(Vhigh)\n",
    "Vlow=rt.linearize_Vexp(-.516,1)\n",
    "print(Vlow)\n",
    "print(Vhigh/Vlow)"
   ]
  },
  {
   "cell_type": "code",
   "execution_count": 18,
   "metadata": {},
   "outputs": [
    {
     "name": "stdout",
     "output_type": "stream",
     "text": [
      "horn gain:  -112.098340927\n",
      "horn gain:  -336.134714762\n",
      "horn gain:  -684.525729075\n"
     ]
    }
   ],
   "source": [
    "horns = [1,2,3]\n",
    "for h in horns:\n",
    "    Vamb = rt.linearize_Vexp(ddict['amb'][nametochan('H%dHiDC' % h)].mean(),h)\n",
    "    #Vpar = rt.linearize_Vexp(ddict['par'][nametochan('H1HiDC')]['T'].mean(),1,2)\n",
    "    #Vln = rt.linearize_Vexp(ddict['ln'][nametochan('H1HiDC')]['T'].mean(),1,2)\n",
    "    Vsky = rt.linearize_Vexp(ddict['sky'][nametochan('H%dHiDC' % h)].mean(),h)\n",
    "\n",
    "    Th = 261\n",
    "    Tc = 20\n",
    "\n",
    "    gain = (Th-Tc)/(Vamb - Vsky)\n",
    "\n",
    "    #y = Vamb/Vln\n",
    "\n",
    "    #Tpar = (Vpar - Vln)*gain\n",
    "\n",
    "    #Tsys = (Th - y*Tc)/(y-1)\n",
    "    \n",
    "    print 'horn gain: ', gain\n",
    "    #print gain\n",
    "    #print Tpar\n",
    "    #print Tsys"
   ]
  },
  {
   "cell_type": "code",
   "execution_count": 97,
   "metadata": {},
   "outputs": [
    {
     "data": {
      "text/plain": [
       "\"\\n    if (key[-1]=='2'):\\n        channame='H2HiAC'\\n        title(channame)\\n        toi=rdict[key][nametochan(channame)].flatten()#\\n        stoi=mean(rdict[key][nametochan(channame)],axis=0)\\n        plot(stoi,label=key) \\n        legend()\\n\\n    if (key[-1]=='3'):\\n        channame='H3HiAC'\\n        title(channame)\\n        toi=rdict[key][nametochan(channame)].flatten()#\\n        stoi=mean(rdict[key][nametochan(channame)],axis=0)\\n        plot(stoi,label=key) \\n        legend()\\n\""
      ]
     },
     "execution_count": 97,
     "metadata": {},
     "output_type": "execute_result"
    }
   ],
   "source": [
    "var = 'Q'\n",
    "figure()\n",
    "for key in rdict.keys():\n",
    "    if (key[-1]=='1'):\n",
    "        channame='H1HiDC'\n",
    "        title(channame)\n",
    "        toi=rdict[key][nametochan(channame)].flatten()#\n",
    "        stoi=mean(rdict[key][nametochan(channame)],axis=0)\n",
    "        plot(stoi,label=key) \n",
    "        legend()\n",
    "\"\"\"\n",
    "    if (key[-1]=='2'):\n",
    "        channame='H2HiAC'\n",
    "        title(channame)\n",
    "        toi=rdict[key][nametochan(channame)].flatten()#\n",
    "        stoi=mean(rdict[key][nametochan(channame)],axis=0)\n",
    "        plot(stoi,label=key) \n",
    "        legend()\n",
    "\n",
    "    if (key[-1]=='3'):\n",
    "        channame='H3HiAC'\n",
    "        title(channame)\n",
    "        toi=rdict[key][nametochan(channame)].flatten()#\n",
    "        stoi=mean(rdict[key][nametochan(channame)],axis=0)\n",
    "        plot(stoi,label=key) \n",
    "        legend()\n",
    "\"\"\""
   ]
  },
  {
   "cell_type": "code",
   "execution_count": 13,
   "metadata": {
    "scrolled": true
   },
   "outputs": [
    {
     "name": "stdout",
     "output_type": "stream",
     "text": [
      "('nl1_3_23', 31.25)\n",
      "('H1HiDC', 'T')\n",
      "('H1LoDC', 'T')\n"
     ]
    },
    {
     "name": "stderr",
     "output_type": "stream",
     "text": [
      "C:\\Users\\labuser\\Anaconda\\envs\\py27\\lib\\site-packages\\ipykernel\\__main__.py:21: VisibleDeprecationWarning: using a non-integer number instead of an integer will result in an error in the future\n"
     ]
    }
   ],
   "source": [
    "plot_toi_dict(rdict,chanlist=['H1HiDC', 'H1LoDC'],componentlist=['T'],datalist=['nl1_3_23'])"
   ]
  },
  {
   "cell_type": "code",
   "execution_count": 12,
   "metadata": {
    "scrolled": true
   },
   "outputs": [
    {
     "name": "stdout",
     "output_type": "stream",
     "text": [
      "('pcalch1', 29.411764705882351)\n",
      "('H1HiDC', 'T')\n",
      "('nocalch1', 29.411764705882351)\n",
      "('H1HiDC', 'T')\n"
     ]
    },
    {
     "name": "stderr",
     "output_type": "stream",
     "text": [
      "C:\\Users\\labuser\\Anaconda\\envs\\py27\\lib\\site-packages\\ipykernel\\__main__.py:21: VisibleDeprecationWarning: using a non-integer number instead of an integer will result in an error in the future\n"
     ]
    }
   ],
   "source": [
    "plot_toi_dict(rdict,chanlist=['H1HiDC'],componentlist=['T'])"
   ]
  },
  {
   "cell_type": "code",
   "execution_count": 13,
   "metadata": {},
   "outputs": [
    {
     "data": {
      "text/plain": [
       "['nl1_3_22', 'nl2_3_22', 'nl3_3_23']"
      ]
     },
     "execution_count": 13,
     "metadata": {},
     "output_type": "execute_result"
    }
   ],
   "source": [
    "rdict.keys()"
   ]
  },
  {
   "cell_type": "code",
   "execution_count": 23,
   "metadata": {
    "collapsed": true
   },
   "outputs": [],
   "source": [
    "d1=rdict['nl1_3_22'][nametochan('H1HiDC')].flatten()\n",
    "r1=rdict['nl1_3_22'][nametochan('H2LoDC')].flatten()\n",
    "d2=rdict['nl2_3_22'][nametochan('H2HiDC')].flatten()\n",
    "r2=rdict['nl2_3_22'][nametochan('H2LoDC')].flatten()\n",
    "d3=rdict['nl3_3_23'][nametochan('H3HiDC')].flatten()\n",
    "r3=rdict['nl3_3_23'][nametochan('H2LoDC')].flatten()"
   ]
  },
  {
   "cell_type": "code",
   "execution_count": 25,
   "metadata": {
    "collapsed": true
   },
   "outputs": [],
   "source": [
    "d1=rdict['nl1_3_22'][nametochan('H1LoDC')].flatten()\n",
    "r1=rdict['nl1_3_22'][nametochan('H2LoDC')].flatten()\n",
    "d2=rdict['nl2_3_22'][nametochan('H1LoDC')].flatten()\n",
    "r2=rdict['nl2_3_22'][nametochan('H2LoDC')].flatten()\n",
    "d3=rdict['nl3_3_23'][nametochan('H1LoDC')].flatten()\n",
    "r3=rdict['nl3_3_23'][nametochan('H2LoDC')].flatten()"
   ]
  },
  {
   "cell_type": "code",
   "execution_count": 26,
   "metadata": {},
   "outputs": [
    {
     "data": {
      "text/plain": [
       "<matplotlib.text.Text at 0x6f893748>"
      ]
     },
     "execution_count": 26,
     "metadata": {},
     "output_type": "execute_result"
    }
   ],
   "source": [
    "figure()\n",
    "plot(r2,d2)\n",
    "title('H2')\n",
    "\n",
    "figure()\n",
    "plot(r1,d1)\n",
    "title('H1')\n",
    "\n",
    "figure()\n",
    "plot(r3,d3)\n",
    "title('H3')"
   ]
  },
  {
   "cell_type": "code",
   "execution_count": 16,
   "metadata": {
    "collapsed": true
   },
   "outputs": [],
   "source": [
    "#take section of data with increasing power\n",
    "d31=d3[505516:921971]\n",
    "r31=r3[505516:921971]\n",
    "\n",
    "d21 = d2[496965:1047710]\n",
    "r21 = r2[496965:1047710]\n",
    "\n",
    "d11 = d1[259609:604672]\n",
    "r11 = r1[259609:604672]\n",
    "\n",
    "#take section of data with decreasing power\n",
    "d32 = d3[1017160:1520870]\n",
    "r32 = r3[1017160:1520870]\n",
    "\n",
    "d22 = d2[1154790:1766730]\n",
    "r22 = r2[1154790:1766730]\n",
    "\n",
    "d12 = d1[703828:1025090]\n",
    "r12 = r1[703828:1025090]"
   ]
  },
  {
   "cell_type": "code",
   "execution_count": 22,
   "metadata": {},
   "outputs": [
    {
     "data": {
      "text/plain": [
       "<matplotlib.text.Text at 0x75aa6588>"
      ]
     },
     "execution_count": 22,
     "metadata": {},
     "output_type": "execute_result"
    }
   ],
   "source": [
    "l = len(d3)\n",
    "figure()\n",
    "plot(np.arange(l), d3)\n",
    "plot(np.arange(l)[505516:921971], d31)\n",
    "plot(np.arange(l)[1017160:1520870], d32)\n",
    "title('H3')\n",
    "\n",
    "l = len(d2)\n",
    "#figure()\n",
    "plot(np.arange(l), d2)\n",
    "plot(np.arange(l)[496965:1047710], d21)\n",
    "plot(np.arange(l)[1154790:1766730], d22)\n",
    "title('H2')\n",
    "\n",
    "l = len(d1)\n",
    "#figure()\n",
    "plot(np.arange(l), d1)\n",
    "plot(np.arange(l)[259609:604672], d11)\n",
    "plot(np.arange(l)[703828:1025090], d12)\n",
    "title('H1')"
   ]
  },
  {
   "cell_type": "code",
   "execution_count": 17,
   "metadata": {
    "collapsed": true
   },
   "outputs": [],
   "source": [
    "isort=argsort(d1)\n",
    "ds1=d1[isort]\n",
    "rs1=r1[isort]\n",
    "isort=argsort(d2)\n",
    "ds2=d2[isort]\n",
    "rs2=r2[isort]\n",
    "isort=argsort(d3)\n",
    "ds3=d3[isort]\n",
    "rs3=r3[isort]"
   ]
  },
  {
   "cell_type": "code",
   "execution_count": 18,
   "metadata": {
    "collapsed": true
   },
   "outputs": [],
   "source": [
    "isort=argsort(d31)\n",
    "ds31=d31[isort]\n",
    "rs31=r31[isort]\n",
    "\n",
    "isort=argsort(d32)\n",
    "ds32=d32[isort]\n",
    "rs32=r32[isort]\n",
    "\n",
    "isort=argsort(d21)\n",
    "ds21=d21[isort]\n",
    "rs21=r21[isort]\n",
    "\n",
    "isort=argsort(d22)\n",
    "ds22=d22[isort]\n",
    "rs22=r22[isort]\n",
    "\n",
    "isort=argsort(d11)\n",
    "ds11=d11[isort]\n",
    "rs11=r11[isort]\n",
    "\n",
    "isort=argsort(d12)\n",
    "ds12=d12[isort]\n",
    "rs12=r12[isort]"
   ]
  },
  {
   "cell_type": "code",
   "execution_count": 19,
   "metadata": {
    "collapsed": true
   },
   "outputs": [],
   "source": [
    "def compfunc(x,p):\n",
    "    \"\"\"\n",
    "    define a non-linear function to fit compression\n",
    "    parameters p(4): (offset,slope,exponential coefficient, exponent)\n",
    "    \"\"\"\n",
    "    y=p[0]+p[1]*x+p[2]*exp(p[3]*x)\n",
    "    return y\n",
    "\n",
    "def compfuncresiduals(p,y,x):\n",
    "    err=y-compfunc(x,p)\n",
    "    return err"
   ]
  },
  {
   "cell_type": "code",
   "execution_count": 20,
   "metadata": {
    "collapsed": true
   },
   "outputs": [],
   "source": [
    "def fit_compression(x,y,pstart=None):\n",
    "    \"\"\"\n",
    "    function to fit compression function\n",
    "    \"\"\"\n",
    "    xmax=x[y==np.max(y)][0]\n",
    "    if pstart==None:\n",
    "        pstart=[np.max(y),xmax,1,1]\n",
    "        if np.max(y)==y[0]:\n",
    "            pstart=[y[0],x[0]-1,0,1]\n",
    "        if np.max(y)==y[-1]:\n",
    "            pstart=[y[-1],x[-1]+1,1,0]\n",
    "    pbest=optimize.leastsq(compfuncresiduals,pstart,args=(y,x))\n",
    "    params={}\n",
    "    params['offset']=pbest[0][0]\n",
    "    params['slope']=pbest[0][1]\n",
    "    params['exp_coeff']=np.abs(pbest[0][2])\n",
    "    params['exponent']=np.abs(pbest[0][3])\n",
    "    params['fit']=compfunc(x,pbest[0])\n",
    "    return pbest[0]"
   ]
  },
  {
   "cell_type": "code",
   "execution_count": 21,
   "metadata": {
    "collapsed": true
   },
   "outputs": [],
   "source": [
    "expars1=fit_compression(rs1,ds1)\n",
    "expars2=fit_compression(rs2,ds2)\n",
    "expars3=fit_compression(rs3,ds3)"
   ]
  },
  {
   "cell_type": "code",
   "execution_count": 22,
   "metadata": {
    "collapsed": true
   },
   "outputs": [],
   "source": [
    "expars31=fit_compression(rs31,ds31)\n",
    "expars32=fit_compression(rs32,ds32)\n",
    "\n",
    "expars21=fit_compression(rs21,ds21)\n",
    "expars22=fit_compression(rs22,ds22)\n",
    "\n",
    "expars11=fit_compression(rs11,ds11)\n",
    "expars12=fit_compression(rs12,ds12)"
   ]
  },
  {
   "cell_type": "code",
   "execution_count": 23,
   "metadata": {
    "collapsed": true
   },
   "outputs": [],
   "source": [
    "dsf1=np.array([ds1[i] for i in range(len(ds1)) if (ds1[i]>-.5) and (ds1[i]<.04)])\n",
    "rsf1=np.array([rs1[i] for i in range(len(ds1)) if (ds1[i]>-.5) and (ds1[i]<.04)])\n",
    "dsf2=np.array([ds2[i] for i in range(len(ds2)) if (ds2[i]>-.5) and (ds2[i]<.04)])\n",
    "rsf2=np.array([rs2[i] for i in range(len(ds2)) if (ds2[i]>-.5) and (ds2[i]<.04)])\n",
    "dsf3=np.array([ds3[i] for i in range(len(ds3)) if (ds3[i]>-.5) and (ds3[i]<.04)])\n",
    "rsf3=np.array([rs3[i] for i in range(len(ds3)) if (ds3[i]>-.5) and (ds3[i]<.04)])"
   ]
  },
  {
   "cell_type": "code",
   "execution_count": 24,
   "metadata": {
    "collapsed": true
   },
   "outputs": [],
   "source": [
    "dsf31=np.array([ds31[i] for i in range(len(ds31)) if (ds31[i]>-.5) and (ds31[i]<.04)])\n",
    "rsf31=np.array([rs31[i] for i in range(len(ds31)) if (ds31[i]>-.5) and (ds31[i]<.04)])\n",
    "dsf32=np.array([ds32[i] for i in range(len(ds32)) if (ds32[i]>-.5) and (ds32[i]<.04)])\n",
    "rsf32=np.array([rs32[i] for i in range(len(ds32)) if (ds32[i]>-.5) and (ds32[i]<.04)])\n",
    "\n",
    "dsf21=np.array([ds21[i] for i in range(len(ds21)) if (ds21[i]>-.5) and (ds21[i]<.04)])\n",
    "rsf21=np.array([rs21[i] for i in range(len(ds21)) if (ds21[i]>-.5) and (ds21[i]<.04)])\n",
    "dsf22=np.array([ds22[i] for i in range(len(ds22)) if (ds22[i]>-.5) and (ds22[i]<.04)])\n",
    "rsf22=np.array([rs22[i] for i in range(len(ds22)) if (ds22[i]>-.5) and (ds22[i]<.04)])\n",
    "\n",
    "dsf11=np.array([ds11[i] for i in range(len(ds11)) if (ds11[i]>-.5) and (ds11[i]<.04)])\n",
    "rsf11=np.array([rs11[i] for i in range(len(ds11)) if (ds11[i]>-.5) and (ds11[i]<.04)])\n",
    "dsf12=np.array([ds12[i] for i in range(len(ds12)) if (ds12[i]>-.5) and (ds12[i]<.04)])\n",
    "rsf12=np.array([rs12[i] for i in range(len(ds12)) if (ds12[i]>-.5) and (ds12[i]<.04)])"
   ]
  },
  {
   "cell_type": "code",
   "execution_count": 25,
   "metadata": {
    "collapsed": true
   },
   "outputs": [],
   "source": [
    "pars1=cu.linfit(dsf1,rsf1)\n",
    "pars2=cu.linfit(dsf2,rsf2)\n",
    "pars3=cu.linfit(dsf3,rsf3)"
   ]
  },
  {
   "cell_type": "code",
   "execution_count": 26,
   "metadata": {
    "collapsed": true
   },
   "outputs": [],
   "source": [
    "pars31=cu.linfit(dsf31,rsf31)\n",
    "pars32=cu.linfit(dsf32,rsf32)\n",
    "\n",
    "pars21=cu.linfit(dsf21,rsf21)\n",
    "pars22=cu.linfit(dsf22,rsf22)\n",
    "\n",
    "pars11=cu.linfit(dsf11,rsf11)\n",
    "pars12=cu.linfit(dsf12,rsf12)"
   ]
  },
  {
   "cell_type": "code",
   "execution_count": 27,
   "metadata": {},
   "outputs": [
    {
     "name": "stdout",
     "output_type": "stream",
     "text": [
      "[ -0.92490326   9.50300791   0.74546308  11.24411128]\n",
      "[ 0.00944183  0.05265621]\n",
      "[ -1.63474924  15.64453405   1.39352799  12.20774018]\n",
      "[ 0.00710002  0.03012872]\n",
      "[-0.45968616  5.06249856  0.38960185  8.36641406]\n",
      "[ 0.007721    0.12555349]\n"
     ]
    }
   ],
   "source": [
    "print(expars1)\n",
    "print(pars1)\n",
    "print(expars2)\n",
    "print(pars2)\n",
    "print(expars3)\n",
    "print(pars3)"
   ]
  },
  {
   "cell_type": "code",
   "execution_count": 55,
   "metadata": {
    "collapsed": true
   },
   "outputs": [],
   "source": [
    "pars={'expars1':expars12,'expars2':expars22,'expars3':expars32, 'linpars1':pars12,\n",
    "     'linpars2':pars22,'linpars3':pars32}\n",
    "\n",
    "fpath='D:/software_git_repos/greenpol/telescope_control/configurations'\n",
    "#fpath='D:/software_git_repos/greenpol/telescope_control/configurations'\n",
    "os.chdir(fpath)\n",
    "\n",
    "folder='calibrations'\n",
    "\n",
    "#get label for save file\n",
    "fname='fit_params_decreasing'\n",
    "\n",
    "os.chdir(fpath+'/'+folder)\n",
    "\n",
    "if os.path.isfile(fname+'.txt')==True:\n",
    "    print \"LABEL EXISTS. Please change your label!\"\n",
    "\n",
    "else:\n",
    "    with open(fname+'.txt', 'w') as handle:\n",
    "        pickle.dump(pars,handle)\n",
    "os.chdir('D:/software_git_repos/greenpol/telescope_control/data_aquisition')"
   ]
  },
  {
   "cell_type": "code",
   "execution_count": 28,
   "metadata": {},
   "outputs": [
    {
     "name": "stdout",
     "output_type": "stream",
     "text": [
      "[ -0.50001041   5.15714164   0.41825985  16.52559029]\n",
      "[ 0.00915773  0.09925225]\n",
      "[ -0.10473639   5.96772233   0.26495333  28.78710669]\n",
      "[-0.00763016  0.13233211]\n"
     ]
    }
   ],
   "source": [
    "print(expars31)\n",
    "print(pars31)\n",
    "\n",
    "print(expars32)\n",
    "print(pars32)"
   ]
  },
  {
   "cell_type": "code",
   "execution_count": 29,
   "metadata": {
    "collapsed": true
   },
   "outputs": [],
   "source": [
    "dsmod1=(rs1-pars1[0])/pars1[1]\n",
    "dsmod2=(rs2-pars2[0])/pars2[1]\n",
    "dsmod3=(rs3-pars3[0])/pars3[1]"
   ]
  },
  {
   "cell_type": "code",
   "execution_count": 30,
   "metadata": {
    "collapsed": true
   },
   "outputs": [],
   "source": [
    "dsmod31=(rs31-pars31[0])/pars31[1]\n",
    "dsmod32=(rs32-pars32[0])/pars32[1]\n",
    "\n",
    "dsmod21=(rs21-pars21[0])/pars21[1]\n",
    "dsmod22=(rs22-pars22[0])/pars22[1]\n",
    "\n",
    "dsmod11=(rs11-pars11[0])/pars11[1]\n",
    "dsmod12=(rs12-pars12[0])/pars12[1]"
   ]
  },
  {
   "cell_type": "code",
   "execution_count": 31,
   "metadata": {
    "collapsed": true
   },
   "outputs": [],
   "source": [
    "#Vlin1=linearize_Vexp(ds1,lkp1)\n",
    "#Vlin2=linearize_Vexp(ds2,lkp2)\n",
    "#Vlin3=linearize_Vexp(ds3,lkp3)\n",
    "Vlin1=rt.linearize_Vexp(ds1,1, params=2)\n",
    "Vlin2=rt.linearize_Vexp(ds2,2, params=2)\n",
    "Vlin3=rt.linearize_Vexp(ds3,3, params=2)"
   ]
  },
  {
   "cell_type": "code",
   "execution_count": 42,
   "metadata": {},
   "outputs": [
    {
     "name": "stdout",
     "output_type": "stream",
     "text": [
      "-0.747820401174\n"
     ]
    }
   ],
   "source": [
    "print rt.linearize_Vexp(-0.7, 1, '_decreasing')"
   ]
  },
  {
   "cell_type": "code",
   "execution_count": 33,
   "metadata": {
    "collapsed": true
   },
   "outputs": [],
   "source": [
    "Vlin31=rt.linearize_Vexp(ds31,3, params='_increasing')\n",
    "Vlin32=rt.linearize_Vexp(ds32,3, params='_decreasing')\n",
    "\n",
    "Vlin21=rt.linearize_Vexp(ds21,2, params='_increasing')\n",
    "Vlin22=rt.linearize_Vexp(ds22,2, params='_decreasing')\n",
    "\n",
    "Vlin11=rt.linearize_Vexp(ds11,1, params='_increasing')\n",
    "Vlin12=rt.linearize_Vexp(ds12,1, params='_decreasing')"
   ]
  },
  {
   "cell_type": "code",
   "execution_count": 34,
   "metadata": {},
   "outputs": [
    {
     "name": "stdout",
     "output_type": "stream",
     "text": [
      "-1.98323185837\n",
      "-2.34069096335\n",
      "-2.34211726217\n",
      " \n",
      "-2.39884925609\n",
      "-2.36772963332\n",
      "-2.34851639966\n",
      " \n",
      "-3.33930941567\n",
      "-2.54487514619\n",
      "-2.77211802125\n"
     ]
    }
   ],
   "source": [
    "V1exp = -1.8\n",
    "print rt.linearize_Vexp(V1exp,1, params='_increasing')\n",
    "print rt.linearize_Vexp(V1exp,1, params='_decreasing')\n",
    "print rt.linearize_Vexp(V1exp,1, params=2)\n",
    "\n",
    "print ' '\n",
    "V2exp = -1.99\n",
    "print rt.linearize_Vexp(V2exp,2, params='_increasing')\n",
    "print rt.linearize_Vexp(V2exp,2, params='_decreasing')\n",
    "print rt.linearize_Vexp(V2exp,2, params=2)\n",
    "\n",
    "print ' '\n",
    "V3exp = -2.16\n",
    "print rt.linearize_Vexp(V3exp,3, params='_increasing')\n",
    "print rt.linearize_Vexp(V3exp,3, params='_decreasing')\n",
    "print rt.linearize_Vexp(V3exp,3, params=2)"
   ]
  },
  {
   "cell_type": "code",
   "execution_count": 46,
   "metadata": {},
   "outputs": [
    {
     "data": {
      "text/plain": [
       "<matplotlib.legend.Legend at 0x7ae3cd30>"
      ]
     },
     "execution_count": 46,
     "metadata": {},
     "output_type": "execute_result"
    }
   ],
   "source": [
    "'''\n",
    "figure()\n",
    "title('Horn 3 Hi')\n",
    "\n",
    "plot(rs3,ds3,label='data')\n",
    "plot(rs31,ds31,label='increasing')\n",
    "plot(rs32,ds32,label='decreasing')\n",
    "\n",
    "expmod31=compfunc(rs31,expars31)\n",
    "expmod32=compfunc(rs32,expars32)\n",
    "\n",
    "plot(rs31,expmod31,label='exponential Fit (increasing)')\n",
    "plot(rs32,expmod32,label='exponential Fit (decreasing)')\n",
    "plot(rs3,expmod3,label='exponential Fit')\n",
    "\n",
    "\n",
    "#plot(rsf31,dsf31,label='data for linear fit 1')\n",
    "#plot(rsf32,dsf32,label='data for linear fit 2')\n",
    "\n",
    "plot(rs31,Vlin31,label='linearized data (increasing)')\n",
    "plot(rs32,Vlin32,label='linearized data (decreasing)')\n",
    "plot(rs3,Vlin3,label='linearized data total')\n",
    "\n",
    "plot(rs31,dsmod31,label='Linear Fit (increasing)')\n",
    "plot(rs32,dsmod32,label='Linear Fit (decreasing)')\n",
    "plot(rs3,dsmod3,label='Linear Fit total')\n",
    "\n",
    "ylabel('Detector voltage (x100)')\n",
    "xlabel('Ref voltage (H1LoDC)')\n",
    "legend()\n",
    "\n",
    "figure()\n",
    "title('Horn 2 Hi')\n",
    "\n",
    "plot(rs2,ds2,label='data')\n",
    "plot(rs21,ds21,label='increasing')\n",
    "plot(rs22,ds22,label='decreasing')\n",
    "\n",
    "expmod21=compfunc(rs21,expars21)\n",
    "expmod22=compfunc(rs22,expars22)\n",
    "\n",
    "plot(rs21,expmod21,label='exponential Fit (increasing)')\n",
    "plot(rs22,expmod22,label='exponential Fit (decreasing)')\n",
    "plot(rs2,expmod2,label='exponential Fit')\n",
    "\n",
    "\n",
    "#plot(rsf21,dsf21,label='data for linear fit increasing')\n",
    "#plot(rsf22,dsf22,label='data for linear fit decreasing')\n",
    "\n",
    "plot(rs21,Vlin21,label='linearized data (increasing)')\n",
    "plot(rs22,Vlin22,label='linearized data (decreasing)')\n",
    "plot(rs2,Vlin2,label='linearized data total')\n",
    "\n",
    "plot(rs21,dsmod21,label='Linear Fit (increasing)')\n",
    "plot(rs22,dsmod22,label='Linear Fit (decreasing)')\n",
    "plot(rs2,dsmod2,label='Linear Fit total')\n",
    "\n",
    "ylabel('Detector voltage (x100)')\n",
    "xlabel('Ref voltage (H1LoDC)')\n",
    "legend()\n",
    "'''\n",
    "figure()\n",
    "title('Horn 1 Hi')\n",
    "\n",
    "#plot(rs1,ds1,label='data')\n",
    "#plot(rs11,ds11,label='data increasing')\n",
    "plot(rs12,ds12,label='data decreasing')\n",
    "\n",
    "#expmod11=compfunc(rs11,expars11)\n",
    "expmod12=compfunc(rs12,expars12)\n",
    "\n",
    "#plot(rs11,expmod11,label='exponential Fit (increasing)')\n",
    "plot(rs12,expmod12,label='exponential Fit (decreasing)')\n",
    "#plot(rs1,expmod1,label='exponential Fit')\n",
    "\n",
    "\n",
    "#plot(rsf11,dsf11,label='data for linear fit increasing')\n",
    "#plot(rsf12,dsf12,label='data for linear fit decreasing')\n",
    "\n",
    "#plot(rs11,Vlin11,label='linearized data (increasing)')\n",
    "plot(rs12,Vlin12,label='linearized data (decreasing)')\n",
    "#plot(rs1,Vlin1,label='linearized data total')\n",
    "\n",
    "#plot(rs11,dsmod11,label='Linear Fit (increasing)')\n",
    "plot(rs12,dsmod12,label='Linear Fit (decreasing)')\n",
    "#plot(rs1,dsmod1,label='Linear Fit total')\n",
    "\n",
    "ylabel('Detector voltage (x100)')\n",
    "xlabel('Ref voltage (H1LoDC)')\n",
    "legend()"
   ]
  },
  {
   "cell_type": "code",
   "execution_count": 36,
   "metadata": {},
   "outputs": [
    {
     "data": {
      "text/plain": [
       "<matplotlib.legend.Legend at 0x7ad785f8>"
      ]
     },
     "execution_count": 36,
     "metadata": {},
     "output_type": "execute_result"
    }
   ],
   "source": [
    "\n",
    "figure()\n",
    "title('Horn 1 Hi')\n",
    "plot(rs1,ds1,label='data')\n",
    "expmod1=compfunc(rs1,expars1)\n",
    "plot(rsf1,dsf1,label='data for linear fit')\n",
    "plot(rs1,Vlin1,label='linearized data')\n",
    "plot(rs1,expmod1,label='exponential Fit')\n",
    "plot(rs1,dsmod1,label='Linear Fit')\n",
    "\n",
    "ylabel('Detector voltage (x100)')\n",
    "xlabel('Ref voltage (H1LoDC)')\n",
    "legend()\n",
    "\n",
    "figure()\n",
    "title('Horn 2 Hi')\n",
    "plot(rs2,ds2,label='data')\n",
    "expmod2=compfunc(rs2,expars2)\n",
    "plot(rsf2,dsf2,label='data for linear fit')\n",
    "plot(rs2,Vlin2,label='linearized data')\n",
    "plot(rs2,expmod2,label='exponential Fit')\n",
    "plot(rs2,dsmod2,label='Linear Fit')\n",
    "ylabel('Detector voltage (x100)')\n",
    "xlabel('Ref voltage (H1LoDC)')\n",
    "legend()\n",
    "\n",
    "figure()\n",
    "title('Horn 3 Hi')\n",
    "plot(rs3,ds3,label='data')\n",
    "expmod3=compfunc(rs3,expars3)\n",
    "plot(rsf3,dsf3,label='data for linear fit')\n",
    "plot(rs3,Vlin3,label='linearized data')\n",
    "plot(rs3,expmod3,label='exponential Fit')\n",
    "plot(rs3,dsmod3,label='Linear Fit')\n",
    "ylabel('Detector voltage (x100)')\n",
    "xlabel('Ref voltage (H1LoDC)')\n",
    "legend()"
   ]
  },
  {
   "cell_type": "code",
   "execution_count": 37,
   "metadata": {},
   "outputs": [
    {
     "data": {
      "text/plain": [
       "[<matplotlib.lines.Line2D at 0xb484a438>]"
      ]
     },
     "execution_count": 37,
     "metadata": {},
     "output_type": "execute_result"
    }
   ],
   "source": [
    "figure()\n",
    "plot(lkp[0],lkp[1])"
   ]
  },
  {
   "cell_type": "code",
   "execution_count": 71,
   "metadata": {},
   "outputs": [
    {
     "data": {
      "text/plain": [
       "[<matplotlib.lines.Line2D at 0x152b52978>]"
      ]
     },
     "execution_count": 71,
     "metadata": {},
     "output_type": "execute_result"
    }
   ],
   "source": [
    "figure()\n",
    "plot(dsf1)"
   ]
  },
  {
   "cell_type": "code",
   "execution_count": 17,
   "metadata": {
    "scrolled": true
   },
   "outputs": [
    {
     "name": "stderr",
     "output_type": "stream",
     "text": [
      "WARNING:root:Removing invalid revolutions (index from beginning of file): [  0 999]\n"
     ]
    },
    {
     "name": "stdout",
     "output_type": "stream",
     "text": [
      "1001\n",
      "16\n"
     ]
    },
    {
     "name": "stderr",
     "output_type": "stream",
     "text": [
      "WARNING:root:Removing invalid revolutions (index from beginning of file): [998]\n"
     ]
    },
    {
     "name": "stdout",
     "output_type": "stream",
     "text": [
      "1000\n",
      "16\n"
     ]
    },
    {
     "name": "stderr",
     "output_type": "stream",
     "text": [
      "WARNING:root:Removing invalid revolutions (index from beginning of file): [998]\n"
     ]
    },
    {
     "name": "stdout",
     "output_type": "stream",
     "text": [
      "1000\n",
      "16\n"
     ]
    },
    {
     "name": "stderr",
     "output_type": "stream",
     "text": [
      "WARNING:root:Removing invalid revolutions (index from beginning of file): [998]\n"
     ]
    },
    {
     "name": "stdout",
     "output_type": "stream",
     "text": [
      "1000\n",
      "16\n"
     ]
    },
    {
     "name": "stderr",
     "output_type": "stream",
     "text": [
      "WARNING:root:Removing invalid revolutions (index from beginning of file): [998]\n"
     ]
    },
    {
     "name": "stdout",
     "output_type": "stream",
     "text": [
      "1000\n",
      "16\n"
     ]
    },
    {
     "name": "stderr",
     "output_type": "stream",
     "text": [
      "WARNING:root:Removing invalid revolutions (index from beginning of file): [998]\n"
     ]
    },
    {
     "name": "stdout",
     "output_type": "stream",
     "text": [
      "1000\n",
      "16\n"
     ]
    },
    {
     "name": "stderr",
     "output_type": "stream",
     "text": [
      "WARNING:root:Removing invalid revolutions (index from beginning of file): [998]\n"
     ]
    },
    {
     "name": "stdout",
     "output_type": "stream",
     "text": [
      "1000\n",
      "16\n"
     ]
    }
   ],
   "source": [
    "plot_some_chans2(datatype='raw',minfreq=.1)"
   ]
  },
  {
   "cell_type": "code",
   "execution_count": 77,
   "metadata": {},
   "outputs": [
    {
     "data": {
      "text/plain": [
       "[<matplotlib.lines.Line2D at 0x40a6a898>]"
      ]
     },
     "execution_count": 77,
     "metadata": {},
     "output_type": "execute_result"
    }
   ],
   "source": [
    "figure()\n",
    "plot(r,d,'.')"
   ]
  },
  {
   "cell_type": "code",
   "execution_count": 63,
   "metadata": {},
   "outputs": [
    {
     "data": {
      "text/plain": [
       "[<matplotlib.lines.Line2D at 0x148649e8>]"
      ]
     },
     "execution_count": 63,
     "metadata": {},
     "output_type": "execute_result"
    }
   ],
   "source": [
    "figure()\n",
    "plot(adict['nl_2a_src_3_21']['ch3'].flatten(),adict['nl_2a_src_3_21']['ch1'].flatten())"
   ]
  },
  {
   "cell_type": "code",
   "execution_count": 69,
   "metadata": {
    "scrolled": true
   },
   "outputs": [
    {
     "name": "stdout",
     "output_type": "stream",
     "text": [
      "('nl_2b_src_3_21', 31.25)\n",
      "('H1HiDC', 'T')\n",
      "('H1LoDC', 'T')\n",
      "('H2LoDC', 'T')\n"
     ]
    },
    {
     "name": "stderr",
     "output_type": "stream",
     "text": [
      "C:\\Users\\labuser\\Anaconda\\envs\\py27\\lib\\site-packages\\ipykernel\\__main__.py:21: VisibleDeprecationWarning: using a non-integer number instead of an integer will result in an error in the future\n"
     ]
    }
   ],
   "source": [
    "plot_toi_dict(rdict,chanlist=['H1HiDC','H1LoDC','H2LoDC'],componentlist=['T'],datalist=['nl_2b_src_3_21'])"
   ]
  }
 ],
 "metadata": {
  "kernelspec": {
   "display_name": "Python 3",
   "language": "python",
   "name": "python3"
  },
  "language_info": {
   "codemirror_mode": {
    "name": "ipython",
    "version": 3
   },
   "file_extension": ".py",
   "mimetype": "text/x-python",
   "name": "python",
   "nbconvert_exporter": "python",
   "pygments_lexer": "ipython3",
   "version": "3.7.0"
  }
 },
 "nbformat": 4,
 "nbformat_minor": 2
}
