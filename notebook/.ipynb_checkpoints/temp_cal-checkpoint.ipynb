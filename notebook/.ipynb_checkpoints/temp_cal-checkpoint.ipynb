{
 "cells": [
  {
   "cell_type": "code",
   "execution_count": 2,
   "metadata": {},
   "outputs": [
    {
     "ename": "SyntaxError",
     "evalue": "(unicode error) 'unicodeescape' codec can't decode bytes in position 64-65: truncated \\uXXXX escape (<ipython-input-2-52e5ed06ed73>, line 7)",
     "output_type": "error",
     "traceback": [
      "\u001b[1;36m  File \u001b[1;32m\"<ipython-input-2-52e5ed06ed73>\"\u001b[1;36m, line \u001b[1;32m7\u001b[0m\n\u001b[1;33m    sys.path.append('G:\\software_git_repos\\greenpol\\cofe-python-analysis-tools-master\\utils_meinhold')\u001b[0m\n\u001b[1;37m                   ^\u001b[0m\n\u001b[1;31mSyntaxError\u001b[0m\u001b[1;31m:\u001b[0m (unicode error) 'unicodeescape' codec can't decode bytes in position 64-65: truncated \\uXXXX escape\n"
     ]
    }
   ],
   "source": [
    "\"\"\"\n",
    "set of scripts to run while taking data for first look analysis\n",
    "(run from main ground_cofe directory so paths work out right\"\"\"\n",
    "import sys\n",
    "sys.path.append('../')\n",
    "sys.path.append('G:\\software_git_repos\\greenpol\\telescope_control')\n",
    "sys.path.append('G:\\software_git_repos\\greenpol\\cofe-python-analysis-tools-master\\utils_meinhold')\n",
    "sys.path.append('G:\\software_git_repos\\greenpol\\cofe-python-analysis-tools-master\\utils_zonca')\n",
    "#sys.path.append('D:\\software_git_repos\\greenpol\\telescope_control\\VtoT')\n",
    "sys.path.append('../telescope_control/VtoT')\n",
    "from glob import glob\n",
    "import os\n",
    "import matplotlib.pyplot as plt\n",
    "import cofe_util as cu\n",
    "import demod\n",
    "import h5py\n",
    "import cPickle\n",
    "import numpy as np\n",
    "from numpy.lib import recfunctions as recf\n",
    "from plot_path import *\n",
    "from prm_util import nps\n",
    "import time\n",
    "import scipy.interpolate\n",
    "import numpy.ma as ma\n",
    "import convert\n",
    "import realtime_gp as rt\n",
    "%pylab"
   ]
  },
  {
   "cell_type": "code",
   "execution_count": 2,
   "metadata": {
    "collapsed": true
   },
   "outputs": [],
   "source": [
    "def get_raw_chan(rawdata,chan):\n",
    "    #function to extract data for channel chan from a previously read raw data set\n",
    "    chandata=[]\n",
    "    for rev in rawdata:\n",
    "        chandata.append(rev[2+chan])\n",
    "    chandata=np.array(np.concatenate(chandata))\n",
    "    return chandata\n",
    "        \n"
   ]
  },
  {
   "cell_type": "code",
   "execution_count": 3,
   "metadata": {
    "collapsed": true
   },
   "outputs": [],
   "source": [
    "def nametochan(name):\n",
    "    #function to convert channel numbers to channel names\n",
    "\n",
    "    #names of each channel\n",
    "    chans = {\n",
    "        'all': 'all',  'H1HiAC':'ch0',  'H1HiDC':'ch1',\n",
    "        'H1LoAC':'ch2' ,  'H1LoDC':'ch3', 'H2HiAC':'ch4' ,\n",
    "        'H2HiDC':'ch5' ,  'H2LoAC':'ch6',  'H2LoDC':'ch7',\n",
    "        'H3HiAC':'ch8', 'H3HiDC':'ch9',  'H3LoAC':'ch10',\n",
    "         'H3LoDC':'ch11', 'HornTop':'ch12', 'Amplifier': 'ch13',\n",
    "        'Cooler':'ch14', 'Transition':'ch15'}\n",
    "\n",
    "    chan = chans[name]\n",
    "\n",
    "    return chan"
   ]
  },
  {
   "cell_type": "code",
   "execution_count": 4,
   "metadata": {
    "collapsed": true
   },
   "outputs": [],
   "source": [
    "yrmoday='20180306'\n",
    "hour1 = '17'\n",
    "minute1 = '35'\n",
    "hour2 = '17'\n",
    "minute2 = '38'\n",
    "fpath='D:/software_git_repos/greenpol/telescope_control/data_aquisition/'\n",
    "channame = 'H3HiDC'\n",
    "chan=nametochan(channame)\n",
    "var='T'"
   ]
  },
  {
   "cell_type": "code",
   "execution_count": 5,
   "metadata": {
    "collapsed": true
   },
   "outputs": [],
   "source": [
    "fld_demod, fld =select_dat(fpath,yrmoday,hour1,minute1,hour2,minute2)"
   ]
  },
  {
   "cell_type": "code",
   "execution_count": 6,
   "metadata": {},
   "outputs": [],
   "source": [
    "dd=rt.get_all_demodulated_data(fld_demod, fld)"
   ]
  },
  {
   "cell_type": "code",
   "execution_count": 7,
   "metadata": {},
   "outputs": [],
   "source": [
    "fld = []\n",
    "for f in fld_demod:\n",
    "    fld.append(f[:66] + 'data/' + f[77:-3]+'.dat')"
   ]
  },
  {
   "cell_type": "code",
   "execution_count": 8,
   "metadata": {},
   "outputs": [
    {
     "name": "stderr",
     "output_type": "stream",
     "text": [
      "D:\\software_git_repos\\cofe-python-analysis-tools\\utils_zonca\\demod\\datparsing.py:39: VisibleDeprecationWarning: boolean index did not match indexed array along dimension 0; dimension is 255744 but corresponding boolean dimension is 255743\n",
      "  good[duplicates] = False\n"
     ]
    },
    {
     "name": "stdout",
     "output_type": "stream",
     "text": [
      "1000\n",
      "16\n",
      "1000\n",
      "16\n",
      "1000\n",
      "16\n",
      "1000\n",
      "16\n",
      "1000\n",
      "16\n",
      "1000\n",
      "16\n",
      "1000\n",
      "16\n"
     ]
    }
   ],
   "source": [
    "draw=demod.read_raw(fld)\n",
    "#ddemod = "
   ]
  },
  {
   "cell_type": "code",
   "execution_count": 85,
   "metadata": {},
   "outputs": [],
   "source": [
    "ddraw = get_raw_chan(draw,int(chan[2:]))"
   ]
  },
  {
   "cell_type": "code",
   "execution_count": 86,
   "metadata": {},
   "outputs": [],
   "source": [
    "plt.plot(np.arange(len(ddraw)), ddraw)\n",
    "plt.show()"
   ]
  },
  {
   "cell_type": "code",
   "execution_count": 58,
   "metadata": {
    "collapsed": true
   },
   "outputs": [],
   "source": [
    "ddraw = get_raw_chan(draw,int(chan[2:])-1)"
   ]
  },
  {
   "cell_type": "code",
   "execution_count": 59,
   "metadata": {},
   "outputs": [],
   "source": [
    "plt.plot(np.arange(len(dd['ch8'][var])), dd['ch8'][var])\n",
    "plt.show()"
   ]
  },
  {
   "cell_type": "code",
   "execution_count": 13,
   "metadata": {
    "collapsed": true
   },
   "outputs": [],
   "source": [
    "channame = 'H3HiDC'\n",
    "chan=nametochan(channame)\n",
    "var='T'"
   ]
  },
  {
   "cell_type": "code",
   "execution_count": 14,
   "metadata": {
    "collapsed": true
   },
   "outputs": [],
   "source": [
    "#warm load\n",
    "yrmoday='20180306'\n",
    "hour1 = '17'\n",
    "minute1 = '37'\n",
    "hour2 = '17'\n",
    "minute2 = '38'\n",
    "fpath='D:/software_git_repos/greenpol/telescope_control/data_aquisition/'"
   ]
  },
  {
   "cell_type": "code",
   "execution_count": 15,
   "metadata": {
    "collapsed": true
   },
   "outputs": [],
   "source": [
    "fld_demodh, fldh =select_dat(fpath,yrmoday,hour1,minute1,hour2,minute2)"
   ]
  },
  {
   "cell_type": "code",
   "execution_count": 16,
   "metadata": {},
   "outputs": [],
   "source": [
    "ddh=rt.get_all_demodulated_data(fld_demodh, fldh)['ch%d' % (int(chan[2:])-1)][var]"
   ]
  },
  {
   "cell_type": "code",
   "execution_count": 17,
   "metadata": {
    "collapsed": true
   },
   "outputs": [],
   "source": [
    "fldh = []\n",
    "for f in fld_demodh:\n",
    "    fldh.append(f[:66] + 'data/' + f[77:-3]+'.dat')"
   ]
  },
  {
   "cell_type": "code",
   "execution_count": 18,
   "metadata": {},
   "outputs": [
    {
     "name": "stdout",
     "output_type": "stream",
     "text": [
      "1000\n",
      "16\n",
      "1000\n",
      "16\n",
      "1000\n",
      "16\n"
     ]
    }
   ],
   "source": [
    "drawh=demod.read_raw(fldh)"
   ]
  },
  {
   "cell_type": "code",
   "execution_count": 19,
   "metadata": {
    "collapsed": true
   },
   "outputs": [],
   "source": [
    "ddrawh = get_raw_chan(drawh,int(chan[2:])-1)"
   ]
  },
  {
   "cell_type": "code",
   "execution_count": 20,
   "metadata": {
    "collapsed": true
   },
   "outputs": [],
   "source": [
    "#cold load\n",
    "yrmoday='20180306'\n",
    "hour1 = '17'\n",
    "minute1 = '34'\n",
    "hour2 = '17'\n",
    "minute2 = '35'\n",
    "fpath='D:/software_git_repos/greenpol/telescope_control/data_aquisition/'"
   ]
  },
  {
   "cell_type": "code",
   "execution_count": 21,
   "metadata": {},
   "outputs": [],
   "source": [
    "fld_demodc, fldc =select_dat(fpath,yrmoday,hour1,minute1,hour2,minute2)\n",
    "fld_demodc = fld_demodc[1:]"
   ]
  },
  {
   "cell_type": "code",
   "execution_count": 22,
   "metadata": {
    "collapsed": true
   },
   "outputs": [],
   "source": [
    "ddc=rt.get_all_demodulated_data(fld_demodc, fldc)['ch%d' % (int(chan[2:])-1)][var]"
   ]
  },
  {
   "cell_type": "code",
   "execution_count": 23,
   "metadata": {
    "collapsed": true
   },
   "outputs": [],
   "source": [
    "fldc = []\n",
    "for f in fld_demodc:\n",
    "    fldc.append(f[:66] + 'data/' + f[77:-3]+'.dat')"
   ]
  },
  {
   "cell_type": "code",
   "execution_count": 24,
   "metadata": {},
   "outputs": [
    {
     "name": "stdout",
     "output_type": "stream",
     "text": [
      "1000\n",
      "16\n",
      "1000\n",
      "16\n",
      "1000\n",
      "16\n"
     ]
    }
   ],
   "source": [
    "drawc=demod.read_raw(fldc)"
   ]
  },
  {
   "cell_type": "code",
   "execution_count": 25,
   "metadata": {
    "collapsed": true
   },
   "outputs": [],
   "source": [
    "ddrawc = get_raw_chan(drawc,int(chan[2:])-1)"
   ]
  },
  {
   "cell_type": "code",
   "execution_count": 84,
   "metadata": {},
   "outputs": [],
   "source": [
    "zc=cu.nps(ddrawc,30*256,0.1)\n",
    "zh=cu.nps(ddrawh,30*256,0.1)\n",
    "\n",
    "#zc=cu.nps(ddc,30,0.1)\n",
    "#zh=cu.nps(ddh,30,0.1)\n",
    "\n",
    "plt.plot(zc[0],np.sqrt(zc[1]), 'b-',label='%s, cold target' % channame)\n",
    "#plt.plot(zh[0],np.sqrt(zh[1]), 'r-',label='%s, hot target' % channame)\n",
    "plt.legend()\n",
    "#plt.yscale('log')\n",
    "#plt.xscale('log')\n",
    "plt.show()"
   ]
  },
  {
   "cell_type": "code",
   "execution_count": 40,
   "metadata": {
    "collapsed": true
   },
   "outputs": [],
   "source": [
    "cu.nps??"
   ]
  },
  {
   "cell_type": "code",
   "execution_count": null,
   "metadata": {
    "collapsed": true
   },
   "outputs": [],
   "source": []
  }
 ],
 "metadata": {
  "kernelspec": {
   "display_name": "Python 3",
   "language": "python",
   "name": "python3"
  },
  "language_info": {
   "codemirror_mode": {
    "name": "ipython",
    "version": 3
   },
   "file_extension": ".py",
   "mimetype": "text/x-python",
   "name": "python",
   "nbconvert_exporter": "python",
   "pygments_lexer": "ipython3",
   "version": "3.7.0"
  }
 },
 "nbformat": 4,
 "nbformat_minor": 2
}
