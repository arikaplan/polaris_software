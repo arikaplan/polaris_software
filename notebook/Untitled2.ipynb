{
 "cells": [
  {
   "cell_type": "code",
   "execution_count": 1,
   "metadata": {
    "collapsed": true
   },
   "outputs": [],
   "source": [
    "import numpy as np\n",
    "import glob\n",
    "import os\n",
    "import sys\n",
    "sys.path.append('../')\n",
    "from plot_path import *\n",
    "import os"
   ]
  },
  {
   "cell_type": "code",
   "execution_count": 2,
   "metadata": {
    "collapsed": false
   },
   "outputs": [],
   "source": [
    "os.chdir('../')"
   ]
  },
  {
   "cell_type": "code",
   "execution_count": 18,
   "metadata": {
    "collapsed": true
   },
   "outputs": [],
   "source": [
    "##select a staring-time and an ending-time, it returns dat files in between\n",
    "def select_dat(fpath,yrmoday,st_hour,st_minute,ed_hour,ed_minute, demod=True):\n",
    "\n",
    "    #searching all dat/h5 files under selected path\n",
    "    all_fname_demod = glob.glob(fpath+'demod_data/'+yrmoday+'/*.h5')\n",
    "    all_fname = glob.glob(fpath+'/data/'+yrmoday+'/*.dat')\n",
    "    print all_fname_demod\n",
    "\n",
    "    ftime=time_conv(st_hour,st_minute,ed_hour,ed_minute)  \n",
    "      \n",
    "    star=ftime[0]+ftime[1]\n",
    "    end=ftime[2]+ftime[3]\n",
    "\n",
    "    #search files between selected starting-time and ending-time\n",
    "    sub_fname=[ i for i in all_fname\n",
    "                if i[-12:][:4]>=star and i[-12:][:4]<=end]\n",
    "\n",
    "    if demod == False:\n",
    "        return sub_fname\n",
    "    \n",
    "    sub_fname_demod = []\n",
    "    sub_fname_mod = []\n",
    "    for f in range(len(sub_fname)):\n",
    "        if f > 1:\n",
    "            break\n",
    "\n",
    "        #only include complete files\n",
    "        if os.stat(sub_fname[f]).st_size == 10752000:\n",
    "            print sub_fname\n",
    "            #find the demodulated file from the time stampt corresponding to dat file\n",
    "            fname = sub_fname[f][:16] + 'demod_data' + sub_fname[f][21:-4]+'.h5'\n",
    "            print '-------------'\n",
    "            print fname\n",
    "            #if demodulate file exists, add it\n",
    "            if fname in all_fname_demod:\n",
    "                sub_fname_demod.append(fname)\n",
    "            #if demodulated file doesnt exist add undemodulated file\n",
    "            else:\n",
    "                sub_fname_mod.append(sub_fname[f])\n",
    "\n",
    "    \n",
    "    return sub_fname_demod, sub_fname_mod\n",
    "    "
   ]
  },
  {
   "cell_type": "code",
   "execution_count": 19,
   "metadata": {
    "collapsed": false
   },
   "outputs": [
    {
     "name": "stdout",
     "output_type": "stream",
     "text": [
      "['../polaris_data/demod_data/20190520\\\\19384400.h5', '../polaris_data/demod_data/20190520\\\\19391900.h5', '../polaris_data/demod_data/20190520\\\\19395500.h5', '../polaris_data/demod_data/20190520\\\\19403100.h5', '../polaris_data/demod_data/20190520\\\\19410700.h5', '../polaris_data/demod_data/20190520\\\\19414300.h5', '../polaris_data/demod_data/20190520\\\\21504900.h5', '../polaris_data/demod_data/20190520\\\\21512300.h5', '../polaris_data/demod_data/20190520\\\\21515800.h5', '../polaris_data/demod_data/20190520\\\\21523200.h5', '../polaris_data/demod_data/20190520\\\\21530500.h5', '../polaris_data/demod_data/20190520\\\\21542600.h5', '../polaris_data/demod_data/20190520\\\\21545900.h5', '../polaris_data/demod_data/20190520\\\\21553300.h5', '../polaris_data/demod_data/20190520\\\\21560700.h5', '../polaris_data/demod_data/20190520\\\\21564000.h5', '../polaris_data/demod_data/20190520\\\\21571400.h5', '../polaris_data/demod_data/20190520\\\\22084800.h5', '../polaris_data/demod_data/20190520\\\\22144900.h5', '../polaris_data/demod_data/20190520\\\\22165400.h5', '../polaris_data/demod_data/20190520\\\\22194400.h5', '../polaris_data/demod_data/20190520\\\\22201700.h5', '../polaris_data/demod_data/20190520\\\\22205000.h5', '../polaris_data/demod_data/20190520\\\\22212300.h5', '../polaris_data/demod_data/20190520\\\\22215700.h5', '../polaris_data/demod_data/20190520\\\\22223000.h5', '../polaris_data/demod_data/20190520\\\\22230300.h5', '../polaris_data/demod_data/20190520\\\\22233700.h5', '../polaris_data/demod_data/20190520\\\\22241000.h5', '../polaris_data/demod_data/20190520\\\\22244400.h5', '../polaris_data/demod_data/20190520\\\\22251700.h5', '../polaris_data/demod_data/20190520\\\\22255100.h5', '../polaris_data/demod_data/20190520\\\\22262500.h5', '../polaris_data/demod_data/20190520\\\\22265800.h5', '../polaris_data/demod_data/20190520\\\\22273200.h5', '../polaris_data/demod_data/20190520\\\\22280600.h5', '../polaris_data/demod_data/20190520\\\\22284000.h5', '../polaris_data/demod_data/20190520\\\\22291300.h5', '../polaris_data/demod_data/20190520\\\\22294700.h5', '../polaris_data/demod_data/20190520\\\\22302000.h5', '../polaris_data/demod_data/20190520\\\\22305400.h5', '../polaris_data/demod_data/20190520\\\\22312800.h5', '../polaris_data/demod_data/20190520\\\\22320100.h5', '../polaris_data/demod_data/20190520\\\\22323500.h5', '../polaris_data/demod_data/20190520\\\\22330800.h5', '../polaris_data/demod_data/20190520\\\\22334200.h5']\n",
      "['../polaris_data//data/20190520\\\\19380800.dat', '../polaris_data//data/20190520\\\\19384400.dat', '../polaris_data//data/20190520\\\\19391900.dat', '../polaris_data//data/20190520\\\\19395500.dat', '../polaris_data//data/20190520\\\\19403100.dat', '../polaris_data//data/20190520\\\\19410700.dat', '../polaris_data//data/20190520\\\\19414300.dat', '../polaris_data//data/20190520\\\\21501400.dat', '../polaris_data//data/20190520\\\\21504900.dat', '../polaris_data//data/20190520\\\\21512300.dat', '../polaris_data//data/20190520\\\\21515800.dat', '../polaris_data//data/20190520\\\\21523200.dat', '../polaris_data//data/20190520\\\\21530500.dat', '../polaris_data//data/20190520\\\\21535300.dat', '../polaris_data//data/20190520\\\\21542600.dat', '../polaris_data//data/20190520\\\\21545900.dat', '../polaris_data//data/20190520\\\\21553300.dat', '../polaris_data//data/20190520\\\\21560700.dat', '../polaris_data//data/20190520\\\\21564000.dat', '../polaris_data//data/20190520\\\\21571400.dat', '../polaris_data//data/20190520\\\\22081400.dat', '../polaris_data//data/20190520\\\\22084800.dat', '../polaris_data//data/20190520\\\\22141500.dat', '../polaris_data//data/20190520\\\\22144900.dat', '../polaris_data//data/20190520\\\\22162000.dat', '../polaris_data//data/20190520\\\\22165400.dat', '../polaris_data//data/20190520\\\\22191000.dat', '../polaris_data//data/20190520\\\\22194400.dat', '../polaris_data//data/20190520\\\\22201700.dat', '../polaris_data//data/20190520\\\\22205000.dat', '../polaris_data//data/20190520\\\\22212300.dat', '../polaris_data//data/20190520\\\\22215700.dat', '../polaris_data//data/20190520\\\\22223000.dat', '../polaris_data//data/20190520\\\\22230300.dat', '../polaris_data//data/20190520\\\\22233700.dat', '../polaris_data//data/20190520\\\\22241000.dat', '../polaris_data//data/20190520\\\\22244400.dat', '../polaris_data//data/20190520\\\\22251700.dat', '../polaris_data//data/20190520\\\\22255100.dat', '../polaris_data//data/20190520\\\\22262500.dat', '../polaris_data//data/20190520\\\\22265800.dat', '../polaris_data//data/20190520\\\\22273200.dat', '../polaris_data//data/20190520\\\\22280600.dat', '../polaris_data//data/20190520\\\\22284000.dat', '../polaris_data//data/20190520\\\\22291300.dat', '../polaris_data//data/20190520\\\\22294700.dat', '../polaris_data//data/20190520\\\\22302000.dat', '../polaris_data//data/20190520\\\\22305400.dat', '../polaris_data//data/20190520\\\\22312800.dat', '../polaris_data//data/20190520\\\\22320100.dat', '../polaris_data//data/20190520\\\\22323500.dat', '../polaris_data//data/20190520\\\\22330800.dat', '../polaris_data//data/20190520\\\\22334200.dat']\n",
      "-------------\n",
      "../polaris_data/demod_data/20190520\\19384400.h5\n",
      "1\n"
     ]
    }
   ],
   "source": [
    "fpath='../polaris_data/'\n",
    "\n",
    "yrmoday='20190520'\n",
    "print len(select_dat(fpath,yrmoday,19,00,24,00)[0])"
   ]
  },
  {
   "cell_type": "code",
   "execution_count": null,
   "metadata": {
    "collapsed": true
   },
   "outputs": [],
   "source": []
  }
 ],
 "metadata": {
  "kernelspec": {
   "display_name": "Python 2",
   "language": "python",
   "name": "python2"
  },
  "language_info": {
   "codemirror_mode": {
    "name": "ipython",
    "version": 2
   },
   "file_extension": ".py",
   "mimetype": "text/x-python",
   "name": "python",
   "nbconvert_exporter": "python",
   "pygments_lexer": "ipython2",
   "version": "2.7.11"
  }
 },
 "nbformat": 4,
 "nbformat_minor": 0
}
