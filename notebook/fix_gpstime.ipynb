{
 "cells": [
  {
   "cell_type": "code",
   "execution_count": 1,
   "metadata": {
    "collapsed": false
   },
   "outputs": [
    {
     "name": "stdout",
     "output_type": "stream",
     "text": [
      "Using matplotlib backend: Qt4Agg\n",
      "Populating the interactive namespace from numpy and matplotlib\n"
     ]
    },
    {
     "name": "stderr",
     "output_type": "stream",
     "text": [
      "WARNING: pylab import has clobbered these variables: ['Widget', 'Text', 'Button']\n",
      "`%matplotlib` prevents importing * from pylab and numpy\n"
     ]
    }
   ],
   "source": [
    "import sys\n",
    "import os\n",
    "#sys.path.append('D:\\\\software_git_repos\\\\cofe-python-analysis-tools\\\\utils_meinhold')\n",
    "sys.path.append('../../cofe-python-analysis-tools/utils_meinhold')\n",
    "#sys.path.append('D:\\\\software_git_repos\\\\cofe-python-analysis-tools\\\\utils_zonca')\n",
    "sys.path.append('../../cofe-python-analysis-tools/utils_zonca')\n",
    "#sys.path.append('D:\\\\software_git_repos\\\\cofe-python-analysis-tools\\\\utils_zonca\\\\pointing')\n",
    "sys.path.append('../../cofe-python-analysis-tools/utils_zonca/pointing')\n",
    "#sys.path.append('D:\\\\software_git_repos\\\\greenpol')\n",
    "sys.path.append('../')\n",
    "#sys.path.append('D:\\\\software_git_repos\\\\greenpol\\\\telescope_control\\\\')\n",
    "sys.path.append('../telescope_control')\n",
    "#sys.path.append('D:\\\\software_git_repos\\\\greenpol\\\\telescope_control\\\\VtoT\\\\')\n",
    "sys.path.append('../telescope_control/VtoT')\n",
    "import realtime_gp as rt\n",
    "import numpy as np\n",
    "import datetime \n",
    "import h5py\n",
    "import pandas as pd\n",
    "from pointingtools import compute_parallactic_angle, altaz2ha \n",
    "from planets import getlocation, getpointing\n",
    "import warnings\n",
    "from astropy.coordinates import AltAz, Angle, EarthLocation, ICRS, SkyCoord, frame_transform_graph\n",
    "from astropy import units as u\n",
    "import ephem\n",
    "import matplotlib.pyplot as plt\n",
    "import time\n",
    "import planets\n",
    "import convert\n",
    "from datetime import timedelta\n",
    "from collections import defaultdict\n",
    "\n",
    "import Tkinter,tkFileDialog\n",
    "\n",
    "from Tkinter import *\n",
    "import ttk\n",
    "\n",
    "import pickle\n",
    "import glob\n",
    "\n",
    "import cPickle\n",
    "\n",
    "%pylab"
   ]
  },
  {
   "cell_type": "code",
   "execution_count": 2,
   "metadata": {
    "collapsed": true
   },
   "outputs": [],
   "source": [
    "def get_pointing_files(filelist=None):\n",
    "\n",
    "    if filelist==None:\n",
    "        root=Tkinter.Tk()\n",
    "        filelist = list(tkFileDialog.askopenfilenames(\\\n",
    "        initialdir='D://software_git_repos/greenpol/telescope_control/data_aquisition/pointing_data/',parent=root,title='Choose a set of files'))\n",
    "        root.destroy()\n",
    "    filelist.sort()\n",
    "    \n",
    "    return filelist"
   ]
  },
  {
   "cell_type": "code",
   "execution_count": 50,
   "metadata": {
    "collapsed": true
   },
   "outputs": [],
   "source": [
    "def get_gpstime(filelist,startrev=None, stoprev=None,angles_in_ints=False,azel_era=3):\n",
    "    \n",
    "    hpointing=[]\n",
    "    filelist.sort()\n",
    "    for f in filelist:\n",
    "        stats=os.stat(f)\n",
    "        if stats.st_size<22144:\n",
    "            print f,stats.st_size\n",
    "        if stats.st_size >= 22144:\n",
    "            h=h5py.File(f)\n",
    "            hh=h['data']\n",
    "            hpointing.append(hh[hh['gpstime']>=hh['gpstime'][0]])\n",
    "            #print hpointinng\n",
    "            h.close()\n",
    "\n",
    "    hpointing = np.concatenate(hpointing)\n",
    "    #cut out blank lines from unfilled files\n",
    "    if startrev != None:\n",
    "        hpointing=hpointing[hpointing['gpstime'] > startrev]\n",
    "    if stoprev != None:\n",
    "        hpointing=hpointing[hpointing['gpstime'] < stoprev]\n",
    "\n",
    "    #hrevlist,inds=np.unique(hpointing['gpstime'],return_index=True)\n",
    "    hrevlist = hpointing['gpstime']\n",
    "    comptimes = hpointing['computer time']\n",
    "    az = hpointing['az']\n",
    "    azoffset = hpointing['az offset']\n",
    "\n",
    "    #gpstime = correct_gpstime(hrevlist, comptimemeans)\n",
    "    #iscan = np.where(pp['gpstime'] >= 212700000)[0]\n",
    "    gpstime = hrevlist\n",
    "    #elmeans = elmeans[iscan]\n",
    "    #azmeans = azmeans[iscan]\n",
    "    #gpstime = gpstime[iscan]\n",
    "\n",
    "    return {'gpstime':gpstime, 'comptime': comptimes, 'az':az, 'az offset': azoffset}"
   ]
  },
  {
   "cell_type": "code",
   "execution_count": 4,
   "metadata": {
    "collapsed": false
   },
   "outputs": [
    {
     "name": "stdout",
     "output_type": "stream",
     "text": [
      "date 19th\n",
      "date 20th\n",
      "date 21th\n",
      "date 22th\n",
      "date 23th\n",
      "date 24th\n",
      "date 25th\n",
      "date 26th\n",
      "date 27th\n"
     ]
    }
   ],
   "source": [
    "files = defaultdict(dict)\n",
    "for d in range(19,28):\n",
    "    print 'date %dth' % d\n",
    "    files[d] = get_pointing_files()"
   ]
  },
  {
   "cell_type": "code",
   "execution_count": 51,
   "metadata": {
    "collapsed": false
   },
   "outputs": [
    {
     "name": "stdout",
     "output_type": "stream",
     "text": [
      "19\n",
      "20\n",
      "21\n",
      "22\n",
      "23\n",
      "24\n",
      "25\n",
      "26\n",
      "27\n"
     ]
    }
   ],
   "source": [
    "az = defaultdict(dict)\n",
    "azoffset = defaultdict(dict)\n",
    "\n",
    "for d in range(19,28):\n",
    "    print d\n",
    "    pp = get_gpstime(files[d][:2])\n",
    "    az[d] = pp['az'][0]\n",
    "    azoffset[d] = pp['az offset'][0]"
   ]
  },
  {
   "cell_type": "code",
   "execution_count": 55,
   "metadata": {
    "collapsed": false
   },
   "outputs": [
    {
     "name": "stdout",
     "output_type": "stream",
     "text": [
      "day: 19, az: 65.307180, offset: 49.179250, enocder value: 16.127930\n",
      "day: 20, az: 64.126149, offset: 49.179250, enocder value: 14.946899\n",
      "day: 21, az: 306.396657, offset: 49.179250, enocder value: 257.217407\n",
      "day: 22, az: 286.357544, offset: 53.969238, enocder value: 232.388306\n",
      "day: 23, az: 18.747616, offset: 178.587704, enocder value: 200.159912\n",
      "day: 24, az: 254.085205, offset: 53.969238, enocder value: 200.115967\n",
      "day: 25, az: 205.774297, offset: 242.188482, enocder value: 323.585815\n",
      "day: 26, az: 126.370611, offset: 242.188482, enocder value: 244.182129\n",
      "day: 27, az: 107.479619, offset: 242.188482, enocder value: 225.291138\n"
     ]
    }
   ],
   "source": [
    "for d in range(19,28):\n",
    "    print 'day: %d, az: %f, offset: %f, enocder value: %f' % (d, az[d], azoffset[d], (az[d] - azoffset[d])%360.)"
   ]
  },
  {
   "cell_type": "code",
   "execution_count": 56,
   "metadata": {
    "collapsed": false
   },
   "outputs": [
    {
     "name": "stdout",
     "output_type": "stream",
     "text": [
      "date 19th\n",
      "D:/software_git_repos/greenpol/telescope_control/data_aquisition/pointing_data/07-19-2018/21-15-00.h5 800\n",
      "date 20th\n",
      "date 21th\n",
      "date 22th\n",
      "date 23th\n",
      "date 24th\n",
      "date 25th\n",
      "date 26th\n",
      "date 27th\n"
     ]
    }
   ],
   "source": [
    "gpst = defaultdict(dict)\n",
    "cpt = defaultdict(dict)\n",
    "az = defaultdict(dict)\n",
    "gps = []\n",
    "comp = []\n",
    "azl = []\n",
    "\n",
    "for d in range(19,28):\n",
    "    print 'date %dth' % d\n",
    "    pp = get_gpstime(files[d])\n",
    "    gpst[d] = pp['gpstime']\n",
    "    gps.append(gpst[d])\n",
    "    cpt[d] = pp['comptime']\n",
    "    comp.append(cpt[d])\n",
    "    az[d] = pp['az'] - pp['az offset']\n",
    "    azl.append(az[d])"
   ]
  },
  {
   "cell_type": "code",
   "execution_count": 58,
   "metadata": {
    "collapsed": false
   },
   "outputs": [],
   "source": [
    "gpstime = np.concatenate(gps)\n",
    "comptime = np.concatenate(comp)\n",
    "aztot = np.concatenate(azl)"
   ]
  },
  {
   "cell_type": "code",
   "execution_count": 7,
   "metadata": {
    "collapsed": false
   },
   "outputs": [],
   "source": [
    "def sec_since_sunday(t):\n",
    "\n",
    "    utcday = t \n",
    "\n",
    "    #days since last sunday\n",
    "    idx = (utcday.weekday() + 1) % 7\n",
    "\n",
    "    #date of previous sunday in universal coord\n",
    "    sunday = utcday - datetime.timedelta(idx) \n",
    "\n",
    "    syear = int(str(sunday)[:4])\n",
    "    smonth = int(str(sunday)[5:7])\n",
    "    sday = int(str(sunday)[8:10])\n",
    "\n",
    "    sunday = datetime.datetime(syear, smonth, sday, 0, 0, 0)\n",
    "\n",
    "    #seconds since last sunday\n",
    "    sundaysec = (utcday - sunday).total_seconds()\n",
    "\n",
    "    return sundaysec"
   ]
  },
  {
   "cell_type": "code",
   "execution_count": 8,
   "metadata": {
    "collapsed": false
   },
   "outputs": [],
   "source": [
    "lt = defaultdict(dict)\n",
    "lintime = []\n",
    "stime = defaultdict(dict)\n",
    "etime = defaultdict(dict)\n",
    "for d in range(19,28):\n",
    "    starttime = datetime.datetime.fromtimestamp(cpt[d][0])\n",
    "    endtime = datetime.datetime.fromtimestamp(cpt[d][-1])\n",
    "    for i in range(len(cpt[d])):\n",
    "        if str(starttime)[8:10] != str(d) or str(endtime)[8:10] != str(d):\n",
    "            starttime = datetime.datetime.fromtimestamp(cpt[d][i])\n",
    "            endtime = datetime.datetime.fromtimestamp(cpt[d][-i-1])\n",
    "        else:\n",
    "            break\n",
    "    st = sec_since_sunday(starttime)*1000\n",
    "    et = sec_since_sunday(endtime)*1000\n",
    "    stime[d] = starttime\n",
    "    etime[d] = endtime\n",
    "    lt[d] = np.linspace(st,et,len(gpst[d]))\n",
    "    lintime.append(lt[d])\n",
    "lintime = np.concatenate(lintime)"
   ]
  },
  {
   "cell_type": "code",
   "execution_count": 60,
   "metadata": {
    "collapsed": false
   },
   "outputs": [],
   "source": [
    "for d in range(19,29):\n",
    "    figure()\n",
    "    \n",
    "    if d != 28:\n",
    "        plot(az[d] % 360, label='gpstime')\n",
    "        #plot(lt[d], label='linear time')\n",
    "        title('date: %s, ms %d' % (str(stime[d]), lt[d][0]))\n",
    "        legend()\n",
    "    else:\n",
    "        plot(aztot, label='gpstime')\n",
    "        #plot(lintime, label='linear time')\n",
    "        title('date: 07-19-2018 to 07-27-2018')\n",
    "        legend()\n",
    "        \n",
    "    xlabel('samples')\n",
    "    ylabel('gpstime (ms)')"
   ]
  },
  {
   "cell_type": "code",
   "execution_count": 66,
   "metadata": {
    "collapsed": false
   },
   "outputs": [
    {
     "name": "stdout",
     "output_type": "stream",
     "text": [
      "55980000.0\n"
     ]
    }
   ],
   "source": [
    "print (15 + (33./60.))*1000*3600"
   ]
  },
  {
   "cell_type": "code",
   "execution_count": 10,
   "metadata": {
    "collapsed": true
   },
   "outputs": [],
   "source": [
    "def fixjumps(times):\n",
    "    \n",
    "    tdiff = np.diff(times)\n",
    "    jumps = np.where(abs(tdiff) > 2**24/2)[0]\n",
    "    \n",
    "    for j in range(0, len(jumps[d])):\n",
    "        if (correcttime[jumps[j]] - correcttime[jumps[j]+1])<0:\n",
    "            if j == 0:\n",
    "                correcttime[:jumps[j]+1] = correcttime[:jumps[j]+1] + (correcttime[jumps[j]+1]-correcttime[jumps[j]])\n",
    "            else:\n",
    "                correcttime[jumps[j-1]+1:jumps[j]+1] = correcttime[jumps[j-1]+1:jumps[j]+1] + (correcttime[jumps[j]+1] - correcttime[jumps[j]])\n",
    "    \n",
    "    return correctime"
   ]
  },
  {
   "cell_type": "code",
   "execution_count": 11,
   "metadata": {
    "collapsed": true
   },
   "outputs": [],
   "source": [
    "jumps = defaultdict(dict)\n",
    "for d in range(19,28):\n",
    "    tdiff = np.diff(gpst[d])\n",
    "    ijump = np.where(abs(tdiff) > 2**24/2)[0]\n",
    "    jumps[d] = ijump"
   ]
  },
  {
   "cell_type": "code",
   "execution_count": 12,
   "metadata": {
    "collapsed": true
   },
   "outputs": [],
   "source": [
    "correcttime = defaultdict(dict)"
   ]
  },
  {
   "cell_type": "code",
   "execution_count": 13,
   "metadata": {
    "collapsed": false
   },
   "outputs": [
    {
     "name": "stdout",
     "output_type": "stream",
     "text": [
      "[  9180 181978]\n",
      "[201325807  48656915]\n"
     ]
    }
   ],
   "source": [
    "d = 25\n",
    "print jumps[d]\n",
    "print gpst[d][jumps[d]]"
   ]
  },
  {
   "cell_type": "code",
   "execution_count": 14,
   "metadata": {
    "collapsed": false
   },
   "outputs": [],
   "source": [
    "d = 25\n",
    "correcttime[d] = gpst[d].copy()\n",
    "correcttime[d][jumps[d][0]+1:jumps[d][-1]+1] = correcttime[d][jumps[d][0]+1:jumps[d][-1]+1] + (correcttime[d][jumps[d][-1]+1] - correcttime[d][jumps[d][-1]])"
   ]
  },
  {
   "cell_type": "code",
   "execution_count": 16,
   "metadata": {
    "collapsed": false
   },
   "outputs": [
    {
     "data": {
      "text/plain": [
       "[<matplotlib.lines.Line2D at 0xd4bfeb8>]"
      ]
     },
     "execution_count": 16,
     "metadata": {},
     "output_type": "execute_result"
    }
   ],
   "source": [
    "figure()\n",
    "plot(correcttime[d])\n",
    "plot(lt[d], 'g-')"
   ]
  },
  {
   "cell_type": "code",
   "execution_count": 15,
   "metadata": {
    "collapsed": false
   },
   "outputs": [
    {
     "name": "stdout",
     "output_type": "stream",
     "text": [
      "[28470]\n",
      "[201326477]\n"
     ]
    }
   ],
   "source": [
    "d = 24\n",
    "print jumps[d]\n",
    "print gpst[d][jumps[d]]"
   ]
  },
  {
   "cell_type": "code",
   "execution_count": 16,
   "metadata": {
    "collapsed": true
   },
   "outputs": [],
   "source": [
    "correcttime[d] = gpst[d].copy()\n",
    "correcttime[d][28471:] = correcttime[d][28471:] + (correcttime[d][28470] - correcttime[d][28471])"
   ]
  },
  {
   "cell_type": "code",
   "execution_count": 19,
   "metadata": {
    "collapsed": false
   },
   "outputs": [
    {
     "data": {
      "text/plain": [
       "[<matplotlib.lines.Line2D at 0x790280b8>]"
      ]
     },
     "execution_count": 19,
     "metadata": {},
     "output_type": "execute_result"
    }
   ],
   "source": [
    "figure()\n",
    "d=24\n",
    "plot(correcttime[d])\n",
    "plot(lt[d], 'g-')"
   ]
  },
  {
   "cell_type": "code",
   "execution_count": 17,
   "metadata": {
    "collapsed": false
   },
   "outputs": [],
   "source": [
    "correcttime[25][:9181] = correcttime[25][:9181] + (correcttime[24][-1] - correcttime[25][0])\n",
    "#gpstc[:9181] = gpstc[:9181] + (gpstc[9181]-gpstc[9180])"
   ]
  },
  {
   "cell_type": "code",
   "execution_count": 18,
   "metadata": {
    "collapsed": false
   },
   "outputs": [
    {
     "name": "stdout",
     "output_type": "stream",
     "text": [
      "[29787 29792 30534 31187 32058 32059 32061 32062 32101 32102 32127 32132\n",
      " 32135 32136 32137 32139 32140 34717 35190 35200 35201 35202 39170]\n",
      "[ 49040177 116154009  49786169 117549977  51333121 118442981  51336105\n",
      " 118445959  51375847 118485707  51401963 118515785  51409889 118519763\n",
      "  51411903 118522735  51414857 121109913  54530443 121649249  54541373\n",
      " 121651231  58504137]\n"
     ]
    }
   ],
   "source": [
    "d = 23\n",
    "print jumps[d]\n",
    "print gpst[d][jumps[d]]"
   ]
  },
  {
   "cell_type": "code",
   "execution_count": 19,
   "metadata": {
    "collapsed": true
   },
   "outputs": [],
   "source": [
    "d = 23\n",
    "correcttime[d] = gpst[d].copy()"
   ]
  },
  {
   "cell_type": "code",
   "execution_count": 20,
   "metadata": {
    "collapsed": true
   },
   "outputs": [],
   "source": [
    "for j in range(0, len(jumps[d])):\n",
    "    if (correcttime[d][jumps[d][j]] - correcttime[d][jumps[d][j]+1])<0:\n",
    "        if j == 0:\n",
    "            correcttime[d][:jumps[d][j]+1] = correcttime[d][:jumps[d][j]+1] + (correcttime[d][jumps[d][j]+1]-correcttime[d][jumps[d][j]])\n",
    "        else:\n",
    "            correcttime[d][jumps[d][j-1]+1:jumps[d][j]+1] = correcttime[d][jumps[d][j-1]+1:jumps[d][j]+1] + (correcttime[d][jumps[d][j]+1] - correcttime[d][jumps[d][j]])"
   ]
  },
  {
   "cell_type": "code",
   "execution_count": 24,
   "metadata": {
    "collapsed": false
   },
   "outputs": [
    {
     "data": {
      "text/plain": [
       "[<matplotlib.lines.Line2D at 0x1f585470>]"
      ]
     },
     "execution_count": 24,
     "metadata": {},
     "output_type": "execute_result"
    }
   ],
   "source": [
    "figure()\n",
    "d=23\n",
    "plot(correcttime[d])\n",
    "plot(lt[d], 'g-')"
   ]
  },
  {
   "cell_type": "code",
   "execution_count": 21,
   "metadata": {
    "collapsed": false
   },
   "outputs": [],
   "source": [
    "d = 22\n",
    "correcttime[d] = gpst[d].copy()"
   ]
  },
  {
   "cell_type": "code",
   "execution_count": 22,
   "metadata": {
    "collapsed": true
   },
   "outputs": [],
   "source": [
    "d = 21\n",
    "correcttime[d] = gpst[d].copy()"
   ]
  },
  {
   "cell_type": "code",
   "execution_count": 23,
   "metadata": {
    "collapsed": false
   },
   "outputs": [
    {
     "name": "stdout",
     "output_type": "stream",
     "text": [
      "[ 581442 1192036 1914507 1916249 1916275 1918014 1918040 1919779 1919805\n",
      " 1921548 1921573 1923308 1923333 1925062 1925087 1926821 1926846 1928578\n",
      " 1928603 1930330 1930355 1932089 1932114 1933842 1933867 1935599 1935624\n",
      " 1937342]\n"
     ]
    }
   ],
   "source": [
    "print jumps[d]"
   ]
  },
  {
   "cell_type": "code",
   "execution_count": 24,
   "metadata": {
    "collapsed": false
   },
   "outputs": [],
   "source": [
    "for j in range(0, len(jumps[d])):\n",
    "    if (correcttime[d][jumps[d][j]] - correcttime[d][jumps[d][j]+1])<0:\n",
    "        if j == 0:\n",
    "            correcttime[d][:jumps[d][j]+1] = correcttime[d][:jumps[d][j]+1] + (correcttime[d][jumps[d][j]+1]-correcttime[d][jumps[d][j]])\n",
    "        else:\n",
    "            correcttime[d][jumps[d][j-1]+1:jumps[d][j]+1] = correcttime[d][jumps[d][j-1]+1:jumps[d][j]+1] + (correcttime[d][jumps[d][j]+1] - correcttime[d][jumps[d][j]])"
   ]
  },
  {
   "cell_type": "code",
   "execution_count": 29,
   "metadata": {
    "collapsed": false
   },
   "outputs": [
    {
     "data": {
      "text/plain": [
       "[<matplotlib.lines.Line2D at 0xd2d1978>]"
      ]
     },
     "execution_count": 29,
     "metadata": {},
     "output_type": "execute_result"
    }
   ],
   "source": [
    "figure()\n",
    "d = 21\n",
    "plot(correcttime[d])\n",
    "plot(lt[d], 'g-')"
   ]
  },
  {
   "cell_type": "code",
   "execution_count": 25,
   "metadata": {
    "collapsed": false
   },
   "outputs": [],
   "source": [
    "d = 20\n",
    "correcttime[d] = gpst[d].copy()\n",
    "#correcttime[d][:inds[-1]] = correcttime[d][:inds[-1]] + (correcttime[d+1][0] - correcttime[d][inds[-1]])"
   ]
  },
  {
   "cell_type": "code",
   "execution_count": 26,
   "metadata": {
    "collapsed": true
   },
   "outputs": [],
   "source": [
    "correcttime[d] += 2**28"
   ]
  },
  {
   "cell_type": "code",
   "execution_count": 32,
   "metadata": {
    "collapsed": false
   },
   "outputs": [
    {
     "data": {
      "text/plain": [
       "[<matplotlib.lines.Line2D at 0xd2b6438>]"
      ]
     },
     "execution_count": 32,
     "metadata": {},
     "output_type": "execute_result"
    }
   ],
   "source": [
    "figure()\n",
    "d = 20\n",
    "plot(correcttime[d])\n",
    "plot(lt[d], 'g-')"
   ]
  },
  {
   "cell_type": "code",
   "execution_count": 27,
   "metadata": {
    "collapsed": true
   },
   "outputs": [],
   "source": [
    "gpstu,inds=np.unique(gpst[d],return_index=True)"
   ]
  },
  {
   "cell_type": "code",
   "execution_count": 34,
   "metadata": {
    "collapsed": false
   },
   "outputs": [
    {
     "data": {
      "text/plain": [
       "[<matplotlib.lines.Line2D at 0x140d4d68>]"
      ]
     },
     "execution_count": 34,
     "metadata": {},
     "output_type": "execute_result"
    }
   ],
   "source": [
    "figure()\n",
    "d = 20\n",
    "plot(correcttime[d][:inds[-1]])\n",
    "plot(gpstu, 'k-')\n",
    "plot(lt[d], 'g-')"
   ]
  },
  {
   "cell_type": "code",
   "execution_count": 28,
   "metadata": {
    "collapsed": false
   },
   "outputs": [],
   "source": [
    "correcttime[d][:inds[-1]] = correcttime[d][:inds[-1]] + (correcttime[d+1][0] - correcttime[d][inds[-1]])"
   ]
  },
  {
   "cell_type": "code",
   "execution_count": 29,
   "metadata": {
    "collapsed": false
   },
   "outputs": [
    {
     "name": "stdout",
     "output_type": "stream",
     "text": [
      "48649374\n"
     ]
    }
   ],
   "source": [
    "print (correcttime[d+1][0] - correcttime[d][inds[-1]])"
   ]
  },
  {
   "cell_type": "code",
   "execution_count": 30,
   "metadata": {
    "collapsed": false
   },
   "outputs": [],
   "source": [
    "d = 19\n",
    "correcttime[d] = gpst[d].copy()"
   ]
  },
  {
   "cell_type": "code",
   "execution_count": 39,
   "metadata": {
    "collapsed": false
   },
   "outputs": [
    {
     "data": {
      "text/plain": [
       "[<matplotlib.lines.Line2D at 0x13d6b048>]"
      ]
     },
     "execution_count": 39,
     "metadata": {},
     "output_type": "execute_result"
    }
   ],
   "source": [
    "figure()\n",
    "d = 19\n",
    "plot(correcttime[d])\n",
    "plot(lt[d], 'g-')"
   ]
  },
  {
   "cell_type": "code",
   "execution_count": 31,
   "metadata": {
    "collapsed": true
   },
   "outputs": [],
   "source": [
    "d = 26\n",
    "correcttime[d] = gpst[d].copy()\n",
    "d = 27\n",
    "correcttime[d] = gpst[d].copy()"
   ]
  },
  {
   "cell_type": "code",
   "execution_count": 55,
   "metadata": {
    "collapsed": false
   },
   "outputs": [],
   "source": [
    "correcttimes = []\n",
    "for d in range(21,28):\n",
    "    correcttimes.append(correcttime[d])\n",
    "    \n",
    "ctime = np.concatenate(correcttimes)"
   ]
  },
  {
   "cell_type": "code",
   "execution_count": 56,
   "metadata": {
    "collapsed": false
   },
   "outputs": [
    {
     "data": {
      "text/plain": [
       "[<matplotlib.lines.Line2D at 0x1552c2b0>]"
      ]
     },
     "execution_count": 56,
     "metadata": {},
     "output_type": "execute_result"
    }
   ],
   "source": [
    "figure()\n",
    "plot(ctime)"
   ]
  },
  {
   "cell_type": "code",
   "execution_count": 43,
   "metadata": {
    "collapsed": false
   },
   "outputs": [
    {
     "name": "stdout",
     "output_type": "stream",
     "text": [
      "21 1937368\n",
      "22 1807201\n",
      "23 83029\n",
      "24 1143126\n",
      "25 373387\n",
      "26 134905\n",
      "27 41686\n",
      "28 0\n"
     ]
    }
   ],
   "source": [
    "for d in range(21,29):\n",
    "    figure()\n",
    "    print d, len(correcttime[d])\n",
    "    if d != 28:\n",
    "        plot(correcttime[d], label='gpstime')\n",
    "        plot(lt[d], label='linear time')\n",
    "        title('date: %s, ms %d' % (str(stime[d]), lt[d][0]))\n",
    "        legend()\n",
    "    else:\n",
    "        plot(ctime, label='gpstime')\n",
    "        plot(lintime, label='linear time')\n",
    "        title('date: 07-19-2018 to 07-27-2018')\n",
    "        legend()\n",
    "        \n",
    "    xlabel('samples')\n",
    "    ylabel('gpstime (ms)')"
   ]
  },
  {
   "cell_type": "code",
   "execution_count": 32,
   "metadata": {
    "collapsed": true
   },
   "outputs": [],
   "source": [
    "def get_h5_pointing(f,startrev=None, stoprev=None,angles_in_ints=False,azel_era=3):\n",
    "    \"\"\"\n",
    "        modify to fast version, dont' average the multiple values, just take the first one. will cause a little bias but its very fast.\n",
    "    also implmented removal of erroneous endof h5 file crap, and az outliers\n",
    "    azel_era determines what az/el offsets to use, 1 means before 9/26/2013, 2 means 9/26-10/3 (inclusive), 3 means after 10/4.\n",
    "    \"\"\"\n",
    "\n",
    "    #filelist is complete path list to the h5 files\n",
    "    elconversion=-360./40000.\n",
    "    azconversion=-360./(2.**16)\n",
    "    #eloffset=8.2-3.17382\n",
    "    #eloffset=5.026 # correction from 2013/08/02 moon crossing for both az and el this for ch 3! \n",
    "    #azoffset=4.41496\n",
    "    # on 2013/08/20, updated converter.py to include these offsets, in theory they should now be zero.\n",
    "    eloffset =0.0\n",
    "    azoffset=0.0\n",
    "    #ch1 would be azoffset=198.7810-187.663   or 11.118\n",
    "    #             eloffset= 8.2-5.69175  \n",
    "    #             eloffset= 2.5082\n",
    "    #note October 4, 2013. Just found that data from 9/26/13 through 10/04/13 used old converter.py. So special \n",
    "    #offsets needed:\n",
    "    #update, 10/8/13. ran get_cofe_crossing on second sun crossing from 10/04 (after subtracting \n",
    "    #template estimate of satellites,important effect). delta offsets: az=2.10,el=0.934\n",
    "    #these then would be future offsets\n",
    "    #update, 11/19/13. Ran mapmaking on lots of days, found an offset in the two daily crossings of the Crab- used ephem\n",
    "    #to find the crossings, found that should get a self-consistent solution for both if the azimth is reduced by 4.51 degrees\n",
    "    #and the elevation is increased by  2.241 degrees.\n",
    "    '''\n",
    "    if azel_era==1:\n",
    "        eloffset=5.026\n",
    "        azoffset=4.41496+140.0\n",
    "    if azel_era==2:\n",
    "        eloffset=5.026+0.934\n",
    "        azoffset=4.41496+140.0+2.1\n",
    "    if azel_era==3:\n",
    "        eloffset=0.934+2.241\n",
    "        azoffset=2.10 -4.51\n",
    "    '''\n",
    "\n",
    "\n",
    "    h=h5py.File(f)\n",
    "    hh=h['data']\n",
    "    hpointing = (hh[hh['gpstime']>=hh['gpstime'][0]])\n",
    "    #print hpointinng\n",
    "    h.close()\n",
    "\n",
    "    #hpointing = np.concatenate(hpointing)\n",
    "    #cut out blank lines from unfilled files\n",
    "    if startrev != None:\n",
    "        hpointing=hpointing[hpointing['gpstime'] > startrev]\n",
    "    if stoprev != None:\n",
    "        hpointing=hpointing[hpointing['gpstime'] < stoprev]\n",
    "\n",
    "    hrevlist = hpointing['gpstime']#,inds=np.unique(hpointing['gpstime'],return_index=True)\n",
    "    elmeans=hpointing['el']\n",
    "    azmeans=hpointing['az']\n",
    "    h1means = hpointing['H1']\n",
    "    h2means = hpointing['H2']\n",
    "    h3means = hpointing['H3']\n",
    "    cryo1means = hpointing['Backend TSS']\n",
    "    cryo2means = hpointing['Amplifier']\n",
    "    cryo3means = hpointing['Cooler']\n",
    "    cryo4means = hpointing['Calibrator']\n",
    "    azlevmeans = hpointing['x tilt']\n",
    "    ellevmeans = hpointing['y tilt']\n",
    "    azoffsetmeans = hpointing['az offset']\n",
    "    eloffsetmeans = hpointing['el offset']\n",
    "    comptimemeans = hpointing['computer time']\n",
    "    flagmeans = hpointing['flag']\n",
    "    #(\"az offset\", np.float), (\"el offset\", np.float), (\"computer time\", np.float), (\"flag\", np.int)])\n",
    "\n",
    "\n",
    "    return {'el':elmeans,'az':azmeans,'gpstime':hrevlist, 'H1':h1means\n",
    "            , 'H2':h2means, 'H3':h3means, 'Backend TSS':cryo1means\n",
    "        , 'Amplifier':cryo2means, 'Cooler':cryo3means, 'Calibrator':cryo4means\n",
    "        , 'x tilt':azlevmeans, 'y tilt':ellevmeans, 'az offset':azoffsetmeans, 'el offset':eloffsetmeans, 'computer time':comptimemeans\n",
    "        , 'flag':flagmeans}"
   ]
  },
  {
   "cell_type": "code",
   "execution_count": 33,
   "metadata": {
    "collapsed": false
   },
   "outputs": [],
   "source": [
    "def fileStruct(n_array, date, time):\n",
    "\n",
    "    os.chdir(\"D:/software_git_repos/greenpol/telescope_control/data_aquisition/pointing_data_corrected\")\t\n",
    "    #t=ftime\n",
    "    #date = date\n",
    "    #time = time\n",
    "    if not os.path.exists(date):#this is the first file being created for that time\n",
    "        os.makedirs(date)\n",
    "        #set index to 0\n",
    "\n",
    "\n",
    "    path = '/'.join((date,time))\n",
    "    path = '.'.join((path,\"h5\"))\n",
    "    with h5py.File(str(path).replace(\"pkl\",\"h5\"), mode=\"w\") as f:\n",
    "        f.create_dataset(\"data\", data=n_array.to_records(index=False))"
   ]
  },
  {
   "cell_type": "code",
   "execution_count": 34,
   "metadata": {
    "collapsed": true
   },
   "outputs": [],
   "source": [
    "badtimes = [21, 23, 24, 25]"
   ]
  },
  {
   "cell_type": "code",
   "execution_count": 35,
   "metadata": {
    "collapsed": true
   },
   "outputs": [],
   "source": [
    "correcttimes = []\n",
    "for d in badtimes:\n",
    "    correcttimes.append(correcttime[d])\n",
    "    \n",
    "ctime = np.concatenate(correcttimes)"
   ]
  },
  {
   "cell_type": "code",
   "execution_count": 36,
   "metadata": {
    "collapsed": false
   },
   "outputs": [],
   "source": [
    "flp = []\n",
    "for d in badtimes:\n",
    "    flp.append(files[d])\n",
    "    \n",
    "flp = np.concatenate(flp)"
   ]
  },
  {
   "cell_type": "code",
   "execution_count": 37,
   "metadata": {
    "collapsed": false
   },
   "outputs": [
    {
     "name": "stdout",
     "output_type": "stream",
     "text": [
      "D:/software_git_repos/greenpol/telescope_control/data_aquisition/pointing_data/07-21-2018/00-00-32.h5\n",
      "07-21-2018\n",
      "00-00-32\n"
     ]
    }
   ],
   "source": [
    "print flp[0]\n",
    "print flp[0][-22:-12]\n",
    "print flp[0][-11:-3]"
   ]
  },
  {
   "cell_type": "code",
   "execution_count": 38,
   "metadata": {
    "collapsed": false
   },
   "outputs": [],
   "source": [
    "count = 0\n",
    "for f in flp:\n",
    "    pp = get_h5_pointing(f)\n",
    "    for p in range(len(pp['gpstime'])):\n",
    "        pp['gpstime'][p] = ctime[count]\n",
    "        count += 1\n",
    "    \n",
    "    h5data=pd.DataFrame({\"az\": pp['az']})\n",
    "    h5data[\"el\"] = pp['el']\n",
    "    h5data[\"gpstime\"] = pp['gpstime']\n",
    "    h5data[\"H1\"] = pp['H1']\n",
    "    h5data[\"H2\"] = pp['H2']    \n",
    "    h5data[\"H3\"] = pp['H3']\n",
    "    h5data[\"Backend TSS\"] = pp['Backend TSS']\n",
    "    h5data[\"Amplifier\"] = pp['Amplifier']\n",
    "    h5data[\"Cooler\"] = pp['Cooler']\n",
    "    h5data[\"Calibrator\"] = pp['Calibrator']\n",
    "    h5data[\"x tilt\"] = pp['x tilt']\n",
    "    h5data[\"y tilt\"] = pp['y tilt']\n",
    "    h5data[\"az offset\"] = pp['az offset']\n",
    "    h5data[\"el offset\"] = pp['el offset']\n",
    "    h5data[\"computer time\"] = pp['computer time']\n",
    "    h5data[\"flag\"] = pp['flag']\n",
    "\n",
    "    d = f[-22:-12]\n",
    "    t = f[-11:-3]\n",
    "    fileStruct(h5data, d, t)"
   ]
  },
  {
   "cell_type": "code",
   "execution_count": null,
   "metadata": {
    "collapsed": true
   },
   "outputs": [],
   "source": []
  },
  {
   "cell_type": "code",
   "execution_count": 54,
   "metadata": {
    "collapsed": false
   },
   "outputs": [
    {
     "data": {
      "text/plain": [
       "[<matplotlib.lines.Line2D at 0x15fd8710>]"
      ]
     },
     "execution_count": 54,
     "metadata": {},
     "output_type": "execute_result"
    }
   ],
   "source": [
    "figure()\n",
    "plot(correcttime[24])"
   ]
  },
  {
   "cell_type": "code",
   "execution_count": 52,
   "metadata": {
    "collapsed": false
   },
   "outputs": [
    {
     "data": {
      "text/plain": [
       "[<matplotlib.lines.Line2D at 0x15ac3e80>]"
      ]
     },
     "execution_count": 52,
     "metadata": {},
     "output_type": "execute_result"
    }
   ],
   "source": [
    "figure()\n",
    "plot(gpst[24])"
   ]
  },
  {
   "cell_type": "code",
   "execution_count": null,
   "metadata": {
    "collapsed": true
   },
   "outputs": [],
   "source": []
  }
 ],
 "metadata": {
  "kernelspec": {
   "display_name": "Python 2",
   "language": "python",
   "name": "python2"
  },
  "language_info": {
   "codemirror_mode": {
    "name": "ipython",
    "version": 2
   },
   "file_extension": ".py",
   "mimetype": "text/x-python",
   "name": "python",
   "nbconvert_exporter": "python",
   "pygments_lexer": "ipython2",
   "version": "2.7.11"
  }
 },
 "nbformat": 4,
 "nbformat_minor": 0
}
