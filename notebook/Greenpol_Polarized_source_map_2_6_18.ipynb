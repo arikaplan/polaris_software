{
 "cells": [
  {
   "cell_type": "code",
   "execution_count": 1,
   "metadata": {
    "collapsed": false
   },
   "outputs": [
    {
     "name": "stderr",
     "output_type": "stream",
     "text": [
      "C:\\Users\\peter\\AppData\\Local\\Continuum\\anaconda3\\envs\\py27\\lib\\site-packages\\pyfits\\__init__.py:22: PyFITSDeprecationWarning: PyFITS is deprecated, please use astropy.io.fits\n",
      "  PyFITSDeprecationWarning)  # noqa\n"
     ]
    },
    {
     "name": "stdout",
     "output_type": "stream",
     "text": [
      "Using matplotlib backend: Qt5Agg\n",
      "Populating the interactive namespace from numpy and matplotlib\n"
     ]
    },
    {
     "name": "stderr",
     "output_type": "stream",
     "text": [
      "C:\\Users\\peter\\AppData\\Local\\Continuum\\anaconda3\\envs\\py27\\lib\\site-packages\\h5py\\__init__.py:36: FutureWarning: Conversion of the second argument of issubdtype from `float` to `np.floating` is deprecated. In future, it will be treated as `np.float64 == np.dtype(float).type`.\n",
      "  from ._conv import register_converters as _register_converters\n"
     ]
    }
   ],
   "source": [
    "import sys\n",
    "sys.path.append('c:\\\\software_git_repos\\\\cofe-python-analysis-tools\\\\utils_meinhold')\n",
    "sys.path.append('c:\\\\software_git_repos\\\\cofe-python-analysis-tools\\\\utils_zonca')\n",
    "sys.path.append('c:\\\\software_git_repos\\\\greenpol')\n",
    "sys.path.append('c:\\\\software_git_repos\\\\greenpol\\\\telescope_control\\\\')\n",
    "sys.path.append('c:\\\\software_git_repos\\\\greenpol\\\\telescope_control\\\\VtoT\\\\')\n",
    "from glob import glob\n",
    "import time\n",
    "import cofe_util as cu\n",
    "import Tkinter,tkFileDialog\n",
    "root = Tkinter.Tk()\n",
    "from demod import datparsing\n",
    "%pylab\n",
    "\n",
    "import realtime_gp as rt"
   ]
  },
  {
   "cell_type": "code",
   "execution_count": 2,
   "metadata": {
    "collapsed": false
   },
   "outputs": [
    {
     "name": "stdout",
     "output_type": "stream",
     "text": [
      "Using matplotlib backend: Qt5Agg\n",
      "Populating the interactive namespace from numpy and matplotlib\n"
     ]
    }
   ],
   "source": [
    "%pylab"
   ]
  },
  {
   "cell_type": "code",
   "execution_count": 3,
   "metadata": {
    "collapsed": true
   },
   "outputs": [],
   "source": [
    "def bin_to_az_el_patch(indata,azres=0.5,elres=0.5,chan='ch4',cmode='Q',revlimits=[0,2**24]):\n",
    "    \"\"\"\n",
    "    straight binning code for data that's been associated with H5 pointing\n",
    "    assume combined_dict came from combine_cofe_h5_pointing, that az and el are in degrees\n",
    "    Try to make this version only where we have data in az and el (for small patches)\n",
    "    start by assuming we don't cross az=0, fix this case if this is useful\n",
    "    \"\"\"\n",
    "\n",
    "    chandata=indata['sci_data'][chan][cmode][np.logical_and(indata['sci_data']['rev'] > revlimits[0],indata['sci_data']['rev']< revlimits[1])]\n",
    "    eldata=indata['el'][np.logical_and(indata['sci_data']['rev'] > revlimits[0],indata['sci_data']['rev']< revlimits[1])]\n",
    "    azdata=indata['az'][np.logical_and(indata['sci_data']['rev'] > revlimits[0],indata['sci_data']['rev']< revlimits[1])]\n",
    "    \n",
    "    elhalfbin=elres/2.\n",
    "    azhalfbin=azres/2.\n",
    "    azmin=np.min(azdata)\n",
    "    azmax=np.max(azdata)\n",
    "    elmin=np.min(eldata)\n",
    "    elmax=np.max(eldata)\n",
    "    nazbins=int((azmax-azmin)/azres)\n",
    "    nelbins=int((elmax-elmin)/elres)\n",
    "    azlist=arange(nazbins)*azres+azmin\n",
    "    ellist=arange(nelbins)*elres+elmin\n",
    "    \n",
    "    # make empty output map\n",
    "    outmap=np.zeros([nazbins,nelbins],dtype=np.float64) \n",
    "    for x,azi in enumerate(azlist):\n",
    "        for y,eli in enumerate(ellist):\n",
    "            outmap[x,y]=np.mean(chandata[np.logical_and(abs(eldata-eli) < elhalfbin,abs(azdata-azi) < azhalfbin)])\n",
    "    mapoffset=np.nanmin(outmap)\n",
    "    outmap=np.nan_to_num(outmap-mapoffset)\n",
    "    outmapdict={}\n",
    "    x,y=np.meshgrid(azlist,ellist)\n",
    "    outmapdict['az']=x\n",
    "    outmapdict['el']=y\n",
    "    outmapdict['map']=transpose(outmap)\n",
    "    return outmapdict"
   ]
  },
  {
   "cell_type": "code",
   "execution_count": 4,
   "metadata": {
    "collapsed": true
   },
   "outputs": [],
   "source": [
    "pointing_list=list(tkFileDialog.askopenfilenames(initialdir='C://Greenland/test_data_from_greenpol_1/pointing_data',parent=root,title='Choose files'))"
   ]
  },
  {
   "cell_type": "code",
   "execution_count": 5,
   "metadata": {
    "collapsed": true
   },
   "outputs": [],
   "source": [
    "data_list=list(tkFileDialog.askopenfilenames(initialdir='C://Greenland/test_data_from_greenpol_1/data',parent=root,title='Choose files'))"
   ]
  },
  {
   "cell_type": "code",
   "execution_count": 6,
   "metadata": {
    "collapsed": true
   },
   "outputs": [],
   "source": [
    "pp=rt.get_h5_pointing(pointing_list)"
   ]
  },
  {
   "cell_type": "code",
   "execution_count": 17,
   "metadata": {
    "collapsed": false
   },
   "outputs": [
    {
     "data": {
      "text/plain": [
       "<module 'demod.datparsing' from 'c:\\software_git_repos\\cofe-python-analysis-tools\\utils_zonca\\demod\\datparsing.py'>"
      ]
     },
     "execution_count": 17,
     "metadata": {},
     "output_type": "execute_result"
    }
   ],
   "source": [
    "reload(datparsing)"
   ]
  },
  {
   "cell_type": "code",
   "execution_count": 18,
   "metadata": {
    "collapsed": false,
    "scrolled": true
   },
   "outputs": [
    {
     "name": "stdout",
     "output_type": "stream",
     "text": [
      "1000\n",
      "16\n",
      "1000\n",
      "16\n",
      "1000\n",
      "16\n",
      "1000\n",
      "16\n",
      "1000\n",
      "16\n",
      "1000\n",
      "16\n",
      "1000\n",
      "16\n",
      "1000\n",
      "16\n",
      "1000\n",
      "16\n",
      "1000\n",
      "16\n",
      "1000\n",
      "16\n",
      "1000\n",
      "16\n",
      "1000\n",
      "16\n",
      "1000\n",
      "16\n",
      "1000\n",
      "16\n",
      "1000\n",
      "16\n",
      "1000\n",
      "16\n",
      "1000\n",
      "16\n",
      "1000\n",
      "16\n",
      "1000\n",
      "16\n",
      "1000\n",
      "16\n",
      "1000\n",
      "16\n",
      "1000\n",
      "16\n",
      "1000\n",
      "16\n",
      "1000\n",
      "16\n",
      "1000\n",
      "16\n",
      "1000\n",
      "16\n",
      "1000\n",
      "16\n",
      "1000\n",
      "16\n",
      "1000\n",
      "16\n",
      "1000\n",
      "16\n",
      "1000\n",
      "16\n",
      "1000\n",
      "16\n",
      "1000\n",
      "16\n",
      "1000\n",
      "16\n",
      "1000\n",
      "16\n",
      "1000\n",
      "16\n",
      "1000\n",
      "16\n",
      "1000\n",
      "16\n",
      "1000\n",
      "16\n",
      "1000\n",
      "16\n",
      "1000\n",
      "16\n",
      "1000\n",
      "16\n",
      "1000\n",
      "16\n",
      "1000\n",
      "16\n",
      "1000\n",
      "16\n",
      "1000\n",
      "16\n",
      "1000\n",
      "16\n",
      "1000\n",
      "16\n",
      "1000\n",
      "16\n",
      "1000\n",
      "16\n",
      "1000\n",
      "16\n",
      "1000\n",
      "16\n",
      "1000\n",
      "16\n",
      "1000\n",
      "16\n",
      "1000\n",
      "16\n",
      "1000\n",
      "16\n",
      "1000\n",
      "16\n",
      "1000\n",
      "16\n",
      "1000\n",
      "16\n",
      "1000\n",
      "16\n",
      "1000\n",
      "16\n",
      "1000\n",
      "16\n",
      "1000\n",
      "16\n",
      "1000\n",
      "16\n",
      "1000\n",
      "16\n",
      "1000\n",
      "16\n",
      "1000\n",
      "16\n",
      "1000\n",
      "16\n",
      "1000\n",
      "16\n",
      "1000\n",
      "16\n",
      "1000\n",
      "16\n",
      "1000\n",
      "16\n",
      "1000\n",
      "16\n",
      "1000\n",
      "16\n",
      "1000\n",
      "16\n",
      "1000\n",
      "16\n",
      "1000\n",
      "16\n",
      "1000\n",
      "16\n",
      "1000\n",
      "16\n",
      "1000\n",
      "16\n",
      "1000\n",
      "16\n",
      "1000\n",
      "16\n",
      "1000\n",
      "16\n",
      "1000\n",
      "16\n",
      "1000\n",
      "16\n",
      "1000\n",
      "16\n",
      "1000\n",
      "16\n",
      "1000\n",
      "16\n",
      "1000\n",
      "16\n",
      "1000\n",
      "16\n",
      "1000\n",
      "16\n",
      "1000\n",
      "16\n",
      "1000\n",
      "16\n",
      "1000\n",
      "16\n",
      "1000\n",
      "16\n",
      "1000\n",
      "16\n",
      "1000\n",
      "16\n",
      "1000\n",
      "16\n",
      "1000\n",
      "16\n",
      "1000\n",
      "16\n",
      "1000\n",
      "16\n",
      "1000\n",
      "16\n",
      "1000\n",
      "16\n",
      "1000\n",
      "16\n",
      "1000\n",
      "16\n",
      "1000\n",
      "16\n",
      "1000\n",
      "16\n",
      "1000\n",
      "16\n",
      "1000\n",
      "16\n",
      "1000\n",
      "16\n",
      "1000\n",
      "16\n",
      "1000\n",
      "16\n",
      "1000\n",
      "16\n",
      "1000\n",
      "16\n",
      "1000\n",
      "16\n",
      "1000\n",
      "16\n",
      "1000\n",
      "16\n",
      "1000\n",
      "16\n",
      "1000\n",
      "16\n",
      "1000\n",
      "16\n",
      "1000\n",
      "16\n",
      "1000\n",
      "16\n",
      "1000\n",
      "16\n",
      "1000\n",
      "16\n",
      "1000\n",
      "16\n",
      "1000\n",
      "16\n",
      "1000\n",
      "16\n",
      "1000\n",
      "16\n",
      "1000\n",
      "16\n",
      "1000\n",
      "16\n",
      "1000\n",
      "16\n",
      "1000\n",
      "16\n",
      "1000\n",
      "16\n",
      "1000\n",
      "16\n",
      "1000\n",
      "16\n",
      "1000\n",
      "16\n",
      "1000\n",
      "16\n",
      "1000\n",
      "16\n",
      "1000\n",
      "16\n",
      "1000\n",
      "16\n",
      "1000\n",
      "16\n",
      "1000\n",
      "16\n",
      "1000\n",
      "16\n",
      "1000\n",
      "16\n",
      "1000\n",
      "16\n",
      "1000\n",
      "16\n",
      "1000\n",
      "16\n",
      "1000\n",
      "16\n",
      "1000\n",
      "16\n",
      "1000\n",
      "16\n",
      "1000\n",
      "16\n"
     ]
    }
   ],
   "source": [
    "dd=rt.get_demodulated_data_from_list(data_list)"
   ]
  },
  {
   "cell_type": "code",
   "execution_count": 19,
   "metadata": {
    "collapsed": true
   },
   "outputs": [],
   "source": [
    "cdata=rt.combine_cofe_h5_pointing(dd,pp,outfile='cdata.pkl')"
   ]
  },
  {
   "cell_type": "code",
   "execution_count": 37,
   "metadata": {
    "collapsed": false
   },
   "outputs": [
    {
     "data": {
      "text/plain": [
       "[<matplotlib.lines.Line2D at 0x195150b8>]"
      ]
     },
     "execution_count": 37,
     "metadata": {},
     "output_type": "execute_result"
    }
   ],
   "source": [
    "figure()\n",
    "plot(cdata['az'],cdata['sci_data']['ch4']['T'])"
   ]
  },
  {
   "cell_type": "code",
   "execution_count": 35,
   "metadata": {
    "collapsed": false
   },
   "outputs": [
    {
     "name": "stderr",
     "output_type": "stream",
     "text": [
      "C:\\Users\\peter\\AppData\\Local\\Continuum\\anaconda3\\envs\\py27\\lib\\site-packages\\ipykernel_launcher.py:28: UserWarning: Warning: converting a masked element to nan.\n"
     ]
    }
   ],
   "source": [
    "testh2t=bin_to_az_el_patch(cdata,chan='ch4',cmode='T',azres=.2,elres=0.2)"
   ]
  },
  {
   "cell_type": "code",
   "execution_count": 36,
   "metadata": {
    "collapsed": false,
    "scrolled": true
   },
   "outputs": [
    {
     "data": {
      "text/plain": [
       "<matplotlib.colorbar.Colorbar at 0x19362e10>"
      ]
     },
     "execution_count": 36,
     "metadata": {},
     "output_type": "execute_result"
    }
   ],
   "source": [
    "figure()\n",
    "pcolormesh(testh2t['az'],testh2t['el'],testh2t['map'])\n",
    "title('Horn 2 T')\n",
    "colorbar()"
   ]
  }
 ],
 "metadata": {
  "anaconda-cloud": {},
  "kernelspec": {
   "display_name": "Python 2",
   "language": "python",
   "name": "python2"
  },
  "language_info": {
   "codemirror_mode": {
    "name": "ipython",
    "version": 2
   },
   "file_extension": ".py",
   "mimetype": "text/x-python",
   "name": "python",
   "nbconvert_exporter": "python",
   "pygments_lexer": "ipython2",
   "version": "2.7.13"
  }
 },
 "nbformat": 4,
 "nbformat_minor": 1
}
