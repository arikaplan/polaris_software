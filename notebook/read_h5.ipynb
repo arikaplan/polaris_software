{
 "cells": [
  {
   "cell_type": "code",
   "execution_count": 1,
   "metadata": {
    "collapsed": false
   },
   "outputs": [
    {
     "name": "stderr",
     "output_type": "stream",
     "text": [
      "/usr/lib/python2.7/dist-packages/h5py/__init__.py:36: FutureWarning: Conversion of the second argument of issubdtype from `float` to `np.floating` is deprecated. In future, it will be treated as `np.float64 == np.dtype(float).type`.\n",
      "  from ._conv import register_converters as _register_converters\n"
     ]
    }
   ],
   "source": [
    "import h5py"
   ]
  },
  {
   "cell_type": "code",
   "execution_count": 4,
   "metadata": {
    "collapsed": false
   },
   "outputs": [
    {
     "name": "stderr",
     "output_type": "stream",
     "text": [
      "/usr/lib/python2.7/dist-packages/ipykernel_launcher.py:5: DeprecationWarning: unorderable dtypes; returning scalar but in the future this will be an error\n",
      "  \"\"\"\n"
     ]
    },
    {
     "name": "stdout",
     "output_type": "stream",
     "text": [
      "(1.57201478e+09, 0.41995895, 1.30243478, 0.23937909, 0., 0.15632755, -0.02847415, -0.02847415)\n"
     ]
    },
    {
     "name": "stderr",
     "output_type": "stream",
     "text": [
      "/usr/lib/python2.7/dist-packages/ipykernel_launcher.py:6: DeprecationWarning: unorderable dtypes; returning scalar but in the future this will be an error\n",
      "  \n"
     ]
    },
    {
     "name": "stdout",
     "output_type": "stream",
     "text": [
      "(1.57201482e+09, 0.94363195, 0.9685372, -1.4399818, 0., 0.15190405, -0.0314979, -0.0314979)\n",
      "[(1.57201478e+09, 0.41995895, 1.30243478, 0.23937909, 0., 0.15632755, -0.02847415, -0.02847415)\n",
      " (1.57201478e+09, 0.41885671, 1.30219579, 0.2420877 , 0., 0.19790912, -0.03680134, -0.03680134)\n",
      " (1.57201478e+09, 0.41785968, 1.30203235, 0.24450219, 0., 0.19474268, -0.03958046, -0.03958046)\n",
      " (1.57201478e+09, 0.4168203 , 1.30178007, 0.2470728 , 0., 0.19909823, -0.0305568 , -0.0305568 )\n",
      " (1.57201478e+09, 0.41550514, 1.30135815, 0.2503929 , 0., 0.19186842, -0.03299618, -0.03299618)\n",
      " (1.57201478e+09, 0.41469791, 1.30115745, 0.25239349, 0., 0.18446195, -0.03757596, -0.03757596)\n",
      " (1.57201478e+09, 0.41367537, 1.30090099, 0.25492749, 0., 0.15315771, -0.04418063, -0.04418063)\n",
      " (1.57201478e+09, 0.41259475, 1.30072628, 0.25753702, 0., 0.16398543, -0.0365873 , -0.0365873 )\n",
      " (1.57201478e+09, 0.41155801, 1.3004302 , 0.26012992, 0., 0.17144287, -0.03370965, -0.03370965)\n",
      " (1.57201478e+09, 0.4105094 , 1.30009006, 0.26278135, 0., 0.1510275 , -0.03844911, -0.03844911)\n",
      " (1.57201478e+09, 0.40913969, 1.29973146, 0.26618171, 0., 0.17236358, -0.04075938, -0.04075938)\n",
      " (1.57201478e+09, 0.40839859, 1.29962287, 0.2679616 , 0., 0.15724146, -0.04123163, -0.04123163)\n",
      " (1.57201478e+09, 0.40738193, 1.29926375, 0.27055335, 0., 0.13870829, -0.04099041, -0.04099041)\n",
      " (1.57201478e+09, 0.40626577, 1.29897936, 0.27331807, 0., 0.13848066, -0.03736532, -0.03736532)\n",
      " (1.57201478e+09, 0.40521571, 1.29877628, 0.27587045, 0., 0.12548536, -0.02905852, -0.02905852)]\n"
     ]
    }
   ],
   "source": [
    "filename = 'H1HiAC-20191025-07_43_20-15_11_19_cleaned.h5'\n",
    "\n",
    "with h5py.File(filename, 'r') as f:\n",
    "   data = f['data']\n",
    "   print(min(data))\n",
    "   print(max(data))\n",
    "   print(data[:15])"
   ]
  },
  {
   "cell_type": "code",
   "execution_count": null,
   "metadata": {
    "collapsed": true
   },
   "outputs": [],
   "source": []
  }
 ],
 "metadata": {
  "kernelspec": {
   "display_name": "Python 2",
   "language": "python",
   "name": "python2"
  },
  "language_info": {
   "codemirror_mode": {
    "name": "ipython",
    "version": 2
   },
   "file_extension": ".py",
   "mimetype": "text/x-python",
   "name": "python",
   "nbconvert_exporter": "python",
   "pygments_lexer": "ipython2",
   "version": "2.7.14"
  }
 },
 "nbformat": 4,
 "nbformat_minor": 2
}
