{
 "cells": [
  {
   "cell_type": "code",
   "execution_count": 1,
   "metadata": {},
   "outputs": [],
   "source": [
    "from pyhdf.SD import SD, SDC\n",
    "import numpy as np\n",
    "import matplotlib.pyplot as plt\n",
    "import pprint\n",
    "from os import listdir\n",
    "import time\n",
    "import h5py\n",
    "import pandas as pd\n",
    "from datetime import datetime, date, timedelta\n",
    "import os\n",
    "import sys"
   ]
  },
  {
   "cell_type": "code",
   "execution_count": 2,
   "metadata": {},
   "outputs": [
    {
     "name": "stdout",
     "output_type": "stream",
     "text": [
      "Using matplotlib backend: TkAgg\n"
     ]
    }
   ],
   "source": [
    "%matplotlib auto"
   ]
  },
  {
   "cell_type": "code",
   "execution_count": 3,
   "metadata": {},
   "outputs": [],
   "source": [
    "def write_file(n_array, starttime, endtime):\n",
    "    fpath = \"D:/software_git_repos/polaris/polaris_data/weather_data/MODIS/cloud/reduced\"\n",
    "    os.chdir(fpath)\n",
    "    year = endtime.strftime('%Y')\n",
    "    path = '-'.join((starttime.strftime('%m%d'), endtime.strftime('%m%d')))\n",
    "    if not os.path.exists(year):#this is the first file being created for that time\n",
    "        os.makedirs(year)\n",
    "        #set index to 0\n",
    "\n",
    "    path = '/'.join((year,path))\n",
    "    path = '.'.join((path,\"h5\"))\n",
    "    print path\n",
    "    with h5py.File(str(path).replace(\"pkl\",\"h5\"), mode=\"w\") as f:\n",
    "        f.create_dataset(\"data\", data=n_array.to_records(index=False))"
   ]
  },
  {
   "cell_type": "code",
   "execution_count": 6,
   "metadata": {},
   "outputs": [],
   "source": [
    "file_name = 'D:/software_git_repos/polaris/polaris_data/weather_data/MODIS/cloud/2018/summer/MYD06_L2.A2018152.0020.061.2018152170514.hdf'\n",
    "file = SD(file_name, SDC.READ)"
   ]
  },
  {
   "cell_type": "code",
   "execution_count": 7,
   "metadata": {},
   "outputs": [
    {
     "name": "stdout",
     "output_type": "stream",
     "text": [
      "0 Cloud_Top_Height_Nadir_Night\n",
      "1 Single_Scatter_Albedo_Ice\n",
      "2 Radiance_Variance\n",
      "3 Brightness_Temperature\n",
      "4 Sensor_Azimuth\n",
      "5 Statistics_1km_sds\n",
      "6 Cloud_Water_Path_1621\n",
      "7 Cloud_Phase_Infrared_Day\n",
      "8 Cloud_Effective_Radius_16_PCL\n",
      "9 Sensor_Zenith\n",
      "10 Cloud_Water_Path_1621_PCL\n",
      "11 cloud_top_method_1km\n",
      "12 Tropopause_Height\n",
      "13 Cloud_Water_Path\n",
      "14 Cloud_Top_Pressure_Nadir_Day\n",
      "15 Longitude\n",
      "16 IRW_Low_Cloud_Temperature_From_COP\n",
      "17 Cloud_Fraction_Nadir\n",
      "18 Cloud_Top_Pressure_From_Ratios\n",
      "19 Atm_Corr_Refl\n",
      "20 Cirrus_Reflectance\n",
      "21 Cloud_Top_Height_Nadir_Day\n",
      "22 Cloud_Optical_Thickness_37_PCL\n",
      "23 Cloud_Optical_Thickness_Uncertainty\n",
      "24 Cloud_Effective_Radius\n",
      "25 Cloud_Effective_Radius_PCL\n",
      "26 Cloud_Fraction_Day\n",
      "27 Cloud_Top_Pressure_Day\n",
      "28 Cloud_Optical_Thickness_16_PCL\n",
      "29 Cloud_Effective_Radius_1621_PCL\n",
      "30 Solar_Zenith\n",
      "31 cloud_emiss12_1km\n",
      "32 Sensor_Azimuth_Day\n",
      "33 Latitude\n",
      "34 cloud_emissivity_1km\n",
      "35 Cloud_Top_Temperature_Night\n",
      "36 Sensor_Zenith_Night\n",
      "37 Scan_Start_Time\n",
      "38 Cloud_Optical_Thickness_1621\n",
      "39 Cloud_Water_Path_Uncertainty_37\n",
      "40 Cloud_Effective_Radius_37_PCL\n",
      "41 Cloud_Optical_Thickness_1621_PCL\n",
      "42 cloud_emiss85_1km\n",
      "43 Cloud_Effective_Radius_Uncertainty_37\n",
      "44 cloud_top_height_1km\n",
      "45 Cloud_Mask_5km\n",
      "46 IRP_CTH_Consistency_Flag_1km\n",
      "47 Cloud_Top_Pressure_Nadir_Night\n",
      "48 Solar_Azimuth_Day\n",
      "49 Cloud_Optical_Thickness_37\n",
      "50 cloud_top_pressure_1km\n",
      "51 Cloud_Optical_Thickness_Uncertainty_16\n",
      "52 Extinction_Efficiency_Ice\n",
      "53 Cloud_Phase_Infrared\n",
      "54 Retrieval_Failure_Metric_37\n",
      "55 Cloud_Effective_Radius_Uncertainty\n",
      "56 Cloud_Effective_Emissivity_Nadir_Day\n",
      "57 Cloud_Optical_Thickness_PCL\n",
      "58 Cloud_Phase_Infrared_Night\n",
      "59 Cloud_Phase_Optical_Properties\n",
      "60 Cloud_Fraction_Nadir_Day\n",
      "61 Cloud_Top_Height_Nadir\n",
      "62 cloud_emiss13_1km\n",
      "63 Cloud_Water_Path_Uncertainty_16\n",
      "64 Asymmetry_Parameter_Liq\n",
      "65 Cloud_Water_Path_16\n",
      "66 Cloud_Fraction\n",
      "67 Cloud_Top_Pressure\n",
      "68 Cloud_Water_Path_37_PCL\n",
      "69 Cloud_Fraction_Nadir_Night\n",
      "70 Cloud_Effective_Emissivity_Day\n",
      "71 Extinction_Efficiency_Liq\n",
      "72 Cloud_Mask_SPI\n",
      "73 Asymmetry_Parameter_Ice\n",
      "74 Cloud_Effective_Radius_37\n",
      "75 Retrieval_Failure_Metric_16\n",
      "76 Cloud_Optical_Thickness\n",
      "77 Cloud_Water_Path_PCL\n",
      "78 Spectral_Cloud_Forcing\n",
      "79 Cloud_Effective_Radius_1621\n",
      "80 Cloud_Effective_Radius_Uncertainty_16\n",
      "81 Cloud_Top_Pressure_Nadir\n",
      "82 Solar_Azimuth\n",
      "83 Cloud_Optical_Thickness_Uncertainty_37\n",
      "84 Cloud_Multi_Layer_Flag\n",
      "85 Cloud_Water_Path_37\n",
      "86 Surface_Pressure\n",
      "87 Cloud_Water_Path_Uncertainty\n",
      "88 Above_Cloud_Water_Vapor_094\n",
      "89 Solar_Azimuth_Night\n",
      "90 Single_Scatter_Albedo_Liq\n",
      "91 Solar_Zenith_Night\n",
      "92 Quality_Assurance_1km\n",
      "93 Sensor_Azimuth_Night\n",
      "94 Cirrus_Reflectance_Flag\n",
      "95 cloud_top_temperature_1km\n",
      "96 Cloud_Optical_Thickness_Uncertainty_1621\n",
      "97 Cloud_Top_Temperature\n",
      "98 Sensor_Zenith_Day\n",
      "99 Cloud_Top_Pressure_Night\n",
      "100 Cloud_Top_Temperature_Nadir_Day\n",
      "101 Cloud_Mask_1km\n",
      "102 Cloud_Top_Pressure_Infrared\n",
      "103 Cloud_Optical_Thickness_16\n",
      "104 Cloud_Top_Temperature_Day\n",
      "105 Cloud_Effective_Emissivity_Night\n",
      "106 surface_temperature_1km\n",
      "107 Cloud_Water_Path_Uncertainty_1621\n",
      "108 Retrieval_Failure_Metric\n",
      "109 Cloud_Top_Temperature_Nadir_Night\n",
      "110 Cloud_Effective_Radius_16\n",
      "111 Retrieval_Failure_Metric_1621\n",
      "112 os_top_flag_1km\n",
      "113 cloud_emiss11_1km\n",
      "114 Surface_Temperature\n",
      "115 Cloud_Effective_Emissivity_Nadir_Night\n",
      "116 Cloud_Height_Method\n",
      "117 Cloud_Fraction_Night\n",
      "118 Quality_Assurance_5km\n",
      "119 Cloud_Phase_Infrared_1km\n",
      "120 Solar_Zenith_Day\n",
      "121 Cloud_Top_Temperature_Nadir\n",
      "122 Cloud_Water_Path_16_PCL\n",
      "123 Cloud_Top_Height\n",
      "124 Cloud_Effective_Emissivity_Nadir\n",
      "125 Cloud_Effective_Emissivity\n",
      "126 Cloud_Effective_Radius_Uncertainty_1621\n"
     ]
    }
   ],
   "source": [
    "datasets_dic = file.datasets()\n",
    "\n",
    "for idx,sds in enumerate(datasets_dic.keys()):\n",
    "    print idx,sds"
   ]
  },
  {
   "cell_type": "code",
   "execution_count": 8,
   "metadata": {},
   "outputs": [],
   "source": [
    "lat_obj = file.select('Latitude') # select sds\n",
    "lat = lat_obj.get()\n",
    "\n",
    "lon_obj = file.select('Longitude') # select sds\n",
    "lon = lon_obj.get()\n",
    "\n",
    "data_obj = file.select('Cloud_Fraction') # select sds\n",
    "data = data_obj.get()/100.\n",
    "\n",
    "starttime_obj = file.select('Scan_Start_Time') # select sds\n",
    "starttime = starttime_obj.get()\n",
    "\n",
    "brightness_temp_obj = file.select('Brightness_Temperature')\n",
    "brightness_temp = brightness_temp_obj.get()\n",
    "\n",
    "cloud_optical_thickness_obj = file.select('Cloud_Optical_Thickness')\n",
    "cloud_optical_thickness = cloud_optical_thickness_obj.get()\n",
    "\n",
    "quality_assurance_obj = file.select('Quality_Assurance_5km')\n",
    "quality_assurance = quality_assurance_obj.get()\n",
    "\n",
    "cloud_water_path_obj = file.select('Cloud_Water_Path')\n",
    "cloud_water_path = cloud_water_path_obj.get()\n"
   ]
  },
  {
   "cell_type": "code",
   "execution_count": 9,
   "metadata": {},
   "outputs": [
    {
     "name": "stdout",
     "output_type": "stream",
     "text": [
      "{'Cell_Across_Swath_Sampling': [3, 1348, 5],\n",
      " 'Cell_Along_Swath_Sampling': [3, 2028, 5],\n",
      " 'Geolocation_Pointer': 'Internal geolocation arrays',\n",
      " 'Parameter_Type': 'Output',\n",
      " '_FillValue': 127,\n",
      " 'add_offset': 0.0,\n",
      " 'long_name': 'Cloud Fraction in Retrieval Region (5x5 1-km Pixels) from 1-km Cloud Mask',\n",
      " 'scale_factor': 0.009999999776482582,\n",
      " 'units': 'none',\n",
      " 'valid_range': [0, 100]}\n"
     ]
    }
   ],
   "source": [
    "pprint.pprint( data_obj.attributes() )"
   ]
  },
  {
   "cell_type": "code",
   "execution_count": 8,
   "metadata": {},
   "outputs": [
    {
     "data": {
      "text/plain": [
       "[<matplotlib.lines.Line2D at 0x19c2e388>,\n",
       " <matplotlib.lines.Line2D at 0x19c2e208>,\n",
       " <matplotlib.lines.Line2D at 0x19c2e408>,\n",
       " <matplotlib.lines.Line2D at 0x19c2e608>,\n",
       " <matplotlib.lines.Line2D at 0x19c2e748>,\n",
       " <matplotlib.lines.Line2D at 0x19c2e888>,\n",
       " <matplotlib.lines.Line2D at 0x19c2e9c8>,\n",
       " <matplotlib.lines.Line2D at 0x19c2eb08>,\n",
       " <matplotlib.lines.Line2D at 0x19c2ec48>,\n",
       " <matplotlib.lines.Line2D at 0x19c2ed88>,\n",
       " <matplotlib.lines.Line2D at 0x19c2eec8>,\n",
       " <matplotlib.lines.Line2D at 0x19c3a048>,\n",
       " <matplotlib.lines.Line2D at 0x19c3a188>,\n",
       " <matplotlib.lines.Line2D at 0x19c3a2c8>,\n",
       " <matplotlib.lines.Line2D at 0x19c3a408>,\n",
       " <matplotlib.lines.Line2D at 0x19c3a548>,\n",
       " <matplotlib.lines.Line2D at 0x19c3a688>,\n",
       " <matplotlib.lines.Line2D at 0x19c3a7c8>,\n",
       " <matplotlib.lines.Line2D at 0x19c3a908>,\n",
       " <matplotlib.lines.Line2D at 0x19c3aa48>,\n",
       " <matplotlib.lines.Line2D at 0x19b6a988>,\n",
       " <matplotlib.lines.Line2D at 0x19c3acc8>,\n",
       " <matplotlib.lines.Line2D at 0x19c3ae08>,\n",
       " <matplotlib.lines.Line2D at 0x19c3af48>,\n",
       " <matplotlib.lines.Line2D at 0x19c410c8>,\n",
       " <matplotlib.lines.Line2D at 0x19c41208>,\n",
       " <matplotlib.lines.Line2D at 0x19c41348>,\n",
       " <matplotlib.lines.Line2D at 0x19c41488>,\n",
       " <matplotlib.lines.Line2D at 0x19c415c8>,\n",
       " <matplotlib.lines.Line2D at 0x19c41708>,\n",
       " <matplotlib.lines.Line2D at 0x19c3ab88>,\n",
       " <matplotlib.lines.Line2D at 0x19c41988>,\n",
       " <matplotlib.lines.Line2D at 0x19c41ac8>,\n",
       " <matplotlib.lines.Line2D at 0x19c41c08>,\n",
       " <matplotlib.lines.Line2D at 0x19c41d48>,\n",
       " <matplotlib.lines.Line2D at 0x19c41e88>,\n",
       " <matplotlib.lines.Line2D at 0x19c41fc8>,\n",
       " <matplotlib.lines.Line2D at 0x19c47148>,\n",
       " <matplotlib.lines.Line2D at 0x19c47288>,\n",
       " <matplotlib.lines.Line2D at 0x19c473c8>,\n",
       " <matplotlib.lines.Line2D at 0x19c41848>,\n",
       " <matplotlib.lines.Line2D at 0x19c47648>,\n",
       " <matplotlib.lines.Line2D at 0x19c47788>,\n",
       " <matplotlib.lines.Line2D at 0x19c478c8>,\n",
       " <matplotlib.lines.Line2D at 0x19c47a08>,\n",
       " <matplotlib.lines.Line2D at 0x19c47b48>,\n",
       " <matplotlib.lines.Line2D at 0x19c47c88>,\n",
       " <matplotlib.lines.Line2D at 0x19c47dc8>,\n",
       " <matplotlib.lines.Line2D at 0x19c47f08>,\n",
       " <matplotlib.lines.Line2D at 0x19c4f088>,\n",
       " <matplotlib.lines.Line2D at 0x19c47508>,\n",
       " <matplotlib.lines.Line2D at 0x19c4f308>,\n",
       " <matplotlib.lines.Line2D at 0x19c4f448>,\n",
       " <matplotlib.lines.Line2D at 0x19c4f588>,\n",
       " <matplotlib.lines.Line2D at 0x19c4f6c8>,\n",
       " <matplotlib.lines.Line2D at 0x19c4f808>,\n",
       " <matplotlib.lines.Line2D at 0x19c4f948>,\n",
       " <matplotlib.lines.Line2D at 0x19c4fa88>,\n",
       " <matplotlib.lines.Line2D at 0x19c4fbc8>,\n",
       " <matplotlib.lines.Line2D at 0x19c4fd08>,\n",
       " <matplotlib.lines.Line2D at 0x19c4f1c8>,\n",
       " <matplotlib.lines.Line2D at 0x19c4ff88>,\n",
       " <matplotlib.lines.Line2D at 0x19c56108>,\n",
       " <matplotlib.lines.Line2D at 0x19c56248>,\n",
       " <matplotlib.lines.Line2D at 0x19c56388>,\n",
       " <matplotlib.lines.Line2D at 0x19c564c8>,\n",
       " <matplotlib.lines.Line2D at 0x19c56608>,\n",
       " <matplotlib.lines.Line2D at 0x19c56748>,\n",
       " <matplotlib.lines.Line2D at 0x19c56888>,\n",
       " <matplotlib.lines.Line2D at 0x19c569c8>,\n",
       " <matplotlib.lines.Line2D at 0x19c4fe48>,\n",
       " <matplotlib.lines.Line2D at 0x19c56c48>,\n",
       " <matplotlib.lines.Line2D at 0x19c56d88>,\n",
       " <matplotlib.lines.Line2D at 0x19c56ec8>,\n",
       " <matplotlib.lines.Line2D at 0x19ca0048>,\n",
       " <matplotlib.lines.Line2D at 0x19ca0188>,\n",
       " <matplotlib.lines.Line2D at 0x19ca02c8>,\n",
       " <matplotlib.lines.Line2D at 0x19ca0408>,\n",
       " <matplotlib.lines.Line2D at 0x19ca0548>,\n",
       " <matplotlib.lines.Line2D at 0x19ca0688>,\n",
       " <matplotlib.lines.Line2D at 0x19c56b08>,\n",
       " <matplotlib.lines.Line2D at 0x19ca0908>,\n",
       " <matplotlib.lines.Line2D at 0x19ca0a48>,\n",
       " <matplotlib.lines.Line2D at 0x19ca0b88>,\n",
       " <matplotlib.lines.Line2D at 0x19ca0cc8>,\n",
       " <matplotlib.lines.Line2D at 0x19ca0e08>,\n",
       " <matplotlib.lines.Line2D at 0x19ca0f48>,\n",
       " <matplotlib.lines.Line2D at 0x19ca80c8>,\n",
       " <matplotlib.lines.Line2D at 0x19ca8208>,\n",
       " <matplotlib.lines.Line2D at 0x19ca8348>,\n",
       " <matplotlib.lines.Line2D at 0x19ca07c8>,\n",
       " <matplotlib.lines.Line2D at 0x19ca85c8>,\n",
       " <matplotlib.lines.Line2D at 0x19ca8708>,\n",
       " <matplotlib.lines.Line2D at 0x19ca8848>,\n",
       " <matplotlib.lines.Line2D at 0x19ca8988>,\n",
       " <matplotlib.lines.Line2D at 0x19ca8ac8>,\n",
       " <matplotlib.lines.Line2D at 0x19ca8c08>,\n",
       " <matplotlib.lines.Line2D at 0x19ca8d48>,\n",
       " <matplotlib.lines.Line2D at 0x19ca8e88>,\n",
       " <matplotlib.lines.Line2D at 0x19ca8fc8>,\n",
       " <matplotlib.lines.Line2D at 0x19ca8488>,\n",
       " <matplotlib.lines.Line2D at 0x19caf288>,\n",
       " <matplotlib.lines.Line2D at 0x19caf3c8>,\n",
       " <matplotlib.lines.Line2D at 0x19caf508>,\n",
       " <matplotlib.lines.Line2D at 0x19caf648>,\n",
       " <matplotlib.lines.Line2D at 0x19caf788>,\n",
       " <matplotlib.lines.Line2D at 0x19caf8c8>,\n",
       " <matplotlib.lines.Line2D at 0x19cafa08>,\n",
       " <matplotlib.lines.Line2D at 0x19cafb48>,\n",
       " <matplotlib.lines.Line2D at 0x19cafc88>,\n",
       " <matplotlib.lines.Line2D at 0x19caf148>,\n",
       " <matplotlib.lines.Line2D at 0x19caff08>,\n",
       " <matplotlib.lines.Line2D at 0x19cb6088>,\n",
       " <matplotlib.lines.Line2D at 0x19cb61c8>,\n",
       " <matplotlib.lines.Line2D at 0x19cb6308>,\n",
       " <matplotlib.lines.Line2D at 0x19cb6448>,\n",
       " <matplotlib.lines.Line2D at 0x19cb6588>,\n",
       " <matplotlib.lines.Line2D at 0x19cb66c8>,\n",
       " <matplotlib.lines.Line2D at 0x19cb6808>,\n",
       " <matplotlib.lines.Line2D at 0x19cb6948>,\n",
       " <matplotlib.lines.Line2D at 0x19cafdc8>,\n",
       " <matplotlib.lines.Line2D at 0x19cb6bc8>,\n",
       " <matplotlib.lines.Line2D at 0x19cb6d08>,\n",
       " <matplotlib.lines.Line2D at 0x19cb6e48>,\n",
       " <matplotlib.lines.Line2D at 0x19cb6f88>,\n",
       " <matplotlib.lines.Line2D at 0x19cbe108>,\n",
       " <matplotlib.lines.Line2D at 0x19cbe248>,\n",
       " <matplotlib.lines.Line2D at 0x19cbe388>,\n",
       " <matplotlib.lines.Line2D at 0x19cbe4c8>,\n",
       " <matplotlib.lines.Line2D at 0x19cbe608>,\n",
       " <matplotlib.lines.Line2D at 0x19cb6a88>,\n",
       " <matplotlib.lines.Line2D at 0x19cbe888>,\n",
       " <matplotlib.lines.Line2D at 0x19cbe9c8>,\n",
       " <matplotlib.lines.Line2D at 0x19cbeb08>,\n",
       " <matplotlib.lines.Line2D at 0x19cbec48>,\n",
       " <matplotlib.lines.Line2D at 0x19cbed88>,\n",
       " <matplotlib.lines.Line2D at 0x19cbeec8>,\n",
       " <matplotlib.lines.Line2D at 0x19cc4048>,\n",
       " <matplotlib.lines.Line2D at 0x19cc4188>,\n",
       " <matplotlib.lines.Line2D at 0x19cc42c8>,\n",
       " <matplotlib.lines.Line2D at 0x19cbe748>,\n",
       " <matplotlib.lines.Line2D at 0x19cc4548>,\n",
       " <matplotlib.lines.Line2D at 0x19cc4688>,\n",
       " <matplotlib.lines.Line2D at 0x19cc47c8>,\n",
       " <matplotlib.lines.Line2D at 0x19cc4908>,\n",
       " <matplotlib.lines.Line2D at 0x19cc4a48>,\n",
       " <matplotlib.lines.Line2D at 0x19cc4b88>,\n",
       " <matplotlib.lines.Line2D at 0x19cc4cc8>,\n",
       " <matplotlib.lines.Line2D at 0x19cc4e08>,\n",
       " <matplotlib.lines.Line2D at 0x19cc4f48>,\n",
       " <matplotlib.lines.Line2D at 0x19cc4408>,\n",
       " <matplotlib.lines.Line2D at 0x19ccc208>,\n",
       " <matplotlib.lines.Line2D at 0x19ccc348>,\n",
       " <matplotlib.lines.Line2D at 0x19ccc488>,\n",
       " <matplotlib.lines.Line2D at 0x19ccc5c8>,\n",
       " <matplotlib.lines.Line2D at 0x19ccc708>,\n",
       " <matplotlib.lines.Line2D at 0x19ccc848>,\n",
       " <matplotlib.lines.Line2D at 0x19ccc988>,\n",
       " <matplotlib.lines.Line2D at 0x19cccac8>,\n",
       " <matplotlib.lines.Line2D at 0x19cccc08>,\n",
       " <matplotlib.lines.Line2D at 0x19ccc0c8>,\n",
       " <matplotlib.lines.Line2D at 0x19ccce88>,\n",
       " <matplotlib.lines.Line2D at 0x19cccfc8>,\n",
       " <matplotlib.lines.Line2D at 0x19cd2148>,\n",
       " <matplotlib.lines.Line2D at 0x19cd2288>,\n",
       " <matplotlib.lines.Line2D at 0x19cd23c8>,\n",
       " <matplotlib.lines.Line2D at 0x19cd2508>,\n",
       " <matplotlib.lines.Line2D at 0x19cd2648>,\n",
       " <matplotlib.lines.Line2D at 0x19cd2788>,\n",
       " <matplotlib.lines.Line2D at 0x19cd28c8>,\n",
       " <matplotlib.lines.Line2D at 0x19cccd48>,\n",
       " <matplotlib.lines.Line2D at 0x19cd2b48>,\n",
       " <matplotlib.lines.Line2D at 0x19cd2c88>,\n",
       " <matplotlib.lines.Line2D at 0x19cd2dc8>,\n",
       " <matplotlib.lines.Line2D at 0x19cd2f08>,\n",
       " <matplotlib.lines.Line2D at 0x19cda088>,\n",
       " <matplotlib.lines.Line2D at 0x19cda1c8>,\n",
       " <matplotlib.lines.Line2D at 0x19cda308>,\n",
       " <matplotlib.lines.Line2D at 0x19cda448>,\n",
       " <matplotlib.lines.Line2D at 0x19cda588>,\n",
       " <matplotlib.lines.Line2D at 0x19cd2a08>,\n",
       " <matplotlib.lines.Line2D at 0x19cda808>,\n",
       " <matplotlib.lines.Line2D at 0x19cda948>,\n",
       " <matplotlib.lines.Line2D at 0x19cdaa88>,\n",
       " <matplotlib.lines.Line2D at 0x19cdabc8>,\n",
       " <matplotlib.lines.Line2D at 0x19cdad08>,\n",
       " <matplotlib.lines.Line2D at 0x19cdae48>,\n",
       " <matplotlib.lines.Line2D at 0x19cdaf88>,\n",
       " <matplotlib.lines.Line2D at 0x19d24108>,\n",
       " <matplotlib.lines.Line2D at 0x19d24248>,\n",
       " <matplotlib.lines.Line2D at 0x19cda6c8>,\n",
       " <matplotlib.lines.Line2D at 0x19d244c8>,\n",
       " <matplotlib.lines.Line2D at 0x19d24608>,\n",
       " <matplotlib.lines.Line2D at 0x19d24748>,\n",
       " <matplotlib.lines.Line2D at 0x19d24888>,\n",
       " <matplotlib.lines.Line2D at 0x19d249c8>,\n",
       " <matplotlib.lines.Line2D at 0x19d24b08>,\n",
       " <matplotlib.lines.Line2D at 0x19d24c48>,\n",
       " <matplotlib.lines.Line2D at 0x19d24d88>,\n",
       " <matplotlib.lines.Line2D at 0x19d24ec8>,\n",
       " <matplotlib.lines.Line2D at 0x19d24388>,\n",
       " <matplotlib.lines.Line2D at 0x19d2b188>,\n",
       " <matplotlib.lines.Line2D at 0x19d2b2c8>,\n",
       " <matplotlib.lines.Line2D at 0x19d2b408>,\n",
       " <matplotlib.lines.Line2D at 0x19d2b548>,\n",
       " <matplotlib.lines.Line2D at 0x19d2b688>,\n",
       " <matplotlib.lines.Line2D at 0x19d2b7c8>,\n",
       " <matplotlib.lines.Line2D at 0x19d2b908>,\n",
       " <matplotlib.lines.Line2D at 0x19d2ba48>,\n",
       " <matplotlib.lines.Line2D at 0x19d2bb88>,\n",
       " <matplotlib.lines.Line2D at 0x19d2b048>,\n",
       " <matplotlib.lines.Line2D at 0x19d2be08>,\n",
       " <matplotlib.lines.Line2D at 0x19d2bf48>,\n",
       " <matplotlib.lines.Line2D at 0x19d320c8>,\n",
       " <matplotlib.lines.Line2D at 0x19d32208>,\n",
       " <matplotlib.lines.Line2D at 0x19d32348>,\n",
       " <matplotlib.lines.Line2D at 0x19d32488>,\n",
       " <matplotlib.lines.Line2D at 0x19d325c8>,\n",
       " <matplotlib.lines.Line2D at 0x19d32708>,\n",
       " <matplotlib.lines.Line2D at 0x19d32848>,\n",
       " <matplotlib.lines.Line2D at 0x19d2bcc8>,\n",
       " <matplotlib.lines.Line2D at 0x19d32ac8>,\n",
       " <matplotlib.lines.Line2D at 0x19d32c08>,\n",
       " <matplotlib.lines.Line2D at 0x19d32d48>,\n",
       " <matplotlib.lines.Line2D at 0x19d32e88>,\n",
       " <matplotlib.lines.Line2D at 0x19d32fc8>,\n",
       " <matplotlib.lines.Line2D at 0x19d39148>,\n",
       " <matplotlib.lines.Line2D at 0x19d39288>,\n",
       " <matplotlib.lines.Line2D at 0x19d393c8>,\n",
       " <matplotlib.lines.Line2D at 0x19d39508>,\n",
       " <matplotlib.lines.Line2D at 0x19d32988>,\n",
       " <matplotlib.lines.Line2D at 0x19d39788>,\n",
       " <matplotlib.lines.Line2D at 0x19d398c8>,\n",
       " <matplotlib.lines.Line2D at 0x19d39a08>,\n",
       " <matplotlib.lines.Line2D at 0x19d39b48>,\n",
       " <matplotlib.lines.Line2D at 0x19d39c88>,\n",
       " <matplotlib.lines.Line2D at 0x19d39dc8>,\n",
       " <matplotlib.lines.Line2D at 0x19d39f08>,\n",
       " <matplotlib.lines.Line2D at 0x19d40088>,\n",
       " <matplotlib.lines.Line2D at 0x19d401c8>,\n",
       " <matplotlib.lines.Line2D at 0x19d39648>,\n",
       " <matplotlib.lines.Line2D at 0x19d40448>,\n",
       " <matplotlib.lines.Line2D at 0x19d40588>,\n",
       " <matplotlib.lines.Line2D at 0x19d406c8>,\n",
       " <matplotlib.lines.Line2D at 0x19d40808>,\n",
       " <matplotlib.lines.Line2D at 0x19d40948>,\n",
       " <matplotlib.lines.Line2D at 0x19d40a88>,\n",
       " <matplotlib.lines.Line2D at 0x19d40bc8>,\n",
       " <matplotlib.lines.Line2D at 0x19d40d08>,\n",
       " <matplotlib.lines.Line2D at 0x19d40e48>,\n",
       " <matplotlib.lines.Line2D at 0x19d40308>,\n",
       " <matplotlib.lines.Line2D at 0x19d48108>,\n",
       " <matplotlib.lines.Line2D at 0x19d48248>,\n",
       " <matplotlib.lines.Line2D at 0x19d48388>,\n",
       " <matplotlib.lines.Line2D at 0x19d484c8>,\n",
       " <matplotlib.lines.Line2D at 0x19d48608>,\n",
       " <matplotlib.lines.Line2D at 0x19d48748>,\n",
       " <matplotlib.lines.Line2D at 0x19d48888>,\n",
       " <matplotlib.lines.Line2D at 0x19d489c8>,\n",
       " <matplotlib.lines.Line2D at 0x19d48b08>,\n",
       " <matplotlib.lines.Line2D at 0x19d40f88>,\n",
       " <matplotlib.lines.Line2D at 0x19d48d88>,\n",
       " <matplotlib.lines.Line2D at 0x19d48ec8>,\n",
       " <matplotlib.lines.Line2D at 0x19d4e048>,\n",
       " <matplotlib.lines.Line2D at 0x19d4e188>,\n",
       " <matplotlib.lines.Line2D at 0x19d4e2c8>,\n",
       " <matplotlib.lines.Line2D at 0x19d4e408>,\n",
       " <matplotlib.lines.Line2D at 0x19d4e548>,\n",
       " <matplotlib.lines.Line2D at 0x19d4e688>,\n",
       " <matplotlib.lines.Line2D at 0x19d4e7c8>]"
      ]
     },
     "execution_count": 8,
     "metadata": {},
     "output_type": "execute_result"
    }
   ],
   "source": [
    "plt.figure()\n",
    "plt.plot(data)"
   ]
  },
  {
   "cell_type": "code",
   "execution_count": 10,
   "metadata": {},
   "outputs": [
    {
     "name": "stdout",
     "output_type": "stream",
     "text": [
      "-179.70644 179.83208\n",
      "65.42532 89.933624\n",
      "406 406\n"
     ]
    }
   ],
   "source": [
    "lonmin = lon.min()\n",
    "lonmax = lon.max()\n",
    "latmin = lat.min()\n",
    "latmax = lat.max()\n",
    "print lonmin, lonmax\n",
    "print latmin, latmax\n",
    "print len(lon), len(lat)"
   ]
  },
  {
   "cell_type": "code",
   "execution_count": 11,
   "metadata": {},
   "outputs": [],
   "source": [
    "delta = 0.1\n",
    "rows, cols = np.where((abs(lat - 72.) <= delta) & (abs(lon - -38) <= delta))"
   ]
  },
  {
   "cell_type": "code",
   "execution_count": 13,
   "metadata": {},
   "outputs": [],
   "source": [
    "latsub = lat[rows][:,cols]\n",
    "lonsub = lon[rows][:,cols]\n",
    "datasub = data[rows][:,cols]\n",
    "#qualitysub = quality[rows][:,cols]"
   ]
  },
  {
   "cell_type": "code",
   "execution_count": 14,
   "metadata": {},
   "outputs": [
    {
     "ename": "ValueError",
     "evalue": "zero-size array to reduction operation maximum which has no identity",
     "output_type": "error",
     "traceback": [
      "\u001b[1;31m---------------------------------------------------------------------------\u001b[0m",
      "\u001b[1;31mValueError\u001b[0m                                Traceback (most recent call last)",
      "\u001b[1;32m<ipython-input-14-aa47a8dfb90a>\u001b[0m in \u001b[0;36m<module>\u001b[1;34m()\u001b[0m\n\u001b[0;32m      2\u001b[0m \u001b[0mplt\u001b[0m\u001b[1;33m.\u001b[0m\u001b[0mpcolormesh\u001b[0m\u001b[1;33m(\u001b[0m\u001b[0mlon\u001b[0m\u001b[1;33m,\u001b[0m \u001b[0mlat\u001b[0m\u001b[1;33m,\u001b[0m \u001b[0mdata\u001b[0m\u001b[1;33m,\u001b[0m \u001b[0mcmap\u001b[0m\u001b[1;33m=\u001b[0m\u001b[1;34m'jet'\u001b[0m\u001b[1;33m)\u001b[0m\u001b[1;33m\u001b[0m\u001b[0m\n\u001b[0;32m      3\u001b[0m \u001b[0mplt\u001b[0m\u001b[1;33m.\u001b[0m\u001b[0mcolorbar\u001b[0m\u001b[1;33m(\u001b[0m\u001b[0mlabel\u001b[0m \u001b[1;33m=\u001b[0m \u001b[1;34m'cloud fraction'\u001b[0m\u001b[1;33m)\u001b[0m\u001b[1;33m\u001b[0m\u001b[0m\n\u001b[1;32m----> 4\u001b[1;33m \u001b[0mplt\u001b[0m\u001b[1;33m.\u001b[0m\u001b[0mclim\u001b[0m\u001b[1;33m(\u001b[0m\u001b[1;36m0.\u001b[0m\u001b[1;33m,\u001b[0m\u001b[0mdatasub\u001b[0m\u001b[1;33m.\u001b[0m\u001b[0mmax\u001b[0m\u001b[1;33m(\u001b[0m\u001b[1;33m)\u001b[0m\u001b[1;33m)\u001b[0m\u001b[1;33m\u001b[0m\u001b[0m\n\u001b[0m\u001b[0;32m      5\u001b[0m \u001b[1;31m#plt.axis([lonmin, lonmax, latmin, latmax])\u001b[0m\u001b[1;33m\u001b[0m\u001b[1;33m\u001b[0m\u001b[0m\n\u001b[0;32m      6\u001b[0m \u001b[0mplt\u001b[0m\u001b[1;33m.\u001b[0m\u001b[0mylabel\u001b[0m\u001b[1;33m(\u001b[0m\u001b[1;34m'latitude (deg)'\u001b[0m\u001b[1;33m)\u001b[0m\u001b[1;33m\u001b[0m\u001b[0m\n",
      "\u001b[1;32mC:\\Users\\akkap\\anaconda3\\envs\\py27\\lib\\site-packages\\numpy\\core\\_methods.pyc\u001b[0m in \u001b[0;36m_amax\u001b[1;34m(a, axis, out, keepdims, initial)\u001b[0m\n\u001b[0;32m     26\u001b[0m def _amax(a, axis=None, out=None, keepdims=False,\n\u001b[0;32m     27\u001b[0m           initial=_NoValue):\n\u001b[1;32m---> 28\u001b[1;33m     \u001b[1;32mreturn\u001b[0m \u001b[0mumr_maximum\u001b[0m\u001b[1;33m(\u001b[0m\u001b[0ma\u001b[0m\u001b[1;33m,\u001b[0m \u001b[0maxis\u001b[0m\u001b[1;33m,\u001b[0m \u001b[0mNone\u001b[0m\u001b[1;33m,\u001b[0m \u001b[0mout\u001b[0m\u001b[1;33m,\u001b[0m \u001b[0mkeepdims\u001b[0m\u001b[1;33m,\u001b[0m \u001b[0minitial\u001b[0m\u001b[1;33m)\u001b[0m\u001b[1;33m\u001b[0m\u001b[0m\n\u001b[0m\u001b[0;32m     29\u001b[0m \u001b[1;33m\u001b[0m\u001b[0m\n\u001b[0;32m     30\u001b[0m def _amin(a, axis=None, out=None, keepdims=False,\n",
      "\u001b[1;31mValueError\u001b[0m: zero-size array to reduction operation maximum which has no identity"
     ]
    }
   ],
   "source": [
    "plt.figure()\n",
    "plt.pcolormesh(lon, lat, data, cmap='jet')\n",
    "plt.colorbar(label = 'cloud fraction')\n",
    "plt.clim(0.,datasub.max())\n",
    "#plt.axis([lonmin, lonmax, latmin, latmax])\n",
    "plt.ylabel('latitude (deg)')\n",
    "plt.xlabel('longitude (deg)')\n",
    "#plt.title('%s %s data binned to azimuth and revolution #' % (name, var))\n",
    "plt.grid()\n",
    "plt.show()"
   ]
  },
  {
   "cell_type": "code",
   "execution_count": 15,
   "metadata": {},
   "outputs": [],
   "source": [
    "latstepdeg = 1.\n",
    "longsetdeg = 1.\n",
    "startday = 1\n",
    "scalefactor = 100."
   ]
  },
  {
   "cell_type": "code",
   "execution_count": 16,
   "metadata": {},
   "outputs": [],
   "source": [
    "summit_lon = -38.4592\n",
    "summit_lat = 72.5796"
   ]
  },
  {
   "cell_type": "code",
   "execution_count": 6,
   "metadata": {},
   "outputs": [
    {
     "name": "stdout",
     "output_type": "stream",
     "text": [
      "total number of files: 1957\n",
      "passed: checksums_501552069\n",
      "Percent complete: 0.26, time elapsed: 0.03 min"
     ]
    },
    {
     "name": "stderr",
     "output_type": "stream",
     "text": [
      "C:\\Users\\akkap\\anaconda3\\envs\\py27\\lib\\site-packages\\ipykernel_launcher.py:72: RuntimeWarning: Mean of empty slice.\n",
      "C:\\Users\\akkap\\anaconda3\\envs\\py27\\lib\\site-packages\\numpy\\core\\_methods.py:85: RuntimeWarning: invalid value encountered in double_scalars\n",
      "  ret = ret.dtype.type(ret / rcount)\n",
      "C:\\Users\\akkap\\anaconda3\\envs\\py27\\lib\\site-packages\\ipykernel_launcher.py:73: RuntimeWarning: Mean of empty slice.\n"
     ]
    },
    {
     "name": "stdout",
     "output_type": "stream",
     "text": [
      "Percent complete: 99.54, time elapsed: 14.99 min904.067000151\n"
     ]
    }
   ],
   "source": [
    "y = 2018\n",
    "season = 'winter'\n",
    "directory = 'D:/software_git_repos/polaris/polaris_data/weather_data/MODIS/cloud/%d/%s/' % (y, season)\n",
    "files = listdir(directory)\n",
    "\n",
    "cloud_fraction = []\n",
    "TIME = []\n",
    "quality_assurance = []\n",
    "latitude = []\n",
    "longitude = []\n",
    "brightness_temp = []\n",
    "water_path = []\n",
    "optical_thickness = []\n",
    "numfiles = 0\n",
    "\n",
    "print 'total number of files: %d' % len(files)\n",
    "t1 = time.time()\n",
    "for f in files:\n",
    "    \n",
    "    numfiles += 1\n",
    "    \n",
    "    try:\n",
    "        file = SD(directory+f, SDC.READ)\n",
    "    except:\n",
    "        print 'passed: %s' % f\n",
    "        continue\n",
    "        \n",
    "    lat_obj = file.select('Latitude') # select sds\n",
    "    lat = lat_obj.get()\n",
    "\n",
    "    lon_obj = file.select('Longitude') # select sds\n",
    "    lon = lon_obj.get()\n",
    "    \n",
    "    delta = 0.05\n",
    "    rows, cols = np.where((abs(lat - summit_lat) <= delta) & (abs(lon - summit_lon) <= delta))\n",
    "\n",
    "    if len(rows) == 0 or len(cols) == 0:\n",
    "        continue\n",
    "        #print '# files: %d, ' % numfiles, f\n",
    "\n",
    "\n",
    "    data_obj = file.select('Cloud_Fraction') # select sds\n",
    "    data = data_obj.get()/100.\n",
    "\n",
    "    starttime_obj = file.select('Scan_Start_Time') # select sds\n",
    "    starttime = starttime_obj.get()\n",
    "\n",
    "    #brightness_temp_obj = file.select('Brightness_Temperature')\n",
    "    #cloud_brightness_temp = brightness_temp_obj.get()\n",
    "\n",
    "    cloud_optical_thickness_obj = file.select('Cloud_Optical_Thickness')\n",
    "    cloud_optical_thickness = cloud_optical_thickness_obj.get()\n",
    "\n",
    "    quality_assurance_obj = file.select('Quality_Assurance_5km')\n",
    "    quality = quality_assurance_obj.get()\n",
    "\n",
    "    cloud_water_path_obj = file.select('Cloud_Water_Path')\n",
    "    cloud_water_path = cloud_water_path_obj.get()\n",
    "    \n",
    "    datasub = data[rows][:,cols]\n",
    "    timesub = starttime[rows][:,cols]\n",
    "    qualitysub = quality[rows][:,cols]\n",
    "    lonsub = lon[rows][:,cols]\n",
    "    latsub = lat[rows][:,cols]\n",
    "    #btempsub = cloud_brightness_temp[rows][:,cols]\n",
    "    othicksub = cloud_optical_thickness[rows][:,cols]\n",
    "    wpathsub = cloud_water_path[rows][:,cols]\n",
    "    \n",
    "    \n",
    "    cloud_fraction.append(datasub[datasub>=0.].mean())\n",
    "    #brightness_temp.append(btempsub[btempsub>=0.].mean())\n",
    "    optical_thickness.append(othicksub[othicksub>=0.].mean())\n",
    "    water_path.append(wpathsub[wpathsub>=0.].mean())\n",
    "    TIME.append(timesub.mean())\n",
    "    quality_assurance.append(qualitysub)\n",
    "    latitude.append(latsub)\n",
    "    longitude.append(lonsub)\n",
    "    \n",
    "        \n",
    "    sys.stdout.write(\"\\rPercent complete: %.2f, time elapsed: %.2f min\" % ((float(numfiles) * 100. / float(len(files))), (time.time()-t1)/60.))\n",
    "    sys.stdout.flush()\n",
    "        \n",
    "t2 = time.time()\n",
    "print t2-t1\n",
    "cloud_fraction = np.asarray(cloud_fraction)\n",
    "TIME = np.asarray(TIME)\n",
    "#brightness_temp = np.asarray(brightness_temp)\n",
    "water_path = np.asarray(water_path)\n",
    "optical_thickness = np.asarray(optical_thickness)\n",
    "latitude = np.asarray(latitude)\n",
    "longitude = np.asarray(longitude)\n",
    "quality_assurance = np.asarray(quality_assurance)"
   ]
  },
  {
   "cell_type": "code",
   "execution_count": 149,
   "metadata": {},
   "outputs": [],
   "source": [
    "lat_diff = []\n",
    "for i in range(len(latitude)):\n",
    "    if len(latitude[i]) > 1:\n",
    "        for j in range(len(latitude[i])):\n",
    "            if len(latitude[i][j]) > 1:\n",
    "                for k in range(len(latitude[i][j])):\n",
    "                    lat_diff.append(latitude[i][j][k] - summit_lat)\n",
    "            else:\n",
    "                lat_diff.append(latitude[i][j] - summit_lat)\n",
    "    else:\n",
    "        lat_diff.append(latitude[i] - summit_lat)\n",
    "        \n",
    "lat_diff = np.asarray(lat_diff)"
   ]
  },
  {
   "cell_type": "code",
   "execution_count": 150,
   "metadata": {},
   "outputs": [
    {
     "name": "stdout",
     "output_type": "stream",
     "text": [
      "0.03175864257812577\n"
     ]
    }
   ],
   "source": [
    "print lat_diff[1]"
   ]
  },
  {
   "cell_type": "code",
   "execution_count": 151,
   "metadata": {},
   "outputs": [
    {
     "data": {
      "text/plain": [
       "Text(0.5,1,'max diff = 0.05, min diff = -0.05')"
      ]
     },
     "execution_count": 151,
     "metadata": {},
     "output_type": "execute_result"
    }
   ],
   "source": [
    "plt.figure()\n",
    "plt.plot(lat_diff)\n",
    "plt.ylabel('lat diff')\n",
    "plt.title('max diff = %.2f, min diff = %.2f' % (lat_diff.max(), lat_diff.min()))"
   ]
  },
  {
   "cell_type": "code",
   "execution_count": 28,
   "metadata": {},
   "outputs": [
    {
     "data": {
      "text/plain": [
       "[<matplotlib.lines.Line2D at 0x1f790448>]"
      ]
     },
     "execution_count": 28,
     "metadata": {},
     "output_type": "execute_result"
    }
   ],
   "source": [
    "plt.figure()\n",
    "plt.plot(TIME, cloud_fraction)"
   ]
  },
  {
   "cell_type": "code",
   "execution_count": 7,
   "metadata": {},
   "outputs": [],
   "source": [
    "doysecoffset= 23*60*60*24*365 + 7*60*60*24 - 17*60*60 - 60 - 5.761243\n",
    "tt = TIME + doysecoffset\n"
   ]
  },
  {
   "cell_type": "code",
   "execution_count": 8,
   "metadata": {},
   "outputs": [],
   "source": [
    "h5data = pd.DataFrame({\"cloud fraction\" : cloud_fraction})\n",
    "h5data[\"time\"] = tt\n",
    "h5data[\"water path\"] = water_path \n",
    "h5data[\"optical thickness\"] = optical_thickness \n",
    "#h5data[\"latitude\"] = latitude \n",
    "#h5data[\"longitude\"] = longitude \n",
    "#h5data[\"quality assurance\"] = quality_assurance "
   ]
  },
  {
   "cell_type": "code",
   "execution_count": 9,
   "metadata": {},
   "outputs": [
    {
     "name": "stdout",
     "output_type": "stream",
     "text": [
      "2017-12-01 03:18:43.544487\n",
      "2018-02-28 12:57:41.398113\n"
     ]
    }
   ],
   "source": [
    "starttime = datetime.fromtimestamp(tt[0])\n",
    "endtime = datetime.fromtimestamp(tt[-1])\n",
    "print starttime\n",
    "print endtime"
   ]
  },
  {
   "cell_type": "code",
   "execution_count": 10,
   "metadata": {},
   "outputs": [
    {
     "name": "stdout",
     "output_type": "stream",
     "text": [
      "2018/1201-0228.h5\n"
     ]
    }
   ],
   "source": [
    "write_file(h5data, starttime, endtime)"
   ]
  },
  {
   "cell_type": "code",
   "execution_count": 4,
   "metadata": {},
   "outputs": [],
   "source": [
    "TIME = {}\n",
    "pwv = {}\n",
    "cloudy_fraction = {}\n",
    "year = [2018]\n",
    "\n",
    "for y in year:\n",
    "    fpath = \"D:/software_git_repos/polaris/polaris_data/weather_data/MODIS/cloud/reduced/%s/\" % y\n",
    "    files = listdir(fpath)\n",
    "    TIME[y] = {}\n",
    "    pwv[y] = {}\n",
    "    cloudy_fraction[y] = {}\n",
    "    for f in files:\n",
    "        dset = h5py.File(fpath+f, 'r')['data']\n",
    "        \n",
    "        if f[:2] == '12':\n",
    "            season = 'winter'\n",
    "        else:\n",
    "            season = 'summer'\n",
    "            \n",
    "        cloudy_fraction[y][season] = dset['cloud fraction']\n",
    "        TIME[y][season] = dset['time']\n",
    "        #pwv[y][season] = dset['pwv']"
   ]
  },
  {
   "cell_type": "code",
   "execution_count": 5,
   "metadata": {},
   "outputs": [
    {
     "data": {
      "text/plain": [
       "[<matplotlib.lines.Line2D at 0x19572f88>]"
      ]
     },
     "execution_count": 5,
     "metadata": {},
     "output_type": "execute_result"
    }
   ],
   "source": [
    "y = 2018\n",
    "s = 'winter'\n",
    "plt.figure()\n",
    "plt.plot(cloudy_fraction[y][s])"
   ]
  },
  {
   "cell_type": "code",
   "execution_count": 6,
   "metadata": {},
   "outputs": [],
   "source": [
    "cloudmean = {}\n",
    "tcloudmean = {}\n",
    "season = ['winter']\n",
    "i0=0\n",
    "for y in year:\n",
    "    tcloudmean[y] = {}\n",
    "    cloudmean[y] = {}\n",
    "    for s in season:\n",
    "        cf = cloudy_fraction[y][s][np.logical_not(np.isnan(cloudy_fraction[y][s]))]\n",
    "        ti = TIME[y][s][np.logical_not(np.isnan(TIME[y][s]))]\n",
    "        cmean = []\n",
    "        tmean = []\n",
    "        t = TIME[y][s]\n",
    "        for h in range(len(t)):\n",
    "            if t[h] - t[i0] >= 3600*24:\n",
    "                cmean.append(cf[i0:h+1].mean())\n",
    "                tmean.append(ti[i0:h+1].mean())\n",
    "                i0=h+1\n",
    "            if i0<len(t):\n",
    "                cmean.append(cf[i0:len(t)+1].mean())\n",
    "                tmean.append(ti[i0:len(t)+1].mean())\n",
    "        i0 = 0\n",
    "        cloudmean[y][s] = np.asarray(cmean)\n",
    "        tcloudmean[y][s] = np.asarray(tmean)"
   ]
  },
  {
   "cell_type": "code",
   "execution_count": 9,
   "metadata": {},
   "outputs": [
    {
     "name": "stdout",
     "output_type": "stream",
     "text": [
      "2018-02-28 12:57:41.398113\n"
     ]
    }
   ],
   "source": [
    "print datetime.fromtimestamp(tcloudmean[2018]['winter'][-1])"
   ]
  },
  {
   "cell_type": "code",
   "execution_count": 10,
   "metadata": {},
   "outputs": [
    {
     "name": "stdout",
     "output_type": "stream",
     "text": [
      "2018 winter\n",
      "475\n",
      "475\n",
      "---------------\n"
     ]
    }
   ],
   "source": [
    "for y in year:\n",
    "    for s in season:\n",
    "        print y, s\n",
    "        #print len(pwvmean[y][s])\n",
    "        print len(tcloudmean[y][s])\n",
    "        print len(cloudmean[y][s])\n",
    "        print '---------------'"
   ]
  },
  {
   "cell_type": "code",
   "execution_count": null,
   "metadata": {},
   "outputs": [
    {
     "data": {
      "text/plain": [
       "[<matplotlib.lines.Line2D at 0x44ba448>]"
      ]
     },
     "execution_count": 11,
     "metadata": {},
     "output_type": "execute_result"
    }
   ],
   "source": [
    "plt.figure()\n",
    "plt.plot(cloudmean[2018]['winter'])"
   ]
  },
  {
   "cell_type": "code",
   "execution_count": 23,
   "metadata": {},
   "outputs": [
    {
     "name": "stdout",
     "output_type": "stream",
     "text": [
      "(409L,) (475L,)\n"
     ]
    }
   ],
   "source": [
    "print cloudy_fraction[y][s].shape, cloudmean[y][s].shape"
   ]
  },
  {
   "cell_type": "code",
   "execution_count": 29,
   "metadata": {},
   "outputs": [
    {
     "name": "stdout",
     "output_type": "stream",
     "text": [
      "2018 winter\n"
     ]
    }
   ],
   "source": [
    "scale = 1.\n",
    "bins=50\n",
    "plt.figure()\n",
    "i = 0\n",
    "plt.suptitle('Summit cloudy fraction, Prob(cloudy fraction $>$ x)')\n",
    "\n",
    "for y in year:\n",
    "    \n",
    "    #plt.subplot(3, 2, i+1)\n",
    "    i += 1\n",
    "    for s in season:\n",
    "        print y, s\n",
    "        values, base = np.histogram(cloudy_fraction[y][s], bins=bins, density=True)\n",
    "        cumulative = np.cumsum(values)\n",
    "        cumu = cumulative/cumulative.max()\n",
    "        cumu_I = 1-cumu\n",
    "        if s == 'winter':\n",
    "            plt.plot(base[:-1]*scale, cumu_I*100, '--', linewidth = 2, label = ' %s %d' % (s, y))\n",
    "        else:\n",
    "            plt.plot(base[:-1]*scale, cumu_I*100, linewidth = 2, label = ' %s %d' % (s, y))\n",
    "    \n",
    "    if y >= 2017:\n",
    "        plt.xlabel('cloudy sky fraction')\n",
    "    if (y % 2) == 1:\n",
    "        plt.ylabel('Cumulative Distribution (%)')\n",
    "    #plt.ylim([0, 80])\n",
    "    plt.xlim([0, 1.1])\n",
    "    plt.legend()\n",
    "    plt.grid()\n",
    "plt.show()"
   ]
  },
  {
   "cell_type": "code",
   "execution_count": 171,
   "metadata": {},
   "outputs": [
    {
     "name": "stdout",
     "output_type": "stream",
     "text": [
      "winter\n"
     ]
    }
   ],
   "source": [
    "print season"
   ]
  },
  {
   "cell_type": "code",
   "execution_count": 173,
   "metadata": {},
   "outputs": [
    {
     "name": "stdout",
     "output_type": "stream",
     "text": [
      "2013 summer\n",
      "2013 winter\n",
      "2014 summer\n",
      "2014 winter\n",
      "2015 summer\n",
      "2015 winter\n",
      "2016 summer\n",
      "2016 winter\n",
      "2017 summer\n",
      "2017 winter\n",
      "2018 summer\n",
      "2018 winter\n"
     ]
    }
   ],
   "source": [
    "scale = 1.\n",
    "bins=50\n",
    "plt.figure()\n",
    "i = 0\n",
    "plt.suptitle('Summit PWV daily averages, Prob(cloudy fraction $>$ x)')\n",
    "\n",
    "for y in year:\n",
    "    \n",
    "    plt.subplot(3, 2, i+1)\n",
    "    i += 1\n",
    "    for s in season:\n",
    "        print y, s\n",
    "        values, base = np.histogram(pwvmean[y][s], bins=bins, density=True)\n",
    "        cumulative = np.cumsum(values)\n",
    "        cumu = cumulative/cumulative.max()\n",
    "        cumu_I = 1. - cumu\n",
    "        if s == 'winter':\n",
    "            plt.plot(base[:-1]*scale, cumu_I*100, '--', linewidth = 2, label = ' %s %d' % (s, y))\n",
    "        else:\n",
    "            plt.plot(base[:-1]*scale, cumu_I*100, linewidth = 2, label = ' %s %d' % (s, y))\n",
    "    \n",
    "    if y >= 2017:\n",
    "        plt.xlabel('PWV (mm)')\n",
    "    if (y % 2) == 1:\n",
    "        plt.ylabel('Cumulative Distribution (%)')\n",
    "    #plt.ylim([0, 80])\n",
    "    plt.xlim([0, 1.1])\n",
    "    plt.legend()\n",
    "    plt.grid()\n",
    "plt.show()"
   ]
  },
  {
   "cell_type": "code",
   "execution_count": 177,
   "metadata": {},
   "outputs": [
    {
     "name": "stdout",
     "output_type": "stream",
     "text": [
      "[1.500625   2.49055556 2.29916667]\n",
      "(10L,)\n"
     ]
    }
   ],
   "source": [
    "print pwvmean[2018]['summer']\n",
    "print pwvmean[2018]['winter'].shape"
   ]
  },
  {
   "cell_type": "code",
   "execution_count": 163,
   "metadata": {},
   "outputs": [],
   "source": [
    "#y = 2018\n",
    "bins = 50\n",
    "minimum = 0.5\n",
    "maximum = 1\n",
    "plt.figure()\n",
    "for i in range(len(year)):\n",
    "    plt.subplot(3, 2, i+1)\n",
    "    s = 'summer'\n",
    "    plt.hist(cloudmean[year[i]][s], bins = bins, range = (minimum, maximum), label='%s %d' % (s, year[i])) \n",
    "    s = 'winter'\n",
    "    plt.hist(cloudmean[year[i]][s], bins = bins, range = (minimum, maximum), label='%s %d' % (s, year[i])) \n",
    "    #if i >= 2:\n",
    "    plt.xlabel('cloudy sky fraction')\n",
    "    #if i == 0 or i == 2:\n",
    "    plt.ylabel('counts')\n",
    "    plt.legend()\n",
    "    plt.grid()"
   ]
  },
  {
   "cell_type": "code",
   "execution_count": null,
   "metadata": {},
   "outputs": [],
   "source": []
  }
 ],
 "metadata": {
  "kernelspec": {
   "display_name": "Python 2",
   "language": "python",
   "name": "python2"
  },
  "language_info": {
   "codemirror_mode": {
    "name": "ipython",
    "version": 2
   },
   "file_extension": ".py",
   "mimetype": "text/x-python",
   "name": "python",
   "nbconvert_exporter": "python",
   "pygments_lexer": "ipython2",
   "version": "2.7.18"
  }
 },
 "nbformat": 4,
 "nbformat_minor": 2
}
