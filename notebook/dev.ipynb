{
 "cells": [
  {
   "cell_type": "code",
   "execution_count": 123,
   "metadata": {},
   "outputs": [
    {
     "name": "stdout",
     "output_type": "stream",
     "text": [
      "Using matplotlib backend: TkAgg\n",
      "Populating the interactive namespace from numpy and matplotlib\n"
     ]
    },
    {
     "name": "stderr",
     "output_type": "stream",
     "text": [
      "c:\\users\\labuser\\anaconda3\\envs\\py27\\lib\\site-packages\\IPython\\core\\magics\\pylab.py:161: UserWarning: pylab import has clobbered these variables: ['Text', 'Button', 'datetime', 'Widget', 'var']\n",
      "`%matplotlib` prevents importing * from pylab and numpy\n",
      "  \"\\n`%matplotlib` prevents importing * from pylab and numpy\"\n"
     ]
    }
   ],
   "source": [
    "import sys\n",
    "import os\n",
    "#sys.path.append('D:\\\\software_git_repos\\\\cofe-python-analysis-tools\\\\utils_meinhold')\n",
    "sys.path.append('../utils_meinhold')\n",
    "#sys.path.append('D:\\\\software_git_repos\\\\cofe-python-analysis-tools\\\\utils_zonca')\n",
    "sys.path.append('../utils_zonca')\n",
    "#sys.path.append('D:\\\\software_git_repos\\\\cofe-python-analysis-tools\\\\utils_zonca\\\\pointing')\n",
    "sys.path.append('../utils_zonca/pointing')\n",
    "#sys.path.append('D:\\\\software_git_repos\\\\greenpol')\n",
    "sys.path.append('../')\n",
    "#sys.path.append('D:\\\\software_git_repos\\\\greenpol\\\\telescope_control\\\\')\n",
    "sys.path.append('../telescope_control')\n",
    "#sys.path.append('D:\\\\software_git_repos\\\\greenpol\\\\telescope_control\\\\VtoT\\\\')\n",
    "sys.path.append('../VtoT')\n",
    "import realtime_gp as rt\n",
    "import numpy as np\n",
    "import datetime \n",
    "import h5py\n",
    "import pandas as pd\n",
    "from pointingtools import compute_parallactic_angle, altaz2ha \n",
    "from planets import getlocation\n",
    "import warnings\n",
    "from astropy.coordinates import AltAz, Angle, EarthLocation, ICRS, SkyCoord, frame_transform_graph\n",
    "from astropy import units as u\n",
    "import ephem\n",
    "import matplotlib.pyplot as plt\n",
    "import time\n",
    "from datetime import datetime\n",
    "import planets\n",
    "\n",
    "import Tkinter,tkFileDialog\n",
    "\n",
    "from Tkinter import *\n",
    "import ttk\n",
    "\n",
    "import pickle\n",
    "import glob\n",
    "\n",
    "import cPickle\n",
    "\n",
    "%pylab\n"
   ]
  },
  {
   "cell_type": "code",
   "execution_count": null,
   "metadata": {},
   "outputs": [],
   "source": [
    "%matplotlib auto"
   ]
  },
  {
   "cell_type": "code",
   "execution_count": 2,
   "metadata": {},
   "outputs": [],
   "source": [
    "def get_pointing_files(filelist=None):\n",
    "\n",
    "    if filelist==None:\n",
    "        root=Tkinter.Tk()\n",
    "        filelist = list(tkFileDialog.askopenfilenames(\\\n",
    "        initialdir='D://software_git_repos/greenpol/telescope_control/data_aquisition/pointing_data/',parent=root,title='Choose a set of files'))\n",
    "        root.destroy()\n",
    "    filelist.sort()\n",
    "    \n",
    "    return filelist"
   ]
  },
  {
   "cell_type": "code",
   "execution_count": 3,
   "metadata": {},
   "outputs": [],
   "source": [
    "def get_file_times(fld):\n",
    "    startfile = fld[0][:43]+fld[0][49:-2]+'dat'\n",
    "    endfile = fld[-1][:43]+fld[-1][49:-2]+'dat'\n",
    "    \n",
    "    #starttime = os.path.getctime(startfile)\n",
    "    starttime= os.stat(startfile).st_mtime + 7*3600\n",
    "    starttime = datetime.datetime.fromtimestamp(starttime)\n",
    "    \n",
    "    #endtime = os.path.getctime(endfile)\n",
    "    endtime= os.stat(endfile).st_mtime + 7*3600\n",
    "    endtime = datetime.datetime.fromtimestamp(endtime)\n",
    "    \n",
    "    return starttime, endtime"
   ]
  },
  {
   "cell_type": "code",
   "execution_count": 4,
   "metadata": {},
   "outputs": [],
   "source": [
    "def fileStruct(n_array, chan, starttime, endtime):\n",
    "\n",
    "    fpath = \"C:/software_git_repos/polaris/polaris_data/level1\"\n",
    "    os.chdir(fpath)\n",
    "    yrmoday = starttime.strftime('%Y%m%d')\n",
    "    path = '-'.join((starttime.strftime('%H_%M_%S'), endtime.strftime('%H_%M_%S')+'222222222'))\n",
    "    path = '-'.join((chan, path))\n",
    "    print 'start time: ', starttime\n",
    "    print 'end time: ', endtime\n",
    "    print 'elapsed time: ', (endtime - starttime).total_seconds(), 'sec'\n",
    "    if not os.path.exists(yrmoday):#this is the first file being created for that time\n",
    "        os.makedirs(yrmoday)\n",
    "        #set index to 0\n",
    "\n",
    "    path = '/'.join((yrmoday,path))\n",
    "    path = '.'.join((path,\"h5\"))\n",
    "    with h5py.File(str(path).replace(\"pkl\",\"h5\"), mode=\"w\") as f:\n",
    "        f.create_dataset(\"data\", data=n_array.to_records(index=False))"
   ]
  },
  {
   "cell_type": "code",
   "execution_count": 5,
   "metadata": {},
   "outputs": [],
   "source": [
    "def round_fraction(number, res):\n",
    "    amount = int(number/res)*res\n",
    "    remainder = number - amount\n",
    "    return amount if remainder < res/2. else amount+res"
   ]
  },
  {
   "cell_type": "code",
   "execution_count": 10,
   "metadata": {},
   "outputs": [],
   "source": [
    "def read_some_data(datadict,datalabel,datatype='demod', filelist=None):\n",
    "\n",
    "    if filelist==None:\n",
    "        root=Tkinter.Tk()\n",
    "        if datatype=='demod':\n",
    "            filelist = list(tkFileDialog.askopenfilenames(\\\n",
    "            initialdir='D://software_git_repos/Polaris/polaris_data/demod_data/',parent=root,title='Choose a set of files'))\n",
    "        if datatype=='raw':\n",
    "            filelist = list(tkFileDialog.askopenfilenames(\\\n",
    "            initialdir='D://software_git_repos/Polaris/polaris_data/data/',parent=root,title='Choose a set of files'))            \n",
    "        root.destroy()\n",
    "    filelist.sort()\n",
    "    \n",
    "    if datatype=='demod':\n",
    "        dlist=[]\n",
    "        for f in filelist:\n",
    "            hf=h5py.File(f)\n",
    "            dlist.append(hf['demod_data'])\n",
    "        d=concatenate(dlist)\n",
    "        hf.close() \n",
    "        \n",
    "    if datatype=='raw':\n",
    "        d=rt.demod.read_raw(filelist)\n",
    "    datadict[datalabel]=d\n",
    "    return"
   ]
  },
  {
   "cell_type": "code",
   "execution_count": 99,
   "metadata": {},
   "outputs": [],
   "source": [
    "def read_some_data2(filelist=None):\n",
    "\n",
    "    if filelist==None:\n",
    "        root=Tkinter.Tk()\n",
    "        filelist = list(tkFileDialog.askopenfilenames(\\\n",
    "        initialdir='D://software_git_repos/greenpol/telescope_control/data_aquisition/demod_data/',parent=root,title='Choose a set of files'))\n",
    "        root.destroy()\n",
    "    filelist.sort()\n",
    "    \n",
    "    dlist=[]\n",
    "    for f in filelist:\n",
    "        hf=h5py.File(f)\n",
    "        dlist.append(hf['demod_data'])\n",
    "    d=np.concatenate(dlist)\n",
    "    hf.close() \n",
    "\n",
    "    datadict=d\n",
    "        \n",
    "    return datadict, filelist"
   ]
  },
  {
   "cell_type": "code",
   "execution_count": 31,
   "metadata": {},
   "outputs": [],
   "source": [
    "def get_file_times(fld):\n",
    "    startfile = fld[0][:43]+fld[0][49:-2]+'dat'\n",
    "    endfile = fld[-1][:43]+fld[-1][49:-2]+'dat'\n",
    "    \n",
    "    #starttime = os.path.getctime(startfile)\n",
    "    starttime= os.stat(startfile).st_mtime + 7*3600\n",
    "    starttime = datetime.datetime.fromtimestamp(starttime)\n",
    "    \n",
    "    #endtime = os.path.getctime(endfile)\n",
    "    endtime= os.stat(endfile).st_mtime + 7*3600\n",
    "    endtime = datetime.datetime.fromtimestamp(endtime)\n",
    "    \n",
    "    return starttime, endtime"
   ]
  },
  {
   "cell_type": "code",
   "execution_count": 92,
   "metadata": {},
   "outputs": [],
   "source": [
    "def plotnow_azrevsig(data, az, chan, var, res = 1.0, minmax=None,supply_index=False):\n",
    "    #flp=select_h5(fpath,yrmoday,st_hour,st_minute,ed_hour,ed_minute)\n",
    "    #fld_demod, fld =select_dat(fpath,yrmoday,st_hour,st_minute,ed_hour,ed_minute)\n",
    "    #i=0\n",
    "    #while len(flp)<3:\n",
    "    #\ti+=1\n",
    "    #\tflp=select_h5(fpath,yrmoday,st_hour,int(st_minute)-i,ed_hour,int(ed_minute)+i)\n",
    "\n",
    "    #pp=get_h5_pointing(flp)\n",
    "    #dd=get_demodulated_data_from_list(fld,supply_index=supply_index)\n",
    "    #dd=get_all_demodulated_data(fld_demod, fld)\n",
    "    #combined=combine_cofe_h5_pointing(dd,pp)\n",
    "\n",
    "    #synchronized data and az values\n",
    "    az1 = az\n",
    "    data1 = data\n",
    "    steps = len(data1)\n",
    "\n",
    "    #convert to temp for cryo sensors\n",
    "    if chan == 12:\n",
    "        data1 = convert.convert(data1, 'i')\n",
    "    if chan == 13:\n",
    "        data1 = convert.convert(data1, 'e')\n",
    "    if chan == 14:\n",
    "        data1 = convert.convert(data1, 'h')\n",
    "    if chan == 15:\n",
    "        data1 = convert.convert(data1, 'l')\n",
    "\n",
    "    #resolution\n",
    "    dx = res\n",
    "    dy = res\n",
    "\n",
    "    #set up empty lists to append each revolution to\n",
    "    data = []\n",
    "    az = []\n",
    "    iaz = [0]\n",
    "    rev = 0\n",
    "\n",
    "    #determine indices in azimuth/data array which correspond to a new revolution of the telescope\n",
    "    for i in range(steps):\n",
    "        #round values to resolution for comparison later\n",
    "        az1[i] = round_fraction(az1[i], dx)\n",
    "        if i > 0:\n",
    "            if abs(az1[i] - az1[i-1]) >= 180.:\n",
    "                iaz.append(i)\n",
    "                rev += 1\n",
    "\n",
    "    #append each revolution array to a list\t    \n",
    "    for j in range(rev):\n",
    "        az.append(az1[iaz[j]:iaz[j+1]])\n",
    "        data.append(data1[iaz[j]:iaz[j+1]])\n",
    "\n",
    "    #append the last revolution\n",
    "    data.append(data1[iaz[-1]:])\n",
    "    az.append(az1[iaz[-1]:])\n",
    "    rev += 1\n",
    "\n",
    "    data = np.asarray(data)\n",
    "    az = np.asarray(az)\n",
    "\n",
    "    #create grid for plotting\n",
    "    x, y = np.arange(0., 360.+dx, dx), np.arange(0., rev - 1 + dy, dy)\n",
    "    AZ, REV = np.meshgrid(x, y)\n",
    "\n",
    "    #set up empty array\n",
    "    z = np.zeros(len(x)*len(y))\n",
    "    sig = np.reshape(z, (len(y), len(x)))\n",
    "\n",
    "    #small number for comparing floats\n",
    "    epsilon = 1e-6\n",
    "\n",
    "    #fill signal array with data points\n",
    "    for r in range(rev):\n",
    "        for a in range(len(x)):\n",
    "            #find indices where combined azimuth data fits on x grid\n",
    "            idx = np.where(abs(az[r] - x[a]) < epsilon)[0]\n",
    "            #if idx length is 0 this will create a mask on that point, in idx len > 1, avg data points in the same bin\n",
    "            sig[r][a] = data[r][idx].mean()\n",
    "\n",
    "    #mask invalid values, i.e. where there are no data points\n",
    "    sig = ma.masked_invalid(sig)\n",
    "\n",
    "    #change units on plot label\n",
    "    if int(chan[2:]) < 12:\n",
    "        unit = 'V'\n",
    "    else:\n",
    "        unit = 'K' \n",
    "\n",
    "    name = rt.chantoname(chan)\n",
    "\n",
    "    plt.pcolormesh(AZ, REV, sig)\n",
    "    plt.colorbar(label = 'Signal, %s' % unit)\n",
    "\n",
    "    if minmax != None:\n",
    "        plt.clim(minmax[0],minmax[1])\n",
    "    else:  \n",
    "        plt.clim(data1.min(),data1.max())\n",
    "    plt.axis([0., 360., 0., rev - 1])\n",
    "    plt.ylabel('revolution #')\n",
    "    plt.xlabel('azimuth (deg)')\n",
    "    plt.title('%s %s data binned to azimuth and revolution #' % (name, var))\n",
    "    plt.grid()\n",
    "    plt.show()"
   ]
  },
  {
   "cell_type": "code",
   "execution_count": 82,
   "metadata": {},
   "outputs": [],
   "source": [
    "ddict={}"
   ]
  },
  {
   "cell_type": "code",
   "execution_count": 83,
   "metadata": {},
   "outputs": [],
   "source": [
    "read_some_data(ddict,'sky_10-25',datatype='demod')"
   ]
  },
  {
   "cell_type": "code",
   "execution_count": 88,
   "metadata": {},
   "outputs": [],
   "source": [
    "pp = {}"
   ]
  },
  {
   "cell_type": "code",
   "execution_count": 89,
   "metadata": {},
   "outputs": [],
   "source": [
    "flp = get_pointing_files()\n",
    "pp['sky_10-25'] = rt.get_h5_pointing(flp)"
   ]
  },
  {
   "cell_type": "code",
   "execution_count": 90,
   "metadata": {},
   "outputs": [],
   "source": [
    "combined = rt.combine_cofe_h5_pointing(ddict['sky_10-25'], pp['sky_10-25'])"
   ]
  },
  {
   "cell_type": "code",
   "execution_count": 52,
   "metadata": {},
   "outputs": [],
   "source": [
    "combined2 = rt.combine_cofe_h5_pointing(ddict['sky_11_18'], pp['sky_11_18'])"
   ]
  },
  {
   "cell_type": "code",
   "execution_count": 71,
   "metadata": {},
   "outputs": [],
   "source": [
    "combined3 = rt.combine_cofe_h5_pointing(ddict['sky_10_30'], pp['sky_10_30'])"
   ]
  },
  {
   "cell_type": "code",
   "execution_count": 80,
   "metadata": {},
   "outputs": [],
   "source": [
    "el = combined['el']\n",
    "az = combined['az']\n",
    "time = (combined['gpstime'] - combined['gpstime'][0])/1000.\n",
    "chan = 'H1HiDC'\n",
    "var = 'T'\n",
    "data = (-combined['sci_data'][rt.nametochan(chan)][var]+4.021)\n",
    "cooler = combined['sci_data'][rt.nametochan('Cooler')][var]*7 - 0.06\n",
    "amplifier = combined['sci_data'][rt.nametochan('Amplifier')][var]*7 + 0.03"
   ]
  },
  {
   "cell_type": "code",
   "execution_count": 81,
   "metadata": {},
   "outputs": [
    {
     "data": {
      "text/plain": [
       "Text(0.5,1,'constant el scan starting from 11/13 03:20')"
      ]
     },
     "execution_count": 81,
     "metadata": {},
     "output_type": "execute_result"
    }
   ],
   "source": [
    "figure()\n",
    "plot(time, data, lw=2, label='%s + 4.021 V' % chan)\n",
    "#plot(time, cooler, lw=2, label='Cooler*7 - 0.06 V')\n",
    "#plot(time, amplifier, lw=2, label='Amplifier*7 + 0.03 V')\n",
    "\n",
    "legend()\n",
    "xlabel('Seconds since start')\n",
    "ylabel('Volts')\n",
    "title('constant el scan starting from 11/13 03:20')"
   ]
  },
  {
   "cell_type": "code",
   "execution_count": 64,
   "metadata": {},
   "outputs": [],
   "source": [
    "el = combined2['el']\n",
    "az = combined2['az']\n",
    "time = (combined2['gpstime'] - combined2['gpstime'][0])/1000.\n",
    "chan = 'H1HiDC'\n",
    "var = 'T'\n",
    "data = (-combined2['sci_data'][rt.nametochan(chan)][var]+0.554)\n",
    "cooler = (combined2['sci_data'][rt.nametochan('Cooler')][var] + 0.047)\n",
    "amplifier = (combined2['sci_data'][rt.nametochan('Amplifier')][var])\n"
   ]
  },
  {
   "cell_type": "code",
   "execution_count": 65,
   "metadata": {},
   "outputs": [
    {
     "data": {
      "text/plain": [
       "Text(0.5,1,'constant el scan starting from 11/18 20:27')"
      ]
     },
     "execution_count": 65,
     "metadata": {},
     "output_type": "execute_result"
    }
   ],
   "source": [
    "figure()\n",
    "plot(time, data, lw=2, label='%s + 0.554 V' % chan)\n",
    "plot(time, cooler, lw=2, label='Cooler + 0.047 V')\n",
    "plot(time, amplifier, lw=2, label='Amplifier')\n",
    "\n",
    "legend()\n",
    "xlabel('Seconds since start')\n",
    "ylabel('Volts')\n",
    "title('constant el scan starting from 11/18 20:27')"
   ]
  },
  {
   "cell_type": "code",
   "execution_count": 77,
   "metadata": {},
   "outputs": [],
   "source": [
    "el = combined3['el']\n",
    "az = combined3['az']\n",
    "time = (combined3['gpstime'] - combined3['gpstime'][0])/1000.\n",
    "chan = 'H1HiDC'\n",
    "var = 'T'\n",
    "data = (-combined3['sci_data'][rt.nametochan(chan)][var]+0.49)\n",
    "cooler = (combined3['sci_data'][rt.nametochan('Cooler')][var])\n",
    "amplifier = (combined3['sci_data'][rt.nametochan('Amplifier')][var])\n"
   ]
  },
  {
   "cell_type": "code",
   "execution_count": 79,
   "metadata": {},
   "outputs": [
    {
     "data": {
      "text/plain": [
       "Text(0.5,1,'constant el scan starting from 10-30 09:25')"
      ]
     },
     "execution_count": 79,
     "metadata": {},
     "output_type": "execute_result"
    }
   ],
   "source": [
    "figure()\n",
    "plot(time, data, lw=2, label='%s + 0.49 V' % chan)\n",
    "plot(time, cooler, lw=2, label='Cooler')\n",
    "plot(time, amplifier, lw=2, label='Amplifier')\n",
    "\n",
    "legend()\n",
    "xlabel('Seconds since start')\n",
    "ylabel('Volts')\n",
    "title('constant el scan starting from 10-30 09:25')"
   ]
  },
  {
   "cell_type": "code",
   "execution_count": 101,
   "metadata": {},
   "outputs": [],
   "source": [
    "ddict={}"
   ]
  },
  {
   "cell_type": "code",
   "execution_count": 103,
   "metadata": {},
   "outputs": [],
   "source": [
    "dd, fld = read_some_data2()"
   ]
  },
  {
   "cell_type": "code",
   "execution_count": 104,
   "metadata": {},
   "outputs": [],
   "source": [
    "flp = get_pointing_files()"
   ]
  },
  {
   "cell_type": "code",
   "execution_count": 105,
   "metadata": {},
   "outputs": [],
   "source": [
    "pp = rt.get_h5_pointing(flp)"
   ]
  },
  {
   "cell_type": "code",
   "execution_count": 106,
   "metadata": {},
   "outputs": [],
   "source": [
    "combined = rt.combine_cofe_h5_pointing(dd, pp)"
   ]
  },
  {
   "cell_type": "code",
   "execution_count": 107,
   "metadata": {},
   "outputs": [],
   "source": [
    "starttime, endtime = rt.get_file_times(fld)\n",
    "dt , ut= rt.convert_gpstime(starttime, combined['gpstime']/1000, format='datetime')"
   ]
  },
  {
   "cell_type": "code",
   "execution_count": 117,
   "metadata": {},
   "outputs": [],
   "source": [
    "el = combined['el']\n",
    "az = combined['az']\n",
    "time = (combined['gpstime'] - combined['gpstime'][0])/1000.\n",
    "chan = 'H1HiAC'\n",
    "var = 'T'\n",
    "data = (combined['sci_data'][rt.nametochan(chan)][var])"
   ]
  },
  {
   "cell_type": "code",
   "execution_count": 109,
   "metadata": {},
   "outputs": [
    {
     "name": "stderr",
     "output_type": "stream",
     "text": [
      "c:\\users\\labuser\\anaconda3\\envs\\py27\\lib\\site-packages\\ipykernel_launcher.py:78: RuntimeWarning: Mean of empty slice.\n"
     ]
    }
   ],
   "source": [
    "plotnow_azrevsig(data, az, rt.nametochan(chan), var, res=1.0, minmax = [data.min()/20., data.max()/20.])"
   ]
  },
  {
   "cell_type": "code",
   "execution_count": 112,
   "metadata": {},
   "outputs": [],
   "source": [
    "icmin = 320000\n",
    "icmax = 345000"
   ]
  },
  {
   "cell_type": "code",
   "execution_count": 127,
   "metadata": {},
   "outputs": [
    {
     "data": {
      "text/plain": [
       "[<matplotlib.lines.Line2D at 0x59dcea20>]"
      ]
     },
     "execution_count": 127,
     "metadata": {},
     "output_type": "execute_result"
    }
   ],
   "source": [
    "figure()\n",
    "plot(cdata)"
   ]
  },
  {
   "cell_type": "code",
   "execution_count": 121,
   "metadata": {},
   "outputs": [
    {
     "name": "stdout",
     "output_type": "stream",
     "text": [
      "332174\n",
      "-0.1959526538848877\n",
      "-0.1959526538848877\n"
     ]
    }
   ],
   "source": [
    "imin = np.where(data==data[icmin:icmax].min())[0][0]\n",
    "print imin\n",
    "print data[imin]\n",
    "print data[icmin:icmax].min()"
   ]
  },
  {
   "cell_type": "code",
   "execution_count": 124,
   "metadata": {},
   "outputs": [],
   "source": [
    "cra = 15*(5 + (34./60.) + (31.94/3600.))\n",
    "cdec = 22 + (52.2/3600.)\n",
    "\n",
    "caz, cel = planets.radec_to_azel(cra, cdec, 'UCSB', datetime.datetime.fromtimestamp(ut[imin]))"
   ]
  },
  {
   "cell_type": "code",
   "execution_count": 125,
   "metadata": {},
   "outputs": [
    {
     "name": "stdout",
     "output_type": "stream",
     "text": [
      "22.0145 83.6330833333\n",
      "-28.1597557577 28.0740863928\n"
     ]
    }
   ],
   "source": [
    "print cdec, cra\n",
    "print cel, caz"
   ]
  },
  {
   "cell_type": "code",
   "execution_count": 126,
   "metadata": {},
   "outputs": [
    {
     "name": "stdout",
     "output_type": "stream",
     "text": [
      "112.0 70.11089236625\n"
     ]
    }
   ],
   "source": [
    "print az[imin], el[imin]"
   ]
  },
  {
   "cell_type": "code",
   "execution_count": null,
   "metadata": {},
   "outputs": [],
   "source": []
  }
 ],
 "metadata": {
  "kernelspec": {
   "display_name": "Python 2",
   "language": "python",
   "name": "python2"
  },
  "language_info": {
   "codemirror_mode": {
    "name": "ipython",
    "version": 2
   },
   "file_extension": ".py",
   "mimetype": "text/x-python",
   "name": "python",
   "nbconvert_exporter": "python",
   "pygments_lexer": "ipython2",
   "version": "2.7.16"
  }
 },
 "nbformat": 4,
 "nbformat_minor": 2
}
