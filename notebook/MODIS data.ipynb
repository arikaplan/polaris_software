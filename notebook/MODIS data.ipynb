{
 "cells": [
  {
   "cell_type": "code",
   "execution_count": 121,
   "metadata": {},
   "outputs": [],
   "source": [
    "from pyhdf.SD import SD, SDC\n",
    "import numpy as np\n",
    "import matplotlib.pyplot as plt\n",
    "import pprint\n",
    "from os import listdir\n",
    "import time\n",
    "import h5py\n",
    "import pandas as pd\n",
    "from datetime import datetime, date, timedelta\n",
    "import os\n",
    "import sys"
   ]
  },
  {
   "cell_type": "code",
   "execution_count": 8,
   "metadata": {},
   "outputs": [
    {
     "name": "stdout",
     "output_type": "stream",
     "text": [
      "Using matplotlib backend: TkAgg\n"
     ]
    }
   ],
   "source": [
    "%matplotlib auto"
   ]
  },
  {
   "cell_type": "code",
   "execution_count": 107,
   "metadata": {},
   "outputs": [],
   "source": [
    "def write_file(n_array, starttime, endtime):\n",
    "    fpath = \"D:/software_git_repos/polaris/polaris_data/weather_data/MODIS/reduced\"\n",
    "    os.chdir(fpath)\n",
    "    year = starttime.strftime('%Y')\n",
    "    path = '-'.join((starttime.strftime('%m%d'), endtime.strftime('%m%d')))\n",
    "    if not os.path.exists(year):#this is the first file being created for that time\n",
    "        os.makedirs(year)\n",
    "        #set index to 0\n",
    "\n",
    "    path = '/'.join((year,path))\n",
    "    path = '.'.join((path,\"h5\"))\n",
    "    print path\n",
    "    with h5py.File(str(path).replace(\"pkl\",\"h5\"), mode=\"w\") as f:\n",
    "        f.create_dataset(\"data\", data=n_array.to_records(index=False))"
   ]
  },
  {
   "cell_type": "code",
   "execution_count": 9,
   "metadata": {},
   "outputs": [],
   "source": [
    "file_name = 'D:/software_git_repos/polaris/polaris_data/weather_data/MODIS/2018/MYD05_L2.A2018240.0610.061.2018240231140.hdf'\n",
    "file = SD(file_name, SDC.READ)"
   ]
  },
  {
   "cell_type": "code",
   "execution_count": 10,
   "metadata": {},
   "outputs": [
    {
     "name": "stdout",
     "output_type": "stream",
     "text": [
      "0 Solar_Azimuth\n",
      "1 Sensor_Zenith\n",
      "2 Scan_Start_Time\n",
      "3 Longitude\n",
      "4 Quality_Assurance_Infrared\n",
      "5 Solar_Zenith\n",
      "6 Water_Vapor_Near_Infrared\n",
      "7 Cloud_Mask_QA\n",
      "8 Water_Vapor_Infrared\n",
      "9 Latitude\n",
      "10 Sensor_Azimuth\n",
      "11 Quality_Assurance_Near_Infrared\n",
      "12 Water_Vapor_Correction_Factors\n"
     ]
    }
   ],
   "source": [
    "datasets_dic = file.datasets()\n",
    "\n",
    "for idx,sds in enumerate(datasets_dic.keys()):\n",
    "    print idx,sds"
   ]
  },
  {
   "cell_type": "code",
   "execution_count": 11,
   "metadata": {},
   "outputs": [],
   "source": [
    "lat_obj = file.select('Latitude') # select sds\n",
    "lat = lat_obj.get()\n",
    "\n",
    "lon_obj = file.select('Longitude') # select sds\n",
    "lon = lon_obj.get()\n",
    "\n",
    "data_obj = file.select('Water_Vapor_Infrared') # select sds\n",
    "data = data_obj.get()/100.\n",
    "\n",
    "starttime_obj = file.select('Scan_Start_Time') # select sds\n",
    "starttime = starttime_obj.get()\n",
    "\n",
    "quality_obj = file.select('Quality_Assurance_Near_Infrared')\n",
    "quality = quality_obj.get()\n",
    "\n",
    "cloud_mask_obj = file.select('Cloud_Mask_QA')\n",
    "cloud_mask = cloud_mask_obj.get()\n",
    "\n",
    "correction_obj = file.select('Water_Vapor_Correction_Factors')\n",
    "correction = correction_obj.get()"
   ]
  },
  {
   "cell_type": "code",
   "execution_count": 12,
   "metadata": {},
   "outputs": [
    {
     "name": "stdout",
     "output_type": "stream",
     "text": [
      "{'Cell_Across_Swath_Sampling': [1, 1354, 1],\n",
      " 'Cell_Along_Swath_Sampling': [1, 2030, 1],\n",
      " 'Geolocation_Pointer': 'External MODIS geolocation product',\n",
      " 'Parameter_Type': 'Output',\n",
      " '_FillValue': 0,\n",
      " 'add_offset': 0.0,\n",
      " 'description': 'See MODIS atmosphere QA plan for details',\n",
      " 'long_name': 'Run time QA flags',\n",
      " 'scale_factor': 1.0,\n",
      " 'unit': 'none',\n",
      " 'valid_range': [0, -1]}\n"
     ]
    }
   ],
   "source": [
    "pprint.pprint( quality_obj.attributes() )"
   ]
  },
  {
   "cell_type": "code",
   "execution_count": 13,
   "metadata": {},
   "outputs": [],
   "source": [
    "#plt.figure()\n",
    "#plt.imshow(data, cmap='jet', origin='lower', aspect='auto')\n",
    "#plt.colorbar(label = 'Signal')"
   ]
  },
  {
   "cell_type": "code",
   "execution_count": 14,
   "metadata": {},
   "outputs": [
    {
     "name": "stdout",
     "output_type": "stream",
     "text": [
      "-81.06737 -10.923797\n",
      "55.093838 78.493416\n"
     ]
    }
   ],
   "source": [
    "lonmin = lon.min()\n",
    "lonmax = lon.max()\n",
    "latmin = lat.min()\n",
    "latmax = lat.max()\n",
    "print lonmin, lonmax\n",
    "print latmin, latmax"
   ]
  },
  {
   "cell_type": "code",
   "execution_count": 16,
   "metadata": {},
   "outputs": [],
   "source": [
    "delta = 0.1\n",
    "rows, cols = np.where((abs(lat - 72.) <= delta) & (abs(lon - -38) <= delta))"
   ]
  },
  {
   "cell_type": "code",
   "execution_count": 17,
   "metadata": {},
   "outputs": [],
   "source": [
    "latsub = lat[rows][:,cols]\n",
    "lonsub = lon[rows][:,cols]\n",
    "datasub = data[rows][:,cols]"
   ]
  },
  {
   "cell_type": "code",
   "execution_count": 18,
   "metadata": {},
   "outputs": [],
   "source": [
    "plt.figure()\n",
    "plt.pcolormesh(lon, lat, data, cmap='jet')\n",
    "plt.colorbar(label = 'PWV (%s)' % 'cm')\n",
    "plt.clim(0.,datasub.max())\n",
    "#plt.axis([lonmin, lonmax, latmin, latmax])\n",
    "plt.ylabel('latitude (deg)')\n",
    "plt.xlabel('longitude (deg)')\n",
    "#plt.title('%s %s data binned to azimuth and revolution #' % (name, var))\n",
    "plt.grid()\n",
    "plt.show()"
   ]
  },
  {
   "cell_type": "code",
   "execution_count": 83,
   "metadata": {},
   "outputs": [],
   "source": [
    "latstepdeg = 1.\n",
    "longsetdeg = 1.\n",
    "startday = 1\n",
    "scalefactor = 100."
   ]
  },
  {
   "cell_type": "code",
   "execution_count": 34,
   "metadata": {},
   "outputs": [],
   "source": []
  },
  {
   "cell_type": "code",
   "execution_count": 20,
   "metadata": {},
   "outputs": [],
   "source": [
    "summit_lon = -38.4592\n",
    "summit_lat = 72.5796"
   ]
  },
  {
   "cell_type": "code",
   "execution_count": 129,
   "metadata": {},
   "outputs": [
    {
     "name": "stdout",
     "output_type": "stream",
     "text": [
      "total number of files: 1942\n",
      "Percent complete: 0.05, time elapsed: 0.02 min"
     ]
    },
    {
     "name": "stderr",
     "output_type": "stream",
     "text": [
      "C:\\Users\\akkap\\anaconda3\\envs\\py27\\lib\\site-packages\\ipykernel_launcher.py:46: RuntimeWarning: Mean of empty slice.\n"
     ]
    },
    {
     "name": "stdout",
     "output_type": "stream",
     "text": [
      "Percent complete: 100.00, time elapsed: 46.49 min2789.51200008\n"
     ]
    }
   ],
   "source": [
    "y = 2018\n",
    "directory = 'D:/software_git_repos/polaris/polaris_data/weather_data/MODIS/%d/' % y\n",
    "files = listdir(directory)\n",
    "\n",
    "pwv = []\n",
    "TIME = []\n",
    "quality_assurance = []\n",
    "isummit_shape = []\n",
    "numfiles = 0\n",
    "cloudy_fraction = []\n",
    "\n",
    "print 'total number of files: %d' % len(files)\n",
    "t1 = time.time()\n",
    "for f in files:\n",
    "    \n",
    "    file = SD(directory+f, SDC.READ)\n",
    "    lat_obj = file.select('Latitude') # select sds\n",
    "    latitude = lat_obj.get()\n",
    "\n",
    "    lon_obj = file.select('Longitude') # select sds\n",
    "    longitude = lon_obj.get()\n",
    "    \n",
    "    delta = 0.05\n",
    "    rows, cols = np.where((abs(lat - summit_lat) <= delta) & (abs(lon - summit_lon) <= delta))\n",
    "\n",
    "    if len(rows) == 0 or len(cols) == 0:\n",
    "        continue\n",
    "    else:\n",
    "        numfiles += 1\n",
    "        #print '# files: %d, ' % numfiles, f\n",
    "\n",
    "    data_obj = file.select('Water_Vapor_Infrared') # select sds\n",
    "    data = data_obj.get()/100.\n",
    "\n",
    "    starttime_obj = file.select('Scan_Start_Time') # select sds\n",
    "    starttime = starttime_obj.get()\n",
    "\n",
    "    quality_obj = file.select('Quality_Assurance_Near_Infrared')\n",
    "    quality = quality_obj.get()\n",
    "    \n",
    "    datasub = data[rows][:,cols]\n",
    "    timesub = starttime[rows][:,cols]\n",
    "    qualitysub = quality[rows][:,cols]\n",
    "    \n",
    "    \n",
    "    pwv.append(datasub[datasub>=0.].mean())\n",
    "    TIME.append(timesub.mean())\n",
    "    #quality_assurance.append(qualitysub)\n",
    "    clear = float(len(datasub[datasub>=0]))\n",
    "    cloudy = float(len(datasub[datasub<0]))\n",
    "    \n",
    "    if clear == 0:\n",
    "        cloudy_fraction.append(1.)\n",
    "    else:\n",
    "        cloudy_fraction.append(cloudy/(clear+cloudy))\n",
    "        \n",
    "    sys.stdout.write(\"\\rPercent complete: %.2f, time elapsed: %.2f min\" % ((float(numfiles) * 100. / float(len(files))), (time.time()-t1)/60.))\n",
    "    sys.stdout.flush()\n",
    "        \n",
    "t2 = time.time()\n",
    "print t2-t1\n",
    "pwv = np.asarray(pwv)\n",
    "TIME = np.asarray(TIME)\n",
    "cloudy_fraction = np.asarray(cloudy_fraction)\n",
    "#quality_assurance = np.asarray(quality_assurance)"
   ]
  },
  {
   "cell_type": "code",
   "execution_count": 146,
   "metadata": {},
   "outputs": [
    {
     "data": {
      "text/plain": [
       "[<matplotlib.lines.Line2D at 0x1d2eefc8>]"
      ]
     },
     "execution_count": 146,
     "metadata": {},
     "output_type": "execute_result"
    }
   ],
   "source": [
    "plt.figure()\n",
    "plt.plot(TIME, cloudy_fraction)"
   ]
  },
  {
   "cell_type": "code",
   "execution_count": 132,
   "metadata": {},
   "outputs": [],
   "source": [
    "doysecoffset= 23*60*60*24*365 + 7*60*60*24 - 17*60*60 - 60 - 5.761243\n",
    "tt = TIME + doysecoffset"
   ]
  },
  {
   "cell_type": "code",
   "execution_count": 133,
   "metadata": {},
   "outputs": [],
   "source": [
    "h5data = pd.DataFrame({\"pwv\" : pwv})\n",
    "h5data[\"cloudy_fraction\"] = cloudy_fraction\n",
    "h5data[\"time\"] = tt "
   ]
  },
  {
   "cell_type": "code",
   "execution_count": 134,
   "metadata": {},
   "outputs": [
    {
     "name": "stdout",
     "output_type": "stream",
     "text": [
      "2018-06-01 00:20:00\n",
      "2018-08-31 23:05:00.741258\n"
     ]
    }
   ],
   "source": [
    "starttime = datetime.fromtimestamp(tt[0])\n",
    "endtime = datetime.fromtimestamp(tt[-1])\n",
    "print starttime\n",
    "print endtime"
   ]
  },
  {
   "cell_type": "code",
   "execution_count": 135,
   "metadata": {},
   "outputs": [
    {
     "name": "stdout",
     "output_type": "stream",
     "text": [
      "2018/0601-0831.h5\n"
     ]
    }
   ],
   "source": [
    "write_file(h5data, starttime, endtime)"
   ]
  },
  {
   "cell_type": "code",
   "execution_count": 147,
   "metadata": {},
   "outputs": [],
   "source": [
    "fpath = \"D:/software_git_repos/polaris/polaris_data/weather_data/MODIS/reduced/2018/\"\n",
    "files = listdir(fpath)"
   ]
  },
  {
   "cell_type": "code",
   "execution_count": 148,
   "metadata": {},
   "outputs": [],
   "source": [
    "f = h5py.File(fpath + files[1], 'r')"
   ]
  },
  {
   "cell_type": "code",
   "execution_count": 149,
   "metadata": {},
   "outputs": [
    {
     "data": {
      "text/plain": [
       "[u'data']"
      ]
     },
     "execution_count": 149,
     "metadata": {},
     "output_type": "execute_result"
    }
   ],
   "source": [
    "list(f.keys())"
   ]
  },
  {
   "cell_type": "code",
   "execution_count": 150,
   "metadata": {},
   "outputs": [],
   "source": [
    "dset = f['data']"
   ]
  },
  {
   "cell_type": "code",
   "execution_count": 152,
   "metadata": {},
   "outputs": [],
   "source": [
    "cloudy = dset['cloudy_fraction']\n",
    "t = dset['time']"
   ]
  },
  {
   "cell_type": "code",
   "execution_count": 157,
   "metadata": {},
   "outputs": [],
   "source": [
    "cloudmean = []\n",
    "tcloudmean = []\n",
    "i0=0\n",
    "for h in range(len(t)):\n",
    "    if t[h] - t[i0] >= 3600*24:\n",
    "        cloudmean.append(cloudy[i0:h+1].mean())\n",
    "        tcloudmean.append(t[i0:h+1].mean())\n",
    "        i0=h+1\n",
    "    if i0<len(t):\n",
    "        cloudmean.append(cloudy[i0:len(cloudy)+1].mean())\n",
    "        tcloudmean.append(t[i0:len(t)+1].mean())\n",
    "        \n",
    "cloudmean = np.asarray(cloudmean)#[np.logical_not(np.isnan(cloudmean))]\n",
    "tcloudmean = np.asarray(tcloudmean)#[np.logical_not(np.isnan(cloudmean))]"
   ]
  },
  {
   "cell_type": "code",
   "execution_count": 162,
   "metadata": {},
   "outputs": [
    {
     "data": {
      "text/plain": [
       "[<matplotlib.lines.Line2D at 0x2116c1c8>]"
      ]
     },
     "execution_count": 162,
     "metadata": {},
     "output_type": "execute_result"
    }
   ],
   "source": [
    "scale = 1.\n",
    "bins=50\n",
    "values, base = np.histogram(cloudmean, bins=bins, density=True)\n",
    "cumulative = np.cumsum(values)\n",
    "cumu = cumulative/cumulative.max()\n",
    "cumu_I = 1. - cumu\n",
    "\n",
    "plt.plot(base[:-1]*scale, cumu_I*100, linewidth = 2)"
   ]
  },
  {
   "cell_type": "code",
   "execution_count": null,
   "metadata": {},
   "outputs": [],
   "source": []
  }
 ],
 "metadata": {
  "kernelspec": {
   "display_name": "Python 2",
   "language": "python",
   "name": "python2"
  },
  "language_info": {
   "codemirror_mode": {
    "name": "ipython",
    "version": 2
   },
   "file_extension": ".py",
   "mimetype": "text/x-python",
   "name": "python",
   "nbconvert_exporter": "python",
   "pygments_lexer": "ipython2",
   "version": "2.7.18"
  }
 },
 "nbformat": 4,
 "nbformat_minor": 2
}
