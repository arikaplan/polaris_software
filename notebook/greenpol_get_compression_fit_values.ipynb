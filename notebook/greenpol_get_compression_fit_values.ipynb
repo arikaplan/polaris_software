{
 "cells": [
  {
   "cell_type": "code",
   "execution_count": 8,
   "metadata": {
    "collapsed": false
   },
   "outputs": [],
   "source": [
    "from contextlib import contextmanager\n",
    "import os\n",
    "import datetime as dt\n",
    "import numpy as np\n",
    "import h5py\n",
    "import time\n",
    "import sys\n",
    "os.chdir('D:/software_git_repos/greenpol/telescope_control/data_aquisition')\n",
    "sys.path.append('../')\n",
    "sys.path.append('/software_git_repos/cofe-python-analysis-tools/utils_meinhold/')\n",
    "sys.path.append('/software_git_repos/cofe-python-analysis-tools/utils_zonca/')\n",
    "from glob import glob\n",
    "\n",
    "sys.path.append('../../')\n",
    "sys.path.append('../../../')\n",
    "sys.path.append('../VtoT/')\n",
    "\n",
    "\n",
    "import Tkinter,tkFileDialog\n",
    "\n",
    "import cofe_util as cu\n",
    "import realtime_gp as rt\n",
    "import datetime\n",
    "\n",
    "from Tkinter import *\n",
    "import ttk\n",
    "\n",
    "from scipy import optimize\n",
    "import pickle\n"
   ]
  },
  {
   "cell_type": "code",
   "execution_count": 9,
   "metadata": {
    "collapsed": true
   },
   "outputs": [],
   "source": [
    "def nametochan(name):\n",
    "    #function to convert channel numbers to channel names\n",
    "\n",
    "    #names of each channel\n",
    "    chans = {\n",
    "        'all': 'all',  'H1HiAC':'ch0',  'H1HiDC':'ch1',\n",
    "        'H1LoAC':'ch2' ,  'H1LoDC':'ch3', 'H2HiAC':'ch4' ,\n",
    "        'H2HiDC':'ch5' ,  'H2LoAC':'ch6',  'H2LoDC':'ch7',\n",
    "        'H3HiAC':'ch8', 'H3HiDC':'ch9',  'H3LoAC':'ch10',\n",
    "         'H3LoDC':'ch11', 'HornTop':'ch12', 'Amplifier': 'ch13',\n",
    "        'Cooler':'ch14', 'Transition':'ch15'}\n",
    "\n",
    "    chan = chans[name]\n",
    "\n",
    "    return chan"
   ]
  },
  {
   "cell_type": "code",
   "execution_count": 10,
   "metadata": {
    "collapsed": false
   },
   "outputs": [
    {
     "name": "stdout",
     "output_type": "stream",
     "text": [
      "Using matplotlib backend: Qt5Agg\n",
      "Populating the interactive namespace from numpy and matplotlib\n"
     ]
    },
    {
     "name": "stderr",
     "output_type": "stream",
     "text": [
      "C:\\Users\\labuser\\Anaconda\\envs\\py27\\lib\\site-packages\\IPython\\core\\magics\\pylab.py:161: UserWarning: pylab import has clobbered these variables: ['Text', 'Button', 'Widget']\n",
      "`%matplotlib` prevents importing * from pylab and numpy\n",
      "  \"\\n`%matplotlib` prevents importing * from pylab and numpy\"\n"
     ]
    }
   ],
   "source": [
    "%pylab"
   ]
  },
  {
   "cell_type": "code",
   "execution_count": 11,
   "metadata": {
    "collapsed": true
   },
   "outputs": [],
   "source": [
    "def read_some_data(datadict,datalabel,datatype='demod', filelist=None):\n",
    "\n",
    "    if filelist==None:\n",
    "        root=Tkinter.Tk()\n",
    "        if datatype=='demod':\n",
    "            filelist = list(tkFileDialog.askopenfilenames(\\\n",
    "            initialdir='C://Greenland/greenpol/telescope_control/data_aquisition/demod_data/',parent=root,title='Choose a set of files'))\n",
    "        if datatype=='raw':\n",
    "            filelist = list(tkFileDialog.askopenfilenames(\\\n",
    "            initialdir='C://Greenland/greenpol/telescope_control/data_aquisition/data/',parent=root,title='Choose a set of files'))            \n",
    "        root.destroy()\n",
    "    filelist.sort()\n",
    "    \n",
    "    if datatype=='demod':\n",
    "        dlist=[]\n",
    "        for f in filelist:\n",
    "            hf=h5py.File(f)\n",
    "            dlist.append(hf['demod_data'])\n",
    "        d=concatenate(dlist)\n",
    "        hf.close() \n",
    "        \n",
    "    if datatype=='raw':\n",
    "        d=rt.demod.read_raw(filelist)\n",
    "    datadict[datalabel]=d\n",
    "    return"
   ]
  },
  {
   "cell_type": "code",
   "execution_count": 12,
   "metadata": {
    "collapsed": true
   },
   "outputs": [],
   "source": [
    "def plot_nl_dict(toi_dict,chanlist=['H1HiDC'],componentlist=['T'],datalist=None):\n",
    "    #function to give a choice of preloaded datasets from dictionary data_dict\n",
    "    #this plots chosen channels vs H1LoDC (should be attenuated more linear detector)\n",
    "    figure()\n",
    "    if datalist==None:\n",
    "        datalist=toi_dict.keys()\n",
    "    if len(componentlist)==1:  # if componentlist is a single value, assume same thing for all chans\n",
    "        c=componentlist[0]\n",
    "        componentlist=[c for n in chanlist]\n",
    "    #set up the color sequence for the plot\n",
    "    nlines=len(datalist)*len(chanlist)\n",
    "    colormap = cm.gist_ncar\n",
    "    gca().set_color_cycle([colormap(i) for i in np.linspace(0, 0.9, nlines)])\n",
    "    titletxt=[]\n",
    "    for dname in datalist:\n",
    "        samprate=1000./(toi_dict[dname]['rev'][1]-toi_dict[dname]['rev'][0])\n",
    "        print(dname,samprate)\n",
    "        titletxt.append(dname)\n",
    "        for channame,component in zip(chanlist,componentlist):\n",
    "            print(channame,component)\n",
    "            try:\n",
    "                toi=toi_dict[dname][nametochan(channame)][component] #if it's demod data so a dict\n",
    "                toi_x=toi_dict[dname][nametochan('H2LoDC')][component] #highly attenuated channel\n",
    "                plot(toi_x,toi,label=dname+ '  '+channame+' '+component)\n",
    "            except:\n",
    "                toi=toi_dict[dname][nametochan(channame)].flatten()#if it's raw data so not a dict\n",
    "                toi_x=toi_dict[dname][nametochan('H2LoDC')].flatten()# highly attenuated channel\n",
    "                plot(toi_x,toi,label=dname+ '  '+channame+' '+component)\n",
    "            \n",
    "    title(titletxt)\n",
    "    legend()\n",
    "    xlabel('H1LoDC [V]')\n",
    "    ylabel(r'Signal [V]')"
   ]
  },
  {
   "cell_type": "code",
   "execution_count": 8,
   "metadata": {
    "collapsed": true
   },
   "outputs": [],
   "source": [
    "#create a dictionary to hold relevant data, then read raw data files in for analysis\n",
    "rdict={}"
   ]
  },
  {
   "cell_type": "code",
   "execution_count": 15,
   "metadata": {
    "collapsed": false,
    "scrolled": true
   },
   "outputs": [
    {
     "name": "stderr",
     "output_type": "stream",
     "text": [
      "WARNING:root:Removing invalid revolutions (index from beginning of file): [0]\n"
     ]
    },
    {
     "name": "stdout",
     "output_type": "stream",
     "text": [
      "1001\n",
      "16\n",
      "1000\n",
      "16\n",
      "1000\n",
      "16\n",
      "1000\n",
      "16\n",
      "1000\n",
      "16\n",
      "1000\n",
      "16\n",
      "1000\n",
      "16\n"
     ]
    }
   ],
   "source": [
    "read_some_data(rdict,'nl1_3_23',datatype='raw')"
   ]
  },
  {
   "cell_type": "code",
   "execution_count": 12,
   "metadata": {
    "collapsed": false,
    "scrolled": true
   },
   "outputs": [
    {
     "name": "stdout",
     "output_type": "stream",
     "text": [
      "('nl1_3_23', 31.25)\n",
      "('H3HiDC', 'T')\n",
      "('H1LoDC', 'T')\n"
     ]
    }
   ],
   "source": [
    "#plot for a quick check data are OK\n",
    "plot_nl_dict(rdict,chanlist=['H3HiDC', 'H1LoDC'],componentlist=['T'],datalist=['nl1_3_23'])"
   ]
  },
  {
   "cell_type": "code",
   "execution_count": 17,
   "metadata": {
    "collapsed": true
   },
   "outputs": [],
   "source": [
    "d1=rdict['nl1_3_22'][nametochan('H1HiDC')].flatten()\n",
    "r1=rdict['nl1_3_22'][nametochan('H1LoDC')].flatten()\n",
    "d2=rdict['nl2_3_22'][nametochan('H2HiDC')].flatten()\n",
    "r2=rdict['nl2_3_22'][nametochan('H1LoDC')].flatten()\n",
    "d3=rdict['nl1_3_23'][nametochan('H3HiDC')].flatten()\n",
    "r3=rdict['nl1_3_23'][nametochan('H1LoDC')].flatten()"
   ]
  },
  {
   "cell_type": "code",
   "execution_count": 18,
   "metadata": {
    "collapsed": true
   },
   "outputs": [],
   "source": [
    "isort=argsort(d1)\n",
    "ds1=d1[isort]\n",
    "rs1=r1[isort]\n",
    "isort=argsort(d2)\n",
    "ds2=d2[isort]\n",
    "rs2=r2[isort]\n",
    "isort=argsort(d3)\n",
    "ds3=d3[isort]\n",
    "rs3=r3[isort]"
   ]
  },
  {
   "cell_type": "code",
   "execution_count": 13,
   "metadata": {
    "collapsed": true
   },
   "outputs": [],
   "source": [
    "def compfunc(x,p):\n",
    "    \"\"\"\n",
    "    define a non-linear function to fit compression\n",
    "    parameters p(4): (offset,slope,exponential coefficient, exponent)\n",
    "    \"\"\"\n",
    "    y=p[0]+p[1]*x+p[2]*exp(p[3]*x)\n",
    "    return y\n",
    "\n",
    "def compfuncresiduals(p,y,x):\n",
    "    err=y-compfunc(x,p)\n",
    "    return err"
   ]
  },
  {
   "cell_type": "code",
   "execution_count": 14,
   "metadata": {
    "collapsed": true
   },
   "outputs": [],
   "source": [
    "def fit_compression(x,y,pstart=None):\n",
    "    \"\"\"\n",
    "    function to fit compression function\n",
    "    \"\"\"\n",
    "    xmax=x[y==np.max(y)][0]\n",
    "    if pstart==None:\n",
    "        pstart=[np.max(y),xmax,1,1]\n",
    "        if np.max(y)==y[0]:\n",
    "            pstart=[y[0],x[0]-1,0,1]\n",
    "        if np.max(y)==y[-1]:\n",
    "            pstart=[y[-1],x[-1]+1,1,0]\n",
    "    pbest=optimize.leastsq(compfuncresiduals,pstart,args=(y,x))\n",
    "    params={}\n",
    "    params['offset']=pbest[0][0]\n",
    "    params['slope']=pbest[0][1]\n",
    "    params['exp_coeff']=np.abs(pbest[0][2])\n",
    "    params['exponent']=np.abs(pbest[0][3])\n",
    "    params['fit']=compfunc(x,pbest[0])\n",
    "    return pbest[0]"
   ]
  },
  {
   "cell_type": "code",
   "execution_count": 70,
   "metadata": {
    "collapsed": true
   },
   "outputs": [],
   "source": [
    "def make_lookup(linpars,expars):\n",
    "    #create lookup table for Vlin from Vexp\n",
    "    x=arange(-.5,.1,.001)\n",
    "    Vlin=(x-linpars[0])/linpars[1]\n",
    "    Vexp=expars[0]+expars[1]*x+expars[2]*exp(expars[3]*x)\n",
    "    return(Vexp,Vlin)"
   ]
  },
  {
   "cell_type": "code",
   "execution_count": 63,
   "metadata": {
    "collapsed": true
   },
   "outputs": [],
   "source": [
    "def linearize_Vexp(Vexp,lookup):\n",
    "    #Vexp is input data, potentially compressed,lookup is lookup table (which is\n",
    "    #a tuple of paired compressed and linearized values):\n",
    "    # returns an array of estimated linear values\n",
    "    Vlin=np.interp(Vexp,lookup[0],lookup[1])\n",
    "    return Vlin "
   ]
  },
  {
   "cell_type": "code",
   "execution_count": 21,
   "metadata": {
    "collapsed": true
   },
   "outputs": [],
   "source": [
    "expars1=fit_compression(rs1,ds1)\n",
    "expars2=fit_compression(rs2,ds2)\n",
    "expars3=fit_compression(rs3,ds3)"
   ]
  },
  {
   "cell_type": "code",
   "execution_count": 74,
   "metadata": {
    "collapsed": true
   },
   "outputs": [],
   "source": [
    "dsf1=np.array([ds1[i] for i in range(len(ds1)) if (ds1[i]>-.5) and (ds1[i]<.04)])\n",
    "rsf1=np.array([rs1[i] for i in range(len(ds1)) if (ds1[i]>-.5) and (ds1[i]<.04)])\n",
    "dsf2=np.array([ds2[i] for i in range(len(ds2)) if (ds2[i]>-.5) and (ds2[i]<.04)])\n",
    "rsf2=np.array([rs2[i] for i in range(len(ds2)) if (ds2[i]>-.5) and (ds2[i]<.04)])\n",
    "\n",
    "dsf3=np.array([ds3[i] for i in range(len(ds3)) if (ds3[i]>-.5) and (ds3[i]<.04)])\n",
    "rsf3=np.array([rs3[i] for i in range(len(ds3)) if (ds3[i]>-.5) and (ds3[i]<.04)])"
   ]
  },
  {
   "cell_type": "code",
   "execution_count": 75,
   "metadata": {
    "collapsed": true
   },
   "outputs": [],
   "source": [
    "linpars1=cu.linfit(dsf1,rsf1)\n",
    "linpars2=cu.linfit(dsf2,rsf2)\n",
    "linpars3=cu.linfit(dsf3,rsf3)"
   ]
  },
  {
   "cell_type": "code",
   "execution_count": 6,
   "metadata": {
    "collapsed": false
   },
   "outputs": [
    {
     "ename": "NameError",
     "evalue": "name 'expars1' is not defined",
     "output_type": "error",
     "traceback": [
      "\u001b[0;31m---------------------------------------------------------------------------\u001b[0m",
      "\u001b[0;31mNameError\u001b[0m                                 Traceback (most recent call last)",
      "\u001b[0;32m<ipython-input-6-0afe779e20fb>\u001b[0m in \u001b[0;36m<module>\u001b[0;34m()\u001b[0m\n\u001b[0;32m----> 1\u001b[0;31m \u001b[1;32mprint\u001b[0m\u001b[1;33m(\u001b[0m\u001b[0mexpars1\u001b[0m\u001b[1;33m)\u001b[0m\u001b[1;33m\u001b[0m\u001b[0m\n\u001b[0m\u001b[1;32m      2\u001b[0m \u001b[1;32mprint\u001b[0m\u001b[1;33m(\u001b[0m\u001b[0mlinpars1\u001b[0m\u001b[1;33m)\u001b[0m\u001b[1;33m\u001b[0m\u001b[0m\n\u001b[1;32m      3\u001b[0m \u001b[1;32mprint\u001b[0m\u001b[1;33m(\u001b[0m\u001b[0mexpars2\u001b[0m\u001b[1;33m)\u001b[0m\u001b[1;33m\u001b[0m\u001b[0m\n\u001b[1;32m      4\u001b[0m \u001b[1;32mprint\u001b[0m\u001b[1;33m(\u001b[0m\u001b[0mlinpars2\u001b[0m\u001b[1;33m)\u001b[0m\u001b[1;33m\u001b[0m\u001b[0m\n\u001b[1;32m      5\u001b[0m \u001b[1;32mprint\u001b[0m\u001b[1;33m(\u001b[0m\u001b[0mexpars3\u001b[0m\u001b[1;33m)\u001b[0m\u001b[1;33m\u001b[0m\u001b[0m\n",
      "\u001b[0;31mNameError\u001b[0m: name 'expars1' is not defined"
     ]
    }
   ],
   "source": [
    "print(expars1)\n",
    "print(linpars1)\n",
    "print(expars2)\n",
    "print(linpars2)\n",
    "print(expars3)\n",
    "print(linpars3)"
   ]
  },
  {
   "cell_type": "code",
   "execution_count": 25,
   "metadata": {
    "collapsed": true
   },
   "outputs": [],
   "source": [
    "dsmod1=(rs1-pars1[0])/pars1[1]\n",
    "dsmod2=(rs2-pars2[0])/pars2[1]\n",
    "dsmod3=(rs3-pars3[0])/pars3[1]\n"
   ]
  },
  {
   "cell_type": "code",
   "execution_count": 7,
   "metadata": {
    "collapsed": true
   },
   "outputs": [],
   "source": [
    "#store/save the linear and nonlinear fit parameters from 3/23/2018\n",
    "expars1 = [-0.84993233 ,9.78598864,  0.66668683, 12.19587388]\n",
    "linpars1 = [0.00956788, 0.05284956]\n",
    "expars2 = [-1.63546518, 15.64129845,  1.3942447,  12.20374749]\n",
    "linpars2 = [0.00710006, 0.03012924]\n",
    "expars3 = [-0.46086952, 5.05960299,  0.39081414,  8.34334881]\n",
    "linpars3 = [0.00771685, 0.12552887]\n"
   ]
  },
  {
   "cell_type": "code",
   "execution_count": 14,
   "metadata": {
    "collapsed": false
   },
   "outputs": [
    {
     "name": "stdout",
     "output_type": "stream",
     "text": [
      "fitparams1.txt\n"
     ]
    }
   ],
   "source": [
    "print 'fitparams%d' % 1 + '.txt'"
   ]
  },
  {
   "cell_type": "code",
   "execution_count": 13,
   "metadata": {
    "collapsed": false
   },
   "outputs": [
    {
     "name": "stdout",
     "output_type": "stream",
     "text": [
      "it got here\n"
     ]
    }
   ],
   "source": [
    "pars={'expars1':expars1,'expars2':expars2,'expars3':expars3, 'linpars1':linpars1,\n",
    "     'linpars2':linpars2,'linpars3':linpars3}\n",
    "\n",
    "fpath='D:/software_git_repos/greenpol/telescope_control/configurations'\n",
    "#fpath='D:/software_git_repos/greenpol/telescope_control/configurations'\n",
    "os.chdir(fpath)\n",
    "\n",
    "folder='calibrations'\n",
    "\n",
    "#get label for save file\n",
    "fname='fit_params1'\n",
    "\n",
    "os.chdir(fpath+'/'+folder)\n",
    "\n",
    "if os.path.isfile(fname+'.txt')==True:\n",
    "    print \"LABEL EXISTS. Please change your label!\"\n",
    "\n",
    "else:\n",
    "    with open(fname+'.txt', 'w') as handle:\n",
    "        pickle.dump(pars,handle)\n",
    "os.chdir('D:/software_git_repos/greenpol/telescope_control/data_aquisition')"
   ]
  },
  {
   "cell_type": "code",
   "execution_count": 80,
   "metadata": {
    "collapsed": false
   },
   "outputs": [
    {
     "name": "stderr",
     "output_type": "stream",
     "text": [
      "Traceback (most recent call last):\n",
      "  File \"C:\\Users\\peter\\AppData\\Local\\Continuum\\anaconda3\\envs\\py27\\lib\\site-packages\\matplotlib\\backends\\backend_qt5agg.py\", line 164, in __draw_idle_agg\n",
      "    self.draw()\n",
      "  File \"C:\\Users\\peter\\AppData\\Local\\Continuum\\anaconda3\\envs\\py27\\lib\\site-packages\\matplotlib\\backends\\backend_qt5agg.py\", line 133, in draw\n",
      "    super(FigureCanvasQTAggBase, self).draw()\n",
      "  File \"C:\\Users\\peter\\AppData\\Local\\Continuum\\anaconda3\\envs\\py27\\lib\\site-packages\\matplotlib\\backends\\backend_agg.py\", line 430, in draw\n",
      "    self.figure.draw(self.renderer)\n",
      "  File \"C:\\Users\\peter\\AppData\\Local\\Continuum\\anaconda3\\envs\\py27\\lib\\site-packages\\matplotlib\\artist.py\", line 55, in draw_wrapper\n",
      "    return draw(artist, renderer, *args, **kwargs)\n",
      "  File \"C:\\Users\\peter\\AppData\\Local\\Continuum\\anaconda3\\envs\\py27\\lib\\site-packages\\matplotlib\\figure.py\", line 1299, in draw\n",
      "    renderer, self, artists, self.suppressComposite)\n",
      "  File \"C:\\Users\\peter\\AppData\\Local\\Continuum\\anaconda3\\envs\\py27\\lib\\site-packages\\matplotlib\\image.py\", line 138, in _draw_list_compositing_images\n",
      "    a.draw(renderer)\n",
      "  File \"C:\\Users\\peter\\AppData\\Local\\Continuum\\anaconda3\\envs\\py27\\lib\\site-packages\\matplotlib\\artist.py\", line 55, in draw_wrapper\n",
      "    return draw(artist, renderer, *args, **kwargs)\n",
      "  File \"C:\\Users\\peter\\AppData\\Local\\Continuum\\anaconda3\\envs\\py27\\lib\\site-packages\\matplotlib\\axes\\_base.py\", line 2437, in draw\n",
      "    mimage._draw_list_compositing_images(renderer, self, artists)\n",
      "  File \"C:\\Users\\peter\\AppData\\Local\\Continuum\\anaconda3\\envs\\py27\\lib\\site-packages\\matplotlib\\image.py\", line 138, in _draw_list_compositing_images\n",
      "    a.draw(renderer)\n",
      "  File \"C:\\Users\\peter\\AppData\\Local\\Continuum\\anaconda3\\envs\\py27\\lib\\site-packages\\matplotlib\\artist.py\", line 55, in draw_wrapper\n",
      "    return draw(artist, renderer, *args, **kwargs)\n",
      "  File \"C:\\Users\\peter\\AppData\\Local\\Continuum\\anaconda3\\envs\\py27\\lib\\site-packages\\matplotlib\\lines.py\", line 787, in draw\n",
      "    renderer.draw_path(gc, tpath, affine.frozen())\n",
      "  File \"C:\\Users\\peter\\AppData\\Local\\Continuum\\anaconda3\\envs\\py27\\lib\\site-packages\\matplotlib\\backends\\backend_agg.py\", line 167, in draw_path\n",
      "    raise OverflowError(\"Exceeded cell block limit (set 'agg.path.chunksize' rcparam)\")\n",
      "OverflowError: Exceeded cell block limit (set 'agg.path.chunksize' rcparam)\n",
      "Traceback (most recent call last):\n",
      "  File \"C:\\Users\\peter\\AppData\\Local\\Continuum\\anaconda3\\envs\\py27\\lib\\site-packages\\matplotlib\\backends\\backend_qt5agg.py\", line 164, in __draw_idle_agg\n",
      "    self.draw()\n",
      "  File \"C:\\Users\\peter\\AppData\\Local\\Continuum\\anaconda3\\envs\\py27\\lib\\site-packages\\matplotlib\\backends\\backend_qt5agg.py\", line 133, in draw\n",
      "    super(FigureCanvasQTAggBase, self).draw()\n",
      "  File \"C:\\Users\\peter\\AppData\\Local\\Continuum\\anaconda3\\envs\\py27\\lib\\site-packages\\matplotlib\\backends\\backend_agg.py\", line 430, in draw\n",
      "    self.figure.draw(self.renderer)\n",
      "  File \"C:\\Users\\peter\\AppData\\Local\\Continuum\\anaconda3\\envs\\py27\\lib\\site-packages\\matplotlib\\artist.py\", line 55, in draw_wrapper\n",
      "    return draw(artist, renderer, *args, **kwargs)\n",
      "  File \"C:\\Users\\peter\\AppData\\Local\\Continuum\\anaconda3\\envs\\py27\\lib\\site-packages\\matplotlib\\figure.py\", line 1296, in draw\n",
      "    self.patch.draw(renderer)\n",
      "  File \"C:\\Users\\peter\\AppData\\Local\\Continuum\\anaconda3\\envs\\py27\\lib\\site-packages\\matplotlib\\artist.py\", line 55, in draw_wrapper\n",
      "    return draw(artist, renderer, *args, **kwargs)\n",
      "  File \"C:\\Users\\peter\\AppData\\Local\\Continuum\\anaconda3\\envs\\py27\\lib\\site-packages\\matplotlib\\patches.py\", line 544, in draw\n",
      "    renderer.draw_path(gc, tpath, affine, rgbFace)\n",
      "  File \"C:\\Users\\peter\\AppData\\Local\\Continuum\\anaconda3\\envs\\py27\\lib\\site-packages\\matplotlib\\backends\\backend_agg.py\", line 167, in draw_path\n",
      "    raise OverflowError(\"Exceeded cell block limit (set 'agg.path.chunksize' rcparam)\")\n",
      "OverflowError: Exceeded cell block limit (set 'agg.path.chunksize' rcparam)\n",
      "Traceback (most recent call last):\n",
      "  File \"C:\\Users\\peter\\AppData\\Local\\Continuum\\anaconda3\\envs\\py27\\lib\\site-packages\\matplotlib\\backends\\backend_qt5agg.py\", line 164, in __draw_idle_agg\n",
      "    self.draw()\n",
      "  File \"C:\\Users\\peter\\AppData\\Local\\Continuum\\anaconda3\\envs\\py27\\lib\\site-packages\\matplotlib\\backends\\backend_qt5agg.py\", line 133, in draw\n",
      "    super(FigureCanvasQTAggBase, self).draw()\n",
      "  File \"C:\\Users\\peter\\AppData\\Local\\Continuum\\anaconda3\\envs\\py27\\lib\\site-packages\\matplotlib\\backends\\backend_agg.py\", line 430, in draw\n",
      "    self.figure.draw(self.renderer)\n",
      "  File \"C:\\Users\\peter\\AppData\\Local\\Continuum\\anaconda3\\envs\\py27\\lib\\site-packages\\matplotlib\\artist.py\", line 55, in draw_wrapper\n",
      "    return draw(artist, renderer, *args, **kwargs)\n",
      "  File \"C:\\Users\\peter\\AppData\\Local\\Continuum\\anaconda3\\envs\\py27\\lib\\site-packages\\matplotlib\\figure.py\", line 1296, in draw\n",
      "    self.patch.draw(renderer)\n",
      "  File \"C:\\Users\\peter\\AppData\\Local\\Continuum\\anaconda3\\envs\\py27\\lib\\site-packages\\matplotlib\\artist.py\", line 55, in draw_wrapper\n",
      "    return draw(artist, renderer, *args, **kwargs)\n",
      "  File \"C:\\Users\\peter\\AppData\\Local\\Continuum\\anaconda3\\envs\\py27\\lib\\site-packages\\matplotlib\\patches.py\", line 544, in draw\n",
      "    renderer.draw_path(gc, tpath, affine, rgbFace)\n",
      "  File \"C:\\Users\\peter\\AppData\\Local\\Continuum\\anaconda3\\envs\\py27\\lib\\site-packages\\matplotlib\\backends\\backend_agg.py\", line 167, in draw_path\n",
      "    raise OverflowError(\"Exceeded cell block limit (set 'agg.path.chunksize' rcparam)\")\n",
      "OverflowError: Exceeded cell block limit (set 'agg.path.chunksize' rcparam)\n",
      "Traceback (most recent call last):\n",
      "  File \"C:\\Users\\peter\\AppData\\Local\\Continuum\\anaconda3\\envs\\py27\\lib\\site-packages\\matplotlib\\backends\\backend_qt5agg.py\", line 164, in __draw_idle_agg\n",
      "    self.draw()\n",
      "  File \"C:\\Users\\peter\\AppData\\Local\\Continuum\\anaconda3\\envs\\py27\\lib\\site-packages\\matplotlib\\backends\\backend_qt5agg.py\", line 133, in draw\n",
      "    super(FigureCanvasQTAggBase, self).draw()\n",
      "  File \"C:\\Users\\peter\\AppData\\Local\\Continuum\\anaconda3\\envs\\py27\\lib\\site-packages\\matplotlib\\backends\\backend_agg.py\", line 430, in draw\n",
      "    self.figure.draw(self.renderer)\n",
      "  File \"C:\\Users\\peter\\AppData\\Local\\Continuum\\anaconda3\\envs\\py27\\lib\\site-packages\\matplotlib\\artist.py\", line 55, in draw_wrapper\n",
      "    return draw(artist, renderer, *args, **kwargs)\n",
      "  File \"C:\\Users\\peter\\AppData\\Local\\Continuum\\anaconda3\\envs\\py27\\lib\\site-packages\\matplotlib\\figure.py\", line 1296, in draw\n",
      "    self.patch.draw(renderer)\n",
      "  File \"C:\\Users\\peter\\AppData\\Local\\Continuum\\anaconda3\\envs\\py27\\lib\\site-packages\\matplotlib\\artist.py\", line 55, in draw_wrapper\n",
      "    return draw(artist, renderer, *args, **kwargs)\n",
      "  File \"C:\\Users\\peter\\AppData\\Local\\Continuum\\anaconda3\\envs\\py27\\lib\\site-packages\\matplotlib\\patches.py\", line 544, in draw\n",
      "    renderer.draw_path(gc, tpath, affine, rgbFace)\n",
      "  File \"C:\\Users\\peter\\AppData\\Local\\Continuum\\anaconda3\\envs\\py27\\lib\\site-packages\\matplotlib\\backends\\backend_agg.py\", line 167, in draw_path\n",
      "    raise OverflowError(\"Exceeded cell block limit (set 'agg.path.chunksize' rcparam)\")\n",
      "OverflowError: Exceeded cell block limit (set 'agg.path.chunksize' rcparam)\n",
      "Traceback (most recent call last):\n",
      "  File \"C:\\Users\\peter\\AppData\\Local\\Continuum\\anaconda3\\envs\\py27\\lib\\site-packages\\matplotlib\\backends\\backend_qt5agg.py\", line 164, in __draw_idle_agg\n",
      "    self.draw()\n",
      "  File \"C:\\Users\\peter\\AppData\\Local\\Continuum\\anaconda3\\envs\\py27\\lib\\site-packages\\matplotlib\\backends\\backend_qt5agg.py\", line 133, in draw\n",
      "    super(FigureCanvasQTAggBase, self).draw()\n",
      "  File \"C:\\Users\\peter\\AppData\\Local\\Continuum\\anaconda3\\envs\\py27\\lib\\site-packages\\matplotlib\\backends\\backend_agg.py\", line 430, in draw\n",
      "    self.figure.draw(self.renderer)\n",
      "  File \"C:\\Users\\peter\\AppData\\Local\\Continuum\\anaconda3\\envs\\py27\\lib\\site-packages\\matplotlib\\artist.py\", line 55, in draw_wrapper\n",
      "    return draw(artist, renderer, *args, **kwargs)\n",
      "  File \"C:\\Users\\peter\\AppData\\Local\\Continuum\\anaconda3\\envs\\py27\\lib\\site-packages\\matplotlib\\figure.py\", line 1296, in draw\n",
      "    self.patch.draw(renderer)\n",
      "  File \"C:\\Users\\peter\\AppData\\Local\\Continuum\\anaconda3\\envs\\py27\\lib\\site-packages\\matplotlib\\artist.py\", line 55, in draw_wrapper\n",
      "    return draw(artist, renderer, *args, **kwargs)\n",
      "  File \"C:\\Users\\peter\\AppData\\Local\\Continuum\\anaconda3\\envs\\py27\\lib\\site-packages\\matplotlib\\patches.py\", line 544, in draw\n",
      "    renderer.draw_path(gc, tpath, affine, rgbFace)\n",
      "  File \"C:\\Users\\peter\\AppData\\Local\\Continuum\\anaconda3\\envs\\py27\\lib\\site-packages\\matplotlib\\backends\\backend_agg.py\", line 167, in draw_path\n",
      "    raise OverflowError(\"Exceeded cell block limit (set 'agg.path.chunksize' rcparam)\")\n",
      "OverflowError: Exceeded cell block limit (set 'agg.path.chunksize' rcparam)\n",
      "Traceback (most recent call last):\n",
      "  File \"C:\\Users\\peter\\AppData\\Local\\Continuum\\anaconda3\\envs\\py27\\lib\\site-packages\\matplotlib\\backends\\backend_qt5agg.py\", line 164, in __draw_idle_agg\n",
      "    self.draw()\n",
      "  File \"C:\\Users\\peter\\AppData\\Local\\Continuum\\anaconda3\\envs\\py27\\lib\\site-packages\\matplotlib\\backends\\backend_qt5agg.py\", line 133, in draw\n",
      "    super(FigureCanvasQTAggBase, self).draw()\n",
      "  File \"C:\\Users\\peter\\AppData\\Local\\Continuum\\anaconda3\\envs\\py27\\lib\\site-packages\\matplotlib\\backends\\backend_agg.py\", line 430, in draw\n",
      "    self.figure.draw(self.renderer)\n",
      "  File \"C:\\Users\\peter\\AppData\\Local\\Continuum\\anaconda3\\envs\\py27\\lib\\site-packages\\matplotlib\\artist.py\", line 55, in draw_wrapper\n",
      "    return draw(artist, renderer, *args, **kwargs)\n",
      "  File \"C:\\Users\\peter\\AppData\\Local\\Continuum\\anaconda3\\envs\\py27\\lib\\site-packages\\matplotlib\\figure.py\", line 1296, in draw\n",
      "    self.patch.draw(renderer)\n",
      "  File \"C:\\Users\\peter\\AppData\\Local\\Continuum\\anaconda3\\envs\\py27\\lib\\site-packages\\matplotlib\\artist.py\", line 55, in draw_wrapper\n",
      "    return draw(artist, renderer, *args, **kwargs)\n",
      "  File \"C:\\Users\\peter\\AppData\\Local\\Continuum\\anaconda3\\envs\\py27\\lib\\site-packages\\matplotlib\\patches.py\", line 544, in draw\n",
      "    renderer.draw_path(gc, tpath, affine, rgbFace)\n",
      "  File \"C:\\Users\\peter\\AppData\\Local\\Continuum\\anaconda3\\envs\\py27\\lib\\site-packages\\matplotlib\\backends\\backend_agg.py\", line 167, in draw_path\n",
      "    raise OverflowError(\"Exceeded cell block limit (set 'agg.path.chunksize' rcparam)\")\n",
      "OverflowError: Exceeded cell block limit (set 'agg.path.chunksize' rcparam)\n"
     ]
    }
   ],
   "source": [
    "#create lookup tables for linearizing\n",
    "lkp1=make_lookup(linpars1,expars1)\n",
    "lkp2=make_lookup(linpars2,expars2)\n",
    "lkp3=make_lookup(linpars3,expars3)"
   ]
  },
  {
   "cell_type": "code",
   "execution_count": null,
   "metadata": {
    "collapsed": true
   },
   "outputs": [],
   "source": [
    "Vlin1=linearize_Vexp(ds1,lkp1)\n",
    "Vlin2=linearize_Vexp(ds2,lkp2)\n",
    "Vlin3=linearize_Vexp(ds3,lkp3)"
   ]
  },
  {
   "cell_type": "code",
   "execution_count": 77,
   "metadata": {
    "collapsed": false
   },
   "outputs": [
    {
     "data": {
      "text/plain": [
       "<matplotlib.legend.Legend at 0x454d9208>"
      ]
     },
     "execution_count": 77,
     "metadata": {},
     "output_type": "execute_result"
    }
   ],
   "source": [
    "figure()\n",
    "title('Horn 1 Hi')\n",
    "plot(rs1,ds1,label='data')\n",
    "expmod1=compfunc(rs1,expars1)\n",
    "plot(rsf1,dsf1,label='data for linear fit')\n",
    "plot(rs1,Vlin1,label='linearized data')\n",
    "plot(rs1,expmod1,label='exponential Fit')\n",
    "plot(rs1,dsmod1,label='Linear Fit')\n",
    "\n",
    "ylabel('Detector voltage (x100)')\n",
    "xlabel('Ref voltage (H1LoDC)')\n",
    "legend()\n",
    "\n",
    "figure()\n",
    "title('Horn 2 Hi')\n",
    "plot(rs2,ds2,label='data')\n",
    "expmod2=compfunc(rs2,expars2)\n",
    "plot(rsf2,dsf2,label='data for linear fit')\n",
    "plot(rs2,Vlin2,label='linearized data')\n",
    "plot(rs2,expmod2,label='exponential Fit')\n",
    "plot(rs2,dsmod2,label='Linear Fit')\n",
    "ylabel('Detector voltage (x100)')\n",
    "xlabel('Ref voltage (H1LoDC)')\n",
    "legend()\n",
    "\n",
    "figure()\n",
    "title('Horn 3 Hi')\n",
    "plot(rs3,ds3,label='data')\n",
    "expmod3=compfunc(rs3,expars3)\n",
    "plot(rsf3,dsf3,label='data for linear fit')\n",
    "plot(rs3,Vlin3,label='linearized data')\n",
    "plot(rs3,expmod3,label='exponential Fit')\n",
    "plot(rs3,dsmod3,label='Linear Fit')\n",
    "ylabel('Detector voltage (x100)')\n",
    "xlabel('Ref voltage (H1LoDC)')\n",
    "legend()"
   ]
  }
 ],
 "metadata": {
  "kernelspec": {
   "display_name": "Python 2",
   "language": "python",
   "name": "python2"
  },
  "language_info": {
   "codemirror_mode": {
    "name": "ipython",
    "version": 2
   },
   "file_extension": ".py",
   "mimetype": "text/x-python",
   "name": "python",
   "nbconvert_exporter": "python",
   "pygments_lexer": "ipython2",
   "version": "2.7.13"
  }
 },
 "nbformat": 4,
 "nbformat_minor": 2
}
