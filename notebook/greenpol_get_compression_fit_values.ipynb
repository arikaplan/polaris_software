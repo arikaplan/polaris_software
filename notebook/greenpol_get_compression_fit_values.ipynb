{
 "cells": [
  {
   "cell_type": "code",
   "execution_count": 1,
   "metadata": {
    "scrolled": true
   },
   "outputs": [
    {
     "name": "stderr",
     "output_type": "stream",
     "text": [
      "C:\\Users\\labuser\\anaconda3\\envs\\py27\\lib\\site-packages\\pyfits\\__init__.py:22: PyFITSDeprecationWarning: PyFITS is deprecated, please use astropy.io.fits\n",
      "  PyFITSDeprecationWarning)  # noqa\n"
     ]
    }
   ],
   "source": [
    "from contextlib import contextmanager\n",
    "import os\n",
    "import datetime as dt\n",
    "import numpy as np\n",
    "import h5py\n",
    "import time\n",
    "import sys\n",
    "os.chdir('D:/software_git_repos/greenpol/telescope_control/data_aquisition')\n",
    "sys.path.append('../')\n",
    "sys.path.append('D:\\\\software_git_repos\\\\Polaris\\\\polaris_software\\\\utils_meinhold')\n",
    "sys.path.append('D:\\\\software_git_repos\\\\Polaris\\\\polaris_software\\\\utils_zonca')\n",
    "sys.path.append('D:\\\\software_git_repos\\\\Polaris\\\\polaris_software\\\\utils_zonca\\\\demod')\n",
    "from glob import glob\n",
    "\n",
    "sys.path.append('../../')\n",
    "sys.path.append('../../../')\n",
    "sys.path.append('../VtoT/')\n",
    "\n",
    "\n",
    "import Tkinter,tkFileDialog\n",
    "\n",
    "import cofe_util as cu\n",
    "import realtime_gp as rt\n",
    "import datetime\n",
    "\n",
    "from Tkinter import *\n",
    "import ttk\n",
    "\n",
    "from scipy import optimize\n",
    "import pickle\n"
   ]
  },
  {
   "cell_type": "code",
   "execution_count": 17,
   "metadata": {},
   "outputs": [],
   "source": [
    "%matplotlib inline"
   ]
  },
  {
   "cell_type": "code",
   "execution_count": 18,
   "metadata": {},
   "outputs": [],
   "source": [
    "def nametochan(name):\n",
    "    #function to convert channel numbers to channel names\n",
    "\n",
    "    #names of each channel\n",
    "    chans = {\n",
    "        'all': 'all',  'H1HiAC':'ch0',  'H1HiDC':'ch1',\n",
    "        'H1LoAC':'ch2' ,  'H1LoDC':'ch3', 'H2HiAC':'ch4' ,\n",
    "        'H2HiDC':'ch5' ,  'H2LoAC':'ch6',  'H2LoDC':'ch7',\n",
    "        'H3HiAC':'ch8', 'H3HiDC':'ch9',  'H3LoAC':'ch10',\n",
    "         'H3LoDC':'ch11', 'HornTop':'ch12', 'Amplifier': 'ch13',\n",
    "        'Cooler':'ch14', 'Transition':'ch15'}\n",
    "\n",
    "    chan = chans[name]\n",
    "\n",
    "    return chan"
   ]
  },
  {
   "cell_type": "code",
   "execution_count": 3,
   "metadata": {},
   "outputs": [
    {
     "name": "stdout",
     "output_type": "stream",
     "text": [
      "Using matplotlib backend: Qt5Agg\n",
      "Populating the interactive namespace from numpy and matplotlib\n"
     ]
    },
    {
     "name": "stderr",
     "output_type": "stream",
     "text": [
      "C:\\Users\\labuser\\anaconda3\\envs\\py27\\lib\\site-packages\\IPython\\core\\magics\\pylab.py:161: UserWarning: pylab import has clobbered these variables: ['Widget', 'Text', 'Button']\n",
      "`%matplotlib` prevents importing * from pylab and numpy\n",
      "  \"\\n`%matplotlib` prevents importing * from pylab and numpy\"\n"
     ]
    }
   ],
   "source": [
    "%pylab"
   ]
  },
  {
   "cell_type": "code",
   "execution_count": 4,
   "metadata": {},
   "outputs": [],
   "source": [
    "def read_some_data(datadict,datalabel,datatype='demod', filelist=None):\n",
    "\n",
    "    if filelist==None:\n",
    "        root=Tkinter.Tk()\n",
    "        if datatype=='demod':\n",
    "            filelist = list(tkFileDialog.askopenfilenames(\\\n",
    "            initialdir='C://Greenland/greenpol/telescope_control/data_aquisition/demod_data/',parent=root,title='Choose a set of files'))\n",
    "        if datatype=='raw':\n",
    "            filelist = list(tkFileDialog.askopenfilenames(\\\n",
    "            initialdir='C://Greenland/greenpol/telescope_control/data_aquisition/data/',parent=root,title='Choose a set of files'))            \n",
    "        root.destroy()\n",
    "    filelist.sort()\n",
    "    \n",
    "    if datatype=='demod':\n",
    "        dlist=[]\n",
    "        for f in filelist:\n",
    "            hf=h5py.File(f)\n",
    "            dlist.append(hf['demod_data'])\n",
    "        d=concatenate(dlist)\n",
    "        hf.close() \n",
    "        \n",
    "    if datatype=='raw':\n",
    "        d=rt.demod.read_raw(filelist)\n",
    "    datadict[datalabel]=d\n",
    "    return"
   ]
  },
  {
   "cell_type": "code",
   "execution_count": 5,
   "metadata": {},
   "outputs": [],
   "source": [
    "def plot_nl_dict(toi_dict,chanlist=['H1HiDC'],componentlist=['T'],datalist=None):\n",
    "    #function to give a choice of preloaded datasets from dictionary data_dict\n",
    "    #this plots chosen channels vs H1LoDC (should be attenuated more linear detector)\n",
    "    figure()\n",
    "    if datalist==None:\n",
    "        datalist=toi_dict.keys()\n",
    "    if len(componentlist)==1:  # if componentlist is a single value, assume same thing for all chans\n",
    "        c=componentlist[0]\n",
    "        componentlist=[c for n in chanlist]\n",
    "    #set up the color sequence for the plot\n",
    "    nlines=len(datalist)*len(chanlist)\n",
    "    colormap = cm.gist_ncar\n",
    "    gca().set_color_cycle([colormap(i) for i in np.linspace(0, 0.9, nlines)])\n",
    "    titletxt=[]\n",
    "    for dname in datalist:\n",
    "        samprate=1000./(toi_dict[dname]['rev'][1]-toi_dict[dname]['rev'][0])\n",
    "        print(dname,samprate)\n",
    "        titletxt.append(dname)\n",
    "        for channame,component in zip(chanlist,componentlist):\n",
    "            print(channame,component)\n",
    "            try:\n",
    "                toi=toi_dict[dname][nametochan(channame)][component] #if it's demod data so a dict\n",
    "                toi_x=toi_dict[dname][nametochan('H2LoDC')][component] #highly attenuated channel\n",
    "                plot(toi_x,toi,label=dname+ '  '+channame+' '+component)\n",
    "            except:\n",
    "                toi=toi_dict[dname][nametochan(channame)].flatten()#if it's raw data so not a dict\n",
    "                toi_x=toi_dict[dname][nametochan('H2LoDC')].flatten()# highly attenuated channel\n",
    "                plot(toi_x,toi,label=dname+ '  '+channame+' '+component)\n",
    "            \n",
    "    title(titletxt)\n",
    "    legend()\n",
    "    xlabel('H1LoDC [V]')\n",
    "    ylabel(r'Signal [V]')"
   ]
  },
  {
   "cell_type": "code",
   "execution_count": 6,
   "metadata": {},
   "outputs": [],
   "source": [
    "#create a dictionary to hold relevant data, then read raw data files in for analysis\n",
    "rdict={}"
   ]
  },
  {
   "cell_type": "code",
   "execution_count": 36,
   "metadata": {
    "scrolled": true
   },
   "outputs": [
    {
     "name": "stderr",
     "output_type": "stream",
     "text": [
      "WARNING:root:Removing invalid revolutions (index from beginning of file): [  0 999]\n"
     ]
    },
    {
     "name": "stdout",
     "output_type": "stream",
     "text": [
      "1001\n",
      "16\n"
     ]
    },
    {
     "name": "stderr",
     "output_type": "stream",
     "text": [
      "WARNING:root:Removing invalid revolutions (index from beginning of file): [998]\n"
     ]
    },
    {
     "name": "stdout",
     "output_type": "stream",
     "text": [
      "1000\n",
      "16\n"
     ]
    },
    {
     "name": "stderr",
     "output_type": "stream",
     "text": [
      "WARNING:root:Removing invalid revolutions (index from beginning of file): [998]\n"
     ]
    },
    {
     "name": "stdout",
     "output_type": "stream",
     "text": [
      "1000\n",
      "16\n"
     ]
    },
    {
     "name": "stderr",
     "output_type": "stream",
     "text": [
      "WARNING:root:Removing invalid revolutions (index from beginning of file): [998]\n"
     ]
    },
    {
     "name": "stdout",
     "output_type": "stream",
     "text": [
      "1000\n",
      "16\n"
     ]
    },
    {
     "name": "stderr",
     "output_type": "stream",
     "text": [
      "WARNING:root:Removing invalid revolutions (index from beginning of file): [998]\n"
     ]
    },
    {
     "name": "stdout",
     "output_type": "stream",
     "text": [
      "1000\n",
      "16\n"
     ]
    },
    {
     "name": "stderr",
     "output_type": "stream",
     "text": [
      "WARNING:root:Removing invalid revolutions (index from beginning of file): [998]\n"
     ]
    },
    {
     "name": "stdout",
     "output_type": "stream",
     "text": [
      "1000\n",
      "16\n"
     ]
    },
    {
     "name": "stderr",
     "output_type": "stream",
     "text": [
      "WARNING:root:Removing invalid revolutions (index from beginning of file): [998]\n"
     ]
    },
    {
     "name": "stdout",
     "output_type": "stream",
     "text": [
      "1000\n",
      "16\n"
     ]
    },
    {
     "name": "stderr",
     "output_type": "stream",
     "text": [
      "WARNING:root:Removing invalid revolutions (index from beginning of file): [998]\n"
     ]
    },
    {
     "name": "stdout",
     "output_type": "stream",
     "text": [
      "1000\n",
      "16\n"
     ]
    },
    {
     "name": "stderr",
     "output_type": "stream",
     "text": [
      "WARNING:root:Removing invalid revolutions (index from beginning of file): [998]\n"
     ]
    },
    {
     "name": "stdout",
     "output_type": "stream",
     "text": [
      "1000\n",
      "16\n"
     ]
    }
   ],
   "source": [
    "read_some_data(rdict,'nl2_3_22',datatype='raw')"
   ]
  },
  {
   "cell_type": "code",
   "execution_count": 37,
   "metadata": {
    "scrolled": true
   },
   "outputs": [],
   "source": [
    "#plot for a quick check data are OK\n",
    "#plot_nl_dict(rdict,chanlist=['H3HiDC', 'H1LoDC'],componentlist=['T'],datalist=['nl1_3_23'])"
   ]
  },
  {
   "cell_type": "code",
   "execution_count": 38,
   "metadata": {},
   "outputs": [],
   "source": [
    "#d1=rdict['nl1_3_22'][nametochan('H1HiDC')].flatten()\n",
    "#r1=rdict['nl1_3_22'][nametochan('H1LoDC')].flatten()\n",
    "d2=rdict['nl2_3_22'][nametochan('H2HiDC')].flatten()\n",
    "r2=rdict['nl2_3_22'][nametochan('H1LoDC')].flatten()\n",
    "#d3=rdict['nl1_3_23'][nametochan('H3HiDC')].flatten()\n",
    "#r3=rdict['nl1_3_23'][nametochan('H1LoDC')].flatten()"
   ]
  },
  {
   "cell_type": "code",
   "execution_count": 39,
   "metadata": {},
   "outputs": [],
   "source": [
    "#isort=argsort(d1)\n",
    "#ds1=d1[isort]\n",
    "#rs1=r1[isort]\n",
    "isort=argsort(d2)\n",
    "ds2=d2[isort]\n",
    "rs2=r2[isort]\n",
    "#isort=argsort(d3)\n",
    "#ds3=d3[isort]\n",
    "#rs3=r3[isort]"
   ]
  },
  {
   "cell_type": "code",
   "execution_count": 40,
   "metadata": {},
   "outputs": [],
   "source": [
    "def compfunc(x,p):\n",
    "    \"\"\"\n",
    "    define a non-linear function to fit compression\n",
    "    parameters p(4): (offset,slope,exponential coefficient, exponent)\n",
    "    \"\"\"\n",
    "    y=p[0]+p[1]*x+p[2]*exp(p[3]*x)\n",
    "    return y\n",
    "\n",
    "def compfuncresiduals(p,y,x):\n",
    "    err=y-compfunc(x,p)\n",
    "    return err"
   ]
  },
  {
   "cell_type": "code",
   "execution_count": 41,
   "metadata": {},
   "outputs": [],
   "source": [
    "def fit_compression(x,y,pstart=None):\n",
    "    \"\"\"\n",
    "    function to fit compression function\n",
    "    \"\"\"\n",
    "    xmax=x[y==np.max(y)][0]\n",
    "    if pstart==None:\n",
    "        pstart=[np.max(y),xmax,1,1]\n",
    "        if np.max(y)==y[0]:\n",
    "            pstart=[y[0],x[0]-1,0,1]\n",
    "        if np.max(y)==y[-1]:\n",
    "            pstart=[y[-1],x[-1]+1,1,0]\n",
    "    pbest=optimize.leastsq(compfuncresiduals,pstart,args=(y,x))\n",
    "    params={}\n",
    "    params['offset']=pbest[0][0]\n",
    "    params['slope']=pbest[0][1]\n",
    "    params['exp_coeff']=np.abs(pbest[0][2])\n",
    "    params['exponent']=np.abs(pbest[0][3])\n",
    "    params['fit']=compfunc(x,pbest[0])\n",
    "    return pbest[0]"
   ]
  },
  {
   "cell_type": "code",
   "execution_count": 42,
   "metadata": {},
   "outputs": [],
   "source": [
    "def make_lookup(linpars,expars):\n",
    "    #create lookup table for Vlin from Vexp\n",
    "    x=arange(-.5,.1,.001)\n",
    "    Vlin=(x-linpars[0])/linpars[1]\n",
    "    Vexp=expars[0]+expars[1]*x+expars[2]*exp(expars[3]*x)\n",
    "    return(Vexp,Vlin)"
   ]
  },
  {
   "cell_type": "code",
   "execution_count": 43,
   "metadata": {},
   "outputs": [],
   "source": [
    "def linearize_Vexp(Vexp,lookup):\n",
    "    #Vexp is input data, potentially compressed,lookup is lookup table (which is\n",
    "    #a tuple of paired compressed and linearized values):\n",
    "    # returns an array of estimated linear values\n",
    "    Vlin=np.interp(Vexp,lookup[0],lookup[1])\n",
    "    return Vlin "
   ]
  },
  {
   "cell_type": "code",
   "execution_count": 44,
   "metadata": {},
   "outputs": [],
   "source": [
    "#expars1=fit_compression(rs1,ds1)\n",
    "expars2=fit_compression(rs2,ds2)\n",
    "#expars3=fit_compression(rs3,ds3)"
   ]
  },
  {
   "cell_type": "code",
   "execution_count": 45,
   "metadata": {},
   "outputs": [],
   "source": [
    "#dsf1=np.array([ds1[i] for i in range(len(ds1)) if (ds1[i]>-.5) and (ds1[i]<.04)])\n",
    "#rsf1=np.array([rs1[i] for i in range(len(ds1)) if (ds1[i]>-.5) and (ds1[i]<.04)])\n",
    "dsf2=np.array([ds2[i] for i in range(len(ds2)) if (ds2[i]>-.5) and (ds2[i]<.04)])\n",
    "rsf2=np.array([rs2[i] for i in range(len(ds2)) if (ds2[i]>-.5) and (ds2[i]<.04)])\n",
    "\n",
    "#dsf3=np.array([ds3[i] for i in range(len(ds3)) if (ds3[i]>-.5) and (ds3[i]<.04)])\n",
    "#rsf3=np.array([rs3[i] for i in range(len(ds3)) if (ds3[i]>-.5) and (ds3[i]<.04)])"
   ]
  },
  {
   "cell_type": "code",
   "execution_count": 46,
   "metadata": {},
   "outputs": [],
   "source": [
    "#linpars1=cu.linfit(dsf1,rsf1)\n",
    "linpars2=cu.linfit(dsf2,rsf2)\n",
    "#linpars3=cu.linfit(dsf3,rsf3)"
   ]
  },
  {
   "cell_type": "code",
   "execution_count": 47,
   "metadata": {},
   "outputs": [
    {
     "name": "stdout",
     "output_type": "stream",
     "text": [
      "[-1.63474807 15.64453898  1.39352681 12.20774775]\n",
      "[0.00710002 0.03012872]\n"
     ]
    }
   ],
   "source": [
    "#print(expars1)\n",
    "#print(linpars1)\n",
    "print(expars2)\n",
    "print(linpars2)\n",
    "#print(expars3)\n",
    "#print(linpars3)"
   ]
  },
  {
   "cell_type": "code",
   "execution_count": 48,
   "metadata": {},
   "outputs": [],
   "source": [
    "#dsmod1=(rs1-linpars1[0])/linpars1[1]\n",
    "dsmod2=(rs2-linpars2[0])/linpars2[1]\n",
    "#dsmod3=(rs3-linpars3[0])/linpars3[1]\n"
   ]
  },
  {
   "cell_type": "code",
   "execution_count": 49,
   "metadata": {},
   "outputs": [],
   "source": [
    "#store/save the linear and nonlinear fit parameters from 3/23/2018\n",
    "expars1 = [-0.84993233 ,9.78598864,  0.66668683, 12.19587388]\n",
    "linpars1 = [0.00956788, 0.05284956]\n",
    "expars2 = [-1.63546518, 15.64129845,  1.3942447,  12.20374749]\n",
    "linpars2 = [0.00710006, 0.03012924]\n",
    "expars3 = [-0.46086952, 5.05960299,  0.39081414,  8.34334881]\n",
    "linpars3 = [0.00771685, 0.12552887]\n"
   ]
  },
  {
   "cell_type": "code",
   "execution_count": 13,
   "metadata": {},
   "outputs": [
    {
     "name": "stdout",
     "output_type": "stream",
     "text": [
      "it got here\n"
     ]
    }
   ],
   "source": [
    "pars={'expars1':expars1,'expars2':expars2,'expars3':expars3, 'linpars1':linpars1,\n",
    "     'linpars2':linpars2,'linpars3':linpars3}\n",
    "\n",
    "fpath='D:/software_git_repos/greenpol/telescope_control/configurations'\n",
    "#fpath='D:/software_git_repos/greenpol/telescope_control/configurations'\n",
    "os.chdir(fpath)\n",
    "\n",
    "folder='calibrations'\n",
    "\n",
    "#get label for save file\n",
    "fname='fit_params1'\n",
    "\n",
    "os.chdir(fpath+'/'+folder)\n",
    "\n",
    "if os.path.isfile(fname+'.txt')==True:\n",
    "    print \"LABEL EXISTS. Please change your label!\"\n",
    "\n",
    "else:\n",
    "    with open(fname+'.txt', 'w') as handle:\n",
    "        pickle.dump(pars,handle)\n",
    "os.chdir('D:/software_git_repos/greenpol/telescope_control/data_aquisition')"
   ]
  },
  {
   "cell_type": "code",
   "execution_count": 50,
   "metadata": {},
   "outputs": [],
   "source": [
    "#create lookup tables for linearizing\n",
    "#lkp1=make_lookup(linpars1,expars1)\n",
    "lkp2=make_lookup(linpars2,expars2)\n",
    "#lkp3=make_lookup(linpars3,expars3)"
   ]
  },
  {
   "cell_type": "code",
   "execution_count": 51,
   "metadata": {},
   "outputs": [],
   "source": [
    "#Vlin1=linearize_Vexp(ds1,lkp1)\n",
    "Vlin2=linearize_Vexp(ds2,lkp2)\n",
    "#Vlin3=linearize_Vexp(ds3,lkp3)"
   ]
  },
  {
   "cell_type": "code",
   "execution_count": 52,
   "metadata": {},
   "outputs": [
    {
     "data": {
      "text/plain": [
       "<matplotlib.legend.Legend at 0x6adfdb38>"
      ]
     },
     "execution_count": 52,
     "metadata": {},
     "output_type": "execute_result"
    },
    {
     "data": {
      "image/png": "[encoded data removed]",
      "text/plain": [
       "<Figure size 432x288 with 1 Axes>"
      ]
     },
     "metadata": {
      "needs_background": "light"
     },
     "output_type": "display_data"
    }
   ],
   "source": [
    "sign = -1\n",
    "figure()\n",
    "plot(sign*rs2,sign*ds2,'k.',label='data')\n",
    "expmod2=compfunc(rs2,expars2)\n",
    "#plot(sign*rsf2,sign*dsf2,label='data for linear fit')\n",
    "plot(sign*rs2,sign*Vlin2, 'b-',label='linearized data')\n",
    "plot(sign*rs2,sign*expmod2, 'r-',label='exponential Fit')\n",
    "plot(sign*rs2,sign*dsmod2, 'g-',label='Linear Fit')\n",
    "ylabel('Detector voltage (x100)')\n",
    "xlabel('Ref voltage')\n",
    "legend()"
   ]
  },
  {
   "cell_type": "code",
   "execution_count": 54,
   "metadata": {},
   "outputs": [],
   "source": [
    "import realtime_gp as rt"
   ]
  },
  {
   "cell_type": "code",
   "execution_count": 55,
   "metadata": {},
   "outputs": [],
   "source": [
    "Vlin_decreasing = rt.linearize_Vexp(ds2,2,params='_decreasing')\n",
    "Vlin_increasing = rt.linearize_Vexp(ds2,2,params='_increasing')"
   ]
  },
  {
   "cell_type": "code",
   "execution_count": 56,
   "metadata": {},
   "outputs": [
    {
     "data": {
      "text/plain": [
       "<matplotlib.legend.Legend at 0x17e5d6d8>"
      ]
     },
     "execution_count": 56,
     "metadata": {},
     "output_type": "execute_result"
    },
    {
     "data": {
      "image/png": "[encoded data removed]",
      "text/plain": [
       "<Figure size 432x288 with 1 Axes>"
      ]
     },
     "metadata": {
      "needs_background": "light"
     },
     "output_type": "display_data"
    }
   ],
   "source": [
    "figure()\n",
    "title('Horn 2')\n",
    "plot(-rs2,-Vlin_decreasing,label='increasing power')\n",
    "plot(-rs2,-Vlin_increasing,label='decreasing power')\n",
    "plot(-rs2,abs(Vlin_increasing-Vlin_decreasing),label='|difference|')\n",
    "ylabel('Detector voltage (x100)')\n",
    "xlabel('Ref voltage')\n",
    "legend()"
   ]
  },
  {
   "cell_type": "code",
   "execution_count": null,
   "metadata": {},
   "outputs": [],
   "source": []
  }
 ],
 "metadata": {
  "kernelspec": {
   "display_name": "Python 2",
   "language": "python",
   "name": "python2"
  },
  "language_info": {
   "codemirror_mode": {
    "name": "ipython",
    "version": 2
   },
   "file_extension": ".py",
   "mimetype": "text/x-python",
   "name": "python",
   "nbconvert_exporter": "python",
   "pygments_lexer": "ipython2",
   "version": "2.7.16"
  }
 },
 "nbformat": 4,
 "nbformat_minor": 2
}
