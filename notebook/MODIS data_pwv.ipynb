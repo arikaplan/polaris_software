{
 "cells": [
  {
   "cell_type": "code",
   "execution_count": 1,
   "metadata": {},
   "outputs": [],
   "source": [
    "from pyhdf.SD import SD, SDC\n",
    "import numpy as np\n",
    "import matplotlib.pyplot as plt\n",
    "import pprint\n",
    "from os import listdir\n",
    "import time\n",
    "import h5py\n",
    "import pandas as pd\n",
    "from datetime import datetime, date, timedelta\n",
    "import os\n",
    "import sys\n",
    "from scipy import stats"
   ]
  },
  {
   "cell_type": "code",
   "execution_count": 2,
   "metadata": {},
   "outputs": [
    {
     "name": "stdout",
     "output_type": "stream",
     "text": [
      "Using matplotlib backend: TkAgg\n"
     ]
    }
   ],
   "source": [
    "%matplotlib auto"
   ]
  },
  {
   "cell_type": "code",
   "execution_count": 3,
   "metadata": {},
   "outputs": [],
   "source": [
    "def write_file(n_array, starttime, endtime):\n",
    "    fpath = \"D:/software_git_repos/polaris/polaris_data/weather_data/MODIS/reduced\"\n",
    "    os.chdir(fpath)\n",
    "    year = endtime.strftime('%Y')\n",
    "    path = '-'.join((starttime.strftime('%m%d'), endtime.strftime('%m%d')))\n",
    "    if not os.path.exists(year):#this is the first file being created for that time\n",
    "        os.makedirs(year)\n",
    "        #set index to 0\n",
    "\n",
    "    path = '/'.join((year,path))\n",
    "    path = '.'.join((path,\"h5\"))\n",
    "    print path\n",
    "    with h5py.File(str(path).replace(\"pkl\",\"h5\"), mode=\"w\") as f:\n",
    "        f.create_dataset(\"data\", data=n_array.to_records(index=False))"
   ]
  },
  {
   "cell_type": "code",
   "execution_count": 20,
   "metadata": {},
   "outputs": [],
   "source": [
    "file_name = 'D:/software_git_repos/polaris/polaris_data/weather_data/MODIS/cloud/2018/summer/MYD06_L2.A2018152.0020.061.2018152170514.hdf'\n",
    "file = SD(file_name, SDC.READ)"
   ]
  },
  {
   "cell_type": "code",
   "execution_count": 21,
   "metadata": {},
   "outputs": [
    {
     "name": "stdout",
     "output_type": "stream",
     "text": [
      "0 Cloud_Top_Height_Nadir_Night\n",
      "1 Single_Scatter_Albedo_Ice\n",
      "2 Radiance_Variance\n",
      "3 Brightness_Temperature\n",
      "4 Sensor_Azimuth\n",
      "5 Statistics_1km_sds\n",
      "6 Cloud_Water_Path_1621\n",
      "7 Cloud_Phase_Infrared_Day\n",
      "8 Cloud_Effective_Radius_16_PCL\n",
      "9 Sensor_Zenith\n",
      "10 Cloud_Water_Path_1621_PCL\n",
      "11 cloud_top_method_1km\n",
      "12 Tropopause_Height\n",
      "13 Cloud_Water_Path\n",
      "14 Cloud_Top_Pressure_Nadir_Day\n",
      "15 Longitude\n",
      "16 IRW_Low_Cloud_Temperature_From_COP\n",
      "17 Cloud_Fraction_Nadir\n",
      "18 Cloud_Top_Pressure_From_Ratios\n",
      "19 Atm_Corr_Refl\n",
      "20 Cirrus_Reflectance\n",
      "21 Cloud_Top_Height_Nadir_Day\n",
      "22 Cloud_Optical_Thickness_37_PCL\n",
      "23 Cloud_Optical_Thickness_Uncertainty\n",
      "24 Cloud_Effective_Radius\n",
      "25 Cloud_Effective_Radius_PCL\n",
      "26 Cloud_Fraction_Day\n",
      "27 Cloud_Top_Pressure_Day\n",
      "28 Cloud_Optical_Thickness_16_PCL\n",
      "29 Cloud_Effective_Radius_1621_PCL\n",
      "30 Solar_Zenith\n",
      "31 cloud_emiss12_1km\n",
      "32 Sensor_Azimuth_Day\n",
      "33 Latitude\n",
      "34 cloud_emissivity_1km\n",
      "35 Cloud_Top_Temperature_Night\n",
      "36 Sensor_Zenith_Night\n",
      "37 Scan_Start_Time\n",
      "38 Cloud_Optical_Thickness_1621\n",
      "39 Cloud_Water_Path_Uncertainty_37\n",
      "40 Cloud_Effective_Radius_37_PCL\n",
      "41 Cloud_Optical_Thickness_1621_PCL\n",
      "42 cloud_emiss85_1km\n",
      "43 Cloud_Effective_Radius_Uncertainty_37\n",
      "44 cloud_top_height_1km\n",
      "45 Cloud_Mask_5km\n",
      "46 IRP_CTH_Consistency_Flag_1km\n",
      "47 Cloud_Top_Pressure_Nadir_Night\n",
      "48 Solar_Azimuth_Day\n",
      "49 Cloud_Optical_Thickness_37\n",
      "50 cloud_top_pressure_1km\n",
      "51 Cloud_Optical_Thickness_Uncertainty_16\n",
      "52 Extinction_Efficiency_Ice\n",
      "53 Cloud_Phase_Infrared\n",
      "54 Retrieval_Failure_Metric_37\n",
      "55 Cloud_Effective_Radius_Uncertainty\n",
      "56 Cloud_Effective_Emissivity_Nadir_Day\n",
      "57 Cloud_Optical_Thickness_PCL\n",
      "58 Cloud_Phase_Infrared_Night\n",
      "59 Cloud_Phase_Optical_Properties\n",
      "60 Cloud_Fraction_Nadir_Day\n",
      "61 Cloud_Top_Height_Nadir\n",
      "62 cloud_emiss13_1km\n",
      "63 Cloud_Water_Path_Uncertainty_16\n",
      "64 Asymmetry_Parameter_Liq\n",
      "65 Cloud_Water_Path_16\n",
      "66 Cloud_Fraction\n",
      "67 Cloud_Top_Pressure\n",
      "68 Cloud_Water_Path_37_PCL\n",
      "69 Cloud_Fraction_Nadir_Night\n",
      "70 Cloud_Effective_Emissivity_Day\n",
      "71 Extinction_Efficiency_Liq\n",
      "72 Cloud_Mask_SPI\n",
      "73 Asymmetry_Parameter_Ice\n",
      "74 Cloud_Effective_Radius_37\n",
      "75 Retrieval_Failure_Metric_16\n",
      "76 Cloud_Optical_Thickness\n",
      "77 Cloud_Water_Path_PCL\n",
      "78 Spectral_Cloud_Forcing\n",
      "79 Cloud_Effective_Radius_1621\n",
      "80 Cloud_Effective_Radius_Uncertainty_16\n",
      "81 Cloud_Top_Pressure_Nadir\n",
      "82 Solar_Azimuth\n",
      "83 Cloud_Optical_Thickness_Uncertainty_37\n",
      "84 Cloud_Multi_Layer_Flag\n",
      "85 Cloud_Water_Path_37\n",
      "86 Surface_Pressure\n",
      "87 Cloud_Water_Path_Uncertainty\n",
      "88 Above_Cloud_Water_Vapor_094\n",
      "89 Solar_Azimuth_Night\n",
      "90 Single_Scatter_Albedo_Liq\n",
      "91 Solar_Zenith_Night\n",
      "92 Quality_Assurance_1km\n",
      "93 Sensor_Azimuth_Night\n",
      "94 Cirrus_Reflectance_Flag\n",
      "95 cloud_top_temperature_1km\n",
      "96 Cloud_Optical_Thickness_Uncertainty_1621\n",
      "97 Cloud_Top_Temperature\n",
      "98 Sensor_Zenith_Day\n",
      "99 Cloud_Top_Pressure_Night\n",
      "100 Cloud_Top_Temperature_Nadir_Day\n",
      "101 Cloud_Mask_1km\n",
      "102 Cloud_Top_Pressure_Infrared\n",
      "103 Cloud_Optical_Thickness_16\n",
      "104 Cloud_Top_Temperature_Day\n",
      "105 Cloud_Effective_Emissivity_Night\n",
      "106 surface_temperature_1km\n",
      "107 Cloud_Water_Path_Uncertainty_1621\n",
      "108 Retrieval_Failure_Metric\n",
      "109 Cloud_Top_Temperature_Nadir_Night\n",
      "110 Cloud_Effective_Radius_16\n",
      "111 Retrieval_Failure_Metric_1621\n",
      "112 os_top_flag_1km\n",
      "113 cloud_emiss11_1km\n",
      "114 Surface_Temperature\n",
      "115 Cloud_Effective_Emissivity_Nadir_Night\n",
      "116 Cloud_Height_Method\n",
      "117 Cloud_Fraction_Night\n",
      "118 Quality_Assurance_5km\n",
      "119 Cloud_Phase_Infrared_1km\n",
      "120 Solar_Zenith_Day\n",
      "121 Cloud_Top_Temperature_Nadir\n",
      "122 Cloud_Water_Path_16_PCL\n",
      "123 Cloud_Top_Height\n",
      "124 Cloud_Effective_Emissivity_Nadir\n",
      "125 Cloud_Effective_Emissivity\n",
      "126 Cloud_Effective_Radius_Uncertainty_1621\n"
     ]
    }
   ],
   "source": [
    "datasets_dic = file.datasets()\n",
    "\n",
    "for idx,sds in enumerate(datasets_dic.keys()):\n",
    "    print idx,sds"
   ]
  },
  {
   "cell_type": "code",
   "execution_count": 22,
   "metadata": {},
   "outputs": [],
   "source": [
    "lat_obj = file.select('Latitude') # select sds\n",
    "lat = lat_obj.get()\n",
    "\n",
    "lon_obj = file.select('Longitude') # select sds\n",
    "lon = lon_obj.get()\n",
    "\n",
    "data_obj = file.select('Cloud_Fraction') # select sds\n",
    "data = data_obj.get()/100.\n",
    "\n",
    "starttime_obj = file.select('Scan_Start_Time') # select sds\n",
    "starttime = starttime_obj.get()\n",
    "\n",
    "brightness_temp_obj = file.select('Brightness_Temperature')\n",
    "brightness_temp = brightness_temp_obj.get()\n",
    "\n",
    "cloud_optical_thickness_obj = file.select('Cloud_Optical_Thickness')\n",
    "cloud_optical_thickness = cloud_optical_thickness_obj.get()\n",
    "\n",
    "quality_assurance_obj = file.select('Quality_Assurance_5km')\n",
    "quality_assurance = quality_assurance_obj.get()\n",
    "\n",
    "cloud_water_path_obj = file.select('Cloud_Water_Path')\n",
    "cloud_water_path = cloud_water_path_obj.get()\n"
   ]
  },
  {
   "cell_type": "code",
   "execution_count": 23,
   "metadata": {},
   "outputs": [
    {
     "name": "stdout",
     "output_type": "stream",
     "text": [
      "{'Cell_Across_Swath_Sampling': [3, 1348, 5],\n",
      " 'Cell_Along_Swath_Sampling': [3, 2028, 5],\n",
      " 'Geolocation_Pointer': 'Internal geolocation arrays',\n",
      " 'Parameter_Type': 'Output',\n",
      " '_FillValue': 127,\n",
      " 'add_offset': 0.0,\n",
      " 'long_name': 'Cloud Fraction in Retrieval Region (5x5 1-km Pixels) from 1-km Cloud Mask',\n",
      " 'scale_factor': 0.009999999776482582,\n",
      " 'units': 'none',\n",
      " 'valid_range': [0, 100]}\n"
     ]
    }
   ],
   "source": [
    "pprint.pprint( data_obj.attributes() )"
   ]
  },
  {
   "cell_type": "code",
   "execution_count": 24,
   "metadata": {},
   "outputs": [
    {
     "data": {
      "text/plain": [
       "[<matplotlib.lines.Line2D at 0x19857a08>,\n",
       " <matplotlib.lines.Line2D at 0x19ebad88>,\n",
       " <matplotlib.lines.Line2D at 0x19ebaec8>,\n",
       " <matplotlib.lines.Line2D at 0x19ec6048>,\n",
       " <matplotlib.lines.Line2D at 0x19ec6188>,\n",
       " <matplotlib.lines.Line2D at 0x19ec62c8>,\n",
       " <matplotlib.lines.Line2D at 0x19ec6408>,\n",
       " <matplotlib.lines.Line2D at 0x19ec6548>,\n",
       " <matplotlib.lines.Line2D at 0x19ec6688>,\n",
       " <matplotlib.lines.Line2D at 0x19ec67c8>,\n",
       " <matplotlib.lines.Line2D at 0x19ec6908>,\n",
       " <matplotlib.lines.Line2D at 0x19ec6a48>,\n",
       " <matplotlib.lines.Line2D at 0x19ec6b88>,\n",
       " <matplotlib.lines.Line2D at 0x19ec6cc8>,\n",
       " <matplotlib.lines.Line2D at 0x19ec6e08>,\n",
       " <matplotlib.lines.Line2D at 0x19ec6f48>,\n",
       " <matplotlib.lines.Line2D at 0x19ecd0c8>,\n",
       " <matplotlib.lines.Line2D at 0x19ecd208>,\n",
       " <matplotlib.lines.Line2D at 0x19ecd348>,\n",
       " <matplotlib.lines.Line2D at 0x19ecd488>,\n",
       " <matplotlib.lines.Line2D at 0x19857f48>,\n",
       " <matplotlib.lines.Line2D at 0x19ecd708>,\n",
       " <matplotlib.lines.Line2D at 0x19ecd848>,\n",
       " <matplotlib.lines.Line2D at 0x19ecd988>,\n",
       " <matplotlib.lines.Line2D at 0x19ecdac8>,\n",
       " <matplotlib.lines.Line2D at 0x19ecdc08>,\n",
       " <matplotlib.lines.Line2D at 0x19ecdd48>,\n",
       " <matplotlib.lines.Line2D at 0x19ecde88>,\n",
       " <matplotlib.lines.Line2D at 0x19ecdfc8>,\n",
       " <matplotlib.lines.Line2D at 0x19ed3148>,\n",
       " <matplotlib.lines.Line2D at 0x19ecd5c8>,\n",
       " <matplotlib.lines.Line2D at 0x19ed33c8>,\n",
       " <matplotlib.lines.Line2D at 0x19ed3508>,\n",
       " <matplotlib.lines.Line2D at 0x19ed3648>,\n",
       " <matplotlib.lines.Line2D at 0x19ed3788>,\n",
       " <matplotlib.lines.Line2D at 0x19ed38c8>,\n",
       " <matplotlib.lines.Line2D at 0x19ed3a08>,\n",
       " <matplotlib.lines.Line2D at 0x19ed3b48>,\n",
       " <matplotlib.lines.Line2D at 0x19ed3c88>,\n",
       " <matplotlib.lines.Line2D at 0x19ed3dc8>,\n",
       " <matplotlib.lines.Line2D at 0x19ed3288>,\n",
       " <matplotlib.lines.Line2D at 0x1f09b088>,\n",
       " <matplotlib.lines.Line2D at 0x1f09b1c8>,\n",
       " <matplotlib.lines.Line2D at 0x1f09b308>,\n",
       " <matplotlib.lines.Line2D at 0x1f09b448>,\n",
       " <matplotlib.lines.Line2D at 0x1f09b588>,\n",
       " <matplotlib.lines.Line2D at 0x1f09b6c8>,\n",
       " <matplotlib.lines.Line2D at 0x1f09b808>,\n",
       " <matplotlib.lines.Line2D at 0x1f09b948>,\n",
       " <matplotlib.lines.Line2D at 0x1f09ba88>,\n",
       " <matplotlib.lines.Line2D at 0x19ed3f08>,\n",
       " <matplotlib.lines.Line2D at 0x1f09bd08>,\n",
       " <matplotlib.lines.Line2D at 0x1f09be48>,\n",
       " <matplotlib.lines.Line2D at 0x1f09bf88>,\n",
       " <matplotlib.lines.Line2D at 0x1f0a2108>,\n",
       " <matplotlib.lines.Line2D at 0x1f0a2248>,\n",
       " <matplotlib.lines.Line2D at 0x1f0a2388>,\n",
       " <matplotlib.lines.Line2D at 0x1f0a24c8>,\n",
       " <matplotlib.lines.Line2D at 0x1f0a2608>,\n",
       " <matplotlib.lines.Line2D at 0x1f0a2748>,\n",
       " <matplotlib.lines.Line2D at 0x1f09bbc8>,\n",
       " <matplotlib.lines.Line2D at 0x1f0a29c8>,\n",
       " <matplotlib.lines.Line2D at 0x1f0a2b08>,\n",
       " <matplotlib.lines.Line2D at 0x1f0a2c48>,\n",
       " <matplotlib.lines.Line2D at 0x1f0a2d88>,\n",
       " <matplotlib.lines.Line2D at 0x1f0a2ec8>,\n",
       " <matplotlib.lines.Line2D at 0x1f0a8048>,\n",
       " <matplotlib.lines.Line2D at 0x1f0a8188>,\n",
       " <matplotlib.lines.Line2D at 0x1f0a82c8>,\n",
       " <matplotlib.lines.Line2D at 0x1f0a8408>,\n",
       " <matplotlib.lines.Line2D at 0x1f0a2888>,\n",
       " <matplotlib.lines.Line2D at 0x1f0a8688>,\n",
       " <matplotlib.lines.Line2D at 0x1f0a87c8>,\n",
       " <matplotlib.lines.Line2D at 0x1f0a8908>,\n",
       " <matplotlib.lines.Line2D at 0x1f0a8a48>,\n",
       " <matplotlib.lines.Line2D at 0x1f0a8b88>,\n",
       " <matplotlib.lines.Line2D at 0x1f0a8cc8>,\n",
       " <matplotlib.lines.Line2D at 0x1f0a8e08>,\n",
       " <matplotlib.lines.Line2D at 0x1f0a8f48>,\n",
       " <matplotlib.lines.Line2D at 0x1f0af0c8>,\n",
       " <matplotlib.lines.Line2D at 0x1f0a8548>,\n",
       " <matplotlib.lines.Line2D at 0x1f0af348>,\n",
       " <matplotlib.lines.Line2D at 0x1f0af488>,\n",
       " <matplotlib.lines.Line2D at 0x1f0af5c8>,\n",
       " <matplotlib.lines.Line2D at 0x1f0af708>,\n",
       " <matplotlib.lines.Line2D at 0x1f0af848>,\n",
       " <matplotlib.lines.Line2D at 0x1f0af988>,\n",
       " <matplotlib.lines.Line2D at 0x1f0afac8>,\n",
       " <matplotlib.lines.Line2D at 0x1f0afc08>,\n",
       " <matplotlib.lines.Line2D at 0x1f0afd48>,\n",
       " <matplotlib.lines.Line2D at 0x1f0af208>,\n",
       " <matplotlib.lines.Line2D at 0x1f0affc8>,\n",
       " <matplotlib.lines.Line2D at 0x1f0b5148>,\n",
       " <matplotlib.lines.Line2D at 0x1f0b5288>,\n",
       " <matplotlib.lines.Line2D at 0x1f0b53c8>,\n",
       " <matplotlib.lines.Line2D at 0x1f0b5508>,\n",
       " <matplotlib.lines.Line2D at 0x1f0b5648>,\n",
       " <matplotlib.lines.Line2D at 0x1f0b5788>,\n",
       " <matplotlib.lines.Line2D at 0x1f0b58c8>,\n",
       " <matplotlib.lines.Line2D at 0x1f0b5a08>,\n",
       " <matplotlib.lines.Line2D at 0x1f0afe88>,\n",
       " <matplotlib.lines.Line2D at 0x1f0b5c88>,\n",
       " <matplotlib.lines.Line2D at 0x1f0b5dc8>,\n",
       " <matplotlib.lines.Line2D at 0x1f0b5f08>,\n",
       " <matplotlib.lines.Line2D at 0x1f0bc088>,\n",
       " <matplotlib.lines.Line2D at 0x1f0bc1c8>,\n",
       " <matplotlib.lines.Line2D at 0x1f0bc308>,\n",
       " <matplotlib.lines.Line2D at 0x1f0bc448>,\n",
       " <matplotlib.lines.Line2D at 0x1f0bc588>,\n",
       " <matplotlib.lines.Line2D at 0x1f0bc6c8>,\n",
       " <matplotlib.lines.Line2D at 0x1f0b5b48>,\n",
       " <matplotlib.lines.Line2D at 0x1f0bc948>,\n",
       " <matplotlib.lines.Line2D at 0x1f0bca88>,\n",
       " <matplotlib.lines.Line2D at 0x1f0bcbc8>,\n",
       " <matplotlib.lines.Line2D at 0x1f0bcd08>,\n",
       " <matplotlib.lines.Line2D at 0x1f0bce48>,\n",
       " <matplotlib.lines.Line2D at 0x1f0bcf88>,\n",
       " <matplotlib.lines.Line2D at 0x1f0c2108>,\n",
       " <matplotlib.lines.Line2D at 0x1f0c2248>,\n",
       " <matplotlib.lines.Line2D at 0x1f0c2388>,\n",
       " <matplotlib.lines.Line2D at 0x1f0bc808>,\n",
       " <matplotlib.lines.Line2D at 0x1f0c2608>,\n",
       " <matplotlib.lines.Line2D at 0x1f0c2748>,\n",
       " <matplotlib.lines.Line2D at 0x1f0c2888>,\n",
       " <matplotlib.lines.Line2D at 0x1f0c29c8>,\n",
       " <matplotlib.lines.Line2D at 0x1f0c2b08>,\n",
       " <matplotlib.lines.Line2D at 0x1f0c2c48>,\n",
       " <matplotlib.lines.Line2D at 0x1f0c2d88>,\n",
       " <matplotlib.lines.Line2D at 0x1f0c2ec8>,\n",
       " <matplotlib.lines.Line2D at 0x1f0c9048>,\n",
       " <matplotlib.lines.Line2D at 0x1f0c24c8>,\n",
       " <matplotlib.lines.Line2D at 0x1f0c92c8>,\n",
       " <matplotlib.lines.Line2D at 0x1f0c9408>,\n",
       " <matplotlib.lines.Line2D at 0x1f0c9548>,\n",
       " <matplotlib.lines.Line2D at 0x1f0c9688>,\n",
       " <matplotlib.lines.Line2D at 0x1f0c97c8>,\n",
       " <matplotlib.lines.Line2D at 0x1f0c9908>,\n",
       " <matplotlib.lines.Line2D at 0x1f0c9a48>,\n",
       " <matplotlib.lines.Line2D at 0x1f0c9b88>,\n",
       " <matplotlib.lines.Line2D at 0x1f0c9cc8>,\n",
       " <matplotlib.lines.Line2D at 0x1f0c9188>,\n",
       " <matplotlib.lines.Line2D at 0x1f0c9f48>,\n",
       " <matplotlib.lines.Line2D at 0x1f0d00c8>,\n",
       " <matplotlib.lines.Line2D at 0x1f0d0208>,\n",
       " <matplotlib.lines.Line2D at 0x1f0d0348>,\n",
       " <matplotlib.lines.Line2D at 0x1f0d0488>,\n",
       " <matplotlib.lines.Line2D at 0x1f0d05c8>,\n",
       " <matplotlib.lines.Line2D at 0x1f0d0708>,\n",
       " <matplotlib.lines.Line2D at 0x1f0d0848>,\n",
       " <matplotlib.lines.Line2D at 0x1f0d0988>,\n",
       " <matplotlib.lines.Line2D at 0x1f0c9e08>,\n",
       " <matplotlib.lines.Line2D at 0x1f0d0c08>,\n",
       " <matplotlib.lines.Line2D at 0x1f0d0d48>,\n",
       " <matplotlib.lines.Line2D at 0x1f0d0e88>,\n",
       " <matplotlib.lines.Line2D at 0x1f0d0fc8>,\n",
       " <matplotlib.lines.Line2D at 0x1f15b148>,\n",
       " <matplotlib.lines.Line2D at 0x1f15b288>,\n",
       " <matplotlib.lines.Line2D at 0x1f15b3c8>,\n",
       " <matplotlib.lines.Line2D at 0x1f15b508>,\n",
       " <matplotlib.lines.Line2D at 0x1f15b648>,\n",
       " <matplotlib.lines.Line2D at 0x1f0d0ac8>,\n",
       " <matplotlib.lines.Line2D at 0x1f15b8c8>,\n",
       " <matplotlib.lines.Line2D at 0x1f15ba08>,\n",
       " <matplotlib.lines.Line2D at 0x1f15bb48>,\n",
       " <matplotlib.lines.Line2D at 0x1f15bc88>,\n",
       " <matplotlib.lines.Line2D at 0x1f15bdc8>,\n",
       " <matplotlib.lines.Line2D at 0x1f15bf08>,\n",
       " <matplotlib.lines.Line2D at 0x1f162088>,\n",
       " <matplotlib.lines.Line2D at 0x1f1621c8>,\n",
       " <matplotlib.lines.Line2D at 0x1f162308>,\n",
       " <matplotlib.lines.Line2D at 0x1f15b788>,\n",
       " <matplotlib.lines.Line2D at 0x1f162588>,\n",
       " <matplotlib.lines.Line2D at 0x1f1626c8>,\n",
       " <matplotlib.lines.Line2D at 0x1f162808>,\n",
       " <matplotlib.lines.Line2D at 0x1f162948>,\n",
       " <matplotlib.lines.Line2D at 0x1f162a88>,\n",
       " <matplotlib.lines.Line2D at 0x1f162bc8>,\n",
       " <matplotlib.lines.Line2D at 0x1f162d08>,\n",
       " <matplotlib.lines.Line2D at 0x1f162e48>,\n",
       " <matplotlib.lines.Line2D at 0x1f162f88>,\n",
       " <matplotlib.lines.Line2D at 0x1f162448>,\n",
       " <matplotlib.lines.Line2D at 0x1f169248>,\n",
       " <matplotlib.lines.Line2D at 0x1f169388>,\n",
       " <matplotlib.lines.Line2D at 0x1f1694c8>,\n",
       " <matplotlib.lines.Line2D at 0x1f169608>,\n",
       " <matplotlib.lines.Line2D at 0x1f169748>,\n",
       " <matplotlib.lines.Line2D at 0x1f169888>,\n",
       " <matplotlib.lines.Line2D at 0x1f1699c8>,\n",
       " <matplotlib.lines.Line2D at 0x1f169b08>,\n",
       " <matplotlib.lines.Line2D at 0x1f169c48>,\n",
       " <matplotlib.lines.Line2D at 0x1f169108>,\n",
       " <matplotlib.lines.Line2D at 0x1f169ec8>,\n",
       " <matplotlib.lines.Line2D at 0x1f170048>,\n",
       " <matplotlib.lines.Line2D at 0x1f170188>,\n",
       " <matplotlib.lines.Line2D at 0x1f1702c8>,\n",
       " <matplotlib.lines.Line2D at 0x1f170408>,\n",
       " <matplotlib.lines.Line2D at 0x1f170548>,\n",
       " <matplotlib.lines.Line2D at 0x1f170688>,\n",
       " <matplotlib.lines.Line2D at 0x1f1707c8>,\n",
       " <matplotlib.lines.Line2D at 0x1f170908>,\n",
       " <matplotlib.lines.Line2D at 0x1f169d88>,\n",
       " <matplotlib.lines.Line2D at 0x1f170b88>,\n",
       " <matplotlib.lines.Line2D at 0x1f170cc8>,\n",
       " <matplotlib.lines.Line2D at 0x1f170e08>,\n",
       " <matplotlib.lines.Line2D at 0x1f170f48>,\n",
       " <matplotlib.lines.Line2D at 0x1f1770c8>,\n",
       " <matplotlib.lines.Line2D at 0x1f177208>,\n",
       " <matplotlib.lines.Line2D at 0x1f177348>,\n",
       " <matplotlib.lines.Line2D at 0x1f177488>,\n",
       " <matplotlib.lines.Line2D at 0x1f1775c8>,\n",
       " <matplotlib.lines.Line2D at 0x1f170a48>,\n",
       " <matplotlib.lines.Line2D at 0x1f177848>,\n",
       " <matplotlib.lines.Line2D at 0x1f177988>,\n",
       " <matplotlib.lines.Line2D at 0x1f177ac8>,\n",
       " <matplotlib.lines.Line2D at 0x1f177c08>,\n",
       " <matplotlib.lines.Line2D at 0x1f177d48>,\n",
       " <matplotlib.lines.Line2D at 0x1f177e88>,\n",
       " <matplotlib.lines.Line2D at 0x1f177fc8>,\n",
       " <matplotlib.lines.Line2D at 0x1f17e148>,\n",
       " <matplotlib.lines.Line2D at 0x1f17e288>,\n",
       " <matplotlib.lines.Line2D at 0x1f177708>,\n",
       " <matplotlib.lines.Line2D at 0x1f17e508>,\n",
       " <matplotlib.lines.Line2D at 0x1f17e648>,\n",
       " <matplotlib.lines.Line2D at 0x1f17e788>,\n",
       " <matplotlib.lines.Line2D at 0x1f17e8c8>,\n",
       " <matplotlib.lines.Line2D at 0x1f17ea08>,\n",
       " <matplotlib.lines.Line2D at 0x1f17eb48>,\n",
       " <matplotlib.lines.Line2D at 0x1f17ec88>,\n",
       " <matplotlib.lines.Line2D at 0x1f17edc8>,\n",
       " <matplotlib.lines.Line2D at 0x1f17ef08>,\n",
       " <matplotlib.lines.Line2D at 0x1f17e3c8>,\n",
       " <matplotlib.lines.Line2D at 0x1f1861c8>,\n",
       " <matplotlib.lines.Line2D at 0x1f186308>,\n",
       " <matplotlib.lines.Line2D at 0x1f186448>,\n",
       " <matplotlib.lines.Line2D at 0x1f186588>,\n",
       " <matplotlib.lines.Line2D at 0x1f1866c8>,\n",
       " <matplotlib.lines.Line2D at 0x1f186808>,\n",
       " <matplotlib.lines.Line2D at 0x1f186948>,\n",
       " <matplotlib.lines.Line2D at 0x1f186b48>,\n",
       " <matplotlib.lines.Line2D at 0x1f186c88>,\n",
       " <matplotlib.lines.Line2D at 0x1f186088>,\n",
       " <matplotlib.lines.Line2D at 0x1f186f08>,\n",
       " <matplotlib.lines.Line2D at 0x1f18c088>,\n",
       " <matplotlib.lines.Line2D at 0x1f18c1c8>,\n",
       " <matplotlib.lines.Line2D at 0x1f18c308>,\n",
       " <matplotlib.lines.Line2D at 0x1f18c448>,\n",
       " <matplotlib.lines.Line2D at 0x1f18c588>,\n",
       " <matplotlib.lines.Line2D at 0x1f18c6c8>,\n",
       " <matplotlib.lines.Line2D at 0x1f18c808>,\n",
       " <matplotlib.lines.Line2D at 0x1f18c948>,\n",
       " <matplotlib.lines.Line2D at 0x1f186dc8>,\n",
       " <matplotlib.lines.Line2D at 0x1f18cbc8>,\n",
       " <matplotlib.lines.Line2D at 0x1f18cd08>,\n",
       " <matplotlib.lines.Line2D at 0x1f18ce48>,\n",
       " <matplotlib.lines.Line2D at 0x1f18cf88>,\n",
       " <matplotlib.lines.Line2D at 0x1f194108>,\n",
       " <matplotlib.lines.Line2D at 0x1f194248>,\n",
       " <matplotlib.lines.Line2D at 0x1f194388>,\n",
       " <matplotlib.lines.Line2D at 0x1f1944c8>,\n",
       " <matplotlib.lines.Line2D at 0x1f194608>,\n",
       " <matplotlib.lines.Line2D at 0x1f18ca88>,\n",
       " <matplotlib.lines.Line2D at 0x1f194888>,\n",
       " <matplotlib.lines.Line2D at 0x1f1949c8>,\n",
       " <matplotlib.lines.Line2D at 0x1f194b08>,\n",
       " <matplotlib.lines.Line2D at 0x1f194c48>,\n",
       " <matplotlib.lines.Line2D at 0x1f194d88>,\n",
       " <matplotlib.lines.Line2D at 0x1f194ec8>,\n",
       " <matplotlib.lines.Line2D at 0x1f1dd048>,\n",
       " <matplotlib.lines.Line2D at 0x1f1dd188>,\n",
       " <matplotlib.lines.Line2D at 0x1f1dd2c8>]"
      ]
     },
     "execution_count": 24,
     "metadata": {},
     "output_type": "execute_result"
    }
   ],
   "source": [
    "plt.figure()\n",
    "plt.plot(data)"
   ]
  },
  {
   "cell_type": "code",
   "execution_count": 25,
   "metadata": {},
   "outputs": [
    {
     "name": "stdout",
     "output_type": "stream",
     "text": [
      "-179.70644 179.83208\n",
      "65.42532 89.933624\n",
      "406 406\n"
     ]
    }
   ],
   "source": [
    "lonmin = lon.min()\n",
    "lonmax = lon.max()\n",
    "latmin = lat.min()\n",
    "latmax = lat.max()\n",
    "print lonmin, lonmax\n",
    "print latmin, latmax\n",
    "print len(lon), len(lat)"
   ]
  },
  {
   "cell_type": "code",
   "execution_count": 26,
   "metadata": {},
   "outputs": [],
   "source": [
    "delta = 0.1\n",
    "rows, cols = np.where((abs(lat - 72.) <= delta) & (abs(lon - -38) <= delta))"
   ]
  },
  {
   "cell_type": "code",
   "execution_count": 27,
   "metadata": {},
   "outputs": [],
   "source": [
    "latsub = lat[rows][:,cols]\n",
    "lonsub = lon[rows][:,cols]\n",
    "datasub = data[rows][:,cols]\n",
    "#qualitysub = quality[rows][:,cols]"
   ]
  },
  {
   "cell_type": "code",
   "execution_count": 28,
   "metadata": {},
   "outputs": [
    {
     "ename": "ValueError",
     "evalue": "zero-size array to reduction operation maximum which has no identity",
     "output_type": "error",
     "traceback": [
      "\u001b[1;31m---------------------------------------------------------------------------\u001b[0m",
      "\u001b[1;31mValueError\u001b[0m                                Traceback (most recent call last)",
      "\u001b[1;32m<ipython-input-28-aa47a8dfb90a>\u001b[0m in \u001b[0;36m<module>\u001b[1;34m()\u001b[0m\n\u001b[0;32m      2\u001b[0m \u001b[0mplt\u001b[0m\u001b[1;33m.\u001b[0m\u001b[0mpcolormesh\u001b[0m\u001b[1;33m(\u001b[0m\u001b[0mlon\u001b[0m\u001b[1;33m,\u001b[0m \u001b[0mlat\u001b[0m\u001b[1;33m,\u001b[0m \u001b[0mdata\u001b[0m\u001b[1;33m,\u001b[0m \u001b[0mcmap\u001b[0m\u001b[1;33m=\u001b[0m\u001b[1;34m'jet'\u001b[0m\u001b[1;33m)\u001b[0m\u001b[1;33m\u001b[0m\u001b[0m\n\u001b[0;32m      3\u001b[0m \u001b[0mplt\u001b[0m\u001b[1;33m.\u001b[0m\u001b[0mcolorbar\u001b[0m\u001b[1;33m(\u001b[0m\u001b[0mlabel\u001b[0m \u001b[1;33m=\u001b[0m \u001b[1;34m'cloud fraction'\u001b[0m\u001b[1;33m)\u001b[0m\u001b[1;33m\u001b[0m\u001b[0m\n\u001b[1;32m----> 4\u001b[1;33m \u001b[0mplt\u001b[0m\u001b[1;33m.\u001b[0m\u001b[0mclim\u001b[0m\u001b[1;33m(\u001b[0m\u001b[1;36m0.\u001b[0m\u001b[1;33m,\u001b[0m\u001b[0mdatasub\u001b[0m\u001b[1;33m.\u001b[0m\u001b[0mmax\u001b[0m\u001b[1;33m(\u001b[0m\u001b[1;33m)\u001b[0m\u001b[1;33m)\u001b[0m\u001b[1;33m\u001b[0m\u001b[0m\n\u001b[0m\u001b[0;32m      5\u001b[0m \u001b[1;31m#plt.axis([lonmin, lonmax, latmin, latmax])\u001b[0m\u001b[1;33m\u001b[0m\u001b[1;33m\u001b[0m\u001b[0m\n\u001b[0;32m      6\u001b[0m \u001b[0mplt\u001b[0m\u001b[1;33m.\u001b[0m\u001b[0mylabel\u001b[0m\u001b[1;33m(\u001b[0m\u001b[1;34m'latitude (deg)'\u001b[0m\u001b[1;33m)\u001b[0m\u001b[1;33m\u001b[0m\u001b[0m\n",
      "\u001b[1;32mC:\\Users\\akkap\\anaconda3\\envs\\py27\\lib\\site-packages\\numpy\\core\\_methods.pyc\u001b[0m in \u001b[0;36m_amax\u001b[1;34m(a, axis, out, keepdims, initial)\u001b[0m\n\u001b[0;32m     26\u001b[0m def _amax(a, axis=None, out=None, keepdims=False,\n\u001b[0;32m     27\u001b[0m           initial=_NoValue):\n\u001b[1;32m---> 28\u001b[1;33m     \u001b[1;32mreturn\u001b[0m \u001b[0mumr_maximum\u001b[0m\u001b[1;33m(\u001b[0m\u001b[0ma\u001b[0m\u001b[1;33m,\u001b[0m \u001b[0maxis\u001b[0m\u001b[1;33m,\u001b[0m \u001b[0mNone\u001b[0m\u001b[1;33m,\u001b[0m \u001b[0mout\u001b[0m\u001b[1;33m,\u001b[0m \u001b[0mkeepdims\u001b[0m\u001b[1;33m,\u001b[0m \u001b[0minitial\u001b[0m\u001b[1;33m)\u001b[0m\u001b[1;33m\u001b[0m\u001b[0m\n\u001b[0m\u001b[0;32m     29\u001b[0m \u001b[1;33m\u001b[0m\u001b[0m\n\u001b[0;32m     30\u001b[0m def _amin(a, axis=None, out=None, keepdims=False,\n",
      "\u001b[1;31mValueError\u001b[0m: zero-size array to reduction operation maximum which has no identity"
     ]
    }
   ],
   "source": [
    "plt.figure()\n",
    "plt.pcolormesh(lon, lat, data, cmap='jet')\n",
    "plt.colorbar(label = 'cloud fraction')\n",
    "plt.clim(0.,datasub.max())\n",
    "#plt.axis([lonmin, lonmax, latmin, latmax])\n",
    "plt.ylabel('latitude (deg)')\n",
    "plt.xlabel('longitude (deg)')\n",
    "#plt.title('%s %s data binned to azimuth and revolution #' % (name, var))\n",
    "plt.grid()\n",
    "plt.show()"
   ]
  },
  {
   "cell_type": "code",
   "execution_count": 13,
   "metadata": {},
   "outputs": [],
   "source": [
    "latstepdeg = 1.\n",
    "longsetdeg = 1.\n",
    "startday = 1\n",
    "scalefactor = 100."
   ]
  },
  {
   "cell_type": "code",
   "execution_count": 14,
   "metadata": {},
   "outputs": [],
   "source": [
    "summit_lon = -38.4592\n",
    "summit_lat = 72.5796"
   ]
  },
  {
   "cell_type": "code",
   "execution_count": 15,
   "metadata": {},
   "outputs": [
    {
     "ename": "WindowsError",
     "evalue": "[Error 3] The system cannot find the path specified: 'D:/software_git_repos/polaris/polaris_data/weather_data/MODIS/2018/summer/*.*'",
     "output_type": "error",
     "traceback": [
      "\u001b[1;31m---------------------------------------------------------------------------\u001b[0m",
      "\u001b[1;31mWindowsError\u001b[0m                              Traceback (most recent call last)",
      "\u001b[1;32m<ipython-input-15-abdf735ad022>\u001b[0m in \u001b[0;36m<module>\u001b[1;34m()\u001b[0m\n\u001b[0;32m      2\u001b[0m \u001b[0mseason\u001b[0m \u001b[1;33m=\u001b[0m \u001b[1;34m'summer'\u001b[0m\u001b[1;33m\u001b[0m\u001b[0m\n\u001b[0;32m      3\u001b[0m \u001b[0mdirectory\u001b[0m \u001b[1;33m=\u001b[0m \u001b[1;34m'D:/software_git_repos/polaris/polaris_data/weather_data/MODIS/%d/%s/'\u001b[0m \u001b[1;33m%\u001b[0m \u001b[1;33m(\u001b[0m\u001b[0my\u001b[0m\u001b[1;33m,\u001b[0m \u001b[0mseason\u001b[0m\u001b[1;33m)\u001b[0m\u001b[1;33m\u001b[0m\u001b[0m\n\u001b[1;32m----> 4\u001b[1;33m \u001b[0mfiles\u001b[0m \u001b[1;33m=\u001b[0m \u001b[0mlistdir\u001b[0m\u001b[1;33m(\u001b[0m\u001b[0mdirectory\u001b[0m\u001b[1;33m)\u001b[0m\u001b[1;33m\u001b[0m\u001b[0m\n\u001b[0m\u001b[0;32m      5\u001b[0m \u001b[1;33m\u001b[0m\u001b[0m\n\u001b[0;32m      6\u001b[0m \u001b[0mpwv\u001b[0m \u001b[1;33m=\u001b[0m \u001b[1;33m[\u001b[0m\u001b[1;33m]\u001b[0m\u001b[1;33m\u001b[0m\u001b[0m\n",
      "\u001b[1;31mWindowsError\u001b[0m: [Error 3] The system cannot find the path specified: 'D:/software_git_repos/polaris/polaris_data/weather_data/MODIS/2018/summer/*.*'"
     ]
    }
   ],
   "source": [
    "y = 2018\n",
    "season = 'summer'\n",
    "directory = 'D:/software_git_repos/polaris/polaris_data/weather_data/MODIS/%d/%s/' % (y, season)\n",
    "files = listdir(directory)\n",
    "\n",
    "pwv = []\n",
    "TIME = []\n",
    "quality_assurance = []\n",
    "isummit_shape = []\n",
    "numfiles = 0\n",
    "cloudy_fraction = []\n",
    "clear_fraction = []\n",
    "latitude = []\n",
    "longitude = []\n",
    "\n",
    "print 'total number of files: %d' % len(files)\n",
    "t1 = time.time()\n",
    "for f in files:\n",
    "    \n",
    "    numfiles += 1\n",
    "    \n",
    "    try:\n",
    "        file = SD(directory+f, SDC.READ)\n",
    "    except:\n",
    "        print 'passed: %s' % f\n",
    "        continue\n",
    "        \n",
    "    lat_obj = file.select('Latitude') # select sds\n",
    "    lat = lat_obj.get()\n",
    "\n",
    "    lon_obj = file.select('Longitude') # select sds\n",
    "    lon = lon_obj.get()\n",
    "    \n",
    "    delta = 0.05\n",
    "    rows, cols = np.where((abs(lat - summit_lat) <= delta) & (abs(lon - summit_lon) <= delta))\n",
    "\n",
    "    if len(rows) == 0 or len(cols) == 0:\n",
    "        continue\n",
    "        #print '# files: %d, ' % numfiles, f\n",
    "\n",
    "    data_obj = file.select('Water_Vapor_Infrared') # select sds\n",
    "    data = data_obj.get()/100.\n",
    "\n",
    "    starttime_obj = file.select('Scan_Start_Time') # select sds\n",
    "    starttime = starttime_obj.get()\n",
    "\n",
    "    quality_obj = file.select('Quality_Assurance_Near_Infrared')\n",
    "    quality = quality_obj.get()\n",
    "    \n",
    "    datasub = data[rows][:,cols]\n",
    "    timesub = starttime[rows][:,cols]\n",
    "    qualitysub = quality[rows][:,cols]\n",
    "    lonsub = lon[rows][:,cols]\n",
    "    latsub = lat[rows][:,cols]\n",
    "    \n",
    "    \n",
    "    pwv.append(datasub[datasub>=0.].mean())\n",
    "    TIME.append(timesub.mean())\n",
    "    #quality_assurance.append(qualitysub)\n",
    "    clear = float(len(datasub[datasub>=0]))\n",
    "    cloudy = float(len(datasub[datasub<0]))\n",
    "    latitude.append(latsub)\n",
    "    longitude.append(lonsub)\n",
    "    \n",
    "    \n",
    "    if clear == 0:\n",
    "        cloudy_fraction.append(1.)\n",
    "        clear_fraction.append(0.)\n",
    "    elif cloudy == 0:\n",
    "        clear_fraction.append(1.)\n",
    "        cloudy_fraction.append(0.)\n",
    "    else:\n",
    "        cloudy_fraction.append(cloudy/(clear+cloudy))\n",
    "        clear_fraction.append(clear/(clear+cloudy))\n",
    "        \n",
    "    sys.stdout.write(\"\\rPercent complete: %.2f, time elapsed: %.2f min\" % ((float(numfiles) * 100. / float(len(files))), (time.time()-t1)/60.))\n",
    "    sys.stdout.flush()\n",
    "        \n",
    "t2 = time.time()\n",
    "print t2-t1\n",
    "pwv = np.asarray(pwv)\n",
    "TIME = np.asarray(TIME)\n",
    "cloudy_fraction = np.asarray(cloudy_fraction)\n",
    "clear_fraction = np.asarray(clear_fraction)\n",
    "latitude = np.asarray(latitude)\n",
    "longitude = np.asarray(longitude)\n",
    "#quality_assurance = np.asarray(quality_assurance)"
   ]
  },
  {
   "cell_type": "code",
   "execution_count": 16,
   "metadata": {},
   "outputs": [
    {
     "ename": "NameError",
     "evalue": "name 'latitude' is not defined",
     "output_type": "error",
     "traceback": [
      "\u001b[1;31m---------------------------------------------------------------------------\u001b[0m",
      "\u001b[1;31mNameError\u001b[0m                                 Traceback (most recent call last)",
      "\u001b[1;32m<ipython-input-16-87bcd3dedae7>\u001b[0m in \u001b[0;36m<module>\u001b[1;34m()\u001b[0m\n\u001b[0;32m      1\u001b[0m \u001b[0mlat_diff\u001b[0m \u001b[1;33m=\u001b[0m \u001b[1;33m[\u001b[0m\u001b[1;33m]\u001b[0m\u001b[1;33m\u001b[0m\u001b[0m\n\u001b[1;32m----> 2\u001b[1;33m \u001b[1;32mfor\u001b[0m \u001b[0mi\u001b[0m \u001b[1;32min\u001b[0m \u001b[0mrange\u001b[0m\u001b[1;33m(\u001b[0m\u001b[0mlen\u001b[0m\u001b[1;33m(\u001b[0m\u001b[0mlatitude\u001b[0m\u001b[1;33m)\u001b[0m\u001b[1;33m)\u001b[0m\u001b[1;33m:\u001b[0m\u001b[1;33m\u001b[0m\u001b[0m\n\u001b[0m\u001b[0;32m      3\u001b[0m     \u001b[1;32mif\u001b[0m \u001b[0mlen\u001b[0m\u001b[1;33m(\u001b[0m\u001b[0mlatitude\u001b[0m\u001b[1;33m[\u001b[0m\u001b[0mi\u001b[0m\u001b[1;33m]\u001b[0m\u001b[1;33m)\u001b[0m \u001b[1;33m>\u001b[0m \u001b[1;36m1\u001b[0m\u001b[1;33m:\u001b[0m\u001b[1;33m\u001b[0m\u001b[0m\n\u001b[0;32m      4\u001b[0m         \u001b[1;32mfor\u001b[0m \u001b[0mj\u001b[0m \u001b[1;32min\u001b[0m \u001b[0mrange\u001b[0m\u001b[1;33m(\u001b[0m\u001b[0mlen\u001b[0m\u001b[1;33m(\u001b[0m\u001b[0mlatitude\u001b[0m\u001b[1;33m[\u001b[0m\u001b[0mi\u001b[0m\u001b[1;33m]\u001b[0m\u001b[1;33m)\u001b[0m\u001b[1;33m)\u001b[0m\u001b[1;33m:\u001b[0m\u001b[1;33m\u001b[0m\u001b[0m\n\u001b[0;32m      5\u001b[0m             \u001b[1;32mif\u001b[0m \u001b[0mlen\u001b[0m\u001b[1;33m(\u001b[0m\u001b[0mlatitude\u001b[0m\u001b[1;33m[\u001b[0m\u001b[0mi\u001b[0m\u001b[1;33m]\u001b[0m\u001b[1;33m[\u001b[0m\u001b[0mj\u001b[0m\u001b[1;33m]\u001b[0m\u001b[1;33m)\u001b[0m \u001b[1;33m>\u001b[0m \u001b[1;36m1\u001b[0m\u001b[1;33m:\u001b[0m\u001b[1;33m\u001b[0m\u001b[0m\n",
      "\u001b[1;31mNameError\u001b[0m: name 'latitude' is not defined"
     ]
    }
   ],
   "source": [
    "lat_diff = []\n",
    "for i in range(len(latitude)):\n",
    "    if len(latitude[i]) > 1:\n",
    "        for j in range(len(latitude[i])):\n",
    "            if len(latitude[i][j]) > 1:\n",
    "                for k in range(len(latitude[i][j])):\n",
    "                    lat_diff.append(latitude[i][j][k] - summit_lat)\n",
    "            else:\n",
    "                lat_diff.append(latitude[i][j] - summit_lat)\n",
    "    else:\n",
    "        lat_diff.append(latitude[i] - summit_lat)\n",
    "        \n",
    "lat_diff = np.asarray(lat_diff)"
   ]
  },
  {
   "cell_type": "code",
   "execution_count": 17,
   "metadata": {},
   "outputs": [
    {
     "ename": "IndexError",
     "evalue": "list index out of range",
     "output_type": "error",
     "traceback": [
      "\u001b[1;31m---------------------------------------------------------------------------\u001b[0m",
      "\u001b[1;31mIndexError\u001b[0m                                Traceback (most recent call last)",
      "\u001b[1;32m<ipython-input-17-637d8e1a714a>\u001b[0m in \u001b[0;36m<module>\u001b[1;34m()\u001b[0m\n\u001b[1;32m----> 1\u001b[1;33m \u001b[1;32mprint\u001b[0m \u001b[0mlat_diff\u001b[0m\u001b[1;33m[\u001b[0m\u001b[1;36m1\u001b[0m\u001b[1;33m]\u001b[0m\u001b[1;33m\u001b[0m\u001b[0m\n\u001b[0m",
      "\u001b[1;31mIndexError\u001b[0m: list index out of range"
     ]
    }
   ],
   "source": [
    "print lat_diff[1]"
   ]
  },
  {
   "cell_type": "code",
   "execution_count": null,
   "metadata": {},
   "outputs": [],
   "source": [
    "plt.figure()\n",
    "plt.plot(lat_diff)\n",
    "plt.ylabel('lat diff')\n",
    "plt.title('max diff = %.2f, min diff = %.2f' % (lat_diff.max(), lat_diff.min()))"
   ]
  },
  {
   "cell_type": "code",
   "execution_count": null,
   "metadata": {},
   "outputs": [],
   "source": [
    "plt.figure()\n",
    "plt.plot(TIME, cloudy_fraction)"
   ]
  },
  {
   "cell_type": "code",
   "execution_count": null,
   "metadata": {},
   "outputs": [],
   "source": [
    "doysecoffset= 23*60*60*24*365 + 7*60*60*24 - 17*60*60 - 60 - 5.761243\n",
    "tt = TIME + doysecoffset"
   ]
  },
  {
   "cell_type": "code",
   "execution_count": null,
   "metadata": {},
   "outputs": [],
   "source": [
    "h5data = pd.DataFrame({\"pwv\" : pwv})\n",
    "h5data[\"cloudy_fraction\"] = cloudy_fraction\n",
    "h5data[\"time\"] = tt "
   ]
  },
  {
   "cell_type": "code",
   "execution_count": null,
   "metadata": {},
   "outputs": [],
   "source": [
    "starttime = datetime.fromtimestamp(tt[0])\n",
    "endtime = datetime.fromtimestamp(tt[-1])\n",
    "print starttime\n",
    "print endtime"
   ]
  },
  {
   "cell_type": "code",
   "execution_count": null,
   "metadata": {},
   "outputs": [],
   "source": [
    "write_file(h5data, starttime, endtime)"
   ]
  },
  {
   "cell_type": "code",
   "execution_count": 4,
   "metadata": {},
   "outputs": [],
   "source": [
    "TIME = {}\n",
    "pwv = {}\n",
    "cloudy_fraction = {}\n",
    "year = [2013, 2014, 2015, 2016, 2017, 2018]\n",
    "\n",
    "for y in year:\n",
    "    fpath = \"D:/software_git_repos/polaris/polaris_data/weather_data/MODIS/pwv/reduced/%s/\" % y\n",
    "    files = listdir(fpath)\n",
    "    TIME[y] = {}\n",
    "    pwv[y] = {}\n",
    "    cloudy_fraction[y] = {}\n",
    "    for f in files:\n",
    "        dset = h5py.File(fpath+f, 'r')['data']\n",
    "        \n",
    "        if f[:2] == '12':\n",
    "            season = 'winter'\n",
    "        else:\n",
    "            season = 'summer'\n",
    "            \n",
    "        cloudy_fraction[y][season] = dset['cloudy_fraction']\n",
    "        TIME[y][season] = dset['time']\n",
    "        pwv[y][season] = dset['pwv']"
   ]
  },
  {
   "cell_type": "code",
   "execution_count": 5,
   "metadata": {},
   "outputs": [
    {
     "name": "stdout",
     "output_type": "stream",
     "text": [
      "(430L,)\n",
      "(430L,)\n"
     ]
    }
   ],
   "source": [
    "print cloudy_fraction[2018]['summer'].shape\n",
    "print pwv[2018]['summer'].shape"
   ]
  },
  {
   "cell_type": "code",
   "execution_count": 66,
   "metadata": {},
   "outputs": [
    {
     "ename": "KeyError",
     "evalue": "2017",
     "output_type": "error",
     "traceback": [
      "\u001b[1;31m---------------------------------------------------------------------------\u001b[0m",
      "\u001b[1;31mKeyError\u001b[0m                                  Traceback (most recent call last)",
      "\u001b[1;32m<ipython-input-66-a9d4effccb2b>\u001b[0m in \u001b[0;36m<module>\u001b[1;34m()\u001b[0m\n\u001b[0;32m      1\u001b[0m \u001b[0mplt\u001b[0m\u001b[1;33m.\u001b[0m\u001b[0mfigure\u001b[0m\u001b[1;33m(\u001b[0m\u001b[1;33m)\u001b[0m\u001b[1;33m\u001b[0m\u001b[0m\n\u001b[1;32m----> 2\u001b[1;33m \u001b[0mplt\u001b[0m\u001b[1;33m.\u001b[0m\u001b[0mplot\u001b[0m\u001b[1;33m(\u001b[0m\u001b[0mpwvmean\u001b[0m\u001b[1;33m[\u001b[0m\u001b[1;36m2017\u001b[0m\u001b[1;33m]\u001b[0m\u001b[1;33m[\u001b[0m\u001b[1;34m'summer'\u001b[0m\u001b[1;33m]\u001b[0m\u001b[1;33m/\u001b[0m\u001b[1;36m10.\u001b[0m\u001b[1;33m,\u001b[0m \u001b[0mlabel\u001b[0m \u001b[1;33m=\u001b[0m \u001b[1;34m'summer'\u001b[0m\u001b[1;33m)\u001b[0m\u001b[1;33m\u001b[0m\u001b[0m\n\u001b[0m\u001b[0;32m      3\u001b[0m \u001b[0mplt\u001b[0m\u001b[1;33m.\u001b[0m\u001b[0mplot\u001b[0m\u001b[1;33m(\u001b[0m\u001b[0mpwvmean\u001b[0m\u001b[1;33m[\u001b[0m\u001b[1;36m2017\u001b[0m\u001b[1;33m]\u001b[0m\u001b[1;33m[\u001b[0m\u001b[1;34m'winter'\u001b[0m\u001b[1;33m]\u001b[0m\u001b[1;33m/\u001b[0m\u001b[1;36m10.\u001b[0m\u001b[1;33m,\u001b[0m \u001b[0mlabel\u001b[0m \u001b[1;33m=\u001b[0m \u001b[1;34m'winter'\u001b[0m\u001b[1;33m)\u001b[0m\u001b[1;33m\u001b[0m\u001b[0m\n\u001b[0;32m      4\u001b[0m \u001b[0mplt\u001b[0m\u001b[1;33m.\u001b[0m\u001b[0mxlabel\u001b[0m\u001b[1;33m(\u001b[0m\u001b[1;34m'samples'\u001b[0m\u001b[1;33m)\u001b[0m\u001b[1;33m\u001b[0m\u001b[0m\n\u001b[0;32m      5\u001b[0m \u001b[0mplt\u001b[0m\u001b[1;33m.\u001b[0m\u001b[0mylabel\u001b[0m\u001b[1;33m(\u001b[0m\u001b[1;34m'pwv (cm)'\u001b[0m\u001b[1;33m)\u001b[0m\u001b[1;33m\u001b[0m\u001b[0m\n",
      "\u001b[1;31mKeyError\u001b[0m: 2017"
     ]
    }
   ],
   "source": [
    "plt.figure()\n",
    "plt.plot(pwvmean[2017]['summer']/10., label = 'summer')\n",
    "plt.plot(pwvmean[2017]['winter']/10., label = 'winter')\n",
    "plt.xlabel('samples')\n",
    "plt.ylabel('pwv (cm)')\n",
    "plt.title('Summit 2017 daily averages')\n",
    "plt.legend()"
   ]
  },
  {
   "cell_type": "code",
   "execution_count": 33,
   "metadata": {},
   "outputs": [],
   "source": [
    "timespan = 3600.*24*30"
   ]
  },
  {
   "cell_type": "code",
   "execution_count": 34,
   "metadata": {},
   "outputs": [],
   "source": [
    "cloudmean = {}\n",
    "tcloudmean = {}\n",
    "cloudstd = {}\n",
    "season = ['summer', 'winter']\n",
    "i0=0\n",
    "for y in year:\n",
    "    tcloudmean[y] = {}\n",
    "    cloudstd[y] = {}\n",
    "    cloudmean[y] = {}\n",
    "    for s in season:\n",
    "        cf = cloudy_fraction[y][s][np.logical_not(np.isnan(cloudy_fraction[y][s]))]\n",
    "        ti = TIME[y][s][np.logical_not(np.isnan(TIME[y][s]))]\n",
    "        cmean = []\n",
    "        smean = []\n",
    "        tmean = []\n",
    "        t = TIME[y][s]\n",
    "        for h in range(len(t)):\n",
    "            if t[h] - t[i0] >= timespan:\n",
    "                cmean.append(cf[i0:h+1].mean())\n",
    "                smean.append(cf[i0:h+1].std())\n",
    "                tmean.append(ti[i0:h+1].mean())\n",
    "                i0=h+1\n",
    "            if i0<len(t):\n",
    "                cmean.append(cf[i0:len(t)+1].mean())\n",
    "                tmean.append(ti[i0:len(t)+1].mean())\n",
    "                smean.append(cf[i0:len(t)+1].std())\n",
    "        i0 = 0\n",
    "        cloudmean[y][s] = np.asarray(cmean)\n",
    "        cloudstd[y][s] = np.asarray(smean)\n",
    "        tcloudmean[y][s] = np.asarray(tmean)"
   ]
  },
  {
   "cell_type": "code",
   "execution_count": 7,
   "metadata": {},
   "outputs": [
    {
     "name": "stdout",
     "output_type": "stream",
     "text": [
      "2017-02-28 14:16:55.997241\n"
     ]
    }
   ],
   "source": [
    "print datetime.fromtimestamp(tcloudmean[2017]['winter'][-1])"
   ]
  },
  {
   "cell_type": "code",
   "execution_count": 8,
   "metadata": {},
   "outputs": [
    {
     "name": "stdout",
     "output_type": "stream",
     "text": [
      "2013 summer\n"
     ]
    },
    {
     "ename": "NameError",
     "evalue": "name 'pwvmean' is not defined",
     "output_type": "error",
     "traceback": [
      "\u001b[1;31m---------------------------------------------------------------------------\u001b[0m",
      "\u001b[1;31mNameError\u001b[0m                                 Traceback (most recent call last)",
      "\u001b[1;32m<ipython-input-8-ce0e383c5d3b>\u001b[0m in \u001b[0;36m<module>\u001b[1;34m()\u001b[0m\n\u001b[0;32m      2\u001b[0m     \u001b[1;32mfor\u001b[0m \u001b[0ms\u001b[0m \u001b[1;32min\u001b[0m \u001b[0mseason\u001b[0m\u001b[1;33m:\u001b[0m\u001b[1;33m\u001b[0m\u001b[0m\n\u001b[0;32m      3\u001b[0m         \u001b[1;32mprint\u001b[0m \u001b[0my\u001b[0m\u001b[1;33m,\u001b[0m \u001b[0ms\u001b[0m\u001b[1;33m\u001b[0m\u001b[0m\n\u001b[1;32m----> 4\u001b[1;33m         \u001b[1;32mprint\u001b[0m \u001b[0mlen\u001b[0m\u001b[1;33m(\u001b[0m\u001b[0mpwvmean\u001b[0m\u001b[1;33m[\u001b[0m\u001b[0my\u001b[0m\u001b[1;33m]\u001b[0m\u001b[1;33m[\u001b[0m\u001b[0ms\u001b[0m\u001b[1;33m]\u001b[0m\u001b[1;33m)\u001b[0m\u001b[1;33m\u001b[0m\u001b[0m\n\u001b[0m\u001b[0;32m      5\u001b[0m         \u001b[1;32mprint\u001b[0m \u001b[0mlen\u001b[0m\u001b[1;33m(\u001b[0m\u001b[0mtcloudmean\u001b[0m\u001b[1;33m[\u001b[0m\u001b[0my\u001b[0m\u001b[1;33m]\u001b[0m\u001b[1;33m[\u001b[0m\u001b[0ms\u001b[0m\u001b[1;33m]\u001b[0m\u001b[1;33m)\u001b[0m\u001b[1;33m\u001b[0m\u001b[0m\n\u001b[0;32m      6\u001b[0m         \u001b[1;32mprint\u001b[0m \u001b[0mlen\u001b[0m\u001b[1;33m(\u001b[0m\u001b[0mcloudmean\u001b[0m\u001b[1;33m[\u001b[0m\u001b[0my\u001b[0m\u001b[1;33m]\u001b[0m\u001b[1;33m[\u001b[0m\u001b[0ms\u001b[0m\u001b[1;33m]\u001b[0m\u001b[1;33m)\u001b[0m\u001b[1;33m\u001b[0m\u001b[0m\n",
      "\u001b[1;31mNameError\u001b[0m: name 'pwvmean' is not defined"
     ]
    }
   ],
   "source": [
    "for y in year:\n",
    "    for s in season:\n",
    "        print y, s\n",
    "        print len(pwvmean[y][s])\n",
    "        print len(tcloudmean[y][s])\n",
    "        print len(cloudmean[y][s])\n",
    "        print '---------------'"
   ]
  },
  {
   "cell_type": "code",
   "execution_count": 36,
   "metadata": {},
   "outputs": [
    {
     "name": "stdout",
     "output_type": "stream",
     "text": [
      "2013 summer\n",
      "2013 winter\n",
      "2014 summer\n",
      "2014 winter\n",
      "2015 summer\n",
      "2015 winter\n",
      "2016 summer\n",
      "2016 winter\n",
      "2017 summer\n",
      "2017 winter\n",
      "2018 summer\n",
      "2018 winter\n"
     ]
    }
   ],
   "source": [
    "scale = 1.\n",
    "bins=50\n",
    "plt.figure()\n",
    "i = 0\n",
    "plt.suptitle('Summit cloudy fraction daily averages, Prob(cloudy fraction $>$ x)')\n",
    "\n",
    "for y in year:\n",
    "    \n",
    "    plt.subplot(3, 2, i+1)\n",
    "    i += 1\n",
    "    for s in season:\n",
    "        print y, s\n",
    "        values, base = np.histogram(cloudmean[y][s], bins=bins, density=True)\n",
    "        cumulative = np.cumsum(values)\n",
    "        cumu = cumulative/cumulative.max()\n",
    "        cumu_I = 1-cumu\n",
    "        if s == 'winter':\n",
    "            plt.plot(base[:-1]*scale, cumu_I*100, '--', linewidth = 2, label = ' %s %d' % (s, y))\n",
    "        else:\n",
    "            plt.plot(base[:-1]*scale, cumu_I*100, linewidth = 2, label = ' %s %d' % (s, y))\n",
    "    \n",
    "    if y >= 2017:\n",
    "        plt.xlabel('cloudy sky fraction')\n",
    "    if (y % 2) == 1:\n",
    "        plt.ylabel('Cumulative Distribution (%)')\n",
    "    #plt.ylim([0, 80])\n",
    "    plt.xlim([0, 1.1])\n",
    "    plt.legend()\n",
    "    plt.grid()\n",
    "plt.show()"
   ]
  },
  {
   "cell_type": "code",
   "execution_count": 9,
   "metadata": {},
   "outputs": [
    {
     "name": "stdout",
     "output_type": "stream",
     "text": [
      "['summer', 'winter']\n"
     ]
    }
   ],
   "source": [
    "print season"
   ]
  },
  {
   "cell_type": "code",
   "execution_count": 10,
   "metadata": {},
   "outputs": [
    {
     "name": "stdout",
     "output_type": "stream",
     "text": [
      "2013 summer\n"
     ]
    },
    {
     "ename": "NameError",
     "evalue": "name 'pwvmean' is not defined",
     "output_type": "error",
     "traceback": [
      "\u001b[1;31m---------------------------------------------------------------------------\u001b[0m",
      "\u001b[1;31mNameError\u001b[0m                                 Traceback (most recent call last)",
      "\u001b[1;32m<ipython-input-10-c41464a88997>\u001b[0m in \u001b[0;36m<module>\u001b[1;34m()\u001b[0m\n\u001b[0;32m     11\u001b[0m     \u001b[1;32mfor\u001b[0m \u001b[0ms\u001b[0m \u001b[1;32min\u001b[0m \u001b[0mseason\u001b[0m\u001b[1;33m:\u001b[0m\u001b[1;33m\u001b[0m\u001b[0m\n\u001b[0;32m     12\u001b[0m         \u001b[1;32mprint\u001b[0m \u001b[0my\u001b[0m\u001b[1;33m,\u001b[0m \u001b[0ms\u001b[0m\u001b[1;33m\u001b[0m\u001b[0m\n\u001b[1;32m---> 13\u001b[1;33m         \u001b[0mvalues\u001b[0m\u001b[1;33m,\u001b[0m \u001b[0mbase\u001b[0m \u001b[1;33m=\u001b[0m \u001b[0mnp\u001b[0m\u001b[1;33m.\u001b[0m\u001b[0mhistogram\u001b[0m\u001b[1;33m(\u001b[0m\u001b[0mpwvmean\u001b[0m\u001b[1;33m[\u001b[0m\u001b[0my\u001b[0m\u001b[1;33m]\u001b[0m\u001b[1;33m[\u001b[0m\u001b[0ms\u001b[0m\u001b[1;33m]\u001b[0m\u001b[1;33m,\u001b[0m \u001b[0mbins\u001b[0m\u001b[1;33m=\u001b[0m\u001b[0mbins\u001b[0m\u001b[1;33m,\u001b[0m \u001b[0mdensity\u001b[0m\u001b[1;33m=\u001b[0m\u001b[0mTrue\u001b[0m\u001b[1;33m)\u001b[0m\u001b[1;33m\u001b[0m\u001b[0m\n\u001b[0m\u001b[0;32m     14\u001b[0m         \u001b[0mcumulative\u001b[0m \u001b[1;33m=\u001b[0m \u001b[0mnp\u001b[0m\u001b[1;33m.\u001b[0m\u001b[0mcumsum\u001b[0m\u001b[1;33m(\u001b[0m\u001b[0mvalues\u001b[0m\u001b[1;33m)\u001b[0m\u001b[1;33m\u001b[0m\u001b[0m\n\u001b[0;32m     15\u001b[0m         \u001b[0mcumu\u001b[0m \u001b[1;33m=\u001b[0m \u001b[0mcumulative\u001b[0m\u001b[1;33m/\u001b[0m\u001b[0mcumulative\u001b[0m\u001b[1;33m.\u001b[0m\u001b[0mmax\u001b[0m\u001b[1;33m(\u001b[0m\u001b[1;33m)\u001b[0m\u001b[1;33m\u001b[0m\u001b[0m\n",
      "\u001b[1;31mNameError\u001b[0m: name 'pwvmean' is not defined"
     ]
    }
   ],
   "source": [
    "scale = 1.\n",
    "bins=50\n",
    "plt.figure()\n",
    "i = 0\n",
    "plt.suptitle('Summit PWV daily averages, Prob(cloudy fraction $>$ x)')\n",
    "\n",
    "for y in year:\n",
    "    \n",
    "    plt.subplot(3, 2, i+1)\n",
    "    i += 1\n",
    "    for s in season:\n",
    "        print y, s\n",
    "        values, base = np.histogram(pwvmean[y][s], bins=bins, density=True)\n",
    "        cumulative = np.cumsum(values)\n",
    "        cumu = cumulative/cumulative.max()\n",
    "        cumu_I = 1. - cumu\n",
    "        if s == 'winter':\n",
    "            plt.plot(base[:-1]*scale, cumu_I*100, '--', linewidth = 2, label = ' %s %d' % (s, y))\n",
    "        else:\n",
    "            plt.plot(base[:-1]*scale, cumu_I*100, linewidth = 2, label = ' %s %d' % (s, y))\n",
    "    \n",
    "    if y >= 2017:\n",
    "        plt.xlabel('PWV (mm)')\n",
    "    if (y % 2) == 1:\n",
    "        plt.ylabel('Cumulative Distribution (%)')\n",
    "    #plt.ylim([0, 80])\n",
    "    plt.xlim([0, 1.1])\n",
    "    plt.legend()\n",
    "    plt.grid()\n",
    "plt.show()"
   ]
  },
  {
   "cell_type": "code",
   "execution_count": null,
   "metadata": {},
   "outputs": [],
   "source": [
    "print pwvmean[2018]['summer']\n",
    "print pwvmean[2018]['winter'].shape"
   ]
  },
  {
   "cell_type": "code",
   "execution_count": 11,
   "metadata": {},
   "outputs": [],
   "source": [
    "#y = 2018\n",
    "bins = 50\n",
    "minimum = 0.5\n",
    "maximum = 1\n",
    "plt.figure()\n",
    "for i in range(len(year)):\n",
    "    plt.subplot(3, 2, i+1)\n",
    "    s = 'summer'\n",
    "    plt.hist(cloudmean[year[i]][s], bins = bins, range = (minimum, maximum), label='%s %d' % (s, year[i])) \n",
    "    s = 'winter'\n",
    "    plt.hist(cloudmean[year[i]][s], bins = bins, range = (minimum, maximum), label='%s %d' % (s, year[i])) \n",
    "    #if i >= 2:\n",
    "    plt.xlabel('cloudy sky fraction')\n",
    "    #if i == 0 or i == 2:\n",
    "    plt.ylabel('counts')\n",
    "    plt.legend()\n",
    "    plt.grid()"
   ]
  },
  {
   "cell_type": "code",
   "execution_count": 12,
   "metadata": {},
   "outputs": [],
   "source": [
    "def nummonth(name):\n",
    "    if name == 'Jun':\n",
    "        num = 6\n",
    "    elif name == 'Jul':\n",
    "        num = 7\n",
    "    elif name == 'Aug':\n",
    "        num = 8\n",
    "    else:\n",
    "        print(name)\n",
    "    return num"
   ]
  },
  {
   "cell_type": "code",
   "execution_count": 13,
   "metadata": {},
   "outputs": [],
   "source": [
    "def get_date_indices(d, tdata, data, days):\n",
    "    \n",
    "    yr = int('%s' % d[-4:])\n",
    "    \n",
    "    date = datetime.strptime(d, \"%m/%d/%Y\")\n",
    "    time_tuple = date.timetuple()\n",
    "    tstamp1 = time.mktime(time_tuple)\n",
    "    \n",
    "    tstamp2 = tstamp1 + days*24*60*60\n",
    "\n",
    "    itime = np.where((tdata >= tstamp1) & (tdata < tstamp2))\n",
    "    data = data[itime]\n",
    "    tdata = tdata[itime]\n",
    "    \n",
    "    datasort = np.argsort(tdata)\n",
    "    \n",
    "    data = data[datasort]\n",
    "    tdata = tdata[datasort]\n",
    "\n",
    "        \n",
    "    return data, tdata"
   ]
  },
  {
   "cell_type": "code",
   "execution_count": 14,
   "metadata": {},
   "outputs": [
    {
     "name": "stdout",
     "output_type": "stream",
     "text": [
      "2013\n",
      "2014\n",
      "2015\n",
      "2016\n",
      "2017\n",
      "2018\n"
     ]
    }
   ],
   "source": [
    "#read data from txt file\n",
    "tskyfrac = {}\n",
    "skyfrac = {}\n",
    "YEAR = [2013, 2014, 2015, 2016, 2017, 2018]\n",
    "for y in YEAR:\n",
    "    print(y)\n",
    "    t = []\n",
    "    csky = []\n",
    "    with open('D:/software_git_repos/polaris/polaris_data/weather_data/TSI_data/sky_fraction/%d.txt' % y, 'r') as inputfile:\n",
    "        next(inputfile)\n",
    "        for line in inputfile:\n",
    "            l = line.split(',')\n",
    "            try:\n",
    "                t.append(l[0])\n",
    "                csky.append(float(l[1]))\n",
    "            except:\n",
    "                pass\n",
    "    tskyfrac[y] = t\n",
    "    skyfrac[y] = np.asarray(csky)\n",
    "    \n",
    "    d = []\n",
    "    for t in range(len(tskyfrac[y])):\n",
    "        month = nummonth(tskyfrac[y][t][6:9])\n",
    "        day = tskyfrac[y][t][10:12]\n",
    "        hour = tskyfrac[y][t][13:15]\n",
    "        minute = tskyfrac[y][t][16:18]\n",
    "        second = tskyfrac[y][t][19:21]\n",
    "    \n",
    "        date = datetime(y, month, int(day), int(hour), int(minute), int(second))\n",
    "        time_tuple = date.timetuple()\n",
    "        d.append(time.mktime(time_tuple))\n",
    "        \n",
    "    tskyfrac[y] = np.asarray(d)"
   ]
  },
  {
   "cell_type": "code",
   "execution_count": 15,
   "metadata": {},
   "outputs": [],
   "source": [
    "TIME = {}\n",
    "pwv = {}\n",
    "cloudy_fraction = {}\n",
    "year = [2013, 2014, 2015, 2016, 2017, 2018]\n",
    "\n",
    "for y in year:\n",
    "    fpath = \"D:/software_git_repos/polaris/polaris_data/weather_data/MODIS/pwv/reduced/%s/\" % y\n",
    "    files = listdir(fpath)\n",
    "    TIME[y] = {}\n",
    "    pwv[y] = {}\n",
    "    cloudy_fraction[y] = {}\n",
    "    for f in files:\n",
    "        dset = h5py.File(fpath+f, 'r')['data']\n",
    "        \n",
    "        if f[:2] == '12':\n",
    "            season = 'winter'\n",
    "        else:\n",
    "            season = 'summer'\n",
    "            \n",
    "        cloudy_fraction[y][season] = dset['cloudy_fraction']\n",
    "        TIME[y][season] = dset['time']\n",
    "        pwv[y][season] = dset['pwv']"
   ]
  },
  {
   "cell_type": "code",
   "execution_count": 16,
   "metadata": {},
   "outputs": [],
   "source": [
    "\n",
    "sf = {}\n",
    "tsf = {}\n",
    "\n",
    "for y in YEAR:\n",
    "    sf[y] = {}\n",
    "    tsf[y] = {}\n",
    "    dg = '06/01/'+str(y)\n",
    "    season = 'summer'\n",
    "    numdays = 30+2*31\n",
    "    sf[y][season], tsf[y][season] = get_date_indices(dg, tskyfrac[y], skyfrac[y], (numdays))\n",
    "    dg = '12/01/'+str(y-1)\n",
    "    season = 'winter'\n",
    "    sf[y][season], tsf[y][season] = get_date_indices(dg, tskyfrac[y], skyfrac[y], (numdays))"
   ]
  },
  {
   "cell_type": "code",
   "execution_count": 35,
   "metadata": {},
   "outputs": [
    {
     "name": "stderr",
     "output_type": "stream",
     "text": [
      "C:\\Users\\akkap\\anaconda3\\envs\\py27\\lib\\site-packages\\ipykernel_launcher.py:21: RuntimeWarning: Mean of empty slice.\n",
      "C:\\Users\\akkap\\anaconda3\\envs\\py27\\lib\\site-packages\\ipykernel_launcher.py:22: RuntimeWarning: Mean of empty slice.\n"
     ]
    }
   ],
   "source": [
    "sfmean = {}\n",
    "tsfmean = {}\n",
    "sfstd = {}\n",
    "season = ['winter', 'summer']\n",
    "for y in YEAR:\n",
    "    sfmean[y] = {}\n",
    "    tsfmean[y] = {}\n",
    "    sfstd[y] = {}\n",
    "    for seas in season:\n",
    "        sfm = []\n",
    "        tsfm = []\n",
    "        sfs = []\n",
    "        i0 = 0\n",
    "        for s in range(len(tsf[y][seas])):\n",
    "            if tsf[y][seas][s]-tsf[y][seas][i0] >= timespan:\n",
    "                sfm.append(sf[y][seas][i0:s+1].mean())\n",
    "                tsfm.append(tsf[y][seas][i0:s+1].mean())\n",
    "                sfs.append(sf[y][seas][i0:s+1].std())\n",
    "                i0=s+1\n",
    "        if i0<len(tsf[y]):\n",
    "            sfm.append(sf[y][seas][i0:len(sf[y][seas])+1].mean())\n",
    "            tsfm.append(tsf[y][seas][i0:len(tsf[y][seas])+1].mean())\n",
    "            sfs.append(sf[y][seas][i0:len(sf[y][seas])+1].std())\n",
    "\n",
    "        sfmean[y][seas] = np.asarray(sfm)\n",
    "        tsfmean[y][seas] = np.asarray(tsfm)\n",
    "        sfstd[y][seas] = np.asarray(sfs)"
   ]
  },
  {
   "cell_type": "code",
   "execution_count": 36,
   "metadata": {},
   "outputs": [
    {
     "name": "stdout",
     "output_type": "stream",
     "text": [
      "2013 (nan, nan) winter\n",
      "2013 (0.8065969107257464, 0.40261377176033397) summer\n",
      "2014 (nan, nan) winter\n",
      "2014 (0.8272743406706207, 0.3797804830593104) summer\n",
      "2015 (nan, nan) winter\n",
      "2015 (0.8857341044556508, 0.30731115280837634) summer\n",
      "2016 (nan, nan) winter\n",
      "2016 (-0.8631038950931109, 0.3370344997035992) summer\n",
      "2017 (nan, nan) winter\n",
      "2017 (0.9958968286472384, 0.057690401083054246) summer\n",
      "2018 (nan, nan) winter\n",
      "2018 (0.8664786776126105, 0.3327557532806502) summer\n"
     ]
    }
   ],
   "source": [
    "p = {}\n",
    "pstd = {}\n",
    "sfsorted = {}\n",
    "stat = {}\n",
    "r = {}\n",
    "\n",
    "for y in YEAR:\n",
    "    p[y] = {}\n",
    "    pstd[y] = {}\n",
    "    sfsorted[y] = {}\n",
    "    stat[y] = {}\n",
    "    r[y] = {}\n",
    "    rr = []\n",
    "    for s in season:\n",
    "        p[y][s] = np.interp(tsfmean[y][s], tcloudmean[y][s], cloudmean[y][s])\n",
    "        pstd[y][s] = np.interp(tsfmean[y][s], tcloudmean[y][s], cloudstd[y][s])\n",
    "        isort = np.argsort(sfmean[y][s])\n",
    "        p[y][s] = p[y][s][isort]\n",
    "        pstd[y][s] = pstd[y][s][isort]\n",
    "        sfsorted[y][s] = sfmean[y][s][isort]\n",
    "        stat[y][s] = stats.pearsonr(sfsorted[y][s], pstd[y][s])\n",
    "        rr.append(stat[y][s][0])\n",
    "        print y, stat[y][s], s\n",
    "    r[y][s] = rr"
   ]
  },
  {
   "cell_type": "code",
   "execution_count": 37,
   "metadata": {},
   "outputs": [],
   "source": [
    "scale = 1.\n",
    "bins=50\n",
    "plt.figure()\n",
    "i = 0\n",
    "plt.suptitle('cloudy sky fraction daily averages')\n",
    "s = 'summer'\n",
    "for y in year:\n",
    "    \n",
    "    plt.subplot(3, 2, i+1)\n",
    "    i += 1\n",
    "        \n",
    "    #plt.errorbar(sfsorted[y][s], p[y][s], yerr = pstd[y][s], capsize=2, fmt='.', label = '%d, r = %.2f, p = %.2E' % (y, stat[y][s][0], stat[y][s][1]))\n",
    "    plt.plot(sfsorted[y][s], p[y][s], '-', label = '%d, r = %.2f, p = %.2E' % (y, stat[y][s][0], stat[y][s][1]))\n",
    "    if y >= 2017:\n",
    "        plt.xlabel('Ground measurement')\n",
    "    if (y % 2) == 1:\n",
    "        plt.ylabel('Sattelite measurement')\n",
    "    #plt.ylim([0, 80])\n",
    "    plt.xlim([0, 1.1])\n",
    "    plt.legend()\n",
    "    plt.grid()\n",
    "plt.show()"
   ]
  },
  {
   "cell_type": "code",
   "execution_count": 38,
   "metadata": {},
   "outputs": [
    {
     "name": "stdout",
     "output_type": "stream",
     "text": [
      "3\n"
     ]
    }
   ],
   "source": [
    "print len(sfsorted[2018]['summer'])"
   ]
  },
  {
   "cell_type": "code",
   "execution_count": null,
   "metadata": {},
   "outputs": [],
   "source": []
  },
  {
   "cell_type": "code",
   "execution_count": null,
   "metadata": {},
   "outputs": [],
   "source": []
  }
 ],
 "metadata": {
  "kernelspec": {
   "display_name": "Python 2",
   "language": "python",
   "name": "python2"
  },
  "language_info": {
   "codemirror_mode": {
    "name": "ipython",
    "version": 2
   },
   "file_extension": ".py",
   "mimetype": "text/x-python",
   "name": "python",
   "nbconvert_exporter": "python",
   "pygments_lexer": "ipython2",
   "version": "2.7.18"
  }
 },
 "nbformat": 4,
 "nbformat_minor": 2
}
