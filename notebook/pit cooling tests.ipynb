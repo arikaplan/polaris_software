{
 "cells": [
  {
   "cell_type": "code",
   "execution_count": 1,
   "metadata": {},
   "outputs": [
    {
     "ename": "SyntaxError",
     "evalue": "Missing parentheses in call to 'print'. Did you mean print(f,stats.st_size)? (realtime_gp.py, line 84)",
     "output_type": "error",
     "traceback": [
      "Traceback \u001b[1;36m(most recent call last)\u001b[0m:\n",
      "  File \u001b[0;32m\"C:\\Users\\akkap\\anaconda3\\lib\\site-packages\\IPython\\core\\interactiveshell.py\"\u001b[0m, line \u001b[0;32m3444\u001b[0m, in \u001b[0;35mrun_code\u001b[0m\n    exec(code_obj, self.user_global_ns, self.user_ns)\n",
      "\u001b[1;36m  File \u001b[1;32m\"C:\\Users\\akkap\\AppData\\Local\\Temp/ipykernel_7180/3049659940.py\"\u001b[1;36m, line \u001b[1;32m15\u001b[1;36m, in \u001b[1;35m<module>\u001b[1;36m\u001b[0m\n\u001b[1;33m    import realtime_gp as rt\u001b[0m\n",
      "\u001b[1;36m  File \u001b[1;32m\"C:\\software_git_repos\\polaris\\polaris_software\\notebook\\..\\realtime_gp.py\"\u001b[1;36m, line \u001b[1;32m84\u001b[0m\n\u001b[1;33m    print f,stats.st_size\u001b[0m\n\u001b[1;37m          ^\u001b[0m\n\u001b[1;31mSyntaxError\u001b[0m\u001b[1;31m:\u001b[0m Missing parentheses in call to 'print'. Did you mean print(f,stats.st_size)?\n"
     ]
    }
   ],
   "source": [
    "import sys\n",
    "import os\n",
    "#sys.path.append('D:\\\\software_git_repos\\\\cofe-python-analysis-tools\\\\utils_meinhold')\n",
    "sys.path.append('../utils_meinhold')\n",
    "#sys.path.append('D:\\\\software_git_repos\\\\cofe-python-analysis-tools\\\\utils_zonca')\n",
    "sys.path.append('../utils_zonca')\n",
    "#sys.path.append('D:\\\\software_git_repos\\\\cofe-python-analysis-tools\\\\utils_zonca\\\\pointing')\n",
    "sys.path.append('../utils_zonca/pointing')\n",
    "#sys.path.append('D:\\\\software_git_repos\\\\greenpol')\n",
    "sys.path.append('../')\n",
    "#sys.path.append('D:\\\\software_git_repos\\\\greenpol\\\\telescope_control\\\\')\n",
    "sys.path.append('../telescope_control')\n",
    "#sys.path.append('D:\\\\software_git_repos\\\\greenpol\\\\telescope_control\\\\VtoT\\\\')\n",
    "sys.path.append('../VtoT')\n",
    "import realtime_gp as rt\n",
    "import numpy as np\n",
    "import datetime  \n",
    "import h5py\n",
    "import cofe_util as cu\n",
    "import convert\n",
    "\n",
    "from functions import *\n",
    "from scipy.optimize import curve_fit\n",
    "\n",
    "\n",
    "%pylab"
   ]
  },
  {
   "cell_type": "code",
   "execution_count": 2,
   "metadata": {},
   "outputs": [
    {
     "name": "stdout",
     "output_type": "stream",
     "text": [
      "Using matplotlib backend: Qt5Agg\n"
     ]
    }
   ],
   "source": [
    "%matplotlib auto"
   ]
  },
  {
   "cell_type": "code",
   "execution_count": 3,
   "metadata": {},
   "outputs": [],
   "source": [
    "def get_pointing_files(filelist=None):\n",
    "\n",
    "    if filelist==None:\n",
    "        root=Tkinter.Tk()\n",
    "        filelist = list(tkFileDialog.askopenfilenames(\\\n",
    "        initialdir='D://software_git_repos/Polaris/polaris_data/pointing_data/',parent=root,title='Choose a set of files'))\n",
    "        root.destroy()\n",
    "    filelist.sort()\n",
    "    \n",
    "    return filelist"
   ]
  },
  {
   "cell_type": "code",
   "execution_count": 4,
   "metadata": {},
   "outputs": [],
   "source": [
    "def get_pointing_files(filelist=None):\n",
    "    if filelist == None:\n",
    "        flist = []\n",
    "        root = Tkinter.Tk()\n",
    "        files = list(tkFileDialog.askopenfilenames( \\\n",
    "            initialdir='D://software_git_repos/greenpol/telescope_control/data_aquisition/pointing_data/',\n",
    "            parent=root, title='Choose a set of files'))\n",
    "        flist.append(files)\n",
    "        root.destroy()\n",
    "        filelist = [y for x in flist for y in x]\n",
    "    filelist.sort()\n",
    "\n",
    "    return filelist"
   ]
  },
  {
   "cell_type": "code",
   "execution_count": 5,
   "metadata": {},
   "outputs": [],
   "source": [
    "def get_h5_pointing(filelist,startrev=None, stoprev=None,angles_in_ints=False,azel_era=3):\n",
    "    \n",
    "    errlimit=0.1\n",
    "    if angles_in_ints==True:\n",
    "        errlimit=10\n",
    "    hpointing=[]\n",
    "    filelist.sort()\n",
    "    for f in filelist:\n",
    "        if f[79:88] != 'corrected':\n",
    "            slimit = 22144\n",
    "        else:\n",
    "            slimit = 11512\n",
    "        stats=os.stat(f)\n",
    "        if stats.st_size<slimit:\n",
    "            print f,stats.st_size\n",
    "        if stats.st_size >= slimit:\n",
    "            h=h5py.File(f)\n",
    "            hh=h['data']\n",
    "            hpointing.append(hh[hh['Time']>=hh['Time'][0]])\n",
    "            #print hpointinng\n",
    "            h.close()\n",
    "\n",
    "    hpointing = np.concatenate(hpointing)\n",
    "    #cut out blank lines from unfilled files\n",
    "\n",
    "    hrevlist,inds=np.unique(hpointing['Time'],return_index=True)\n",
    "\n",
    "    psize = len(hpointing['Time'][inds])\n",
    "\n",
    "    htmeans=hpointing['Horn Top'][inds]\n",
    "    spmeans=hpointing['Shield Plate'][inds]\n",
    "    coolermeans = hpointing['Cooler'][inds]\n",
    "    transitionmeans = hpointing['Transition'][inds]\n",
    "    cpmeans = hpointing['Copper Plate'][inds]\n",
    "    ampmeans = hpointing['Amplifier'][inds]\n",
    "\n",
    "    return {'Horn Top':htmeans,'Shield Plate':spmeans,'gpstime':hrevlist, 'Cooler':coolermeans\n",
    "            , 'Transition':transitionmeans, 'Copper Plate':cpmeans, 'Amplifier':ampmeans}"
   ]
  },
  {
   "cell_type": "code",
   "execution_count": 6,
   "metadata": {},
   "outputs": [],
   "source": [
    "def read_some_data(datadict,datalabel,datatype='demod', filelist=None):\n",
    "\n",
    "    if filelist==None:\n",
    "        root=Tkinter.Tk()\n",
    "        if datatype=='demod':\n",
    "            filelist = list(tkFileDialog.askopenfilenames(\\\n",
    "            initialdir='D://software_git_repos/Polaris/polaris_data/demod_data/',parent=root,title='Choose a set of files'))\n",
    "        if datatype=='raw':\n",
    "            filelist = list(tkFileDialog.askopenfilenames(\\\n",
    "            initialdir='D://software_git_repos/Polaris/polaris_data/data/',parent=root,title='Choose a set of files'))            \n",
    "        root.destroy()\n",
    "    filelist.sort()\n",
    "    \n",
    "    if datatype=='demod':\n",
    "        dlist=[]\n",
    "        for f in filelist:\n",
    "            hf=h5py.File(f)\n",
    "            dlist.append(hf['demod_data'])\n",
    "        d=concatenate(dlist)\n",
    "        hf.close() \n",
    "        \n",
    "    if datatype=='raw':\n",
    "        d=rt.demod.read_raw(filelist)\n",
    "    datadict[datalabel]=d\n",
    "    return"
   ]
  },
  {
   "cell_type": "code",
   "execution_count": 7,
   "metadata": {},
   "outputs": [],
   "source": [
    "def asd_from_data(data,minfreq=1.):\n",
    "    #run nps on all the channels for each of the loaded data sets, return asd dictionary\n",
    "    \n",
    "    asd_dict = {}\n",
    "    for datset in data.keys():\n",
    "        asd_dict[datset]={}\n",
    "        d=data[datset][:100000]\n",
    "        samprate=1000./float(data['time'][10]-data['time'][9])\n",
    "        \n",
    "        freq,psd=cu.nps(d,samprate,minfreq=minfreq)\n",
    "        asd_dict[datset] =sqrt(psd)\n",
    "        asd_dict['freq']=freq\n",
    "                    \n",
    "    return asd_dict            "
   ]
  },
  {
   "cell_type": "code",
   "execution_count": 8,
   "metadata": {},
   "outputs": [],
   "source": [
    "def plot_asd_dict(asd_dict, datalist=None):\n",
    "    #function to give a choice of preloaded datasets from dictionary data_dict\n",
    "    plt.figure()\n",
    "    if datalist==None:\n",
    "        datalist=asd_dict.keys()\n",
    "\n",
    "    for dname in datalist:\n",
    "        if dname == 'freq' or dname == 'time':# or dname == '5. Copper Plate' or dname == '6. Amplifier':\n",
    "            continue\n",
    "        asd=asd_dict[dname]\n",
    "        label = dname\n",
    "        #if dname == '4. Transition':\n",
    "        #    label = '1st stage'\n",
    "        #if dname == '3. Cooler':\n",
    "        #    label = '2nd stage'\n",
    "        plt.plot(asd_dict['freq'],asd, label=label,lw=2)\n",
    "\n",
    "    plt.legend()\n",
    "    plt.xlabel('Frequency [Hz]')\n",
    "    plt.ylabel(r'ASD [$\\frac{K}{\\sqrt{Hz}}$]')"
   ]
  },
  {
   "cell_type": "code",
   "execution_count": 9,
   "metadata": {},
   "outputs": [],
   "source": [
    "flp = {}\n",
    "pp = {}"
   ]
  },
  {
   "cell_type": "code",
   "execution_count": 10,
   "metadata": {},
   "outputs": [],
   "source": [
    "#check to see if you horn top and shield plate switched in previous tests\n",
    "#by seeing if there is a consistent difference in temperature when warm"
   ]
  },
  {
   "cell_type": "code",
   "execution_count": 11,
   "metadata": {},
   "outputs": [],
   "source": [
    "VT = {'time': 'c', '1. Horn Top':'i','2. Shield Plate':'c', '3. Cooler':'h'\n",
    "            , '4. Transition':'l', '5. Copper Plate':'k', '6. Amplifier':'e'}"
   ]
  },
  {
   "cell_type": "code",
   "execution_count": 12,
   "metadata": {
    "scrolled": true
   },
   "outputs": [
    {
     "name": "stdout",
     "output_type": "stream",
     "text": [
      "1\n"
     ]
    },
    {
     "name": "stderr",
     "output_type": "stream",
     "text": [
      "C:\\Users\\akkap\\anaconda3\\envs\\py27\\lib\\site-packages\\ipykernel_launcher.py:17: H5pyDeprecationWarning: The default file mode will change to 'r' (read-only) in h5py 3.0. To suppress this warning, pass the mode you need to h5py.File(), or set the global default h5.get_config().default_file_mode, or set the environment variable H5PY_DEFAULT_READONLY=1. Available modes are: 'r', 'r+', 'w', 'w-'/'x', 'a'. See the docs for details.\n"
     ]
    }
   ],
   "source": [
    "numdays = 1\n",
    "\n",
    "for i in range(1, numdays+1):\n",
    "    print i\n",
    "\n",
    "    flp[i] = get_pointing_files()\n",
    "    pp[i] = get_h5_pointing(flp[i])"
   ]
  },
  {
   "cell_type": "code",
   "execution_count": 13,
   "metadata": {},
   "outputs": [],
   "source": [
    "sensors = {}\n",
    "for i in range(1, numdays+1):\n",
    "    sensors[i] = {'time': pp[i]['gpstime'], '1. Horn Top':pp[i]['Horn Top'],'2. Shield Plate':pp[i]['Shield Plate'], '3. Cooler':pp[i]['Cooler']\n",
    "            , '4. Transition':pp[i]['Transition'], '5. Copper Plate':pp[i]['Copper Plate'], '6. Amplifier':pp[i]['Amplifier']}"
   ]
  },
  {
   "cell_type": "code",
   "execution_count": 14,
   "metadata": {},
   "outputs": [],
   "source": [
    "#asd_dict = asd_from_data(sensors, minfreq=0.1)"
   ]
  },
  {
   "cell_type": "code",
   "execution_count": 15,
   "metadata": {},
   "outputs": [],
   "source": [
    "#plot_asd_dict(asd_dict)"
   ]
  },
  {
   "cell_type": "code",
   "execution_count": 16,
   "metadata": {},
   "outputs": [],
   "source": [
    "i = 1\n",
    "#plt.figure()\n",
    "for s in sensors[i]:\n",
    "    \n",
    "    #for i in range(1, numdays+1):\n",
    "    time = (sensors[i]['time']-sensors[i]['time'][0])/3600. #+ (12+(29/60.)+(6/3600.))\n",
    "    #if s != '3. Cooler':\n",
    "    #    continue  \n",
    "    plt.figure()\n",
    "        #if i == 1: \n",
    "        #    plt.plot(time, sensors[i][s],label = '%s, 2/2021' % s)\n",
    "        #else:\n",
    "        #    plt.plot(time, sensors[i][s],label = '%s, 3/2022' % s)\n",
    "    \n",
    "    temp = convert.convert(sensors[i][s], VT[s])\n",
    "    plt.plot(time, temp,label = s+', day'+str(i))\n",
    "    plt.xlabel('time (hours)')\n",
    "    plt.ylabel('temperature (K)')\n",
    "    plt.title(s)\n",
    "\n",
    "    plt.legend()"
   ]
  },
  {
   "cell_type": "raw",
   "metadata": {},
   "source": [
    "time = (pp[i]['gpstime'] - pp[i]['gpstime'][0])/3600. #+ (17 + 32./60 + 15/3600.)\n",
    "\n",
    "fig, axs = plt.subplots(2, 2)\n",
    "s = \"Horn Top\"\n",
    "axs[0, 0].plot(time, sensors[s])\n",
    "axs[0, 0].set_title(s)\n",
    "axs[0,0].set_ylabel('Temperature (K)')\n",
    "s = \"Shield Plate\"\n",
    "axs[1, 0].plot(time, sensors[s])\n",
    "axs[1, 0].set_title(s)\n",
    "axs[1,0].set_ylabel('Temperature (K)')\n",
    "axs[1,0].set_xlabel('time (hours)')\n",
    "s = \"Transition\"\n",
    "axs[0, 1].plot(time, sensors[s])\n",
    "axs[0, 1].set_title(\"1st Stage\")\n",
    "s = \"Cooler\"\n",
    "axs[1, 1].plot(time, sensors[s])\n",
    "axs[1, 1].set_title(\"2nd Stage\")\n",
    "axs[1, 1].set_xlabel('time (hours)')\n",
    "fig.tight_layout()"
   ]
  },
  {
   "cell_type": "code",
   "execution_count": 50,
   "metadata": {},
   "outputs": [],
   "source": [
    "time = (pp[i]['gpstime'] - pp[i]['gpstime'][0])/3600. #+ (17 + 32./60 + 15/3600.)\n",
    "\n",
    "fig, axs = plt.subplots(2, 3)\n",
    "s = \"1. Horn Top\"\n",
    "axs[0, 0].plot(time, sensors[s])\n",
    "axs[0, 0].set_title(s)\n",
    "axs[0,0].set_ylabel('Temperature (K)')\n",
    "s = \"2. Shield Plate\"\n",
    "axs[1, 0].plot(time, sensors[s])\n",
    "axs[1, 0].set_title(s)\n",
    "axs[1,0].set_ylabel('Temperature (K)')\n",
    "axs[1,0].set_xlabel('time (hours)')\n",
    "s = \"3. Cooler\"\n",
    "axs[0, 1].plot(time, sensors[s])\n",
    "axs[0, 1].set_title(\"2nd Stage\")\n",
    "fig.tight_layout()\n",
    "s = \"4. Transition\"\n",
    "axs[1, 1].plot(time, sensors[s])\n",
    "axs[1, 1].set_title(\"Transition\")\n",
    "axs[1,1].set_xlabel('time (hours)')\n",
    "s = \"5. Copper Plate\"\n",
    "axs[0, 2].plot(time, sensors[s])\n",
    "axs[0, 2].set_title(\"Copper Plate\")\n",
    "fig.tight_layout()\n",
    "s = \"6. Amplifier\"\n",
    "axs[1, 2].plot(time, sensors[s])\n",
    "axs[1, 2].set_title(\"Amplifier\")\n",
    "axs[1,2].set_xlabel('time (hours)')\n",
    "fig.tight_layout()"
   ]
  },
  {
   "cell_type": "code",
   "execution_count": null,
   "metadata": {},
   "outputs": [],
   "source": [
    "#plt.figure()\n",
    "s = 'Amplifier'\n",
    "plt.plot(time, sensors[s] - sensors[s].max(), label = s)\n",
    "plt.xlabel('time (hours)')\n",
    "plt.ylabel('temperature (V)')\n",
    "plt.title(s)\n",
    "\n",
    "plt.legend()"
   ]
  },
  {
   "cell_type": "code",
   "execution_count": 23,
   "metadata": {},
   "outputs": [],
   "source": [
    "i = 1\n",
    "stage2 = pp[i]['Cooler']\n",
    "time = (pp[i]['gpstime'] - pp[i]['gpstime'][0])/3600. + (13 +32./60 + 54/3600.)\n",
    "stage1 = pp[i]['Transition']"
   ]
  },
  {
   "cell_type": "code",
   "execution_count": 25,
   "metadata": {},
   "outputs": [
    {
     "data": {
      "text/plain": [
       "[<matplotlib.lines.Line2D at 0x3a58b448>]"
      ]
     },
     "execution_count": 25,
     "metadata": {},
     "output_type": "execute_result"
    }
   ],
   "source": [
    "plt.figure()\n",
    "plt.plot(time, stage1)"
   ]
  },
  {
   "cell_type": "code",
   "execution_count": 76,
   "metadata": {},
   "outputs": [],
   "source": [
    "# create figure and axis objects with subplots()\n",
    "fig,ax = plt.subplots()\n",
    "# make a plot\n",
    "ax.plot(time, stage2, color=\"black\")\n",
    "# set x-axis label\n",
    "ax.set_xlabel(\"time (hours)\",fontsize=14)\n",
    "# set y-axis label\n",
    "ax.set_ylabel(\"stage 2 Temperature (K)\",color=\"black\",fontsize=14)\n",
    "\n",
    "\n",
    "# twin object for two different y-axis on the sample plot\n",
    "ax2=ax.twinx()\n",
    "# make a plot with different y-axis using second axis object\n",
    "ax2.plot(time, stage1,color=\"blue\")\n",
    "ax2.set_ylabel(\"stage 1 Temperature(K)\",color=\"blue\",fontsize=14)\n",
    "plt.title('Dewar Orientation tests, 90 deg = facing up')\n",
    "plt.show()"
   ]
  },
  {
   "cell_type": "code",
   "execution_count": 128,
   "metadata": {},
   "outputs": [
    {
     "name": "stdout",
     "output_type": "stream",
     "text": [
      "(72.59031382850795, 1.8105411685295387)\n"
     ]
    }
   ],
   "source": [
    "print get_stats(stage1, 816, 1071)"
   ]
  },
  {
   "cell_type": "code",
   "execution_count": 72,
   "metadata": {},
   "outputs": [],
   "source": [
    "def get_stats(data, lower_bound, upper_bound):\n",
    "    \n",
    "    mean = data[lower_bound:upper_bound].mean()\n",
    "    std = data[lower_bound:upper_bound].std()\n",
    "    \n",
    "    return mean, std"
   ]
  },
  {
   "cell_type": "code",
   "execution_count": 160,
   "metadata": {},
   "outputs": [
    {
     "name": "stdout",
     "output_type": "stream",
     "text": [
      "13.272223364494842 13.054346663743624 13.196706599646626 14.224020262296436 14.814216782201267 16.21653537853423 17.315617422410927 19.44715432739259 22.08969060897631\n"
     ]
    }
   ],
   "source": [
    "temp1, std1 = get_stats(stage2, 0, 103)\n",
    "temp2, std2 = get_stats(stage2, 1082, 1131)\n",
    "temp3, std3 = get_stats(stage2, 1169, 1536)\n",
    "temp4, std4 = get_stats(stage2, 1550, 1621)\n",
    "temp5, std5 = get_stats(stage2, 1634, 2020)\n",
    "temp6, std6 = get_stats(stage2, 2091, 2406)\n",
    "temp7, std7 = get_stats(stage2, 2470, 2798)\n",
    "temp8, std8 = get_stats(stage2, 2905, 3185)\n",
    "temp9, std9 = get_stats(stage2, 3240, 3627)\n",
    "\n",
    "print temp1, temp2, temp3, temp4, temp5, temp6, temp7, temp8, temp9\n",
    "#print std1, std2, std3, std4, std5, std6, std7, std8, std9"
   ]
  },
  {
   "cell_type": "code",
   "execution_count": 103,
   "metadata": {},
   "outputs": [],
   "source": [
    "plt.errorbar??"
   ]
  },
  {
   "cell_type": "code",
   "execution_count": 61,
   "metadata": {},
   "outputs": [
    {
     "ename": "NameError",
     "evalue": "name 'temp3' is not defined",
     "output_type": "error",
     "traceback": [
      "\u001b[1;31m---------------------------------------------------------------------------\u001b[0m",
      "\u001b[1;31mNameError\u001b[0m                                 Traceback (most recent call last)",
      "\u001b[1;32m<ipython-input-61-9425eb9e3b7f>\u001b[0m in \u001b[0;36m<module>\u001b[1;34m()\u001b[0m\n\u001b[0;32m      1\u001b[0m \u001b[0minputP\u001b[0m \u001b[1;33m=\u001b[0m \u001b[1;33m[\u001b[0m\u001b[1;36m0\u001b[0m\u001b[1;33m,\u001b[0m \u001b[1;36m0.5\u001b[0m\u001b[1;33m,\u001b[0m \u001b[1;36m1.\u001b[0m\u001b[1;33m,\u001b[0m \u001b[1;36m1.5\u001b[0m\u001b[1;33m,\u001b[0m \u001b[1;36m2.\u001b[0m\u001b[1;33m,\u001b[0m \u001b[1;36m3.\u001b[0m\u001b[1;33m,\u001b[0m \u001b[1;36m4.\u001b[0m\u001b[1;33m,\u001b[0m \u001b[1;36m5.\u001b[0m\u001b[1;33m,\u001b[0m \u001b[1;36m6.\u001b[0m\u001b[1;33m]\u001b[0m\u001b[1;33m\u001b[0m\u001b[0m\n\u001b[1;32m----> 2\u001b[1;33m \u001b[0mtemp\u001b[0m \u001b[1;33m=\u001b[0m \u001b[1;33m[\u001b[0m\u001b[1;36m13\u001b[0m\u001b[1;33m,\u001b[0m \u001b[0mtemp3\u001b[0m\u001b[1;33m,\u001b[0m \u001b[1;36m13.7\u001b[0m\u001b[1;33m,\u001b[0m \u001b[0mtemp4\u001b[0m\u001b[1;33m,\u001b[0m \u001b[0mtemp5\u001b[0m\u001b[1;33m,\u001b[0m \u001b[0mtemp6\u001b[0m\u001b[1;33m,\u001b[0m \u001b[0mtemp7\u001b[0m\u001b[1;33m,\u001b[0m \u001b[0mtemp8\u001b[0m\u001b[1;33m,\u001b[0m \u001b[0mtemp9\u001b[0m\u001b[1;33m]\u001b[0m\u001b[1;33m\u001b[0m\u001b[0m\n\u001b[0m\u001b[0;32m      3\u001b[0m \u001b[0mstd\u001b[0m \u001b[1;33m=\u001b[0m \u001b[1;33m[\u001b[0m\u001b[0mstd1\u001b[0m\u001b[1;33m,\u001b[0m \u001b[0mstd2\u001b[0m\u001b[1;33m,\u001b[0m \u001b[0mstd3\u001b[0m\u001b[1;33m,\u001b[0m \u001b[0mstd4\u001b[0m\u001b[1;33m,\u001b[0m \u001b[0mstd5\u001b[0m\u001b[1;33m,\u001b[0m \u001b[0mstd6\u001b[0m\u001b[1;33m,\u001b[0m \u001b[0mstd7\u001b[0m\u001b[1;33m,\u001b[0m \u001b[0mstd8\u001b[0m\u001b[1;33m,\u001b[0m \u001b[0mstd9\u001b[0m\u001b[1;33m]\u001b[0m\u001b[1;33m\u001b[0m\u001b[0m\n\u001b[0;32m      4\u001b[0m \u001b[1;33m\u001b[0m\u001b[0m\n",
      "\u001b[1;31mNameError\u001b[0m: name 'temp3' is not defined"
     ]
    }
   ],
   "source": [
    "inputP = [0, 0.5, 1., 1.5, 2., 3., 4., 5., 6.]\n",
    "temp = [13, temp3, 13.7, temp4, temp5, temp6, temp7, temp8, temp9]\n",
    "std = [std1, std2, std3, std4, std5, std6, std7, std8, std9]\n",
    "\n"
   ]
  },
  {
   "cell_type": "code",
   "execution_count": 62,
   "metadata": {},
   "outputs": [
    {
     "ename": "NameError",
     "evalue": "name 'temp' is not defined",
     "output_type": "error",
     "traceback": [
      "\u001b[1;31m---------------------------------------------------------------------------\u001b[0m",
      "\u001b[1;31mNameError\u001b[0m                                 Traceback (most recent call last)",
      "\u001b[1;32m<ipython-input-62-15c3ed08a458>\u001b[0m in \u001b[0;36m<module>\u001b[1;34m()\u001b[0m\n\u001b[0;32m      1\u001b[0m \u001b[0mplt\u001b[0m\u001b[1;33m.\u001b[0m\u001b[0mfigure\u001b[0m\u001b[1;33m(\u001b[0m\u001b[1;33m)\u001b[0m\u001b[1;33m\u001b[0m\u001b[0m\n\u001b[1;32m----> 2\u001b[1;33m \u001b[0mplt\u001b[0m\u001b[1;33m.\u001b[0m\u001b[0merrorbar\u001b[0m\u001b[1;33m(\u001b[0m\u001b[0minputP\u001b[0m\u001b[1;33m,\u001b[0m \u001b[0mtemp\u001b[0m\u001b[1;33m,\u001b[0m \u001b[0myerr\u001b[0m\u001b[1;33m=\u001b[0m\u001b[0mstd\u001b[0m\u001b[1;33m,\u001b[0m \u001b[0mlinewidth\u001b[0m\u001b[1;33m=\u001b[0m\u001b[1;36m2\u001b[0m\u001b[1;33m,\u001b[0m \u001b[0mcapsize\u001b[0m\u001b[1;33m=\u001b[0m\u001b[1;36m3\u001b[0m\u001b[1;33m,\u001b[0m \u001b[0mlabel\u001b[0m\u001b[1;33m=\u001b[0m\u001b[1;34m'real case'\u001b[0m\u001b[1;33m)\u001b[0m\u001b[1;33m\u001b[0m\u001b[0m\n\u001b[0m\u001b[0;32m      3\u001b[0m \u001b[0mplt\u001b[0m\u001b[1;33m.\u001b[0m\u001b[0mplot\u001b[0m\u001b[1;33m(\u001b[0m\u001b[0minputP_ideal\u001b[0m\u001b[1;33m,\u001b[0m \u001b[0mtemp_ideal\u001b[0m\u001b[1;33m,\u001b[0m \u001b[0mlinewidth\u001b[0m\u001b[1;33m=\u001b[0m\u001b[1;36m2\u001b[0m\u001b[1;33m,\u001b[0m \u001b[0mlabel\u001b[0m\u001b[1;33m=\u001b[0m\u001b[1;34m'ideal case'\u001b[0m\u001b[1;33m)\u001b[0m\u001b[1;33m\u001b[0m\u001b[0m\n\u001b[0;32m      4\u001b[0m \u001b[0mplt\u001b[0m\u001b[1;33m.\u001b[0m\u001b[0mxlabel\u001b[0m\u001b[1;33m(\u001b[0m\u001b[1;34m'2nd stage heat load (watts)'\u001b[0m\u001b[1;33m)\u001b[0m\u001b[1;33m\u001b[0m\u001b[0m\n\u001b[0;32m      5\u001b[0m \u001b[0mplt\u001b[0m\u001b[1;33m.\u001b[0m\u001b[0mylabel\u001b[0m\u001b[1;33m(\u001b[0m\u001b[1;34m'2nd stage temperature (K)'\u001b[0m\u001b[1;33m)\u001b[0m\u001b[1;33m\u001b[0m\u001b[0m\n",
      "\u001b[1;31mNameError\u001b[0m: name 'temp' is not defined"
     ]
    }
   ],
   "source": [
    "plt.figure()\n",
    "plt.errorbar(inputP, temp, yerr=std, linewidth=2, capsize=3, label='real case')\n",
    "plt.plot(inputP_ideal, temp_ideal, linewidth=2, label='ideal case')\n",
    "plt.xlabel('2nd stage heat load (watts)')\n",
    "plt.ylabel('2nd stage temperature (K)')\n",
    "plt.legend()"
   ]
  },
  {
   "cell_type": "code",
   "execution_count": 87,
   "metadata": {},
   "outputs": [],
   "source": [
    "def func(T1s, q, k):\n",
    "    return q*x/k/l/w + T1s"
   ]
  },
  {
   "cell_type": "code",
   "execution_count": 108,
   "metadata": {},
   "outputs": [
    {
     "name": "stdout",
     "output_type": "stream",
     "text": [
      "[71.2978     26.48204    61.69442286 60.82138857 -8.14832   ]\n"
     ]
    }
   ],
   "source": [
    "#normal configuration, foil in front of windows\n",
    "#temperatures for different configurations\n",
    "T1s = np.array([37., 61, 54, 50, 243]) #Stage 1 temperature\n",
    "Tsp = np.array([282., 152, 266, 259, 215]) #shield plate temperature\n",
    "k = 401 # copper thermal conductivity W/(K m)\n",
    "l = 0.1016 #meters (measured ~4 inch straps)\n",
    "w = 0.00762 #meters (measured ~0.3 inch)\n",
    "A = l*w\n",
    "x = 0.0010668 #thickness in meters (measured ~0.042 inch with callipers)\n",
    "\n",
    "#l2 = 0.1778\n",
    "#w2 = 0.0254\n",
    "#x2 = x\n",
    "#l = 12*l + l2\n",
    "#w = 12*w + w2\n",
    "#x = 12*x\n",
    "\n",
    "dT = Tsp - T1s\n",
    "q = k*A*dT/x\n",
    "\n",
    "print q/1000"
   ]
  },
  {
   "cell_type": "code",
   "execution_count": null,
   "metadata": {},
   "outputs": [],
   "source": [
    "idx = np.argsort(dT)\n",
    "dT = dT[idx]\n",
    "q = q[idx]\n",
    "\n",
    "popt, pcov = curve_fit(func, T1s, Tsp)"
   ]
  },
  {
   "cell_type": "code",
   "execution_count": 102,
   "metadata": {},
   "outputs": [
    {
     "data": {
      "text/plain": [
       "Text(0,0.5,'Heat loss (kW)')"
      ]
     },
     "execution_count": 102,
     "metadata": {},
     "output_type": "execute_result"
    }
   ],
   "source": [
    "plt.figure()\n",
    "plt.plot(dT, q/1000., '.', linewidth=2)\n",
    "plt.xlabel(r'$\\Delta T$ (K)')\n",
    "plt.ylabel('Heat loss (kW)')"
   ]
  },
  {
   "cell_type": "code",
   "execution_count": 77,
   "metadata": {},
   "outputs": [
    {
     "data": {
      "text/plain": [
       "<matplotlib.legend.Legend at 0x48591588>"
      ]
     },
     "execution_count": 77,
     "metadata": {},
     "output_type": "execute_result"
    }
   ],
   "source": [
    "plt.figure()\n",
    "plt.plot(T1s, q/1000., 'bo', linewidth=2, label='calculated Q')\n",
    "plt.plot(dT, func(dT, *popt), 'r-', label='fit: m=%.3f kW/K, Vz=%.3f kW' % tuple(popt))\n",
    "plt.xlabel(r'$T_{stage 1}$ (K)')\n",
    "plt.ylabel('Heat loss Q (kW)')\n",
    "plt.legend()"
   ]
  },
  {
   "cell_type": "code",
   "execution_count": 78,
   "metadata": {},
   "outputs": [
    {
     "name": "stdout",
     "output_type": "stream",
     "text": [
      "281.311047619\n"
     ]
    }
   ],
   "source": [
    "print k*l*w/x"
   ]
  },
  {
   "cell_type": "code",
   "execution_count": 53,
   "metadata": {},
   "outputs": [
    {
     "name": "stdout",
     "output_type": "stream",
     "text": [
      "[20.02042224 17.13286134 12.89777202 13.4752842  15.78533292]\n"
     ]
    }
   ],
   "source": [
    "#temperatures across straps\n",
    "T1s = np.array([56., 73., 102., 51., 53.]) #Stage 1 temperature\n",
    "Tsp = np.array([160., 162.,169, 121., 135.]) #shield plate temperature\n",
    "P = np.array([0., 10., 20., 0., 0.])\n",
    "k = 401. # copper thermal conductivity W/(K m)\n",
    "l = 0.1016 #meters (measured ~4 inch straps)\n",
    "w = 0.00762 #meters (measured ~0.3 inch)\n",
    "x = 0.0010668 #thickness in meters (measured ~0.042 inch with callipers)\n",
    "A = w*x\n",
    "\n",
    "dT = Tsp - T1s\n",
    "q = 6*k*A*dT/l\n",
    "\n",
    "print q"
   ]
  },
  {
   "cell_type": "code",
   "execution_count": 143,
   "metadata": {},
   "outputs": [
    {
     "data": {
      "text/plain": [
       "Text(0,0.5,'Thermal straps heat loss (W)')"
      ]
     },
     "execution_count": 143,
     "metadata": {},
     "output_type": "execute_result"
    }
   ],
   "source": [
    "plt.figure()\n",
    "plt.plot(P, q, 'ko')\n",
    "plt.xlabel('input power (W)')\n",
    "plt.ylabel('Thermal straps heat loss (W)')"
   ]
  },
  {
   "cell_type": "code",
   "execution_count": 134,
   "metadata": {},
   "outputs": [
    {
     "name": "stdout",
     "output_type": "stream",
     "text": [
      "0.0001354836\n",
      "[181.48530909 178.89266182 176.30001455]\n"
     ]
    }
   ],
   "source": [
    "#spider\n",
    "T2s = [32, 38.,49.]\n",
    "Tcp = np.array([172., 176., 185.])\n",
    "P = np.array([0., 10., 20.])\n",
    "k = 401. # copper thermal conductivity W/(K m)\n",
    "l = 0.10668 + 0.01905 #2nd number is radius of inner part of spider, rough approximation of total length\n",
    "w = 0.0254\n",
    "x = 0.005334\n",
    "A = w*x\n",
    "print A\n",
    "\n",
    "dT = Tcp - T2sq = k*A*dT/l\n",
    "\n",
    "\n",
    "\n",
    "print q*3 #3 arms\n",
    "\n"
   ]
  },
  {
   "cell_type": "code",
   "execution_count": 13,
   "metadata": {},
   "outputs": [
    {
     "name": "stdout",
     "output_type": "stream",
     "text": [
      "0.123580743813\n",
      "0.25265\n",
      "0.489138111274\n"
     ]
    }
   ],
   "source": [
    "#calculation for big  strap\n",
    "#density \n",
    "m = 13.5\n",
    "l = 12.192\n",
    "p = 8.96\n",
    "\n",
    "A = m/p/l\n",
    "\n",
    "print A\n",
    "\n",
    "#length measurement\n",
    "w = 1.63\n",
    "x = 0.155\n",
    "\n",
    "A2 = w*x\n",
    "\n",
    "print A2\n",
    "\n",
    "#area scale for previous measurement\n",
    "s = A/A2\n",
    "print s"
   ]
  },
  {
   "cell_type": "code",
   "execution_count": 14,
   "metadata": {},
   "outputs": [
    {
     "name": "stdout",
     "output_type": "stream",
     "text": [
      "0.0725007030371\n",
      "0.1397\n",
      "0.518974252234\n"
     ]
    }
   ],
   "source": [
    "m = 6.6\n",
    "l = 10.16\n",
    "A = m/p/l\n",
    "print A\n",
    "\n",
    "w = 1.27\n",
    "x = 0.11\n",
    "\n",
    "A2 = w*x\n",
    "\n",
    "print A2\n",
    "\n",
    "#area scale for previous measurement\n",
    "s = A/A2\n",
    "print s"
   ]
  },
  {
   "cell_type": "code",
   "execution_count": null,
   "metadata": {},
   "outputs": [],
   "source": []
  }
 ],
 "metadata": {
  "kernelspec": {
   "display_name": "Python 3 (ipykernel)",
   "language": "python",
   "name": "python3"
  },
  "language_info": {
   "codemirror_mode": {
    "name": "ipython",
    "version": 3
   },
   "file_extension": ".py",
   "mimetype": "text/x-python",
   "name": "python",
   "nbconvert_exporter": "python",
   "pygments_lexer": "ipython3",
   "version": "3.9.7"
  }
 },
 "nbformat": 4,
 "nbformat_minor": 2
}
