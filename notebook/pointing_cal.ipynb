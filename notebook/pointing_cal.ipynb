{
 "cells": [
  {
   "cell_type": "code",
   "execution_count": 3,
   "metadata": {},
   "outputs": [
    {
     "name": "stdout",
     "output_type": "stream",
     "text": [
      "D:\\software_git_repos\\Polaris\\polaris_software\\notebook\n",
      "Using matplotlib backend: Qt5Agg\n",
      "Populating the interactive namespace from numpy and matplotlib\n"
     ]
    },
    {
     "name": "stderr",
     "output_type": "stream",
     "text": [
      "C:\\Users\\labuser\\anaconda3\\envs\\py27\\lib\\site-packages\\IPython\\core\\magics\\pylab.py:161: UserWarning: pylab import has clobbered these variables: ['Widget', 'Text', 'Button']\n",
      "`%matplotlib` prevents importing * from pylab and numpy\n",
      "  \"\\n`%matplotlib` prevents importing * from pylab and numpy\"\n"
     ]
    }
   ],
   "source": [
    "import sys\n",
    "import os\n",
    "sys.path.append('../utils_meinhold')\n",
    "sys.path.append('../utils_zonca')\n",
    "sys.path.append('../utils_zonca/pointing')\n",
    "sys.path.append('../')\n",
    "sys.path.append('../telescope_control')\n",
    "sys.path.append('../VtoT')\n",
    "print os.getcwd()\n",
    "import convert\n",
    "import realtime_gp as rt\n",
    "import numpy as np\n",
    "import datetime \n",
    "import h5py\n",
    "import pandas as pd\n",
    "#from pointingtools import compute_parallactic_angle, altaz2ha \n",
    "#from planets import getlocation, getpointing\n",
    "import warnings\n",
    "from astropy.coordinates import AltAz, Angle, EarthLocation, ICRS, SkyCoord, frame_transform_graph\n",
    "from astropy import units as u\n",
    "#import ephem\n",
    "import matplotlib.pyplot as plt\n",
    "import time\n",
    "#import planets\n",
    "from datetime import timedelta\n",
    "import numpy.ma as ma\n",
    "\n",
    "import Tkinter,tkFileDialog\n",
    "\n",
    "from Tkinter import *\n",
    "import ttk\n",
    "\n",
    "import pickle\n",
    "import glob\n",
    "\n",
    "import cPickle\n",
    "\n",
    "%pylab\n"
   ]
  },
  {
   "cell_type": "code",
   "execution_count": 24,
   "metadata": {},
   "outputs": [
    {
     "name": "stdout",
     "output_type": "stream",
     "text": [
      "Warning: Cannot change to a different GUI toolkit: notebook. Using qt instead.\n"
     ]
    }
   ],
   "source": [
    "#%matplotlib inline"
   ]
  },
  {
   "cell_type": "code",
   "execution_count": 4,
   "metadata": {},
   "outputs": [],
   "source": [
    "def get_pointing_files(filelist=None):\n",
    "\n",
    "    if filelist==None:\n",
    "        root=Tkinter.Tk()\n",
    "        filelist = list(tkFileDialog.askopenfilenames(\\\n",
    "        initialdir='D://software_git_repos/polaris/polaris_data/pointing_data',parent=root,title='Choose a set of files'))\n",
    "        root.destroy()\n",
    "    filelist.sort()\n",
    "    \n",
    "    return filelist"
   ]
  },
  {
   "cell_type": "code",
   "execution_count": 5,
   "metadata": {},
   "outputs": [],
   "source": [
    "def read_some_data(filelist=None):\n",
    "\n",
    "    if filelist==None:\n",
    "        root=Tkinter.Tk()\n",
    "        filelist = list(tkFileDialog.askopenfilenames(\\\n",
    "        initialdir='D://software_git_repos/polaris/polaris_data/demod_data/',parent=root,title='Choose a set of files'))\n",
    "        root.destroy()\n",
    "    filelist.sort()\n",
    "    \n",
    "    dlist=[]\n",
    "    for f in filelist:\n",
    "        hf=h5py.File(f)\n",
    "        dlist.append(hf['demod_data'])\n",
    "    d=np.concatenate(dlist)\n",
    "    hf.close() \n",
    "\n",
    "    datadict=d\n",
    "        \n",
    "    return datadict, filelist"
   ]
  },
  {
   "cell_type": "code",
   "execution_count": 6,
   "metadata": {},
   "outputs": [],
   "source": [
    "def get_file_times(fld):\n",
    "    startfile = fld[0][:65]+fld[0][71:-2]+'dat'\n",
    "    endfile = fld[-1][:65]+fld[-1][71:-2]+'dat'\n",
    "    \n",
    "    #starttime = os.path.getctime(startfile)\n",
    "    starttime= os.stat(startfile).st_mtime\n",
    "    starttime = datetime.datetime.fromtimestamp(starttime)\n",
    "\n",
    "    #endtime = os.path.getctime(endfile)\n",
    "    endtime= os.stat(endfile).st_mtime\n",
    "    endtime = datetime.datetime.fromtimestamp(endtime)\n",
    "    \n",
    "    return starttime, endtime"
   ]
  },
  {
   "cell_type": "code",
   "execution_count": 7,
   "metadata": {},
   "outputs": [],
   "source": [
    "def plotnow_azrevsig(data, az, chan, var, res = 1.0, jump = 180.,minmax=None,supply_index=False):\n",
    "    #flp=select_h5(fpath,yrmoday,st_hour,st_minute,ed_hour,ed_minute)\n",
    "    #fld_demod, fld =select_dat(fpath,yrmoday,st_hour,st_minute,ed_hour,ed_minute)\n",
    "    #i=0\n",
    "    #while len(flp)<3:\n",
    "    #\ti+=1\n",
    "    #\tflp=select_h5(fpath,yrmoday,st_hour,int(st_minute)-i,ed_hour,int(ed_minute)+i)\n",
    "\n",
    "    #pp=rt.get_h5_pointing(flp)\n",
    "    ##dd=get_demodulated_data_from_list(fld,supply_index=supply_index)\n",
    "    #dd=rt.get_all_demodulated_data(fld_demod, fld)\n",
    "    #combined=rt.combine_cofe_h5_pointing(dd,pp)\n",
    "\n",
    "    #synchronized data and az values\n",
    "    az1 = az\n",
    "    data1 = data\n",
    "    steps = len(data1)\n",
    "\n",
    "    #convert to temp for cryo sensors\n",
    "    if chan == 12:\n",
    "        data1 = convert.convert(data1, 'i')\n",
    "    if chan == 13:\n",
    "        data1 = convert.convert(data1, 'e')\n",
    "    if chan == 14:\n",
    "        data1 = convert.convert(data1, 'h')\n",
    "    if chan == 15:\n",
    "        data1 = convert.convert(data1, 'l')\n",
    "\n",
    "    #resolution\n",
    "    dx = res\n",
    "    dy = 1.0\n",
    "\n",
    "    #set up empty lists to append each revolution to\n",
    "    data = []\n",
    "    az = []\n",
    "    iaz = [0]\n",
    "    rev = 0\n",
    "\n",
    "    #determine indices in azimuth/data array which correspond to a new revolution of the telescope\n",
    "    for i in range(steps):\n",
    "        #round values to resolution for comparison later\n",
    "        az1[i] = rt.round_fraction(az1[i], dx)\n",
    "        if i > 0:\n",
    "            if abs(az1[i] - az1[i-1]) >= jump:\n",
    "                iaz.append(i)\n",
    "                rev += 1\n",
    "\n",
    "    #append each revolution array to a list\t    \n",
    "    for j in range(rev):\n",
    "        az.append(az1[iaz[j]:iaz[j+1]])\n",
    "        data.append(data1[iaz[j]:iaz[j+1]])\n",
    "\n",
    "    #append the last revolution\n",
    "    data.append(data1[iaz[-1]:])\n",
    "    az.append(az1[iaz[-1]:])\n",
    "    rev += 1\n",
    "\n",
    "    print rev\n",
    "\n",
    "    data = np.asarray(data)\n",
    "    az = np.asarray(az)\n",
    "\n",
    "    #create grid for plotting\n",
    "    x, y = np.arange(0., 360.+dx, dx), np.arange(0., rev - 1 + dy, dy)\n",
    "    AZ, REV = np.meshgrid(x, y)\n",
    "\n",
    "    #set up empty array\n",
    "    z = np.zeros(len(x)*len(y))\n",
    "    sig = np.reshape(z, (len(y), len(x)))\n",
    "\n",
    "    #small number for comparing floats\n",
    "    epsilon = 1e-6\n",
    "\n",
    "    #fill signal array with data points\n",
    "    for r in range(rev):\n",
    "        for a in range(len(x)):\n",
    "            #find indices where combined azimuth data fits on x grid\n",
    "            idx = np.where(abs(az[r] - x[a]) < epsilon)[0]\n",
    "            #if idx length is 0 this will create a mask on that point, in idx len > 1, avg data points in the same bin\n",
    "            sig[r][a] = data[r][idx].mean()\n",
    "\n",
    "    #mask invalid values, i.e. where there are no data points\n",
    "    sig = ma.masked_invalid(sig)\n",
    "\n",
    "    #change units on plot label\n",
    "    if int(chan[2:]) < 12:\n",
    "        unit = 'V'\n",
    "    else:\n",
    "        unit = 'K' \n",
    "\n",
    "    name = rt.chantoname(chan)\n",
    "\n",
    "    plt.pcolormesh(AZ, REV, sig)\n",
    "    plt.colorbar(label = 'Signal, %s' % unit)\n",
    "    if minmax != None:\n",
    "        plt.clim(minmax[0],minmax[1])\n",
    "    else:  \n",
    "        plt.clim(data1.min(),data1.max())    #plt.clim(-1.0,1.0)\n",
    "    plt.axis([0., 360., 0., rev - 1])\n",
    "    plt.ylabel('revolution #')\n",
    "    plt.xlabel('azimuth (deg)')\n",
    "    plt.title('%s %s data binned to azimuth and revolution #' % (name, var))\n",
    "    plt.grid()\n",
    "    plt.show()"
   ]
  },
  {
   "cell_type": "code",
   "execution_count": 8,
   "metadata": {},
   "outputs": [],
   "source": [
    "def plotnow_azelsig(data, az, el, chan, var, res, minmax=None, radec=False, supply_index=False):\n",
    "    #flp=select_h5(fpath,yrmoday,st_hour,st_minute,ed_hour,ed_minute)\n",
    "    #fld_demod, fld =select_dat(fpath,yrmoday,st_hour,st_minute,ed_hour,ed_minute)\n",
    "    #i=0\n",
    "    #while len(flp)<3:\n",
    "    #\ti+=1\n",
    "    #\tflp=select_h5(fpath,yrmoday,st_hour,int(st_minute)-i,ed_hour,int(ed_minute)+i)\n",
    "\n",
    "    #pp=get_h5_pointing(flp)\n",
    "    ##dd=get_demodulated_data_from_list(fld,supply_index=supply_index)\n",
    "    #dd=get_all_demodulated_data(fld_demod, fld)\t\n",
    "    #combined=combine_cofe_h5_pointing(dd,pp)\n",
    "\n",
    "    #synchronized data az and el values\n",
    "    az1, el1 = az, el\n",
    "    data = data\n",
    "\n",
    "    #convert to temp for cryo sensors\n",
    "    if chan == 12:\n",
    "        data = convert.convert(data, 'i')\n",
    "    if chan == 13:\n",
    "        data = convert.convert(data, 'e')\n",
    "    if chan == 14:\n",
    "        data = convert.convert(data, 'h')\n",
    "    if chan == 15:\n",
    "        data = convert.convert(data, 'l')\n",
    "\n",
    "    steps = len(data)\n",
    "\n",
    "    #set az/el resolution\n",
    "    dx = res\n",
    "    dy = res\n",
    "\n",
    "    #set up bins/grid\n",
    "    if radec:\n",
    "        x, y = np.arange(0., 360.+dx, dx), np.arange(-90., 90. + dy, dy)\n",
    "    else:\n",
    "        x, y = np.arange(0., 360.+dx, dx), np.arange(0., 90. + dy, dy)\n",
    "    AZ, EL = np.meshgrid(x, y)\n",
    "\n",
    "    #small number for comparing floats\n",
    "    epsilon = 1e-6\n",
    "\n",
    "    #set up matrix for signal \n",
    "    z1 = np.zeros(len(x)*len(y))\n",
    "    sig = np.reshape(z1, (len(y), len(x)))\n",
    "\n",
    "    #set up matrix for keeping track of data points in single bin for averaging\n",
    "    z2 = np.zeros(len(x)*len(y))\n",
    "    count = np.reshape(z2, (len(y), len(x)))\n",
    "\n",
    "    for i in range(steps):\n",
    "\n",
    "        #round az/el points for comparison with grid\t    \n",
    "        el1[i] = rt.round_fraction(el1[i], dy)\n",
    "        az1[i] = rt.round_fraction(az1[i], dx)  \n",
    "\n",
    "        #find where data points belong in grid\n",
    "        iel = np.where(abs(y - el1[i]) < epsilon)[0][0]\n",
    "        iaz = np.where(abs(x - az1[i]) < epsilon)[0][0]\n",
    "\n",
    "        #add 1 each time data point lands in same bin\n",
    "        count[iel][iaz] += 1\n",
    "\n",
    "        #add total number of data values in bin\n",
    "        sig[iel][iaz] = sig[iel][iaz] + data[i]  \n",
    "\n",
    "    #mask 0 count values so they dont show up in color plot\n",
    "    count = ma.masked_where(count == 0.0, count)\n",
    "\n",
    "    #take average of all data points in single bin\n",
    "    sig = sig/count\n",
    "    \n",
    "    try:\n",
    "        #change units on plot label\n",
    "        if int(chan[2:]) < 12:\n",
    "            unit = 'V'\n",
    "        else:\n",
    "            unit = 'K' \n",
    "            \n",
    "        name = rt.chantoname(chan)\n",
    "    except:\n",
    "        unit = 'C'\n",
    "        name = chan\n",
    "\n",
    "    \n",
    "\n",
    "    plt.pcolormesh(AZ, EL, sig)\n",
    "    plt.colorbar(label = 'Signal, %s' % unit)\n",
    "    if minmax != None:\n",
    "        plt.clim(minmax[0],minmax[1])\n",
    "    else:  \n",
    "        plt.clim(data.min(),data.max())\n",
    "    if radec == False:\n",
    "        plt.axis([AZ.min(), AZ.max(), EL.min(), EL.max()])\n",
    "        plt.ylabel('elevation (deg)')\n",
    "        plt.xlabel('azimuth (deg)')\n",
    "    else:\n",
    "        plt.axis([0., 360., -90, 90.])\n",
    "        plt.xlabel('ra (deg)')\n",
    "        plt.ylabel('dec (deg)')\n",
    "    plt.title('%s %s data binned to azimuth and elevation' % (name, var))\n",
    "    plt.grid()\n",
    "    plt.show()"
   ]
  },
  {
   "cell_type": "code",
   "execution_count": 9,
   "metadata": {},
   "outputs": [],
   "source": [
    "def get_h5_pointing_gps(filelist,startrev=None, stoprev=None,angles_in_ints=False,azel_era=3):\n",
    "    \"\"\"\n",
    "        modify to fast version, dont' average the multiple values, just take the first one. will cause a little bias but its very fast.\n",
    "    also implmented removal of erroneous endof h5 file crap, and az outliers\n",
    "    azel_era determines what az/el offsets to use, 1 means before 9/26/2013, 2 means 9/26-10/3 (inclusive), 3 means after 10/4.\n",
    "    \"\"\"\n",
    "\n",
    "\n",
    "\n",
    "    hpointing=[]\n",
    "    filelist.sort()\n",
    "\n",
    "    for f in filelist:\n",
    "        '''\n",
    "        if f[79:88] != 'corrected':\n",
    "            slimit = 22144\n",
    "        else:\n",
    "            slimit = 11512\n",
    "        stats=os.stat(f)\n",
    "        if stats.st_size<slimit:\n",
    "            print f,stats.st_size\n",
    "        if stats.st_size >= slimit:\n",
    "        '''\n",
    "        h=h5py.File(f)\n",
    "        hh=h['data']\n",
    "        hpointing.append(hh[:])\n",
    "        #print hpointinng\n",
    "        h.close()\n",
    "\n",
    "    hpointing = np.concatenate(hpointing)\n",
    "    #cut out blank lines from unfilled files\n",
    "    if startrev != None:\n",
    "        hpointing=hpointing[hpointing['gpstime'] > startrev]\n",
    "    if stoprev != None:\n",
    "        hpointing=hpointing[hpointing['gpstime'] < stoprev]\n",
    "\n",
    "    hrevlist,inds=np.unique(hpointing['gpstime'],return_index=True)\n",
    "\n",
    "\n",
    "    #gpslock=hpointing['gpslock']#[inds]\n",
    "    \n",
    "    return {'gpstime':hrevlist}"
   ]
  },
  {
   "cell_type": "code",
   "execution_count": 10,
   "metadata": {},
   "outputs": [],
   "source": [
    "ddict={}"
   ]
  },
  {
   "cell_type": "code",
   "execution_count": 11,
   "metadata": {},
   "outputs": [],
   "source": [
    "dd, fld = read_some_data()"
   ]
  },
  {
   "cell_type": "code",
   "execution_count": 12,
   "metadata": {},
   "outputs": [],
   "source": [
    "flp = get_pointing_files()"
   ]
  },
  {
   "cell_type": "code",
   "execution_count": 13,
   "metadata": {},
   "outputs": [],
   "source": [
    "pp = rt.get_h5_pointing(flp)\n",
    "#pp = get_h5_pointing_gps(flp)"
   ]
  },
  {
   "cell_type": "code",
   "execution_count": 14,
   "metadata": {
    "scrolled": true
   },
   "outputs": [
    {
     "data": {
      "text/plain": [
       "['gpstime',\n",
       " 'el',\n",
       " 'computer time',\n",
       " 'el offset',\n",
       " 'Calibrator',\n",
       " 'H2',\n",
       " 'H3',\n",
       " 'H1',\n",
       " 'Amplifier',\n",
       " 'az offset',\n",
       " 'Cooler',\n",
       " 'flag',\n",
       " 'x tilt',\n",
       " 'Phidget Temp',\n",
       " 'y tilt',\n",
       " 'az',\n",
       " 'Backend TSS']"
      ]
     },
     "execution_count": 14,
     "metadata": {},
     "output_type": "execute_result"
    }
   ],
   "source": [
    "pp.keys()"
   ]
  },
  {
   "cell_type": "code",
   "execution_count": 17,
   "metadata": {},
   "outputs": [],
   "source": [
    "combined = rt.combine_cofe_h5_pointing(dd, pp)"
   ]
  },
  {
   "cell_type": "code",
   "execution_count": 25,
   "metadata": {
    "collapsed": true
   },
   "outputs": [],
   "source": [
    "#lvl1f=h5py.File('D:/software_git_repos/greenpol/telescope_control/data_aquisition/level1/20180510/ch1-10_34_06-15_56_00.h5')['data']"
   ]
  },
  {
   "cell_type": "code",
   "execution_count": 18,
   "metadata": {},
   "outputs": [],
   "source": [
    "starttime, endtime = rt.get_file_times(fld)\n",
    "dt , ut= rt.convert_gpstime(starttime, combined['gpstime']/1000, format='datetime')\n",
    "dt = np.asarray(dt)"
   ]
  },
  {
   "cell_type": "code",
   "execution_count": 19,
   "metadata": {},
   "outputs": [],
   "source": [
    "az, el = combined['az'], combined['el']"
   ]
  },
  {
   "cell_type": "code",
   "execution_count": 20,
   "metadata": {},
   "outputs": [],
   "source": [
    "chan = 'H3HiDC'\n",
    "var = 'T'\n",
    "data = combined['sci_data'][rt.nametochan(chan)][var]"
   ]
  },
  {
   "cell_type": "code",
   "execution_count": 21,
   "metadata": {},
   "outputs": [],
   "source": [
    "isort = np.argsort(az)\n",
    "iaz = az[isort]\n",
    "idata = data[isort]"
   ]
  },
  {
   "cell_type": "code",
   "execution_count": 22,
   "metadata": {},
   "outputs": [],
   "source": [
    "gpstime = (combined['gpstime'] - combined['gpstime'][0])/3600"
   ]
  },
  {
   "cell_type": "code",
   "execution_count": 25,
   "metadata": {},
   "outputs": [
    {
     "name": "stdout",
     "output_type": "stream",
     "text": [
      "508\n"
     ]
    },
    {
     "name": "stderr",
     "output_type": "stream",
     "text": [
      "C:\\Users\\labuser\\anaconda3\\envs\\py27\\lib\\site-packages\\ipykernel_launcher.py:80: RuntimeWarning: Mean of empty slice.\n"
     ]
    }
   ],
   "source": [
    "figure()\n",
    "plotnow_azrevsig(data, az, rt.nametochan(chan), var, 0.5, minmax = [-0.3, 0.05])"
   ]
  },
  {
   "cell_type": "code",
   "execution_count": 23,
   "metadata": {},
   "outputs": [],
   "source": [
    "figure()\n",
    "plotnow_azelsig(data, az, el, rt.nametochan(chan), var, 0.5, radec=False, minmax = [-0.06, 0.06])"
   ]
  },
  {
   "cell_type": "code",
   "execution_count": 1,
   "metadata": {},
   "outputs": [
    {
     "ename": "NameError",
     "evalue": "name 'getpointing' is not defined",
     "output_type": "error",
     "traceback": [
      "\u001b[1;31m---------------------------------------------------------------------------\u001b[0m",
      "\u001b[1;31mNameError\u001b[0m                                 Traceback (most recent call last)",
      "\u001b[1;32m<ipython-input-1-58962337e46a>\u001b[0m in \u001b[0;36m<module>\u001b[1;34m()\u001b[0m\n\u001b[0;32m      1\u001b[0m \u001b[1;31m#azsuntrue, altsuntrue = getpointing('UCSB', 'Sun', datetime.datetime.fromtimestamp(time.time()))\u001b[0m\u001b[1;33m\u001b[0m\u001b[1;33m\u001b[0m\u001b[0m\n\u001b[1;32m----> 2\u001b[1;33m \u001b[0mazsuntrue\u001b[0m\u001b[1;33m,\u001b[0m \u001b[0maltsuntrue\u001b[0m \u001b[1;33m=\u001b[0m \u001b[0mgetpointing\u001b[0m\u001b[1;33m(\u001b[0m\u001b[1;34m'Sedgwick'\u001b[0m\u001b[1;33m,\u001b[0m \u001b[1;34m'Sun'\u001b[0m\u001b[1;33m,\u001b[0m \u001b[0mdatetime\u001b[0m\u001b[1;33m.\u001b[0m\u001b[0mdatetime\u001b[0m\u001b[1;33m.\u001b[0m\u001b[0mutcnow\u001b[0m\u001b[1;33m(\u001b[0m\u001b[1;33m)\u001b[0m\u001b[1;33m)\u001b[0m\u001b[1;33m\u001b[0m\u001b[0m\n\u001b[0m\u001b[0;32m      3\u001b[0m \u001b[1;33m\u001b[0m\u001b[0m\n\u001b[0;32m      4\u001b[0m \u001b[1;32mprint\u001b[0m \u001b[0maltsuntrue\u001b[0m\u001b[1;33m,\u001b[0m \u001b[0mazsuntrue\u001b[0m\u001b[1;33m\u001b[0m\u001b[0m\n",
      "\u001b[1;31mNameError\u001b[0m: name 'getpointing' is not defined"
     ]
    }
   ],
   "source": [
    "#azsuntrue, altsuntrue = getpointing('UCSB', 'Sun', datetime.datetime.fromtimestamp(time.time()))\n",
    "azsuntrue, altsuntrue = getpointing('Sedgwick', 'Sun', datetime.datetime.utcnow())\n",
    "\n",
    "print altsuntrue, azsuntrue"
   ]
  },
  {
   "cell_type": "code",
   "execution_count": 149,
   "metadata": {},
   "outputs": [
    {
     "name": "stdout",
     "output_type": "stream",
     "text": [
      "0.204999923706\n",
      "12.9049999714\n"
     ]
    }
   ],
   "source": [
    " \n",
    "location = getlocation('Sedgwick')\n",
    "\n",
    "t1 = time.time()\n",
    "#create ra dec sky object\n",
    "azel = SkyCoord(az = az, alt = el, obstime = dt, location = location, frame = 'altaz', unit='deg')\n",
    "t2 = time.time()\n",
    "print t2-t1\n",
    "with warnings.catch_warnings():\n",
    "    warnings.simplefilter(\"ignore\")\n",
    "    #convert from ra dec to az/el for pointing\n",
    "    radec = azel.icrs\n",
    "print time.time()-t2\n",
    "ra = radec.ra.deg\n",
    "dec = radec.dec.deg"
   ]
  },
  {
   "cell_type": "code",
   "execution_count": 157,
   "metadata": {},
   "outputs": [],
   "source": [
    "figure()\n",
    "plotnow_azelsig(data, ra, dec, rt.nametochan(chan), var, 0.5, radec=True, minmax = [-0.5, 0.0])"
   ]
  },
  {
   "cell_type": "code",
   "execution_count": 63,
   "metadata": {
    "collapsed": true
   },
   "outputs": [],
   "source": [
    "xa = az.copy()"
   ]
  },
  {
   "cell_type": "code",
   "execution_count": 64,
   "metadata": {
    "collapsed": true
   },
   "outputs": [],
   "source": [
    "datas = [x for _,x in sorted(zip(xa,data))]\n",
    "xa = sorted(xa)"
   ]
  },
  {
   "cell_type": "code",
   "execution_count": 124,
   "metadata": {},
   "outputs": [
    {
     "name": "stdout",
     "output_type": "stream",
     "text": [
      "75016\n",
      "-1.10123515129\n",
      "-1.10123515129\n"
     ]
    }
   ],
   "source": [
    "imin = np.where(data==data.min())[0][0]\n",
    "print imin\n",
    "print data[imin]\n",
    "print data.min()"
   ]
  },
  {
   "cell_type": "code",
   "execution_count": 125,
   "metadata": {},
   "outputs": [],
   "source": [
    "azsuntrue, altsuntrue = getpointing('Sedgwick', 'Moon', datetime.datetime.fromtimestamp(ut[imin]))\n"
   ]
  },
  {
   "cell_type": "code",
   "execution_count": 126,
   "metadata": {},
   "outputs": [
    {
     "name": "stdout",
     "output_type": "stream",
     "text": [
      "time at maximum:  2020-10-30 03:45:10.235000\n",
      "ephem az, el: 114.816222222 36.86375\n",
      "current encoder az, el: 115.0 35.0009846379\n",
      "az offset:  0.183777777778\n",
      "el offset: -1.86276536208\n",
      "applied az offset (start/finish):  272.888 272.888\n"
     ]
    }
   ],
   "source": [
    "azsuntrue, altsuntrue = getpointing('Sedgwick', 'Moon', datetime.datetime.fromtimestamp(ut[imin]))\n",
    "azsunfalse, altsunfalse = az[imin], el[imin] \n",
    "print 'time at maximum: ', dt[imin]\n",
    "print 'ephem az, el:', azsuntrue, altsuntrue\n",
    "print 'current encoder az, el:', azsunfalse, altsunfalse\n",
    "print 'az offset: ', azsunfalse - azsuntrue\n",
    "print 'el offset:', altsunfalse - altsuntrue\n",
    "print 'applied az offset (start/finish): ', pp['az offset'][0], pp['az offset'][-1]"
   ]
  },
  {
   "cell_type": "code",
   "execution_count": 10,
   "metadata": {
    "collapsed": true
   },
   "outputs": [],
   "source": [
    "cra = 15*(5 + (34./60.) + (31.94/3600.))\n",
    "cdec = 22 + (52.2/3600.)\n",
    "\n",
    "caz, cel = planets.radec_to_azel(cra, cdec, 'Sedgwick', datetime.datetime.utcnow())"
   ]
  },
  {
   "cell_type": "code",
   "execution_count": 11,
   "metadata": {},
   "outputs": [
    {
     "name": "stdout",
     "output_type": "stream",
     "text": [
      "22.0145 83.6330833333\n",
      "63.2813567275 248.838721759\n"
     ]
    }
   ],
   "source": [
    "print cdec, cra\n",
    "print cel, caz"
   ]
  },
  {
   "cell_type": "code",
   "execution_count": 95,
   "metadata": {},
   "outputs": [
    {
     "name": "stdout",
     "output_type": "stream",
     "text": [
      "time at maximum:  2018-07-31 14:29:38.845000\n",
      "ephem az, el: 176.911416667 35.5960833333\n",
      "current encoder az, el: 135.0 35.6416519072\n",
      "az offset:  -41.9114166667\n",
      "el offset: 0.0455685738542\n",
      "applied az offset (start/finish):  242.188481657 242.188481657\n"
     ]
    }
   ],
   "source": [
    "azsuntrue, altsuntrue = getpointing('Sedgwick', 'Sun', datetime.datetime.fromtimestamp(ut[mi:ma][imin]))\n",
    "azsunfalse, altsunfalse = az[mi:ma][imin], el[mi:ma][imin] \n",
    "print 'time at maximum: ', dt[mi:ma][imin]\n",
    "print 'ephem az, el:', azsuntrue, altsuntrue\n",
    "print 'current encoder az, el:', azsunfalse, altsunfalse\n",
    "print 'az offset: ', azsunfalse - azsuntrue\n",
    "print 'el offset:', altsunfalse - altsuntrue\n",
    "print 'applied az offset (start/finish): ', pp['az offset'][0], pp['az offset'][-1]"
   ]
  },
  {
   "cell_type": "code",
   "execution_count": 10,
   "metadata": {},
   "outputs": [
    {
     "name": "stderr",
     "output_type": "stream",
     "text": [
      "WARNING: AstropyDeprecationWarning: The longitude property is deprecated and may be removed in a future version.\n",
      "        Use `lon` instead. [astropy.utils.decorators]\n",
      "WARNING: AstropyDeprecationWarning: The latitude property is deprecated and may be removed in a future version.\n",
      "        Use `lat` instead. [astropy.utils.decorators]\n"
     ]
    }
   ],
   "source": [
    "hours = 12\n",
    "sph = 30\n",
    "samples = hours*sph\n",
    "times = np.linspace(0, hours, samples)\n",
    "\n",
    "azsun = []\n",
    "elsun = []\n",
    "azmoon = []\n",
    "elmoon = []\n",
    "\n",
    "target = 'Sun'\n",
    "target2 = 'Moon'\n",
    "\n",
    "for t in times:\n",
    "    azs, els = getpointing('Sedgwick', target, datetime.datetime.utcnow()+timedelta(0, (t)*3600.))\n",
    "    azsun.append(azs)\n",
    "    elsun.append(els)\n",
    "    #azm, elm = getpointing('Sedgwick', target2, datetime.datetime.utcnow()+timedelta(0, t*3600.))\n",
    "    #azmoon.append(azm)\n",
    "    #elmoon.append(elm)\n",
    "    \n",
    "azsun = np.asarray(azsun)\n",
    "elsun = np.asarray(elsun)\n",
    "#azmoon = np.asarray(azmoon)\n",
    "#elmoon = np.asarray(elmoon)"
   ]
  },
  {
   "cell_type": "code",
   "execution_count": 11,
   "metadata": {},
   "outputs": [
    {
     "data": {
      "text/plain": [
       "<matplotlib.legend.Legend at 0x2bee2c88>"
      ]
     },
     "execution_count": 11,
     "metadata": {},
     "output_type": "execute_result"
    }
   ],
   "source": [
    "\n",
    "\n",
    "figure()\n",
    "plot(times,elsun, 'r-',label=target+' el')\n",
    "#plot(times, elmoon, 'b-',label=target2+' el')\n",
    "#title('%s el' % target)\n",
    "xlabel('time (hours)')\n",
    "ylabel('el (deg)')\n",
    "legend()\n",
    "\n",
    "figure()\n",
    "plot(times,azsun, 'r-',label=target+' az')\n",
    "#plot(times, azmoon, 'b-',label=target2+' az')\n",
    "#title('%s el' % target)\n",
    "xlabel('time (hours)')\n",
    "ylabel('az (deg)')\n",
    "legend()\n",
    "\n",
    "#figure()\n",
    "#plot(times, azsun, 'r-',label='sun')\n",
    "#plot(times, azmoon, 'b-',label='moon')\n",
    "#title('sun/moon az')\n",
    "#xlabel('time (hours)')\n",
    "#ylabel('az (deg)')\n",
    "#legend()\n",
    "\n",
    "#figure()\n",
    "#dist = np.sqrt((((azsun - azmoon)**2) + ((elsun - elmoon)**2))) \n",
    "#plot(times, dist, 'r-',label='distance')\n",
    "#title('sun/moon distance apart')\n",
    "#xlabel('time (hours)')\n",
    "#ylabel('distance (deg)')\n",
    "#legend()\n"
   ]
  },
  {
   "cell_type": "code",
   "execution_count": 61,
   "metadata": {},
   "outputs": [
    {
     "name": "stdout",
     "output_type": "stream",
     "text": [
      "83.6330833333 22.0145\n",
      "98.344834452 51.9933099819\n"
     ]
    }
   ],
   "source": [
    "ra = (5. + 34./60. + 31.94/3600.)*360./24.\n",
    "dec = 22 + 52.2/3600.\n",
    "\n",
    "azt, elt = planets.radec_to_azel(ra, dec, 'Sedgwick', datetime.datetime.utcnow())\n",
    "\n",
    "\n",
    "print ra, dec\n",
    "print azt, elt"
   ]
  },
  {
   "cell_type": "code",
   "execution_count": 32,
   "metadata": {},
   "outputs": [],
   "source": [
    "ra = (5. + 34./60. + 31.94/3600.)*360./24.\n",
    "dec = 22 + 52.2/3600.\n",
    "\n",
    "hours = 2\n",
    "sph = 30\n",
    "samples = hours*sph\n",
    "times = np.linspace(0., hours, samples)\n",
    "\n",
    "aztau = []\n",
    "eltau = []\n",
    "\n",
    "for t in times:\n",
    "    #azt, elt = getpointing('Greenland', [ra, dec, 'RADEC'], datetime.datetime.utcnow()+timedelta(0, t*3600.))\n",
    "    azt, elt = planets.radec_to_azel(ra, dec, 'Sedgwick', datetime.datetime.utcnow()+timedelta(0, t*3600.))\n",
    "    aztau.append(azt)\n",
    "    eltau.append(elt)"
   ]
  },
  {
   "cell_type": "code",
   "execution_count": 50,
   "metadata": {},
   "outputs": [
    {
     "data": {
      "text/plain": [
       "<matplotlib.text.Text at 0xd2f63c8>"
      ]
     },
     "execution_count": 50,
     "metadata": {},
     "output_type": "execute_result"
    }
   ],
   "source": [
    "figure()\n",
    "plot(times, aztau, 'g-')\n",
    "title('tau a az')\n",
    "xlabel('time (hours)')\n",
    "ylabel('az (deg)')\n",
    "\n",
    "figure()\n",
    "plot(times, eltau, 'g-')\n",
    "title('tau a el')\n",
    "xlabel('time (hours)')\n",
    "ylabel('el (deg)')\n",
    "\n",
    "#figure()\n",
    "#dist = np.sqrt((((azsun - aztau)**2) + ((elsun - eltau)**2))) \n",
    "#plot(times, dist, 'r-',label=' tau/sun distance')\n",
    "#xlabel('time (hours)')\n",
    "#ylabel('distance (deg)')\n",
    "\n",
    "#dist2 = np.sqrt((((aztau - azmoon)**2) + ((eltau - elmoon)**2))) \n",
    "#plot(times, dist2, 'g-',label='tau/moon distance')\n",
    "#xlabel('time (hours)')\n",
    "#ylabel('distance (deg)')\n",
    "#legend()"
   ]
  },
  {
   "cell_type": "code",
   "execution_count": null,
   "metadata": {
    "collapsed": true
   },
   "outputs": [],
   "source": []
  }
 ],
 "metadata": {
  "kernelspec": {
   "display_name": "Python 2",
   "language": "python",
   "name": "python2"
  },
  "language_info": {
   "codemirror_mode": {
    "name": "ipython",
    "version": 2
   },
   "file_extension": ".py",
   "mimetype": "text/x-python",
   "name": "python",
   "nbconvert_exporter": "python",
   "pygments_lexer": "ipython2",
   "version": "2.7.16"
  }
 },
 "nbformat": 4,
 "nbformat_minor": 2
}
